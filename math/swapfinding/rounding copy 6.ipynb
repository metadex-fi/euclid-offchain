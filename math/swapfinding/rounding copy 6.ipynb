{
 "cells": [
  {
   "cell_type": "code",
   "execution_count": 230,
   "metadata": {},
   "outputs": [],
   "source": [
    "import plotly.express as px\n",
    "import pandas as pd\n",
    "import math"
   ]
  },
  {
   "cell_type": "code",
   "execution_count": 231,
   "metadata": {},
   "outputs": [],
   "source": [
    "m_b = 128243199501723361359275202929838997632567303002501\n",
    "m_s = 100000000000000000000000000000000000000000000000000\n",
    "min_delta_b = 1\n",
    "min_delta_s = 1\n",
    "max_delta_b = 74\n",
    "max_delta_s = 807\n",
    "stepping = \"buying\"\n",
    "slopes = [[\n",
    "        (1, 2),\n",
    "        (2, 3),\n",
    "        (3, 4),\n",
    "        (4, 6),\n",
    "        (4, 6),\n",
    "        (5, 7),\n",
    "        (6, 8),\n",
    "        (7, 9),\n",
    "        (11, 15),\n",
    "        (8, 11),\n",
    "        (12, 16),\n",
    "        (16, 21),\n",
    "        (20, 26),\n",
    "        (24, 31),\n",
    "        (28, 36),\n",
    "        (32, 42),\n",
    "        (29, 38),\n",
    "        (33, 43),\n",
    "        (37, 48),\n",
    "        (41, 53),\n",
    "        (45, 58),\n",
    "        (49, 63),\n",
    "        (53, 68),\n",
    "        (57, 74),\n",
    "        (54, 70),\n",
    "        (58, 75),\n",
    "        (62, 80),\n",
    "        (66, 85),\n",
    "        (70, 90),\n",
    "        (74, 95),\n",
    "        (78, 101),\n",
    "]]"
   ]
  },
  {
   "cell_type": "code",
   "execution_count": 232,
   "metadata": {},
   "outputs": [],
   "source": [
    "slopes_ = []\n",
    "for slope in slopes:\n",
    "    slope_ = []\n",
    "    slope__ = []\n",
    "    prevloss = None\n",
    "    for (delta_b, delta_s) in slope:\n",
    "        # if stepping == \"buying\":\n",
    "        #     loss = (-m_b * buying % m_s) / m_s\n",
    "        # else:\n",
    "        #     loss = (m_s * selling % m_b) / m_b\n",
    "        loss = delta_s * m_s / m_b - math.floor(delta_s * m_s / m_b)\n",
    "        slope__.append((delta_b, delta_s, loss))\n",
    "        if prevloss is not None and prevloss < loss:\n",
    "            prevloss = loss\n",
    "            loss = -loss\n",
    "        else:\n",
    "            prevloss = loss\n",
    "\n",
    "        slope_.append((delta_b, delta_s, loss))\n",
    "    slopes_.append(slope_)\n",
    "    slopes_.append(slope__)\n",
    "slopes = slopes_"
   ]
  },
  {
   "cell_type": "code",
   "execution_count": 233,
   "metadata": {},
   "outputs": [],
   "source": [
    "perfect = []\n",
    "best_imperfect = []\n",
    "other_imperfect = []\n",
    "delta_b_too_low = []\n",
    "suboptimal_delta_b = []\n",
    "prev_delta_b = None\n",
    "best_imperfect_loss = None\n",
    "for delta_s in range(min_delta_s, max_delta_s + 1):\n",
    "    delta_b = math.floor(delta_s * m_s / m_b)\n",
    "    # if (delta_b == 0):\n",
    "    #     print(\"delta_b == 0 for\", delta_s)\n",
    "    #     continue\n",
    "    loss = delta_s * m_s / m_b - math.floor(delta_s * m_s / m_b)\n",
    "    if (delta_b > max_delta_b):\n",
    "        delta_b = max_delta_b\n",
    "    if (delta_b < min_delta_b):\n",
    "        delta_b_too_low.append((delta_b, delta_s, loss))\n",
    "        continue\n",
    "    if (delta_b == prev_delta_b):\n",
    "        suboptimal_delta_b.append((delta_b, delta_s, loss))\n",
    "        continue\n",
    "    prev_delta_b = delta_b\n",
    "    if delta_b * m_b == delta_s * m_s:\n",
    "      perfect.append((delta_b, delta_s, loss))\n",
    "    elif best_imperfect_loss is None or loss <= best_imperfect_loss:\n",
    "      best_imperfect_loss = loss\n",
    "      best_imperfect.append((delta_b, delta_s, loss))\n",
    "    else:\n",
    "      other_imperfect.append((delta_b, delta_s, loss))\n",
    "    if (delta_b == max_delta_b):\n",
    "        break\n",
    "    \n",
    "delta_b_too_low = []"
   ]
  },
  {
   "cell_type": "code",
   "execution_count": 234,
   "metadata": {},
   "outputs": [],
   "source": [
    "# Convert your data lists to Pandas DataFrames for easier handling\n",
    "df1 = pd.DataFrame(perfect, columns=['delta_b', 'delta_s', 'loss'])\n",
    "df2 = pd.DataFrame(best_imperfect, columns=['delta_b', 'delta_s', 'loss'])\n",
    "df3 = pd.DataFrame(other_imperfect, columns=['delta_b', 'delta_s', 'loss'])\n",
    "df4 = pd.DataFrame(delta_b_too_low, columns=['delta_b', 'delta_s', 'loss'])\n",
    "df5 = pd.DataFrame(suboptimal_delta_b, columns=['delta_b', 'delta_s', 'loss'])\n",
    "# df6 = pd.DataFrame(first_slope, columns=['delta_b', 'delta_s', 'loss'])\n",
    "# df7 = pd.DataFrame(second_slope, columns=['delta_b', 'delta_s', 'loss'])\n",
    "slopes_df = [pd.DataFrame(slope, columns=['delta_b', 'delta_s', 'loss']) for slope in slopes]\n",
    "for i in range(len(slopes_df)):\n",
    "    slopes_df[i]['Series'] = 'slope' + str(i + 1)\n",
    "\n",
    "# Combine the dataframes with an identifier column\n",
    "df1['Series'] = 'Without'\n",
    "df2['Series'] = 'best'\n",
    "df3['Series'] = 'other'\n",
    "df4['Series'] = 'too low'\n",
    "df5['Series'] = 'subopt'\n",
    "# df6['Series'] = '1st'\n",
    "# df7['Series'] = '2nd'\n",
    "# pd.concat([df5, df1, df3] + slopes_df + [df2])\n",
    "combined_df = pd.concat([df4, df5, df1, df3, df2]) \n",
    "\n",
    "# # Add a new column for point size based on the series\n",
    "# # Assuming 'Series' is a column that identifies each series\n",
    "# series_size_mapping = {series: i+1 for i, series in enumerate(combined_df['Series'].unique())}\n",
    "# combined_df['point_size'] = combined_df['Series'].map(series_size_mapping)\n",
    "\n",
    "# # Sort the DataFrame in reverse order of point size\n",
    "# combined_df = combined_df.sort_values(by='point_size', ascending=False)"
   ]
  },
  {
   "cell_type": "code",
   "execution_count": 235,
   "metadata": {},
   "outputs": [
    {
     "data": {
      "application/vnd.plotly.v1+json": {
       "config": {
        "plotlyServerURL": "https://plot.ly"
       },
       "data": [
        {
         "customdata": [
          [
           5
          ],
          [
           10
          ],
          [
           14
          ],
          [
           19
          ],
          [
           23
          ],
          [
           28
          ],
          [
           32
          ],
          [
           37
          ],
          [
           41
          ],
          [
           46
          ],
          [
           50
          ],
          [
           55
          ],
          [
           60
          ],
          [
           64
          ],
          [
           69
          ],
          [
           73
          ],
          [
           78
          ],
          [
           82
          ],
          [
           87
          ],
          [
           91
          ]
         ],
         "hovertemplate": "Series=subopt<br>delta_b=%{x}<br>loss=%{y}<br>delta_s=%{customdata[0]}<extra></extra>",
         "legendgroup": "subopt",
         "marker": {
          "color": "#636efa",
          "line": {
           "width": 0
          },
          "symbol": "circle"
         },
         "mode": "markers",
         "name": "subopt",
         "orientation": "v",
         "showlegend": true,
         "type": "scatter",
         "x": [
          3,
          7,
          10,
          14,
          17,
          21,
          24,
          28,
          31,
          35,
          38,
          42,
          46,
          49,
          53,
          56,
          60,
          63,
          67,
          70
         ],
         "xaxis": "x",
         "y": [
          0.8988422149689184,
          0.7976844299378367,
          0.9167582019129714,
          0.8156004168818907,
          0.9346741888570236,
          0.8335164038259428,
          0.9525901758010775,
          0.8514323907699968,
          0.9705061627451315,
          0.8693483777140472,
          0.9884221496891854,
          0.8872643646581011,
          0.7861065796270239,
          0.905180351602155,
          0.8040225665710707,
          0.923096338546209,
          0.8219385535151247,
          0.9410123254902629,
          0.8398545404591857,
          0.9589283124343098
         ],
         "yaxis": "y"
        },
        {
         "customdata": [
          [
           6
          ],
          [
           7
          ],
          [
           8
          ],
          [
           11
          ],
          [
           12
          ],
          [
           13
          ],
          [
           15
          ],
          [
           16
          ],
          [
           17
          ],
          [
           18
          ],
          [
           20
          ],
          [
           21
          ],
          [
           22
          ],
          [
           24
          ],
          [
           25
          ],
          [
           26
          ],
          [
           27
          ],
          [
           29
          ],
          [
           30
          ],
          [
           31
          ],
          [
           33
          ],
          [
           34
          ],
          [
           35
          ],
          [
           36
          ],
          [
           38
          ],
          [
           39
          ],
          [
           40
          ],
          [
           42
          ],
          [
           43
          ],
          [
           44
          ],
          [
           45
          ],
          [
           47
          ],
          [
           48
          ],
          [
           49
          ],
          [
           51
          ],
          [
           52
          ],
          [
           53
          ],
          [
           54
          ],
          [
           56
          ],
          [
           57
          ],
          [
           58
          ],
          [
           61
          ],
          [
           62
          ],
          [
           63
          ],
          [
           65
          ],
          [
           66
          ],
          [
           67
          ],
          [
           68
          ],
          [
           70
          ],
          [
           71
          ],
          [
           72
          ],
          [
           74
          ],
          [
           75
          ],
          [
           76
          ],
          [
           77
          ],
          [
           79
          ],
          [
           80
          ],
          [
           81
          ],
          [
           83
          ],
          [
           84
          ],
          [
           85
          ],
          [
           86
          ],
          [
           88
          ],
          [
           89
          ],
          [
           90
          ],
          [
           92
          ],
          [
           93
          ],
          [
           94
          ],
          [
           95
          ]
         ],
         "hovertemplate": "Series=other<br>delta_b=%{x}<br>loss=%{y}<br>delta_s=%{customdata[0]}<extra></extra>",
         "legendgroup": "other",
         "marker": {
          "color": "#EF553B",
          "line": {
           "width": 0
          },
          "symbol": "circle"
         },
         "mode": "markers",
         "name": "other",
         "orientation": "v",
         "showlegend": true,
         "type": "scatter",
         "x": [
          4,
          5,
          6,
          8,
          9,
          10,
          11,
          12,
          13,
          14,
          15,
          16,
          17,
          18,
          19,
          20,
          21,
          22,
          23,
          24,
          25,
          26,
          27,
          28,
          29,
          30,
          31,
          32,
          33,
          34,
          35,
          36,
          37,
          38,
          39,
          40,
          41,
          42,
          43,
          44,
          45,
          47,
          48,
          49,
          50,
          51,
          52,
          53,
          54,
          55,
          56,
          57,
          58,
          59,
          60,
          61,
          62,
          63,
          64,
          65,
          66,
          67,
          68,
          69,
          70,
          71,
          72,
          73,
          74
         ],
         "xaxis": "x",
         "y": [
          0.678610657962702,
          0.4583791009564857,
          0.23814754395026938,
          0.5774528729316213,
          0.35722131592540407,
          0.13698975891918863,
          0.696526644906756,
          0.47629508790053876,
          0.2560635308943233,
          0.035831973888106106,
          0.5953688598756735,
          0.375137302869458,
          0.15490574586324257,
          0.7144426318508081,
          0.4942110748445927,
          0.27397951783837726,
          0.05374796083215827,
          0.6132848468197274,
          0.39305328981351195,
          0.17282173280729296,
          0.7323586187948621,
          0.5121270617886466,
          0.29189550478242765,
          0.07166394777621221,
          0.6312008337637813,
          0.41096927675756234,
          0.1907377197513469,
          0.750274605738916,
          0.5300430487327006,
          0.30981149172648514,
          0.0895799347202626,
          0.6491168207078317,
          0.4288852637016163,
          0.20865370669540084,
          0.76819059268297,
          0.5479590356767545,
          0.327727478670532,
          0.10749592166431654,
          0.6670328076518857,
          0.4468012506456702,
          0.22656969363945478,
          0.5658750226208014,
          0.3456434656145859,
          0.12541190860837048,
          0.6849487945959396,
          0.46471723758972416,
          0.24448568058350872,
          0.024254123577293285,
          0.5837910095648553,
          0.36355945255863986,
          0.14332789555242442,
          0.7028647815399935,
          0.4826332245337781,
          0.26240166752756267,
          0.04217011052134012,
          0.6017069965089092,
          0.3814754395026938,
          0.16124388249647836,
          0.7207807684840475,
          0.500549211477832,
          0.2803176544716166,
          0.06008609746540117,
          0.6196229834529703,
          0.39939142644674064,
          0.1791598694405252,
          0.7386967554280943,
          0.5184651984218789,
          0.29823364141566344,
          0.078002084409448
         ],
         "yaxis": "y"
        },
        {
         "customdata": [
          [
           2
          ],
          [
           3
          ],
          [
           4
          ],
          [
           9
          ],
          [
           59
          ]
         ],
         "hovertemplate": "Series=best<br>delta_b=%{x}<br>loss=%{y}<br>delta_s=%{customdata[0]}<extra></extra>",
         "legendgroup": "best",
         "marker": {
          "color": "#00cc96",
          "line": {
           "width": 0
          },
          "symbol": "circle"
         },
         "mode": "markers",
         "name": "best",
         "orientation": "v",
         "showlegend": true,
         "type": "scatter",
         "x": [
          1,
          2,
          3,
          7,
          46
         ],
         "xaxis": "x",
         "y": [
          0.5595368859875673,
          0.339305328981351,
          0.11907377197513469,
          0.017915986944053053,
          0.006338136633239344
         ],
         "yaxis": "y"
        },
        {
         "customdata": [
          [
           2
          ],
          [
           3
          ],
          [
           4
          ],
          [
           6
          ],
          [
           6
          ],
          [
           7
          ],
          [
           8
          ],
          [
           9
          ],
          [
           15
          ],
          [
           11
          ],
          [
           16
          ],
          [
           21
          ],
          [
           26
          ],
          [
           31
          ],
          [
           36
          ],
          [
           42
          ],
          [
           38
          ],
          [
           43
          ],
          [
           48
          ],
          [
           53
          ],
          [
           58
          ],
          [
           63
          ],
          [
           68
          ],
          [
           74
          ],
          [
           70
          ],
          [
           75
          ],
          [
           80
          ],
          [
           85
          ],
          [
           90
          ],
          [
           95
          ],
          [
           101
          ]
         ],
         "hovertemplate": "Series=slope1<br>delta_b=%{x}<br>loss=%{y}<br>delta_s=%{customdata[0]}<extra></extra>",
         "legendgroup": "slope1",
         "line": {
          "color": "#636efa",
          "dash": "solid"
         },
         "marker": {
          "line": {
           "width": 0
          },
          "size": 10,
          "symbol": "circle-open"
         },
         "mode": "lines+markers",
         "name": "slope1",
         "orientation": "v",
         "showlegend": true,
         "type": "scatter",
         "x": [
          1,
          2,
          3,
          4,
          4,
          5,
          6,
          7,
          11,
          8,
          12,
          16,
          20,
          24,
          28,
          32,
          29,
          33,
          37,
          41,
          45,
          49,
          53,
          57,
          54,
          58,
          62,
          66,
          70,
          74,
          78
         ],
         "xaxis": "x",
         "y": [
          0.5595368859875673,
          0.339305328981351,
          0.11907377197513469,
          -0.678610657962702,
          0.678610657962702,
          0.4583791009564857,
          0.23814754395026938,
          0.017915986944053053,
          -0.696526644906756,
          0.5774528729316213,
          0.47629508790053876,
          0.375137302869458,
          0.27397951783837726,
          0.17282173280729296,
          0.07166394777621221,
          -0.750274605738916,
          0.6312008337637813,
          0.5300430487327006,
          0.4288852637016163,
          0.327727478670532,
          0.22656969363945478,
          0.12541190860837048,
          0.024254123577293285,
          -0.7028647815399935,
          0.5837910095648553,
          0.4826332245337781,
          0.3814754395026938,
          0.2803176544716166,
          0.1791598694405252,
          0.078002084409448,
          -0.7566127423721554
         ],
         "yaxis": "y"
        },
        {
         "customdata": [
          [
           2
          ],
          [
           3
          ],
          [
           4
          ],
          [
           6
          ],
          [
           6
          ],
          [
           7
          ],
          [
           8
          ],
          [
           9
          ],
          [
           15
          ],
          [
           11
          ],
          [
           16
          ],
          [
           21
          ],
          [
           26
          ],
          [
           31
          ],
          [
           36
          ],
          [
           42
          ],
          [
           38
          ],
          [
           43
          ],
          [
           48
          ],
          [
           53
          ],
          [
           58
          ],
          [
           63
          ],
          [
           68
          ],
          [
           74
          ],
          [
           70
          ],
          [
           75
          ],
          [
           80
          ],
          [
           85
          ],
          [
           90
          ],
          [
           95
          ],
          [
           101
          ]
         ],
         "hovertemplate": "Series=slope2<br>delta_b=%{x}<br>loss=%{y}<br>delta_s=%{customdata[0]}<extra></extra>",
         "legendgroup": "slope2",
         "line": {
          "color": "#EF553B",
          "dash": "solid"
         },
         "marker": {
          "line": {
           "width": 0
          },
          "size": 10,
          "symbol": "circle-open"
         },
         "mode": "lines+markers",
         "name": "slope2",
         "orientation": "v",
         "showlegend": true,
         "type": "scatter",
         "x": [
          1,
          2,
          3,
          4,
          4,
          5,
          6,
          7,
          11,
          8,
          12,
          16,
          20,
          24,
          28,
          32,
          29,
          33,
          37,
          41,
          45,
          49,
          53,
          57,
          54,
          58,
          62,
          66,
          70,
          74,
          78
         ],
         "xaxis": "x",
         "y": [
          0.5595368859875673,
          0.339305328981351,
          0.11907377197513469,
          0.678610657962702,
          0.678610657962702,
          0.4583791009564857,
          0.23814754395026938,
          0.017915986944053053,
          0.696526644906756,
          0.5774528729316213,
          0.47629508790053876,
          0.375137302869458,
          0.27397951783837726,
          0.17282173280729296,
          0.07166394777621221,
          0.750274605738916,
          0.6312008337637813,
          0.5300430487327006,
          0.4288852637016163,
          0.327727478670532,
          0.22656969363945478,
          0.12541190860837048,
          0.024254123577293285,
          0.7028647815399935,
          0.5837910095648553,
          0.4826332245337781,
          0.3814754395026938,
          0.2803176544716166,
          0.1791598694405252,
          0.078002084409448,
          0.7566127423721554
         ],
         "yaxis": "y"
        }
       ],
       "layout": {
        "font": {
         "color": "white"
        },
        "height": 1600,
        "legend": {
         "title": {
          "text": "Series"
         },
         "tracegroupgap": 0
        },
        "margin": {
         "t": 60
        },
        "paper_bgcolor": "rgb(17,17,17)",
        "plot_bgcolor": "rgb(17,17,17)",
        "template": {
         "data": {
          "bar": [
           {
            "error_x": {
             "color": "#2a3f5f"
            },
            "error_y": {
             "color": "#2a3f5f"
            },
            "marker": {
             "line": {
              "color": "#E5ECF6",
              "width": 0.5
             },
             "pattern": {
              "fillmode": "overlay",
              "size": 10,
              "solidity": 0.2
             }
            },
            "type": "bar"
           }
          ],
          "barpolar": [
           {
            "marker": {
             "line": {
              "color": "#E5ECF6",
              "width": 0.5
             },
             "pattern": {
              "fillmode": "overlay",
              "size": 10,
              "solidity": 0.2
             }
            },
            "type": "barpolar"
           }
          ],
          "carpet": [
           {
            "aaxis": {
             "endlinecolor": "#2a3f5f",
             "gridcolor": "white",
             "linecolor": "white",
             "minorgridcolor": "white",
             "startlinecolor": "#2a3f5f"
            },
            "baxis": {
             "endlinecolor": "#2a3f5f",
             "gridcolor": "white",
             "linecolor": "white",
             "minorgridcolor": "white",
             "startlinecolor": "#2a3f5f"
            },
            "type": "carpet"
           }
          ],
          "choropleth": [
           {
            "colorbar": {
             "outlinewidth": 0,
             "ticks": ""
            },
            "type": "choropleth"
           }
          ],
          "contour": [
           {
            "colorbar": {
             "outlinewidth": 0,
             "ticks": ""
            },
            "colorscale": [
             [
              0,
              "#0d0887"
             ],
             [
              0.1111111111111111,
              "#46039f"
             ],
             [
              0.2222222222222222,
              "#7201a8"
             ],
             [
              0.3333333333333333,
              "#9c179e"
             ],
             [
              0.4444444444444444,
              "#bd3786"
             ],
             [
              0.5555555555555556,
              "#d8576b"
             ],
             [
              0.6666666666666666,
              "#ed7953"
             ],
             [
              0.7777777777777778,
              "#fb9f3a"
             ],
             [
              0.8888888888888888,
              "#fdca26"
             ],
             [
              1,
              "#f0f921"
             ]
            ],
            "type": "contour"
           }
          ],
          "contourcarpet": [
           {
            "colorbar": {
             "outlinewidth": 0,
             "ticks": ""
            },
            "type": "contourcarpet"
           }
          ],
          "heatmap": [
           {
            "colorbar": {
             "outlinewidth": 0,
             "ticks": ""
            },
            "colorscale": [
             [
              0,
              "#0d0887"
             ],
             [
              0.1111111111111111,
              "#46039f"
             ],
             [
              0.2222222222222222,
              "#7201a8"
             ],
             [
              0.3333333333333333,
              "#9c179e"
             ],
             [
              0.4444444444444444,
              "#bd3786"
             ],
             [
              0.5555555555555556,
              "#d8576b"
             ],
             [
              0.6666666666666666,
              "#ed7953"
             ],
             [
              0.7777777777777778,
              "#fb9f3a"
             ],
             [
              0.8888888888888888,
              "#fdca26"
             ],
             [
              1,
              "#f0f921"
             ]
            ],
            "type": "heatmap"
           }
          ],
          "heatmapgl": [
           {
            "colorbar": {
             "outlinewidth": 0,
             "ticks": ""
            },
            "colorscale": [
             [
              0,
              "#0d0887"
             ],
             [
              0.1111111111111111,
              "#46039f"
             ],
             [
              0.2222222222222222,
              "#7201a8"
             ],
             [
              0.3333333333333333,
              "#9c179e"
             ],
             [
              0.4444444444444444,
              "#bd3786"
             ],
             [
              0.5555555555555556,
              "#d8576b"
             ],
             [
              0.6666666666666666,
              "#ed7953"
             ],
             [
              0.7777777777777778,
              "#fb9f3a"
             ],
             [
              0.8888888888888888,
              "#fdca26"
             ],
             [
              1,
              "#f0f921"
             ]
            ],
            "type": "heatmapgl"
           }
          ],
          "histogram": [
           {
            "marker": {
             "pattern": {
              "fillmode": "overlay",
              "size": 10,
              "solidity": 0.2
             }
            },
            "type": "histogram"
           }
          ],
          "histogram2d": [
           {
            "colorbar": {
             "outlinewidth": 0,
             "ticks": ""
            },
            "colorscale": [
             [
              0,
              "#0d0887"
             ],
             [
              0.1111111111111111,
              "#46039f"
             ],
             [
              0.2222222222222222,
              "#7201a8"
             ],
             [
              0.3333333333333333,
              "#9c179e"
             ],
             [
              0.4444444444444444,
              "#bd3786"
             ],
             [
              0.5555555555555556,
              "#d8576b"
             ],
             [
              0.6666666666666666,
              "#ed7953"
             ],
             [
              0.7777777777777778,
              "#fb9f3a"
             ],
             [
              0.8888888888888888,
              "#fdca26"
             ],
             [
              1,
              "#f0f921"
             ]
            ],
            "type": "histogram2d"
           }
          ],
          "histogram2dcontour": [
           {
            "colorbar": {
             "outlinewidth": 0,
             "ticks": ""
            },
            "colorscale": [
             [
              0,
              "#0d0887"
             ],
             [
              0.1111111111111111,
              "#46039f"
             ],
             [
              0.2222222222222222,
              "#7201a8"
             ],
             [
              0.3333333333333333,
              "#9c179e"
             ],
             [
              0.4444444444444444,
              "#bd3786"
             ],
             [
              0.5555555555555556,
              "#d8576b"
             ],
             [
              0.6666666666666666,
              "#ed7953"
             ],
             [
              0.7777777777777778,
              "#fb9f3a"
             ],
             [
              0.8888888888888888,
              "#fdca26"
             ],
             [
              1,
              "#f0f921"
             ]
            ],
            "type": "histogram2dcontour"
           }
          ],
          "mesh3d": [
           {
            "colorbar": {
             "outlinewidth": 0,
             "ticks": ""
            },
            "type": "mesh3d"
           }
          ],
          "parcoords": [
           {
            "line": {
             "colorbar": {
              "outlinewidth": 0,
              "ticks": ""
             }
            },
            "type": "parcoords"
           }
          ],
          "pie": [
           {
            "automargin": true,
            "type": "pie"
           }
          ],
          "scatter": [
           {
            "fillpattern": {
             "fillmode": "overlay",
             "size": 10,
             "solidity": 0.2
            },
            "type": "scatter"
           }
          ],
          "scatter3d": [
           {
            "line": {
             "colorbar": {
              "outlinewidth": 0,
              "ticks": ""
             }
            },
            "marker": {
             "colorbar": {
              "outlinewidth": 0,
              "ticks": ""
             }
            },
            "type": "scatter3d"
           }
          ],
          "scattercarpet": [
           {
            "marker": {
             "colorbar": {
              "outlinewidth": 0,
              "ticks": ""
             }
            },
            "type": "scattercarpet"
           }
          ],
          "scattergeo": [
           {
            "marker": {
             "colorbar": {
              "outlinewidth": 0,
              "ticks": ""
             }
            },
            "type": "scattergeo"
           }
          ],
          "scattergl": [
           {
            "marker": {
             "colorbar": {
              "outlinewidth": 0,
              "ticks": ""
             }
            },
            "type": "scattergl"
           }
          ],
          "scattermapbox": [
           {
            "marker": {
             "colorbar": {
              "outlinewidth": 0,
              "ticks": ""
             }
            },
            "type": "scattermapbox"
           }
          ],
          "scatterpolar": [
           {
            "marker": {
             "colorbar": {
              "outlinewidth": 0,
              "ticks": ""
             }
            },
            "type": "scatterpolar"
           }
          ],
          "scatterpolargl": [
           {
            "marker": {
             "colorbar": {
              "outlinewidth": 0,
              "ticks": ""
             }
            },
            "type": "scatterpolargl"
           }
          ],
          "scatterternary": [
           {
            "marker": {
             "colorbar": {
              "outlinewidth": 0,
              "ticks": ""
             }
            },
            "type": "scatterternary"
           }
          ],
          "surface": [
           {
            "colorbar": {
             "outlinewidth": 0,
             "ticks": ""
            },
            "colorscale": [
             [
              0,
              "#0d0887"
             ],
             [
              0.1111111111111111,
              "#46039f"
             ],
             [
              0.2222222222222222,
              "#7201a8"
             ],
             [
              0.3333333333333333,
              "#9c179e"
             ],
             [
              0.4444444444444444,
              "#bd3786"
             ],
             [
              0.5555555555555556,
              "#d8576b"
             ],
             [
              0.6666666666666666,
              "#ed7953"
             ],
             [
              0.7777777777777778,
              "#fb9f3a"
             ],
             [
              0.8888888888888888,
              "#fdca26"
             ],
             [
              1,
              "#f0f921"
             ]
            ],
            "type": "surface"
           }
          ],
          "table": [
           {
            "cells": {
             "fill": {
              "color": "#EBF0F8"
             },
             "line": {
              "color": "white"
             }
            },
            "header": {
             "fill": {
              "color": "#C8D4E3"
             },
             "line": {
              "color": "white"
             }
            },
            "type": "table"
           }
          ]
         },
         "layout": {
          "annotationdefaults": {
           "arrowcolor": "#2a3f5f",
           "arrowhead": 0,
           "arrowwidth": 1
          },
          "autotypenumbers": "strict",
          "coloraxis": {
           "colorbar": {
            "outlinewidth": 0,
            "ticks": ""
           }
          },
          "colorscale": {
           "diverging": [
            [
             0,
             "#8e0152"
            ],
            [
             0.1,
             "#c51b7d"
            ],
            [
             0.2,
             "#de77ae"
            ],
            [
             0.3,
             "#f1b6da"
            ],
            [
             0.4,
             "#fde0ef"
            ],
            [
             0.5,
             "#f7f7f7"
            ],
            [
             0.6,
             "#e6f5d0"
            ],
            [
             0.7,
             "#b8e186"
            ],
            [
             0.8,
             "#7fbc41"
            ],
            [
             0.9,
             "#4d9221"
            ],
            [
             1,
             "#276419"
            ]
           ],
           "sequential": [
            [
             0,
             "#0d0887"
            ],
            [
             0.1111111111111111,
             "#46039f"
            ],
            [
             0.2222222222222222,
             "#7201a8"
            ],
            [
             0.3333333333333333,
             "#9c179e"
            ],
            [
             0.4444444444444444,
             "#bd3786"
            ],
            [
             0.5555555555555556,
             "#d8576b"
            ],
            [
             0.6666666666666666,
             "#ed7953"
            ],
            [
             0.7777777777777778,
             "#fb9f3a"
            ],
            [
             0.8888888888888888,
             "#fdca26"
            ],
            [
             1,
             "#f0f921"
            ]
           ],
           "sequentialminus": [
            [
             0,
             "#0d0887"
            ],
            [
             0.1111111111111111,
             "#46039f"
            ],
            [
             0.2222222222222222,
             "#7201a8"
            ],
            [
             0.3333333333333333,
             "#9c179e"
            ],
            [
             0.4444444444444444,
             "#bd3786"
            ],
            [
             0.5555555555555556,
             "#d8576b"
            ],
            [
             0.6666666666666666,
             "#ed7953"
            ],
            [
             0.7777777777777778,
             "#fb9f3a"
            ],
            [
             0.8888888888888888,
             "#fdca26"
            ],
            [
             1,
             "#f0f921"
            ]
           ]
          },
          "colorway": [
           "#636efa",
           "#EF553B",
           "#00cc96",
           "#ab63fa",
           "#FFA15A",
           "#19d3f3",
           "#FF6692",
           "#B6E880",
           "#FF97FF",
           "#FECB52"
          ],
          "font": {
           "color": "#2a3f5f"
          },
          "geo": {
           "bgcolor": "white",
           "lakecolor": "white",
           "landcolor": "#E5ECF6",
           "showlakes": true,
           "showland": true,
           "subunitcolor": "white"
          },
          "hoverlabel": {
           "align": "left"
          },
          "hovermode": "closest",
          "mapbox": {
           "style": "light"
          },
          "paper_bgcolor": "white",
          "plot_bgcolor": "#E5ECF6",
          "polar": {
           "angularaxis": {
            "gridcolor": "white",
            "linecolor": "white",
            "ticks": ""
           },
           "bgcolor": "#E5ECF6",
           "radialaxis": {
            "gridcolor": "white",
            "linecolor": "white",
            "ticks": ""
           }
          },
          "scene": {
           "xaxis": {
            "backgroundcolor": "#E5ECF6",
            "gridcolor": "white",
            "gridwidth": 2,
            "linecolor": "white",
            "showbackground": true,
            "ticks": "",
            "zerolinecolor": "white"
           },
           "yaxis": {
            "backgroundcolor": "#E5ECF6",
            "gridcolor": "white",
            "gridwidth": 2,
            "linecolor": "white",
            "showbackground": true,
            "ticks": "",
            "zerolinecolor": "white"
           },
           "zaxis": {
            "backgroundcolor": "#E5ECF6",
            "gridcolor": "white",
            "gridwidth": 2,
            "linecolor": "white",
            "showbackground": true,
            "ticks": "",
            "zerolinecolor": "white"
           }
          },
          "shapedefaults": {
           "line": {
            "color": "#2a3f5f"
           }
          },
          "ternary": {
           "aaxis": {
            "gridcolor": "white",
            "linecolor": "white",
            "ticks": ""
           },
           "baxis": {
            "gridcolor": "white",
            "linecolor": "white",
            "ticks": ""
           },
           "bgcolor": "#E5ECF6",
           "caxis": {
            "gridcolor": "white",
            "linecolor": "white",
            "ticks": ""
           }
          },
          "title": {
           "x": 0.05
          },
          "xaxis": {
           "automargin": true,
           "gridcolor": "white",
           "linecolor": "white",
           "ticks": "",
           "title": {
            "standoff": 15
           },
           "zerolinecolor": "white",
           "zerolinewidth": 2
          },
          "yaxis": {
           "automargin": true,
           "gridcolor": "white",
           "linecolor": "white",
           "ticks": "",
           "title": {
            "standoff": 15
           },
           "zerolinecolor": "white",
           "zerolinewidth": 2
          }
         }
        },
        "title": {
         "text": "effective loss by delta buying"
        },
        "xaxis": {
         "anchor": "y",
         "domain": [
          0,
          1
         ],
         "gridcolor": "rgb(80,80,80)",
         "title": {
          "text": "delta b"
         }
        },
        "yaxis": {
         "anchor": "x",
         "domain": [
          0,
          1
         ],
         "gridcolor": "rgb(80,80,80)",
         "title": {
          "text": "loss"
         }
        }
       }
      }
     },
     "metadata": {},
     "output_type": "display_data"
    }
   ],
   "source": [
    "\n",
    "# Create an interactive scatter plot\n",
    "fig = px.scatter(combined_df, x='delta_b', y='loss', color='Series', #size='point_size',\n",
    "                 hover_data=['delta_b', 'delta_s', 'loss'])\n",
    "\n",
    "# Add lines for specified series\n",
    "# for series in slopes_df:\n",
    "#     fig.add_trace(px.line(series, x='delta_s', y='loss', color='Series').data[0])\n",
    "\n",
    "# Concatenate all DataFrames in slopes_df\n",
    "all_slopes_df = pd.concat(slopes_df)\n",
    "# Create a line plot for all slopes\n",
    "line_fig = px.line(all_slopes_df, x='delta_b', y='loss', color='Series', hover_data=['delta_b', 'delta_s', 'loss'], markers=True)\n",
    "\n",
    "# Add each line trace individually\n",
    "for trace in line_fig.data:\n",
    "    trace.update(marker=dict(symbol='circle-open', size=10)) \n",
    "    fig.add_trace(trace)\n",
    "\n",
    "# Update marker properties to have darker outlines\n",
    "# fig.update_traces(marker=dict(line=dict(width=1, color='rgba(40,40,40,1)')))  # Adjust the color as needed\n",
    "\n",
    "# Update marker properties to remove outlines or match the fill color\n",
    "fig.update_traces(marker=dict(line=dict(width=0)))  # Removes the outline\n",
    "\n",
    "# Alternatively, to set the outline to the same color as the fill:\n",
    "# fig.update_traces(marker=dict(line=dict(width=1, color='SAME_COLOR')))\n",
    "\n",
    "\n",
    "# Update the layout for dark mode\n",
    "fig.update_layout(\n",
    "    title='Scatter Plot in Dark Mode',\n",
    "    plot_bgcolor='rgb(17,17,17)',  # Dark plot background\n",
    "    paper_bgcolor='rgb(17,17,17)',  # Dark paper background\n",
    "    font_color='white',  # White text for better contrast\n",
    "    xaxis=dict(\n",
    "        gridcolor='rgb(80,80,80)',  # Darker gridlines\n",
    "    ),\n",
    "    yaxis=dict(\n",
    "        gridcolor='rgb(80,80,80)',  # Darker gridlines\n",
    "    )\n",
    ")\n",
    "\n",
    "# Add plot titles and labels\n",
    "fig.update_layout(title='effective loss by delta buying',\n",
    "                  xaxis_title='delta b',\n",
    "                  yaxis_title='loss',\n",
    "                  # showlegend=False,\n",
    "                  height=1600)\n",
    "                  \n",
    "\n",
    "# fig.update_yaxes(range=[combined_df['loss'].min(), combined_df['loss'].max()])  # Adjust the range as needed\n",
    "\n",
    "# # Sort the DataFrame by 'ratio' in descending order\n",
    "# sorted_df = combined_df.sort_values(by='loss', ascending=False)\n",
    "\n",
    "# # Adding a line that connects the dots in decreasing order of their y-value\n",
    "# fig.add_trace(px.line(sorted_df, x='delta_b', y='loss').data[0])\n",
    "\n",
    "# # Find the five lowest unique y-values (ratios)\n",
    "# lowest_ratios = combined_df['loss'].unique()\n",
    "# lowest_ratios.sort()\n",
    "\n",
    "# # Group by 'ratio' and draw lines for each of the five lowest ratios\n",
    "# for loss in lowest_ratios[:20]:\n",
    "#     group = combined_df[combined_df['loss'] == loss]\n",
    "#     # Sort each group by 'delta_b' to make line connections logical\n",
    "#     sorted_group = group.sort_values(by='delta_b')\n",
    "#     fig.add_trace(px.line(sorted_group, x='delta_b', y='loss').data[0])\n",
    "\n",
    "# # Adjusting the plot size and layout\n",
    "# fig.update_layout(title='Scatter Plot with Lines for Lowest Y-values',\n",
    "#                   xaxis_title='Delta_b',\n",
    "#                   yaxis_title='loss',\n",
    "#                   height=800)\n",
    "\n",
    "# Show the plot\n",
    "fig.show()\n"
   ]
  },
  {
   "cell_type": "code",
   "execution_count": 236,
   "metadata": {},
   "outputs": [
    {
     "data": {
      "application/vnd.plotly.v1+json": {
       "config": {
        "plotlyServerURL": "https://plot.ly"
       },
       "data": [
        {
         "customdata": [
          [
           3
          ],
          [
           7
          ],
          [
           10
          ],
          [
           14
          ],
          [
           17
          ],
          [
           21
          ],
          [
           24
          ],
          [
           28
          ],
          [
           31
          ],
          [
           35
          ],
          [
           38
          ],
          [
           42
          ],
          [
           46
          ],
          [
           49
          ],
          [
           53
          ],
          [
           56
          ],
          [
           60
          ],
          [
           63
          ],
          [
           67
          ],
          [
           70
          ]
         ],
         "hovertemplate": "Series=subopt<br>delta_s=%{x}<br>loss=%{y}<br>delta_b=%{customdata[0]}<extra></extra>",
         "legendgroup": "subopt",
         "marker": {
          "color": "#636efa",
          "line": {
           "width": 0
          },
          "symbol": "circle"
         },
         "mode": "markers",
         "name": "subopt",
         "orientation": "v",
         "showlegend": true,
         "type": "scatter",
         "x": [
          5,
          10,
          14,
          19,
          23,
          28,
          32,
          37,
          41,
          46,
          50,
          55,
          60,
          64,
          69,
          73,
          78,
          82,
          87,
          91
         ],
         "xaxis": "x",
         "y": [
          0.8988422149689184,
          0.7976844299378367,
          0.9167582019129714,
          0.8156004168818907,
          0.9346741888570236,
          0.8335164038259428,
          0.9525901758010775,
          0.8514323907699968,
          0.9705061627451315,
          0.8693483777140472,
          0.9884221496891854,
          0.8872643646581011,
          0.7861065796270239,
          0.905180351602155,
          0.8040225665710707,
          0.923096338546209,
          0.8219385535151247,
          0.9410123254902629,
          0.8398545404591857,
          0.9589283124343098
         ],
         "yaxis": "y"
        },
        {
         "customdata": [
          [
           4
          ],
          [
           5
          ],
          [
           6
          ],
          [
           8
          ],
          [
           9
          ],
          [
           10
          ],
          [
           11
          ],
          [
           12
          ],
          [
           13
          ],
          [
           14
          ],
          [
           15
          ],
          [
           16
          ],
          [
           17
          ],
          [
           18
          ],
          [
           19
          ],
          [
           20
          ],
          [
           21
          ],
          [
           22
          ],
          [
           23
          ],
          [
           24
          ],
          [
           25
          ],
          [
           26
          ],
          [
           27
          ],
          [
           28
          ],
          [
           29
          ],
          [
           30
          ],
          [
           31
          ],
          [
           32
          ],
          [
           33
          ],
          [
           34
          ],
          [
           35
          ],
          [
           36
          ],
          [
           37
          ],
          [
           38
          ],
          [
           39
          ],
          [
           40
          ],
          [
           41
          ],
          [
           42
          ],
          [
           43
          ],
          [
           44
          ],
          [
           45
          ],
          [
           47
          ],
          [
           48
          ],
          [
           49
          ],
          [
           50
          ],
          [
           51
          ],
          [
           52
          ],
          [
           53
          ],
          [
           54
          ],
          [
           55
          ],
          [
           56
          ],
          [
           57
          ],
          [
           58
          ],
          [
           59
          ],
          [
           60
          ],
          [
           61
          ],
          [
           62
          ],
          [
           63
          ],
          [
           64
          ],
          [
           65
          ],
          [
           66
          ],
          [
           67
          ],
          [
           68
          ],
          [
           69
          ],
          [
           70
          ],
          [
           71
          ],
          [
           72
          ],
          [
           73
          ],
          [
           74
          ]
         ],
         "hovertemplate": "Series=other<br>delta_s=%{x}<br>loss=%{y}<br>delta_b=%{customdata[0]}<extra></extra>",
         "legendgroup": "other",
         "marker": {
          "color": "#EF553B",
          "line": {
           "width": 0
          },
          "symbol": "circle"
         },
         "mode": "markers",
         "name": "other",
         "orientation": "v",
         "showlegend": true,
         "type": "scatter",
         "x": [
          6,
          7,
          8,
          11,
          12,
          13,
          15,
          16,
          17,
          18,
          20,
          21,
          22,
          24,
          25,
          26,
          27,
          29,
          30,
          31,
          33,
          34,
          35,
          36,
          38,
          39,
          40,
          42,
          43,
          44,
          45,
          47,
          48,
          49,
          51,
          52,
          53,
          54,
          56,
          57,
          58,
          61,
          62,
          63,
          65,
          66,
          67,
          68,
          70,
          71,
          72,
          74,
          75,
          76,
          77,
          79,
          80,
          81,
          83,
          84,
          85,
          86,
          88,
          89,
          90,
          92,
          93,
          94,
          95
         ],
         "xaxis": "x",
         "y": [
          0.678610657962702,
          0.4583791009564857,
          0.23814754395026938,
          0.5774528729316213,
          0.35722131592540407,
          0.13698975891918863,
          0.696526644906756,
          0.47629508790053876,
          0.2560635308943233,
          0.035831973888106106,
          0.5953688598756735,
          0.375137302869458,
          0.15490574586324257,
          0.7144426318508081,
          0.4942110748445927,
          0.27397951783837726,
          0.05374796083215827,
          0.6132848468197274,
          0.39305328981351195,
          0.17282173280729296,
          0.7323586187948621,
          0.5121270617886466,
          0.29189550478242765,
          0.07166394777621221,
          0.6312008337637813,
          0.41096927675756234,
          0.1907377197513469,
          0.750274605738916,
          0.5300430487327006,
          0.30981149172648514,
          0.0895799347202626,
          0.6491168207078317,
          0.4288852637016163,
          0.20865370669540084,
          0.76819059268297,
          0.5479590356767545,
          0.327727478670532,
          0.10749592166431654,
          0.6670328076518857,
          0.4468012506456702,
          0.22656969363945478,
          0.5658750226208014,
          0.3456434656145859,
          0.12541190860837048,
          0.6849487945959396,
          0.46471723758972416,
          0.24448568058350872,
          0.024254123577293285,
          0.5837910095648553,
          0.36355945255863986,
          0.14332789555242442,
          0.7028647815399935,
          0.4826332245337781,
          0.26240166752756267,
          0.04217011052134012,
          0.6017069965089092,
          0.3814754395026938,
          0.16124388249647836,
          0.7207807684840475,
          0.500549211477832,
          0.2803176544716166,
          0.06008609746540117,
          0.6196229834529703,
          0.39939142644674064,
          0.1791598694405252,
          0.7386967554280943,
          0.5184651984218789,
          0.29823364141566344,
          0.078002084409448
         ],
         "yaxis": "y"
        },
        {
         "customdata": [
          [
           1
          ],
          [
           2
          ],
          [
           3
          ],
          [
           7
          ],
          [
           46
          ]
         ],
         "hovertemplate": "Series=best<br>delta_s=%{x}<br>loss=%{y}<br>delta_b=%{customdata[0]}<extra></extra>",
         "legendgroup": "best",
         "marker": {
          "color": "#00cc96",
          "line": {
           "width": 0
          },
          "symbol": "circle"
         },
         "mode": "markers",
         "name": "best",
         "orientation": "v",
         "showlegend": true,
         "type": "scatter",
         "x": [
          2,
          3,
          4,
          9,
          59
         ],
         "xaxis": "x",
         "y": [
          0.5595368859875673,
          0.339305328981351,
          0.11907377197513469,
          0.017915986944053053,
          0.006338136633239344
         ],
         "yaxis": "y"
        },
        {
         "customdata": [
          [
           1
          ],
          [
           2
          ],
          [
           3
          ],
          [
           4
          ],
          [
           4
          ],
          [
           5
          ],
          [
           6
          ],
          [
           7
          ],
          [
           11
          ],
          [
           8
          ],
          [
           12
          ],
          [
           16
          ],
          [
           20
          ],
          [
           24
          ],
          [
           28
          ],
          [
           32
          ],
          [
           29
          ],
          [
           33
          ],
          [
           37
          ],
          [
           41
          ],
          [
           45
          ],
          [
           49
          ],
          [
           53
          ],
          [
           57
          ],
          [
           54
          ],
          [
           58
          ],
          [
           62
          ],
          [
           66
          ],
          [
           70
          ],
          [
           74
          ],
          [
           78
          ]
         ],
         "hovertemplate": "Series=slope1<br>delta_s=%{x}<br>loss=%{y}<br>delta_b=%{customdata[0]}<extra></extra>",
         "legendgroup": "slope1",
         "line": {
          "color": "#636efa",
          "dash": "solid"
         },
         "marker": {
          "line": {
           "width": 0
          },
          "size": 10,
          "symbol": "circle-open"
         },
         "mode": "lines+markers",
         "name": "slope1",
         "orientation": "v",
         "showlegend": true,
         "type": "scatter",
         "x": [
          2,
          3,
          4,
          6,
          6,
          7,
          8,
          9,
          15,
          11,
          16,
          21,
          26,
          31,
          36,
          42,
          38,
          43,
          48,
          53,
          58,
          63,
          68,
          74,
          70,
          75,
          80,
          85,
          90,
          95,
          101
         ],
         "xaxis": "x",
         "y": [
          0.5595368859875673,
          0.339305328981351,
          0.11907377197513469,
          -0.678610657962702,
          0.678610657962702,
          0.4583791009564857,
          0.23814754395026938,
          0.017915986944053053,
          -0.696526644906756,
          0.5774528729316213,
          0.47629508790053876,
          0.375137302869458,
          0.27397951783837726,
          0.17282173280729296,
          0.07166394777621221,
          -0.750274605738916,
          0.6312008337637813,
          0.5300430487327006,
          0.4288852637016163,
          0.327727478670532,
          0.22656969363945478,
          0.12541190860837048,
          0.024254123577293285,
          -0.7028647815399935,
          0.5837910095648553,
          0.4826332245337781,
          0.3814754395026938,
          0.2803176544716166,
          0.1791598694405252,
          0.078002084409448,
          -0.7566127423721554
         ],
         "yaxis": "y"
        },
        {
         "customdata": [
          [
           1
          ],
          [
           2
          ],
          [
           3
          ],
          [
           4
          ],
          [
           4
          ],
          [
           5
          ],
          [
           6
          ],
          [
           7
          ],
          [
           11
          ],
          [
           8
          ],
          [
           12
          ],
          [
           16
          ],
          [
           20
          ],
          [
           24
          ],
          [
           28
          ],
          [
           32
          ],
          [
           29
          ],
          [
           33
          ],
          [
           37
          ],
          [
           41
          ],
          [
           45
          ],
          [
           49
          ],
          [
           53
          ],
          [
           57
          ],
          [
           54
          ],
          [
           58
          ],
          [
           62
          ],
          [
           66
          ],
          [
           70
          ],
          [
           74
          ],
          [
           78
          ]
         ],
         "hovertemplate": "Series=slope2<br>delta_s=%{x}<br>loss=%{y}<br>delta_b=%{customdata[0]}<extra></extra>",
         "legendgroup": "slope2",
         "line": {
          "color": "#EF553B",
          "dash": "solid"
         },
         "marker": {
          "line": {
           "width": 0
          },
          "size": 10,
          "symbol": "circle-open"
         },
         "mode": "lines+markers",
         "name": "slope2",
         "orientation": "v",
         "showlegend": true,
         "type": "scatter",
         "x": [
          2,
          3,
          4,
          6,
          6,
          7,
          8,
          9,
          15,
          11,
          16,
          21,
          26,
          31,
          36,
          42,
          38,
          43,
          48,
          53,
          58,
          63,
          68,
          74,
          70,
          75,
          80,
          85,
          90,
          95,
          101
         ],
         "xaxis": "x",
         "y": [
          0.5595368859875673,
          0.339305328981351,
          0.11907377197513469,
          0.678610657962702,
          0.678610657962702,
          0.4583791009564857,
          0.23814754395026938,
          0.017915986944053053,
          0.696526644906756,
          0.5774528729316213,
          0.47629508790053876,
          0.375137302869458,
          0.27397951783837726,
          0.17282173280729296,
          0.07166394777621221,
          0.750274605738916,
          0.6312008337637813,
          0.5300430487327006,
          0.4288852637016163,
          0.327727478670532,
          0.22656969363945478,
          0.12541190860837048,
          0.024254123577293285,
          0.7028647815399935,
          0.5837910095648553,
          0.4826332245337781,
          0.3814754395026938,
          0.2803176544716166,
          0.1791598694405252,
          0.078002084409448,
          0.7566127423721554
         ],
         "yaxis": "y"
        }
       ],
       "layout": {
        "font": {
         "color": "white"
        },
        "height": 1600,
        "legend": {
         "title": {
          "text": "Series"
         },
         "tracegroupgap": 0
        },
        "margin": {
         "t": 60
        },
        "paper_bgcolor": "rgb(17,17,17)",
        "plot_bgcolor": "rgb(17,17,17)",
        "template": {
         "data": {
          "bar": [
           {
            "error_x": {
             "color": "#2a3f5f"
            },
            "error_y": {
             "color": "#2a3f5f"
            },
            "marker": {
             "line": {
              "color": "#E5ECF6",
              "width": 0.5
             },
             "pattern": {
              "fillmode": "overlay",
              "size": 10,
              "solidity": 0.2
             }
            },
            "type": "bar"
           }
          ],
          "barpolar": [
           {
            "marker": {
             "line": {
              "color": "#E5ECF6",
              "width": 0.5
             },
             "pattern": {
              "fillmode": "overlay",
              "size": 10,
              "solidity": 0.2
             }
            },
            "type": "barpolar"
           }
          ],
          "carpet": [
           {
            "aaxis": {
             "endlinecolor": "#2a3f5f",
             "gridcolor": "white",
             "linecolor": "white",
             "minorgridcolor": "white",
             "startlinecolor": "#2a3f5f"
            },
            "baxis": {
             "endlinecolor": "#2a3f5f",
             "gridcolor": "white",
             "linecolor": "white",
             "minorgridcolor": "white",
             "startlinecolor": "#2a3f5f"
            },
            "type": "carpet"
           }
          ],
          "choropleth": [
           {
            "colorbar": {
             "outlinewidth": 0,
             "ticks": ""
            },
            "type": "choropleth"
           }
          ],
          "contour": [
           {
            "colorbar": {
             "outlinewidth": 0,
             "ticks": ""
            },
            "colorscale": [
             [
              0,
              "#0d0887"
             ],
             [
              0.1111111111111111,
              "#46039f"
             ],
             [
              0.2222222222222222,
              "#7201a8"
             ],
             [
              0.3333333333333333,
              "#9c179e"
             ],
             [
              0.4444444444444444,
              "#bd3786"
             ],
             [
              0.5555555555555556,
              "#d8576b"
             ],
             [
              0.6666666666666666,
              "#ed7953"
             ],
             [
              0.7777777777777778,
              "#fb9f3a"
             ],
             [
              0.8888888888888888,
              "#fdca26"
             ],
             [
              1,
              "#f0f921"
             ]
            ],
            "type": "contour"
           }
          ],
          "contourcarpet": [
           {
            "colorbar": {
             "outlinewidth": 0,
             "ticks": ""
            },
            "type": "contourcarpet"
           }
          ],
          "heatmap": [
           {
            "colorbar": {
             "outlinewidth": 0,
             "ticks": ""
            },
            "colorscale": [
             [
              0,
              "#0d0887"
             ],
             [
              0.1111111111111111,
              "#46039f"
             ],
             [
              0.2222222222222222,
              "#7201a8"
             ],
             [
              0.3333333333333333,
              "#9c179e"
             ],
             [
              0.4444444444444444,
              "#bd3786"
             ],
             [
              0.5555555555555556,
              "#d8576b"
             ],
             [
              0.6666666666666666,
              "#ed7953"
             ],
             [
              0.7777777777777778,
              "#fb9f3a"
             ],
             [
              0.8888888888888888,
              "#fdca26"
             ],
             [
              1,
              "#f0f921"
             ]
            ],
            "type": "heatmap"
           }
          ],
          "heatmapgl": [
           {
            "colorbar": {
             "outlinewidth": 0,
             "ticks": ""
            },
            "colorscale": [
             [
              0,
              "#0d0887"
             ],
             [
              0.1111111111111111,
              "#46039f"
             ],
             [
              0.2222222222222222,
              "#7201a8"
             ],
             [
              0.3333333333333333,
              "#9c179e"
             ],
             [
              0.4444444444444444,
              "#bd3786"
             ],
             [
              0.5555555555555556,
              "#d8576b"
             ],
             [
              0.6666666666666666,
              "#ed7953"
             ],
             [
              0.7777777777777778,
              "#fb9f3a"
             ],
             [
              0.8888888888888888,
              "#fdca26"
             ],
             [
              1,
              "#f0f921"
             ]
            ],
            "type": "heatmapgl"
           }
          ],
          "histogram": [
           {
            "marker": {
             "pattern": {
              "fillmode": "overlay",
              "size": 10,
              "solidity": 0.2
             }
            },
            "type": "histogram"
           }
          ],
          "histogram2d": [
           {
            "colorbar": {
             "outlinewidth": 0,
             "ticks": ""
            },
            "colorscale": [
             [
              0,
              "#0d0887"
             ],
             [
              0.1111111111111111,
              "#46039f"
             ],
             [
              0.2222222222222222,
              "#7201a8"
             ],
             [
              0.3333333333333333,
              "#9c179e"
             ],
             [
              0.4444444444444444,
              "#bd3786"
             ],
             [
              0.5555555555555556,
              "#d8576b"
             ],
             [
              0.6666666666666666,
              "#ed7953"
             ],
             [
              0.7777777777777778,
              "#fb9f3a"
             ],
             [
              0.8888888888888888,
              "#fdca26"
             ],
             [
              1,
              "#f0f921"
             ]
            ],
            "type": "histogram2d"
           }
          ],
          "histogram2dcontour": [
           {
            "colorbar": {
             "outlinewidth": 0,
             "ticks": ""
            },
            "colorscale": [
             [
              0,
              "#0d0887"
             ],
             [
              0.1111111111111111,
              "#46039f"
             ],
             [
              0.2222222222222222,
              "#7201a8"
             ],
             [
              0.3333333333333333,
              "#9c179e"
             ],
             [
              0.4444444444444444,
              "#bd3786"
             ],
             [
              0.5555555555555556,
              "#d8576b"
             ],
             [
              0.6666666666666666,
              "#ed7953"
             ],
             [
              0.7777777777777778,
              "#fb9f3a"
             ],
             [
              0.8888888888888888,
              "#fdca26"
             ],
             [
              1,
              "#f0f921"
             ]
            ],
            "type": "histogram2dcontour"
           }
          ],
          "mesh3d": [
           {
            "colorbar": {
             "outlinewidth": 0,
             "ticks": ""
            },
            "type": "mesh3d"
           }
          ],
          "parcoords": [
           {
            "line": {
             "colorbar": {
              "outlinewidth": 0,
              "ticks": ""
             }
            },
            "type": "parcoords"
           }
          ],
          "pie": [
           {
            "automargin": true,
            "type": "pie"
           }
          ],
          "scatter": [
           {
            "fillpattern": {
             "fillmode": "overlay",
             "size": 10,
             "solidity": 0.2
            },
            "type": "scatter"
           }
          ],
          "scatter3d": [
           {
            "line": {
             "colorbar": {
              "outlinewidth": 0,
              "ticks": ""
             }
            },
            "marker": {
             "colorbar": {
              "outlinewidth": 0,
              "ticks": ""
             }
            },
            "type": "scatter3d"
           }
          ],
          "scattercarpet": [
           {
            "marker": {
             "colorbar": {
              "outlinewidth": 0,
              "ticks": ""
             }
            },
            "type": "scattercarpet"
           }
          ],
          "scattergeo": [
           {
            "marker": {
             "colorbar": {
              "outlinewidth": 0,
              "ticks": ""
             }
            },
            "type": "scattergeo"
           }
          ],
          "scattergl": [
           {
            "marker": {
             "colorbar": {
              "outlinewidth": 0,
              "ticks": ""
             }
            },
            "type": "scattergl"
           }
          ],
          "scattermapbox": [
           {
            "marker": {
             "colorbar": {
              "outlinewidth": 0,
              "ticks": ""
             }
            },
            "type": "scattermapbox"
           }
          ],
          "scatterpolar": [
           {
            "marker": {
             "colorbar": {
              "outlinewidth": 0,
              "ticks": ""
             }
            },
            "type": "scatterpolar"
           }
          ],
          "scatterpolargl": [
           {
            "marker": {
             "colorbar": {
              "outlinewidth": 0,
              "ticks": ""
             }
            },
            "type": "scatterpolargl"
           }
          ],
          "scatterternary": [
           {
            "marker": {
             "colorbar": {
              "outlinewidth": 0,
              "ticks": ""
             }
            },
            "type": "scatterternary"
           }
          ],
          "surface": [
           {
            "colorbar": {
             "outlinewidth": 0,
             "ticks": ""
            },
            "colorscale": [
             [
              0,
              "#0d0887"
             ],
             [
              0.1111111111111111,
              "#46039f"
             ],
             [
              0.2222222222222222,
              "#7201a8"
             ],
             [
              0.3333333333333333,
              "#9c179e"
             ],
             [
              0.4444444444444444,
              "#bd3786"
             ],
             [
              0.5555555555555556,
              "#d8576b"
             ],
             [
              0.6666666666666666,
              "#ed7953"
             ],
             [
              0.7777777777777778,
              "#fb9f3a"
             ],
             [
              0.8888888888888888,
              "#fdca26"
             ],
             [
              1,
              "#f0f921"
             ]
            ],
            "type": "surface"
           }
          ],
          "table": [
           {
            "cells": {
             "fill": {
              "color": "#EBF0F8"
             },
             "line": {
              "color": "white"
             }
            },
            "header": {
             "fill": {
              "color": "#C8D4E3"
             },
             "line": {
              "color": "white"
             }
            },
            "type": "table"
           }
          ]
         },
         "layout": {
          "annotationdefaults": {
           "arrowcolor": "#2a3f5f",
           "arrowhead": 0,
           "arrowwidth": 1
          },
          "autotypenumbers": "strict",
          "coloraxis": {
           "colorbar": {
            "outlinewidth": 0,
            "ticks": ""
           }
          },
          "colorscale": {
           "diverging": [
            [
             0,
             "#8e0152"
            ],
            [
             0.1,
             "#c51b7d"
            ],
            [
             0.2,
             "#de77ae"
            ],
            [
             0.3,
             "#f1b6da"
            ],
            [
             0.4,
             "#fde0ef"
            ],
            [
             0.5,
             "#f7f7f7"
            ],
            [
             0.6,
             "#e6f5d0"
            ],
            [
             0.7,
             "#b8e186"
            ],
            [
             0.8,
             "#7fbc41"
            ],
            [
             0.9,
             "#4d9221"
            ],
            [
             1,
             "#276419"
            ]
           ],
           "sequential": [
            [
             0,
             "#0d0887"
            ],
            [
             0.1111111111111111,
             "#46039f"
            ],
            [
             0.2222222222222222,
             "#7201a8"
            ],
            [
             0.3333333333333333,
             "#9c179e"
            ],
            [
             0.4444444444444444,
             "#bd3786"
            ],
            [
             0.5555555555555556,
             "#d8576b"
            ],
            [
             0.6666666666666666,
             "#ed7953"
            ],
            [
             0.7777777777777778,
             "#fb9f3a"
            ],
            [
             0.8888888888888888,
             "#fdca26"
            ],
            [
             1,
             "#f0f921"
            ]
           ],
           "sequentialminus": [
            [
             0,
             "#0d0887"
            ],
            [
             0.1111111111111111,
             "#46039f"
            ],
            [
             0.2222222222222222,
             "#7201a8"
            ],
            [
             0.3333333333333333,
             "#9c179e"
            ],
            [
             0.4444444444444444,
             "#bd3786"
            ],
            [
             0.5555555555555556,
             "#d8576b"
            ],
            [
             0.6666666666666666,
             "#ed7953"
            ],
            [
             0.7777777777777778,
             "#fb9f3a"
            ],
            [
             0.8888888888888888,
             "#fdca26"
            ],
            [
             1,
             "#f0f921"
            ]
           ]
          },
          "colorway": [
           "#636efa",
           "#EF553B",
           "#00cc96",
           "#ab63fa",
           "#FFA15A",
           "#19d3f3",
           "#FF6692",
           "#B6E880",
           "#FF97FF",
           "#FECB52"
          ],
          "font": {
           "color": "#2a3f5f"
          },
          "geo": {
           "bgcolor": "white",
           "lakecolor": "white",
           "landcolor": "#E5ECF6",
           "showlakes": true,
           "showland": true,
           "subunitcolor": "white"
          },
          "hoverlabel": {
           "align": "left"
          },
          "hovermode": "closest",
          "mapbox": {
           "style": "light"
          },
          "paper_bgcolor": "white",
          "plot_bgcolor": "#E5ECF6",
          "polar": {
           "angularaxis": {
            "gridcolor": "white",
            "linecolor": "white",
            "ticks": ""
           },
           "bgcolor": "#E5ECF6",
           "radialaxis": {
            "gridcolor": "white",
            "linecolor": "white",
            "ticks": ""
           }
          },
          "scene": {
           "xaxis": {
            "backgroundcolor": "#E5ECF6",
            "gridcolor": "white",
            "gridwidth": 2,
            "linecolor": "white",
            "showbackground": true,
            "ticks": "",
            "zerolinecolor": "white"
           },
           "yaxis": {
            "backgroundcolor": "#E5ECF6",
            "gridcolor": "white",
            "gridwidth": 2,
            "linecolor": "white",
            "showbackground": true,
            "ticks": "",
            "zerolinecolor": "white"
           },
           "zaxis": {
            "backgroundcolor": "#E5ECF6",
            "gridcolor": "white",
            "gridwidth": 2,
            "linecolor": "white",
            "showbackground": true,
            "ticks": "",
            "zerolinecolor": "white"
           }
          },
          "shapedefaults": {
           "line": {
            "color": "#2a3f5f"
           }
          },
          "ternary": {
           "aaxis": {
            "gridcolor": "white",
            "linecolor": "white",
            "ticks": ""
           },
           "baxis": {
            "gridcolor": "white",
            "linecolor": "white",
            "ticks": ""
           },
           "bgcolor": "#E5ECF6",
           "caxis": {
            "gridcolor": "white",
            "linecolor": "white",
            "ticks": ""
           }
          },
          "title": {
           "x": 0.05
          },
          "xaxis": {
           "automargin": true,
           "gridcolor": "white",
           "linecolor": "white",
           "ticks": "",
           "title": {
            "standoff": 15
           },
           "zerolinecolor": "white",
           "zerolinewidth": 2
          },
          "yaxis": {
           "automargin": true,
           "gridcolor": "white",
           "linecolor": "white",
           "ticks": "",
           "title": {
            "standoff": 15
           },
           "zerolinecolor": "white",
           "zerolinewidth": 2
          }
         }
        },
        "title": {
         "text": "effective loss by delta selling"
        },
        "xaxis": {
         "anchor": "y",
         "domain": [
          0,
          1
         ],
         "gridcolor": "rgb(80,80,80)",
         "title": {
          "text": "delta s"
         }
        },
        "yaxis": {
         "anchor": "x",
         "domain": [
          0,
          1
         ],
         "gridcolor": "rgb(80,80,80)",
         "title": {
          "text": "loss"
         }
        }
       }
      }
     },
     "metadata": {},
     "output_type": "display_data"
    }
   ],
   "source": [
    "# Create an interactive scatter plot\n",
    "fig = px.scatter(combined_df, x='delta_s', y='loss', color='Series', #size='point_size',\n",
    "                 hover_data=['delta_b', 'delta_s', 'loss'])\n",
    "\n",
    "# Add lines for specified series\n",
    "# for series in slopes_df:\n",
    "#     fig.add_trace(px.line(series, x='delta_s', y='loss', color='Series').data[0])\n",
    "\n",
    "# Concatenate all DataFrames in slopes_df\n",
    "all_slopes_df = pd.concat(slopes_df)\n",
    "# Create a line plot for all slopes\n",
    "line_fig = px.line(all_slopes_df, x='delta_s', y='loss', color='Series', hover_data=['delta_b', 'delta_s', 'loss'], markers=True)\n",
    "\n",
    "# Add each line trace individually\n",
    "for trace in line_fig.data:\n",
    "    trace.update(marker=dict(symbol='circle-open', size=10)) \n",
    "    fig.add_trace(trace)\n",
    "\n",
    "# Update marker properties to have darker outlines\n",
    "# fig.update_traces(marker=dict(line=dict(width=1, color='rgba(40,40,40,1)')))  # Adjust the color as needed\n",
    "\n",
    "# Update marker properties to remove outlines or match the fill color\n",
    "fig.update_traces(marker=dict(line=dict(width=0)))  # Removes the outline\n",
    "\n",
    "# Alternatively, to set the outline to the same color as the fill:\n",
    "# fig.update_traces(marker=dict(line=dict(width=1, color='SAME_COLOR')))\n",
    "\n",
    "\n",
    "# Update the layout for dark mode\n",
    "fig.update_layout(\n",
    "    title='Scatter Plot in Dark Mode',\n",
    "    plot_bgcolor='rgb(17,17,17)',  # Dark plot background\n",
    "    paper_bgcolor='rgb(17,17,17)',  # Dark paper background\n",
    "    font_color='white',  # White text for better contrast\n",
    "    xaxis=dict(\n",
    "        gridcolor='rgb(80,80,80)',  # Darker gridlines\n",
    "    ),\n",
    "    yaxis=dict(\n",
    "        gridcolor='rgb(80,80,80)',  # Darker gridlines\n",
    "    )\n",
    ")\n",
    "\n",
    "# Add plot titles and labels\n",
    "fig.update_layout(title='effective loss by delta selling',\n",
    "                  xaxis_title='delta s',\n",
    "                  yaxis_title='loss',\n",
    "                  # showlegend=False,\n",
    "                  height=1600)\n",
    "                  \n",
    "\n",
    "# fig.update_yaxes(range=[combined_df['loss'].min(), combined_df['loss'].max()])  # Adjust the range as needed\n",
    "\n",
    "# # Sort the DataFrame by 'ratio' in descending order\n",
    "# sorted_df = combined_df.sort_values(by='loss', ascending=False)\n",
    "\n",
    "# # Adding a line that connects the dots in decreasing order of their y-value\n",
    "# fig.add_trace(px.line(sorted_df, x='delta_b', y='loss').data[0])\n",
    "\n",
    "# # Find the five lowest unique y-values (ratios)\n",
    "# lowest_ratios = combined_df['loss'].unique()\n",
    "# lowest_ratios.sort()\n",
    "\n",
    "# # Group by 'ratio' and draw lines for each of the five lowest ratios\n",
    "# for loss in lowest_ratios[:20]:\n",
    "#     group = combined_df[combined_df['loss'] == loss]\n",
    "#     # Sort each group by 'delta_b' to make line connections logical\n",
    "#     sorted_group = group.sort_values(by='delta_b')\n",
    "#     fig.add_trace(px.line(sorted_group, x='delta_b', y='loss').data[0])\n",
    "\n",
    "# # Adjusting the plot size and layout\n",
    "# fig.update_layout(title='Scatter Plot with Lines for Lowest Y-values',\n",
    "#                   xaxis_title='Delta_b',\n",
    "#                   yaxis_title='loss',\n",
    "#                   height=800)\n",
    "\n",
    "# Show the plot\n",
    "fig.show()\n"
   ]
  },
  {
   "cell_type": "code",
   "execution_count": 237,
   "metadata": {},
   "outputs": [],
   "source": [
    "def prime_factors(n):\n",
    "    i = 2\n",
    "    factors = {}\n",
    "    while i * i <= n:\n",
    "        if n % i:\n",
    "            i += 1\n",
    "        else:\n",
    "            n //= i\n",
    "            factors[i] = factors.get(i, 0) + 1\n",
    "    if n > 1:\n",
    "        factors[n] = factors.get(n, 0) + 1\n",
    "    return factors"
   ]
  },
  {
   "cell_type": "code",
   "execution_count": 238,
   "metadata": {},
   "outputs": [
    {
     "data": {
      "text/plain": [
       "{101: 25}"
      ]
     },
     "execution_count": 238,
     "metadata": {},
     "output_type": "execute_result"
    }
   ],
   "source": [
    "prime_factors(m_b)"
   ]
  },
  {
   "cell_type": "code",
   "execution_count": 239,
   "metadata": {},
   "outputs": [
    {
     "data": {
      "text/plain": [
       "{2: 50, 5: 50}"
      ]
     },
     "execution_count": 239,
     "metadata": {},
     "output_type": "execute_result"
    }
   ],
   "source": [
    "prime_factors(m_s)"
   ]
  },
  {
   "cell_type": "code",
   "execution_count": 240,
   "metadata": {},
   "outputs": [
    {
     "data": {
      "text/plain": [
       "283"
      ]
     },
     "execution_count": 240,
     "metadata": {},
     "output_type": "execute_result"
    }
   ],
   "source": [
    "351 - 68"
   ]
  },
  {
   "cell_type": "code",
   "execution_count": null,
   "metadata": {},
   "outputs": [],
   "source": []
  }
 ],
 "metadata": {
  "kernelspec": {
   "display_name": "Python 3",
   "language": "python",
   "name": "python3"
  },
  "language_info": {
   "codemirror_mode": {
    "name": "ipython",
    "version": 3
   },
   "file_extension": ".py",
   "mimetype": "text/x-python",
   "name": "python",
   "nbconvert_exporter": "python",
   "pygments_lexer": "ipython3",
   "version": "3.9.16"
  }
 },
 "nbformat": 4,
 "nbformat_minor": 2
}
