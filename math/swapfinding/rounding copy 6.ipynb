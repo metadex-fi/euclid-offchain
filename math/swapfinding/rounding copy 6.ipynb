{
 "cells": [
  {
   "cell_type": "code",
   "execution_count": 351,
   "metadata": {},
   "outputs": [],
   "source": [
    "import plotly.express as px\n",
    "import pandas as pd\n",
    "import math"
   ]
  },
  {
   "cell_type": "code",
   "execution_count": 352,
   "metadata": {},
   "outputs": [],
   "source": [
    "m_b = 74162967168826668786083164455726534082905535306719584030603787220669865067306634296560714362590379579967436221667241374225087386638744270273644565587298422159071084877725576793263936614470341480823397\n",
    "m_s = 50000000000000000000000000000000000000000000000000000000000000000000000000000000000000000000000000000000000000000000000000000000000000000000000000000000000000000000000000000000000000000000000000000000\n",
    "min_delta_b = 1\n",
    "min_delta_s = 4704\n",
    "max_delta_b = 9803\n",
    "max_delta_s = 4832\n",
    "stepping = \"buying\"\n",
    "slopes = [[\n",
    "        (3171, 4704),\n",
    "        (3172, 4705),\n",
    "        (3173, 4707),\n",
    "        (3173, 4707),\n",
    "        (3174, 4708),\n",
    "        (3175, 4710),\n",
    "        (3175, 4710),\n",
    "        (3176, 4711),\n",
    "        (3177, 4713),\n",
    "        (3177, 4713),\n",
    "        (3178, 4714),\n",
    "        (3179, 4716),\n",
    "        (3179, 4716),\n",
    "        (3180, 4717),\n",
    "        (3181, 4719),\n",
    "        (3181, 4719),\n",
    "        (3182, 4720),\n",
    "        (3183, 4722),\n",
    "        (3183, 4722),\n",
    "        (3184, 4723),\n",
    "        (3185, 4725),\n",
    "        (3185, 4725),\n",
    "        (3186, 4726),\n",
    "        (3187, 4728),\n",
    "        (3187, 4728),\n",
    "        (3188, 4729),\n",
    "        (3189, 4731),\n",
    "        (3189, 4731),\n",
    "        (3190, 4732),\n",
    "        (3191, 4734),\n",
    "        (3191, 4734),\n",
    "        (3192, 4735),\n",
    "        (3193, 4737),\n",
    "        (3193, 4737),\n",
    "        (3194, 4738),\n",
    "        (3195, 4740),\n",
    "        (3195, 4740),\n",
    "        (3196, 4741),\n",
    "        (3197, 4742),\n",
    "        (3222, 4780),\n",
    "        (3221, 4778),\n",
    "        (3246, 4815),\n",
    "        (3271, 4852),\n",
    "]]"
   ]
  },
  {
   "cell_type": "code",
   "execution_count": 353,
   "metadata": {},
   "outputs": [],
   "source": [
    "slopes_ = []\n",
    "for slope in slopes:\n",
    "    slope_ = []\n",
    "    slope__ = []\n",
    "    prevloss = None\n",
    "    for (delta_b, delta_s) in slope:\n",
    "        # if stepping == \"buying\":\n",
    "        #     loss = (-m_b * buying % m_s) / m_s\n",
    "        # else:\n",
    "        #     loss = (m_s * selling % m_b) / m_b\n",
    "        loss = delta_s * m_s / m_b - math.floor(delta_s * m_s / m_b)\n",
    "        slope__.append((delta_b, delta_s, loss))\n",
    "        if prevloss is not None and prevloss < loss:\n",
    "            prevloss = loss\n",
    "            loss = -loss\n",
    "        else:\n",
    "            prevloss = loss\n",
    "\n",
    "        slope_.append((delta_b, delta_s, loss))\n",
    "    slopes_.append(slope_)\n",
    "    slopes_.append(slope__)\n",
    "slopes = slopes_"
   ]
  },
  {
   "cell_type": "code",
   "execution_count": 354,
   "metadata": {},
   "outputs": [],
   "source": [
    "perfect = []\n",
    "best_imperfect = []\n",
    "other_imperfect = []\n",
    "delta_b_too_low = []\n",
    "suboptimal_delta_b = []\n",
    "prev_delta_b = None\n",
    "best_imperfect_loss = None\n",
    "for delta_s in range(min_delta_s, max_delta_s + 1):\n",
    "    delta_b = math.floor(delta_s * m_s / m_b)\n",
    "    # if (delta_b == 0):\n",
    "    #     print(\"delta_b == 0 for\", delta_s)\n",
    "    #     continue\n",
    "    loss = delta_s * m_s / m_b - math.floor(delta_s * m_s / m_b)\n",
    "    if (delta_b > max_delta_b):\n",
    "        delta_b = max_delta_b\n",
    "    if (delta_b < min_delta_b):\n",
    "        delta_b_too_low.append((delta_b, delta_s, loss))\n",
    "        continue\n",
    "    if (delta_b == prev_delta_b):\n",
    "        suboptimal_delta_b.append((delta_b, delta_s, loss))\n",
    "        continue\n",
    "    prev_delta_b = delta_b\n",
    "    if delta_b * m_b == delta_s * m_s:\n",
    "      perfect.append((delta_b, delta_s, loss))\n",
    "    elif best_imperfect_loss is None or loss <= best_imperfect_loss:\n",
    "      best_imperfect_loss = loss\n",
    "      best_imperfect.append((delta_b, delta_s, loss))\n",
    "    else:\n",
    "      other_imperfect.append((delta_b, delta_s, loss))\n",
    "    if (delta_b == max_delta_b):\n",
    "        break\n",
    "    \n",
    "delta_b_too_low = []"
   ]
  },
  {
   "cell_type": "code",
   "execution_count": 355,
   "metadata": {},
   "outputs": [],
   "source": [
    "# Convert your data lists to Pandas DataFrames for easier handling\n",
    "df1 = pd.DataFrame(perfect, columns=['delta_b', 'delta_s', 'loss'])\n",
    "df2 = pd.DataFrame(best_imperfect, columns=['delta_b', 'delta_s', 'loss'])\n",
    "df3 = pd.DataFrame(other_imperfect, columns=['delta_b', 'delta_s', 'loss'])\n",
    "df4 = pd.DataFrame(delta_b_too_low, columns=['delta_b', 'delta_s', 'loss'])\n",
    "df5 = pd.DataFrame(suboptimal_delta_b, columns=['delta_b', 'delta_s', 'loss'])\n",
    "# df6 = pd.DataFrame(first_slope, columns=['delta_b', 'delta_s', 'loss'])\n",
    "# df7 = pd.DataFrame(second_slope, columns=['delta_b', 'delta_s', 'loss'])\n",
    "slopes_df = [pd.DataFrame(slope, columns=['delta_b', 'delta_s', 'loss']) for slope in slopes]\n",
    "for i in range(len(slopes_df)):\n",
    "    slopes_df[i]['Series'] = 'slope' + str(i + 1)\n",
    "\n",
    "# Combine the dataframes with an identifier column\n",
    "df1['Series'] = 'Without'\n",
    "df2['Series'] = 'best'\n",
    "df3['Series'] = 'other'\n",
    "df4['Series'] = 'too low'\n",
    "df5['Series'] = 'subopt'\n",
    "# df6['Series'] = '1st'\n",
    "# df7['Series'] = '2nd'\n",
    "# pd.concat([df5, df1, df3] + slopes_df + [df2])\n",
    "combined_df = pd.concat([df4, df5, df1, df3, df2]) \n",
    "\n",
    "# # Add a new column for point size based on the series\n",
    "# # Assuming 'Series' is a column that identifies each series\n",
    "# series_size_mapping = {series: i+1 for i, series in enumerate(combined_df['Series'].unique())}\n",
    "# combined_df['point_size'] = combined_df['Series'].map(series_size_mapping)\n",
    "\n",
    "# # Sort the DataFrame in reverse order of point size\n",
    "# combined_df = combined_df.sort_values(by='point_size', ascending=False)"
   ]
  },
  {
   "cell_type": "code",
   "execution_count": 356,
   "metadata": {},
   "outputs": [
    {
     "data": {
      "application/vnd.plotly.v1+json": {
       "config": {
        "plotlyServerURL": "https://plot.ly"
       },
       "data": [
        {
         "customdata": [
          [
           4706
          ],
          [
           4709
          ],
          [
           4712
          ],
          [
           4715
          ],
          [
           4718
          ],
          [
           4721
          ],
          [
           4724
          ],
          [
           4727
          ],
          [
           4730
          ],
          [
           4733
          ],
          [
           4736
          ],
          [
           4739
          ],
          [
           4743
          ],
          [
           4746
          ],
          [
           4749
          ],
          [
           4752
          ],
          [
           4755
          ],
          [
           4758
          ],
          [
           4761
          ],
          [
           4764
          ],
          [
           4767
          ],
          [
           4770
          ],
          [
           4773
          ],
          [
           4776
          ],
          [
           4779
          ],
          [
           4782
          ],
          [
           4786
          ],
          [
           4789
          ],
          [
           4792
          ],
          [
           4795
          ],
          [
           4798
          ],
          [
           4801
          ],
          [
           4804
          ],
          [
           4807
          ],
          [
           4810
          ],
          [
           4813
          ],
          [
           4816
          ],
          [
           4819
          ],
          [
           4822
          ],
          [
           4825
          ],
          [
           4828
          ],
          [
           4832
          ]
         ],
         "hovertemplate": "Series=subopt<br>delta_b=%{x}<br>loss=%{y}<br>delta_s=%{customdata[0]}<extra></extra>",
         "legendgroup": "subopt",
         "marker": {
          "color": "#636efa",
          "line": {
           "width": 0
          },
          "symbol": "circle"
         },
         "mode": "markers",
         "name": "subopt",
         "orientation": "v",
         "showlegend": true,
         "type": "scatter",
         "x": [
          3172,
          3174,
          3176,
          3178,
          3180,
          3182,
          3184,
          3186,
          3188,
          3190,
          3192,
          3194,
          3197,
          3199,
          3201,
          3203,
          3205,
          3207,
          3209,
          3211,
          3213,
          3215,
          3217,
          3219,
          3221,
          3223,
          3226,
          3228,
          3230,
          3232,
          3234,
          3236,
          3238,
          3240,
          3242,
          3244,
          3246,
          3248,
          3250,
          3252,
          3254,
          3257
         ],
         "xaxis": "x",
         "y": [
          0.7425288197605369,
          0.7651016175632321,
          0.7876744153659274,
          0.8102472131686227,
          0.832820010971318,
          0.8553928087735585,
          0.8779656065762538,
          0.900538404378949,
          0.9231112021816443,
          0.9456839999843396,
          0.9682567977870349,
          0.9908295955897302,
          0.6875933259930207,
          0.710166123795716,
          0.7327389215984113,
          0.7553117194011065,
          0.7778845172038018,
          0.8004573150064971,
          0.8230301128091924,
          0.8456029106118876,
          0.8681757084145829,
          0.8907485062172782,
          0.9133213040199735,
          0.935894101822214,
          0.9584668996249093,
          0.9810396974276046,
          0.6778034278313498,
          0.7003762256340451,
          0.7229490234367404,
          0.7455218212389809,
          0.7680946190416762,
          0.7906674168443715,
          0.8132402146470668,
          0.835813012449762,
          0.8583858102524573,
          0.8809586080551526,
          0.9035314058578479,
          0.9261042036605431,
          0.9486770014632384,
          0.9712497992659337,
          0.9938225970681742,
          0.6905863274719195
         ],
         "yaxis": "y"
        },
        {
         "customdata": [
          [
           4707
          ],
          [
           4708
          ],
          [
           4710
          ],
          [
           4711
          ],
          [
           4713
          ],
          [
           4714
          ],
          [
           4716
          ],
          [
           4717
          ],
          [
           4719
          ],
          [
           4720
          ],
          [
           4722
          ],
          [
           4723
          ],
          [
           4725
          ],
          [
           4726
          ],
          [
           4728
          ],
          [
           4729
          ],
          [
           4731
          ],
          [
           4732
          ],
          [
           4734
          ],
          [
           4735
          ],
          [
           4737
          ],
          [
           4738
          ],
          [
           4740
          ],
          [
           4741
          ],
          [
           4744
          ],
          [
           4745
          ],
          [
           4747
          ],
          [
           4748
          ],
          [
           4750
          ],
          [
           4751
          ],
          [
           4753
          ],
          [
           4754
          ],
          [
           4756
          ],
          [
           4757
          ],
          [
           4759
          ],
          [
           4760
          ],
          [
           4762
          ],
          [
           4763
          ],
          [
           4765
          ],
          [
           4766
          ],
          [
           4768
          ],
          [
           4769
          ],
          [
           4771
          ],
          [
           4772
          ],
          [
           4774
          ],
          [
           4775
          ],
          [
           4777
          ],
          [
           4778
          ],
          [
           4780
          ],
          [
           4781
          ],
          [
           4783
          ],
          [
           4784
          ],
          [
           4787
          ],
          [
           4788
          ],
          [
           4790
          ],
          [
           4791
          ],
          [
           4793
          ],
          [
           4794
          ],
          [
           4796
          ],
          [
           4797
          ],
          [
           4799
          ],
          [
           4800
          ],
          [
           4802
          ],
          [
           4803
          ],
          [
           4805
          ],
          [
           4806
          ],
          [
           4808
          ],
          [
           4809
          ],
          [
           4811
          ],
          [
           4812
          ],
          [
           4814
          ],
          [
           4815
          ],
          [
           4817
          ],
          [
           4818
          ],
          [
           4820
          ],
          [
           4821
          ],
          [
           4823
          ],
          [
           4824
          ],
          [
           4826
          ],
          [
           4827
          ],
          [
           4829
          ],
          [
           4830
          ],
          [
           4831
          ]
         ],
         "hovertemplate": "Series=other<br>delta_b=%{x}<br>loss=%{y}<br>delta_s=%{customdata[0]}<extra></extra>",
         "legendgroup": "other",
         "marker": {
          "color": "#EF553B",
          "line": {
           "width": 0
          },
          "symbol": "circle"
         },
         "mode": "markers",
         "name": "other",
         "orientation": "v",
         "showlegend": true,
         "type": "scatter",
         "x": [
          3173,
          3174,
          3175,
          3176,
          3177,
          3178,
          3179,
          3180,
          3181,
          3182,
          3183,
          3184,
          3185,
          3186,
          3187,
          3188,
          3189,
          3190,
          3191,
          3192,
          3193,
          3194,
          3195,
          3196,
          3198,
          3199,
          3200,
          3201,
          3202,
          3203,
          3204,
          3205,
          3206,
          3207,
          3208,
          3209,
          3210,
          3211,
          3212,
          3213,
          3214,
          3215,
          3216,
          3217,
          3218,
          3219,
          3220,
          3221,
          3222,
          3223,
          3224,
          3225,
          3227,
          3228,
          3229,
          3230,
          3231,
          3232,
          3233,
          3234,
          3235,
          3236,
          3237,
          3238,
          3239,
          3240,
          3241,
          3242,
          3243,
          3244,
          3245,
          3246,
          3247,
          3248,
          3249,
          3250,
          3251,
          3252,
          3253,
          3254,
          3255,
          3256,
          3257
         ],
         "xaxis": "x",
         "y": [
          0.41671975236158687,
          0.09091068496218213,
          0.4392925501638274,
          0.11348348276487741,
          0.4618653479665227,
          0.13605628056757268,
          0.48443814576921795,
          0.15862907837026796,
          0.5070109435719132,
          0.18120187617296324,
          0.5295837413746085,
          0.20377467397565852,
          0.5521565391773038,
          0.2263474717783538,
          0.5747293369799991,
          0.24892026958104907,
          0.5973021347826943,
          0.2714930673832896,
          0.6198749325853896,
          0.2940658651859849,
          0.6424477303880849,
          0.31663866298868015,
          0.6650205281907802,
          0.33921146079137543,
          0.3617842585940707,
          0.035975191195120715,
          0.384357056396766,
          0.05854798899781599,
          0.40692985419946126,
          0.08112078680051127,
          0.42950265200215654,
          0.1036935846027518,
          0.4520754498048518,
          0.12626638240544708,
          0.4746482476075471,
          0.14883918020814235,
          0.49722104541024237,
          0.17141197801083763,
          0.5197938432124829,
          0.1939847758135329,
          0.5423666410151782,
          0.21655757361622818,
          0.5649394388178735,
          0.23913037141892346,
          0.5875122366205687,
          0.26170316922161874,
          0.610085034423264,
          0.284275967024314,
          0.6326578322259593,
          0.3068487648270093,
          0.6552306300286546,
          0.3294215626292498,
          0.3519943604319451,
          0.026185293032995105,
          0.3745671582346404,
          0.04875809083569038,
          0.39713995603733565,
          0.07133088863838566,
          0.4197127538400309,
          0.09390368644108094,
          0.4422855516427262,
          0.11647648424377621,
          0.4648583494454215,
          0.1390492820464715,
          0.48743114724811676,
          0.16162207984871202,
          0.510003945050812,
          0.1841948776514073,
          0.5325767428535073,
          0.20676767545410257,
          0.5551495406562026,
          0.22934047325679785,
          0.5777223384584431,
          0.2519132710594931,
          0.6002951362611384,
          0.2744860688621884,
          0.6228679340638337,
          0.2970588666648837,
          0.645440731866529,
          0.31963166446757896,
          0.6680135296692242,
          0.34220446227027423,
          0.016395394870869495
         ],
         "yaxis": "y"
        },
        {
         "customdata": [
          [
           4704
          ],
          [
           4705
          ],
          [
           4742
          ],
          [
           4785
          ]
         ],
         "hovertemplate": "Series=best<br>delta_b=%{x}<br>loss=%{y}<br>delta_s=%{customdata[0]}<extra></extra>",
         "legendgroup": "best",
         "marker": {
          "color": "#00cc96",
          "line": {
           "width": 0
          },
          "symbol": "circle"
         },
         "mode": "markers",
         "name": "best",
         "orientation": "v",
         "showlegend": true,
         "type": "scatter",
         "x": [
          3171,
          3172,
          3197,
          3226
         ],
         "xaxis": "x",
         "y": [
          0.3941469545588916,
          0.06833788715948685,
          0.013402393392425438,
          0.003612495230299828
         ],
         "yaxis": "y"
        },
        {
         "customdata": [
          [
           4704
          ],
          [
           4705
          ],
          [
           4707
          ],
          [
           4707
          ],
          [
           4708
          ],
          [
           4710
          ],
          [
           4710
          ],
          [
           4711
          ],
          [
           4713
          ],
          [
           4713
          ],
          [
           4714
          ],
          [
           4716
          ],
          [
           4716
          ],
          [
           4717
          ],
          [
           4719
          ],
          [
           4719
          ],
          [
           4720
          ],
          [
           4722
          ],
          [
           4722
          ],
          [
           4723
          ],
          [
           4725
          ],
          [
           4725
          ],
          [
           4726
          ],
          [
           4728
          ],
          [
           4728
          ],
          [
           4729
          ],
          [
           4731
          ],
          [
           4731
          ],
          [
           4732
          ],
          [
           4734
          ],
          [
           4734
          ],
          [
           4735
          ],
          [
           4737
          ],
          [
           4737
          ],
          [
           4738
          ],
          [
           4740
          ],
          [
           4740
          ],
          [
           4741
          ],
          [
           4742
          ],
          [
           4780
          ],
          [
           4778
          ],
          [
           4815
          ],
          [
           4852
          ]
         ],
         "hovertemplate": "Series=slope1<br>delta_b=%{x}<br>loss=%{y}<br>delta_s=%{customdata[0]}<extra></extra>",
         "legendgroup": "slope1",
         "line": {
          "color": "#636efa",
          "dash": "solid"
         },
         "marker": {
          "line": {
           "width": 0
          },
          "size": 10,
          "symbol": "circle-open"
         },
         "mode": "lines+markers",
         "name": "slope1",
         "orientation": "v",
         "showlegend": true,
         "type": "scatter",
         "x": [
          3171,
          3172,
          3173,
          3173,
          3174,
          3175,
          3175,
          3176,
          3177,
          3177,
          3178,
          3179,
          3179,
          3180,
          3181,
          3181,
          3182,
          3183,
          3183,
          3184,
          3185,
          3185,
          3186,
          3187,
          3187,
          3188,
          3189,
          3189,
          3190,
          3191,
          3191,
          3192,
          3193,
          3193,
          3194,
          3195,
          3195,
          3196,
          3197,
          3222,
          3221,
          3246,
          3271
         ],
         "xaxis": "x",
         "y": [
          0.3941469545588916,
          0.06833788715948685,
          -0.41671975236158687,
          0.41671975236158687,
          0.09091068496218213,
          -0.4392925501638274,
          0.4392925501638274,
          0.11348348276487741,
          -0.4618653479665227,
          0.4618653479665227,
          0.13605628056757268,
          -0.48443814576921795,
          0.48443814576921795,
          0.15862907837026796,
          -0.5070109435719132,
          0.5070109435719132,
          0.18120187617296324,
          -0.5295837413746085,
          0.5295837413746085,
          0.20377467397565852,
          -0.5521565391773038,
          0.5521565391773038,
          0.2263474717783538,
          -0.5747293369799991,
          0.5747293369799991,
          0.24892026958104907,
          -0.5973021347826943,
          0.5973021347826943,
          0.2714930673832896,
          -0.6198749325853896,
          0.6198749325853896,
          0.2940658651859849,
          -0.6424477303880849,
          0.6424477303880849,
          0.31663866298868015,
          -0.6650205281907802,
          0.6650205281907802,
          0.33921146079137543,
          0.013402393392425438,
          -0.6326578322259593,
          0.284275967024314,
          0.22934047325679785,
          0.17440497948973643
         ],
         "yaxis": "y"
        },
        {
         "customdata": [
          [
           4704
          ],
          [
           4705
          ],
          [
           4707
          ],
          [
           4707
          ],
          [
           4708
          ],
          [
           4710
          ],
          [
           4710
          ],
          [
           4711
          ],
          [
           4713
          ],
          [
           4713
          ],
          [
           4714
          ],
          [
           4716
          ],
          [
           4716
          ],
          [
           4717
          ],
          [
           4719
          ],
          [
           4719
          ],
          [
           4720
          ],
          [
           4722
          ],
          [
           4722
          ],
          [
           4723
          ],
          [
           4725
          ],
          [
           4725
          ],
          [
           4726
          ],
          [
           4728
          ],
          [
           4728
          ],
          [
           4729
          ],
          [
           4731
          ],
          [
           4731
          ],
          [
           4732
          ],
          [
           4734
          ],
          [
           4734
          ],
          [
           4735
          ],
          [
           4737
          ],
          [
           4737
          ],
          [
           4738
          ],
          [
           4740
          ],
          [
           4740
          ],
          [
           4741
          ],
          [
           4742
          ],
          [
           4780
          ],
          [
           4778
          ],
          [
           4815
          ],
          [
           4852
          ]
         ],
         "hovertemplate": "Series=slope2<br>delta_b=%{x}<br>loss=%{y}<br>delta_s=%{customdata[0]}<extra></extra>",
         "legendgroup": "slope2",
         "line": {
          "color": "#EF553B",
          "dash": "solid"
         },
         "marker": {
          "line": {
           "width": 0
          },
          "size": 10,
          "symbol": "circle-open"
         },
         "mode": "lines+markers",
         "name": "slope2",
         "orientation": "v",
         "showlegend": true,
         "type": "scatter",
         "x": [
          3171,
          3172,
          3173,
          3173,
          3174,
          3175,
          3175,
          3176,
          3177,
          3177,
          3178,
          3179,
          3179,
          3180,
          3181,
          3181,
          3182,
          3183,
          3183,
          3184,
          3185,
          3185,
          3186,
          3187,
          3187,
          3188,
          3189,
          3189,
          3190,
          3191,
          3191,
          3192,
          3193,
          3193,
          3194,
          3195,
          3195,
          3196,
          3197,
          3222,
          3221,
          3246,
          3271
         ],
         "xaxis": "x",
         "y": [
          0.3941469545588916,
          0.06833788715948685,
          0.41671975236158687,
          0.41671975236158687,
          0.09091068496218213,
          0.4392925501638274,
          0.4392925501638274,
          0.11348348276487741,
          0.4618653479665227,
          0.4618653479665227,
          0.13605628056757268,
          0.48443814576921795,
          0.48443814576921795,
          0.15862907837026796,
          0.5070109435719132,
          0.5070109435719132,
          0.18120187617296324,
          0.5295837413746085,
          0.5295837413746085,
          0.20377467397565852,
          0.5521565391773038,
          0.5521565391773038,
          0.2263474717783538,
          0.5747293369799991,
          0.5747293369799991,
          0.24892026958104907,
          0.5973021347826943,
          0.5973021347826943,
          0.2714930673832896,
          0.6198749325853896,
          0.6198749325853896,
          0.2940658651859849,
          0.6424477303880849,
          0.6424477303880849,
          0.31663866298868015,
          0.6650205281907802,
          0.6650205281907802,
          0.33921146079137543,
          0.013402393392425438,
          0.6326578322259593,
          0.284275967024314,
          0.22934047325679785,
          0.17440497948973643
         ],
         "yaxis": "y"
        }
       ],
       "layout": {
        "font": {
         "color": "white"
        },
        "height": 1600,
        "legend": {
         "title": {
          "text": "Series"
         },
         "tracegroupgap": 0
        },
        "margin": {
         "t": 60
        },
        "paper_bgcolor": "rgb(17,17,17)",
        "plot_bgcolor": "rgb(17,17,17)",
        "template": {
         "data": {
          "bar": [
           {
            "error_x": {
             "color": "#2a3f5f"
            },
            "error_y": {
             "color": "#2a3f5f"
            },
            "marker": {
             "line": {
              "color": "#E5ECF6",
              "width": 0.5
             },
             "pattern": {
              "fillmode": "overlay",
              "size": 10,
              "solidity": 0.2
             }
            },
            "type": "bar"
           }
          ],
          "barpolar": [
           {
            "marker": {
             "line": {
              "color": "#E5ECF6",
              "width": 0.5
             },
             "pattern": {
              "fillmode": "overlay",
              "size": 10,
              "solidity": 0.2
             }
            },
            "type": "barpolar"
           }
          ],
          "carpet": [
           {
            "aaxis": {
             "endlinecolor": "#2a3f5f",
             "gridcolor": "white",
             "linecolor": "white",
             "minorgridcolor": "white",
             "startlinecolor": "#2a3f5f"
            },
            "baxis": {
             "endlinecolor": "#2a3f5f",
             "gridcolor": "white",
             "linecolor": "white",
             "minorgridcolor": "white",
             "startlinecolor": "#2a3f5f"
            },
            "type": "carpet"
           }
          ],
          "choropleth": [
           {
            "colorbar": {
             "outlinewidth": 0,
             "ticks": ""
            },
            "type": "choropleth"
           }
          ],
          "contour": [
           {
            "colorbar": {
             "outlinewidth": 0,
             "ticks": ""
            },
            "colorscale": [
             [
              0,
              "#0d0887"
             ],
             [
              0.1111111111111111,
              "#46039f"
             ],
             [
              0.2222222222222222,
              "#7201a8"
             ],
             [
              0.3333333333333333,
              "#9c179e"
             ],
             [
              0.4444444444444444,
              "#bd3786"
             ],
             [
              0.5555555555555556,
              "#d8576b"
             ],
             [
              0.6666666666666666,
              "#ed7953"
             ],
             [
              0.7777777777777778,
              "#fb9f3a"
             ],
             [
              0.8888888888888888,
              "#fdca26"
             ],
             [
              1,
              "#f0f921"
             ]
            ],
            "type": "contour"
           }
          ],
          "contourcarpet": [
           {
            "colorbar": {
             "outlinewidth": 0,
             "ticks": ""
            },
            "type": "contourcarpet"
           }
          ],
          "heatmap": [
           {
            "colorbar": {
             "outlinewidth": 0,
             "ticks": ""
            },
            "colorscale": [
             [
              0,
              "#0d0887"
             ],
             [
              0.1111111111111111,
              "#46039f"
             ],
             [
              0.2222222222222222,
              "#7201a8"
             ],
             [
              0.3333333333333333,
              "#9c179e"
             ],
             [
              0.4444444444444444,
              "#bd3786"
             ],
             [
              0.5555555555555556,
              "#d8576b"
             ],
             [
              0.6666666666666666,
              "#ed7953"
             ],
             [
              0.7777777777777778,
              "#fb9f3a"
             ],
             [
              0.8888888888888888,
              "#fdca26"
             ],
             [
              1,
              "#f0f921"
             ]
            ],
            "type": "heatmap"
           }
          ],
          "heatmapgl": [
           {
            "colorbar": {
             "outlinewidth": 0,
             "ticks": ""
            },
            "colorscale": [
             [
              0,
              "#0d0887"
             ],
             [
              0.1111111111111111,
              "#46039f"
             ],
             [
              0.2222222222222222,
              "#7201a8"
             ],
             [
              0.3333333333333333,
              "#9c179e"
             ],
             [
              0.4444444444444444,
              "#bd3786"
             ],
             [
              0.5555555555555556,
              "#d8576b"
             ],
             [
              0.6666666666666666,
              "#ed7953"
             ],
             [
              0.7777777777777778,
              "#fb9f3a"
             ],
             [
              0.8888888888888888,
              "#fdca26"
             ],
             [
              1,
              "#f0f921"
             ]
            ],
            "type": "heatmapgl"
           }
          ],
          "histogram": [
           {
            "marker": {
             "pattern": {
              "fillmode": "overlay",
              "size": 10,
              "solidity": 0.2
             }
            },
            "type": "histogram"
           }
          ],
          "histogram2d": [
           {
            "colorbar": {
             "outlinewidth": 0,
             "ticks": ""
            },
            "colorscale": [
             [
              0,
              "#0d0887"
             ],
             [
              0.1111111111111111,
              "#46039f"
             ],
             [
              0.2222222222222222,
              "#7201a8"
             ],
             [
              0.3333333333333333,
              "#9c179e"
             ],
             [
              0.4444444444444444,
              "#bd3786"
             ],
             [
              0.5555555555555556,
              "#d8576b"
             ],
             [
              0.6666666666666666,
              "#ed7953"
             ],
             [
              0.7777777777777778,
              "#fb9f3a"
             ],
             [
              0.8888888888888888,
              "#fdca26"
             ],
             [
              1,
              "#f0f921"
             ]
            ],
            "type": "histogram2d"
           }
          ],
          "histogram2dcontour": [
           {
            "colorbar": {
             "outlinewidth": 0,
             "ticks": ""
            },
            "colorscale": [
             [
              0,
              "#0d0887"
             ],
             [
              0.1111111111111111,
              "#46039f"
             ],
             [
              0.2222222222222222,
              "#7201a8"
             ],
             [
              0.3333333333333333,
              "#9c179e"
             ],
             [
              0.4444444444444444,
              "#bd3786"
             ],
             [
              0.5555555555555556,
              "#d8576b"
             ],
             [
              0.6666666666666666,
              "#ed7953"
             ],
             [
              0.7777777777777778,
              "#fb9f3a"
             ],
             [
              0.8888888888888888,
              "#fdca26"
             ],
             [
              1,
              "#f0f921"
             ]
            ],
            "type": "histogram2dcontour"
           }
          ],
          "mesh3d": [
           {
            "colorbar": {
             "outlinewidth": 0,
             "ticks": ""
            },
            "type": "mesh3d"
           }
          ],
          "parcoords": [
           {
            "line": {
             "colorbar": {
              "outlinewidth": 0,
              "ticks": ""
             }
            },
            "type": "parcoords"
           }
          ],
          "pie": [
           {
            "automargin": true,
            "type": "pie"
           }
          ],
          "scatter": [
           {
            "fillpattern": {
             "fillmode": "overlay",
             "size": 10,
             "solidity": 0.2
            },
            "type": "scatter"
           }
          ],
          "scatter3d": [
           {
            "line": {
             "colorbar": {
              "outlinewidth": 0,
              "ticks": ""
             }
            },
            "marker": {
             "colorbar": {
              "outlinewidth": 0,
              "ticks": ""
             }
            },
            "type": "scatter3d"
           }
          ],
          "scattercarpet": [
           {
            "marker": {
             "colorbar": {
              "outlinewidth": 0,
              "ticks": ""
             }
            },
            "type": "scattercarpet"
           }
          ],
          "scattergeo": [
           {
            "marker": {
             "colorbar": {
              "outlinewidth": 0,
              "ticks": ""
             }
            },
            "type": "scattergeo"
           }
          ],
          "scattergl": [
           {
            "marker": {
             "colorbar": {
              "outlinewidth": 0,
              "ticks": ""
             }
            },
            "type": "scattergl"
           }
          ],
          "scattermapbox": [
           {
            "marker": {
             "colorbar": {
              "outlinewidth": 0,
              "ticks": ""
             }
            },
            "type": "scattermapbox"
           }
          ],
          "scatterpolar": [
           {
            "marker": {
             "colorbar": {
              "outlinewidth": 0,
              "ticks": ""
             }
            },
            "type": "scatterpolar"
           }
          ],
          "scatterpolargl": [
           {
            "marker": {
             "colorbar": {
              "outlinewidth": 0,
              "ticks": ""
             }
            },
            "type": "scatterpolargl"
           }
          ],
          "scatterternary": [
           {
            "marker": {
             "colorbar": {
              "outlinewidth": 0,
              "ticks": ""
             }
            },
            "type": "scatterternary"
           }
          ],
          "surface": [
           {
            "colorbar": {
             "outlinewidth": 0,
             "ticks": ""
            },
            "colorscale": [
             [
              0,
              "#0d0887"
             ],
             [
              0.1111111111111111,
              "#46039f"
             ],
             [
              0.2222222222222222,
              "#7201a8"
             ],
             [
              0.3333333333333333,
              "#9c179e"
             ],
             [
              0.4444444444444444,
              "#bd3786"
             ],
             [
              0.5555555555555556,
              "#d8576b"
             ],
             [
              0.6666666666666666,
              "#ed7953"
             ],
             [
              0.7777777777777778,
              "#fb9f3a"
             ],
             [
              0.8888888888888888,
              "#fdca26"
             ],
             [
              1,
              "#f0f921"
             ]
            ],
            "type": "surface"
           }
          ],
          "table": [
           {
            "cells": {
             "fill": {
              "color": "#EBF0F8"
             },
             "line": {
              "color": "white"
             }
            },
            "header": {
             "fill": {
              "color": "#C8D4E3"
             },
             "line": {
              "color": "white"
             }
            },
            "type": "table"
           }
          ]
         },
         "layout": {
          "annotationdefaults": {
           "arrowcolor": "#2a3f5f",
           "arrowhead": 0,
           "arrowwidth": 1
          },
          "autotypenumbers": "strict",
          "coloraxis": {
           "colorbar": {
            "outlinewidth": 0,
            "ticks": ""
           }
          },
          "colorscale": {
           "diverging": [
            [
             0,
             "#8e0152"
            ],
            [
             0.1,
             "#c51b7d"
            ],
            [
             0.2,
             "#de77ae"
            ],
            [
             0.3,
             "#f1b6da"
            ],
            [
             0.4,
             "#fde0ef"
            ],
            [
             0.5,
             "#f7f7f7"
            ],
            [
             0.6,
             "#e6f5d0"
            ],
            [
             0.7,
             "#b8e186"
            ],
            [
             0.8,
             "#7fbc41"
            ],
            [
             0.9,
             "#4d9221"
            ],
            [
             1,
             "#276419"
            ]
           ],
           "sequential": [
            [
             0,
             "#0d0887"
            ],
            [
             0.1111111111111111,
             "#46039f"
            ],
            [
             0.2222222222222222,
             "#7201a8"
            ],
            [
             0.3333333333333333,
             "#9c179e"
            ],
            [
             0.4444444444444444,
             "#bd3786"
            ],
            [
             0.5555555555555556,
             "#d8576b"
            ],
            [
             0.6666666666666666,
             "#ed7953"
            ],
            [
             0.7777777777777778,
             "#fb9f3a"
            ],
            [
             0.8888888888888888,
             "#fdca26"
            ],
            [
             1,
             "#f0f921"
            ]
           ],
           "sequentialminus": [
            [
             0,
             "#0d0887"
            ],
            [
             0.1111111111111111,
             "#46039f"
            ],
            [
             0.2222222222222222,
             "#7201a8"
            ],
            [
             0.3333333333333333,
             "#9c179e"
            ],
            [
             0.4444444444444444,
             "#bd3786"
            ],
            [
             0.5555555555555556,
             "#d8576b"
            ],
            [
             0.6666666666666666,
             "#ed7953"
            ],
            [
             0.7777777777777778,
             "#fb9f3a"
            ],
            [
             0.8888888888888888,
             "#fdca26"
            ],
            [
             1,
             "#f0f921"
            ]
           ]
          },
          "colorway": [
           "#636efa",
           "#EF553B",
           "#00cc96",
           "#ab63fa",
           "#FFA15A",
           "#19d3f3",
           "#FF6692",
           "#B6E880",
           "#FF97FF",
           "#FECB52"
          ],
          "font": {
           "color": "#2a3f5f"
          },
          "geo": {
           "bgcolor": "white",
           "lakecolor": "white",
           "landcolor": "#E5ECF6",
           "showlakes": true,
           "showland": true,
           "subunitcolor": "white"
          },
          "hoverlabel": {
           "align": "left"
          },
          "hovermode": "closest",
          "mapbox": {
           "style": "light"
          },
          "paper_bgcolor": "white",
          "plot_bgcolor": "#E5ECF6",
          "polar": {
           "angularaxis": {
            "gridcolor": "white",
            "linecolor": "white",
            "ticks": ""
           },
           "bgcolor": "#E5ECF6",
           "radialaxis": {
            "gridcolor": "white",
            "linecolor": "white",
            "ticks": ""
           }
          },
          "scene": {
           "xaxis": {
            "backgroundcolor": "#E5ECF6",
            "gridcolor": "white",
            "gridwidth": 2,
            "linecolor": "white",
            "showbackground": true,
            "ticks": "",
            "zerolinecolor": "white"
           },
           "yaxis": {
            "backgroundcolor": "#E5ECF6",
            "gridcolor": "white",
            "gridwidth": 2,
            "linecolor": "white",
            "showbackground": true,
            "ticks": "",
            "zerolinecolor": "white"
           },
           "zaxis": {
            "backgroundcolor": "#E5ECF6",
            "gridcolor": "white",
            "gridwidth": 2,
            "linecolor": "white",
            "showbackground": true,
            "ticks": "",
            "zerolinecolor": "white"
           }
          },
          "shapedefaults": {
           "line": {
            "color": "#2a3f5f"
           }
          },
          "ternary": {
           "aaxis": {
            "gridcolor": "white",
            "linecolor": "white",
            "ticks": ""
           },
           "baxis": {
            "gridcolor": "white",
            "linecolor": "white",
            "ticks": ""
           },
           "bgcolor": "#E5ECF6",
           "caxis": {
            "gridcolor": "white",
            "linecolor": "white",
            "ticks": ""
           }
          },
          "title": {
           "x": 0.05
          },
          "xaxis": {
           "automargin": true,
           "gridcolor": "white",
           "linecolor": "white",
           "ticks": "",
           "title": {
            "standoff": 15
           },
           "zerolinecolor": "white",
           "zerolinewidth": 2
          },
          "yaxis": {
           "automargin": true,
           "gridcolor": "white",
           "linecolor": "white",
           "ticks": "",
           "title": {
            "standoff": 15
           },
           "zerolinecolor": "white",
           "zerolinewidth": 2
          }
         }
        },
        "title": {
         "text": "effective loss by delta buying"
        },
        "xaxis": {
         "anchor": "y",
         "domain": [
          0,
          1
         ],
         "gridcolor": "rgb(80,80,80)",
         "title": {
          "text": "delta b"
         }
        },
        "yaxis": {
         "anchor": "x",
         "domain": [
          0,
          1
         ],
         "gridcolor": "rgb(80,80,80)",
         "title": {
          "text": "loss"
         }
        }
       }
      }
     },
     "metadata": {},
     "output_type": "display_data"
    }
   ],
   "source": [
    "\n",
    "# Create an interactive scatter plot\n",
    "fig = px.scatter(combined_df, x='delta_b', y='loss', color='Series', #size='point_size',\n",
    "                 hover_data=['delta_b', 'delta_s', 'loss'])\n",
    "\n",
    "# Add lines for specified series\n",
    "# for series in slopes_df:\n",
    "#     fig.add_trace(px.line(series, x='delta_s', y='loss', color='Series').data[0])\n",
    "\n",
    "# Concatenate all DataFrames in slopes_df\n",
    "all_slopes_df = pd.concat(slopes_df)\n",
    "# Create a line plot for all slopes\n",
    "line_fig = px.line(all_slopes_df, x='delta_b', y='loss', color='Series', hover_data=['delta_b', 'delta_s', 'loss'], markers=True)\n",
    "\n",
    "# Add each line trace individually\n",
    "for trace in line_fig.data:\n",
    "    trace.update(marker=dict(symbol='circle-open', size=10)) \n",
    "    fig.add_trace(trace)\n",
    "\n",
    "# Update marker properties to have darker outlines\n",
    "# fig.update_traces(marker=dict(line=dict(width=1, color='rgba(40,40,40,1)')))  # Adjust the color as needed\n",
    "\n",
    "# Update marker properties to remove outlines or match the fill color\n",
    "fig.update_traces(marker=dict(line=dict(width=0)))  # Removes the outline\n",
    "\n",
    "# Alternatively, to set the outline to the same color as the fill:\n",
    "# fig.update_traces(marker=dict(line=dict(width=1, color='SAME_COLOR')))\n",
    "\n",
    "\n",
    "# Update the layout for dark mode\n",
    "fig.update_layout(\n",
    "    title='Scatter Plot in Dark Mode',\n",
    "    plot_bgcolor='rgb(17,17,17)',  # Dark plot background\n",
    "    paper_bgcolor='rgb(17,17,17)',  # Dark paper background\n",
    "    font_color='white',  # White text for better contrast\n",
    "    xaxis=dict(\n",
    "        gridcolor='rgb(80,80,80)',  # Darker gridlines\n",
    "    ),\n",
    "    yaxis=dict(\n",
    "        gridcolor='rgb(80,80,80)',  # Darker gridlines\n",
    "    )\n",
    ")\n",
    "\n",
    "# Add plot titles and labels\n",
    "fig.update_layout(title='effective loss by delta buying',\n",
    "                  xaxis_title='delta b',\n",
    "                  yaxis_title='loss',\n",
    "                  # showlegend=False,\n",
    "                  height=1600)\n",
    "                  \n",
    "\n",
    "# fig.update_yaxes(range=[combined_df['loss'].min(), combined_df['loss'].max()])  # Adjust the range as needed\n",
    "\n",
    "# # Sort the DataFrame by 'ratio' in descending order\n",
    "# sorted_df = combined_df.sort_values(by='loss', ascending=False)\n",
    "\n",
    "# # Adding a line that connects the dots in decreasing order of their y-value\n",
    "# fig.add_trace(px.line(sorted_df, x='delta_b', y='loss').data[0])\n",
    "\n",
    "# # Find the five lowest unique y-values (ratios)\n",
    "# lowest_ratios = combined_df['loss'].unique()\n",
    "# lowest_ratios.sort()\n",
    "\n",
    "# # Group by 'ratio' and draw lines for each of the five lowest ratios\n",
    "# for loss in lowest_ratios[:20]:\n",
    "#     group = combined_df[combined_df['loss'] == loss]\n",
    "#     # Sort each group by 'delta_b' to make line connections logical\n",
    "#     sorted_group = group.sort_values(by='delta_b')\n",
    "#     fig.add_trace(px.line(sorted_group, x='delta_b', y='loss').data[0])\n",
    "\n",
    "# # Adjusting the plot size and layout\n",
    "# fig.update_layout(title='Scatter Plot with Lines for Lowest Y-values',\n",
    "#                   xaxis_title='Delta_b',\n",
    "#                   yaxis_title='loss',\n",
    "#                   height=800)\n",
    "\n",
    "# Show the plot\n",
    "fig.show()\n"
   ]
  },
  {
   "cell_type": "code",
   "execution_count": 357,
   "metadata": {},
   "outputs": [
    {
     "data": {
      "application/vnd.plotly.v1+json": {
       "config": {
        "plotlyServerURL": "https://plot.ly"
       },
       "data": [
        {
         "customdata": [
          [
           3172
          ],
          [
           3174
          ],
          [
           3176
          ],
          [
           3178
          ],
          [
           3180
          ],
          [
           3182
          ],
          [
           3184
          ],
          [
           3186
          ],
          [
           3188
          ],
          [
           3190
          ],
          [
           3192
          ],
          [
           3194
          ],
          [
           3197
          ],
          [
           3199
          ],
          [
           3201
          ],
          [
           3203
          ],
          [
           3205
          ],
          [
           3207
          ],
          [
           3209
          ],
          [
           3211
          ],
          [
           3213
          ],
          [
           3215
          ],
          [
           3217
          ],
          [
           3219
          ],
          [
           3221
          ],
          [
           3223
          ],
          [
           3226
          ],
          [
           3228
          ],
          [
           3230
          ],
          [
           3232
          ],
          [
           3234
          ],
          [
           3236
          ],
          [
           3238
          ],
          [
           3240
          ],
          [
           3242
          ],
          [
           3244
          ],
          [
           3246
          ],
          [
           3248
          ],
          [
           3250
          ],
          [
           3252
          ],
          [
           3254
          ],
          [
           3257
          ]
         ],
         "hovertemplate": "Series=subopt<br>delta_s=%{x}<br>loss=%{y}<br>delta_b=%{customdata[0]}<extra></extra>",
         "legendgroup": "subopt",
         "marker": {
          "color": "#636efa",
          "line": {
           "width": 0
          },
          "symbol": "circle"
         },
         "mode": "markers",
         "name": "subopt",
         "orientation": "v",
         "showlegend": true,
         "type": "scatter",
         "x": [
          4706,
          4709,
          4712,
          4715,
          4718,
          4721,
          4724,
          4727,
          4730,
          4733,
          4736,
          4739,
          4743,
          4746,
          4749,
          4752,
          4755,
          4758,
          4761,
          4764,
          4767,
          4770,
          4773,
          4776,
          4779,
          4782,
          4786,
          4789,
          4792,
          4795,
          4798,
          4801,
          4804,
          4807,
          4810,
          4813,
          4816,
          4819,
          4822,
          4825,
          4828,
          4832
         ],
         "xaxis": "x",
         "y": [
          0.7425288197605369,
          0.7651016175632321,
          0.7876744153659274,
          0.8102472131686227,
          0.832820010971318,
          0.8553928087735585,
          0.8779656065762538,
          0.900538404378949,
          0.9231112021816443,
          0.9456839999843396,
          0.9682567977870349,
          0.9908295955897302,
          0.6875933259930207,
          0.710166123795716,
          0.7327389215984113,
          0.7553117194011065,
          0.7778845172038018,
          0.8004573150064971,
          0.8230301128091924,
          0.8456029106118876,
          0.8681757084145829,
          0.8907485062172782,
          0.9133213040199735,
          0.935894101822214,
          0.9584668996249093,
          0.9810396974276046,
          0.6778034278313498,
          0.7003762256340451,
          0.7229490234367404,
          0.7455218212389809,
          0.7680946190416762,
          0.7906674168443715,
          0.8132402146470668,
          0.835813012449762,
          0.8583858102524573,
          0.8809586080551526,
          0.9035314058578479,
          0.9261042036605431,
          0.9486770014632384,
          0.9712497992659337,
          0.9938225970681742,
          0.6905863274719195
         ],
         "yaxis": "y"
        },
        {
         "customdata": [
          [
           3173
          ],
          [
           3174
          ],
          [
           3175
          ],
          [
           3176
          ],
          [
           3177
          ],
          [
           3178
          ],
          [
           3179
          ],
          [
           3180
          ],
          [
           3181
          ],
          [
           3182
          ],
          [
           3183
          ],
          [
           3184
          ],
          [
           3185
          ],
          [
           3186
          ],
          [
           3187
          ],
          [
           3188
          ],
          [
           3189
          ],
          [
           3190
          ],
          [
           3191
          ],
          [
           3192
          ],
          [
           3193
          ],
          [
           3194
          ],
          [
           3195
          ],
          [
           3196
          ],
          [
           3198
          ],
          [
           3199
          ],
          [
           3200
          ],
          [
           3201
          ],
          [
           3202
          ],
          [
           3203
          ],
          [
           3204
          ],
          [
           3205
          ],
          [
           3206
          ],
          [
           3207
          ],
          [
           3208
          ],
          [
           3209
          ],
          [
           3210
          ],
          [
           3211
          ],
          [
           3212
          ],
          [
           3213
          ],
          [
           3214
          ],
          [
           3215
          ],
          [
           3216
          ],
          [
           3217
          ],
          [
           3218
          ],
          [
           3219
          ],
          [
           3220
          ],
          [
           3221
          ],
          [
           3222
          ],
          [
           3223
          ],
          [
           3224
          ],
          [
           3225
          ],
          [
           3227
          ],
          [
           3228
          ],
          [
           3229
          ],
          [
           3230
          ],
          [
           3231
          ],
          [
           3232
          ],
          [
           3233
          ],
          [
           3234
          ],
          [
           3235
          ],
          [
           3236
          ],
          [
           3237
          ],
          [
           3238
          ],
          [
           3239
          ],
          [
           3240
          ],
          [
           3241
          ],
          [
           3242
          ],
          [
           3243
          ],
          [
           3244
          ],
          [
           3245
          ],
          [
           3246
          ],
          [
           3247
          ],
          [
           3248
          ],
          [
           3249
          ],
          [
           3250
          ],
          [
           3251
          ],
          [
           3252
          ],
          [
           3253
          ],
          [
           3254
          ],
          [
           3255
          ],
          [
           3256
          ],
          [
           3257
          ]
         ],
         "hovertemplate": "Series=other<br>delta_s=%{x}<br>loss=%{y}<br>delta_b=%{customdata[0]}<extra></extra>",
         "legendgroup": "other",
         "marker": {
          "color": "#EF553B",
          "line": {
           "width": 0
          },
          "symbol": "circle"
         },
         "mode": "markers",
         "name": "other",
         "orientation": "v",
         "showlegend": true,
         "type": "scatter",
         "x": [
          4707,
          4708,
          4710,
          4711,
          4713,
          4714,
          4716,
          4717,
          4719,
          4720,
          4722,
          4723,
          4725,
          4726,
          4728,
          4729,
          4731,
          4732,
          4734,
          4735,
          4737,
          4738,
          4740,
          4741,
          4744,
          4745,
          4747,
          4748,
          4750,
          4751,
          4753,
          4754,
          4756,
          4757,
          4759,
          4760,
          4762,
          4763,
          4765,
          4766,
          4768,
          4769,
          4771,
          4772,
          4774,
          4775,
          4777,
          4778,
          4780,
          4781,
          4783,
          4784,
          4787,
          4788,
          4790,
          4791,
          4793,
          4794,
          4796,
          4797,
          4799,
          4800,
          4802,
          4803,
          4805,
          4806,
          4808,
          4809,
          4811,
          4812,
          4814,
          4815,
          4817,
          4818,
          4820,
          4821,
          4823,
          4824,
          4826,
          4827,
          4829,
          4830,
          4831
         ],
         "xaxis": "x",
         "y": [
          0.41671975236158687,
          0.09091068496218213,
          0.4392925501638274,
          0.11348348276487741,
          0.4618653479665227,
          0.13605628056757268,
          0.48443814576921795,
          0.15862907837026796,
          0.5070109435719132,
          0.18120187617296324,
          0.5295837413746085,
          0.20377467397565852,
          0.5521565391773038,
          0.2263474717783538,
          0.5747293369799991,
          0.24892026958104907,
          0.5973021347826943,
          0.2714930673832896,
          0.6198749325853896,
          0.2940658651859849,
          0.6424477303880849,
          0.31663866298868015,
          0.6650205281907802,
          0.33921146079137543,
          0.3617842585940707,
          0.035975191195120715,
          0.384357056396766,
          0.05854798899781599,
          0.40692985419946126,
          0.08112078680051127,
          0.42950265200215654,
          0.1036935846027518,
          0.4520754498048518,
          0.12626638240544708,
          0.4746482476075471,
          0.14883918020814235,
          0.49722104541024237,
          0.17141197801083763,
          0.5197938432124829,
          0.1939847758135329,
          0.5423666410151782,
          0.21655757361622818,
          0.5649394388178735,
          0.23913037141892346,
          0.5875122366205687,
          0.26170316922161874,
          0.610085034423264,
          0.284275967024314,
          0.6326578322259593,
          0.3068487648270093,
          0.6552306300286546,
          0.3294215626292498,
          0.3519943604319451,
          0.026185293032995105,
          0.3745671582346404,
          0.04875809083569038,
          0.39713995603733565,
          0.07133088863838566,
          0.4197127538400309,
          0.09390368644108094,
          0.4422855516427262,
          0.11647648424377621,
          0.4648583494454215,
          0.1390492820464715,
          0.48743114724811676,
          0.16162207984871202,
          0.510003945050812,
          0.1841948776514073,
          0.5325767428535073,
          0.20676767545410257,
          0.5551495406562026,
          0.22934047325679785,
          0.5777223384584431,
          0.2519132710594931,
          0.6002951362611384,
          0.2744860688621884,
          0.6228679340638337,
          0.2970588666648837,
          0.645440731866529,
          0.31963166446757896,
          0.6680135296692242,
          0.34220446227027423,
          0.016395394870869495
         ],
         "yaxis": "y"
        },
        {
         "customdata": [
          [
           3171
          ],
          [
           3172
          ],
          [
           3197
          ],
          [
           3226
          ]
         ],
         "hovertemplate": "Series=best<br>delta_s=%{x}<br>loss=%{y}<br>delta_b=%{customdata[0]}<extra></extra>",
         "legendgroup": "best",
         "marker": {
          "color": "#00cc96",
          "line": {
           "width": 0
          },
          "symbol": "circle"
         },
         "mode": "markers",
         "name": "best",
         "orientation": "v",
         "showlegend": true,
         "type": "scatter",
         "x": [
          4704,
          4705,
          4742,
          4785
         ],
         "xaxis": "x",
         "y": [
          0.3941469545588916,
          0.06833788715948685,
          0.013402393392425438,
          0.003612495230299828
         ],
         "yaxis": "y"
        },
        {
         "customdata": [
          [
           3171
          ],
          [
           3172
          ],
          [
           3173
          ],
          [
           3173
          ],
          [
           3174
          ],
          [
           3175
          ],
          [
           3175
          ],
          [
           3176
          ],
          [
           3177
          ],
          [
           3177
          ],
          [
           3178
          ],
          [
           3179
          ],
          [
           3179
          ],
          [
           3180
          ],
          [
           3181
          ],
          [
           3181
          ],
          [
           3182
          ],
          [
           3183
          ],
          [
           3183
          ],
          [
           3184
          ],
          [
           3185
          ],
          [
           3185
          ],
          [
           3186
          ],
          [
           3187
          ],
          [
           3187
          ],
          [
           3188
          ],
          [
           3189
          ],
          [
           3189
          ],
          [
           3190
          ],
          [
           3191
          ],
          [
           3191
          ],
          [
           3192
          ],
          [
           3193
          ],
          [
           3193
          ],
          [
           3194
          ],
          [
           3195
          ],
          [
           3195
          ],
          [
           3196
          ],
          [
           3197
          ],
          [
           3222
          ],
          [
           3221
          ],
          [
           3246
          ],
          [
           3271
          ]
         ],
         "hovertemplate": "Series=slope1<br>delta_s=%{x}<br>loss=%{y}<br>delta_b=%{customdata[0]}<extra></extra>",
         "legendgroup": "slope1",
         "line": {
          "color": "#636efa",
          "dash": "solid"
         },
         "marker": {
          "line": {
           "width": 0
          },
          "size": 10,
          "symbol": "circle-open"
         },
         "mode": "lines+markers",
         "name": "slope1",
         "orientation": "v",
         "showlegend": true,
         "type": "scatter",
         "x": [
          4704,
          4705,
          4707,
          4707,
          4708,
          4710,
          4710,
          4711,
          4713,
          4713,
          4714,
          4716,
          4716,
          4717,
          4719,
          4719,
          4720,
          4722,
          4722,
          4723,
          4725,
          4725,
          4726,
          4728,
          4728,
          4729,
          4731,
          4731,
          4732,
          4734,
          4734,
          4735,
          4737,
          4737,
          4738,
          4740,
          4740,
          4741,
          4742,
          4780,
          4778,
          4815,
          4852
         ],
         "xaxis": "x",
         "y": [
          0.3941469545588916,
          0.06833788715948685,
          -0.41671975236158687,
          0.41671975236158687,
          0.09091068496218213,
          -0.4392925501638274,
          0.4392925501638274,
          0.11348348276487741,
          -0.4618653479665227,
          0.4618653479665227,
          0.13605628056757268,
          -0.48443814576921795,
          0.48443814576921795,
          0.15862907837026796,
          -0.5070109435719132,
          0.5070109435719132,
          0.18120187617296324,
          -0.5295837413746085,
          0.5295837413746085,
          0.20377467397565852,
          -0.5521565391773038,
          0.5521565391773038,
          0.2263474717783538,
          -0.5747293369799991,
          0.5747293369799991,
          0.24892026958104907,
          -0.5973021347826943,
          0.5973021347826943,
          0.2714930673832896,
          -0.6198749325853896,
          0.6198749325853896,
          0.2940658651859849,
          -0.6424477303880849,
          0.6424477303880849,
          0.31663866298868015,
          -0.6650205281907802,
          0.6650205281907802,
          0.33921146079137543,
          0.013402393392425438,
          -0.6326578322259593,
          0.284275967024314,
          0.22934047325679785,
          0.17440497948973643
         ],
         "yaxis": "y"
        },
        {
         "customdata": [
          [
           3171
          ],
          [
           3172
          ],
          [
           3173
          ],
          [
           3173
          ],
          [
           3174
          ],
          [
           3175
          ],
          [
           3175
          ],
          [
           3176
          ],
          [
           3177
          ],
          [
           3177
          ],
          [
           3178
          ],
          [
           3179
          ],
          [
           3179
          ],
          [
           3180
          ],
          [
           3181
          ],
          [
           3181
          ],
          [
           3182
          ],
          [
           3183
          ],
          [
           3183
          ],
          [
           3184
          ],
          [
           3185
          ],
          [
           3185
          ],
          [
           3186
          ],
          [
           3187
          ],
          [
           3187
          ],
          [
           3188
          ],
          [
           3189
          ],
          [
           3189
          ],
          [
           3190
          ],
          [
           3191
          ],
          [
           3191
          ],
          [
           3192
          ],
          [
           3193
          ],
          [
           3193
          ],
          [
           3194
          ],
          [
           3195
          ],
          [
           3195
          ],
          [
           3196
          ],
          [
           3197
          ],
          [
           3222
          ],
          [
           3221
          ],
          [
           3246
          ],
          [
           3271
          ]
         ],
         "hovertemplate": "Series=slope2<br>delta_s=%{x}<br>loss=%{y}<br>delta_b=%{customdata[0]}<extra></extra>",
         "legendgroup": "slope2",
         "line": {
          "color": "#EF553B",
          "dash": "solid"
         },
         "marker": {
          "line": {
           "width": 0
          },
          "size": 10,
          "symbol": "circle-open"
         },
         "mode": "lines+markers",
         "name": "slope2",
         "orientation": "v",
         "showlegend": true,
         "type": "scatter",
         "x": [
          4704,
          4705,
          4707,
          4707,
          4708,
          4710,
          4710,
          4711,
          4713,
          4713,
          4714,
          4716,
          4716,
          4717,
          4719,
          4719,
          4720,
          4722,
          4722,
          4723,
          4725,
          4725,
          4726,
          4728,
          4728,
          4729,
          4731,
          4731,
          4732,
          4734,
          4734,
          4735,
          4737,
          4737,
          4738,
          4740,
          4740,
          4741,
          4742,
          4780,
          4778,
          4815,
          4852
         ],
         "xaxis": "x",
         "y": [
          0.3941469545588916,
          0.06833788715948685,
          0.41671975236158687,
          0.41671975236158687,
          0.09091068496218213,
          0.4392925501638274,
          0.4392925501638274,
          0.11348348276487741,
          0.4618653479665227,
          0.4618653479665227,
          0.13605628056757268,
          0.48443814576921795,
          0.48443814576921795,
          0.15862907837026796,
          0.5070109435719132,
          0.5070109435719132,
          0.18120187617296324,
          0.5295837413746085,
          0.5295837413746085,
          0.20377467397565852,
          0.5521565391773038,
          0.5521565391773038,
          0.2263474717783538,
          0.5747293369799991,
          0.5747293369799991,
          0.24892026958104907,
          0.5973021347826943,
          0.5973021347826943,
          0.2714930673832896,
          0.6198749325853896,
          0.6198749325853896,
          0.2940658651859849,
          0.6424477303880849,
          0.6424477303880849,
          0.31663866298868015,
          0.6650205281907802,
          0.6650205281907802,
          0.33921146079137543,
          0.013402393392425438,
          0.6326578322259593,
          0.284275967024314,
          0.22934047325679785,
          0.17440497948973643
         ],
         "yaxis": "y"
        }
       ],
       "layout": {
        "font": {
         "color": "white"
        },
        "height": 1600,
        "legend": {
         "title": {
          "text": "Series"
         },
         "tracegroupgap": 0
        },
        "margin": {
         "t": 60
        },
        "paper_bgcolor": "rgb(17,17,17)",
        "plot_bgcolor": "rgb(17,17,17)",
        "template": {
         "data": {
          "bar": [
           {
            "error_x": {
             "color": "#2a3f5f"
            },
            "error_y": {
             "color": "#2a3f5f"
            },
            "marker": {
             "line": {
              "color": "#E5ECF6",
              "width": 0.5
             },
             "pattern": {
              "fillmode": "overlay",
              "size": 10,
              "solidity": 0.2
             }
            },
            "type": "bar"
           }
          ],
          "barpolar": [
           {
            "marker": {
             "line": {
              "color": "#E5ECF6",
              "width": 0.5
             },
             "pattern": {
              "fillmode": "overlay",
              "size": 10,
              "solidity": 0.2
             }
            },
            "type": "barpolar"
           }
          ],
          "carpet": [
           {
            "aaxis": {
             "endlinecolor": "#2a3f5f",
             "gridcolor": "white",
             "linecolor": "white",
             "minorgridcolor": "white",
             "startlinecolor": "#2a3f5f"
            },
            "baxis": {
             "endlinecolor": "#2a3f5f",
             "gridcolor": "white",
             "linecolor": "white",
             "minorgridcolor": "white",
             "startlinecolor": "#2a3f5f"
            },
            "type": "carpet"
           }
          ],
          "choropleth": [
           {
            "colorbar": {
             "outlinewidth": 0,
             "ticks": ""
            },
            "type": "choropleth"
           }
          ],
          "contour": [
           {
            "colorbar": {
             "outlinewidth": 0,
             "ticks": ""
            },
            "colorscale": [
             [
              0,
              "#0d0887"
             ],
             [
              0.1111111111111111,
              "#46039f"
             ],
             [
              0.2222222222222222,
              "#7201a8"
             ],
             [
              0.3333333333333333,
              "#9c179e"
             ],
             [
              0.4444444444444444,
              "#bd3786"
             ],
             [
              0.5555555555555556,
              "#d8576b"
             ],
             [
              0.6666666666666666,
              "#ed7953"
             ],
             [
              0.7777777777777778,
              "#fb9f3a"
             ],
             [
              0.8888888888888888,
              "#fdca26"
             ],
             [
              1,
              "#f0f921"
             ]
            ],
            "type": "contour"
           }
          ],
          "contourcarpet": [
           {
            "colorbar": {
             "outlinewidth": 0,
             "ticks": ""
            },
            "type": "contourcarpet"
           }
          ],
          "heatmap": [
           {
            "colorbar": {
             "outlinewidth": 0,
             "ticks": ""
            },
            "colorscale": [
             [
              0,
              "#0d0887"
             ],
             [
              0.1111111111111111,
              "#46039f"
             ],
             [
              0.2222222222222222,
              "#7201a8"
             ],
             [
              0.3333333333333333,
              "#9c179e"
             ],
             [
              0.4444444444444444,
              "#bd3786"
             ],
             [
              0.5555555555555556,
              "#d8576b"
             ],
             [
              0.6666666666666666,
              "#ed7953"
             ],
             [
              0.7777777777777778,
              "#fb9f3a"
             ],
             [
              0.8888888888888888,
              "#fdca26"
             ],
             [
              1,
              "#f0f921"
             ]
            ],
            "type": "heatmap"
           }
          ],
          "heatmapgl": [
           {
            "colorbar": {
             "outlinewidth": 0,
             "ticks": ""
            },
            "colorscale": [
             [
              0,
              "#0d0887"
             ],
             [
              0.1111111111111111,
              "#46039f"
             ],
             [
              0.2222222222222222,
              "#7201a8"
             ],
             [
              0.3333333333333333,
              "#9c179e"
             ],
             [
              0.4444444444444444,
              "#bd3786"
             ],
             [
              0.5555555555555556,
              "#d8576b"
             ],
             [
              0.6666666666666666,
              "#ed7953"
             ],
             [
              0.7777777777777778,
              "#fb9f3a"
             ],
             [
              0.8888888888888888,
              "#fdca26"
             ],
             [
              1,
              "#f0f921"
             ]
            ],
            "type": "heatmapgl"
           }
          ],
          "histogram": [
           {
            "marker": {
             "pattern": {
              "fillmode": "overlay",
              "size": 10,
              "solidity": 0.2
             }
            },
            "type": "histogram"
           }
          ],
          "histogram2d": [
           {
            "colorbar": {
             "outlinewidth": 0,
             "ticks": ""
            },
            "colorscale": [
             [
              0,
              "#0d0887"
             ],
             [
              0.1111111111111111,
              "#46039f"
             ],
             [
              0.2222222222222222,
              "#7201a8"
             ],
             [
              0.3333333333333333,
              "#9c179e"
             ],
             [
              0.4444444444444444,
              "#bd3786"
             ],
             [
              0.5555555555555556,
              "#d8576b"
             ],
             [
              0.6666666666666666,
              "#ed7953"
             ],
             [
              0.7777777777777778,
              "#fb9f3a"
             ],
             [
              0.8888888888888888,
              "#fdca26"
             ],
             [
              1,
              "#f0f921"
             ]
            ],
            "type": "histogram2d"
           }
          ],
          "histogram2dcontour": [
           {
            "colorbar": {
             "outlinewidth": 0,
             "ticks": ""
            },
            "colorscale": [
             [
              0,
              "#0d0887"
             ],
             [
              0.1111111111111111,
              "#46039f"
             ],
             [
              0.2222222222222222,
              "#7201a8"
             ],
             [
              0.3333333333333333,
              "#9c179e"
             ],
             [
              0.4444444444444444,
              "#bd3786"
             ],
             [
              0.5555555555555556,
              "#d8576b"
             ],
             [
              0.6666666666666666,
              "#ed7953"
             ],
             [
              0.7777777777777778,
              "#fb9f3a"
             ],
             [
              0.8888888888888888,
              "#fdca26"
             ],
             [
              1,
              "#f0f921"
             ]
            ],
            "type": "histogram2dcontour"
           }
          ],
          "mesh3d": [
           {
            "colorbar": {
             "outlinewidth": 0,
             "ticks": ""
            },
            "type": "mesh3d"
           }
          ],
          "parcoords": [
           {
            "line": {
             "colorbar": {
              "outlinewidth": 0,
              "ticks": ""
             }
            },
            "type": "parcoords"
           }
          ],
          "pie": [
           {
            "automargin": true,
            "type": "pie"
           }
          ],
          "scatter": [
           {
            "fillpattern": {
             "fillmode": "overlay",
             "size": 10,
             "solidity": 0.2
            },
            "type": "scatter"
           }
          ],
          "scatter3d": [
           {
            "line": {
             "colorbar": {
              "outlinewidth": 0,
              "ticks": ""
             }
            },
            "marker": {
             "colorbar": {
              "outlinewidth": 0,
              "ticks": ""
             }
            },
            "type": "scatter3d"
           }
          ],
          "scattercarpet": [
           {
            "marker": {
             "colorbar": {
              "outlinewidth": 0,
              "ticks": ""
             }
            },
            "type": "scattercarpet"
           }
          ],
          "scattergeo": [
           {
            "marker": {
             "colorbar": {
              "outlinewidth": 0,
              "ticks": ""
             }
            },
            "type": "scattergeo"
           }
          ],
          "scattergl": [
           {
            "marker": {
             "colorbar": {
              "outlinewidth": 0,
              "ticks": ""
             }
            },
            "type": "scattergl"
           }
          ],
          "scattermapbox": [
           {
            "marker": {
             "colorbar": {
              "outlinewidth": 0,
              "ticks": ""
             }
            },
            "type": "scattermapbox"
           }
          ],
          "scatterpolar": [
           {
            "marker": {
             "colorbar": {
              "outlinewidth": 0,
              "ticks": ""
             }
            },
            "type": "scatterpolar"
           }
          ],
          "scatterpolargl": [
           {
            "marker": {
             "colorbar": {
              "outlinewidth": 0,
              "ticks": ""
             }
            },
            "type": "scatterpolargl"
           }
          ],
          "scatterternary": [
           {
            "marker": {
             "colorbar": {
              "outlinewidth": 0,
              "ticks": ""
             }
            },
            "type": "scatterternary"
           }
          ],
          "surface": [
           {
            "colorbar": {
             "outlinewidth": 0,
             "ticks": ""
            },
            "colorscale": [
             [
              0,
              "#0d0887"
             ],
             [
              0.1111111111111111,
              "#46039f"
             ],
             [
              0.2222222222222222,
              "#7201a8"
             ],
             [
              0.3333333333333333,
              "#9c179e"
             ],
             [
              0.4444444444444444,
              "#bd3786"
             ],
             [
              0.5555555555555556,
              "#d8576b"
             ],
             [
              0.6666666666666666,
              "#ed7953"
             ],
             [
              0.7777777777777778,
              "#fb9f3a"
             ],
             [
              0.8888888888888888,
              "#fdca26"
             ],
             [
              1,
              "#f0f921"
             ]
            ],
            "type": "surface"
           }
          ],
          "table": [
           {
            "cells": {
             "fill": {
              "color": "#EBF0F8"
             },
             "line": {
              "color": "white"
             }
            },
            "header": {
             "fill": {
              "color": "#C8D4E3"
             },
             "line": {
              "color": "white"
             }
            },
            "type": "table"
           }
          ]
         },
         "layout": {
          "annotationdefaults": {
           "arrowcolor": "#2a3f5f",
           "arrowhead": 0,
           "arrowwidth": 1
          },
          "autotypenumbers": "strict",
          "coloraxis": {
           "colorbar": {
            "outlinewidth": 0,
            "ticks": ""
           }
          },
          "colorscale": {
           "diverging": [
            [
             0,
             "#8e0152"
            ],
            [
             0.1,
             "#c51b7d"
            ],
            [
             0.2,
             "#de77ae"
            ],
            [
             0.3,
             "#f1b6da"
            ],
            [
             0.4,
             "#fde0ef"
            ],
            [
             0.5,
             "#f7f7f7"
            ],
            [
             0.6,
             "#e6f5d0"
            ],
            [
             0.7,
             "#b8e186"
            ],
            [
             0.8,
             "#7fbc41"
            ],
            [
             0.9,
             "#4d9221"
            ],
            [
             1,
             "#276419"
            ]
           ],
           "sequential": [
            [
             0,
             "#0d0887"
            ],
            [
             0.1111111111111111,
             "#46039f"
            ],
            [
             0.2222222222222222,
             "#7201a8"
            ],
            [
             0.3333333333333333,
             "#9c179e"
            ],
            [
             0.4444444444444444,
             "#bd3786"
            ],
            [
             0.5555555555555556,
             "#d8576b"
            ],
            [
             0.6666666666666666,
             "#ed7953"
            ],
            [
             0.7777777777777778,
             "#fb9f3a"
            ],
            [
             0.8888888888888888,
             "#fdca26"
            ],
            [
             1,
             "#f0f921"
            ]
           ],
           "sequentialminus": [
            [
             0,
             "#0d0887"
            ],
            [
             0.1111111111111111,
             "#46039f"
            ],
            [
             0.2222222222222222,
             "#7201a8"
            ],
            [
             0.3333333333333333,
             "#9c179e"
            ],
            [
             0.4444444444444444,
             "#bd3786"
            ],
            [
             0.5555555555555556,
             "#d8576b"
            ],
            [
             0.6666666666666666,
             "#ed7953"
            ],
            [
             0.7777777777777778,
             "#fb9f3a"
            ],
            [
             0.8888888888888888,
             "#fdca26"
            ],
            [
             1,
             "#f0f921"
            ]
           ]
          },
          "colorway": [
           "#636efa",
           "#EF553B",
           "#00cc96",
           "#ab63fa",
           "#FFA15A",
           "#19d3f3",
           "#FF6692",
           "#B6E880",
           "#FF97FF",
           "#FECB52"
          ],
          "font": {
           "color": "#2a3f5f"
          },
          "geo": {
           "bgcolor": "white",
           "lakecolor": "white",
           "landcolor": "#E5ECF6",
           "showlakes": true,
           "showland": true,
           "subunitcolor": "white"
          },
          "hoverlabel": {
           "align": "left"
          },
          "hovermode": "closest",
          "mapbox": {
           "style": "light"
          },
          "paper_bgcolor": "white",
          "plot_bgcolor": "#E5ECF6",
          "polar": {
           "angularaxis": {
            "gridcolor": "white",
            "linecolor": "white",
            "ticks": ""
           },
           "bgcolor": "#E5ECF6",
           "radialaxis": {
            "gridcolor": "white",
            "linecolor": "white",
            "ticks": ""
           }
          },
          "scene": {
           "xaxis": {
            "backgroundcolor": "#E5ECF6",
            "gridcolor": "white",
            "gridwidth": 2,
            "linecolor": "white",
            "showbackground": true,
            "ticks": "",
            "zerolinecolor": "white"
           },
           "yaxis": {
            "backgroundcolor": "#E5ECF6",
            "gridcolor": "white",
            "gridwidth": 2,
            "linecolor": "white",
            "showbackground": true,
            "ticks": "",
            "zerolinecolor": "white"
           },
           "zaxis": {
            "backgroundcolor": "#E5ECF6",
            "gridcolor": "white",
            "gridwidth": 2,
            "linecolor": "white",
            "showbackground": true,
            "ticks": "",
            "zerolinecolor": "white"
           }
          },
          "shapedefaults": {
           "line": {
            "color": "#2a3f5f"
           }
          },
          "ternary": {
           "aaxis": {
            "gridcolor": "white",
            "linecolor": "white",
            "ticks": ""
           },
           "baxis": {
            "gridcolor": "white",
            "linecolor": "white",
            "ticks": ""
           },
           "bgcolor": "#E5ECF6",
           "caxis": {
            "gridcolor": "white",
            "linecolor": "white",
            "ticks": ""
           }
          },
          "title": {
           "x": 0.05
          },
          "xaxis": {
           "automargin": true,
           "gridcolor": "white",
           "linecolor": "white",
           "ticks": "",
           "title": {
            "standoff": 15
           },
           "zerolinecolor": "white",
           "zerolinewidth": 2
          },
          "yaxis": {
           "automargin": true,
           "gridcolor": "white",
           "linecolor": "white",
           "ticks": "",
           "title": {
            "standoff": 15
           },
           "zerolinecolor": "white",
           "zerolinewidth": 2
          }
         }
        },
        "title": {
         "text": "effective loss by delta selling"
        },
        "xaxis": {
         "anchor": "y",
         "domain": [
          0,
          1
         ],
         "gridcolor": "rgb(80,80,80)",
         "title": {
          "text": "delta s"
         }
        },
        "yaxis": {
         "anchor": "x",
         "domain": [
          0,
          1
         ],
         "gridcolor": "rgb(80,80,80)",
         "title": {
          "text": "loss"
         }
        }
       }
      }
     },
     "metadata": {},
     "output_type": "display_data"
    }
   ],
   "source": [
    "# Create an interactive scatter plot\n",
    "fig = px.scatter(combined_df, x='delta_s', y='loss', color='Series', #size='point_size',\n",
    "                 hover_data=['delta_b', 'delta_s', 'loss'])\n",
    "\n",
    "# Add lines for specified series\n",
    "# for series in slopes_df:\n",
    "#     fig.add_trace(px.line(series, x='delta_s', y='loss', color='Series').data[0])\n",
    "\n",
    "# Concatenate all DataFrames in slopes_df\n",
    "all_slopes_df = pd.concat(slopes_df)\n",
    "# Create a line plot for all slopes\n",
    "line_fig = px.line(all_slopes_df, x='delta_s', y='loss', color='Series', hover_data=['delta_b', 'delta_s', 'loss'], markers=True)\n",
    "\n",
    "# Add each line trace individually\n",
    "for trace in line_fig.data:\n",
    "    trace.update(marker=dict(symbol='circle-open', size=10)) \n",
    "    fig.add_trace(trace)\n",
    "\n",
    "# Update marker properties to have darker outlines\n",
    "# fig.update_traces(marker=dict(line=dict(width=1, color='rgba(40,40,40,1)')))  # Adjust the color as needed\n",
    "\n",
    "# Update marker properties to remove outlines or match the fill color\n",
    "fig.update_traces(marker=dict(line=dict(width=0)))  # Removes the outline\n",
    "\n",
    "# Alternatively, to set the outline to the same color as the fill:\n",
    "# fig.update_traces(marker=dict(line=dict(width=1, color='SAME_COLOR')))\n",
    "\n",
    "\n",
    "# Update the layout for dark mode\n",
    "fig.update_layout(\n",
    "    title='Scatter Plot in Dark Mode',\n",
    "    plot_bgcolor='rgb(17,17,17)',  # Dark plot background\n",
    "    paper_bgcolor='rgb(17,17,17)',  # Dark paper background\n",
    "    font_color='white',  # White text for better contrast\n",
    "    xaxis=dict(\n",
    "        gridcolor='rgb(80,80,80)',  # Darker gridlines\n",
    "    ),\n",
    "    yaxis=dict(\n",
    "        gridcolor='rgb(80,80,80)',  # Darker gridlines\n",
    "    )\n",
    ")\n",
    "\n",
    "# Add plot titles and labels\n",
    "fig.update_layout(title='effective loss by delta selling',\n",
    "                  xaxis_title='delta s',\n",
    "                  yaxis_title='loss',\n",
    "                  # showlegend=False,\n",
    "                  height=1600)\n",
    "                  \n",
    "\n",
    "# fig.update_yaxes(range=[combined_df['loss'].min(), combined_df['loss'].max()])  # Adjust the range as needed\n",
    "\n",
    "# # Sort the DataFrame by 'ratio' in descending order\n",
    "# sorted_df = combined_df.sort_values(by='loss', ascending=False)\n",
    "\n",
    "# # Adding a line that connects the dots in decreasing order of their y-value\n",
    "# fig.add_trace(px.line(sorted_df, x='delta_b', y='loss').data[0])\n",
    "\n",
    "# # Find the five lowest unique y-values (ratios)\n",
    "# lowest_ratios = combined_df['loss'].unique()\n",
    "# lowest_ratios.sort()\n",
    "\n",
    "# # Group by 'ratio' and draw lines for each of the five lowest ratios\n",
    "# for loss in lowest_ratios[:20]:\n",
    "#     group = combined_df[combined_df['loss'] == loss]\n",
    "#     # Sort each group by 'delta_b' to make line connections logical\n",
    "#     sorted_group = group.sort_values(by='delta_b')\n",
    "#     fig.add_trace(px.line(sorted_group, x='delta_b', y='loss').data[0])\n",
    "\n",
    "# # Adjusting the plot size and layout\n",
    "# fig.update_layout(title='Scatter Plot with Lines for Lowest Y-values',\n",
    "#                   xaxis_title='Delta_b',\n",
    "#                   yaxis_title='loss',\n",
    "#                   height=800)\n",
    "\n",
    "# Show the plot\n",
    "fig.show()\n"
   ]
  },
  {
   "cell_type": "code",
   "execution_count": 358,
   "metadata": {},
   "outputs": [],
   "source": [
    "def prime_factors(n):\n",
    "    i = 2\n",
    "    factors = {}\n",
    "    while i * i <= n:\n",
    "        if n % i:\n",
    "            i += 1\n",
    "        else:\n",
    "            n //= i\n",
    "            factors[i] = factors.get(i, 0) + 1\n",
    "    if n > 1:\n",
    "        factors[n] = factors.get(n, 0) + 1\n",
    "    return factors"
   ]
  },
  {
   "cell_type": "code",
   "execution_count": 359,
   "metadata": {},
   "outputs": [
    {
     "data": {
      "text/plain": [
       "{101: 98, 2797: 1}"
      ]
     },
     "execution_count": 359,
     "metadata": {},
     "output_type": "execute_result"
    }
   ],
   "source": [
    "prime_factors(m_b)"
   ]
  },
  {
   "cell_type": "code",
   "execution_count": 360,
   "metadata": {},
   "outputs": [
    {
     "data": {
      "text/plain": [
       "{2: 199, 5: 200}"
      ]
     },
     "execution_count": 360,
     "metadata": {},
     "output_type": "execute_result"
    }
   ],
   "source": [
    "prime_factors(m_s)"
   ]
  },
  {
   "cell_type": "code",
   "execution_count": 361,
   "metadata": {},
   "outputs": [
    {
     "data": {
      "text/plain": [
       "283"
      ]
     },
     "execution_count": 361,
     "metadata": {},
     "output_type": "execute_result"
    }
   ],
   "source": [
    "351 - 68"
   ]
  },
  {
   "cell_type": "code",
   "execution_count": null,
   "metadata": {},
   "outputs": [],
   "source": []
  }
 ],
 "metadata": {
  "kernelspec": {
   "display_name": "Python 3",
   "language": "python",
   "name": "python3"
  },
  "language_info": {
   "codemirror_mode": {
    "name": "ipython",
    "version": 3
   },
   "file_extension": ".py",
   "mimetype": "text/x-python",
   "name": "python",
   "nbconvert_exporter": "python",
   "pygments_lexer": "ipython3",
   "version": "3.9.16"
  }
 },
 "nbformat": 4,
 "nbformat_minor": 2
}
