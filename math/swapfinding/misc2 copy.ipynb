{
 "cells": [
  {
   "cell_type": "code",
   "execution_count": 1,
   "metadata": {},
   "outputs": [],
   "source": [
    "from sympy import symbols, simplify, hessian, solveset, S, solve, log, And, Le, Ge, Eq, Lt, Gt, nonlinsolve, latex, log, Wild, expand_log, logcombine, evaluate,oo, limit,ask, Q, floor, ceiling, lambdify, Sum, sign, expand\n",
    "from IPython.display import display, HTML, Math"
   ]
  },
  {
   "cell_type": "code",
   "execution_count": 2,
   "metadata": {},
   "outputs": [],
   "source": [
    "def large(expr):\n",
    "  latex_code = f\"\\\\Large {{ {latex(expr)} }}\"\n",
    "  display(Math(latex_code))"
   ]
  },
  {
   "cell_type": "code",
   "execution_count": 3,
   "metadata": {},
   "outputs": [],
   "source": [
    "delta_b_negative = False\n",
    "discrete = False\n",
    "simp = True"
   ]
  },
  {
   "cell_type": "code",
   "execution_count": 4,
   "metadata": {},
   "outputs": [
    {
     "data": {
      "text/plain": [
       "{'b': dict_values([s_b, l_b, v_b, b_b, w_b, j_b, e_b, Delta_b, a_b, min_b]),\n",
       " 's': dict_values([s_s, l_s, v_s, b_s, w_s, j_s, e_s, Delta_s, a_s, min_s])}"
      ]
     },
     "execution_count": 4,
     "metadata": {},
     "output_type": "execute_result"
    }
   ],
   "source": [
    "assets = ['b', 's']  # buying and selling assets\n",
    "base_symbols = ['s', 'l', 'v', 'b', 'w', 'j', 'e', 'Delta', 'a', 'min'] \n",
    "# spot price, virtual liquidity, balance, weight, jump size, exponent, delta, anchor price, amm-price, jump-multiplier\n",
    "\n",
    "all_symbols = {}\n",
    "\n",
    "for asset in assets:\n",
    "    temp_dict = {}\n",
    "    for base in base_symbols:\n",
    "        var_name = f\"{base}_{asset}\"\n",
    "        if base == 'e':\n",
    "            symbol_obj = symbols(var_name, integer=True)\n",
    "        elif base == 'b':\n",
    "            symbol_obj = symbols(var_name, nonnegative=True, integer=True)\n",
    "        elif delta_b_negative and var_name == 'Delta_b':\n",
    "            symbol_obj = symbols(var_name, negative=True, integer=True)\n",
    "        else:\n",
    "            symbol_obj = symbols(var_name, positive=True, integer=True)\n",
    "        temp_dict[var_name] = symbol_obj\n",
    "        # Define the variable in the global namespace\n",
    "        globals()[var_name] = symbol_obj\n",
    "    all_symbols[asset] = temp_dict.values()\n",
    "all_symbols"
   ]
  },
  {
   "cell_type": "code",
   "execution_count": null,
   "metadata": {},
   "outputs": [],
   "source": []
  },
  {
   "cell_type": "markdown",
   "metadata": {},
   "source": [
    "in the contract, where Delta_b is negative:\n",
    "\n",
    "-Delta_b * s_s <= Delta_s * s_b\n",
    "\n",
    "implying for positive Delta_b:\n",
    "\n",
    "Delta_b * s_s <= Delta_s * s_b\n",
    "\n",
    "which maximizes value for the trader if:"
   ]
  },
  {
   "cell_type": "code",
   "execution_count": 5,
   "metadata": {},
   "outputs": [
    {
     "data": {
      "text/latex": [
       "$\\displaystyle \\Delta_{b} s_{s} = \\Delta_{s} s_{b}$"
      ],
      "text/plain": [
       "Eq(Delta_b*s_s, Delta_s*s_b)"
      ]
     },
     "execution_count": 5,
     "metadata": {},
     "output_type": "execute_result"
    }
   ],
   "source": [
    "if delta_b_negative:\n",
    "  a0_eq_Delta = Eq(-Delta_b * s_s, Delta_s * s_b)\n",
    "else:\n",
    "  a0_eq_Delta = Eq(Delta_b * s_s, Delta_s * s_b)\n",
    "a0_eq_Delta"
   ]
  },
  {
   "cell_type": "code",
   "execution_count": 6,
   "metadata": {},
   "outputs": [
    {
     "data": {
      "text/latex": [
       "$\\displaystyle l_{b} s_{s} + l_{s} s_{b} = s_{b} \\left(\\Delta_{s} + l_{s}\\right) + s_{s} \\left(- \\Delta_{b} + l_{b}\\right)$"
      ],
      "text/plain": [
       "Eq(l_b*s_s + l_s*s_b, s_b*(Delta_s + l_s) + s_s*(-Delta_b + l_b))"
      ]
     },
     "execution_count": 6,
     "metadata": {},
     "output_type": "execute_result"
    }
   ],
   "source": [
    "if delta_b_negative:\n",
    "  a0_eq_Value = Eq(l_b * s_s + l_s * s_b, (l_b + Delta_b) * s_s + (l_s + Delta_s) * s_b)\n",
    "else:\n",
    "  a0_eq_Value = Eq(l_b * s_s + l_s * s_b, (l_b - Delta_b) * s_s + (l_s + Delta_s) * s_b)\n",
    "a0_eq_Value"
   ]
  },
  {
   "cell_type": "code",
   "execution_count": 7,
   "metadata": {},
   "outputs": [],
   "source": [
    "assert(solveset(a0_eq_Value, Delta_b).simplify() == solveset(a0_eq_Delta, Delta_b))\n",
    "assert(solveset(a0_eq_Value, Delta_s).simplify() == solveset(a0_eq_Delta, Delta_s))\n",
    "a0_eq = a0_eq_Delta"
   ]
  },
  {
   "cell_type": "code",
   "execution_count": 8,
   "metadata": {},
   "outputs": [
    {
     "data": {
      "text/latex": [
       "$\\displaystyle \\Delta_{b} = l_{b} - \\frac{s_{b}}{w_{b}}$"
      ],
      "text/plain": [
       "Eq(Delta_b, l_b - s_b/w_b)"
      ]
     },
     "metadata": {},
     "output_type": "display_data"
    },
    {
     "data": {
      "text/latex": [
       "$\\displaystyle \\Delta_{s} = - l_{s} + \\frac{s_{s}}{w_{s}}$"
      ],
      "text/plain": [
       "Eq(Delta_s, -l_s + s_s/w_s)"
      ]
     },
     "metadata": {},
     "output_type": "display_data"
    }
   ],
   "source": [
    "# this seems to be derived from spotByDelta\n",
    "def deltaBySpot_(asset, s, l, v, b, w, j, e, Delta, a, min):\n",
    "  f = (s - l * w) / w # at this point, this value is negative for buying and positive for selling\n",
    "  # rounding towards zero in all cases, as we are interested in the maximum delta-capacity of a given spot price\n",
    "  if asset == 'b':\n",
    "    if delta_b_negative:\n",
    "      if discrete:\n",
    "        f = ceiling(f)\n",
    "    else:\n",
    "      if discrete:\n",
    "        f = floor(-f)\n",
    "      else:\n",
    "        f = -f\n",
    "\n",
    "  else:\n",
    "    if discrete:\n",
    "      f = floor(f)\n",
    "\n",
    "  if simp:\n",
    "    f = simplify(f)\n",
    "  return f\n",
    "\n",
    "deltaBySpot = {asset: deltaBySpot_(asset, *all_symbols[asset]) for asset in assets}\n",
    "display(Eq(Delta_b, deltaBySpot['b']))\n",
    "display(Eq(Delta_s, deltaBySpot['s']))"
   ]
  },
  {
   "cell_type": "code",
   "execution_count": 9,
   "metadata": {},
   "outputs": [
    {
     "data": {
      "text/latex": [
       "$\\displaystyle \\left\\{- w_{b} \\left(\\Delta_{b} - l_{b}\\right)\\right\\}$"
      ],
      "text/plain": [
       "{-w_b*(Delta_b - l_b)}"
      ]
     },
     "execution_count": 9,
     "metadata": {},
     "output_type": "execute_result"
    }
   ],
   "source": [
    "solveset(Eq(Delta_b, deltaBySpot['b']), s_b)"
   ]
  },
  {
   "cell_type": "code",
   "execution_count": 10,
   "metadata": {},
   "outputs": [
    {
     "data": {
      "text/latex": [
       "$\\displaystyle \\left\\{w_{s} \\left(\\Delta_{s} + l_{s}\\right)\\right\\}$"
      ],
      "text/plain": [
       "{w_s*(Delta_s + l_s)}"
      ]
     },
     "execution_count": 10,
     "metadata": {},
     "output_type": "execute_result"
    }
   ],
   "source": [
    "solveset(Eq(Delta_s, deltaBySpot['s']), s_s)"
   ]
  },
  {
   "cell_type": "markdown",
   "metadata": {},
   "source": [
    "### logic behind spotByDelta\n",
    "\n",
    "- we need to pick a spot price that is worse than the amm price = w * l\n",
    "- for uninverted prices, worse means larger for buying and lower for selling\n",
    "- since prices are inverted, worse means smaller for buying and larger for selling\n",
    "- this must hold true after the trade as well, so it must also be larger than w * (l + Delta) for selling and smaller than w * (l - Delta) for buying \n",
    "- (assuming Delta_b is represented positively, otherwise it's larger (selling) resp. smaller (buying) than w * (l + Delta) for both)"
   ]
  },
  {
   "cell_type": "code",
   "execution_count": 11,
   "metadata": {},
   "outputs": [
    {
     "data": {
      "text/latex": [
       "$\\displaystyle s_{b} = w_{b} \\left(- \\Delta_{b} + l_{b}\\right)$"
      ],
      "text/plain": [
       "Eq(s_b, w_b*(-Delta_b + l_b))"
      ]
     },
     "metadata": {},
     "output_type": "display_data"
    },
    {
     "data": {
      "text/latex": [
       "$\\displaystyle s_{s} = w_{s} \\left(\\Delta_{s} + l_{s}\\right)$"
      ],
      "text/plain": [
       "Eq(s_s, w_s*(Delta_s + l_s))"
      ]
     },
     "metadata": {},
     "output_type": "display_data"
    }
   ],
   "source": [
    "def spotByDelta_(asset, s, l, v, b, w, j, e, Delta, a, min):\n",
    "  if (not delta_b_negative) and asset == 'b':\n",
    "    f = w * (l - Delta)\n",
    "  else:\n",
    "    f = w * (l + Delta)\n",
    "  if simp:\n",
    "    f = simplify(f)\n",
    "  return f\n",
    "\n",
    "spotByDelta = {asset: spotByDelta_(asset, *all_symbols[asset]) for asset in assets}\n",
    "display(Eq(s_b, spotByDelta['b']))\n",
    "display(Eq(s_s, spotByDelta['s']))"
   ]
  },
  {
   "cell_type": "code",
   "execution_count": 12,
   "metadata": {},
   "outputs": [],
   "source": [
    "assert(Eq(spotByDelta['b'].subs({Delta_b: deltaBySpot['b']}), s_b))\n",
    "assert(Eq(spotByDelta['s'].subs({Delta_s: deltaBySpot['s']}), s_s))\n",
    "if discrete:\n",
    "  display(deltaBySpot['b'].subs({s_b: spotByDelta['b']}))\n",
    "  display(deltaBySpot['s'].subs({s_s: spotByDelta['s']}))\n",
    "else:\n",
    "  assert(Eq(deltaBySpot['b'].subs({s_b: spotByDelta['b']}), Delta_b))\n",
    "  assert(Eq(deltaBySpot['s'].subs({s_s: spotByDelta['s']}), Delta_s))"
   ]
  },
  {
   "cell_type": "code",
   "execution_count": 13,
   "metadata": {},
   "outputs": [
    {
     "data": {
      "text/latex": [
       "$\\displaystyle \\Delta_{b} w_{s} \\left(\\Delta_{s} + l_{s}\\right) = \\Delta_{s} w_{b} \\left(- \\Delta_{b} + l_{b}\\right)$"
      ],
      "text/plain": [
       "Eq(Delta_b*w_s*(Delta_s + l_s), Delta_s*w_b*(-Delta_b + l_b))"
      ]
     },
     "execution_count": 13,
     "metadata": {},
     "output_type": "execute_result"
    }
   ],
   "source": [
    "a0_eq.subs({s_b: spotByDelta['b'], s_s: spotByDelta['s']}).simplify()"
   ]
  },
  {
   "cell_type": "code",
   "execution_count": 14,
   "metadata": {},
   "outputs": [
    {
     "data": {
      "text/latex": [
       "$\\displaystyle \\Delta_{b} = \\frac{\\Delta_{s} l_{b} w_{b}}{\\Delta_{s} w_{b} + \\Delta_{s} w_{s} + l_{s} w_{s}}$"
      ],
      "text/plain": [
       "Eq(Delta_b, Delta_s*l_b*w_b/(Delta_s*w_b + Delta_s*w_s + l_s*w_s))"
      ]
     },
     "metadata": {},
     "output_type": "display_data"
    },
    {
     "data": {
      "text/latex": [
       "$\\displaystyle \\Delta_{s} = - \\frac{\\Delta_{b} l_{s} w_{s}}{\\Delta_{b} w_{b} + \\Delta_{b} w_{s} - l_{b} w_{b}}$"
      ],
      "text/plain": [
       "Eq(Delta_s, -Delta_b*l_s*w_s/(Delta_b*w_b + Delta_b*w_s - l_b*w_b))"
      ]
     },
     "metadata": {},
     "output_type": "display_data"
    }
   ],
   "source": [
    "def deltaByDelta_(asset, s, l, v, b, w, j, e, Delta, a, min):\n",
    "  # if discrete:\n",
    "  #   if asset == 'b' and delta_b_negative:\n",
    "  #     domain = S.Integers\n",
    "  #   else:\n",
    "  #     domain = S.Naturals\n",
    "  # else:\n",
    "  #   domain = S.Reals\n",
    "  # above takes more than 11 minutes, skipping for now\n",
    "  f = solveset(a0_eq.subs({s_b: spotByDelta['b'], s_s: spotByDelta['s']}), Delta)#, domain=domain)\n",
    "  f = list(f)\n",
    "  assert len(f) == 1\n",
    "  f = f[0]\n",
    "  if discrete:\n",
    "    if asset == 'b':\n",
    "      f = floor(f)\n",
    "    else:\n",
    "      f = ceiling(f)\n",
    "  if simp:\n",
    "    f = simplify(f)\n",
    "  return f\n",
    "\n",
    "deltaByDelta = {asset: deltaByDelta_(asset, *all_symbols[asset]) for asset in assets}\n",
    "display(Eq(Delta_b, deltaByDelta['b']))\n",
    "display(Eq(Delta_s, deltaByDelta['s']))"
   ]
  },
  {
   "cell_type": "markdown",
   "metadata": {},
   "source": [
    "### note:\n",
    "\n",
    " - the above is undefined/negative (which reduces to undefined considering the meaning) for some values.\n",
    " - when we represent Delta_b negatively, this issue appears to vanish, but actually doesn't when pondering the sign of Delta_b"
   ]
  },
  {
   "cell_type": "code",
   "execution_count": 15,
   "metadata": {},
   "outputs": [
    {
     "data": {
      "text/latex": [
       "$\\displaystyle \\Delta_{s} w_{b} + \\Delta_{s} w_{s} + l_{s} w_{s}$"
      ],
      "text/plain": [
       "Delta_s*w_b + Delta_s*w_s + l_s*w_s"
      ]
     },
     "metadata": {},
     "output_type": "display_data"
    },
    {
     "data": {
      "text/latex": [
       "$\\displaystyle - \\frac{l_{s} w_{s}}{w_{b} + w_{s}}$"
      ],
      "text/plain": [
       "-l_s*w_s/(w_b + w_s)"
      ]
     },
     "execution_count": 15,
     "metadata": {},
     "output_type": "execute_result"
    }
   ],
   "source": [
    "denominator_Delta_b = deltaByDelta['b'].args[-1].args[0]\n",
    "display(denominator_Delta_b)\n",
    "ndef_Delta_s = solveset(denominator_Delta_b, Delta_s)\n",
    "assert(len(ndef_Delta_s) == 1)\n",
    "ndef_Delta_s = list(ndef_Delta_s)[0]\n",
    "ndef_Delta_s"
   ]
  },
  {
   "cell_type": "code",
   "execution_count": 16,
   "metadata": {},
   "outputs": [
    {
     "data": {
      "text/latex": [
       "$\\displaystyle \\Delta_{b} w_{b} + \\Delta_{b} w_{s} - l_{b} w_{b}$"
      ],
      "text/plain": [
       "Delta_b*w_b + Delta_b*w_s - l_b*w_b"
      ]
     },
     "metadata": {},
     "output_type": "display_data"
    },
    {
     "data": {
      "text/latex": [
       "$\\displaystyle \\frac{l_{b} w_{b}}{w_{b} + w_{s}}$"
      ],
      "text/plain": [
       "l_b*w_b/(w_b + w_s)"
      ]
     },
     "execution_count": 16,
     "metadata": {},
     "output_type": "execute_result"
    }
   ],
   "source": [
    "denominator_Delta_s = deltaByDelta['s'].args[-1].args[0]\n",
    "display(denominator_Delta_s)\n",
    "ndef_Delta_b = solveset(denominator_Delta_s, Delta_b)\n",
    "assert(len(ndef_Delta_b) == 1)\n",
    "ndef_Delta_b = list(ndef_Delta_b)[0]\n",
    "ndef_Delta_b"
   ]
  },
  {
   "cell_type": "code",
   "execution_count": 17,
   "metadata": {},
   "outputs": [
    {
     "data": {
      "text/latex": [
       "$\\displaystyle \\left\\{\\frac{\\Delta_{b} s_{s}}{s_{b}}\\right\\}$"
      ],
      "text/plain": [
       "{Delta_b*s_s/s_b}"
      ]
     },
     "metadata": {},
     "output_type": "display_data"
    },
    {
     "data": {
      "text/latex": [
       "$\\displaystyle \\left\\{\\frac{\\Delta_{s} s_{b}}{s_{s}}\\right\\}$"
      ],
      "text/plain": [
       "{Delta_s*s_b/s_s}"
      ]
     },
     "metadata": {},
     "output_type": "display_data"
    }
   ],
   "source": [
    "display(solveset(a0_eq, Delta_s))\n",
    "display(solveset(a0_eq, Delta_b))"
   ]
  },
  {
   "cell_type": "markdown",
   "metadata": {},
   "source": [
    "given that we can lower s_b arbitrarily (up to a lower bound of 1) and increase s_s arbitrarily, we should always be able to get a positive Delta_s\n",
    "\n",
    "\n",
    "given that we can get some negative Delta_s, does this imply an exploit?\n",
    "\n",
    "- in the onchain-code, the swap prices can never be negative, as they are computed there from exponents\n",
    "- likewise, if Delta_b is negative (as it should be there), -Delta_b * s_s is positive\n",
    "- -> negative Delta_s would violate -Delta_b * s_s <= Delta_s * s_b (for negative Delta_b)\n",
    "\n",
    "-> no exploit onchain (except potentially negating both deltas, which we examine further below)\n",
    "\n",
    "### how do we adjust the equations for the spot prices accordingly, such that the user still get's the best effective price?\n",
    "And after we found an equation, how does it reconcile with the one we got before?\n"
   ]
  },
  {
   "cell_type": "code",
   "execution_count": 18,
   "metadata": {},
   "outputs": [
    {
     "data": {
      "text/latex": [
       "$\\displaystyle \\frac{w_{s} \\left(\\Delta_{s} + l_{s}\\right)}{w_{b} \\left(- \\Delta_{b} + l_{b}\\right)}$"
      ],
      "text/plain": [
       "w_s*(Delta_s + l_s)/(w_b*(-Delta_b + l_b))"
      ]
     },
     "execution_count": 18,
     "metadata": {},
     "output_type": "execute_result"
    }
   ],
   "source": [
    "lowest_spot = (s_s / s_b).subs({s_s: spotByDelta['s'], s_b: spotByDelta['b']})#.simplify()\n",
    "lowest_spot"
   ]
  },
  {
   "cell_type": "markdown",
   "metadata": {},
   "source": [
    "lowest_spot: \n",
    "- best (lowest) uninverted spot price the user can get (with highest inverted buying price and lowest inverted selling price)\n",
    "- evidently always positive"
   ]
  },
  {
   "cell_type": "code",
   "execution_count": 19,
   "metadata": {},
   "outputs": [
    {
     "data": {
      "text/latex": [
       "$\\displaystyle \\Delta_{s} \\geq \\frac{\\Delta_{b} w_{s} \\left(\\Delta_{s} + l_{s}\\right)}{w_{b} \\left(- \\Delta_{b} + l_{b}\\right)}$"
      ],
      "text/plain": [
       "Delta_s >= Delta_b*w_s*(Delta_s + l_s)/(w_b*(-Delta_b + l_b))"
      ]
     },
     "execution_count": 19,
     "metadata": {},
     "output_type": "execute_result"
    }
   ],
   "source": [
    "Ge(Delta_s, (Delta_b * lowest_spot))#.simplify()"
   ]
  },
  {
   "cell_type": "markdown",
   "metadata": {},
   "source": [
    "above:\n",
    "- as Delta_b is positive (in the respective representation) and spot is positive, Delta_s should always be positive\n",
    "- this however is just a rearrangement of what we already have, resulting in the same paradox"
   ]
  },
  {
   "cell_type": "markdown",
   "metadata": {},
   "source": [
    "### adding extra price multiplier\n",
    "\n",
    "given that for Delta_b -> l_b * w_b / (w_b + w_s) Delta_s goes towards infinity in the equation derived from choosing best possible prices, we add an additional multiplier >= 1 to reflect worsening of the pair spot price for situations where Delta_b >= l_b * w_b / (w_b + w_s). This can then be translated in an arbitrary combination of worsening of s_b and s_s."
   ]
  },
  {
   "cell_type": "code",
   "execution_count": 20,
   "metadata": {},
   "outputs": [
    {
     "data": {
      "text/latex": [
       "$\\displaystyle \\frac{l_{b} w_{b}}{w_{b} + w_{s}}$"
      ],
      "text/plain": [
       "l_b*w_b/(w_b + w_s)"
      ]
     },
     "execution_count": 20,
     "metadata": {},
     "output_type": "execute_result"
    }
   ],
   "source": [
    "ndef_Delta_b"
   ]
  },
  {
   "cell_type": "code",
   "execution_count": 21,
   "metadata": {},
   "outputs": [
    {
     "data": {
      "text/latex": [
       "$\\displaystyle \\frac{\\Delta_{b} w_{s} \\left(\\Delta_{s} + l_{s}\\right) \\left(m + 1\\right)}{w_{b} \\left(- \\Delta_{b} + l_{b}\\right)}$"
      ],
      "text/plain": [
       "Delta_b*w_s*(Delta_s + l_s)*(m + 1)/(w_b*(-Delta_b + l_b))"
      ]
     },
     "execution_count": 21,
     "metadata": {},
     "output_type": "execute_result"
    }
   ],
   "source": [
    "m = symbols('m', nonnegative=True, real=True)\n",
    "m_Delta_s = Delta_b * lowest_spot * (1 + m)\n",
    "m_Delta_s"
   ]
  },
  {
   "cell_type": "code",
   "execution_count": 22,
   "metadata": {},
   "outputs": [
    {
     "data": {
      "text/latex": [
       "$\\displaystyle \\left\\{\\frac{\\Delta_{s} l_{b} w_{b}}{\\Delta_{s} m w_{s} + \\Delta_{s} w_{b} + \\Delta_{s} w_{s} + l_{s} m w_{s} + l_{s} w_{s}}\\right\\} \\setminus \\left\\{l_{b}\\right\\}$"
      ],
      "text/plain": [
       "Complement({Delta_s*l_b*w_b/(Delta_s*m*w_s + Delta_s*w_b + Delta_s*w_s + l_s*m*w_s + l_s*w_s)}, {l_b})"
      ]
     },
     "metadata": {},
     "output_type": "display_data"
    },
    {
     "data": {
      "text/latex": [
       "$\\displaystyle \\frac{\\Delta_{s} l_{b} w_{b}}{\\Delta_{s} m w_{s} + \\Delta_{s} w_{b} + \\Delta_{s} w_{s} + l_{s} m w_{s} + l_{s} w_{s}}$"
      ],
      "text/plain": [
       "Delta_s*l_b*w_b/(Delta_s*m*w_s + Delta_s*w_b + Delta_s*w_s + l_s*m*w_s + l_s*w_s)"
      ]
     },
     "execution_count": 22,
     "metadata": {},
     "output_type": "execute_result"
    }
   ],
   "source": [
    "m_DeltaByDelta_b = solveset(Eq(m_Delta_s, Delta_s), Delta_b)\n",
    "display(m_DeltaByDelta_b)\n",
    "m_DeltaByDelta_b = m_DeltaByDelta_b.args[0].args[0]\n",
    "m_DeltaByDelta_b"
   ]
  },
  {
   "cell_type": "code",
   "execution_count": 23,
   "metadata": {},
   "outputs": [
    {
     "data": {
      "text/latex": [
       "$\\displaystyle \\left\\{- \\frac{\\Delta_{b} l_{s} w_{s} \\left(m + 1\\right)}{\\Delta_{b} m w_{s} + \\Delta_{b} w_{b} + \\Delta_{b} w_{s} - l_{b} w_{b}}\\right\\}$"
      ],
      "text/plain": [
       "{-Delta_b*l_s*w_s*(m + 1)/(Delta_b*m*w_s + Delta_b*w_b + Delta_b*w_s - l_b*w_b)}"
      ]
     },
     "metadata": {},
     "output_type": "display_data"
    },
    {
     "data": {
      "text/latex": [
       "$\\displaystyle - \\frac{\\Delta_{b} l_{s} w_{s} \\left(m + 1\\right)}{\\Delta_{b} m w_{s} + \\Delta_{b} w_{b} + \\Delta_{b} w_{s} - l_{b} w_{b}}$"
      ],
      "text/plain": [
       "-Delta_b*l_s*w_s*(m + 1)/(Delta_b*m*w_s + Delta_b*w_b + Delta_b*w_s - l_b*w_b)"
      ]
     },
     "execution_count": 23,
     "metadata": {},
     "output_type": "execute_result"
    }
   ],
   "source": [
    "m_DeltaByDelta_s = solveset(Eq(m_Delta_s, Delta_s), Delta_s)\n",
    "display(m_DeltaByDelta_s)\n",
    "m_DeltaByDelta_s = m_DeltaByDelta_s.args[0]\n",
    "m_DeltaByDelta_s"
   ]
  },
  {
   "cell_type": "code",
   "execution_count": 24,
   "metadata": {},
   "outputs": [
    {
     "data": {
      "text/latex": [
       "$\\displaystyle - \\frac{l_{b} l_{s} w_{b} w_{s} \\left(m + 1\\right)}{\\left(w_{b} + w_{s}\\right) \\left(\\frac{l_{b} m w_{b} w_{s}}{w_{b} + w_{s}} + \\frac{l_{b} w_{b}^{2}}{w_{b} + w_{s}} + \\frac{l_{b} w_{b} w_{s}}{w_{b} + w_{s}} - l_{b} w_{b}\\right)}$"
      ],
      "text/plain": [
       "-l_b*l_s*w_b*w_s*(m + 1)/((w_b + w_s)*(l_b*m*w_b*w_s/(w_b + w_s) + l_b*w_b**2/(w_b + w_s) + l_b*w_b*w_s/(w_b + w_s) - l_b*w_b))"
      ]
     },
     "execution_count": 24,
     "metadata": {},
     "output_type": "execute_result"
    }
   ],
   "source": [
    "m_DeltaByDelta_s.subs({Delta_b: ndef_Delta_b})"
   ]
  },
  {
   "cell_type": "code",
   "execution_count": 25,
   "metadata": {},
   "outputs": [
    {
     "data": {
      "text/latex": [
       "$\\displaystyle - l_{s} - \\frac{l_{s}}{m}$"
      ],
      "text/plain": [
       "-l_s - l_s/m"
      ]
     },
     "execution_count": 25,
     "metadata": {},
     "output_type": "execute_result"
    }
   ],
   "source": [
    "m_DeltaByDelta_s.subs({Delta_b: ndef_Delta_b}).simplify()"
   ]
  },
  {
   "cell_type": "markdown",
   "metadata": {},
   "source": [
    "this is always negative - why didn't it work?\n",
    "\n",
    "-> we are at least making the mistake of effectively increasing Delta_s on the lhs, without adjusting s_s accordingly\n",
    "\n",
    "(additive also didn't work)"
   ]
  },
  {
   "cell_type": "code",
   "execution_count": 26,
   "metadata": {},
   "outputs": [
    {
     "data": {
      "text/latex": [
       "$\\displaystyle \\Delta_{s} \\geq \\frac{l_{b} w_{s} \\left(\\Delta_{s} + l_{s}\\right)}{\\left(w_{b} + w_{s}\\right) \\left(- \\frac{l_{b} w_{b}}{w_{b} + w_{s}} + l_{b}\\right)}$"
      ],
      "text/plain": [
       "Delta_s >= l_b*w_s*(Delta_s + l_s)/((w_b + w_s)*(-l_b*w_b/(w_b + w_s) + l_b))"
      ]
     },
     "execution_count": 26,
     "metadata": {},
     "output_type": "execute_result"
    }
   ],
   "source": [
    "Ge(Delta_s, (Delta_b * lowest_spot)).subs({Delta_b: ndef_Delta_b})#.simplify()"
   ]
  },
  {
   "cell_type": "code",
   "execution_count": 27,
   "metadata": {},
   "outputs": [
    {
     "data": {
      "text/latex": [
       "$\\displaystyle \\Delta_{s} + l_{s}$"
      ],
      "text/plain": [
       "Delta_s + l_s"
      ]
     },
     "execution_count": 27,
     "metadata": {},
     "output_type": "execute_result"
    }
   ],
   "source": [
    "(Delta_b * lowest_spot).subs({Delta_b: ndef_Delta_b}).simplify()"
   ]
  },
  {
   "cell_type": "code",
   "execution_count": 28,
   "metadata": {},
   "outputs": [
    {
     "data": {
      "text/latex": [
       "$\\displaystyle \\left(\\Delta_{s} + l_{s}\\right) \\left(m + 1\\right)$"
      ],
      "text/plain": [
       "(Delta_s + l_s)*(m + 1)"
      ]
     },
     "execution_count": 28,
     "metadata": {},
     "output_type": "execute_result"
    }
   ],
   "source": [
    "(Delta_b * lowest_spot * (m+1)).subs({Delta_b: ndef_Delta_b}).simplify()"
   ]
  },
  {
   "cell_type": "markdown",
   "metadata": {},
   "source": [
    "we can see that the undefined Delta_b results in a situation where Delta_s >= smth gt Delta_s\n",
    "\n",
    "let's try correcting s_s first:"
   ]
  },
  {
   "cell_type": "code",
   "execution_count": 29,
   "metadata": {},
   "outputs": [
    {
     "data": {
      "text/latex": [
       "$\\displaystyle \\frac{\\Delta_{b} w_{s} \\left(\\Delta_{s} + l_{s}\\right) \\left(m + 1\\right)}{w_{b} \\left(- \\Delta_{b} + l_{b}\\right)}$"
      ],
      "text/plain": [
       "Delta_b*w_s*(Delta_s + l_s)*(m + 1)/(w_b*(-Delta_b + l_b))"
      ]
     },
     "metadata": {},
     "output_type": "display_data"
    },
    {
     "data": {
      "text/latex": [
       "$\\displaystyle - \\frac{\\Delta_{b} w_{s} \\left(\\Delta_{s} + l_{s} \\left(m + 1\\right)\\right)}{w_{b} \\left(\\Delta_{b} - l_{b}\\right)}$"
      ],
      "text/plain": [
       "-Delta_b*w_s*(Delta_s + l_s*(m + 1))/(w_b*(Delta_b - l_b))"
      ]
     },
     "execution_count": 29,
     "metadata": {},
     "output_type": "execute_result"
    }
   ],
   "source": [
    "display(m_Delta_s)\n",
    "m_Delta_s_2 = m_Delta_s.subs({Delta_s: Delta_s / (1 + m)}).simplify()\n",
    "m_Delta_s_2"
   ]
  },
  {
   "cell_type": "code",
   "execution_count": 30,
   "metadata": {},
   "outputs": [
    {
     "data": {
      "text/latex": [
       "$\\displaystyle \\left\\{- \\frac{\\Delta_{b} l_{s} w_{s} \\left(m + 1\\right)}{\\Delta_{b} w_{b} + \\Delta_{b} w_{s} - l_{b} w_{b}}\\right\\}$"
      ],
      "text/plain": [
       "{-Delta_b*l_s*w_s*(m + 1)/(Delta_b*w_b + Delta_b*w_s - l_b*w_b)}"
      ]
     },
     "metadata": {},
     "output_type": "display_data"
    },
    {
     "data": {
      "text/latex": [
       "$\\displaystyle - \\frac{\\Delta_{b} l_{s} w_{s} \\left(m + 1\\right)}{\\Delta_{b} w_{b} + \\Delta_{b} w_{s} - l_{b} w_{b}}$"
      ],
      "text/plain": [
       "-Delta_b*l_s*w_s*(m + 1)/(Delta_b*w_b + Delta_b*w_s - l_b*w_b)"
      ]
     },
     "execution_count": 30,
     "metadata": {},
     "output_type": "execute_result"
    }
   ],
   "source": [
    "m_DeltaByDelta_s_2 = solveset(Eq(m_Delta_s_2, Delta_s), Delta_s)\n",
    "display(m_DeltaByDelta_s_2)\n",
    "m_DeltaByDelta_s_2 = m_DeltaByDelta_s_2.args[0]\n",
    "m_DeltaByDelta_s_2"
   ]
  },
  {
   "cell_type": "code",
   "execution_count": 31,
   "metadata": {},
   "outputs": [
    {
     "data": {
      "text/latex": [
       "$\\displaystyle \\tilde{\\infty}$"
      ],
      "text/plain": [
       "zoo"
      ]
     },
     "execution_count": 31,
     "metadata": {},
     "output_type": "execute_result"
    }
   ],
   "source": [
    "m_DeltaByDelta_s_2.subs({Delta_b: ndef_Delta_b}).simplify()"
   ]
  },
  {
   "cell_type": "markdown",
   "metadata": {},
   "source": [
    "### we conclude \n",
    "\n",
    "that the unsolveablity of the issue boils down to the simple fact that:\n",
    "- as Delta_b approaches l_b * w_b / (w_b + w_s), Delta_s approaches infinity\n",
    "- this means the effective price Delta_s / Delta_b approaches infinity\n",
    "- if we were able to remedy that, we would be able to reduce the effective price at least at some points, which should not be allowed\n",
    "\n",
    "-> let's just note the additional constraint\n",
    "\n",
    "TODO: Add this check to the offchain/frontend such that the pool creator knows when some liquidity can never be bought. This might however require some additional analysis for the multi-asset-case. Also note that each swap reduces l_b, so maybe this is a non-issue after all\n",
    "\n"
   ]
  },
  {
   "cell_type": "markdown",
   "metadata": {},
   "source": [
    "(below is just some check that fits nowhere really)"
   ]
  },
  {
   "cell_type": "code",
   "execution_count": 32,
   "metadata": {},
   "outputs": [
    {
     "data": {
      "text/latex": [
       "$\\displaystyle \\left\\{\\frac{\\Delta_{s} l_{b} w_{b}}{\\Delta_{s} w_{b} + \\Delta_{s} w_{s} + l_{s} w_{s}}\\right\\} \\setminus \\left\\{\\frac{l_{b} w_{b}}{w_{b} + w_{s}}\\right\\}$"
      ],
      "text/plain": [
       "Complement({Delta_s*l_b*w_b/(Delta_s*w_b + Delta_s*w_s + l_s*w_s)}, {l_b*w_b/(w_b + w_s)})"
      ]
     },
     "execution_count": 32,
     "metadata": {},
     "output_type": "execute_result"
    }
   ],
   "source": [
    "solveset(Eq(Delta_s, deltaByDelta['s']), Delta_b)"
   ]
  },
  {
   "cell_type": "code",
   "execution_count": 33,
   "metadata": {},
   "outputs": [
    {
     "data": {
      "text/latex": [
       "$\\displaystyle \\left\\{- \\frac{\\Delta_{b} l_{s} w_{s}}{\\Delta_{b} w_{b} + \\Delta_{b} w_{s} - l_{b} w_{b}}\\right\\} \\setminus \\left\\{- \\frac{l_{s} w_{s}}{w_{b} + w_{s}}\\right\\}$"
      ],
      "text/plain": [
       "Complement({-Delta_b*l_s*w_s/(Delta_b*w_b + Delta_b*w_s - l_b*w_b)}, {-l_s*w_s/(w_b + w_s)})"
      ]
     },
     "execution_count": 33,
     "metadata": {},
     "output_type": "execute_result"
    }
   ],
   "source": [
    "solveset(Eq(Delta_b, deltaByDelta['b']), Delta_s)"
   ]
  },
  {
   "cell_type": "markdown",
   "metadata": {},
   "source": [
    "### what happens if an attacker simply removes the \"selling\" asset and adds the \"buying\" one instead of the other way around?\n",
    "\n",
    "- onchain equation: -Delta_b * s_s <= Delta_s * s_b\n",
    "- representing Delta_b positively: Delta_b * s_s <= Delta_s * s_b\n",
    "- => effectivePrice = Delta_s / Delta_b >= s_s / s_b = spotPrice\n",
    "- spotPrice conditions:\n",
    "  - prior: s_b <= w_b * l_b, s_s >= w_s * l_s \n",
    "    - => spotPrice >= w_s * l_s / (w_b * l_b)\n",
    "  - posterior: s_b <= w_b * (l_b - Delta_b), s_s >= w_s * (l_s + Delta_s) \n",
    "    - => spotPrice >= w_s * (l_s + Delta_s) / (w_b * (l_b - Delta_b))\n",
    "\n",
    "if Delta_b is positive and Delta_s is negative:\n",
    "- the equation is not violated per se\n",
    "- the effective price stays the same as the negations cancel out\n",
    "- however, the condition for the posterior spotPrice changes:\n",
    "  - s_b <= w_b * (l_b + Delta_b), s_s >= w_s * (l_s - Delta_s) \n",
    "    - => spotPrice >= w_s * (l_s - Delta_s) / (w_b * (l_b + Delta_b))\n",
    "      - --> this constitutes an exploit!\n",
    "\n",
    "### fix\n",
    "- require correct signs for balance-changes\n",
    "- we can also drop the pre-swap price requirement, as it's subsumed by the post-swap one\n"
   ]
  },
  {
   "cell_type": "code",
   "execution_count": null,
   "metadata": {},
   "outputs": [],
   "source": []
  },
  {
   "cell_type": "markdown",
   "metadata": {},
   "source": [
    "## worst case rounding analysis\n",
    "\n",
    "- rounding the Deltas cannot do worse than increasing Delta_s by 1 and decreasing Delta_b by 1\n",
    "- spotByDelta has no divisions and is therefore unaffected by rounding\n",
    "- we are not accounting yet for the rounding effect of having to express spots via exponents, not here or above (TODO, TODO)\n",
    "\n",
    "### in this copy of the notebook, we instead maximize the inverted effective price, in hopes of getting nicer equations"
   ]
  },
  {
   "cell_type": "code",
   "execution_count": 34,
   "metadata": {},
   "outputs": [
    {
     "data": {
      "text/latex": [
       "$\\displaystyle \\frac{\\Delta_{b}}{\\Delta_{s}}$"
      ],
      "text/plain": [
       "Delta_b/Delta_s"
      ]
     },
     "metadata": {},
     "output_type": "display_data"
    },
    {
     "data": {
      "text/latex": [
       "$\\displaystyle \\frac{\\Delta_{b} - 1}{\\Delta_{s} + 1}$"
      ],
      "text/plain": [
       "(Delta_b - 1)/(Delta_s + 1)"
      ]
     },
     "execution_count": 34,
     "metadata": {},
     "output_type": "execute_result"
    }
   ],
   "source": [
    "eff_best = Delta_b / Delta_s # inverted effective price we want to maximize\n",
    "display(eff_best)\n",
    "eff_worst = (Delta_b - 1) / (Delta_s + 1) # noninclusive worst case resulting from rounding Deltas\n",
    "eff_worst"
   ]
  },
  {
   "cell_type": "code",
   "execution_count": 35,
   "metadata": {},
   "outputs": [
    {
     "data": {
      "text/latex": [
       "$\\displaystyle \\Large { \\frac{l_{b} w_{b}}{\\Delta_{s} w_{b} + \\Delta_{s} w_{s} + l_{s} w_{s}} }$"
      ],
      "text/plain": [
       "<IPython.core.display.Math object>"
      ]
     },
     "metadata": {},
     "output_type": "display_data"
    },
    {
     "data": {
      "text/latex": [
       "$\\displaystyle \\Large { \\frac{- \\Delta_{b} w_{b} - \\Delta_{b} w_{s} + l_{b} w_{b}}{l_{s} w_{s}} }$"
      ],
      "text/plain": [
       "<IPython.core.display.Math object>"
      ]
     },
     "metadata": {},
     "output_type": "display_data"
    }
   ],
   "source": [
    "large(eff_best.subs({Delta_b: deltaByDelta['b']}).simplify())\n",
    "large(eff_best.subs({Delta_s: deltaByDelta['s']}).simplify())"
   ]
  },
  {
   "cell_type": "markdown",
   "metadata": {},
   "source": [
    "-> simply maximized by minimizing Deltas"
   ]
  },
  {
   "cell_type": "code",
   "execution_count": 36,
   "metadata": {},
   "outputs": [
    {
     "data": {
      "text/latex": [
       "$\\displaystyle \\Large { \\frac{\\Delta_{b} - 1}{- \\frac{\\Delta_{b} l_{s} w_{s}}{\\Delta_{b} w_{b} + \\Delta_{b} w_{s} - l_{b} w_{b}} + 1} }$"
      ],
      "text/plain": [
       "<IPython.core.display.Math object>"
      ]
     },
     "metadata": {},
     "output_type": "display_data"
    },
    {
     "data": {
      "text/latex": [
       "$\\displaystyle \\Large { - \\frac{\\left(\\Delta_{b} - 1\\right) \\left(\\Delta_{b} w_{b} + \\Delta_{b} w_{s} - l_{b} w_{b}\\right)}{\\Delta_{b} l_{s} w_{s} - \\Delta_{b} w_{b} - \\Delta_{b} w_{s} + l_{b} w_{b}} }$"
      ],
      "text/plain": [
       "<IPython.core.display.Math object>"
      ]
     },
     "metadata": {},
     "output_type": "display_data"
    }
   ],
   "source": [
    "eff_worst_Delta_b = eff_worst.subs({Delta_s: deltaByDelta['s']})\n",
    "large(eff_worst_Delta_b)\n",
    "eff_worst_Delta_b = eff_worst_Delta_b.simplify()\n",
    "large(eff_worst_Delta_b)"
   ]
  },
  {
   "cell_type": "code",
   "execution_count": 37,
   "metadata": {},
   "outputs": [
    {
     "data": {
      "text/latex": [
       "$\\displaystyle \\Large { \\frac{- \\Delta_{b}^{2} w_{b} - \\Delta_{b}^{2} w_{s} + \\Delta_{b} l_{b} w_{b} + \\Delta_{b} w_{b} + \\Delta_{b} w_{s} - l_{b} w_{b}}{\\Delta_{b} l_{s} w_{s} - \\Delta_{b} w_{b} - \\Delta_{b} w_{s} + l_{b} w_{b}} }$"
      ],
      "text/plain": [
       "<IPython.core.display.Math object>"
      ]
     },
     "metadata": {},
     "output_type": "display_data"
    }
   ],
   "source": [
    "large(expand(eff_worst_Delta_b).simplify())"
   ]
  },
  {
   "cell_type": "code",
   "execution_count": 42,
   "metadata": {},
   "outputs": [
    {
     "data": {
      "text/latex": [
       "$\\displaystyle \\Large { \\frac{- \\Delta_{b}^{2} \\left(w_{b} + w_{s}\\right) + \\Delta_{b} \\left(l_{b} w_{b} + w_{b} + w_{s}\\right) - l_{b} w_{b}}{\\Delta_{b} \\left(l_{s} w_{s} - w_{b} - w_{s}\\right) + l_{b} w_{b}} }$"
      ],
      "text/plain": [
       "<IPython.core.display.Math object>"
      ]
     },
     "metadata": {},
     "output_type": "display_data"
    },
    {
     "data": {
      "text/latex": [
       "$\\displaystyle \\text{True}$"
      ],
      "text/plain": [
       "True"
      ]
     },
     "execution_count": 42,
     "metadata": {},
     "output_type": "execute_result"
    }
   ],
   "source": [
    "numerator = -Delta_b**2 * (w_b + w_s) + Delta_b * (l_b * w_b + w_b + w_s) - l_b * w_b\n",
    "denominator = Delta_b * (l_s * w_s - w_b - w_s) + l_b * w_b\n",
    "f = numerator / denominator\n",
    "large(f)\n",
    "Eq(f, eff_worst_Delta_b).simplify()"
   ]
  },
  {
   "cell_type": "code",
   "execution_count": 44,
   "metadata": {},
   "outputs": [
    {
     "data": {
      "text/latex": [
       "$\\displaystyle \\frac{- \\Delta_{b}^{2} a + \\Delta_{b} b - c}{\\Delta_{b} d + c}$"
      ],
      "text/plain": [
       "(-Delta_b**2*a + Delta_b*b - c)/(Delta_b*d + c)"
      ]
     },
     "metadata": {},
     "output_type": "display_data"
    },
    {
     "data": {
      "text/latex": [
       "$\\displaystyle \\frac{- \\Delta_{b}^{2} a + \\Delta_{b} b - c}{\\Delta_{b} d_{pos} + c}$"
      ],
      "text/plain": [
       "(-Delta_b**2*a + Delta_b*b - c)/(Delta_b*d_pos + c)"
      ]
     },
     "metadata": {},
     "output_type": "display_data"
    },
    {
     "data": {
      "text/latex": [
       "$\\displaystyle \\frac{- \\Delta_{b}^{2} a + \\Delta_{b} b - c}{\\Delta_{b} d_{neg} + c}$"
      ],
      "text/plain": [
       "(-Delta_b**2*a + Delta_b*b - c)/(Delta_b*d_neg + c)"
      ]
     },
     "metadata": {},
     "output_type": "display_data"
    },
    {
     "data": {
      "text/latex": [
       "$\\displaystyle \\frac{- \\Delta_{b}^{2} a + \\Delta_{b} b - c}{c}$"
      ],
      "text/plain": [
       "(-Delta_b**2*a + Delta_b*b - c)/c"
      ]
     },
     "metadata": {},
     "output_type": "display_data"
    }
   ],
   "source": [
    "a, b, c, d_pos = symbols('a b c d_pos', positive=True, integer=True)\n",
    "d_neg = symbols('d_neg', negative=True, integer=True)\n",
    "d = symbols('d', integer=True)\n",
    "f0 = f.subs({w_b + w_s: a, l_b * w_b + w_b + w_s: b, l_b * w_b: c, l_s * w_s - w_b - w_s: d})\n",
    "display(f0)\n",
    "f1 = f.subs({w_b + w_s: a, l_b * w_b + w_b + w_s: b, l_b * w_b: c, l_s * w_s - w_b - w_s: d_pos})\n",
    "display(f1)\n",
    "f2 = f.subs({w_b + w_s: a, l_b * w_b + w_b + w_s: b, l_b * w_b: c, l_s * w_s - w_b - w_s: d_neg})\n",
    "display(f2)\n",
    "f3 = f.subs({w_b + w_s: a, l_b * w_b + w_b + w_s: b, l_b * w_b: c, l_s * w_s - w_b - w_s: 0})\n",
    "display(f3)"
   ]
  },
  {
   "cell_type": "code",
   "execution_count": 45,
   "metadata": {},
   "outputs": [
    {
     "data": {
      "text/latex": [
       "$\\displaystyle \\frac{d \\left(\\Delta_{b}^{2} a - \\Delta_{b} b + c\\right) + \\left(- 2 \\Delta_{b} a + b\\right) \\left(\\Delta_{b} d + c\\right)}{\\left(\\Delta_{b} d + c\\right)^{2}}$"
      ],
      "text/plain": [
       "(d*(Delta_b**2*a - Delta_b*b + c) + (-2*Delta_b*a + b)*(Delta_b*d + c))/(Delta_b*d + c)**2"
      ]
     },
     "metadata": {},
     "output_type": "display_data"
    },
    {
     "data": {
      "text/latex": [
       "$\\displaystyle \\frac{d_{pos} \\left(\\Delta_{b}^{2} a - \\Delta_{b} b + c\\right) + \\left(- 2 \\Delta_{b} a + b\\right) \\left(\\Delta_{b} d_{pos} + c\\right)}{\\left(\\Delta_{b} d_{pos} + c\\right)^{2}}$"
      ],
      "text/plain": [
       "(d_pos*(Delta_b**2*a - Delta_b*b + c) + (-2*Delta_b*a + b)*(Delta_b*d_pos + c))/(Delta_b*d_pos + c)**2"
      ]
     },
     "metadata": {},
     "output_type": "display_data"
    },
    {
     "data": {
      "text/latex": [
       "$\\displaystyle \\frac{d_{neg} \\left(\\Delta_{b}^{2} a - \\Delta_{b} b + c\\right) + \\left(- 2 \\Delta_{b} a + b\\right) \\left(\\Delta_{b} d_{neg} + c\\right)}{\\left(\\Delta_{b} d_{neg} + c\\right)^{2}}$"
      ],
      "text/plain": [
       "(d_neg*(Delta_b**2*a - Delta_b*b + c) + (-2*Delta_b*a + b)*(Delta_b*d_neg + c))/(Delta_b*d_neg + c)**2"
      ]
     },
     "metadata": {},
     "output_type": "display_data"
    },
    {
     "data": {
      "text/latex": [
       "$\\displaystyle \\frac{- 2 \\Delta_{b} a + b}{c}$"
      ],
      "text/plain": [
       "(-2*Delta_b*a + b)/c"
      ]
     },
     "metadata": {},
     "output_type": "display_data"
    }
   ],
   "source": [
    "d_f0 = f0.diff(Delta_b).simplify()\n",
    "display(d_f0)\n",
    "d_f1 = f1.diff(Delta_b).simplify()\n",
    "display(d_f1)\n",
    "d_f2 = f2.diff(Delta_b).simplify()\n",
    "display(d_f2)\n",
    "d_f3 = f3.diff(Delta_b).simplify()\n",
    "display(d_f3)"
   ]
  },
  {
   "cell_type": "code",
   "execution_count": 46,
   "metadata": {},
   "outputs": [
    {
     "data": {
      "text/latex": [
       "$\\displaystyle \\left\\{- \\frac{c}{d} - \\frac{\\sqrt{c} \\sqrt{a c + b d + d^{2}}}{\\sqrt{a} d}, - \\frac{c}{d} + \\frac{\\sqrt{c} \\sqrt{a c + b d + d^{2}}}{\\sqrt{a} d}\\right\\} \\setminus \\left\\{- \\frac{c}{d}\\right\\}$"
      ],
      "text/plain": [
       "Complement({-c/d - sqrt(c)*sqrt(a*c + b*d + d**2)/(sqrt(a)*d), -c/d + sqrt(c)*sqrt(a*c + b*d + d**2)/(sqrt(a)*d)}, {-c/d})"
      ]
     },
     "metadata": {},
     "output_type": "display_data"
    },
    {
     "data": {
      "text/latex": [
       "$\\displaystyle \\left\\{- \\frac{c}{d_{pos}} - \\frac{\\sqrt{c} \\sqrt{a c + b d_{pos} + d_{pos}^{2}}}{\\sqrt{a} d_{pos}}, - \\frac{c}{d_{pos}} + \\frac{\\sqrt{c} \\sqrt{a c + b d_{pos} + d_{pos}^{2}}}{\\sqrt{a} d_{pos}}\\right\\}$"
      ],
      "text/plain": [
       "{-c/d_pos - sqrt(c)*sqrt(a*c + b*d_pos + d_pos**2)/(sqrt(a)*d_pos), -c/d_pos + sqrt(c)*sqrt(a*c + b*d_pos + d_pos**2)/(sqrt(a)*d_pos)}"
      ]
     },
     "metadata": {},
     "output_type": "display_data"
    },
    {
     "data": {
      "text/latex": [
       "$\\displaystyle \\left\\{- \\frac{c}{d_{neg}} - \\frac{\\sqrt{c} \\sqrt{a c + b d_{neg} + d_{neg}^{2}}}{\\sqrt{a} d_{neg}}, - \\frac{c}{d_{neg}} + \\frac{\\sqrt{c} \\sqrt{a c + b d_{neg} + d_{neg}^{2}}}{\\sqrt{a} d_{neg}}\\right\\} \\setminus \\left\\{- \\frac{c}{d_{neg}}\\right\\}$"
      ],
      "text/plain": [
       "Complement({-c/d_neg - sqrt(c)*sqrt(a*c + b*d_neg + d_neg**2)/(sqrt(a)*d_neg), -c/d_neg + sqrt(c)*sqrt(a*c + b*d_neg + d_neg**2)/(sqrt(a)*d_neg)}, {-c/d_neg})"
      ]
     },
     "metadata": {},
     "output_type": "display_data"
    },
    {
     "data": {
      "text/latex": [
       "$\\displaystyle \\left\\{\\frac{b}{2 a}\\right\\}$"
      ],
      "text/plain": [
       "{b/(2*a)}"
      ]
     },
     "metadata": {},
     "output_type": "display_data"
    }
   ],
   "source": [
    "sols_f0 = solveset(d_f0, Delta_b)\n",
    "display(sols_f0)\n",
    "sols_f1 = solveset(d_f1, Delta_b)\n",
    "display(sols_f1)\n",
    "sols_f2 = solveset(d_f2, Delta_b)\n",
    "display(sols_f2)\n",
    "sols_f3 = solveset(d_f3, Delta_b)\n",
    "display(sols_f3)"
   ]
  },
  {
   "cell_type": "code",
   "execution_count": 50,
   "metadata": {},
   "outputs": [
    {
     "data": {
      "text/latex": [
       "$\\displaystyle - \\frac{c}{d_{pos}}$"
      ],
      "text/plain": [
       "-c/d_pos"
      ]
     },
     "metadata": {},
     "output_type": "display_data"
    },
    {
     "name": "stdout",
     "output_type": "stream",
     "text": [
      "d negative -> solution negative -> invalid\n"
     ]
    },
    {
     "data": {
      "text/latex": [
       "$\\displaystyle \\frac{\\sqrt{c} \\sqrt{a c + b d_{pos} + d_{pos}^{2}}}{\\sqrt{a} d_{pos}}$"
      ],
      "text/plain": [
       "sqrt(c)*sqrt(a*c + b*d_pos + d_pos**2)/(sqrt(a)*d_pos)"
      ]
     },
     "metadata": {},
     "output_type": "display_data"
    },
    {
     "name": "stdout",
     "output_type": "stream",
     "text": [
      "everything positive -> solution positive -> valid\n"
     ]
    },
    {
     "data": {
      "text/latex": [
       "$\\displaystyle - \\frac{c}{d_{neg}} + \\frac{\\sqrt{c} \\sqrt{a c + b d_{neg} + d_{neg}^{2}}}{\\sqrt{a} d_{neg}}$"
      ],
      "text/plain": [
       "-c/d_neg + sqrt(c)*sqrt(a*c + b*d_neg + d_neg**2)/(sqrt(a)*d_neg)"
      ]
     },
     "metadata": {},
     "output_type": "display_data"
    },
    {
     "name": "stdout",
     "output_type": "stream",
     "text": [
      "first summand positive, second negative or irrational -> sometimes valid\n"
     ]
    },
    {
     "data": {
      "text/latex": [
       "$\\displaystyle - \\frac{c}{d_{neg}} - \\frac{\\sqrt{c} \\sqrt{a c + b d_{neg} + d_{neg}^{2}}}{\\sqrt{a} d_{neg}}$"
      ],
      "text/plain": [
       "-c/d_neg - sqrt(c)*sqrt(a*c + b*d_neg + d_neg**2)/(sqrt(a)*d_neg)"
      ]
     },
     "metadata": {},
     "output_type": "display_data"
    },
    {
     "name": "stdout",
     "output_type": "stream",
     "text": [
      "both summands positive, second sometimes irrational -> sometimes valid\n"
     ]
    },
    {
     "data": {
      "text/latex": [
       "$\\displaystyle \\frac{b}{2 a}$"
      ],
      "text/plain": [
       "b/(2*a)"
      ]
     },
     "metadata": {},
     "output_type": "display_data"
    },
    {
     "name": "stdout",
     "output_type": "stream",
     "text": [
      "a, b positive -> solution positive -> valid\n"
     ]
    }
   ],
   "source": [
    "sol0_1 = sols_f0.args[0].args[0]\n",
    "# display(sol0_1)\n",
    "sol0_2 = sols_f0.args[0].args[1]\n",
    "# display(sol0_2)\n",
    "sol1_1 = sols_f1.args[0].args[0]\n",
    "display(sol1_1)\n",
    "print(\"d negative -> solution negative -> invalid\")\n",
    "sol1_2 = sols_f1.args[0].args[1]\n",
    "display(sol1_2)\n",
    "print(\"everything positive -> solution positive -> valid\")\n",
    "sol2_1 = sols_f2.args[0].args[0]\n",
    "display(sol2_1)\n",
    "print(\"first summand positive, second negative or irrational -> sometimes valid\")\n",
    "sol2_2 = sols_f2.args[0].args[1]\n",
    "display(sol2_2)\n",
    "print(\"both summands positive, second sometimes irrational -> sometimes valid\")\n",
    "sol3 = sols_f3.args[0]\n",
    "display(sol3)\n",
    "print(\"a, b positive -> solution positive -> valid\")"
   ]
  },
  {
   "cell_type": "code",
   "execution_count": null,
   "metadata": {},
   "outputs": [],
   "source": [
    "sol2_2"
   ]
  },
  {
   "cell_type": "code",
   "execution_count": null,
   "metadata": {},
   "outputs": [],
   "source": []
  },
  {
   "cell_type": "code",
   "execution_count": null,
   "metadata": {},
   "outputs": [],
   "source": [
    "raise Exception(\"stop here\")"
   ]
  },
  {
   "cell_type": "code",
   "execution_count": null,
   "metadata": {},
   "outputs": [],
   "source": [
    "dd_f0 = d_f0.diff(Delta_s).simplify()\n",
    "display(dd_f0)\n",
    "# dd_f1 = d_f1.diff(Delta_s).simplify()\n",
    "# display(dd_f1)\n",
    "# dd_f2 = d_f2.diff(Delta_s).simplify()\n",
    "# display(dd_f2)"
   ]
  },
  {
   "cell_type": "code",
   "execution_count": null,
   "metadata": {},
   "outputs": [],
   "source": [
    "dd_sol1 = dd_f0.subs({Delta_s: sol1}).simplify()\n",
    "display(dd_sol1)\n",
    "if Eq(dd_sol1, 0) == False: print(\"-> extremum\")\n",
    "dd_sol2 = dd_f0.subs({Delta_s: sol2}).simplify()\n",
    "display(dd_sol2)\n",
    "if Eq(dd_sol2, 0) == False: print(\"-> extremum\")"
   ]
  },
  {
   "cell_type": "code",
   "execution_count": null,
   "metadata": {},
   "outputs": [],
   "source": [
    "dd_sol1 = dd_sol1.subs({a: w_b + w_s, b: l_s * w_s + w_b + w_s, c: l_s * w_s, d: l_b * w_b - w_b - w_s}).simplify()\n",
    "display(dd_sol1)\n",
    "if Eq(dd_sol1, 0) == False: print(\"-> extremum\")\n",
    "dd_sol2 = dd_sol2.subs({a: w_b + w_s, b: l_s * w_s + w_b + w_s, c: l_s * w_s, d: l_b * w_b - w_b - w_s}).simplify()\n",
    "display(dd_sol2)\n",
    "if Eq(dd_sol2, 0) == False: print(\"-> extremum\")"
   ]
  },
  {
   "cell_type": "code",
   "execution_count": null,
   "metadata": {},
   "outputs": [],
   "source": []
  },
  {
   "cell_type": "code",
   "execution_count": null,
   "metadata": {},
   "outputs": [],
   "source": []
  },
  {
   "cell_type": "code",
   "execution_count": null,
   "metadata": {},
   "outputs": [],
   "source": []
  },
  {
   "cell_type": "code",
   "execution_count": null,
   "metadata": {},
   "outputs": [],
   "source": []
  },
  {
   "cell_type": "code",
   "execution_count": null,
   "metadata": {},
   "outputs": [],
   "source": []
  },
  {
   "cell_type": "code",
   "execution_count": null,
   "metadata": {},
   "outputs": [],
   "source": [
    "raise Exception(\"stop here\")"
   ]
  },
  {
   "cell_type": "code",
   "execution_count": null,
   "metadata": {},
   "outputs": [],
   "source": [
    "d_eff_worst_Delta_s = eff_worst_Delta_s.diff(Delta_s)\n",
    "large(d_eff_worst_Delta_s)\n",
    "d_eff_worst_Delta_s = d_eff_worst_Delta_s.simplify()\n",
    "large(d_eff_worst_Delta_s)"
   ]
  },
  {
   "cell_type": "code",
   "execution_count": null,
   "metadata": {},
   "outputs": [],
   "source": [
    "sols_s = solveset(d_eff_worst_Delta_s, Delta_s)\n",
    "large(sols_s)"
   ]
  },
  {
   "cell_type": "markdown",
   "metadata": {},
   "source": [
    "-> what to make of that excluded Delta_s?"
   ]
  },
  {
   "cell_type": "code",
   "execution_count": null,
   "metadata": {},
   "outputs": [],
   "source": []
  },
  {
   "cell_type": "code",
   "execution_count": null,
   "metadata": {},
   "outputs": [],
   "source": []
  },
  {
   "cell_type": "code",
   "execution_count": null,
   "metadata": {},
   "outputs": [],
   "source": [
    "raise Exception(\"stop here\")"
   ]
  },
  {
   "cell_type": "code",
   "execution_count": null,
   "metadata": {},
   "outputs": [],
   "source": [
    "eff_worst_Delta_b = eff_worst.subs({Delta_s: deltaByDelta['s']})\n",
    "large(eff_worst_Delta_b)\n",
    "eff_worst_Delta_b = eff_worst_Delta_b.simplify()\n",
    "large(eff_worst_Delta_b)"
   ]
  },
  {
   "cell_type": "code",
   "execution_count": null,
   "metadata": {},
   "outputs": [],
   "source": [
    "large(expand(eff_worst_Delta_b).simplify())"
   ]
  },
  {
   "cell_type": "code",
   "execution_count": null,
   "metadata": {},
   "outputs": [],
   "source": [
    "# numerator = Delta_b * (- l_s * w_s + w_b + w_s) - l_b * w_b\n",
    "# denominator = Delta_b**2 * (w_b + w_s) - Delta_b * (l_b * w_b + w_b + w_s) + l_b * w_b\n",
    "# f = numerator / denominator\n",
    "# large(f)\n",
    "# Eq(f, eff_worst_Delta_b).simplify()"
   ]
  },
  {
   "cell_type": "code",
   "execution_count": null,
   "metadata": {},
   "outputs": [],
   "source": [
    "# a, b, c, d_pos = symbols('a b c d_pos', positive=True, integer=True)\n",
    "# d_neg = symbols('d_neg', negative=True, integer=True)\n",
    "# f1 = f.subs({w_b + w_s: a, l_b * w_b + w_b + w_s: b, l_b * w_b: c, -l_s * w_s + w_b + w_s: d_pos})\n",
    "# display(f1)\n",
    "# f2 = f.subs({w_b + w_s: a, l_b * w_b + w_b + w_s: b, l_b * w_b: c, -l_s * w_s + w_b + w_s: d_neg})\n",
    "# display(f2)\n",
    "# f3 = f.subs({w_b + w_s: a, l_b * w_b + w_b + w_s: b, l_b * w_b: c, -l_s * w_s + w_b + w_s: 0})\n",
    "# display(f3)"
   ]
  },
  {
   "cell_type": "code",
   "execution_count": null,
   "metadata": {},
   "outputs": [],
   "source": [
    "# d_f1 = f1.diff(Delta_b).simplify()\n",
    "# display(d_f1)\n",
    "# d_f2 = f2.diff(Delta_b).simplify()\n",
    "# display(d_f2)\n",
    "# d_f3 = f3.diff(Delta_b).simplify()\n",
    "# display(d_f3)"
   ]
  },
  {
   "cell_type": "code",
   "execution_count": null,
   "metadata": {},
   "outputs": [],
   "source": [
    "# sols_f1 = solveset(d_f1, Delta_b)\n",
    "# display(sols_f1)\n",
    "# sols_f2 = solveset(d_f2, Delta_b)\n",
    "# display(sols_f2)\n",
    "# sols_f3 = solveset(d_f3, Delta_b)\n",
    "# display(sols_f3)"
   ]
  },
  {
   "cell_type": "code",
   "execution_count": null,
   "metadata": {},
   "outputs": [],
   "source": []
  },
  {
   "cell_type": "code",
   "execution_count": null,
   "metadata": {},
   "outputs": [],
   "source": []
  },
  {
   "cell_type": "code",
   "execution_count": null,
   "metadata": {},
   "outputs": [],
   "source": []
  },
  {
   "cell_type": "code",
   "execution_count": null,
   "metadata": {},
   "outputs": [],
   "source": []
  },
  {
   "cell_type": "code",
   "execution_count": null,
   "metadata": {},
   "outputs": [],
   "source": []
  },
  {
   "cell_type": "code",
   "execution_count": null,
   "metadata": {},
   "outputs": [],
   "source": []
  },
  {
   "cell_type": "code",
   "execution_count": null,
   "metadata": {},
   "outputs": [],
   "source": []
  },
  {
   "cell_type": "code",
   "execution_count": null,
   "metadata": {},
   "outputs": [],
   "source": [
    "d_eff_worst_Delta_b = eff_worst_Delta_b.diff(Delta_b)\n",
    "large(d_eff_worst_Delta_b)\n",
    "d_eff_worst_Delta_b = d_eff_worst_Delta_b.simplify()\n",
    "large(d_eff_worst_Delta_b)"
   ]
  },
  {
   "cell_type": "code",
   "execution_count": null,
   "metadata": {},
   "outputs": [],
   "source": [
    "sols_b = solveset(d_eff_worst_Delta_b, Delta_b)\n",
    "large(sols_b)"
   ]
  },
  {
   "cell_type": "markdown",
   "metadata": {},
   "source": [
    "-> we already excluded the second excluded Delta_b, but what to make of the excluded Delta_b = 1?"
   ]
  },
  {
   "cell_type": "code",
   "execution_count": null,
   "metadata": {},
   "outputs": [],
   "source": [
    "large(sols_s.args[0].args[0])#.simplify())\n",
    "large(sols_s.args[0].args[1])#.simplify())\n",
    "large(sols_b.args[0].args[0])#.simplify())\n",
    "large(sols_b.args[0].args[1])#.simplify())"
   ]
  },
  {
   "cell_type": "markdown",
   "metadata": {},
   "source": [
    "### -> what to do with this?\n",
    "\n",
    "- "
   ]
  },
  {
   "cell_type": "code",
   "execution_count": null,
   "metadata": {},
   "outputs": [],
   "source": []
  },
  {
   "cell_type": "code",
   "execution_count": null,
   "metadata": {},
   "outputs": [],
   "source": []
  },
  {
   "cell_type": "code",
   "execution_count": null,
   "metadata": {},
   "outputs": [],
   "source": []
  },
  {
   "cell_type": "code",
   "execution_count": null,
   "metadata": {},
   "outputs": [],
   "source": []
  },
  {
   "cell_type": "code",
   "execution_count": null,
   "metadata": {},
   "outputs": [],
   "source": []
  },
  {
   "cell_type": "code",
   "execution_count": null,
   "metadata": {},
   "outputs": [],
   "source": []
  },
  {
   "cell_type": "code",
   "execution_count": null,
   "metadata": {},
   "outputs": [],
   "source": []
  },
  {
   "cell_type": "code",
   "execution_count": null,
   "metadata": {},
   "outputs": [],
   "source": [
    "raise Exception(\"stop here\")"
   ]
  },
  {
   "cell_type": "markdown",
   "metadata": {},
   "source": [
    "(below: some variant to deltaByDelta: spotBySpot)"
   ]
  },
  {
   "cell_type": "code",
   "execution_count": null,
   "metadata": {},
   "outputs": [],
   "source": [
    "def spotBySpot_(asset, s, l, v, b, w, j, e, Delta, a, min):\n",
    "  f = solveset(a0_eq.subs({Delta_b: deltaBySpot['b'], Delta_s: deltaBySpot['s']}), s)\n",
    "  f = list(f)\n",
    "  assert len(f) == 1\n",
    "  f = f[0]\n",
    "  if simp:\n",
    "    f = simplify(f)\n",
    "  return f\n",
    "\n",
    "spotBySpot = {asset: spotBySpot_(asset, *all_symbols[asset]) for asset in assets}\n",
    "spotBySpot['b']"
   ]
  },
  {
   "cell_type": "code",
   "execution_count": null,
   "metadata": {},
   "outputs": [],
   "source": [
    "spotBySpot['s']"
   ]
  },
  {
   "cell_type": "markdown",
   "metadata": {},
   "source": [
    "all four solutions are the same irrespective of delta_b_negative (continuous case, and not accounting for flipped indices, of course)\n"
   ]
  },
  {
   "cell_type": "code",
   "execution_count": null,
   "metadata": {},
   "outputs": [],
   "source": [
    "denominator_s_s = spotBySpot['s'].args[-1].args[0]\n",
    "display(denominator_s_s)\n",
    "ndef_s_b = solveset(denominator_s_s, s_b)\n",
    "assert(len(ndef_s_b) == 1)\n",
    "ndef_s_b = ndef_s_b.args[0]\n",
    "ndef_s_b"
   ]
  },
  {
   "cell_type": "code",
   "execution_count": null,
   "metadata": {},
   "outputs": [],
   "source": [
    "denominator_s_b = spotBySpot['b'].args[-1].args[0]\n",
    "display(denominator_s_b)\n",
    "ndef_s_s = solveset(denominator_s_b, s_s)\n",
    "assert(len(ndef_s_s) == 1)\n",
    "ndef_s_s = ndef_s_s.args[0]\n",
    "ndef_s_s"
   ]
  },
  {
   "cell_type": "code",
   "execution_count": null,
   "metadata": {},
   "outputs": [],
   "source": [
    "display(ndef_Delta_b)\n",
    "display(ndef_Delta_s)"
   ]
  },
  {
   "cell_type": "code",
   "execution_count": null,
   "metadata": {},
   "outputs": [],
   "source": [
    "display(ndef_Delta_b * -w_s)\n",
    "display(ndef_Delta_s * -w_b)"
   ]
  },
  {
   "cell_type": "markdown",
   "metadata": {},
   "source": [
    "- the implied limits on spot prices look similar to those on Delta_b\n",
    "- this similarity is encapsulated by negation and multiplication by the other asset's weight, which is odd, but reminds us a bit of the amm price calculation\n",
    "\n",
    "what happens if we use those invalid spot prices in our other equations? Do they break or not?"
   ]
  },
  {
   "cell_type": "code",
   "execution_count": null,
   "metadata": {},
   "outputs": [],
   "source": [
    "ndef_s_s = solveset(spotBySpot['b'].args[-1].args[0], s_s)\n",
    "assert(len(ndef_s_s) == 1)\n",
    "ndef_s_s = ndef_s_s.args[0]\n",
    "ndef_s_s"
   ]
  },
  {
   "cell_type": "code",
   "execution_count": null,
   "metadata": {},
   "outputs": [],
   "source": [
    "a0_ndef_spots = a0_eq.subs({s_b: ndef_s_b, s_s: ndef_s_s})\n",
    "a0_ndef_spots"
   ]
  },
  {
   "cell_type": "code",
   "execution_count": null,
   "metadata": {},
   "outputs": [],
   "source": [
    "solveset(a0_ndef_spots, Delta_b)"
   ]
  },
  {
   "cell_type": "code",
   "execution_count": null,
   "metadata": {},
   "outputs": [],
   "source": [
    "solveset(a0_eq, Delta_s)"
   ]
  },
  {
   "cell_type": "code",
   "execution_count": null,
   "metadata": {},
   "outputs": [],
   "source": [
    "solveset(a0_ndef_spots, Delta_s)"
   ]
  },
  {
   "cell_type": "code",
   "execution_count": null,
   "metadata": {},
   "outputs": [],
   "source": []
  }
 ],
 "metadata": {
  "kernelspec": {
   "display_name": "Python 3",
   "language": "python",
   "name": "python3"
  },
  "language_info": {
   "codemirror_mode": {
    "name": "ipython",
    "version": 3
   },
   "file_extension": ".py",
   "mimetype": "text/x-python",
   "name": "python",
   "nbconvert_exporter": "python",
   "pygments_lexer": "ipython3",
   "version": "3.9.16"
  }
 },
 "nbformat": 4,
 "nbformat_minor": 2
}
