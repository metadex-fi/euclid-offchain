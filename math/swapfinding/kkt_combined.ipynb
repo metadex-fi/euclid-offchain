{
 "cells": [
  {
   "cell_type": "code",
   "execution_count": 1,
   "metadata": {},
   "outputs": [],
   "source": [
    "from sympy import symbols, simplify, hessian, solveset, S, solve, log, And, Le, Ge, Eq, Lt, Gt, nonlinsolve, latex, log, Wild, expand_log, logcombine, evaluate,oo, limit,ask, Q, floor, ceiling, lambdify, Sum, sign\n",
    "from IPython.display import display, HTML, Math"
   ]
  },
  {
   "cell_type": "code",
   "execution_count": 2,
   "metadata": {},
   "outputs": [],
   "source": [
    "delta_b_negative = False\n",
    "discrete = False\n",
    "simp = False"
   ]
  },
  {
   "cell_type": "code",
   "execution_count": 3,
   "metadata": {},
   "outputs": [
    {
     "data": {
      "text/plain": [
       "{'b': dict_values([s_b, v_b, b_b, w_b, j_b, e_b, Delta_b, a_b, min_b]),\n",
       " 's': dict_values([s_s, v_s, b_s, w_s, j_s, e_s, Delta_s, a_s, min_s])}"
      ]
     },
     "execution_count": 3,
     "metadata": {},
     "output_type": "execute_result"
    }
   ],
   "source": [
    "assets = ['b', 's']  # buying and selling assets\n",
    "base_symbols = ['s', 'v', 'b', 'w', 'j', 'e', 'Delta', 'a', 'min'] \n",
    "# spot price, virtual liquidity, balance, weight, jump size, exponent, delta, anchor price, amm-price, jump-multiplier\n",
    "\n",
    "all_symbols = {}\n",
    "\n",
    "for asset in assets:\n",
    "    temp_dict = {}\n",
    "    for base in base_symbols:\n",
    "        var_name = f\"{base}_{asset}\"\n",
    "        if base == 'e':\n",
    "            symbol_obj = symbols(var_name, integer=True)\n",
    "        elif base == 'b':\n",
    "            symbol_obj = symbols(var_name, nonnegative=True, integer=True)\n",
    "        elif delta_b_negative and var_name == 'Delta_b':\n",
    "            symbol_obj = symbols(var_name, negative=True, integer=True)\n",
    "        else:\n",
    "            symbol_obj = symbols(var_name, positive=True, integer=True)\n",
    "        temp_dict[var_name] = symbol_obj\n",
    "        # Define the variable in the global namespace\n",
    "        globals()[var_name] = symbol_obj\n",
    "    all_symbols[asset] = temp_dict.values()\n",
    "all_symbols"
   ]
  },
  {
   "cell_type": "markdown",
   "metadata": {},
   "source": [
    "## Equalities"
   ]
  },
  {
   "cell_type": "code",
   "execution_count": 4,
   "metadata": {},
   "outputs": [
    {
     "data": {
      "text/latex": [
       "$\\displaystyle \\frac{s_{b} - w_{b} \\left(b_{b} + v_{b}\\right)}{w_{b}}$"
      ],
      "text/plain": [
       "(s_b - w_b*(b_b + v_b))/w_b"
      ]
     },
     "execution_count": 4,
     "metadata": {},
     "output_type": "execute_result"
    }
   ],
   "source": [
    "# affine\n",
    "def deltaBySpot_(asset, s,v, b, w, j, e, Delta, a, min):\n",
    "  f = (s - (v + b) * w) / w\n",
    "  if delta_b_negative and asset == 'b':\n",
    "    f = -f\n",
    "  if discrete:\n",
    "    f = ceiling(f)\n",
    "  if simp:\n",
    "    f = simplify(f)\n",
    "  return f\n",
    "\n",
    "deltaBySpot = {asset: deltaBySpot_(asset, *all_symbols[asset]) for asset in assets}\n",
    "deltaBySpot['b']"
   ]
  },
  {
   "cell_type": "code",
   "execution_count": 5,
   "metadata": {},
   "outputs": [
    {
     "data": {
      "text/latex": [
       "$\\displaystyle a_{b} \\left(1 + \\frac{1}{j_{b}}\\right)^{e_{b}}$"
      ],
      "text/plain": [
       "a_b*(1 + 1/j_b)**e_b"
      ]
     },
     "execution_count": 5,
     "metadata": {},
     "output_type": "execute_result"
    }
   ],
   "source": [
    "# convex\n",
    "def spotByExp_(s, v, b, w, j, e, Delta, a, min):\n",
    "  f = a * ((1 + 1/j) ** e)\n",
    "  if discrete:\n",
    "    f = floor(f)\n",
    "  if simp:\n",
    "    f = simplify(f)\n",
    "  return f\n",
    "spotByExp = {asset: spotByExp_(*all_symbols[asset]) for asset in assets}\n",
    "spotByExp['b']"
   ]
  },
  {
   "cell_type": "code",
   "execution_count": 6,
   "metadata": {},
   "outputs": [
    {
     "data": {
      "text/latex": [
       "$\\displaystyle \\frac{a_{b} \\left(1 + \\frac{1}{j_{b}}\\right)^{e_{b}} - w_{b} \\left(b_{b} + v_{b}\\right)}{w_{b}}$"
      ],
      "text/plain": [
       "(a_b*(1 + 1/j_b)**e_b - w_b*(b_b + v_b))/w_b"
      ]
     },
     "execution_count": 6,
     "metadata": {},
     "output_type": "execute_result"
    }
   ],
   "source": [
    "# convex if not delta_b_negative\n",
    "def deltaByExp_(asset, s, v, b, w, j, e, Delta, a, min):\n",
    "  f = deltaBySpot[asset].subs(s, spotByExp[asset])\n",
    "  if simp:\n",
    "    f = simplify(f)\n",
    "  return f\n",
    "\n",
    "deltaByExp = {asset: deltaByExp_(asset, *all_symbols[asset]) for asset in assets}\n",
    "deltaByExp['b']"
   ]
  },
  {
   "cell_type": "code",
   "execution_count": 7,
   "metadata": {},
   "outputs": [
    {
     "data": {
      "text/latex": [
       "$\\displaystyle \\frac{a_{s} \\left(1 + \\frac{1}{j_{s}}\\right)^{e_{s}} - w_{s} \\left(b_{s} + v_{s}\\right)}{w_{s}}$"
      ],
      "text/plain": [
       "(a_s*(1 + 1/j_s)**e_s - w_s*(b_s + v_s))/w_s"
      ]
     },
     "execution_count": 7,
     "metadata": {},
     "output_type": "execute_result"
    }
   ],
   "source": [
    "deltaByExp['s']"
   ]
  },
  {
   "cell_type": "markdown",
   "metadata": {},
   "source": [
    "## Target function\n",
    "\n",
    "we want to minimize the effective price, given a set of exponents for the buying and selling asset each."
   ]
  },
  {
   "cell_type": "code",
   "execution_count": 8,
   "metadata": {},
   "outputs": [
    {
     "data": {
      "text/latex": [
       "$\\displaystyle \\frac{\\Delta_{s}}{\\Delta_{b}}$"
      ],
      "text/plain": [
       "Delta_s/Delta_b"
      ]
     },
     "execution_count": 8,
     "metadata": {},
     "output_type": "execute_result"
    }
   ],
   "source": [
    "if delta_b_negative:\n",
    "  eff = Delta_s / -Delta_b\n",
    "else:\n",
    "  eff = Delta_s / Delta_b\n",
    "eff"
   ]
  },
  {
   "cell_type": "code",
   "execution_count": 9,
   "metadata": {},
   "outputs": [
    {
     "data": {
      "text/latex": [
       "$\\displaystyle \\frac{w_{b} \\left(a_{s} \\left(1 + \\frac{1}{j_{s}}\\right)^{e_{s}} - w_{s} \\left(b_{s} + v_{s}\\right)\\right)}{w_{s} \\left(a_{b} \\left(1 + \\frac{1}{j_{b}}\\right)^{e_{b}} - w_{b} \\left(b_{b} + v_{b}\\right)\\right)}$"
      ],
      "text/plain": [
       "w_b*(a_s*(1 + 1/j_s)**e_s - w_s*(b_s + v_s))/(w_s*(a_b*(1 + 1/j_b)**e_b - w_b*(b_b + v_b)))"
      ]
     },
     "execution_count": 9,
     "metadata": {},
     "output_type": "execute_result"
    }
   ],
   "source": [
    "effByExps = eff.subs(Delta_s, deltaByExp['s']).subs(Delta_b, deltaByExp['b'])\n",
    "if simp:\n",
    "  effByExps = simplify(effByExps)\n",
    "effByExps"
   ]
  },
  {
   "cell_type": "code",
   "execution_count": 10,
   "metadata": {},
   "outputs": [
    {
     "data": {
      "text/latex": [
       "$\\displaystyle \\left[\\begin{matrix}\\frac{2 a_{b}^{2} w_{b} \\left(1 + \\frac{1}{j_{b}}\\right)^{2 e_{b}} \\left(a_{s} \\left(1 + \\frac{1}{j_{s}}\\right)^{e_{s}} - w_{s} \\left(b_{s} + v_{s}\\right)\\right) \\log{\\left(1 + \\frac{1}{j_{b}} \\right)}^{2}}{w_{s} \\left(a_{b} \\left(1 + \\frac{1}{j_{b}}\\right)^{e_{b}} - w_{b} \\left(b_{b} + v_{b}\\right)\\right)^{3}} - \\frac{a_{b} w_{b} \\left(1 + \\frac{1}{j_{b}}\\right)^{e_{b}} \\left(a_{s} \\left(1 + \\frac{1}{j_{s}}\\right)^{e_{s}} - w_{s} \\left(b_{s} + v_{s}\\right)\\right) \\log{\\left(1 + \\frac{1}{j_{b}} \\right)}^{2}}{w_{s} \\left(a_{b} \\left(1 + \\frac{1}{j_{b}}\\right)^{e_{b}} - w_{b} \\left(b_{b} + v_{b}\\right)\\right)^{2}} & - \\frac{a_{b} a_{s} w_{b} \\left(1 + \\frac{1}{j_{b}}\\right)^{e_{b}} \\left(1 + \\frac{1}{j_{s}}\\right)^{e_{s}} \\log{\\left(1 + \\frac{1}{j_{b}} \\right)} \\log{\\left(1 + \\frac{1}{j_{s}} \\right)}}{w_{s} \\left(a_{b} \\left(1 + \\frac{1}{j_{b}}\\right)^{e_{b}} - w_{b} \\left(b_{b} + v_{b}\\right)\\right)^{2}}\\\\- \\frac{a_{b} a_{s} w_{b} \\left(1 + \\frac{1}{j_{b}}\\right)^{e_{b}} \\left(1 + \\frac{1}{j_{s}}\\right)^{e_{s}} \\log{\\left(1 + \\frac{1}{j_{b}} \\right)} \\log{\\left(1 + \\frac{1}{j_{s}} \\right)}}{w_{s} \\left(a_{b} \\left(1 + \\frac{1}{j_{b}}\\right)^{e_{b}} - w_{b} \\left(b_{b} + v_{b}\\right)\\right)^{2}} & \\frac{a_{s} w_{b} \\left(1 + \\frac{1}{j_{s}}\\right)^{e_{s}} \\log{\\left(1 + \\frac{1}{j_{s}} \\right)}^{2}}{w_{s} \\left(a_{b} \\left(1 + \\frac{1}{j_{b}}\\right)^{e_{b}} - w_{b} \\left(b_{b} + v_{b}\\right)\\right)}\\end{matrix}\\right]$"
      ],
      "text/plain": [
       "Matrix([\n",
       "[2*a_b**2*w_b*(1 + 1/j_b)**(2*e_b)*(a_s*(1 + 1/j_s)**e_s - w_s*(b_s + v_s))*log(1 + 1/j_b)**2/(w_s*(a_b*(1 + 1/j_b)**e_b - w_b*(b_b + v_b))**3) - a_b*w_b*(1 + 1/j_b)**e_b*(a_s*(1 + 1/j_s)**e_s - w_s*(b_s + v_s))*log(1 + 1/j_b)**2/(w_s*(a_b*(1 + 1/j_b)**e_b - w_b*(b_b + v_b))**2), -a_b*a_s*w_b*(1 + 1/j_b)**e_b*(1 + 1/j_s)**e_s*log(1 + 1/j_b)*log(1 + 1/j_s)/(w_s*(a_b*(1 + 1/j_b)**e_b - w_b*(b_b + v_b))**2)],\n",
       "[                                                                                                                                                        -a_b*a_s*w_b*(1 + 1/j_b)**e_b*(1 + 1/j_s)**e_s*log(1 + 1/j_b)*log(1 + 1/j_s)/(w_s*(a_b*(1 + 1/j_b)**e_b - w_b*(b_b + v_b))**2),                                      a_s*w_b*(1 + 1/j_s)**e_s*log(1 + 1/j_s)**2/(w_s*(a_b*(1 + 1/j_b)**e_b - w_b*(b_b + v_b)))]])"
      ]
     },
     "execution_count": 10,
     "metadata": {},
     "output_type": "execute_result"
    }
   ],
   "source": [
    "H = hessian(effByExps, [e_b, e_s])\n",
    "H"
   ]
  },
  {
   "cell_type": "code",
   "execution_count": 11,
   "metadata": {},
   "outputs": [
    {
     "data": {
      "text/latex": [
       "$\\displaystyle \\frac{2 a_{b}^{2} w_{b} \\left(1 + \\frac{1}{j_{b}}\\right)^{2 e_{b}} \\left(a_{s} \\left(1 + \\frac{1}{j_{s}}\\right)^{e_{s}} - w_{s} \\left(b_{s} + v_{s}\\right)\\right) \\log{\\left(1 + \\frac{1}{j_{b}} \\right)}^{2}}{w_{s} \\left(a_{b} \\left(1 + \\frac{1}{j_{b}}\\right)^{e_{b}} - w_{b} \\left(b_{b} + v_{b}\\right)\\right)^{3}} - \\frac{a_{b} w_{b} \\left(1 + \\frac{1}{j_{b}}\\right)^{e_{b}} \\left(a_{s} \\left(1 + \\frac{1}{j_{s}}\\right)^{e_{s}} - w_{s} \\left(b_{s} + v_{s}\\right)\\right) \\log{\\left(1 + \\frac{1}{j_{b}} \\right)}^{2}}{w_{s} \\left(a_{b} \\left(1 + \\frac{1}{j_{b}}\\right)^{e_{b}} - w_{b} \\left(b_{b} + v_{b}\\right)\\right)^{2}}$"
      ],
      "text/plain": [
       "2*a_b**2*w_b*(1 + 1/j_b)**(2*e_b)*(a_s*(1 + 1/j_s)**e_s - w_s*(b_s + v_s))*log(1 + 1/j_b)**2/(w_s*(a_b*(1 + 1/j_b)**e_b - w_b*(b_b + v_b))**3) - a_b*w_b*(1 + 1/j_b)**e_b*(a_s*(1 + 1/j_s)**e_s - w_s*(b_s + v_s))*log(1 + 1/j_b)**2/(w_s*(a_b*(1 + 1/j_b)**e_b - w_b*(b_b + v_b))**2)"
      ]
     },
     "execution_count": 11,
     "metadata": {},
     "output_type": "execute_result"
    }
   ],
   "source": [
    "H[0,0]"
   ]
  },
  {
   "cell_type": "code",
   "execution_count": null,
   "metadata": {},
   "outputs": [],
   "source": []
  },
  {
   "cell_type": "code",
   "execution_count": null,
   "metadata": {},
   "outputs": [],
   "source": []
  },
  {
   "cell_type": "code",
   "execution_count": null,
   "metadata": {},
   "outputs": [],
   "source": []
  },
  {
   "cell_type": "code",
   "execution_count": null,
   "metadata": {},
   "outputs": [],
   "source": []
  },
  {
   "cell_type": "code",
   "execution_count": null,
   "metadata": {},
   "outputs": [],
   "source": []
  },
  {
   "cell_type": "code",
   "execution_count": null,
   "metadata": {},
   "outputs": [],
   "source": []
  },
  {
   "cell_type": "code",
   "execution_count": null,
   "metadata": {},
   "outputs": [],
   "source": []
  },
  {
   "cell_type": "markdown",
   "metadata": {},
   "source": [
    "## Inequality-constraints\n",
    "\n",
    "- value in A0 of buying must not exceed that of selling\n",
    "- the exponents must adhere to their upper (buying) resp. lower (selling) bounds given by our equation\n",
    "- need to buy and sell minimum amounts\n",
    "- cannot buy more than the available balance\n",
    "- cannot sell more than maxSelling\n",
    "- the spot prices must not exceed maxInteger\n",
    "- bonus: the total number of multiplications for both exponentiations must not exceed expLimit (TODO)\n",
    "\n",
    "### value cannot decrease"
   ]
  },
  {
   "cell_type": "code",
   "execution_count": 12,
   "metadata": {},
   "outputs": [
    {
     "data": {
      "text/latex": [
       "$\\displaystyle \\frac{a_{s} \\left(1 + \\frac{1}{j_{s}}\\right)^{e_{s}} \\left(a_{b} \\left(1 + \\frac{1}{j_{b}}\\right)^{e_{b}} - w_{b} \\left(b_{b} + v_{b}\\right)\\right)}{w_{b}}$"
      ],
      "text/plain": [
       "a_s*(1 + 1/j_s)**e_s*(a_b*(1 + 1/j_b)**e_b - w_b*(b_b + v_b))/w_b"
      ]
     },
     "execution_count": 12,
     "metadata": {},
     "output_type": "execute_result"
    }
   ],
   "source": [
    "a0Buying = spotByExp['s'] * deltaByExp['b'] # < 0 if delta_b_negative, > 0 otherwise\n",
    "if delta_b_negative:\n",
    "    a0Buying = -a0Buying # > 0\n",
    "if simp:\n",
    "  a0Buying = simplify(a0Buying)\n",
    "a0Buying"
   ]
  },
  {
   "cell_type": "code",
   "execution_count": 13,
   "metadata": {},
   "outputs": [
    {
     "data": {
      "text/latex": [
       "$\\displaystyle \\frac{a_{b} \\left(1 + \\frac{1}{j_{b}}\\right)^{e_{b}} \\left(a_{s} \\left(1 + \\frac{1}{j_{s}}\\right)^{e_{s}} - w_{s} \\left(b_{s} + v_{s}\\right)\\right)}{w_{s}}$"
      ],
      "text/plain": [
       "a_b*(1 + 1/j_b)**e_b*(a_s*(1 + 1/j_s)**e_s - w_s*(b_s + v_s))/w_s"
      ]
     },
     "execution_count": 13,
     "metadata": {},
     "output_type": "execute_result"
    }
   ],
   "source": [
    "a0Selling = spotByExp['b'] * deltaByExp['s'] # > 0\n",
    "if simp:\n",
    "  a0Selling = simplify(a0Selling)\n",
    "a0Selling"
   ]
  },
  {
   "cell_type": "code",
   "execution_count": 14,
   "metadata": {},
   "outputs": [
    {
     "data": {
      "text/latex": [
       "$\\displaystyle - \\frac{a_{b} \\left(1 + \\frac{1}{j_{b}}\\right)^{e_{b}} \\left(a_{s} \\left(1 + \\frac{1}{j_{s}}\\right)^{e_{s}} - w_{s} \\left(b_{s} + v_{s}\\right)\\right)}{w_{s}} + \\frac{a_{s} \\left(1 + \\frac{1}{j_{s}}\\right)^{e_{s}} \\left(a_{b} \\left(1 + \\frac{1}{j_{b}}\\right)^{e_{b}} - w_{b} \\left(b_{b} + v_{b}\\right)\\right)}{w_{b}}$"
      ],
      "text/plain": [
       "-a_b*(1 + 1/j_b)**e_b*(a_s*(1 + 1/j_s)**e_s - w_s*(b_s + v_s))/w_s + a_s*(1 + 1/j_s)**e_s*(a_b*(1 + 1/j_b)**e_b - w_b*(b_b + v_b))/w_b"
      ]
     },
     "execution_count": 14,
     "metadata": {},
     "output_type": "execute_result"
    }
   ],
   "source": [
    "a0Bound = a0Buying - a0Selling # <=! 0\n",
    "if simp:\n",
    "  a0Bound = simplify(a0Bound)\n",
    "a0Bound"
   ]
  },
  {
   "cell_type": "markdown",
   "metadata": {},
   "source": [
    "### exponents cannot result in spot prices that are better than the amm-prices"
   ]
  },
  {
   "cell_type": "code",
   "execution_count": 15,
   "metadata": {},
   "outputs": [
    {
     "data": {
      "text/latex": [
       "$\\displaystyle e_{b} - \\frac{\\log{\\left(\\frac{w_{b} \\left(b_{b} + v_{b}\\right)}{a_{b}} \\right)}}{\\log{\\left(1 + \\frac{1}{j_{b}} \\right)}}$"
      ],
      "text/plain": [
       "e_b - log(w_b*(b_b + v_b)/a_b)/log(1 + 1/j_b)"
      ]
     },
     "execution_count": 15,
     "metadata": {},
     "output_type": "execute_result"
    }
   ],
   "source": [
    "def expBound_(asset, s, v, b, w, j, e, Delta, a, min):\n",
    "    e_bound = log(w * (v + b) /a, 1 + 1/j) # constant wrt e\n",
    "    if simp:\n",
    "        e_bound = simplify(e_bound)\n",
    "    if asset == 'b':\n",
    "        f = e - e_bound # <=! 0 (upper bound)\n",
    "    else:\n",
    "        f = e_bound - e # <=! 0 (lower bound)\n",
    "    if simp:\n",
    "        f = simplify(f)\n",
    "    return f\n",
    "\n",
    "expBound = {asset: expBound_(asset, *all_symbols[asset]) for asset in assets}\n",
    "expBound['b']"
   ]
  },
  {
   "cell_type": "code",
   "execution_count": 16,
   "metadata": {},
   "outputs": [
    {
     "data": {
      "text/latex": [
       "$\\displaystyle - e_{s} + \\frac{\\log{\\left(\\frac{w_{s} \\left(b_{s} + v_{s}\\right)}{a_{s}} \\right)}}{\\log{\\left(1 + \\frac{1}{j_{s}} \\right)}}$"
      ],
      "text/plain": [
       "-e_s + log(w_s*(b_s + v_s)/a_s)/log(1 + 1/j_s)"
      ]
     },
     "execution_count": 16,
     "metadata": {},
     "output_type": "execute_result"
    }
   ],
   "source": [
    "expBound['s']"
   ]
  },
  {
   "cell_type": "markdown",
   "metadata": {},
   "source": [
    "### spot prices cannot exceed maxInteger"
   ]
  },
  {
   "cell_type": "code",
   "execution_count": 17,
   "metadata": {},
   "outputs": [
    {
     "data": {
      "text/latex": [
       "$\\displaystyle - I_{max} + a_{b} \\left(1 + \\frac{1}{j_{b}}\\right)^{e_{b}}$"
      ],
      "text/plain": [
       "-I_max + a_b*(1 + 1/j_b)**e_b"
      ]
     },
     "execution_count": 17,
     "metadata": {},
     "output_type": "execute_result"
    }
   ],
   "source": [
    "max_s, I_max = symbols('max_s I_max', positive=True, integer=True)\n",
    "\n",
    "maxSpotBound_b = spotByExp['b'] - I_max # <=! 0\n",
    "if simp:\n",
    "  maxSpotBound_b = simplify(maxSpotBound_b)\n",
    "maxSpotBound_b"
   ]
  },
  {
   "cell_type": "code",
   "execution_count": 18,
   "metadata": {},
   "outputs": [
    {
     "data": {
      "text/latex": [
       "$\\displaystyle - I_{max} + a_{s} \\left(1 + \\frac{1}{j_{s}}\\right)^{e_{s}}$"
      ],
      "text/plain": [
       "-I_max + a_s*(1 + 1/j_s)**e_s"
      ]
     },
     "execution_count": 18,
     "metadata": {},
     "output_type": "execute_result"
    }
   ],
   "source": [
    "maxSpotBound_s = spotByExp['s'] - I_max # <=! 0\n",
    "if simp:\n",
    "  maxSpotBound_s = simplify(maxSpotBound_s)\n",
    "maxSpotBound_s"
   ]
  },
  {
   "cell_type": "markdown",
   "metadata": {},
   "source": [
    "### need to swap at least minimum amounts"
   ]
  },
  {
   "cell_type": "code",
   "execution_count": 19,
   "metadata": {},
   "outputs": [
    {
     "data": {
      "text/latex": [
       "$\\displaystyle min_{b} - \\frac{a_{b} \\left(1 + \\frac{1}{j_{b}}\\right)^{e_{b}} - w_{b} \\left(b_{b} + v_{b}\\right)}{w_{b}}$"
      ],
      "text/plain": [
       "min_b - (a_b*(1 + 1/j_b)**e_b - w_b*(b_b + v_b))/w_b"
      ]
     },
     "execution_count": 19,
     "metadata": {},
     "output_type": "execute_result"
    }
   ],
   "source": [
    "if delta_b_negative:\n",
    "  minAmntBound_b = min_b + deltaByExp['b'] # <=! 0\n",
    "else:\n",
    "  minAmntBound_b = min_b - deltaByExp['b'] # <=! 0\n",
    "if simp:\n",
    "  minAmntBound_b = simplify(minAmntBound_b)\n",
    "minAmntBound_b"
   ]
  },
  {
   "cell_type": "code",
   "execution_count": 20,
   "metadata": {},
   "outputs": [
    {
     "data": {
      "text/latex": [
       "$\\displaystyle min_{s} - \\frac{a_{s} \\left(1 + \\frac{1}{j_{s}}\\right)^{e_{s}} - w_{s} \\left(b_{s} + v_{s}\\right)}{w_{s}}$"
      ],
      "text/plain": [
       "min_s - (a_s*(1 + 1/j_s)**e_s - w_s*(b_s + v_s))/w_s"
      ]
     },
     "execution_count": 20,
     "metadata": {},
     "output_type": "execute_result"
    }
   ],
   "source": [
    "minAmntBound_s = min_s - deltaByExp['s'] # <=! 0\n",
    "if simp:\n",
    "  minAmntBound_s = simplify(minAmntBound_s)\n",
    "minAmntBound_s"
   ]
  },
  {
   "cell_type": "markdown",
   "metadata": {},
   "source": [
    "### need to swap at most maximum amounts"
   ]
  },
  {
   "cell_type": "code",
   "execution_count": 21,
   "metadata": {},
   "outputs": [
    {
     "data": {
      "text/latex": [
       "$\\displaystyle - b_{b} + \\frac{a_{b} \\left(1 + \\frac{1}{j_{b}}\\right)^{e_{b}} - w_{b} \\left(b_{b} + v_{b}\\right)}{w_{b}}$"
      ],
      "text/plain": [
       "-b_b + (a_b*(1 + 1/j_b)**e_b - w_b*(b_b + v_b))/w_b"
      ]
     },
     "execution_count": 21,
     "metadata": {},
     "output_type": "execute_result"
    }
   ],
   "source": [
    "if delta_b_negative:\n",
    "  maxAmntBound_b = -deltaByExp['b'] - b_b # <=! 0\n",
    "else:\n",
    "  maxAmntBound_b = deltaByExp['b'] - b_b # <=! 0\n",
    "if simp:\n",
    "  maxAmntBound_b = simplify(maxAmntBound_b)\n",
    "maxAmntBound_b"
   ]
  },
  {
   "cell_type": "code",
   "execution_count": 22,
   "metadata": {},
   "outputs": [
    {
     "data": {
      "text/latex": [
       "$\\displaystyle - max_{s} + \\frac{a_{s} \\left(1 + \\frac{1}{j_{s}}\\right)^{e_{s}} - w_{s} \\left(b_{s} + v_{s}\\right)}{w_{s}}$"
      ],
      "text/plain": [
       "-max_s + (a_s*(1 + 1/j_s)**e_s - w_s*(b_s + v_s))/w_s"
      ]
     },
     "execution_count": 22,
     "metadata": {},
     "output_type": "execute_result"
    }
   ],
   "source": [
    "maxAmntBound_s = deltaByExp['s'] - max_s # <=! 0\n",
    "maxAmntBound_s"
   ]
  },
  {
   "cell_type": "markdown",
   "metadata": {},
   "source": [
    "### total number of multiplications of both exponentiations cannot exceed expLimit"
   ]
  },
  {
   "cell_type": "code",
   "execution_count": 23,
   "metadata": {},
   "outputs": [
    {
     "data": {
      "text/latex": [
       "$\\displaystyle \\left\\lceil{\\frac{\\log{\\left(e_{b} \\right)}}{\\log{\\left(2 \\right)}}}\\right\\rceil$"
      ],
      "text/plain": [
       "ceiling(log(e_b)/log(2))"
      ]
     },
     "execution_count": 23,
     "metadata": {},
     "output_type": "execute_result"
    }
   ],
   "source": [
    "# expLimit, aka maximum total number of multiplications for both exponents\n",
    "m_max = symbols('m_max', positive=True, integer=True)\n",
    "\n",
    "def numMultsLower_(asset, s,v, b, w, j, e, Delta, a, min):\n",
    "  return floor(log(e, 2))\n",
    "\n",
    "# the best number of multiplications we can get by increasing e\n",
    "def bestMultsAhead_(asset, s,v, b, w, j, e, Delta, a, min):\n",
    "  return ceiling(log(e, 2))\n",
    "\n",
    "bestMultsAhead = {asset: bestMultsAhead_(asset, *all_symbols[asset]) for asset in assets}\n",
    "bestMultsAhead['b']"
   ]
  },
  {
   "cell_type": "code",
   "execution_count": 24,
   "metadata": {},
   "outputs": [
    {
     "data": {
      "text/latex": [
       "$\\displaystyle - m_{max} + \\left\\lceil{\\frac{\\log{\\left(e_{b} \\right)}}{\\log{\\left(2 \\right)}}}\\right\\rceil + \\left\\lceil{\\frac{\\log{\\left(e_{s} \\right)}}{\\log{\\left(2 \\right)}}}\\right\\rceil$"
      ],
      "text/plain": [
       "-m_max + ceiling(log(e_b)/log(2)) + ceiling(log(e_s)/log(2))"
      ]
     },
     "execution_count": 24,
     "metadata": {},
     "output_type": "execute_result"
    }
   ],
   "source": [
    "# optimistic estimate. This relies on the vague intuition that exponents will be minimal from the other constraints, so best we can do is increase them if this one is violated\n",
    "optimisticMultsBound = bestMultsAhead['b'] + bestMultsAhead['s'] - m_max # <=! 0\n",
    "if simp:\n",
    "  optimisticMultsBound = simplify(optimisticMultsBound)\n",
    "optimisticMultsBound"
   ]
  },
  {
   "cell_type": "markdown",
   "metadata": {},
   "source": [
    "## Lagrangian"
   ]
  },
  {
   "cell_type": "code",
   "execution_count": 25,
   "metadata": {},
   "outputs": [
    {
     "data": {
      "text/latex": [
       "$\\displaystyle \\lambda_{1} \\left(e_{b} - \\frac{\\log{\\left(\\frac{w_{b} \\left(b_{b} + v_{b}\\right)}{a_{b}} \\right)}}{\\log{\\left(1 + \\frac{1}{j_{b}} \\right)}}\\right) + \\lambda_{2} \\left(- e_{s} + \\frac{\\log{\\left(\\frac{w_{s} \\left(b_{s} + v_{s}\\right)}{a_{s}} \\right)}}{\\log{\\left(1 + \\frac{1}{j_{s}} \\right)}}\\right) + \\lambda_{3} \\left(- I_{max} + a_{b} \\left(1 + \\frac{1}{j_{b}}\\right)^{e_{b}}\\right) + \\lambda_{4} \\left(- I_{max} + a_{s} \\left(1 + \\frac{1}{j_{s}}\\right)^{e_{s}}\\right) + \\lambda_{5} \\left(min_{b} - \\frac{a_{b} \\left(1 + \\frac{1}{j_{b}}\\right)^{e_{b}} - w_{b} \\left(b_{b} + v_{b}\\right)}{w_{b}}\\right) + \\lambda_{6} \\left(min_{s} - \\frac{a_{s} \\left(1 + \\frac{1}{j_{s}}\\right)^{e_{s}} - w_{s} \\left(b_{s} + v_{s}\\right)}{w_{s}}\\right) + \\lambda_{7} \\left(- b_{b} + \\frac{a_{b} \\left(1 + \\frac{1}{j_{b}}\\right)^{e_{b}} - w_{b} \\left(b_{b} + v_{b}\\right)}{w_{b}}\\right) + \\lambda_{8} \\left(- max_{s} + \\frac{a_{s} \\left(1 + \\frac{1}{j_{s}}\\right)^{e_{s}} - w_{s} \\left(b_{s} + v_{s}\\right)}{w_{s}}\\right) + \\lambda_{9} \\left(- \\frac{a_{b} \\left(1 + \\frac{1}{j_{b}}\\right)^{e_{b}} \\left(a_{s} \\left(1 + \\frac{1}{j_{s}}\\right)^{e_{s}} - w_{s} \\left(b_{s} + v_{s}\\right)\\right)}{w_{s}} + \\frac{a_{s} \\left(1 + \\frac{1}{j_{s}}\\right)^{e_{s}} \\left(a_{b} \\left(1 + \\frac{1}{j_{b}}\\right)^{e_{b}} - w_{b} \\left(b_{b} + v_{b}\\right)\\right)}{w_{b}}\\right) + \\frac{w_{b} \\left(a_{s} \\left(1 + \\frac{1}{j_{s}}\\right)^{e_{s}} - w_{s} \\left(b_{s} + v_{s}\\right)\\right)}{w_{s} \\left(a_{b} \\left(1 + \\frac{1}{j_{b}}\\right)^{e_{b}} - w_{b} \\left(b_{b} + v_{b}\\right)\\right)}$"
      ],
      "text/plain": [
       "lambda_1*(e_b - log(w_b*(b_b + v_b)/a_b)/log(1 + 1/j_b)) + lambda_2*(-e_s + log(w_s*(b_s + v_s)/a_s)/log(1 + 1/j_s)) + lambda_3*(-I_max + a_b*(1 + 1/j_b)**e_b) + lambda_4*(-I_max + a_s*(1 + 1/j_s)**e_s) + lambda_5*(min_b - (a_b*(1 + 1/j_b)**e_b - w_b*(b_b + v_b))/w_b) + lambda_6*(min_s - (a_s*(1 + 1/j_s)**e_s - w_s*(b_s + v_s))/w_s) + lambda_7*(-b_b + (a_b*(1 + 1/j_b)**e_b - w_b*(b_b + v_b))/w_b) + lambda_8*(-max_s + (a_s*(1 + 1/j_s)**e_s - w_s*(b_s + v_s))/w_s) + lambda_9*(-a_b*(1 + 1/j_b)**e_b*(a_s*(1 + 1/j_s)**e_s - w_s*(b_s + v_s))/w_s + a_s*(1 + 1/j_s)**e_s*(a_b*(1 + 1/j_b)**e_b - w_b*(b_b + v_b))/w_b) + w_b*(a_s*(1 + 1/j_s)**e_s - w_s*(b_s + v_s))/(w_s*(a_b*(1 + 1/j_b)**e_b - w_b*(b_b + v_b)))"
      ]
     },
     "execution_count": 25,
     "metadata": {},
     "output_type": "execute_result"
    }
   ],
   "source": [
    "# Decision variables\n",
    "xs = [e_b, e_s]\n",
    "\n",
    "# Equality-Constraints\n",
    "hs = [] \n",
    "\n",
    "# Inequality-Constraints\n",
    "gs = [\n",
    "    expBound['b'],\n",
    "    expBound['s'],\n",
    "    maxSpotBound_b,\n",
    "    maxSpotBound_s,\n",
    "    minAmntBound_b,\n",
    "    minAmntBound_s,\n",
    "    maxAmntBound_b,\n",
    "    maxAmntBound_s,\n",
    "    a0Bound,\n",
    "    # optimisticMultsBound,\n",
    "] \n",
    "\n",
    "# Lagrange multipliers for equality- and inequality-constraints\n",
    "mus = symbols('mu_1:{}'.format(len(hs)+1))\n",
    "lambdas = symbols('lambda_1:{}'.format(len(gs)+1), nonnegative=True)\n",
    "\n",
    "# Objective function\n",
    "f = effByExps\n",
    "\n",
    "# Lagrangian\n",
    "L = f + sum([mu * h for mu, h in zip(mus, hs)]) + sum([lambda_ * g for lambda_, g in zip(lambdas, gs)])\n",
    "if simp:\n",
    "    L = simplify(L)\n",
    "L"
   ]
  },
  {
   "cell_type": "code",
   "execution_count": 26,
   "metadata": {},
   "outputs": [
    {
     "data": {
      "text/latex": [
       "$\\displaystyle a_{b} \\lambda_{3} \\left(1 + \\frac{1}{j_{b}}\\right)^{e_{b}} \\log{\\left(1 + \\frac{1}{j_{b}} \\right)} - \\frac{a_{b} \\lambda_{5} \\left(1 + \\frac{1}{j_{b}}\\right)^{e_{b}} \\log{\\left(1 + \\frac{1}{j_{b}} \\right)}}{w_{b}} + \\frac{a_{b} \\lambda_{7} \\left(1 + \\frac{1}{j_{b}}\\right)^{e_{b}} \\log{\\left(1 + \\frac{1}{j_{b}} \\right)}}{w_{b}} - \\frac{a_{b} w_{b} \\left(1 + \\frac{1}{j_{b}}\\right)^{e_{b}} \\left(a_{s} \\left(1 + \\frac{1}{j_{s}}\\right)^{e_{s}} - w_{s} \\left(b_{s} + v_{s}\\right)\\right) \\log{\\left(1 + \\frac{1}{j_{b}} \\right)}}{w_{s} \\left(a_{b} \\left(1 + \\frac{1}{j_{b}}\\right)^{e_{b}} - w_{b} \\left(b_{b} + v_{b}\\right)\\right)^{2}} + \\lambda_{1} + \\lambda_{9} \\left(\\frac{a_{b} a_{s} \\left(1 + \\frac{1}{j_{b}}\\right)^{e_{b}} \\left(1 + \\frac{1}{j_{s}}\\right)^{e_{s}} \\log{\\left(1 + \\frac{1}{j_{b}} \\right)}}{w_{b}} - \\frac{a_{b} \\left(1 + \\frac{1}{j_{b}}\\right)^{e_{b}} \\left(a_{s} \\left(1 + \\frac{1}{j_{s}}\\right)^{e_{s}} - w_{s} \\left(b_{s} + v_{s}\\right)\\right) \\log{\\left(1 + \\frac{1}{j_{b}} \\right)}}{w_{s}}\\right) = 0$"
      ],
      "text/plain": [
       "Eq(a_b*lambda_3*(1 + 1/j_b)**e_b*log(1 + 1/j_b) - a_b*lambda_5*(1 + 1/j_b)**e_b*log(1 + 1/j_b)/w_b + a_b*lambda_7*(1 + 1/j_b)**e_b*log(1 + 1/j_b)/w_b - a_b*w_b*(1 + 1/j_b)**e_b*(a_s*(1 + 1/j_s)**e_s - w_s*(b_s + v_s))*log(1 + 1/j_b)/(w_s*(a_b*(1 + 1/j_b)**e_b - w_b*(b_b + v_b))**2) + lambda_1 + lambda_9*(a_b*a_s*(1 + 1/j_b)**e_b*(1 + 1/j_s)**e_s*log(1 + 1/j_b)/w_b - a_b*(1 + 1/j_b)**e_b*(a_s*(1 + 1/j_s)**e_s - w_s*(b_s + v_s))*log(1 + 1/j_b)/w_s), 0)"
      ]
     },
     "metadata": {},
     "output_type": "display_data"
    },
    {
     "data": {
      "text/latex": [
       "$\\displaystyle a_{s} \\lambda_{4} \\left(1 + \\frac{1}{j_{s}}\\right)^{e_{s}} \\log{\\left(1 + \\frac{1}{j_{s}} \\right)} - \\frac{a_{s} \\lambda_{6} \\left(1 + \\frac{1}{j_{s}}\\right)^{e_{s}} \\log{\\left(1 + \\frac{1}{j_{s}} \\right)}}{w_{s}} + \\frac{a_{s} \\lambda_{8} \\left(1 + \\frac{1}{j_{s}}\\right)^{e_{s}} \\log{\\left(1 + \\frac{1}{j_{s}} \\right)}}{w_{s}} + \\frac{a_{s} w_{b} \\left(1 + \\frac{1}{j_{s}}\\right)^{e_{s}} \\log{\\left(1 + \\frac{1}{j_{s}} \\right)}}{w_{s} \\left(a_{b} \\left(1 + \\frac{1}{j_{b}}\\right)^{e_{b}} - w_{b} \\left(b_{b} + v_{b}\\right)\\right)} - \\lambda_{2} + \\lambda_{9} \\left(- \\frac{a_{b} a_{s} \\left(1 + \\frac{1}{j_{b}}\\right)^{e_{b}} \\left(1 + \\frac{1}{j_{s}}\\right)^{e_{s}} \\log{\\left(1 + \\frac{1}{j_{s}} \\right)}}{w_{s}} + \\frac{a_{s} \\left(1 + \\frac{1}{j_{s}}\\right)^{e_{s}} \\left(a_{b} \\left(1 + \\frac{1}{j_{b}}\\right)^{e_{b}} - w_{b} \\left(b_{b} + v_{b}\\right)\\right) \\log{\\left(1 + \\frac{1}{j_{s}} \\right)}}{w_{b}}\\right) = 0$"
      ],
      "text/plain": [
       "Eq(a_s*lambda_4*(1 + 1/j_s)**e_s*log(1 + 1/j_s) - a_s*lambda_6*(1 + 1/j_s)**e_s*log(1 + 1/j_s)/w_s + a_s*lambda_8*(1 + 1/j_s)**e_s*log(1 + 1/j_s)/w_s + a_s*w_b*(1 + 1/j_s)**e_s*log(1 + 1/j_s)/(w_s*(a_b*(1 + 1/j_b)**e_b - w_b*(b_b + v_b))) - lambda_2 + lambda_9*(-a_b*a_s*(1 + 1/j_b)**e_b*(1 + 1/j_s)**e_s*log(1 + 1/j_s)/w_s + a_s*(1 + 1/j_s)**e_s*(a_b*(1 + 1/j_b)**e_b - w_b*(b_b + v_b))*log(1 + 1/j_s)/w_b), 0)"
      ]
     },
     "metadata": {},
     "output_type": "display_data"
    }
   ],
   "source": [
    "# Equations from stationarity\n",
    "\n",
    "def custom_diff(f, n):\n",
    "    diff = f.diff(n)\n",
    "    # diff = floor(f.subs(n, n+1) - f)\n",
    "    if simp:\n",
    "        diff = simplify(diff)\n",
    "    return diff\n",
    "\n",
    "equations = []\n",
    "for x in xs:\n",
    "  dL_dx = custom_diff(L, x)\n",
    "  equation = Eq(dL_dx, 0)\n",
    "  if simp: # results in error from the bestMultsAhead-constraint\n",
    "    equation = simplify(equation)\n",
    "  display(equation)\n",
    "  equations.append(equation)"
   ]
  },
  {
   "cell_type": "code",
   "execution_count": 27,
   "metadata": {},
   "outputs": [],
   "source": [
    "# Primal feasibility conditions for equality-constraints\n",
    "for h in hs:\n",
    "    equation = Eq(h, 0)\n",
    "    if simp:\n",
    "        equation = simplify(equation)\n",
    "    display(equation)\n",
    "    equations.append(equation)"
   ]
  },
  {
   "cell_type": "code",
   "execution_count": 28,
   "metadata": {},
   "outputs": [
    {
     "data": {
      "text/latex": [
       "$\\displaystyle \\lambda_{1} \\left(e_{b} - \\frac{\\log{\\left(\\frac{w_{b} \\left(b_{b} + v_{b}\\right)}{a_{b}} \\right)}}{\\log{\\left(1 + \\frac{1}{j_{b}} \\right)}}\\right) = 0$"
      ],
      "text/plain": [
       "Eq(lambda_1*(e_b - log(w_b*(b_b + v_b)/a_b)/log(1 + 1/j_b)), 0)"
      ]
     },
     "metadata": {},
     "output_type": "display_data"
    },
    {
     "data": {
      "text/latex": [
       "$\\displaystyle \\lambda_{2} \\left(- e_{s} + \\frac{\\log{\\left(\\frac{w_{s} \\left(b_{s} + v_{s}\\right)}{a_{s}} \\right)}}{\\log{\\left(1 + \\frac{1}{j_{s}} \\right)}}\\right) = 0$"
      ],
      "text/plain": [
       "Eq(lambda_2*(-e_s + log(w_s*(b_s + v_s)/a_s)/log(1 + 1/j_s)), 0)"
      ]
     },
     "metadata": {},
     "output_type": "display_data"
    },
    {
     "data": {
      "text/latex": [
       "$\\displaystyle \\lambda_{3} \\left(- I_{max} + a_{b} \\left(1 + \\frac{1}{j_{b}}\\right)^{e_{b}}\\right) = 0$"
      ],
      "text/plain": [
       "Eq(lambda_3*(-I_max + a_b*(1 + 1/j_b)**e_b), 0)"
      ]
     },
     "metadata": {},
     "output_type": "display_data"
    },
    {
     "data": {
      "text/latex": [
       "$\\displaystyle \\lambda_{4} \\left(- I_{max} + a_{s} \\left(1 + \\frac{1}{j_{s}}\\right)^{e_{s}}\\right) = 0$"
      ],
      "text/plain": [
       "Eq(lambda_4*(-I_max + a_s*(1 + 1/j_s)**e_s), 0)"
      ]
     },
     "metadata": {},
     "output_type": "display_data"
    },
    {
     "data": {
      "text/latex": [
       "$\\displaystyle \\lambda_{5} \\left(min_{b} - \\frac{a_{b} \\left(1 + \\frac{1}{j_{b}}\\right)^{e_{b}} - w_{b} \\left(b_{b} + v_{b}\\right)}{w_{b}}\\right) = 0$"
      ],
      "text/plain": [
       "Eq(lambda_5*(min_b - (a_b*(1 + 1/j_b)**e_b - w_b*(b_b + v_b))/w_b), 0)"
      ]
     },
     "metadata": {},
     "output_type": "display_data"
    },
    {
     "data": {
      "text/latex": [
       "$\\displaystyle \\lambda_{6} \\left(min_{s} - \\frac{a_{s} \\left(1 + \\frac{1}{j_{s}}\\right)^{e_{s}} - w_{s} \\left(b_{s} + v_{s}\\right)}{w_{s}}\\right) = 0$"
      ],
      "text/plain": [
       "Eq(lambda_6*(min_s - (a_s*(1 + 1/j_s)**e_s - w_s*(b_s + v_s))/w_s), 0)"
      ]
     },
     "metadata": {},
     "output_type": "display_data"
    },
    {
     "data": {
      "text/latex": [
       "$\\displaystyle \\lambda_{7} \\left(- b_{b} + \\frac{a_{b} \\left(1 + \\frac{1}{j_{b}}\\right)^{e_{b}} - w_{b} \\left(b_{b} + v_{b}\\right)}{w_{b}}\\right) = 0$"
      ],
      "text/plain": [
       "Eq(lambda_7*(-b_b + (a_b*(1 + 1/j_b)**e_b - w_b*(b_b + v_b))/w_b), 0)"
      ]
     },
     "metadata": {},
     "output_type": "display_data"
    },
    {
     "data": {
      "text/latex": [
       "$\\displaystyle \\lambda_{8} \\left(- max_{s} + \\frac{a_{s} \\left(1 + \\frac{1}{j_{s}}\\right)^{e_{s}} - w_{s} \\left(b_{s} + v_{s}\\right)}{w_{s}}\\right) = 0$"
      ],
      "text/plain": [
       "Eq(lambda_8*(-max_s + (a_s*(1 + 1/j_s)**e_s - w_s*(b_s + v_s))/w_s), 0)"
      ]
     },
     "metadata": {},
     "output_type": "display_data"
    },
    {
     "data": {
      "text/latex": [
       "$\\displaystyle \\lambda_{9} \\left(- \\frac{a_{b} \\left(1 + \\frac{1}{j_{b}}\\right)^{e_{b}} \\left(a_{s} \\left(1 + \\frac{1}{j_{s}}\\right)^{e_{s}} - w_{s} \\left(b_{s} + v_{s}\\right)\\right)}{w_{s}} + \\frac{a_{s} \\left(1 + \\frac{1}{j_{s}}\\right)^{e_{s}} \\left(a_{b} \\left(1 + \\frac{1}{j_{b}}\\right)^{e_{b}} - w_{b} \\left(b_{b} + v_{b}\\right)\\right)}{w_{b}}\\right) = 0$"
      ],
      "text/plain": [
       "Eq(lambda_9*(-a_b*(1 + 1/j_b)**e_b*(a_s*(1 + 1/j_s)**e_s - w_s*(b_s + v_s))/w_s + a_s*(1 + 1/j_s)**e_s*(a_b*(1 + 1/j_b)**e_b - w_b*(b_b + v_b))/w_b), 0)"
      ]
     },
     "metadata": {},
     "output_type": "display_data"
    }
   ],
   "source": [
    "# Complementary slackness conditions\n",
    "for lambda_, g in zip(lambdas, gs):\n",
    "    equation = Eq(lambda_ * g, 0)\n",
    "    if simp:\n",
    "        equation = simplify(equation)\n",
    "    display(equation)\n",
    "    equations.append(equation)"
   ]
  },
  {
   "cell_type": "code",
   "execution_count": 29,
   "metadata": {},
   "outputs": [],
   "source": [
    "def verify_inequality_constraints(solution, vars, gs):\n",
    "    subs_dict = dict(zip(vars, solution))\n",
    "    for g in gs:\n",
    "        if Gt(g.subs(subs_dict), 0) == True:\n",
    "            return False\n",
    "    return True"
   ]
  },
  {
   "cell_type": "code",
   "execution_count": 30,
   "metadata": {},
   "outputs": [
    {
     "ename": "ValueError",
     "evalue": "list.remove(x): x not in list",
     "output_type": "error",
     "traceback": [
      "\u001b[0;31m---------------------------------------------------------------------------\u001b[0m",
      "\u001b[0;31mValueError\u001b[0m                                Traceback (most recent call last)",
      "\u001b[0;32m<ipython-input-30-93bdf0f87628>\u001b[0m in \u001b[0;36m<module>\u001b[0;34m\u001b[0m\n\u001b[1;32m      1\u001b[0m \u001b[0;31m# Solve\u001b[0m\u001b[0;34m\u001b[0m\u001b[0;34m\u001b[0m\u001b[0m\n\u001b[1;32m      2\u001b[0m \u001b[0mvars\u001b[0m \u001b[0;34m=\u001b[0m \u001b[0mxs\u001b[0m \u001b[0;34m+\u001b[0m \u001b[0mlist\u001b[0m\u001b[0;34m(\u001b[0m\u001b[0mmus\u001b[0m\u001b[0;34m)\u001b[0m \u001b[0;34m+\u001b[0m \u001b[0mlist\u001b[0m\u001b[0;34m(\u001b[0m\u001b[0mlambdas\u001b[0m\u001b[0;34m)\u001b[0m\u001b[0;34m\u001b[0m\u001b[0;34m\u001b[0m\u001b[0m\n\u001b[0;32m----> 3\u001b[0;31m \u001b[0msolutions\u001b[0m \u001b[0;34m=\u001b[0m \u001b[0mnonlinsolve\u001b[0m\u001b[0;34m(\u001b[0m\u001b[0mequations\u001b[0m\u001b[0;34m,\u001b[0m \u001b[0mvars\u001b[0m\u001b[0;34m)\u001b[0m\u001b[0;34m\u001b[0m\u001b[0;34m\u001b[0m\u001b[0m\n\u001b[0m\u001b[1;32m      4\u001b[0m \u001b[0mlen\u001b[0m\u001b[0;34m(\u001b[0m\u001b[0msolutions\u001b[0m\u001b[0;34m)\u001b[0m\u001b[0;34m\u001b[0m\u001b[0;34m\u001b[0m\u001b[0m\n",
      "\u001b[0;32m/usr/local/lib/python3.9/site-packages/sympy/solvers/solveset.py\u001b[0m in \u001b[0;36mnonlinsolve\u001b[0;34m(system, *symbols)\u001b[0m\n\u001b[1;32m   3863\u001b[0m         \u001b[0;31m# If solve_poly_system did succeed then we pass those solutions in as\u001b[0m\u001b[0;34m\u001b[0m\u001b[0;34m\u001b[0m\u001b[0m\n\u001b[1;32m   3864\u001b[0m         \u001b[0;31m# preliminary results.\u001b[0m\u001b[0;34m\u001b[0m\u001b[0;34m\u001b[0m\u001b[0m\n\u001b[0;32m-> 3865\u001b[0;31m         \u001b[0msubs_res\u001b[0m \u001b[0;34m=\u001b[0m \u001b[0msubstitution\u001b[0m\u001b[0;34m(\u001b[0m\u001b[0mremaining\u001b[0m\u001b[0;34m,\u001b[0m \u001b[0msymbols\u001b[0m\u001b[0;34m,\u001b[0m \u001b[0mresult\u001b[0m\u001b[0;34m=\u001b[0m\u001b[0mpoly_sol\u001b[0m\u001b[0;34m,\u001b[0m \u001b[0mexclude\u001b[0m\u001b[0;34m=\u001b[0m\u001b[0mdenominators\u001b[0m\u001b[0;34m)\u001b[0m\u001b[0;34m\u001b[0m\u001b[0;34m\u001b[0m\u001b[0m\n\u001b[0m\u001b[1;32m   3866\u001b[0m \u001b[0;34m\u001b[0m\u001b[0m\n\u001b[1;32m   3867\u001b[0m         \u001b[0;32mif\u001b[0m \u001b[0;32mnot\u001b[0m \u001b[0misinstance\u001b[0m\u001b[0;34m(\u001b[0m\u001b[0msubs_res\u001b[0m\u001b[0;34m,\u001b[0m \u001b[0mFiniteSet\u001b[0m\u001b[0;34m)\u001b[0m\u001b[0;34m:\u001b[0m\u001b[0;34m\u001b[0m\u001b[0;34m\u001b[0m\u001b[0m\n",
      "\u001b[0;32m/usr/local/lib/python3.9/site-packages/sympy/solvers/solveset.py\u001b[0m in \u001b[0;36msubstitution\u001b[0;34m(system, symbols, result, known_symbols, exclude, all_symbols)\u001b[0m\n\u001b[1;32m   3409\u001b[0m     \u001b[0;31m# end def _solve_using_know_values()\u001b[0m\u001b[0;34m\u001b[0m\u001b[0;34m\u001b[0m\u001b[0m\n\u001b[1;32m   3410\u001b[0m \u001b[0;34m\u001b[0m\u001b[0m\n\u001b[0;32m-> 3411\u001b[0;31m     new_result_real, solve_call1, cnd_call1 = _solve_using_known_values(\n\u001b[0m\u001b[1;32m   3412\u001b[0m         old_result, solveset_real)\n\u001b[1;32m   3413\u001b[0m     new_result_complex, solve_call2, cnd_call2 = _solve_using_known_values(\n",
      "\u001b[0;32m/usr/local/lib/python3.9/site-packages/sympy/solvers/solveset.py\u001b[0m in \u001b[0;36m_solve_using_known_values\u001b[0;34m(result, solver)\u001b[0m\n\u001b[1;32m   3399\u001b[0m                             \u001b[0;31m# deleting the `res` (a soln) since it staisfies\u001b[0m\u001b[0;34m\u001b[0m\u001b[0;34m\u001b[0m\u001b[0m\n\u001b[1;32m   3400\u001b[0m                             \u001b[0;31m# eq of `exclude` list\u001b[0m\u001b[0;34m\u001b[0m\u001b[0;34m\u001b[0m\u001b[0m\n\u001b[0;32m-> 3401\u001b[0;31m                             \u001b[0mresult\u001b[0m\u001b[0;34m.\u001b[0m\u001b[0mremove\u001b[0m\u001b[0;34m(\u001b[0m\u001b[0mres\u001b[0m\u001b[0;34m)\u001b[0m\u001b[0;34m\u001b[0m\u001b[0;34m\u001b[0m\u001b[0m\n\u001b[0m\u001b[1;32m   3402\u001b[0m                     \u001b[0;31m# solution got for sym\u001b[0m\u001b[0;34m\u001b[0m\u001b[0;34m\u001b[0m\u001b[0m\n\u001b[1;32m   3403\u001b[0m                     \u001b[0;32mif\u001b[0m \u001b[0;32mnot\u001b[0m \u001b[0mnot_solvable\u001b[0m\u001b[0;34m:\u001b[0m\u001b[0;34m\u001b[0m\u001b[0;34m\u001b[0m\u001b[0m\n",
      "\u001b[0;31mValueError\u001b[0m: list.remove(x): x not in list"
     ]
    }
   ],
   "source": [
    "# Solve\n",
    "vars = xs + list(mus) + list(lambdas)\n",
    "solutions = nonlinsolve(equations, vars)\n",
    "len(solutions)"
   ]
  },
  {
   "cell_type": "code",
   "execution_count": null,
   "metadata": {},
   "outputs": [],
   "source": [
    "solutions_ = [solution for solution in solutions if verify_inequality_constraints(solution, vars, gs)]\n",
    "len(solutions_)"
   ]
  },
  {
   "cell_type": "code",
   "execution_count": null,
   "metadata": {},
   "outputs": [],
   "source": [
    "for solution in solutions_:\n",
    "    for var, expression in zip(vars, solution):\n",
    "        display(Eq(var, expression))"
   ]
  },
  {
   "cell_type": "code",
   "execution_count": null,
   "metadata": {},
   "outputs": [],
   "source": []
  },
  {
   "cell_type": "code",
   "execution_count": null,
   "metadata": {},
   "outputs": [],
   "source": []
  },
  {
   "cell_type": "code",
   "execution_count": null,
   "metadata": {},
   "outputs": [],
   "source": []
  },
  {
   "cell_type": "code",
   "execution_count": null,
   "metadata": {},
   "outputs": [],
   "source": []
  }
 ],
 "metadata": {
  "kernelspec": {
   "display_name": "Python 3",
   "language": "python",
   "name": "python3"
  },
  "language_info": {
   "codemirror_mode": {
    "name": "ipython",
    "version": 3
   },
   "file_extension": ".py",
   "mimetype": "text/x-python",
   "name": "python",
   "nbconvert_exporter": "python",
   "pygments_lexer": "ipython3",
   "version": "3.9.16"
  }
 },
 "nbformat": 4,
 "nbformat_minor": 2
}
