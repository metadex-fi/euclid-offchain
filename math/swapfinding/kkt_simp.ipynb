{
 "cells": [
  {
   "cell_type": "code",
   "execution_count": 1,
   "metadata": {},
   "outputs": [],
   "source": [
    "from sympy import symbols, simplify, hessian, solveset, S, solve, log, And, Le, Ge, Eq, Lt, Gt"
   ]
  },
  {
   "cell_type": "code",
   "execution_count": 2,
   "metadata": {},
   "outputs": [
    {
     "data": {
      "text/plain": [
       "{'b': dict_values([s_b, v_b, b_b, w_b, j_b, e_b, Delta_b, a_b, min_b]),\n",
       " 's': dict_values([s_s, v_s, b_s, w_s, j_s, e_s, Delta_s, a_s, min_s])}"
      ]
     },
     "execution_count": 2,
     "metadata": {},
     "output_type": "execute_result"
    }
   ],
   "source": [
    "assets = ['b', 's']  # buying and selling assets\n",
    "base_symbols = ['s', 'v', 'b', 'w', 'j', 'e', 'Delta', 'a', 'min'] \n",
    "# spot price, virtual liquidity, balance, weight, jump size, exponent, delta, anchor price, amm-price, jump-multiplier\n",
    "\n",
    "all_symbols = {}\n",
    "\n",
    "for asset in assets:\n",
    "    temp_dict = {}\n",
    "    for base in base_symbols:\n",
    "        var_name = f\"{base}_{asset}\"\n",
    "        if base == 'e' or base == 'Delta':\n",
    "            symbol_obj = symbols(var_name, integer=True)\n",
    "        elif base == 'b':\n",
    "            symbol_obj = symbols(var_name, nonnegative=True, integer=True)\n",
    "        else:\n",
    "            symbol_obj = symbols(var_name, positive=True, integer=True)\n",
    "        temp_dict[var_name] = symbol_obj\n",
    "        # Define the variable in the global namespace\n",
    "        globals()[var_name] = symbol_obj\n",
    "    all_symbols[asset] = temp_dict.values()\n",
    "all_symbols"
   ]
  },
  {
   "cell_type": "code",
   "execution_count": 3,
   "metadata": {},
   "outputs": [],
   "source": [
    "simp = True"
   ]
  },
  {
   "cell_type": "markdown",
   "metadata": {},
   "source": [
    "## Target function\n",
    "\n",
    "we want to minimize the effective price, given a set of exponents for the buying and selling asset each."
   ]
  },
  {
   "cell_type": "code",
   "execution_count": 4,
   "metadata": {},
   "outputs": [
    {
     "data": {
      "text/latex": [
       "$\\displaystyle b_{b} - \\frac{s_{b}}{w_{b}} + v_{b}$"
      ],
      "text/plain": [
       "b_b - s_b/w_b + v_b"
      ]
     },
     "execution_count": 4,
     "metadata": {},
     "output_type": "execute_result"
    }
   ],
   "source": [
    "def deltaBySpot_(asset, s,v, b, w, j, e, Delta, a, min):\n",
    "  f = (s - (v + b) * w) / w\n",
    "  if asset == 'b':\n",
    "    f = -f\n",
    "  if simp:\n",
    "    f = simplify(f)\n",
    "  return f\n",
    "\n",
    "deltaBySpot = {asset: deltaBySpot_(asset, *all_symbols[asset]) for asset in assets}\n",
    "deltaBySpot['b']"
   ]
  },
  {
   "cell_type": "code",
   "execution_count": 5,
   "metadata": {},
   "outputs": [
    {
     "data": {
      "text/latex": [
       "$\\displaystyle - b_{s} + \\frac{s_{s}}{w_{s}} - v_{s}$"
      ],
      "text/plain": [
       "-b_s + s_s/w_s - v_s"
      ]
     },
     "execution_count": 5,
     "metadata": {},
     "output_type": "execute_result"
    }
   ],
   "source": [
    "deltaBySpot['s']"
   ]
  },
  {
   "cell_type": "code",
   "execution_count": 6,
   "metadata": {},
   "outputs": [
    {
     "data": {
      "text/latex": [
       "$\\displaystyle a_{b} \\left(\\frac{j_{b} + 1}{j_{b}}\\right)^{e_{b}}$"
      ],
      "text/plain": [
       "a_b*((j_b + 1)/j_b)**e_b"
      ]
     },
     "execution_count": 6,
     "metadata": {},
     "output_type": "execute_result"
    }
   ],
   "source": [
    "def spotByExp_(s, v, b, w, j, e, Delta, a, min):\n",
    "  f = a * ((1 + 1/j) ** e)\n",
    "  if simp:\n",
    "    f = simplify(f)\n",
    "  return f\n",
    "spotByExp = {asset: spotByExp_(*all_symbols[asset]) for asset in assets}\n",
    "spotByExp['b']"
   ]
  },
  {
   "cell_type": "code",
   "execution_count": 7,
   "metadata": {},
   "outputs": [
    {
     "data": {
      "text/latex": [
       "$\\displaystyle - \\frac{a_{b} j_{b}^{- e_{b}} \\left(j_{b} + 1\\right)^{e_{b}}}{w_{b}} + b_{b} + v_{b}$"
      ],
      "text/plain": [
       "-a_b*j_b**(-e_b)*(j_b + 1)**e_b/w_b + b_b + v_b"
      ]
     },
     "execution_count": 7,
     "metadata": {},
     "output_type": "execute_result"
    }
   ],
   "source": [
    "def deltaByExp_(asset, s, v, b, w, j, e, Delta, a, min):\n",
    "    f = deltaBySpot[asset].subs(s, spotByExp[asset])\n",
    "    if simp:\n",
    "        f = simplify(f)\n",
    "    return f\n",
    "\n",
    "deltaByExp = {asset: deltaByExp_(asset, *all_symbols[asset]) for asset in assets}\n",
    "deltaByExp['b']"
   ]
  },
  {
   "cell_type": "code",
   "execution_count": 8,
   "metadata": {},
   "outputs": [
    {
     "data": {
      "text/latex": [
       "$\\displaystyle \\frac{\\Delta_{s}}{\\Delta_{b}}$"
      ],
      "text/plain": [
       "Delta_s/Delta_b"
      ]
     },
     "execution_count": 8,
     "metadata": {},
     "output_type": "execute_result"
    }
   ],
   "source": [
    "eff = Delta_s / Delta_b\n",
    "eff"
   ]
  },
  {
   "cell_type": "code",
   "execution_count": 9,
   "metadata": {},
   "outputs": [
    {
     "data": {
      "text/latex": [
       "$\\displaystyle - \\frac{j_{b}^{e_{b}} j_{s}^{- e_{s}} w_{b} \\left(a_{s} \\left(j_{s} + 1\\right)^{e_{s}} - j_{s}^{e_{s}} w_{s} \\left(b_{s} + v_{s}\\right)\\right)}{w_{s} \\left(a_{b} \\left(j_{b} + 1\\right)^{e_{b}} - j_{b}^{e_{b}} w_{b} \\left(b_{b} + v_{b}\\right)\\right)}$"
      ],
      "text/plain": [
       "-j_b**e_b*j_s**(-e_s)*w_b*(a_s*(j_s + 1)**e_s - j_s**e_s*w_s*(b_s + v_s))/(w_s*(a_b*(j_b + 1)**e_b - j_b**e_b*w_b*(b_b + v_b)))"
      ]
     },
     "execution_count": 9,
     "metadata": {},
     "output_type": "execute_result"
    }
   ],
   "source": [
    "effByExps = eff.subs({Delta_b: deltaByExp['b'], Delta_s: deltaByExp['s']})\n",
    "if simp:\n",
    "    effByExps = simplify(effByExps)\n",
    "effByExps"
   ]
  },
  {
   "cell_type": "markdown",
   "metadata": {},
   "source": [
    "### convexity of the target function\n",
    "\n",
    "- deltaBySpot is linear\n",
    "- spotByExp is convex\n",
    "- deltaByExp is a composition of the two\n",
    "\n",
    "=> deltaByExp is convex\n",
    "\n",
    "- negation flips convexity/concavity\n",
    "- deltaBuyingByExp is negative => -deltaBuyingByExp is positive\n",
    "- inversion of a positive function flips convexity/concavity => 1 / (-deltaBuyingByExp) is convex\n",
    "- multiplying two nonnegative functions with different variables, that are each convex and independent of the other's variable, results in a convex function\n",
    "\n",
    "==> effectivePrice = deltaSellingByExp / (-deltaBuyingByExp) is convex. qed\n"
   ]
  },
  {
   "cell_type": "markdown",
   "metadata": {},
   "source": []
  },
  {
   "cell_type": "markdown",
   "metadata": {},
   "source": [
    "## inequality-constraints\n",
    "\n",
    "- value in A0 of buying must not exceed that of selling\n",
    "- the exponents must adhere to their upper (buying) resp. lower (selling) bounds given by our equation\n",
    "- need to buy and sell minimum amounts (TODO)\n",
    "- cannot buy more than the available balance\n",
    "- cannot sell more than maxSelling\n",
    "- the spot prices must not exceed maxInteger\n",
    "- bonus: the total number of multiplications for both exponentiations must not exceed expLimit (TODO)"
   ]
  },
  {
   "cell_type": "code",
   "execution_count": 10,
   "metadata": {},
   "outputs": [
    {
     "data": {
      "text/latex": [
       "$\\displaystyle \\frac{a_{s} j_{b}^{- e_{b}} \\left(\\frac{j_{s} + 1}{j_{s}}\\right)^{e_{s}} \\left(- a_{b} \\left(j_{b} + 1\\right)^{e_{b}} + j_{b}^{e_{b}} w_{b} \\left(b_{b} + v_{b}\\right)\\right)}{w_{b}}$"
      ],
      "text/plain": [
       "a_s*j_b**(-e_b)*((j_s + 1)/j_s)**e_s*(-a_b*(j_b + 1)**e_b + j_b**e_b*w_b*(b_b + v_b))/w_b"
      ]
     },
     "execution_count": 10,
     "metadata": {},
     "output_type": "execute_result"
    }
   ],
   "source": [
    "a0Buying = spotByExp['s'] * deltaByExp['b']\n",
    "if simp:\n",
    "    a0Buying = simplify(a0Buying)\n",
    "a0Buying"
   ]
  },
  {
   "cell_type": "code",
   "execution_count": 11,
   "metadata": {},
   "outputs": [
    {
     "data": {
      "text/latex": [
       "$\\displaystyle \\frac{a_{b} j_{s}^{- e_{s}} \\left(\\frac{j_{b} + 1}{j_{b}}\\right)^{e_{b}} \\left(a_{s} \\left(j_{s} + 1\\right)^{e_{s}} - j_{s}^{e_{s}} w_{s} \\left(b_{s} + v_{s}\\right)\\right)}{w_{s}}$"
      ],
      "text/plain": [
       "a_b*j_s**(-e_s)*((j_b + 1)/j_b)**e_b*(a_s*(j_s + 1)**e_s - j_s**e_s*w_s*(b_s + v_s))/w_s"
      ]
     },
     "execution_count": 11,
     "metadata": {},
     "output_type": "execute_result"
    }
   ],
   "source": [
    "a0Selling = spotByExp['b'] * deltaByExp['s']\n",
    "if simp:\n",
    "    a0Selling = simplify(a0Selling)\n",
    "a0Selling"
   ]
  },
  {
   "cell_type": "code",
   "execution_count": 12,
   "metadata": {},
   "outputs": [
    {
     "data": {
      "text/latex": [
       "$\\displaystyle - \\frac{j_{b}^{- 2 e_{b}} j_{s}^{- 2 e_{s}} \\left(a_{b} j_{s}^{e_{s}} w_{b} \\left(j_{b} \\left(j_{b} + 1\\right)\\right)^{e_{b}} \\left(a_{s} \\left(j_{s} + 1\\right)^{e_{s}} - j_{s}^{e_{s}} w_{s} \\left(b_{s} + v_{s}\\right)\\right) + a_{s} j_{b}^{e_{b}} w_{s} \\left(j_{s} \\left(j_{s} + 1\\right)\\right)^{e_{s}} \\left(a_{b} \\left(j_{b} + 1\\right)^{e_{b}} - j_{b}^{e_{b}} w_{b} \\left(b_{b} + v_{b}\\right)\\right)\\right)}{w_{b} w_{s}}$"
      ],
      "text/plain": [
       "-j_b**(-2*e_b)*j_s**(-2*e_s)*(a_b*j_s**e_s*w_b*(j_b*(j_b + 1))**e_b*(a_s*(j_s + 1)**e_s - j_s**e_s*w_s*(b_s + v_s)) + a_s*j_b**e_b*w_s*(j_s*(j_s + 1))**e_s*(a_b*(j_b + 1)**e_b - j_b**e_b*w_b*(b_b + v_b)))/(w_b*w_s)"
      ]
     },
     "execution_count": 12,
     "metadata": {},
     "output_type": "execute_result"
    }
   ],
   "source": [
    "a0Bound = a0Buying - a0Selling # <=! 0\n",
    "if simp:\n",
    "    a0Bound = simplify(a0Bound)\n",
    "a0Bound"
   ]
  },
  {
   "cell_type": "code",
   "execution_count": 13,
   "metadata": {},
   "outputs": [
    {
     "data": {
      "text/latex": [
       "$\\displaystyle e_{b} - \\log{\\left(a_{b}^{- \\frac{1}{\\log{\\left(\\frac{j_{b} + 1}{j_{b}} \\right)}}} \\left(w_{b} \\left(b_{b} + v_{b}\\right)\\right)^{\\frac{1}{\\log{\\left(\\frac{j_{b} + 1}{j_{b}} \\right)}}} \\right)}$"
      ],
      "text/plain": [
       "e_b - log(a_b**(-1/log((j_b + 1)/j_b))*(w_b*(b_b + v_b))**(1/log((j_b + 1)/j_b)))"
      ]
     },
     "execution_count": 13,
     "metadata": {},
     "output_type": "execute_result"
    }
   ],
   "source": [
    "def expBound_(asset, s, v, b, w, j, e, Delta, a, min):\n",
    "    e_bound = log(w * (v + b) /a, 1 + 1/j) # constant wrt e\n",
    "    if simp:\n",
    "        e_bound = simplify(e_bound)\n",
    "    if asset == 'b':\n",
    "        f = e - e_bound # <=! 0 (upper bound)\n",
    "    else:\n",
    "        f = e_bound - e # <=! 0 (lower bound)\n",
    "    if simp:\n",
    "        f = simplify(f)\n",
    "    return f\n",
    "\n",
    "expBound = {asset: expBound_(asset, *all_symbols[asset]) for asset in assets}\n",
    "expBound['b']"
   ]
  },
  {
   "cell_type": "code",
   "execution_count": 14,
   "metadata": {},
   "outputs": [
    {
     "data": {
      "text/latex": [
       "$\\displaystyle - e_{s} + \\log{\\left(a_{s}^{- \\frac{1}{\\log{\\left(\\frac{j_{s} + 1}{j_{s}} \\right)}}} \\left(w_{s} \\left(b_{s} + v_{s}\\right)\\right)^{\\frac{1}{\\log{\\left(\\frac{j_{s} + 1}{j_{s}} \\right)}}} \\right)}$"
      ],
      "text/plain": [
       "-e_s + log(a_s**(-1/log((j_s + 1)/j_s))*(w_s*(b_s + v_s))**(1/log((j_s + 1)/j_s)))"
      ]
     },
     "execution_count": 14,
     "metadata": {},
     "output_type": "execute_result"
    }
   ],
   "source": [
    "expBound['s']"
   ]
  },
  {
   "cell_type": "code",
   "execution_count": 16,
   "metadata": {},
   "outputs": [
    {
     "data": {
      "text/latex": [
       "$\\displaystyle - I_{max} + a_{b} \\left(\\frac{j_{b} + 1}{j_{b}}\\right)^{e_{b}}$"
      ],
      "text/plain": [
       "-I_max + a_b*((j_b + 1)/j_b)**e_b"
      ]
     },
     "execution_count": 16,
     "metadata": {},
     "output_type": "execute_result"
    }
   ],
   "source": [
    "max_s, I_max = symbols('max_s I_max', positive=True, integer=True)\n",
    "\n",
    "def maxSpotBound_(asset, s, v, b, w, j, e, Delta, a, min):\n",
    "  return spotByExp[asset] - I_max # <=! 0\n",
    "\n",
    "maxSpotBound = {asset: maxSpotBound_(asset, *all_symbols[asset]) for asset in assets}\n",
    "maxSpotBound['b']"
   ]
  },
  {
   "cell_type": "code",
   "execution_count": 17,
   "metadata": {},
   "outputs": [
    {
     "data": {
      "text/latex": [
       "$\\displaystyle \\frac{a_{b} j_{b}^{- e_{b}} \\left(j_{b} + 1\\right)^{e_{b}}}{w_{b}} - b_{b} + min_{b} - v_{b}$"
      ],
      "text/plain": [
       "a_b*j_b**(-e_b)*(j_b + 1)**e_b/w_b - b_b + min_b - v_b"
      ]
     },
     "execution_count": 17,
     "metadata": {},
     "output_type": "execute_result"
    }
   ],
   "source": [
    "def minAmntBound_(asset, s, v, b, w, j, e, Delta, a, min):\n",
    "    f = min - Delta # <=! 0\n",
    "    f = f.subs(Delta, deltaByExp[asset])\n",
    "    if simp:\n",
    "        f = simplify(f)\n",
    "    return f\n",
    "\n",
    "minAmntBound = {asset: minAmntBound_(asset, *all_symbols[asset]) for asset in assets}\n",
    "minAmntBound['b']"
   ]
  },
  {
   "cell_type": "code",
   "execution_count": 18,
   "metadata": {},
   "outputs": [
    {
     "data": {
      "text/latex": [
       "$\\displaystyle - \\frac{a_{s} j_{s}^{- e_{s}} \\left(j_{s} + 1\\right)^{e_{s}}}{w_{s}} + b_{s} + min_{s} + v_{s}$"
      ],
      "text/plain": [
       "-a_s*j_s**(-e_s)*(j_s + 1)**e_s/w_s + b_s + min_s + v_s"
      ]
     },
     "execution_count": 18,
     "metadata": {},
     "output_type": "execute_result"
    }
   ],
   "source": [
    "minAmntBound['s']"
   ]
  },
  {
   "cell_type": "code",
   "execution_count": 19,
   "metadata": {},
   "outputs": [
    {
     "data": {
      "text/latex": [
       "$\\displaystyle - \\frac{a_{b} j_{b}^{- e_{b}} \\left(j_{b} + 1\\right)^{e_{b}}}{w_{b}} + v_{b}$"
      ],
      "text/plain": [
       "-a_b*j_b**(-e_b)*(j_b + 1)**e_b/w_b + v_b"
      ]
     },
     "execution_count": 19,
     "metadata": {},
     "output_type": "execute_result"
    }
   ],
   "source": [
    "def maxAmntBound_(asset, s, v, b, w, j, e, Delta, a, min):\n",
    "    if asset == 'b':\n",
    "        max = b\n",
    "    else:\n",
    "        max = max_s\n",
    "    f = Delta - max # <=! 0\n",
    "    f = f.subs(Delta, deltaByExp[asset])\n",
    "    if simp:\n",
    "        f = simplify(f)\n",
    "    return f\n",
    "\n",
    "maxAmntBound = {asset: maxAmntBound_(asset, *all_symbols[asset]) for asset in assets}\n",
    "maxAmntBound['b']"
   ]
  },
  {
   "cell_type": "code",
   "execution_count": 20,
   "metadata": {},
   "outputs": [
    {
     "data": {
      "text/latex": [
       "$\\displaystyle \\frac{a_{s} j_{s}^{- e_{s}} \\left(j_{s} + 1\\right)^{e_{s}}}{w_{s}} - b_{s} - max_{s} - v_{s}$"
      ],
      "text/plain": [
       "a_s*j_s**(-e_s)*(j_s + 1)**e_s/w_s - b_s - max_s - v_s"
      ]
     },
     "execution_count": 20,
     "metadata": {},
     "output_type": "execute_result"
    }
   ],
   "source": [
    "maxAmntBound['s']"
   ]
  },
  {
   "cell_type": "markdown",
   "metadata": {},
   "source": [
    "## Lagrangian"
   ]
  },
  {
   "cell_type": "code",
   "execution_count": 21,
   "metadata": {},
   "outputs": [
    {
     "data": {
      "text/latex": [
       "$\\displaystyle \\frac{j_{b}^{- 2 e_{b}} j_{s}^{- 2 e_{s}} \\left(j_{b}^{3 e_{b}} j_{s}^{e_{s}} w_{b}^{2} \\left(- a_{s} \\left(j_{s} + 1\\right)^{e_{s}} + j_{s}^{e_{s}} w_{s} \\left(b_{s} + v_{s}\\right)\\right) + j_{b}^{2 e_{b}} j_{s}^{2 e_{s}} w_{b} w_{s} \\left(a_{b} \\left(j_{b} + 1\\right)^{e_{b}} - j_{b}^{e_{b}} w_{b} \\left(b_{b} + v_{b}\\right)\\right) \\left(\\lambda_{2} \\left(e_{b} - \\log{\\left(a_{b}^{- \\frac{1}{\\log{\\left(\\frac{j_{b} + 1}{j_{b}} \\right)}}} \\left(w_{b} \\left(b_{b} + v_{b}\\right)\\right)^{\\frac{1}{\\log{\\left(\\frac{j_{b} + 1}{j_{b}} \\right)}}} \\right)}\\right) - \\lambda_{3} \\left(e_{s} - \\log{\\left(a_{s}^{- \\frac{1}{\\log{\\left(\\frac{j_{s} + 1}{j_{s}} \\right)}}} \\left(w_{s} \\left(b_{s} + v_{s}\\right)\\right)^{\\frac{1}{\\log{\\left(\\frac{j_{s} + 1}{j_{s}} \\right)}}} \\right)}\\right)\\right) - j_{b}^{2 e_{b}} j_{s}^{e_{s}} \\lambda_{5} w_{b} w_{s} \\left(I_{max} j_{s}^{e_{s}} - a_{s} \\left(j_{s} + 1\\right)^{e_{s}}\\right) \\left(a_{b} \\left(j_{b} + 1\\right)^{e_{b}} - j_{b}^{e_{b}} w_{b} \\left(b_{b} + v_{b}\\right)\\right) + j_{b}^{2 e_{b}} j_{s}^{e_{s}} w_{b} \\left(a_{b} \\left(j_{b} + 1\\right)^{e_{b}} - j_{b}^{e_{b}} w_{b} \\left(b_{b} + v_{b}\\right)\\right) \\left(\\lambda_{7} \\left(- a_{s} \\left(j_{s} + 1\\right)^{e_{s}} + j_{s}^{e_{s}} w_{s} \\left(b_{s} + min_{s} + v_{s}\\right)\\right) - \\lambda_{9} \\left(- a_{s} \\left(j_{s} + 1\\right)^{e_{s}} + j_{s}^{e_{s}} w_{s} \\left(b_{s} + max_{s} + v_{s}\\right)\\right)\\right) - j_{b}^{e_{b}} j_{s}^{2 e_{s}} \\lambda_{4} w_{b} w_{s} \\left(I_{max} j_{b}^{e_{b}} - a_{b} \\left(j_{b} + 1\\right)^{e_{b}}\\right) \\left(a_{b} \\left(j_{b} + 1\\right)^{e_{b}} - j_{b}^{e_{b}} w_{b} \\left(b_{b} + v_{b}\\right)\\right) + j_{b}^{e_{b}} j_{s}^{2 e_{s}} w_{s} \\left(a_{b} \\left(j_{b} + 1\\right)^{e_{b}} - j_{b}^{e_{b}} w_{b} \\left(b_{b} + v_{b}\\right)\\right) \\left(\\lambda_{6} \\left(a_{b} \\left(j_{b} + 1\\right)^{e_{b}} + j_{b}^{e_{b}} w_{b} \\left(- b_{b} + min_{b} - v_{b}\\right)\\right) - \\lambda_{8} \\left(a_{b} \\left(j_{b} + 1\\right)^{e_{b}} - j_{b}^{e_{b}} v_{b} w_{b}\\right)\\right) - \\lambda_{1} \\left(a_{b} \\left(j_{b} + 1\\right)^{e_{b}} - j_{b}^{e_{b}} w_{b} \\left(b_{b} + v_{b}\\right)\\right) \\left(a_{b} j_{s}^{e_{s}} w_{b} \\left(j_{b} \\left(j_{b} + 1\\right)\\right)^{e_{b}} \\left(a_{s} \\left(j_{s} + 1\\right)^{e_{s}} - j_{s}^{e_{s}} w_{s} \\left(b_{s} + v_{s}\\right)\\right) + a_{s} j_{b}^{e_{b}} w_{s} \\left(j_{s} \\left(j_{s} + 1\\right)\\right)^{e_{s}} \\left(a_{b} \\left(j_{b} + 1\\right)^{e_{b}} - j_{b}^{e_{b}} w_{b} \\left(b_{b} + v_{b}\\right)\\right)\\right)\\right)}{w_{b} w_{s} \\left(a_{b} \\left(j_{b} + 1\\right)^{e_{b}} - j_{b}^{e_{b}} w_{b} \\left(b_{b} + v_{b}\\right)\\right)}$"
      ],
      "text/plain": [
       "j_b**(-2*e_b)*j_s**(-2*e_s)*(j_b**(3*e_b)*j_s**e_s*w_b**2*(-a_s*(j_s + 1)**e_s + j_s**e_s*w_s*(b_s + v_s)) + j_b**(2*e_b)*j_s**(2*e_s)*w_b*w_s*(a_b*(j_b + 1)**e_b - j_b**e_b*w_b*(b_b + v_b))*(lambda_2*(e_b - log(a_b**(-1/log((j_b + 1)/j_b))*(w_b*(b_b + v_b))**(1/log((j_b + 1)/j_b)))) - lambda_3*(e_s - log(a_s**(-1/log((j_s + 1)/j_s))*(w_s*(b_s + v_s))**(1/log((j_s + 1)/j_s))))) - j_b**(2*e_b)*j_s**e_s*lambda_5*w_b*w_s*(I_max*j_s**e_s - a_s*(j_s + 1)**e_s)*(a_b*(j_b + 1)**e_b - j_b**e_b*w_b*(b_b + v_b)) + j_b**(2*e_b)*j_s**e_s*w_b*(a_b*(j_b + 1)**e_b - j_b**e_b*w_b*(b_b + v_b))*(lambda_7*(-a_s*(j_s + 1)**e_s + j_s**e_s*w_s*(b_s + min_s + v_s)) - lambda_9*(-a_s*(j_s + 1)**e_s + j_s**e_s*w_s*(b_s + max_s + v_s))) - j_b**e_b*j_s**(2*e_s)*lambda_4*w_b*w_s*(I_max*j_b**e_b - a_b*(j_b + 1)**e_b)*(a_b*(j_b + 1)**e_b - j_b**e_b*w_b*(b_b + v_b)) + j_b**e_b*j_s**(2*e_s)*w_s*(a_b*(j_b + 1)**e_b - j_b**e_b*w_b*(b_b + v_b))*(lambda_6*(a_b*(j_b + 1)**e_b + j_b**e_b*w_b*(-b_b + min_b - v_b)) - lambda_8*(a_b*(j_b + 1)**e_b - j_b**e_b*v_b*w_b)) - lambda_1*(a_b*(j_b + 1)**e_b - j_b**e_b*w_b*(b_b + v_b))*(a_b*j_s**e_s*w_b*(j_b*(j_b + 1))**e_b*(a_s*(j_s + 1)**e_s - j_s**e_s*w_s*(b_s + v_s)) + a_s*j_b**e_b*w_s*(j_s*(j_s + 1))**e_s*(a_b*(j_b + 1)**e_b - j_b**e_b*w_b*(b_b + v_b))))/(w_b*w_s*(a_b*(j_b + 1)**e_b - j_b**e_b*w_b*(b_b + v_b)))"
      ]
     },
     "execution_count": 21,
     "metadata": {},
     "output_type": "execute_result"
    }
   ],
   "source": [
    "l1, l2, l3, l4, l5, l6, l7, l8, l9 = symbols('lambda_1 lambda_2 lambda_3 lambda_4 lambda_5 lambda_6 lambda_7 lambda_8 lambda_9', positive=True)\n",
    "\n",
    "L = effByExps + + l1 * a0Bound + l2 * expBound['b'] + l3 * expBound['s'] + l4 * maxSpotBound['b'] + l5 * maxSpotBound['s'] + l6 * minAmntBound['b'] + l7 * minAmntBound['s'] + l8 * maxAmntBound['b'] + l9 * maxAmntBound['s']\n",
    "if simp:\n",
    "    L = simplify(L)\n",
    "L"
   ]
  },
  {
   "cell_type": "code",
   "execution_count": 22,
   "metadata": {},
   "outputs": [],
   "source": [
    "# Partial derivatives\n",
    "dL_des = L.diff(e_s)\n",
    "dL_deb = L.diff(e_b)\n",
    "\n",
    "# Set them to zero\n",
    "stationary_conditions = [\n",
    "    Eq(dL_des, 0),\n",
    "    Eq(dL_deb, 0),\n",
    "]"
   ]
  },
  {
   "cell_type": "code",
   "execution_count": 23,
   "metadata": {},
   "outputs": [],
   "source": [
    "solutions_ = solve(stationary_conditions, (e_s, e_b, l1, l2, l3, l4, l5, l6, l7, l8, l9))\n",
    "\n",
    "print(len(solutions_))\n",
    "solutions = solutions_[0]\n",
    "e_s_sol, e_b_sol, l1_sol, l2_sol, l3_sol, l4_sol, l5_sol, l6_sol, l7_sol, l8_sol, l9_sol = solutions\n",
    "solutions"
   ]
  },
  {
   "cell_type": "code",
   "execution_count": null,
   "metadata": {},
   "outputs": [],
   "source": [
    "for sol in solutions:\n",
    "  print(sol.free_symbols)"
   ]
  },
  {
   "cell_type": "code",
   "execution_count": null,
   "metadata": {},
   "outputs": [],
   "source": [
    "e_s_sol"
   ]
  },
  {
   "cell_type": "code",
   "execution_count": null,
   "metadata": {},
   "outputs": [],
   "source": [
    "e_b_sol"
   ]
  },
  {
   "cell_type": "code",
   "execution_count": null,
   "metadata": {},
   "outputs": [],
   "source": [
    "l1_sol"
   ]
  },
  {
   "cell_type": "code",
   "execution_count": null,
   "metadata": {},
   "outputs": [],
   "source": [
    "l2_sol"
   ]
  },
  {
   "cell_type": "code",
   "execution_count": null,
   "metadata": {},
   "outputs": [],
   "source": [
    "l3_sol"
   ]
  },
  {
   "cell_type": "code",
   "execution_count": null,
   "metadata": {},
   "outputs": [],
   "source": [
    "l4_sol"
   ]
  },
  {
   "cell_type": "code",
   "execution_count": null,
   "metadata": {},
   "outputs": [],
   "source": [
    "l5_sol"
   ]
  },
  {
   "cell_type": "code",
   "execution_count": null,
   "metadata": {},
   "outputs": [],
   "source": [
    "l6_sol"
   ]
  },
  {
   "cell_type": "code",
   "execution_count": null,
   "metadata": {},
   "outputs": [],
   "source": [
    "l7_sol"
   ]
  },
  {
   "cell_type": "code",
   "execution_count": null,
   "metadata": {},
   "outputs": [],
   "source": [
    "l8_sol"
   ]
  },
  {
   "cell_type": "code",
   "execution_count": null,
   "metadata": {},
   "outputs": [],
   "source": [
    "l9_sol"
   ]
  },
  {
   "cell_type": "code",
   "execution_count": null,
   "metadata": {},
   "outputs": [],
   "source": []
  }
 ],
 "metadata": {
  "kernelspec": {
   "display_name": "Python 3",
   "language": "python",
   "name": "python3"
  },
  "language_info": {
   "codemirror_mode": {
    "name": "ipython",
    "version": 3
   },
   "file_extension": ".py",
   "mimetype": "text/x-python",
   "name": "python",
   "nbconvert_exporter": "python",
   "pygments_lexer": "ipython3",
   "version": "3.9.16"
  }
 },
 "nbformat": 4,
 "nbformat_minor": 2
}
