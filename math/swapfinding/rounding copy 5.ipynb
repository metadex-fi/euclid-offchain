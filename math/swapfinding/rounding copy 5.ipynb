{
 "cells": [
  {
   "cell_type": "code",
   "execution_count": 329,
   "metadata": {},
   "outputs": [],
   "source": [
    "import plotly.express as px\n",
    "import pandas as pd\n",
    "import math"
   ]
  },
  {
   "cell_type": "code",
   "execution_count": 330,
   "metadata": {},
   "outputs": [],
   "source": [
    "m_b = 120810895044353150938886048668570711901\n",
    "m_s = 100000000000000000000000000000000000000\n",
    "min_delta_b = 1647\n",
    "min_delta_s = 1\n",
    "max_delta_b = 9859\n",
    "max_delta_s = 2081\n",
    "slopes = [[\n",
    "        (1722, 2081, 1.208478513356562),\n",
    "        (1721, 2080, 1.208599651365485),\n",
    "        (1720, 2078, 1.208139534883721),\n",
    "        (1719, 2077, 1.20826061663758),\n",
    "        (1718, 2076, 1.2083818393480792),\n",
    "        (1717, 2075, 1.2085032032615026),\n",
    "        (1716, 2074, 1.2086247086247086),\n",
    "        (1715, 2072, 1.2081632653061225),\n",
    "        (1714, 2071, 1.2082847141190198),\n",
    "        (1713, 2070, 1.2084063047285465),\n",
    "        (1712, 2069, 1.2085280373831775),\n",
    "        (1711, 2068, 1.2086499123319696),\n",
    "        (1710, 2066, 1.208187134502924),\n",
    "        (1709, 2065, 1.208308952603862),\n",
    "        (1708, 2064, 1.2084309133489461),\n",
    "        (1707, 2063, 1.2085530169888694),\n",
    "        (1706, 2062, 1.208675263774912),\n",
    "        (1705, 2060, 1.2082111436950147),\n",
    "        (1704, 2059, 1.2083333333333333),\n",
    "        (1703, 2058, 1.2084556664709336),\n",
    "        (1702, 2057, 1.208578143360752),\n",
    "        (1701, 2055, 1.2081128747795415),\n",
    "],[\n",
    "        (1701, 2055, 1.2081128747795415),\n",
    "        (1686, 2037, 1.208185053380783),\n",
    "        (1672, 2020, 1.208133971291866),\n",
    "        (1657, 2002, 1.2082076041038021),\n",
    "        (1647, 1990, 1.2082574377656345),\n",
    "]]"
   ]
  },
  {
   "cell_type": "code",
   "execution_count": 331,
   "metadata": {},
   "outputs": [
    {
     "name": "stdout",
     "output_type": "stream",
     "text": [
      "delta_b == 0 for 1\n"
     ]
    }
   ],
   "source": [
    "perfect = []\n",
    "best_imperfect = []\n",
    "other_imperfect = []\n",
    "delta_b_too_low = []\n",
    "suboptimal_delta_b = []\n",
    "prev_delta_b = None\n",
    "best_imperfect_price = None\n",
    "best_imperfect_interval = []\n",
    "for delta_s in range(min_delta_s, max_delta_s + 1):\n",
    "    delta_b = math.floor(delta_s * m_s / m_b)\n",
    "    if (delta_b == 0):\n",
    "        print(\"delta_b == 0 for\", delta_s)\n",
    "        continue\n",
    "    price = delta_s / delta_b\n",
    "    if (delta_b > max_delta_b):\n",
    "        delta_b = max_delta_b\n",
    "    if (delta_b < min_delta_b):\n",
    "        delta_b_too_low.append((delta_b, delta_s, price))\n",
    "        continue\n",
    "    if (delta_b == prev_delta_b):\n",
    "        suboptimal_delta_b.append((delta_b, delta_s, price))\n",
    "        continue\n",
    "    prev_delta_b = delta_b\n",
    "    if delta_b * m_b == delta_s * m_s:\n",
    "      perfect.append((delta_b, delta_s, price))\n",
    "      best_imperfect += best_imperfect_interval\n",
    "      best_imperfect_price = None\n",
    "      best_imperfect_interval = []\n",
    "    elif (best_imperfect_price is None):\n",
    "      best_imperfect_price = price\n",
    "      best_imperfect_interval.append((delta_b, delta_s, price))\n",
    "    elif (price == best_imperfect_price):\n",
    "      best_imperfect_interval.append((delta_b, delta_s, price))\n",
    "    elif (price < best_imperfect_price):\n",
    "      best_imperfect_price = price\n",
    "      other_imperfect += best_imperfect_interval\n",
    "      best_imperfect_interval = [(delta_b, delta_s, price)]\n",
    "    else:\n",
    "      other_imperfect.append((delta_b, delta_s, price))\n",
    "    if (delta_b == max_delta_b):\n",
    "        break\n",
    "    \n",
    "best_imperfect += best_imperfect_interval"
   ]
  },
  {
   "cell_type": "code",
   "execution_count": 332,
   "metadata": {},
   "outputs": [
    {
     "data": {
      "application/vnd.plotly.v1+json": {
       "config": {
        "plotlyServerURL": "https://plot.ly"
       },
       "data": [
        {
         "customdata": [
          [
           1648
          ],
          [
           1652
          ],
          [
           1657
          ],
          [
           1662
          ],
          [
           1667
          ],
          [
           1672
          ],
          [
           1677
          ],
          [
           1681
          ],
          [
           1686
          ],
          [
           1691
          ],
          [
           1696
          ],
          [
           1701
          ],
          [
           1705
          ],
          [
           1710
          ],
          [
           1715
          ],
          [
           1720
          ]
         ],
         "hovertemplate": "Series=subopt<br>delta_s=%{x}<br>price=%{y}<br>delta_b=%{customdata[0]}<extra></extra>",
         "legendgroup": "subopt",
         "marker": {
          "color": "#636efa",
          "line": {
           "width": 0
          },
          "symbol": "circle"
         },
         "mode": "markers",
         "name": "subopt",
         "orientation": "v",
         "showlegend": true,
         "type": "scatter",
         "x": [
          1992,
          1997,
          2003,
          2009,
          2015,
          2021,
          2027,
          2032,
          2038,
          2044,
          2050,
          2056,
          2061,
          2067,
          2073,
          2079
         ],
         "xaxis": "x",
         "y": [
          1.2087378640776698,
          1.2088377723970944,
          1.2088111044055523,
          1.2087845968712394,
          1.2087582483503299,
          1.2087320574162679,
          1.208706022659511,
          1.208804283164783,
          1.2087781731909846,
          1.2087522176227083,
          1.2087264150943395,
          1.20870076425632,
          1.2087976539589442,
          1.2087719298245614,
          1.2087463556851312,
          1.208720930232558
         ],
         "yaxis": "y"
        },
        {
         "customdata": [
          [
           1647
          ],
          [
           1649
          ],
          [
           1650
          ],
          [
           1651
          ],
          [
           1652
          ],
          [
           1653
          ],
          [
           1654
          ],
          [
           1655
          ],
          [
           1656
          ],
          [
           1657
          ],
          [
           1658
          ],
          [
           1659
          ],
          [
           1660
          ],
          [
           1661
          ],
          [
           1662
          ],
          [
           1663
          ],
          [
           1664
          ],
          [
           1665
          ],
          [
           1666
          ],
          [
           1667
          ],
          [
           1668
          ],
          [
           1669
          ],
          [
           1670
          ],
          [
           1671
          ],
          [
           1672
          ],
          [
           1673
          ],
          [
           1674
          ],
          [
           1675
          ],
          [
           1676
          ],
          [
           1648
          ],
          [
           1678
          ],
          [
           1679
          ],
          [
           1680
          ],
          [
           1681
          ],
          [
           1682
          ],
          [
           1683
          ],
          [
           1684
          ],
          [
           1685
          ],
          [
           1686
          ],
          [
           1687
          ],
          [
           1688
          ],
          [
           1689
          ],
          [
           1690
          ],
          [
           1691
          ],
          [
           1692
          ],
          [
           1693
          ],
          [
           1694
          ],
          [
           1695
          ],
          [
           1696
          ],
          [
           1697
          ],
          [
           1698
          ],
          [
           1699
          ],
          [
           1700
          ],
          [
           1701
          ],
          [
           1702
          ],
          [
           1703
          ],
          [
           1704
          ],
          [
           1705
          ],
          [
           1706
          ],
          [
           1707
          ],
          [
           1708
          ],
          [
           1709
          ],
          [
           1710
          ],
          [
           1711
          ],
          [
           1712
          ],
          [
           1713
          ],
          [
           1714
          ],
          [
           1715
          ],
          [
           1716
          ],
          [
           1717
          ],
          [
           1718
          ],
          [
           1719
          ],
          [
           1720
          ],
          [
           1721
          ],
          [
           1722
          ]
         ],
         "hovertemplate": "Series=other<br>delta_s=%{x}<br>price=%{y}<br>delta_b=%{customdata[0]}<extra></extra>",
         "legendgroup": "other",
         "marker": {
          "color": "#EF553B",
          "line": {
           "width": 0
          },
          "symbol": "circle"
         },
         "mode": "markers",
         "name": "other",
         "orientation": "v",
         "showlegend": true,
         "type": "scatter",
         "x": [
          1990,
          1993,
          1994,
          1995,
          1996,
          1998,
          1999,
          2000,
          2001,
          2002,
          2004,
          2005,
          2006,
          2007,
          2008,
          2010,
          2011,
          2012,
          2013,
          2014,
          2016,
          2017,
          2018,
          2019,
          2020,
          2022,
          2023,
          2024,
          2025,
          1991,
          2028,
          2029,
          2030,
          2031,
          2033,
          2034,
          2035,
          2036,
          2037,
          2039,
          2040,
          2041,
          2042,
          2043,
          2045,
          2046,
          2047,
          2048,
          2049,
          2051,
          2052,
          2053,
          2054,
          2055,
          2057,
          2058,
          2059,
          2060,
          2062,
          2063,
          2064,
          2065,
          2066,
          2068,
          2069,
          2070,
          2071,
          2072,
          2074,
          2075,
          2076,
          2077,
          2078,
          2080,
          2081
         ],
         "xaxis": "x",
         "y": [
          1.2082574377656345,
          1.2086112795633717,
          1.2084848484848485,
          1.2083585705632949,
          1.208232445520581,
          1.208711433756806,
          1.2085852478839179,
          1.2084592145015105,
          1.2083333333333333,
          1.2082076041038021,
          1.2086851628468034,
          1.208559373116335,
          1.2084337349397591,
          1.2083082480433474,
          1.2081829121540313,
          1.2086590499098016,
          1.2085336538461537,
          1.2084084084084084,
          1.2082833133253301,
          1.2081583683263348,
          1.20863309352518,
          1.208508088675854,
          1.208383233532934,
          1.208258527827648,
          1.208133971291866,
          1.2086072922893007,
          1.2084826762246117,
          1.2083582089552238,
          1.208233890214797,
          1.208131067961165,
          1.2085816448152562,
          1.2084574151280525,
          1.2083333333333333,
          1.2082093991671623,
          1.208680142687277,
          1.2085561497326203,
          1.2084323040380047,
          1.2083086053412464,
          1.208185053380783,
          1.2086544161232957,
          1.2085308056872037,
          1.2084073416222616,
          1.208284023668639,
          1.20816085156712,
          1.208628841607565,
          1.208505611340815,
          1.2083825265643446,
          1.208259587020649,
          1.2081367924528301,
          1.2086034177961107,
          1.2084805653710247,
          1.2083578575632725,
          1.208235294117647,
          1.2081128747795415,
          1.208578143360752,
          1.2084556664709336,
          1.2083333333333333,
          1.2082111436950147,
          1.208675263774912,
          1.2085530169888694,
          1.2084309133489461,
          1.208308952603862,
          1.208187134502924,
          1.2086499123319696,
          1.2085280373831775,
          1.2084063047285465,
          1.2082847141190198,
          1.2081632653061225,
          1.2086247086247086,
          1.2085032032615026,
          1.2083818393480792,
          1.20826061663758,
          1.208139534883721,
          1.208599651365485,
          1.208478513356562
         ],
         "yaxis": "y"
        },
        {
         "customdata": [
          [
           1677
          ]
         ],
         "hovertemplate": "Series=best<br>delta_s=%{x}<br>price=%{y}<br>delta_b=%{customdata[0]}<extra></extra>",
         "legendgroup": "best",
         "marker": {
          "color": "#00cc96",
          "line": {
           "width": 0
          },
          "symbol": "circle"
         },
         "mode": "markers",
         "name": "best",
         "orientation": "v",
         "showlegend": true,
         "type": "scatter",
         "x": [
          2026
         ],
         "xaxis": "x",
         "y": [
          1.2081097197376267
         ],
         "yaxis": "y"
        },
        {
         "customdata": [
          [
           1722
          ],
          [
           1721
          ],
          [
           1720
          ],
          [
           1719
          ],
          [
           1718
          ],
          [
           1717
          ],
          [
           1716
          ],
          [
           1715
          ],
          [
           1714
          ],
          [
           1713
          ],
          [
           1712
          ],
          [
           1711
          ],
          [
           1710
          ],
          [
           1709
          ],
          [
           1708
          ],
          [
           1707
          ],
          [
           1706
          ],
          [
           1705
          ],
          [
           1704
          ],
          [
           1703
          ],
          [
           1702
          ],
          [
           1701
          ]
         ],
         "hovertemplate": "Series=slope1<br>delta_s=%{x}<br>price=%{y}<br>delta_b=%{customdata[0]}<extra></extra>",
         "legendgroup": "slope1",
         "line": {
          "color": "#636efa",
          "dash": "solid"
         },
         "marker": {
          "line": {
           "width": 0
          },
          "symbol": "circle"
         },
         "mode": "lines",
         "name": "slope1",
         "orientation": "v",
         "showlegend": true,
         "type": "scatter",
         "x": [
          2081,
          2080,
          2078,
          2077,
          2076,
          2075,
          2074,
          2072,
          2071,
          2070,
          2069,
          2068,
          2066,
          2065,
          2064,
          2063,
          2062,
          2060,
          2059,
          2058,
          2057,
          2055
         ],
         "xaxis": "x",
         "y": [
          1.208478513356562,
          1.208599651365485,
          1.208139534883721,
          1.20826061663758,
          1.2083818393480792,
          1.2085032032615026,
          1.2086247086247086,
          1.2081632653061225,
          1.2082847141190198,
          1.2084063047285465,
          1.2085280373831775,
          1.2086499123319696,
          1.208187134502924,
          1.208308952603862,
          1.2084309133489461,
          1.2085530169888694,
          1.208675263774912,
          1.2082111436950147,
          1.2083333333333333,
          1.2084556664709336,
          1.208578143360752,
          1.2081128747795415
         ],
         "yaxis": "y"
        },
        {
         "customdata": [
          [
           1701
          ],
          [
           1686
          ],
          [
           1672
          ],
          [
           1657
          ],
          [
           1647
          ]
         ],
         "hovertemplate": "Series=slope2<br>delta_s=%{x}<br>price=%{y}<br>delta_b=%{customdata[0]}<extra></extra>",
         "legendgroup": "slope2",
         "line": {
          "color": "#EF553B",
          "dash": "solid"
         },
         "marker": {
          "line": {
           "width": 0
          },
          "symbol": "circle"
         },
         "mode": "lines",
         "name": "slope2",
         "orientation": "v",
         "showlegend": true,
         "type": "scatter",
         "x": [
          2055,
          2037,
          2020,
          2002,
          1990
         ],
         "xaxis": "x",
         "y": [
          1.2081128747795415,
          1.208185053380783,
          1.208133971291866,
          1.2082076041038021,
          1.2082574377656345
         ],
         "yaxis": "y"
        }
       ],
       "layout": {
        "font": {
         "color": "white"
        },
        "height": 1000,
        "legend": {
         "title": {
          "text": "Series"
         },
         "tracegroupgap": 0
        },
        "margin": {
         "t": 60
        },
        "paper_bgcolor": "rgb(17,17,17)",
        "plot_bgcolor": "rgb(17,17,17)",
        "template": {
         "data": {
          "bar": [
           {
            "error_x": {
             "color": "#2a3f5f"
            },
            "error_y": {
             "color": "#2a3f5f"
            },
            "marker": {
             "line": {
              "color": "#E5ECF6",
              "width": 0.5
             },
             "pattern": {
              "fillmode": "overlay",
              "size": 10,
              "solidity": 0.2
             }
            },
            "type": "bar"
           }
          ],
          "barpolar": [
           {
            "marker": {
             "line": {
              "color": "#E5ECF6",
              "width": 0.5
             },
             "pattern": {
              "fillmode": "overlay",
              "size": 10,
              "solidity": 0.2
             }
            },
            "type": "barpolar"
           }
          ],
          "carpet": [
           {
            "aaxis": {
             "endlinecolor": "#2a3f5f",
             "gridcolor": "white",
             "linecolor": "white",
             "minorgridcolor": "white",
             "startlinecolor": "#2a3f5f"
            },
            "baxis": {
             "endlinecolor": "#2a3f5f",
             "gridcolor": "white",
             "linecolor": "white",
             "minorgridcolor": "white",
             "startlinecolor": "#2a3f5f"
            },
            "type": "carpet"
           }
          ],
          "choropleth": [
           {
            "colorbar": {
             "outlinewidth": 0,
             "ticks": ""
            },
            "type": "choropleth"
           }
          ],
          "contour": [
           {
            "colorbar": {
             "outlinewidth": 0,
             "ticks": ""
            },
            "colorscale": [
             [
              0,
              "#0d0887"
             ],
             [
              0.1111111111111111,
              "#46039f"
             ],
             [
              0.2222222222222222,
              "#7201a8"
             ],
             [
              0.3333333333333333,
              "#9c179e"
             ],
             [
              0.4444444444444444,
              "#bd3786"
             ],
             [
              0.5555555555555556,
              "#d8576b"
             ],
             [
              0.6666666666666666,
              "#ed7953"
             ],
             [
              0.7777777777777778,
              "#fb9f3a"
             ],
             [
              0.8888888888888888,
              "#fdca26"
             ],
             [
              1,
              "#f0f921"
             ]
            ],
            "type": "contour"
           }
          ],
          "contourcarpet": [
           {
            "colorbar": {
             "outlinewidth": 0,
             "ticks": ""
            },
            "type": "contourcarpet"
           }
          ],
          "heatmap": [
           {
            "colorbar": {
             "outlinewidth": 0,
             "ticks": ""
            },
            "colorscale": [
             [
              0,
              "#0d0887"
             ],
             [
              0.1111111111111111,
              "#46039f"
             ],
             [
              0.2222222222222222,
              "#7201a8"
             ],
             [
              0.3333333333333333,
              "#9c179e"
             ],
             [
              0.4444444444444444,
              "#bd3786"
             ],
             [
              0.5555555555555556,
              "#d8576b"
             ],
             [
              0.6666666666666666,
              "#ed7953"
             ],
             [
              0.7777777777777778,
              "#fb9f3a"
             ],
             [
              0.8888888888888888,
              "#fdca26"
             ],
             [
              1,
              "#f0f921"
             ]
            ],
            "type": "heatmap"
           }
          ],
          "heatmapgl": [
           {
            "colorbar": {
             "outlinewidth": 0,
             "ticks": ""
            },
            "colorscale": [
             [
              0,
              "#0d0887"
             ],
             [
              0.1111111111111111,
              "#46039f"
             ],
             [
              0.2222222222222222,
              "#7201a8"
             ],
             [
              0.3333333333333333,
              "#9c179e"
             ],
             [
              0.4444444444444444,
              "#bd3786"
             ],
             [
              0.5555555555555556,
              "#d8576b"
             ],
             [
              0.6666666666666666,
              "#ed7953"
             ],
             [
              0.7777777777777778,
              "#fb9f3a"
             ],
             [
              0.8888888888888888,
              "#fdca26"
             ],
             [
              1,
              "#f0f921"
             ]
            ],
            "type": "heatmapgl"
           }
          ],
          "histogram": [
           {
            "marker": {
             "pattern": {
              "fillmode": "overlay",
              "size": 10,
              "solidity": 0.2
             }
            },
            "type": "histogram"
           }
          ],
          "histogram2d": [
           {
            "colorbar": {
             "outlinewidth": 0,
             "ticks": ""
            },
            "colorscale": [
             [
              0,
              "#0d0887"
             ],
             [
              0.1111111111111111,
              "#46039f"
             ],
             [
              0.2222222222222222,
              "#7201a8"
             ],
             [
              0.3333333333333333,
              "#9c179e"
             ],
             [
              0.4444444444444444,
              "#bd3786"
             ],
             [
              0.5555555555555556,
              "#d8576b"
             ],
             [
              0.6666666666666666,
              "#ed7953"
             ],
             [
              0.7777777777777778,
              "#fb9f3a"
             ],
             [
              0.8888888888888888,
              "#fdca26"
             ],
             [
              1,
              "#f0f921"
             ]
            ],
            "type": "histogram2d"
           }
          ],
          "histogram2dcontour": [
           {
            "colorbar": {
             "outlinewidth": 0,
             "ticks": ""
            },
            "colorscale": [
             [
              0,
              "#0d0887"
             ],
             [
              0.1111111111111111,
              "#46039f"
             ],
             [
              0.2222222222222222,
              "#7201a8"
             ],
             [
              0.3333333333333333,
              "#9c179e"
             ],
             [
              0.4444444444444444,
              "#bd3786"
             ],
             [
              0.5555555555555556,
              "#d8576b"
             ],
             [
              0.6666666666666666,
              "#ed7953"
             ],
             [
              0.7777777777777778,
              "#fb9f3a"
             ],
             [
              0.8888888888888888,
              "#fdca26"
             ],
             [
              1,
              "#f0f921"
             ]
            ],
            "type": "histogram2dcontour"
           }
          ],
          "mesh3d": [
           {
            "colorbar": {
             "outlinewidth": 0,
             "ticks": ""
            },
            "type": "mesh3d"
           }
          ],
          "parcoords": [
           {
            "line": {
             "colorbar": {
              "outlinewidth": 0,
              "ticks": ""
             }
            },
            "type": "parcoords"
           }
          ],
          "pie": [
           {
            "automargin": true,
            "type": "pie"
           }
          ],
          "scatter": [
           {
            "fillpattern": {
             "fillmode": "overlay",
             "size": 10,
             "solidity": 0.2
            },
            "type": "scatter"
           }
          ],
          "scatter3d": [
           {
            "line": {
             "colorbar": {
              "outlinewidth": 0,
              "ticks": ""
             }
            },
            "marker": {
             "colorbar": {
              "outlinewidth": 0,
              "ticks": ""
             }
            },
            "type": "scatter3d"
           }
          ],
          "scattercarpet": [
           {
            "marker": {
             "colorbar": {
              "outlinewidth": 0,
              "ticks": ""
             }
            },
            "type": "scattercarpet"
           }
          ],
          "scattergeo": [
           {
            "marker": {
             "colorbar": {
              "outlinewidth": 0,
              "ticks": ""
             }
            },
            "type": "scattergeo"
           }
          ],
          "scattergl": [
           {
            "marker": {
             "colorbar": {
              "outlinewidth": 0,
              "ticks": ""
             }
            },
            "type": "scattergl"
           }
          ],
          "scattermapbox": [
           {
            "marker": {
             "colorbar": {
              "outlinewidth": 0,
              "ticks": ""
             }
            },
            "type": "scattermapbox"
           }
          ],
          "scatterpolar": [
           {
            "marker": {
             "colorbar": {
              "outlinewidth": 0,
              "ticks": ""
             }
            },
            "type": "scatterpolar"
           }
          ],
          "scatterpolargl": [
           {
            "marker": {
             "colorbar": {
              "outlinewidth": 0,
              "ticks": ""
             }
            },
            "type": "scatterpolargl"
           }
          ],
          "scatterternary": [
           {
            "marker": {
             "colorbar": {
              "outlinewidth": 0,
              "ticks": ""
             }
            },
            "type": "scatterternary"
           }
          ],
          "surface": [
           {
            "colorbar": {
             "outlinewidth": 0,
             "ticks": ""
            },
            "colorscale": [
             [
              0,
              "#0d0887"
             ],
             [
              0.1111111111111111,
              "#46039f"
             ],
             [
              0.2222222222222222,
              "#7201a8"
             ],
             [
              0.3333333333333333,
              "#9c179e"
             ],
             [
              0.4444444444444444,
              "#bd3786"
             ],
             [
              0.5555555555555556,
              "#d8576b"
             ],
             [
              0.6666666666666666,
              "#ed7953"
             ],
             [
              0.7777777777777778,
              "#fb9f3a"
             ],
             [
              0.8888888888888888,
              "#fdca26"
             ],
             [
              1,
              "#f0f921"
             ]
            ],
            "type": "surface"
           }
          ],
          "table": [
           {
            "cells": {
             "fill": {
              "color": "#EBF0F8"
             },
             "line": {
              "color": "white"
             }
            },
            "header": {
             "fill": {
              "color": "#C8D4E3"
             },
             "line": {
              "color": "white"
             }
            },
            "type": "table"
           }
          ]
         },
         "layout": {
          "annotationdefaults": {
           "arrowcolor": "#2a3f5f",
           "arrowhead": 0,
           "arrowwidth": 1
          },
          "autotypenumbers": "strict",
          "coloraxis": {
           "colorbar": {
            "outlinewidth": 0,
            "ticks": ""
           }
          },
          "colorscale": {
           "diverging": [
            [
             0,
             "#8e0152"
            ],
            [
             0.1,
             "#c51b7d"
            ],
            [
             0.2,
             "#de77ae"
            ],
            [
             0.3,
             "#f1b6da"
            ],
            [
             0.4,
             "#fde0ef"
            ],
            [
             0.5,
             "#f7f7f7"
            ],
            [
             0.6,
             "#e6f5d0"
            ],
            [
             0.7,
             "#b8e186"
            ],
            [
             0.8,
             "#7fbc41"
            ],
            [
             0.9,
             "#4d9221"
            ],
            [
             1,
             "#276419"
            ]
           ],
           "sequential": [
            [
             0,
             "#0d0887"
            ],
            [
             0.1111111111111111,
             "#46039f"
            ],
            [
             0.2222222222222222,
             "#7201a8"
            ],
            [
             0.3333333333333333,
             "#9c179e"
            ],
            [
             0.4444444444444444,
             "#bd3786"
            ],
            [
             0.5555555555555556,
             "#d8576b"
            ],
            [
             0.6666666666666666,
             "#ed7953"
            ],
            [
             0.7777777777777778,
             "#fb9f3a"
            ],
            [
             0.8888888888888888,
             "#fdca26"
            ],
            [
             1,
             "#f0f921"
            ]
           ],
           "sequentialminus": [
            [
             0,
             "#0d0887"
            ],
            [
             0.1111111111111111,
             "#46039f"
            ],
            [
             0.2222222222222222,
             "#7201a8"
            ],
            [
             0.3333333333333333,
             "#9c179e"
            ],
            [
             0.4444444444444444,
             "#bd3786"
            ],
            [
             0.5555555555555556,
             "#d8576b"
            ],
            [
             0.6666666666666666,
             "#ed7953"
            ],
            [
             0.7777777777777778,
             "#fb9f3a"
            ],
            [
             0.8888888888888888,
             "#fdca26"
            ],
            [
             1,
             "#f0f921"
            ]
           ]
          },
          "colorway": [
           "#636efa",
           "#EF553B",
           "#00cc96",
           "#ab63fa",
           "#FFA15A",
           "#19d3f3",
           "#FF6692",
           "#B6E880",
           "#FF97FF",
           "#FECB52"
          ],
          "font": {
           "color": "#2a3f5f"
          },
          "geo": {
           "bgcolor": "white",
           "lakecolor": "white",
           "landcolor": "#E5ECF6",
           "showlakes": true,
           "showland": true,
           "subunitcolor": "white"
          },
          "hoverlabel": {
           "align": "left"
          },
          "hovermode": "closest",
          "mapbox": {
           "style": "light"
          },
          "paper_bgcolor": "white",
          "plot_bgcolor": "#E5ECF6",
          "polar": {
           "angularaxis": {
            "gridcolor": "white",
            "linecolor": "white",
            "ticks": ""
           },
           "bgcolor": "#E5ECF6",
           "radialaxis": {
            "gridcolor": "white",
            "linecolor": "white",
            "ticks": ""
           }
          },
          "scene": {
           "xaxis": {
            "backgroundcolor": "#E5ECF6",
            "gridcolor": "white",
            "gridwidth": 2,
            "linecolor": "white",
            "showbackground": true,
            "ticks": "",
            "zerolinecolor": "white"
           },
           "yaxis": {
            "backgroundcolor": "#E5ECF6",
            "gridcolor": "white",
            "gridwidth": 2,
            "linecolor": "white",
            "showbackground": true,
            "ticks": "",
            "zerolinecolor": "white"
           },
           "zaxis": {
            "backgroundcolor": "#E5ECF6",
            "gridcolor": "white",
            "gridwidth": 2,
            "linecolor": "white",
            "showbackground": true,
            "ticks": "",
            "zerolinecolor": "white"
           }
          },
          "shapedefaults": {
           "line": {
            "color": "#2a3f5f"
           }
          },
          "ternary": {
           "aaxis": {
            "gridcolor": "white",
            "linecolor": "white",
            "ticks": ""
           },
           "baxis": {
            "gridcolor": "white",
            "linecolor": "white",
            "ticks": ""
           },
           "bgcolor": "#E5ECF6",
           "caxis": {
            "gridcolor": "white",
            "linecolor": "white",
            "ticks": ""
           }
          },
          "title": {
           "x": 0.05
          },
          "xaxis": {
           "automargin": true,
           "gridcolor": "white",
           "linecolor": "white",
           "ticks": "",
           "title": {
            "standoff": 15
           },
           "zerolinecolor": "white",
           "zerolinewidth": 2
          },
          "yaxis": {
           "automargin": true,
           "gridcolor": "white",
           "linecolor": "white",
           "ticks": "",
           "title": {
            "standoff": 15
           },
           "zerolinecolor": "white",
           "zerolinewidth": 2
          }
         }
        },
        "title": {
         "text": "effective price by delta selling"
        },
        "xaxis": {
         "anchor": "y",
         "domain": [
          0,
          1
         ],
         "gridcolor": "rgb(80,80,80)",
         "title": {
          "text": "Delta_s"
         }
        },
        "yaxis": {
         "anchor": "x",
         "domain": [
          0,
          1
         ],
         "gridcolor": "rgb(80,80,80)",
         "title": {
          "text": "Price"
         }
        }
       }
      }
     },
     "metadata": {},
     "output_type": "display_data"
    }
   ],
   "source": [
    "# Convert your data lists to Pandas DataFrames for easier handling\n",
    "df1 = pd.DataFrame(perfect, columns=['delta_b', 'delta_s', 'price'])\n",
    "df2 = pd.DataFrame(best_imperfect, columns=['delta_b', 'delta_s', 'price'])\n",
    "df3 = pd.DataFrame(other_imperfect, columns=['delta_b', 'delta_s', 'price'])\n",
    "df4 = pd.DataFrame(delta_b_too_low, columns=['delta_b', 'delta_s', 'price'])\n",
    "df5 = pd.DataFrame(suboptimal_delta_b, columns=['delta_b', 'delta_s', 'price'])\n",
    "# df6 = pd.DataFrame(first_slope, columns=['delta_b', 'delta_s', 'price'])\n",
    "# df7 = pd.DataFrame(second_slope, columns=['delta_b', 'delta_s', 'price'])\n",
    "slopes_df = [pd.DataFrame(slope, columns=['delta_b', 'delta_s', 'price']) for slope in slopes]\n",
    "for i in range(len(slopes_df)):\n",
    "    slopes_df[i]['Series'] = 'slope' + str(i + 1)\n",
    "\n",
    "# Combine the dataframes with an identifier column\n",
    "df1['Series'] = 'Without'\n",
    "df2['Series'] = 'best'\n",
    "df3['Series'] = 'other'\n",
    "# df4['Series'] = 'Delta_b too low'\n",
    "df5['Series'] = 'subopt'\n",
    "# df6['Series'] = '1st'\n",
    "# df7['Series'] = '2nd'\n",
    "# pd.concat([df5, df1, df3] + slopes_df + [df2])\n",
    "combined_df = pd.concat([df5, df1, df3, df2]) \n",
    "\n",
    "# Add a new column for point size based on the series\n",
    "# Assuming 'Series' is a column that identifies each series\n",
    "# series_size_mapping = {series: i+1 for i, series in enumerate(combined_df['Series'].unique())}\n",
    "# combined_df['point_size'] = combined_df['Series'].map(series_size_mapping)\n",
    "\n",
    "# Sort the DataFrame in reverse order of point size\n",
    "# combined_df = combined_df.sort_values(by='point_size', ascending=False)\n",
    "\n",
    "# Create an interactive scatter plot\n",
    "fig = px.scatter(combined_df, x='delta_s', y='price', color='Series', #size='point_size',\n",
    "                 hover_data=['delta_b', 'delta_s', 'price'])\n",
    "\n",
    "# Add lines for specified series\n",
    "# for series in slopes_df:\n",
    "#     fig.add_trace(px.line(series, x='delta_s', y='price', color='Series').data[0])\n",
    "\n",
    "# Concatenate all DataFrames in slopes_df\n",
    "all_slopes_df = pd.concat(slopes_df)\n",
    "# Create a line plot for all slopes\n",
    "line_fig = px.line(all_slopes_df, x='delta_s', y='price', color='Series', hover_data=['delta_b', 'delta_s', 'price'])\n",
    "\n",
    "# Add each line trace individually\n",
    "for trace in line_fig.data:\n",
    "    fig.add_trace(trace)\n",
    "\n",
    "# Update marker properties to have darker outlines\n",
    "# fig.update_traces(marker=dict(line=dict(width=1, color='rgba(40,40,40,1)')))  # Adjust the color as needed\n",
    "\n",
    "# Update marker properties to remove outlines or match the fill color\n",
    "fig.update_traces(marker=dict(line=dict(width=0)))  # Removes the outline\n",
    "\n",
    "# Alternatively, to set the outline to the same color as the fill:\n",
    "# fig.update_traces(marker=dict(line=dict(width=1, color='SAME_COLOR')))\n",
    "\n",
    "\n",
    "# Update the layout for dark mode\n",
    "fig.update_layout(\n",
    "    title='Scatter Plot in Dark Mode',\n",
    "    plot_bgcolor='rgb(17,17,17)',  # Dark plot background\n",
    "    paper_bgcolor='rgb(17,17,17)',  # Dark paper background\n",
    "    font_color='white',  # White text for better contrast\n",
    "    xaxis=dict(\n",
    "        gridcolor='rgb(80,80,80)',  # Darker gridlines\n",
    "    ),\n",
    "    yaxis=dict(\n",
    "        gridcolor='rgb(80,80,80)',  # Darker gridlines\n",
    "    )\n",
    ")\n",
    "\n",
    "# Add plot titles and labels\n",
    "fig.update_layout(title='effective price by delta selling',\n",
    "                  xaxis_title='Delta_s',\n",
    "                  yaxis_title='Price',\n",
    "                  # showlegend=False,\n",
    "                  height=1000)\n",
    "                  \n",
    "\n",
    "# fig.update_yaxes(range=[combined_df['price'].min(), combined_df['price'].max()])  # Adjust the range as needed\n",
    "\n",
    "# # Sort the DataFrame by 'ratio' in descending order\n",
    "# sorted_df = combined_df.sort_values(by='price', ascending=False)\n",
    "\n",
    "# # Adding a line that connects the dots in decreasing order of their y-value\n",
    "# fig.add_trace(px.line(sorted_df, x='delta_b', y='price').data[0])\n",
    "\n",
    "# # Find the five lowest unique y-values (ratios)\n",
    "# lowest_ratios = combined_df['price'].unique()\n",
    "# lowest_ratios.sort()\n",
    "\n",
    "# # Group by 'ratio' and draw lines for each of the five lowest ratios\n",
    "# for price in lowest_ratios[:20]:\n",
    "#     group = combined_df[combined_df['price'] == price]\n",
    "#     # Sort each group by 'delta_b' to make line connections logical\n",
    "#     sorted_group = group.sort_values(by='delta_b')\n",
    "#     fig.add_trace(px.line(sorted_group, x='delta_b', y='price').data[0])\n",
    "\n",
    "# # Adjusting the plot size and layout\n",
    "# fig.update_layout(title='Scatter Plot with Lines for Lowest Y-values',\n",
    "#                   xaxis_title='Delta_b',\n",
    "#                   yaxis_title='Price',\n",
    "#                   height=800)\n",
    "\n",
    "# Show the plot\n",
    "fig.show()\n"
   ]
  },
  {
   "cell_type": "code",
   "execution_count": 333,
   "metadata": {},
   "outputs": [
    {
     "data": {
      "text/plain": [
       "9244"
      ]
     },
     "execution_count": 333,
     "metadata": {},
     "output_type": "execute_result"
    }
   ],
   "source": [
    "9273 - 29"
   ]
  },
  {
   "cell_type": "code",
   "execution_count": 334,
   "metadata": {},
   "outputs": [
    {
     "data": {
      "text/plain": [
       "-2.472707496536941e-07"
      ]
     },
     "execution_count": 334,
     "metadata": {},
     "output_type": "execute_result"
    }
   ],
   "source": [
    "4.331472620946305 - 4.3314728682170545"
   ]
  },
  {
   "cell_type": "markdown",
   "metadata": {},
   "source": [
    "### Patterns:\n",
    "\n",
    "- the (imperfect) optimal values appear to have equal distances in both deltas to each other \n",
    "  - -> if we're seeing the same value again, we can quit\n",
    "- similarly for the points within a \"slope\"\n",
    "- we can't see any way to compute those distances (see below for our attempts)\n",
    "  - we could maybe try to measure them somehow:\n",
    "    - start on the rightmost side\n",
    "    - record the best price seen\n",
    "    - go leftwards\n",
    "    - if the price improves a second time, measure that distance\n",
    "    - continue going leftwards, using that distance\n",
    "    - as soon as the price gets worse, we have found the minimum of a \"slope\" (this is a global optimum in this chart, but not the other one)\n",
    "    - we record this, and do the same thing again, this time also computing the distance between \"slopes\"\n",
    "    - we could use this to efficiently search over the slopes, or simply be content with repeating this until we found a global optimum"
   ]
  },
  {
   "cell_type": "code",
   "execution_count": 335,
   "metadata": {},
   "outputs": [
    {
     "data": {
      "text/plain": [
       "239"
      ]
     },
     "execution_count": 335,
     "metadata": {},
     "output_type": "execute_result"
    }
   ],
   "source": [
    "11179 - 10940"
   ]
  },
  {
   "cell_type": "code",
   "execution_count": 336,
   "metadata": {},
   "outputs": [
    {
     "data": {
      "text/plain": [
       "239"
      ]
     },
     "execution_count": 336,
     "metadata": {},
     "output_type": "execute_result"
    }
   ],
   "source": [
    "11418 - 11179"
   ]
  },
  {
   "cell_type": "code",
   "execution_count": 337,
   "metadata": {},
   "outputs": [
    {
     "data": {
      "text/plain": [
       "155"
      ]
     },
     "execution_count": 337,
     "metadata": {},
     "output_type": "execute_result"
    }
   ],
   "source": [
    "7250 - 7095"
   ]
  },
  {
   "cell_type": "code",
   "execution_count": 338,
   "metadata": {},
   "outputs": [
    {
     "data": {
      "text/plain": [
       "155"
      ]
     },
     "execution_count": 338,
     "metadata": {},
     "output_type": "execute_result"
    }
   ],
   "source": [
    "7405 - 7250"
   ]
  },
  {
   "cell_type": "code",
   "execution_count": 339,
   "metadata": {},
   "outputs": [
    {
     "data": {
      "text/plain": [
       "2188"
      ]
     },
     "execution_count": 339,
     "metadata": {},
     "output_type": "execute_result"
    }
   ],
   "source": [
    "8752 - 6564"
   ]
  },
  {
   "cell_type": "code",
   "execution_count": 340,
   "metadata": {},
   "outputs": [
    {
     "data": {
      "text/plain": [
       "2188"
      ]
     },
     "execution_count": 340,
     "metadata": {},
     "output_type": "execute_result"
    }
   ],
   "source": [
    "10940 - 8752"
   ]
  },
  {
   "cell_type": "code",
   "execution_count": 341,
   "metadata": {},
   "outputs": [
    {
     "data": {
      "text/plain": [
       "1419"
      ]
     },
     "execution_count": 341,
     "metadata": {},
     "output_type": "execute_result"
    }
   ],
   "source": [
    "5676 - 4257"
   ]
  },
  {
   "cell_type": "code",
   "execution_count": 342,
   "metadata": {},
   "outputs": [
    {
     "data": {
      "text/plain": [
       "1419"
      ]
     },
     "execution_count": 342,
     "metadata": {},
     "output_type": "execute_result"
    }
   ],
   "source": [
    "7095 - 5676"
   ]
  },
  {
   "cell_type": "code",
   "execution_count": 343,
   "metadata": {},
   "outputs": [],
   "source": [
    "def prime_factors(n):\n",
    "    i = 2\n",
    "    factors = {}\n",
    "    while i * i <= n:\n",
    "        if n % i:\n",
    "            i += 1\n",
    "        else:\n",
    "            n //= i\n",
    "            factors[i] = factors.get(i, 0) + 1\n",
    "    if n > 1:\n",
    "        factors[n] = factors.get(n, 0) + 1\n",
    "    return factors"
   ]
  },
  {
   "cell_type": "code",
   "execution_count": 344,
   "metadata": {},
   "outputs": [
    {
     "data": {
      "text/plain": [
       "{239: 1}"
      ]
     },
     "execution_count": 344,
     "metadata": {},
     "output_type": "execute_result"
    }
   ],
   "source": [
    "prime_factors(239)"
   ]
  },
  {
   "cell_type": "code",
   "execution_count": 345,
   "metadata": {},
   "outputs": [
    {
     "data": {
      "text/plain": [
       "{2: 4, 3: 1, 5: 1}"
      ]
     },
     "execution_count": 345,
     "metadata": {},
     "output_type": "execute_result"
    }
   ],
   "source": [
    "prime_factors(239 + 1)"
   ]
  },
  {
   "cell_type": "code",
   "execution_count": 346,
   "metadata": {},
   "outputs": [
    {
     "data": {
      "text/plain": [
       "{5: 1, 31: 1}"
      ]
     },
     "execution_count": 346,
     "metadata": {},
     "output_type": "execute_result"
    }
   ],
   "source": [
    "prime_factors(155)"
   ]
  },
  {
   "cell_type": "code",
   "execution_count": 347,
   "metadata": {},
   "outputs": [
    {
     "data": {
      "text/plain": [
       "{2: 2, 3: 1, 13: 1}"
      ]
     },
     "execution_count": 347,
     "metadata": {},
     "output_type": "execute_result"
    }
   ],
   "source": [
    "prime_factors(155 + 1)"
   ]
  },
  {
   "cell_type": "code",
   "execution_count": 348,
   "metadata": {},
   "outputs": [
    {
     "data": {
      "text/plain": [
       "{2: 2, 547: 1}"
      ]
     },
     "execution_count": 348,
     "metadata": {},
     "output_type": "execute_result"
    }
   ],
   "source": [
    "prime_factors(2188)"
   ]
  },
  {
   "cell_type": "code",
   "execution_count": 349,
   "metadata": {},
   "outputs": [
    {
     "data": {
      "text/plain": [
       "{11: 1, 199: 1}"
      ]
     },
     "execution_count": 349,
     "metadata": {},
     "output_type": "execute_result"
    }
   ],
   "source": [
    "prime_factors(2188 + 1)"
   ]
  },
  {
   "cell_type": "code",
   "execution_count": 350,
   "metadata": {},
   "outputs": [
    {
     "data": {
      "text/plain": [
       "{3: 1, 11: 1, 43: 1}"
      ]
     },
     "execution_count": 350,
     "metadata": {},
     "output_type": "execute_result"
    }
   ],
   "source": [
    "prime_factors(1419)"
   ]
  },
  {
   "cell_type": "code",
   "execution_count": 351,
   "metadata": {},
   "outputs": [
    {
     "data": {
      "text/plain": [
       "{2: 2, 5: 1, 71: 1}"
      ]
     },
     "execution_count": 351,
     "metadata": {},
     "output_type": "execute_result"
    }
   ],
   "source": [
    "prime_factors(1419 + 1)"
   ]
  },
  {
   "cell_type": "code",
   "execution_count": 352,
   "metadata": {},
   "outputs": [
    {
     "data": {
      "text/plain": [
       "{101: 19}"
      ]
     },
     "execution_count": 352,
     "metadata": {},
     "output_type": "execute_result"
    }
   ],
   "source": [
    "prime_factors(m_b)"
   ]
  },
  {
   "cell_type": "code",
   "execution_count": 353,
   "metadata": {},
   "outputs": [
    {
     "data": {
      "text/plain": [
       "{2: 38, 5: 38}"
      ]
     },
     "execution_count": 353,
     "metadata": {},
     "output_type": "execute_result"
    }
   ],
   "source": [
    "prime_factors(m_s)"
   ]
  },
  {
   "cell_type": "code",
   "execution_count": null,
   "metadata": {},
   "outputs": [],
   "source": []
  }
 ],
 "metadata": {
  "kernelspec": {
   "display_name": "Python 3",
   "language": "python",
   "name": "python3"
  },
  "language_info": {
   "codemirror_mode": {
    "name": "ipython",
    "version": 3
   },
   "file_extension": ".py",
   "mimetype": "text/x-python",
   "name": "python",
   "nbconvert_exporter": "python",
   "pygments_lexer": "ipython3",
   "version": "3.9.16"
  }
 },
 "nbformat": 4,
 "nbformat_minor": 2
}
