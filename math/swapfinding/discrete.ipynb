{
 "cells": [
  {
   "cell_type": "code",
   "execution_count": 1,
   "metadata": {},
   "outputs": [],
   "source": [
    "from sympy import symbols, simplify, hessian, solveset, S, solve, log, And, Le, Ge, Eq, Lt, Gt, nonlinsolve, latex, log, Wild, expand_log, logcombine, evaluate,oo, limit,ask, Q, floor, ceiling, lambdify, Sum, sign, expand\n",
    "from IPython.display import display, HTML, Math"
   ]
  },
  {
   "cell_type": "code",
   "execution_count": 2,
   "metadata": {},
   "outputs": [],
   "source": [
    "def large(expr):\n",
    "  latex_code = f\"\\\\Large {{ {latex(expr)} }}\"\n",
    "  display(Math(latex_code))"
   ]
  },
  {
   "cell_type": "code",
   "execution_count": 3,
   "metadata": {},
   "outputs": [],
   "source": [
    "delta_b_negative = False\n",
    "discrete = True\n",
    "simp = True"
   ]
  },
  {
   "cell_type": "code",
   "execution_count": 4,
   "metadata": {},
   "outputs": [
    {
     "data": {
      "text/plain": [
       "{'b': dict_values([s_b, l_b, v_b, b_b, w_b, j_b, e_b, Delta_b, a_b, min_b]),\n",
       " 's': dict_values([s_s, l_s, v_s, b_s, w_s, j_s, e_s, Delta_s, a_s, min_s])}"
      ]
     },
     "execution_count": 4,
     "metadata": {},
     "output_type": "execute_result"
    }
   ],
   "source": [
    "assets = ['b', 's']  # buying and selling assets\n",
    "base_symbols = ['s', 'l', 'v', 'b', 'w', 'j', 'e', 'Delta', 'a', 'min'] \n",
    "# spot price, virtual liquidity, balance, weight, jump size, exponent, delta, anchor price, amm-price, jump-multiplier\n",
    "\n",
    "all_symbols = {}\n",
    "\n",
    "for asset in assets:\n",
    "    temp_dict = {}\n",
    "    for base in base_symbols:\n",
    "        var_name = f\"{base}_{asset}\"\n",
    "        if base == 'e':\n",
    "            symbol_obj = symbols(var_name, integer=True)\n",
    "        elif base == 'b':\n",
    "            symbol_obj = symbols(var_name, nonnegative=True, integer=True)\n",
    "        elif delta_b_negative and var_name == 'Delta_b':\n",
    "            symbol_obj = symbols(var_name, negative=True, integer=True)\n",
    "        else:\n",
    "            symbol_obj = symbols(var_name, positive=True, integer=True)\n",
    "        temp_dict[var_name] = symbol_obj\n",
    "        # Define the variable in the global namespace\n",
    "        globals()[var_name] = symbol_obj\n",
    "    all_symbols[asset] = temp_dict.values()\n",
    "all_symbols"
   ]
  },
  {
   "cell_type": "code",
   "execution_count": 29,
   "metadata": {},
   "outputs": [
    {
     "data": {
      "text/latex": [
       "$\\displaystyle \\Delta_{b} \\leq \\left\\lfloor{\\frac{\\Delta_{s} l_{b} w_{b}}{\\Delta_{s} w_{b} + \\Delta_{s} w_{s} + l_{s} w_{s}}}\\right\\rfloor$"
      ],
      "text/plain": [
       "Delta_b <= floor(Delta_s*l_b*w_b/(Delta_s*w_b + Delta_s*w_s + l_s*w_s))"
      ]
     },
     "metadata": {},
     "output_type": "display_data"
    },
    {
     "data": {
      "text/latex": [
       "$\\displaystyle \\Delta_{s} \\geq \\left\\lceil{- \\frac{\\Delta_{b} l_{s} w_{s}}{\\Delta_{b} w_{b} + \\Delta_{b} w_{s} - l_{b} w_{b}}}\\right\\rceil$"
      ],
      "text/plain": [
       "Delta_s >= ceiling(-Delta_b*l_s*w_s/(Delta_b*w_b + Delta_b*w_s - l_b*w_b))"
      ]
     },
     "metadata": {},
     "output_type": "display_data"
    }
   ],
   "source": [
    "deltaByDelta_b = Le(Delta_b, floor(Delta_s*l_b*w_b/(Delta_s*w_b + Delta_s*w_s + l_s*w_s))) # upper bound\n",
    "deltaByDelta_s = Ge(Delta_s, ceiling(-Delta_b*l_s*w_s/(Delta_b*w_b + Delta_b*w_s - l_b*w_b))) # lower bound\n",
    "display(deltaByDelta_b)\n",
    "display(deltaByDelta_s)"
   ]
  },
  {
   "cell_type": "code",
   "execution_count": 28,
   "metadata": {},
   "outputs": [
    {
     "data": {
      "text/latex": [
       "$\\displaystyle \\Delta_{b} \\leq l_{b} + \\left\\lfloor{- \\frac{s_{b}}{w_{b}}}\\right\\rfloor$"
      ],
      "text/plain": [
       "Delta_b <= l_b + floor(-s_b/w_b)"
      ]
     },
     "metadata": {},
     "output_type": "display_data"
    },
    {
     "data": {
      "text/latex": [
       "$\\displaystyle \\Delta_{s} \\leq - l_{s} + \\left\\lfloor{\\frac{s_{s}}{w_{s}}}\\right\\rfloor$"
      ],
      "text/plain": [
       "Delta_s <= -l_s + floor(s_s/w_s)"
      ]
     },
     "metadata": {},
     "output_type": "display_data"
    }
   ],
   "source": [
    "# this seems to be derived from spotByDelta\n",
    "def deltaBySpot_(asset, s, l, v, b, w, j, e, Delta, a, min):\n",
    "  f = (s - l * w) / w # at this point, this value is negative for buying and positive for selling\n",
    "  # rounding towards zero in all cases, as we are interested in the maximum delta-capacity of a given spot price\n",
    "  if asset == 'b':\n",
    "    if delta_b_negative:\n",
    "      if discrete:\n",
    "        f = ceiling(f)\n",
    "    else:\n",
    "      if discrete:\n",
    "        f = floor(-f)\n",
    "      else:\n",
    "        f = -f\n",
    "\n",
    "  else:\n",
    "    if discrete:\n",
    "      f = floor(f)\n",
    "\n",
    "  if simp:\n",
    "    f = simplify(f)\n",
    "  return Le(Delta, f)\n",
    "\n",
    "deltaBySpot = {asset: deltaBySpot_(asset, *all_symbols[asset]) for asset in assets}\n",
    "display( deltaBySpot['b'])\n",
    "display(deltaBySpot['s'])"
   ]
  },
  {
   "cell_type": "code",
   "execution_count": 7,
   "metadata": {},
   "outputs": [
    {
     "data": {
      "text/latex": [
       "$\\displaystyle s_{b} = w_{b} \\left(- \\Delta_{b} + l_{b}\\right)$"
      ],
      "text/plain": [
       "Eq(s_b, w_b*(-Delta_b + l_b))"
      ]
     },
     "metadata": {},
     "output_type": "display_data"
    },
    {
     "data": {
      "text/latex": [
       "$\\displaystyle s_{s} = w_{s} \\left(\\Delta_{s} + l_{s}\\right)$"
      ],
      "text/plain": [
       "Eq(s_s, w_s*(Delta_s + l_s))"
      ]
     },
     "metadata": {},
     "output_type": "display_data"
    }
   ],
   "source": [
    "def spotByDelta_(asset, s, l, v, b, w, j, e, Delta, a, min):\n",
    "  if (not delta_b_negative) and asset == 'b':\n",
    "    f = w * (l - Delta)\n",
    "  else:\n",
    "    f = w * (l + Delta)\n",
    "  if simp:\n",
    "    f = simplify(f)\n",
    "  return f\n",
    "\n",
    "spotByDelta = {asset: spotByDelta_(asset, *all_symbols[asset]) for asset in assets}\n",
    "display(Eq(s_b, spotByDelta['b']))\n",
    "display(Eq(s_s, spotByDelta['s']))"
   ]
  },
  {
   "cell_type": "code",
   "execution_count": 34,
   "metadata": {},
   "outputs": [
    {
     "data": {
      "text/latex": [
       "$\\displaystyle s_{b} \\leq w_{b} \\left(l_{b} - \\left\\lfloor{\\frac{l_{b} w_{b} \\left(- l_{s} + \\left\\lfloor{\\frac{s_{s}}{w_{s}}}\\right\\rfloor\\right)}{- l_{s} w_{b} + w_{b} \\left\\lfloor{\\frac{s_{s}}{w_{s}}}\\right\\rfloor + w_{s} \\left\\lfloor{\\frac{s_{s}}{w_{s}}}\\right\\rfloor}}\\right\\rfloor\\right)$"
      ],
      "text/plain": [
       "s_b <= w_b*(l_b - floor(l_b*w_b*(-l_s + floor(s_s/w_s))/(-l_s*w_b + w_b*floor(s_s/w_s) + w_s*floor(s_s/w_s))))"
      ]
     },
     "execution_count": 34,
     "metadata": {},
     "output_type": "execute_result"
    }
   ],
   "source": [
    "# upper bound because deltaByDelta_b and deltaBySpot['s'] both are upper bounds\n",
    "spotBySpot_s = Le(s_b, spotByDelta['b'].subs({Delta_b: deltaByDelta_b.rhs, Delta_s: deltaBySpot['s'].rhs}).simplify())\n",
    "spotBySpot_s"
   ]
  },
  {
   "cell_type": "markdown",
   "metadata": {},
   "source": [
    "should not attempt the same for s_s, as deltaByDelta_s is a lower bound and deltaBySpot['b] an upper bound"
   ]
  },
  {
   "cell_type": "code",
   "execution_count": 43,
   "metadata": {},
   "outputs": [
    {
     "data": {
      "text/latex": [
       "$\\displaystyle \\left\\lfloor{a_{b} \\left(\\frac{j_{b} + 1}{j_{b}}\\right)^{e_{b}}}\\right\\rfloor$"
      ],
      "text/plain": [
       "floor(a_b*((j_b + 1)/j_b)**e_b)"
      ]
     },
     "metadata": {},
     "output_type": "display_data"
    },
    {
     "data": {
      "text/latex": [
       "$\\displaystyle \\left\\lfloor{a_{s} \\left(\\frac{j_{s} + 1}{j_{s}}\\right)^{e_{s}}}\\right\\rfloor$"
      ],
      "text/plain": [
       "floor(a_s*((j_s + 1)/j_s)**e_s)"
      ]
     },
     "metadata": {},
     "output_type": "display_data"
    }
   ],
   "source": [
    "def spotByExp_(asset, s, l, v, b, w, j, e, Delta, a, min):\n",
    "  f = a * ((1 + 1/j) ** e)\n",
    "  if discrete:\n",
    "    f = floor(f) # always rounding down because of how spot is computed from exp\n",
    "  if simp:\n",
    "    f = simplify(f)\n",
    "  return f\n",
    "spotByExp = {asset: spotByExp_(asset, *all_symbols[asset]) for asset in assets}\n",
    "display(spotByExp['b'])\n",
    "display(spotByExp['s'])"
   ]
  },
  {
   "cell_type": "code",
   "execution_count": 47,
   "metadata": {},
   "outputs": [
    {
     "data": {
      "text/latex": [
       "$\\displaystyle e_{b} \\leq \\left\\lceil{\\log{\\left(\\left(\\frac{s_{b}}{a_{b}}\\right)^{\\frac{1}{\\log{\\left(\\frac{j_{b} + 1}{j_{b}} \\right)}}} \\right)}}\\right\\rceil$"
      ],
      "text/plain": [
       "e_b <= ceiling(log((s_b/a_b)**(1/log((j_b + 1)/j_b))))"
      ]
     },
     "metadata": {},
     "output_type": "display_data"
    },
    {
     "data": {
      "text/latex": [
       "$\\displaystyle e_{s} \\leq \\left\\lceil{\\log{\\left(\\left(\\frac{s_{s}}{a_{s}}\\right)^{\\frac{1}{\\log{\\left(\\frac{j_{s} + 1}{j_{s}} \\right)}}} \\right)}}\\right\\rceil$"
      ],
      "text/plain": [
       "e_s <= ceiling(log((s_s/a_s)**(1/log((j_s + 1)/j_s))))"
      ]
     },
     "metadata": {},
     "output_type": "display_data"
    }
   ],
   "source": [
    "def expBySpot_(asset, s, l, v, b, w, j, e, Delta, a, min):\n",
    "  f = log(s / a) / log(1 + 1/j)\n",
    "  if discrete:\n",
    "    f = ceiling(f) # always rounding up because of how spot is computed from exp\n",
    "  if simp:\n",
    "    f = simplify(f)\n",
    "  return Le(e, f)\n",
    "expBySpot = {asset: expBySpot_(asset, *all_symbols[asset]) for asset in assets}\n",
    "display(expBySpot['b'])\n",
    "display(expBySpot['s'])"
   ]
  },
  {
   "cell_type": "code",
   "execution_count": 48,
   "metadata": {},
   "outputs": [
    {
     "data": {
      "text/latex": [
       "$\\displaystyle s_{b} \\leq w_{b} \\left(l_{b} - \\left\\lfloor{\\frac{l_{b} w_{b} \\left(- l_{s} + \\left\\lfloor{\\frac{\\left\\lfloor{a_{s} j_{s}^{- e_{s}} \\left(j_{s} + 1\\right)^{e_{s}}}\\right\\rfloor}{w_{s}}}\\right\\rfloor\\right)}{- l_{s} w_{b} + w_{b} \\left\\lfloor{\\frac{\\left\\lfloor{a_{s} j_{s}^{- e_{s}} \\left(j_{s} + 1\\right)^{e_{s}}}\\right\\rfloor}{w_{s}}}\\right\\rfloor + w_{s} \\left\\lfloor{\\frac{\\left\\lfloor{a_{s} j_{s}^{- e_{s}} \\left(j_{s} + 1\\right)^{e_{s}}}\\right\\rfloor}{w_{s}}}\\right\\rfloor}}\\right\\rfloor\\right)$"
      ],
      "text/plain": [
       "s_b <= w_b*(l_b - floor(l_b*w_b*(-l_s + floor(floor(a_s*(j_s + 1)**e_s/j_s**e_s)/w_s))/(-l_s*w_b + w_b*floor(floor(a_s*(j_s + 1)**e_s/j_s**e_s)/w_s) + w_s*floor(floor(a_s*(j_s + 1)**e_s/j_s**e_s)/w_s))))"
      ]
     },
     "execution_count": 48,
     "metadata": {},
     "output_type": "execute_result"
    }
   ],
   "source": [
    "spotBySpot_s.subs({s_s: spotByExp['s']}).simplify()"
   ]
  },
  {
   "cell_type": "code",
   "execution_count": 50,
   "metadata": {},
   "outputs": [
    {
     "data": {
      "text/latex": [
       "$\\displaystyle e_{b} \\leq \\left\\lceil{\\log{\\left(\\left(\\frac{w_{b} \\left(l_{b} - \\left\\lfloor{\\frac{l_{b} w_{b} \\left(- l_{s} + \\left\\lfloor{\\frac{\\left\\lfloor{a_{s} j_{s}^{- e_{s}} \\left(j_{s} + 1\\right)^{e_{s}}}\\right\\rfloor}{w_{s}}}\\right\\rfloor\\right)}{- l_{s} w_{b} + w_{b} \\left\\lfloor{\\frac{\\left\\lfloor{a_{s} j_{s}^{- e_{s}} \\left(j_{s} + 1\\right)^{e_{s}}}\\right\\rfloor}{w_{s}}}\\right\\rfloor + w_{s} \\left\\lfloor{\\frac{\\left\\lfloor{a_{s} j_{s}^{- e_{s}} \\left(j_{s} + 1\\right)^{e_{s}}}\\right\\rfloor}{w_{s}}}\\right\\rfloor}}\\right\\rfloor\\right)}{a_{b}}\\right)^{\\frac{1}{\\log{\\left(\\frac{j_{b} + 1}{j_{b}} \\right)}}} \\right)}}\\right\\rceil$"
      ],
      "text/plain": [
       "e_b <= ceiling(log((w_b*(l_b - floor(l_b*w_b*(-l_s + floor(floor(a_s*(j_s + 1)**e_s/j_s**e_s)/w_s))/(-l_s*w_b + w_b*floor(floor(a_s*(j_s + 1)**e_s/j_s**e_s)/w_s) + w_s*floor(floor(a_s*(j_s + 1)**e_s/j_s**e_s)/w_s))))/a_b)**(1/log((j_b + 1)/j_b))))"
      ]
     },
     "execution_count": 50,
     "metadata": {},
     "output_type": "execute_result"
    }
   ],
   "source": [
    "expBySpot['b'].subs({s_b: spotBySpot_s.rhs.subs({s_s: spotByExp['s']}).simplify()}).simplify()"
   ]
  },
  {
   "cell_type": "code",
   "execution_count": null,
   "metadata": {},
   "outputs": [],
   "source": []
  }
 ],
 "metadata": {
  "kernelspec": {
   "display_name": "Python 3",
   "language": "python",
   "name": "python3"
  },
  "language_info": {
   "codemirror_mode": {
    "name": "ipython",
    "version": 3
   },
   "file_extension": ".py",
   "mimetype": "text/x-python",
   "name": "python",
   "nbconvert_exporter": "python",
   "pygments_lexer": "ipython3",
   "version": "3.9.16"
  }
 },
 "nbformat": 4,
 "nbformat_minor": 2
}
