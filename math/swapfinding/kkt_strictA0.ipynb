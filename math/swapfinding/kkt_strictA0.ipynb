{
 "cells": [
  {
   "cell_type": "code",
   "execution_count": 1,
   "metadata": {},
   "outputs": [],
   "source": [
    "from sympy import symbols, simplify, hessian, solveset, S, solve, log, And, Le, Ge, Eq, Lt, Gt"
   ]
  },
  {
   "cell_type": "code",
   "execution_count": 2,
   "metadata": {},
   "outputs": [
    {
     "data": {
      "text/plain": [
       "{'b': dict_values([s_b, v_b, b_b, w_b, j_b, e_b, Delta_b, a_b]),\n",
       " 's': dict_values([s_s, v_s, b_s, w_s, j_s, e_s, Delta_s, a_s])}"
      ]
     },
     "execution_count": 2,
     "metadata": {},
     "output_type": "execute_result"
    }
   ],
   "source": [
    "assets = ['b', 's']  # buying and selling assets\n",
    "base_symbols = ['s', 'v', 'b', 'w', 'j', 'e', 'Delta', 'a'] \n",
    "# spot price, virtual liquidity, balance, weight, jump size, exponent, delta, anchor price, amm-price, jump-multiplier\n",
    "\n",
    "all_symbols = {}\n",
    "\n",
    "for asset in assets:\n",
    "    temp_dict = {}\n",
    "    for base in base_symbols:\n",
    "        var_name = f\"{base}_{asset}\"\n",
    "        if base == 'e' or base == 'Delta':\n",
    "            symbol_obj = symbols(var_name, integer=True)\n",
    "        elif base == 'b':\n",
    "            symbol_obj = symbols(var_name, nonnegative=True, integer=True)\n",
    "        else:\n",
    "            symbol_obj = symbols(var_name, positive=True, integer=True)\n",
    "        temp_dict[var_name] = symbol_obj\n",
    "        # Define the variable in the global namespace\n",
    "        globals()[var_name] = symbol_obj\n",
    "    all_symbols[asset] = temp_dict.values()\n",
    "all_symbols"
   ]
  },
  {
   "cell_type": "code",
   "execution_count": 3,
   "metadata": {},
   "outputs": [],
   "source": [
    "simp = True"
   ]
  },
  {
   "cell_type": "markdown",
   "metadata": {},
   "source": [
    "## Target function\n",
    "\n",
    "we want to minimize the effective price, given a set of exponents for the buying and selling asset each."
   ]
  },
  {
   "cell_type": "code",
   "execution_count": 4,
   "metadata": {},
   "outputs": [
    {
     "data": {
      "text/latex": [
       "$\\displaystyle - b_{b} + \\frac{s_{b}}{w_{b}} - v_{b}$"
      ],
      "text/plain": [
       "-b_b + s_b/w_b - v_b"
      ]
     },
     "execution_count": 4,
     "metadata": {},
     "output_type": "execute_result"
    }
   ],
   "source": [
    "# linear\n",
    "def deltaBySpot_(s,v, b, w, j, e, Delta, a):\n",
    "  f = (s - (v + b) * w) / w\n",
    "  if simp:\n",
    "    f = simplify(f)\n",
    "  return f\n",
    "\n",
    "deltaBySpot = {asset: deltaBySpot_(*all_symbols[asset]) for asset in assets}\n",
    "deltaBySpot['b']"
   ]
  },
  {
   "cell_type": "code",
   "execution_count": 5,
   "metadata": {},
   "outputs": [
    {
     "data": {
      "text/latex": [
       "$\\displaystyle a_{b} \\left(\\frac{j_{b} + 1}{j_{b}}\\right)^{e_{b}}$"
      ],
      "text/plain": [
       "a_b*((j_b + 1)/j_b)**e_b"
      ]
     },
     "execution_count": 5,
     "metadata": {},
     "output_type": "execute_result"
    }
   ],
   "source": [
    "# convex\n",
    "def spotByExp_(s, v, b, w, j, e, Delta, a):\n",
    "  f = a * ((1 + 1/j) ** e)\n",
    "  if simp:\n",
    "    f = simplify(f)\n",
    "  return f\n",
    "spotByExp = {asset: spotByExp_(*all_symbols[asset]) for asset in assets}\n",
    "spotByExp['b']"
   ]
  },
  {
   "cell_type": "code",
   "execution_count": 6,
   "metadata": {},
   "outputs": [
    {
     "data": {
      "text/latex": [
       "$\\displaystyle \\frac{a_{b} j_{b}^{- e_{b}} \\left(j_{b} + 1\\right)^{e_{b}}}{w_{b}} - b_{b} - v_{b}$"
      ],
      "text/plain": [
       "a_b*j_b**(-e_b)*(j_b + 1)**e_b/w_b - b_b - v_b"
      ]
     },
     "execution_count": 6,
     "metadata": {},
     "output_type": "execute_result"
    }
   ],
   "source": [
    "# convex\n",
    "def deltaByExp_(asset, s, v, b, w, j, e, Delta, a):\n",
    "    f = deltaBySpot[asset].subs(s, spotByExp[asset])\n",
    "    if simp:\n",
    "        f = simplify(f)\n",
    "    return f\n",
    "\n",
    "deltaByExp = {asset: deltaByExp_(asset, *all_symbols[asset]) for asset in assets}\n",
    "deltaByExp['b']"
   ]
  },
  {
   "cell_type": "code",
   "execution_count": 7,
   "metadata": {},
   "outputs": [
    {
     "data": {
      "text/latex": [
       "$\\displaystyle - \\frac{\\Delta_{s}}{\\Delta_{b}}$"
      ],
      "text/plain": [
       "-Delta_s/Delta_b"
      ]
     },
     "execution_count": 7,
     "metadata": {},
     "output_type": "execute_result"
    }
   ],
   "source": [
    "# convex\n",
    "eff = Delta_s / -Delta_b\n",
    "eff"
   ]
  },
  {
   "cell_type": "code",
   "execution_count": 9,
   "metadata": {},
   "outputs": [
    {
     "data": {
      "text/latex": [
       "$\\displaystyle \\frac{a_{b} \\left(\\frac{j_{b} + 1}{j_{b}}\\right)^{e_{b}} \\left(j_{s} + 1\\right)^{- e_{s}} \\left(a_{s} \\left(j_{s} + 1\\right)^{e_{s}} - j_{s}^{e_{s}} w_{s} \\left(b_{s} + v_{s}\\right)\\right)}{a_{s} w_{s}}$"
      ],
      "text/plain": [
       "a_b*((j_b + 1)/j_b)**e_b*(j_s + 1)**(-e_s)*(a_s*(j_s + 1)**e_s - j_s**e_s*w_s*(b_s + v_s))/(a_s*w_s)"
      ]
     },
     "execution_count": 9,
     "metadata": {},
     "output_type": "execute_result"
    }
   ],
   "source": [
    "Delta_b_by_Exp_s = deltaByExp['s'] * spotByExp['b'] / spotByExp['s']\n",
    "if simp:\n",
    "    Delta_b_by_Exp_s = simplify(Delta_b_by_Exp_s)\n",
    "Delta_b_by_Exp_s"
   ]
  },
  {
   "cell_type": "code",
   "execution_count": 10,
   "metadata": {},
   "outputs": [
    {
     "data": {
      "text/latex": [
       "$\\displaystyle \\frac{a_{s} \\left(\\frac{j_{s} + 1}{j_{s}}\\right)^{e_{s}} \\left(j_{b} + 1\\right)^{- e_{b}} \\left(a_{b} \\left(j_{b} + 1\\right)^{e_{b}} - j_{b}^{e_{b}} w_{b} \\left(b_{b} + v_{b}\\right)\\right)}{a_{b} w_{b}}$"
      ],
      "text/plain": [
       "a_s*((j_s + 1)/j_s)**e_s*(j_b + 1)**(-e_b)*(a_b*(j_b + 1)**e_b - j_b**e_b*w_b*(b_b + v_b))/(a_b*w_b)"
      ]
     },
     "execution_count": 10,
     "metadata": {},
     "output_type": "execute_result"
    }
   ],
   "source": [
    "Delta_s_by_Exp_b = deltaByExp['b'] * spotByExp['s'] / spotByExp['b']\n",
    "if simp:\n",
    "    Delta_s_by_Exp_b = simplify(Delta_s_by_Exp_b)\n",
    "Delta_s_by_Exp_b"
   ]
  },
  {
   "cell_type": "code",
   "execution_count": 11,
   "metadata": {},
   "outputs": [
    {
     "data": {
      "text/latex": [
       "$\\displaystyle - \\frac{a_{s} \\left(\\frac{j_{b}}{j_{b} + 1}\\right)^{e_{b}} \\left(\\frac{j_{s} + 1}{j_{s}}\\right)^{e_{s}}}{a_{b}}$"
      ],
      "text/plain": [
       "-a_s*(j_b/(j_b + 1))**e_b*((j_s + 1)/j_s)**e_s/a_b"
      ]
     },
     "execution_count": 11,
     "metadata": {},
     "output_type": "execute_result"
    }
   ],
   "source": [
    "effByExp_b = eff.subs({Delta_b: deltaByExp['b'], Delta_s: Delta_s_by_Exp_b})\n",
    "if simp:\n",
    "    effByExp_b = simplify(effByExp_b)\n",
    "effByExp_b"
   ]
  },
  {
   "cell_type": "code",
   "execution_count": 12,
   "metadata": {},
   "outputs": [
    {
     "data": {
      "text/latex": [
       "$\\displaystyle - \\frac{a_{s} \\left(\\frac{j_{b}}{j_{b} + 1}\\right)^{e_{b}} \\left(\\frac{j_{s} + 1}{j_{s}}\\right)^{e_{s}}}{a_{b}}$"
      ],
      "text/plain": [
       "-a_s*(j_b/(j_b + 1))**e_b*((j_s + 1)/j_s)**e_s/a_b"
      ]
     },
     "execution_count": 12,
     "metadata": {},
     "output_type": "execute_result"
    }
   ],
   "source": [
    "effByExp_s = eff.subs({Delta_b: Delta_b_by_Exp_s, Delta_s: deltaByExp['s']})\n",
    "if simp:\n",
    "    effByExp_s = simplify(effByExp_s)\n",
    "effByExp_s"
   ]
  },
  {
   "cell_type": "code",
   "execution_count": 13,
   "metadata": {},
   "outputs": [
    {
     "data": {
      "text/latex": [
       "$\\displaystyle 0$"
      ],
      "text/plain": [
       "0"
      ]
     },
     "execution_count": 13,
     "metadata": {},
     "output_type": "execute_result"
    }
   ],
   "source": [
    "simplify(effByExp_b - effByExp_s)"
   ]
  },
  {
   "cell_type": "code",
   "execution_count": 14,
   "metadata": {},
   "outputs": [],
   "source": [
    "effByExps = effByExp_b"
   ]
  },
  {
   "cell_type": "code",
   "execution_count": null,
   "metadata": {},
   "outputs": [],
   "source": [
    "si"
   ]
  },
  {
   "cell_type": "code",
   "execution_count": 15,
   "metadata": {},
   "outputs": [
    {
     "data": {
      "text/latex": [
       "$\\displaystyle \\left[\\begin{matrix}- \\frac{a_{s} \\left(\\frac{j_{b}}{j_{b} + 1}\\right)^{e_{b}} \\left(\\frac{j_{s} + 1}{j_{s}}\\right)^{e_{s}} \\log{\\left(\\frac{j_{s} + 1}{j_{s}} \\right)}^{2}}{a_{b}} & - \\frac{a_{s} \\left(\\frac{j_{b}}{j_{b} + 1}\\right)^{e_{b}} \\left(\\frac{j_{s} + 1}{j_{s}}\\right)^{e_{s}} \\log{\\left(\\frac{j_{b}}{j_{b} + 1} \\right)} \\log{\\left(\\frac{j_{s} + 1}{j_{s}} \\right)}}{a_{b}}\\\\- \\frac{a_{s} \\left(\\frac{j_{b}}{j_{b} + 1}\\right)^{e_{b}} \\left(\\frac{j_{s} + 1}{j_{s}}\\right)^{e_{s}} \\log{\\left(\\frac{j_{b}}{j_{b} + 1} \\right)} \\log{\\left(\\frac{j_{s} + 1}{j_{s}} \\right)}}{a_{b}} & - \\frac{a_{s} \\left(\\frac{j_{b}}{j_{b} + 1}\\right)^{e_{b}} \\left(\\frac{j_{s} + 1}{j_{s}}\\right)^{e_{s}} \\log{\\left(\\frac{j_{b}}{j_{b} + 1} \\right)}^{2}}{a_{b}}\\end{matrix}\\right]$"
      ],
      "text/plain": [
       "Matrix([\n",
       "[                -a_s*(j_b/(j_b + 1))**e_b*((j_s + 1)/j_s)**e_s*log((j_s + 1)/j_s)**2/a_b, -a_s*(j_b/(j_b + 1))**e_b*((j_s + 1)/j_s)**e_s*log(j_b/(j_b + 1))*log((j_s + 1)/j_s)/a_b],\n",
       "[-a_s*(j_b/(j_b + 1))**e_b*((j_s + 1)/j_s)**e_s*log(j_b/(j_b + 1))*log((j_s + 1)/j_s)/a_b,                 -a_s*(j_b/(j_b + 1))**e_b*((j_s + 1)/j_s)**e_s*log(j_b/(j_b + 1))**2/a_b]])"
      ]
     },
     "execution_count": 15,
     "metadata": {},
     "output_type": "execute_result"
    }
   ],
   "source": [
    "H = hessian(effByExps, [e_s, e_b])\n",
    "H"
   ]
  },
  {
   "cell_type": "code",
   "execution_count": 17,
   "metadata": {},
   "outputs": [
    {
     "data": {
      "text/latex": [
       "$\\displaystyle - \\frac{a_{s} \\left(\\frac{j_{b}}{j_{b} + 1}\\right)^{e_{b}} \\left(\\frac{j_{s} + 1}{j_{s}}\\right)^{e_{s}} \\log{\\left(\\frac{j_{s} + 1}{j_{s}} \\right)}^{2}}{a_{b}}$"
      ],
      "text/plain": [
       "-a_s*(j_b/(j_b + 1))**e_b*((j_s + 1)/j_s)**e_s*log((j_s + 1)/j_s)**2/a_b"
      ]
     },
     "execution_count": 17,
     "metadata": {},
     "output_type": "execute_result"
    }
   ],
   "source": [
    "topLeft = simplify(H[0, 0])\n",
    "topLeft"
   ]
  },
  {
   "cell_type": "markdown",
   "metadata": {},
   "source": [
    "-> negative --> at best concave"
   ]
  },
  {
   "cell_type": "code",
   "execution_count": 19,
   "metadata": {},
   "outputs": [
    {
     "data": {
      "text/latex": [
       "$\\displaystyle 0$"
      ],
      "text/plain": [
       "0"
      ]
     },
     "execution_count": 19,
     "metadata": {},
     "output_type": "execute_result"
    }
   ],
   "source": [
    "det = H.det()\n",
    "det"
   ]
  },
  {
   "cell_type": "code",
   "execution_count": 20,
   "metadata": {},
   "outputs": [
    {
     "name": "stdout",
     "output_type": "stream",
     "text": [
      "-a_s*(j_b/(j_b + 1))**e_b*((j_s + 1)/j_s)**e_s/a_b\n"
     ]
    }
   ],
   "source": [
    "print(effByExps)"
   ]
  },
  {
   "cell_type": "code",
   "execution_count": null,
   "metadata": {},
   "outputs": [],
   "source": []
  },
  {
   "cell_type": "code",
   "execution_count": null,
   "metadata": {},
   "outputs": [],
   "source": []
  },
  {
   "cell_type": "markdown",
   "metadata": {},
   "source": [
    "### convexity of the target function\n",
    "\n",
    "- deltaBySpot is linear\n",
    "- spotByExp is convex\n",
    "- deltaByExp is a composition of the two\n",
    "\n",
    "=> deltaByExp is convex\n",
    "\n",
    "- negation flips convexity/concavity\n",
    "- deltaBuyingByExp is negative => -deltaBuyingByExp is positive\n",
    "- inversion of a positive function flips convexity/concavity => 1 / (-deltaBuyingByExp) is convex\n",
    "- multiplying two nonnegative functions with different variables, that are each convex and independent of the other's variable, results in a convex function\n",
    "\n",
    "==> effectivePrice = deltaSellingByExp / (-deltaBuyingByExp) is convex. qed\n"
   ]
  },
  {
   "cell_type": "markdown",
   "metadata": {},
   "source": []
  },
  {
   "cell_type": "markdown",
   "metadata": {},
   "source": [
    "## inequality-constraints\n",
    "\n",
    "- value in A0 of buying must not exceed that of selling\n",
    "- the exponents must adhere to their upper (buying) resp. lower (selling) bounds given by our equation\n",
    "- need to buy and sell minimum amounts (TODO)\n",
    "- cannot buy more than the available balance\n",
    "- cannot sell more than maxSelling\n",
    "- the spot prices must not exceed maxInteger\n",
    "- bonus: the total number of multiplications for both exponentiations must not exceed expLimit (TODO)"
   ]
  },
  {
   "cell_type": "code",
   "execution_count": null,
   "metadata": {},
   "outputs": [],
   "source": [
    "# convex\n",
    "a0Buying = spotByExp['s'] * deltaByExp['b']\n",
    "if simp:\n",
    "    a0Buying = simplify(a0Buying)\n",
    "a0Buying"
   ]
  },
  {
   "cell_type": "code",
   "execution_count": null,
   "metadata": {},
   "outputs": [],
   "source": [
    "# convex\n",
    "a0Selling = spotByExp['b'] * deltaByExp['s']\n",
    "if simp:\n",
    "    a0Selling = simplify(a0Selling)\n",
    "a0Selling"
   ]
  },
  {
   "cell_type": "code",
   "execution_count": null,
   "metadata": {},
   "outputs": [],
   "source": [
    "\n",
    "a0Bound = a0Buying - a0Selling # <=! 0\n",
    "if simp:\n",
    "    a0Bound = simplify(a0Bound)\n",
    "a0Bound"
   ]
  },
  {
   "cell_type": "code",
   "execution_count": null,
   "metadata": {},
   "outputs": [],
   "source": [
    "def expBound_(asset, s, v, b, w, j, e, Delta, a):\n",
    "    e_bound = log(w * (v + b) /a, 1 + 1/j) # constant wrt e\n",
    "    if simp:\n",
    "        e_bound = simplify(e_bound)\n",
    "    if asset == 'b':\n",
    "        f = e - e_bound # <=! 0 (upper bound)\n",
    "    else:\n",
    "        f = e_bound - e # <=! 0 (lower bound)\n",
    "    if simp:\n",
    "        f = simplify(f)\n",
    "    return f\n",
    "\n",
    "expBound = {asset: expBound_(asset, *all_symbols[asset]) for asset in assets}\n",
    "expBound['b']"
   ]
  },
  {
   "cell_type": "code",
   "execution_count": null,
   "metadata": {},
   "outputs": [],
   "source": [
    "expBound['s']"
   ]
  },
  {
   "cell_type": "code",
   "execution_count": null,
   "metadata": {},
   "outputs": [],
   "source": [
    "maxBuyingBound = -Delta_b - b_b # <=! 0\n",
    "maxBuyingBound = maxBuyingBound.subs({Delta_b: deltaByExp['b']})\n",
    "if simp:\n",
    "    maxBuyingBound = simplify(maxBuyingBound)\n",
    "maxBuyingBound"
   ]
  },
  {
   "cell_type": "code",
   "execution_count": null,
   "metadata": {},
   "outputs": [],
   "source": [
    "max_s, max_I = symbols('max_s, max_I', positive=True, integer=True)\n",
    "\n",
    "maxSellingBound = Delta_s - max_s # <=! 0\n",
    "maxSellingBound = maxSellingBound.subs({Delta_s: deltaByExp['s']})\n",
    "if simp:\n",
    "    maxSellingBound = simplify(maxSellingBound)\n",
    "maxSellingBound"
   ]
  },
  {
   "cell_type": "code",
   "execution_count": null,
   "metadata": {},
   "outputs": [],
   "source": [
    "def maxSpotBound_(asset, s, v, b, w, j, e, Delta, a):\n",
    "  return spotByExp[asset] - max_I # <=! 0\n",
    "\n",
    "maxSpotBound = {asset: maxSpotBound_(asset, *all_symbols[asset]) for asset in assets}\n",
    "maxSpotBound['b']"
   ]
  },
  {
   "cell_type": "markdown",
   "metadata": {},
   "source": [
    "## Lagrangian"
   ]
  },
  {
   "cell_type": "code",
   "execution_count": null,
   "metadata": {},
   "outputs": [],
   "source": [
    "l1, l2, l3, l4, l5, l6, l7 = symbols('lambda_1 lambda_2 lambda_3 lambda_4 lambda_5 lambda_6 lambda_7', positive=True)\n",
    "\n",
    "L = effByExps + + l1 * a0Bound + l2 * expBound['b'] + l3 * expBound['s'] + l4 * maxBuyingBound + l5 * maxSellingBound + l6 * maxSpotBound['b'] + l7 * maxSpotBound['s']\n",
    "if simp:\n",
    "    L = simplify(L)\n",
    "L"
   ]
  },
  {
   "cell_type": "code",
   "execution_count": null,
   "metadata": {},
   "outputs": [],
   "source": [
    "# Partial derivatives\n",
    "dL_des = L.diff(e_s)\n",
    "dL_deb = L.diff(e_b)\n",
    "dL_dl1 = L.diff(l1)\n",
    "dL_dl2 = L.diff(l2)\n",
    "dL_dl3 = L.diff(l3)\n",
    "dL_dl4 = L.diff(l4)\n",
    "dL_dl5 = L.diff(l5)\n",
    "dL_dl6 = L.diff(l6)\n",
    "dL_dl7 = L.diff(l7)\n",
    "\n",
    "# Set them to zero\n",
    "stationary_conditions = [\n",
    "    Eq(dL_des, 0),\n",
    "    Eq(dL_deb, 0),\n",
    "    Eq(dL_dl1, 0),\n",
    "    Eq(dL_dl2, 0),\n",
    "    Eq(dL_dl3, 0),\n",
    "    Eq(dL_dl4, 0),\n",
    "    Eq(dL_dl5, 0),\n",
    "    Eq(dL_dl6, 0),\n",
    "    Eq(dL_dl7, 0),\n",
    "]"
   ]
  },
  {
   "cell_type": "code",
   "execution_count": null,
   "metadata": {},
   "outputs": [],
   "source": [
    "solutions_ = solve(stationary_conditions, (e_s, e_b, l1, l2, l3, l4, l5, l6, l7))\n",
    "\n",
    "print(len(solutions_))\n",
    "solutions = solutions_[0]\n",
    "e_s_sol, e_b_sol, l1_sol, l2_sol, l3_sol, l4_sol, l5_sol, l6_sol, l7_sol = solutions\n",
    "# e_s_sol, e_b_sol, l1_sol, l2_sol, l3_sol = solutions\n",
    "solutions"
   ]
  },
  {
   "cell_type": "code",
   "execution_count": null,
   "metadata": {},
   "outputs": [],
   "source": [
    "e_s_sol"
   ]
  },
  {
   "cell_type": "code",
   "execution_count": null,
   "metadata": {},
   "outputs": [],
   "source": [
    "e_b_sol"
   ]
  },
  {
   "cell_type": "code",
   "execution_count": null,
   "metadata": {},
   "outputs": [],
   "source": [
    "l1_sol"
   ]
  },
  {
   "cell_type": "code",
   "execution_count": null,
   "metadata": {},
   "outputs": [],
   "source": [
    "l2_sol"
   ]
  },
  {
   "cell_type": "code",
   "execution_count": null,
   "metadata": {},
   "outputs": [],
   "source": [
    "l3_sol"
   ]
  },
  {
   "cell_type": "code",
   "execution_count": null,
   "metadata": {},
   "outputs": [],
   "source": [
    "l4_sol"
   ]
  },
  {
   "cell_type": "code",
   "execution_count": null,
   "metadata": {},
   "outputs": [],
   "source": [
    "l5_sol"
   ]
  },
  {
   "cell_type": "code",
   "execution_count": null,
   "metadata": {},
   "outputs": [],
   "source": [
    "l6_sol"
   ]
  },
  {
   "cell_type": "code",
   "execution_count": null,
   "metadata": {},
   "outputs": [],
   "source": [
    "l7_sol"
   ]
  },
  {
   "cell_type": "code",
   "execution_count": null,
   "metadata": {},
   "outputs": [],
   "source": [
    "for sol in solutions:\n",
    "  print(sol.free_symbols)"
   ]
  },
  {
   "cell_type": "code",
   "execution_count": null,
   "metadata": {},
   "outputs": [],
   "source": []
  }
 ],
 "metadata": {
  "kernelspec": {
   "display_name": "Python 3",
   "language": "python",
   "name": "python3"
  },
  "language_info": {
   "codemirror_mode": {
    "name": "ipython",
    "version": 3
   },
   "file_extension": ".py",
   "mimetype": "text/x-python",
   "name": "python",
   "nbconvert_exporter": "python",
   "pygments_lexer": "ipython3",
   "version": "3.9.16"
  }
 },
 "nbformat": 4,
 "nbformat_minor": 2
}
