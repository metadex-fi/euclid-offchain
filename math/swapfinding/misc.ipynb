{
 "cells": [
  {
   "cell_type": "code",
   "execution_count": 1,
   "metadata": {},
   "outputs": [],
   "source": [
    "from sympy import symbols, simplify, hessian, solveset, S, solve, log, And, Le, Ge, Eq, Lt, Gt, nonlinsolve, latex, log, Wild, expand_log, logcombine, evaluate,oo, limit,ask, Q, floor, ceiling, lambdify, Sum, sign\n",
    "from IPython.display import display, HTML, Math"
   ]
  },
  {
   "cell_type": "code",
   "execution_count": 2,
   "metadata": {},
   "outputs": [],
   "source": [
    "a,\n",
    "  j,\n",
    "  s,\n",
    "  l,\n",
    "  w,\n",
    "  delta = symbols(\"a j s l w Delta\", integer = True, positive = True);\n",
    "e = symbols(\"e\", integer = True);\n",
    "a0 = symbols(\"a0\");"
   ]
  },
  {
   "cell_type": "code",
   "execution_count": 3,
   "metadata": {},
   "outputs": [
    {
     "data": {
      "text/latex": [
       "$\\displaystyle \\left\\lfloor{\\frac{- l w + s}{w}}\\right\\rfloor$"
      ],
      "text/plain": [
       "floor((-l*w + s)/w)"
      ]
     },
     "execution_count": 3,
     "metadata": {},
     "output_type": "execute_result"
    }
   ],
   "source": [
    "deltaBySpot_s = floor((s - l * w) / w);\n",
    "deltaBySpot_s;"
   ]
  },
  {
   "cell_type": "code",
   "execution_count": 4,
   "metadata": {},
   "outputs": [
    {
     "data": {
      "text/latex": [
       "$\\displaystyle - \\left\\lceil{\\frac{- l w + s}{w}}\\right\\rceil$"
      ],
      "text/plain": [
       "-ceiling((-l*w + s)/w)"
      ]
     },
     "execution_count": 4,
     "metadata": {},
     "output_type": "execute_result"
    }
   ],
   "source": [
    "deltaBySpot_b = -ceiling((s - l * w) / w);\n",
    "deltaBySpot_b;"
   ]
  },
  {
   "cell_type": "code",
   "execution_count": 5,
   "metadata": {},
   "outputs": [
    {
     "data": {
      "text/latex": [
       "$\\displaystyle w \\left(\\Delta + l\\right)$"
      ],
      "text/plain": [
       "w*(Delta + l)"
      ]
     },
     "execution_count": 5,
     "metadata": {},
     "output_type": "execute_result"
    }
   ],
   "source": [
    "spotByDelta_s = w * (l + delta);\n",
    "spotByDelta_s;"
   ]
  },
  {
   "cell_type": "code",
   "execution_count": 6,
   "metadata": {},
   "outputs": [
    {
     "data": {
      "text/latex": [
       "$\\displaystyle w \\left(- \\Delta + l\\right)$"
      ],
      "text/plain": [
       "w*(-Delta + l)"
      ]
     },
     "execution_count": 6,
     "metadata": {},
     "output_type": "execute_result"
    }
   ],
   "source": [
    "spotByDelta_b = w * (l - delta);\n",
    "spotByDelta_b;"
   ]
  },
  {
   "cell_type": "code",
   "execution_count": 7,
   "metadata": {},
   "outputs": [
    {
     "data": {
      "text/latex": [
       "$\\displaystyle \\Delta$"
      ],
      "text/plain": [
       "Delta"
      ]
     },
     "execution_count": 7,
     "metadata": {},
     "output_type": "execute_result"
    }
   ],
   "source": [
    "deltaBySpot_s.subs(s, spotByDelta_s).simplify();"
   ]
  },
  {
   "cell_type": "code",
   "execution_count": 8,
   "metadata": {},
   "outputs": [
    {
     "data": {
      "text/latex": [
       "$\\displaystyle \\Delta$"
      ],
      "text/plain": [
       "Delta"
      ]
     },
     "execution_count": 8,
     "metadata": {},
     "output_type": "execute_result"
    }
   ],
   "source": [
    "deltaBySpot_b.subs(s, spotByDelta_b).simplify();"
   ]
  },
  {
   "cell_type": "code",
   "execution_count": 9,
   "metadata": {},
   "outputs": [
    {
     "data": {
      "text/latex": [
       "$\\displaystyle w \\left\\lfloor{\\frac{s}{w}}\\right\\rfloor$"
      ],
      "text/plain": [
       "w*floor(s/w)"
      ]
     },
     "execution_count": 9,
     "metadata": {},
     "output_type": "execute_result"
    }
   ],
   "source": [
    "spotByDelta_s.subs(delta, deltaBySpot_s).simplify();"
   ]
  },
  {
   "cell_type": "code",
   "execution_count": 10,
   "metadata": {},
   "outputs": [
    {
     "data": {
      "text/latex": [
       "$\\displaystyle w \\left\\lceil{\\frac{s}{w}}\\right\\rceil$"
      ],
      "text/plain": [
       "w*ceiling(s/w)"
      ]
     },
     "execution_count": 10,
     "metadata": {},
     "output_type": "execute_result"
    }
   ],
   "source": [
    "spotByDelta_b.subs(delta, deltaBySpot_b).simplify();"
   ]
  },
  {
   "cell_type": "code",
   "execution_count": 11,
   "metadata": {},
   "outputs": [
    {
     "data": {
      "text/latex": [
       "$\\displaystyle a_{0} = \\frac{\\Delta}{w \\left(\\Delta + l\\right)}$"
      ],
      "text/plain": [
       "Eq(a0, Delta/(w*(Delta + l)))"
      ]
     },
     "execution_count": 11,
     "metadata": {},
     "output_type": "execute_result"
    }
   ],
   "source": [
    "a0ByDelta_s = Eq(a0, delta / spotByDelta_s).simplify();\n",
    "a0ByDelta_s;"
   ]
  },
  {
   "cell_type": "code",
   "execution_count": 12,
   "metadata": {},
   "outputs": [
    {
     "data": {
      "text/latex": [
       "$\\displaystyle a_{0} = \\frac{\\Delta}{w \\left(- \\Delta + l\\right)}$"
      ],
      "text/plain": [
       "Eq(a0, Delta/(w*(-Delta + l)))"
      ]
     },
     "execution_count": 12,
     "metadata": {},
     "output_type": "execute_result"
    }
   ],
   "source": [
    "a0ByDelta_b = Eq(a0, delta / spotByDelta_b).simplify();\n",
    "a0ByDelta_b;"
   ]
  },
  {
   "cell_type": "code",
   "execution_count": 13,
   "metadata": {},
   "outputs": [
    {
     "data": {
      "text/latex": [
       "$\\displaystyle a_{0} = \\frac{- l + \\left\\lfloor{\\frac{s}{w}}\\right\\rfloor}{s}$"
      ],
      "text/plain": [
       "Eq(a0, (-l + floor(s/w))/s)"
      ]
     },
     "execution_count": 13,
     "metadata": {},
     "output_type": "execute_result"
    }
   ],
   "source": [
    "a0BySpot_s = Eq(a0, deltaBySpot_s / s).simplify();\n",
    "a0BySpot_s;"
   ]
  },
  {
   "cell_type": "code",
   "execution_count": 14,
   "metadata": {},
   "outputs": [
    {
     "data": {
      "text/latex": [
       "$\\displaystyle a_{0} = \\frac{l - \\left\\lceil{\\frac{s}{w}}\\right\\rceil}{s}$"
      ],
      "text/plain": [
       "Eq(a0, (l - ceiling(s/w))/s)"
      ]
     },
     "execution_count": 14,
     "metadata": {},
     "output_type": "execute_result"
    }
   ],
   "source": [
    "a0BySpot_b = Eq(a0, deltaBySpot_b / s).simplify();\n",
    "a0BySpot_b;"
   ]
  },
  {
   "cell_type": "code",
   "execution_count": 15,
   "metadata": {},
   "outputs": [
    {
     "data": {
      "text/latex": [
       "$\\displaystyle \\left\\{- \\frac{a_{0} l w}{a_{0} w - 1}\\right\\} \\setminus \\left\\{- l\\right\\}$"
      ],
      "text/plain": [
       "Complement({-a0*l*w/(a0*w - 1)}, {-l})"
      ]
     },
     "execution_count": 15,
     "metadata": {},
     "output_type": "execute_result"
    }
   ],
   "source": [
    "solveset(a0ByDelta_s, delta).simplify();"
   ]
  },
  {
   "cell_type": "code",
   "execution_count": 16,
   "metadata": {},
   "outputs": [
    {
     "data": {
      "text/latex": [
       "$\\displaystyle \\left\\{\\frac{a_{0} l w}{a_{0} w + 1}\\right\\} \\setminus \\left\\{l\\right\\}$"
      ],
      "text/plain": [
       "Complement({a0*l*w/(a0*w + 1)}, {l})"
      ]
     },
     "execution_count": 16,
     "metadata": {},
     "output_type": "execute_result"
    }
   ],
   "source": [
    "solveset(a0ByDelta_b, delta).simplify();"
   ]
  },
  {
   "cell_type": "code",
   "execution_count": 17,
   "metadata": {},
   "outputs": [
    {
     "data": {
      "text/latex": [
       "$\\displaystyle \\left\\{s\\; \\middle|\\; s \\in \\mathbb{C} \\wedge - a_{0} s - l + \\left\\lfloor{\\frac{s}{w}}\\right\\rfloor = 0 \\right\\} \\setminus \\left\\{0\\right\\}$"
      ],
      "text/plain": [
       "Complement(ConditionSet(s, Eq(-a0*s - l + floor(s/w), 0), Complexes), {0})"
      ]
     },
     "execution_count": 17,
     "metadata": {},
     "output_type": "execute_result"
    }
   ],
   "source": [
    "solveset(a0BySpot_s, s).simplify();"
   ]
  },
  {
   "cell_type": "code",
   "execution_count": 18,
   "metadata": {},
   "outputs": [
    {
     "data": {
      "text/latex": [
       "$\\displaystyle \\left\\{s\\; \\middle|\\; s \\in \\mathbb{C} \\wedge - a_{0} s + l - \\left\\lceil{\\frac{s}{w}}\\right\\rceil = 0 \\right\\} \\setminus \\left\\{0\\right\\}$"
      ],
      "text/plain": [
       "Complement(ConditionSet(s, Eq(-a0*s + l - ceiling(s/w), 0), Complexes), {0})"
      ]
     },
     "execution_count": 18,
     "metadata": {},
     "output_type": "execute_result"
    }
   ],
   "source": [
    "solveset(a0BySpot_b, s).simplify();"
   ]
  },
  {
   "cell_type": "code",
   "execution_count": 19,
   "metadata": {},
   "outputs": [
    {
     "data": {
      "text/latex": [
       "$\\displaystyle \\left\\lfloor{a \\left(1 + \\frac{1}{j}\\right)^{e}}\\right\\rfloor$"
      ],
      "text/plain": [
       "floor(a*(1 + 1/j)**e)"
      ]
     },
     "execution_count": 19,
     "metadata": {},
     "output_type": "execute_result"
    }
   ],
   "source": [
    "spotByExp = floor(a * (1 + 1 / j) ** e);\n",
    "spotByExp;"
   ]
  },
  {
   "cell_type": "code",
   "execution_count": 20,
   "metadata": {},
   "outputs": [
    {
     "data": {
      "text/latex": [
       "$\\displaystyle \\left\\lceil{\\frac{- \\log{\\left(a \\right)} + \\log{\\left(s \\right)}}{\\log{\\left(1 + \\frac{1}{j} \\right)}}}\\right\\rceil$"
      ],
      "text/plain": [
       "ceiling((-log(a) + log(s))/log(1 + 1/j))"
      ]
     },
     "execution_count": 20,
     "metadata": {},
     "output_type": "execute_result"
    }
   ],
   "source": [
    "expBySpot = ceiling((log(s) - log(a)) / log(1 + 1 / j));\n",
    "expBySpot;"
   ]
  },
  {
   "cell_type": "code",
   "execution_count": 21,
   "metadata": {},
   "outputs": [
    {
     "data": {
      "text/latex": [
       "$\\displaystyle \\left\\lceil{\\frac{\\log{\\left(\\frac{\\left\\lfloor{a j^{- e} \\left(j + 1\\right)^{e}}\\right\\rfloor}{a} \\right)}}{\\log{\\left(\\frac{j + 1}{j} \\right)}}}\\right\\rceil$"
      ],
      "text/plain": [
       "ceiling(log(floor(a*(j + 1)**e/j**e)/a)/log((j + 1)/j))"
      ]
     },
     "execution_count": 21,
     "metadata": {},
     "output_type": "execute_result"
    }
   ],
   "source": [
    "expBySpot.subs(s, spotByExp).simplify();"
   ]
  },
  {
   "cell_type": "code",
   "execution_count": 22,
   "metadata": {},
   "outputs": [
    {
     "data": {
      "text/latex": [
       "$\\displaystyle \\left\\lfloor{a \\left(\\frac{j + 1}{j}\\right)^{\\left\\lceil{\\log{\\left(a^{- \\frac{1}{\\log{\\left(\\frac{j + 1}{j} \\right)}}} s^{\\frac{1}{\\log{\\left(\\frac{j + 1}{j} \\right)}}} \\right)}}\\right\\rceil}}\\right\\rfloor$"
      ],
      "text/plain": [
       "floor(a*((j + 1)/j)**ceiling(log(s**(1/log((j + 1)/j))/a**(1/log((j + 1)/j)))))"
      ]
     },
     "execution_count": 22,
     "metadata": {},
     "output_type": "execute_result"
    }
   ],
   "source": [
    "spotByExp.subs(e, expBySpot).simplify();"
   ]
  },
  {
   "cell_type": "code",
   "execution_count": null,
   "metadata": {},
   "outputs": [],
   "source": []
  }
 ],
 "metadata": {
  "kernelspec": {
   "display_name": "Python 3",
   "language": "python",
   "name": "python3"
  },
  "language_info": {
   "codemirror_mode": {
    "name": "ipython",
    "version": 3
   },
   "file_extension": ".py",
   "mimetype": "text/x-python",
   "name": "python",
   "nbconvert_exporter": "python",
   "pygments_lexer": "ipython3",
   "version": "3.9.16"
  }
 },
 "nbformat": 4,
 "nbformat_minor": 2
}
