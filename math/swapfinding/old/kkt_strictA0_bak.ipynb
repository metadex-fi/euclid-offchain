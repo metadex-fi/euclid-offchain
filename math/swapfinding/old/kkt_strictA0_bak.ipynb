{
 "cells": [
  {
   "cell_type": "code",
   "execution_count": 1,
   "metadata": {},
   "outputs": [],
   "source": [
    "from sympy import symbols, simplify, hessian, solveset, S, solve, log, And, Le, Ge, Eq, Lt, Gt"
   ]
  },
  {
   "cell_type": "code",
   "execution_count": 2,
   "metadata": {},
   "outputs": [
    {
     "data": {
      "text/plain": [
       "{'b': dict_values([s_b, v_b, b_b, w_b, j_b, e_b, Delta_b, a_b]),\n",
       " 's': dict_values([s_s, v_s, b_s, w_s, j_s, e_s, Delta_s, a_s])}"
      ]
     },
     "execution_count": 2,
     "metadata": {},
     "output_type": "execute_result"
    }
   ],
   "source": [
    "assets = ['b', 's']  # buying and selling assets\n",
    "base_symbols = ['s', 'v', 'b', 'w', 'j', 'e', 'Delta', 'a'] \n",
    "# spot price, virtual liquidity, balance, weight, jump size, exponent, delta, anchor price, amm-price, jump-multiplier\n",
    "\n",
    "all_symbols = {}\n",
    "\n",
    "for asset in assets:\n",
    "    temp_dict = {}\n",
    "    for base in base_symbols:\n",
    "        var_name = f\"{base}_{asset}\"\n",
    "        if base == 'e' or base == 'Delta':\n",
    "            symbol_obj = symbols(var_name, integer=True)\n",
    "        elif base == 'b':\n",
    "            symbol_obj = symbols(var_name, nonnegative=True, integer=True)\n",
    "        else:\n",
    "            symbol_obj = symbols(var_name, positive=True, integer=True)\n",
    "        temp_dict[var_name] = symbol_obj\n",
    "        # Define the variable in the global namespace\n",
    "        globals()[var_name] = symbol_obj\n",
    "    all_symbols[asset] = temp_dict.values()\n",
    "all_symbols"
   ]
  },
  {
   "cell_type": "code",
   "execution_count": 3,
   "metadata": {},
   "outputs": [],
   "source": [
    "simp = True;"
   ]
  },
  {
   "cell_type": "markdown",
   "metadata": {},
   "source": [
    "## Target function\n",
    "\n",
    "we want to minimize the effective price, given a set of exponents for the buying\n",
    "and selling asset each."
   ]
  },
  {
   "cell_type": "code",
   "execution_count": 4,
   "metadata": {},
   "outputs": [
    {
     "data": {
      "text/latex": [
       "$\\displaystyle - b_{b} + \\frac{s_{b}}{w_{b}} - v_{b}$"
      ],
      "text/plain": [
       "-b_b + s_b/w_b - v_b"
      ]
     },
     "execution_count": 4,
     "metadata": {},
     "output_type": "execute_result"
    }
   ],
   "source": [
    "# linear\n",
    "def deltaBySpot_(s,v, b, w, j, e, Delta, a):\n",
    "  f = (s - (v + b) * w) / w\n",
    "  if simp:\n",
    "    f = simplify(f)\n",
    "  return f\n",
    "\n",
    "deltaBySpot = {asset: deltaBySpot_(*all_symbols[asset]) for asset in assets}\n",
    "deltaBySpot['b']"
   ]
  },
  {
   "cell_type": "code",
   "execution_count": 5,
   "metadata": {},
   "outputs": [
    {
     "data": {
      "text/latex": [
       "$\\displaystyle a_{b} \\left(\\frac{j_{b} + 1}{j_{b}}\\right)^{e_{b}}$"
      ],
      "text/plain": [
       "a_b*((j_b + 1)/j_b)**e_b"
      ]
     },
     "execution_count": 5,
     "metadata": {},
     "output_type": "execute_result"
    }
   ],
   "source": [
    "# convex\n",
    "def spotByExp_(s, v, b, w, j, e, Delta, a):\n",
    "  f = a * ((1 + 1/j) ** e)\n",
    "  if simp:\n",
    "    f = simplify(f)\n",
    "  return f\n",
    "spotByExp = {asset: spotByExp_(*all_symbols[asset]) for asset in assets}\n",
    "spotByExp['b']"
   ]
  },
  {
   "cell_type": "code",
   "execution_count": 6,
   "metadata": {},
   "outputs": [
    {
     "data": {
      "text/latex": [
       "$\\displaystyle \\frac{a_{b} j_{b}^{- e_{b}} \\left(j_{b} + 1\\right)^{e_{b}}}{w_{b}} - b_{b} - v_{b}$"
      ],
      "text/plain": [
       "a_b*j_b**(-e_b)*(j_b + 1)**e_b/w_b - b_b - v_b"
      ]
     },
     "execution_count": 6,
     "metadata": {},
     "output_type": "execute_result"
    }
   ],
   "source": [
    "# convex\n",
    "def deltaByExp_(asset, s, v, b, w, j, e, Delta, a):\n",
    "    f = deltaBySpot[asset].subs(s, spotByExp[asset])\n",
    "    if simp:\n",
    "        f = simplify(f)\n",
    "    return f\n",
    "\n",
    "deltaByExp = {asset: deltaByExp_(asset, *all_symbols[asset]) for asset in assets}\n",
    "deltaByExp['b']"
   ]
  },
  {
   "cell_type": "code",
   "execution_count": 7,
   "metadata": {},
   "outputs": [
    {
     "data": {
      "text/latex": [
       "$\\displaystyle - \\frac{\\Delta_{s}}{\\Delta_{b}}$"
      ],
      "text/plain": [
       "-Delta_s/Delta_b"
      ]
     },
     "execution_count": 7,
     "metadata": {},
     "output_type": "execute_result"
    }
   ],
   "source": [
    "#convex;\n",
    "eff = Delta_s / -Delta_b;\n",
    "eff;"
   ]
  },
  {
   "cell_type": "code",
   "execution_count": 8,
   "metadata": {},
   "outputs": [
    {
     "data": {
      "text/latex": [
       "$\\displaystyle \\frac{a_{b} \\left(\\frac{j_{b} + 1}{j_{b}}\\right)^{e_{b}} \\left(j_{s} + 1\\right)^{- e_{s}} \\left(- a_{s} \\left(j_{s} + 1\\right)^{e_{s}} + j_{s}^{e_{s}} w_{s} \\left(b_{s} + v_{s}\\right)\\right)}{a_{s} w_{s}}$"
      ],
      "text/plain": [
       "a_b*((j_b + 1)/j_b)**e_b*(j_s + 1)**(-e_s)*(-a_s*(j_s + 1)**e_s + j_s**e_s*w_s*(b_s + v_s))/(a_s*w_s)"
      ]
     },
     "execution_count": 8,
     "metadata": {},
     "output_type": "execute_result"
    }
   ],
   "source": [
    "Delta_b_by_Exp_s = -deltaByExp['s'] * spotByExp['b'] / spotByExp['s']\n",
    "if simp:\n",
    "    Delta_b_by_Exp_s = simplify(Delta_b_by_Exp_s)\n",
    "Delta_b_by_Exp_s"
   ]
  },
  {
   "cell_type": "code",
   "execution_count": 9,
   "metadata": {},
   "outputs": [
    {
     "data": {
      "text/latex": [
       "$\\displaystyle \\frac{a_{s} \\left(\\frac{j_{s} + 1}{j_{s}}\\right)^{e_{s}} \\left(j_{b} + 1\\right)^{- e_{b}} \\left(- a_{b} \\left(j_{b} + 1\\right)^{e_{b}} + j_{b}^{e_{b}} w_{b} \\left(b_{b} + v_{b}\\right)\\right)}{a_{b} w_{b}}$"
      ],
      "text/plain": [
       "a_s*((j_s + 1)/j_s)**e_s*(j_b + 1)**(-e_b)*(-a_b*(j_b + 1)**e_b + j_b**e_b*w_b*(b_b + v_b))/(a_b*w_b)"
      ]
     },
     "execution_count": 9,
     "metadata": {},
     "output_type": "execute_result"
    }
   ],
   "source": [
    "Delta_s_by_Exp_b = -deltaByExp['b'] * spotByExp['s'] / spotByExp['b']\n",
    "if simp:\n",
    "    Delta_s_by_Exp_b = simplify(Delta_s_by_Exp_b)\n",
    "Delta_s_by_Exp_b"
   ]
  },
  {
   "cell_type": "code",
   "execution_count": 10,
   "metadata": {},
   "outputs": [
    {
     "data": {
      "text/latex": [
       "$\\displaystyle \\frac{a_{s} \\left(\\frac{j_{b}}{j_{b} + 1}\\right)^{e_{b}} \\left(\\frac{j_{s} + 1}{j_{s}}\\right)^{e_{s}}}{a_{b}}$"
      ],
      "text/plain": [
       "a_s*(j_b/(j_b + 1))**e_b*((j_s + 1)/j_s)**e_s/a_b"
      ]
     },
     "execution_count": 10,
     "metadata": {},
     "output_type": "execute_result"
    }
   ],
   "source": [
    "effByExp_b = eff.subs({Delta_b: deltaByExp['b'], Delta_s: Delta_s_by_Exp_b})\n",
    "if simp:\n",
    "    effByExp_b = simplify(effByExp_b)\n",
    "effByExp_b"
   ]
  },
  {
   "cell_type": "code",
   "execution_count": 11,
   "metadata": {},
   "outputs": [
    {
     "data": {
      "text/latex": [
       "$\\displaystyle \\frac{a_{s} \\left(\\frac{j_{b}}{j_{b} + 1}\\right)^{e_{b}} \\left(\\frac{j_{s} + 1}{j_{s}}\\right)^{e_{s}}}{a_{b}}$"
      ],
      "text/plain": [
       "a_s*(j_b/(j_b + 1))**e_b*((j_s + 1)/j_s)**e_s/a_b"
      ]
     },
     "execution_count": 11,
     "metadata": {},
     "output_type": "execute_result"
    }
   ],
   "source": [
    "effByExp_s = eff.subs({Delta_b: Delta_b_by_Exp_s, Delta_s: deltaByExp['s']})\n",
    "if simp:\n",
    "    effByExp_s = simplify(effByExp_s)\n",
    "effByExp_s"
   ]
  },
  {
   "cell_type": "code",
   "execution_count": 12,
   "metadata": {},
   "outputs": [
    {
     "data": {
      "text/latex": [
       "$\\displaystyle 0$"
      ],
      "text/plain": [
       "0"
      ]
     },
     "execution_count": 12,
     "metadata": {},
     "output_type": "execute_result"
    }
   ],
   "source": [
    "simplify(effByExp_b - effByExp_s);"
   ]
  },
  {
   "cell_type": "code",
   "execution_count": 13,
   "metadata": {},
   "outputs": [],
   "source": [
    "effByExps = effByExp_b;"
   ]
  },
  {
   "cell_type": "code",
   "execution_count": 14,
   "metadata": {},
   "outputs": [
    {
     "data": {
      "text/latex": [
       "$\\displaystyle \\left[\\begin{matrix}\\frac{a_{s} \\left(\\frac{j_{b}}{j_{b} + 1}\\right)^{e_{b}} \\left(\\frac{j_{s} + 1}{j_{s}}\\right)^{e_{s}} \\log{\\left(\\frac{j_{b}}{j_{b} + 1} \\right)}^{2}}{a_{b}} & \\frac{a_{s} \\left(\\frac{j_{b}}{j_{b} + 1}\\right)^{e_{b}} \\left(\\frac{j_{s} + 1}{j_{s}}\\right)^{e_{s}} \\log{\\left(\\frac{j_{b}}{j_{b} + 1} \\right)} \\log{\\left(\\frac{j_{s} + 1}{j_{s}} \\right)}}{a_{b}}\\\\\\frac{a_{s} \\left(\\frac{j_{b}}{j_{b} + 1}\\right)^{e_{b}} \\left(\\frac{j_{s} + 1}{j_{s}}\\right)^{e_{s}} \\log{\\left(\\frac{j_{b}}{j_{b} + 1} \\right)} \\log{\\left(\\frac{j_{s} + 1}{j_{s}} \\right)}}{a_{b}} & \\frac{a_{s} \\left(\\frac{j_{b}}{j_{b} + 1}\\right)^{e_{b}} \\left(\\frac{j_{s} + 1}{j_{s}}\\right)^{e_{s}} \\log{\\left(\\frac{j_{s} + 1}{j_{s}} \\right)}^{2}}{a_{b}}\\end{matrix}\\right]$"
      ],
      "text/plain": [
       "Matrix([\n",
       "[                a_s*(j_b/(j_b + 1))**e_b*((j_s + 1)/j_s)**e_s*log(j_b/(j_b + 1))**2/a_b, a_s*(j_b/(j_b + 1))**e_b*((j_s + 1)/j_s)**e_s*log(j_b/(j_b + 1))*log((j_s + 1)/j_s)/a_b],\n",
       "[a_s*(j_b/(j_b + 1))**e_b*((j_s + 1)/j_s)**e_s*log(j_b/(j_b + 1))*log((j_s + 1)/j_s)/a_b,                 a_s*(j_b/(j_b + 1))**e_b*((j_s + 1)/j_s)**e_s*log((j_s + 1)/j_s)**2/a_b]])"
      ]
     },
     "execution_count": 14,
     "metadata": {},
     "output_type": "execute_result"
    }
   ],
   "source": [
    "H = hessian(effByExps, [e_b, e_s]);\n",
    "H;"
   ]
  },
  {
   "cell_type": "code",
   "execution_count": 15,
   "metadata": {},
   "outputs": [
    {
     "data": {
      "text/latex": [
       "$\\displaystyle \\frac{a_{s} \\left(\\frac{j_{b}}{j_{b} + 1}\\right)^{e_{b}} \\left(\\frac{j_{s} + 1}{j_{s}}\\right)^{e_{s}} \\log{\\left(\\frac{j_{b}}{j_{b} + 1} \\right)}^{2}}{a_{b}}$"
      ],
      "text/plain": [
       "a_s*(j_b/(j_b + 1))**e_b*((j_s + 1)/j_s)**e_s*log(j_b/(j_b + 1))**2/a_b"
      ]
     },
     "execution_count": 15,
     "metadata": {},
     "output_type": "execute_result"
    }
   ],
   "source": [
    "topLeft = simplify(H[0, 0]);\n",
    "topLeft;"
   ]
  },
  {
   "cell_type": "markdown",
   "metadata": {},
   "source": [
    "-> positive"
   ]
  },
  {
   "cell_type": "code",
   "execution_count": 16,
   "metadata": {},
   "outputs": [
    {
     "data": {
      "text/latex": [
       "$\\displaystyle 0$"
      ],
      "text/plain": [
       "0"
      ]
     },
     "execution_count": 16,
     "metadata": {},
     "output_type": "execute_result"
    }
   ],
   "source": [
    "det = H.det();\n",
    "det;"
   ]
  },
  {
   "cell_type": "markdown",
   "metadata": {},
   "source": [
    "## inequality-constraints\n",
    "\n",
    "- the exponents must adhere to their upper (buying) resp. lower (selling) bounds\n",
    "  given by our equation\n",
    "- need to buy and sell minimum amounts (TODO)\n",
    "- cannot buy more than the available balance\n",
    "- cannot sell more than maxSelling\n",
    "- the spot prices must not exceed maxInteger\n",
    "- bonus: the total number of multiplications for both exponentiations must not\n",
    "  exceed expLimit (TODO)"
   ]
  },
  {
   "cell_type": "code",
   "execution_count": 19,
   "metadata": {},
   "outputs": [
    {
     "data": {
      "text/latex": [
       "$\\displaystyle e_{b} - \\log{\\left(a_{b}^{- \\frac{1}{\\log{\\left(\\frac{j_{b} + 1}{j_{b}} \\right)}}} \\left(w_{b} \\left(b_{b} + v_{b}\\right)\\right)^{\\frac{1}{\\log{\\left(\\frac{j_{b} + 1}{j_{b}} \\right)}}} \\right)}$"
      ],
      "text/plain": [
       "e_b - log(a_b**(-1/log((j_b + 1)/j_b))*(w_b*(b_b + v_b))**(1/log((j_b + 1)/j_b)))"
      ]
     },
     "execution_count": 19,
     "metadata": {},
     "output_type": "execute_result"
    }
   ],
   "source": [
    "def expBound_(asset, s, v, b, w, j, e, Delta, a):\n",
    "    e_bound = log(w * (v + b) /a, 1 + 1/j) # constant wrt e\n",
    "    if simp:\n",
    "        e_bound = simplify(e_bound)\n",
    "    if asset == 'b':\n",
    "        f = e - e_bound # <=! 0 (upper bound)\n",
    "    else:\n",
    "        f = e_bound - e # <=! 0 (lower bound)\n",
    "    if simp:\n",
    "        f = simplify(f)\n",
    "    return f\n",
    "\n",
    "expBound = {asset: expBound_(asset, *all_symbols[asset]) for asset in assets}\n",
    "expBound['b']"
   ]
  },
  {
   "cell_type": "code",
   "execution_count": 20,
   "metadata": {},
   "outputs": [
    {
     "data": {
      "text/latex": [
       "$\\displaystyle - e_{s} + \\log{\\left(a_{s}^{- \\frac{1}{\\log{\\left(\\frac{j_{s} + 1}{j_{s}} \\right)}}} \\left(w_{s} \\left(b_{s} + v_{s}\\right)\\right)^{\\frac{1}{\\log{\\left(\\frac{j_{s} + 1}{j_{s}} \\right)}}} \\right)}$"
      ],
      "text/plain": [
       "-e_s + log(a_s**(-1/log((j_s + 1)/j_s))*(w_s*(b_s + v_s))**(1/log((j_s + 1)/j_s)))"
      ]
     },
     "execution_count": 20,
     "metadata": {},
     "output_type": "execute_result"
    }
   ],
   "source": [
    "expBound[\"s\"];"
   ]
  },
  {
   "cell_type": "code",
   "execution_count": 21,
   "metadata": {},
   "outputs": [
    {
     "data": {
      "text/latex": [
       "$\\displaystyle - \\frac{a_{b} j_{b}^{- e_{b}} \\left(j_{b} + 1\\right)^{e_{b}}}{w_{b}} + v_{b}$"
      ],
      "text/plain": [
       "-a_b*j_b**(-e_b)*(j_b + 1)**e_b/w_b + v_b"
      ]
     },
     "execution_count": 21,
     "metadata": {},
     "output_type": "execute_result"
    }
   ],
   "source": [
    "maxBuyingBound = -Delta_b - b_b # <=! 0\n",
    "maxBuyingBound = maxBuyingBound.subs({Delta_b: deltaByExp['b']})\n",
    "if simp:\n",
    "    maxBuyingBound = simplify(maxBuyingBound)\n",
    "maxBuyingBound"
   ]
  },
  {
   "cell_type": "code",
   "execution_count": 22,
   "metadata": {},
   "outputs": [
    {
     "data": {
      "text/latex": [
       "$\\displaystyle \\frac{a_{s} j_{s}^{- e_{s}} \\left(j_{s} + 1\\right)^{e_{s}}}{w_{s}} - b_{s} - max_{s} - v_{s}$"
      ],
      "text/plain": [
       "a_s*j_s**(-e_s)*(j_s + 1)**e_s/w_s - b_s - max_s - v_s"
      ]
     },
     "execution_count": 22,
     "metadata": {},
     "output_type": "execute_result"
    }
   ],
   "source": [
    "max_s, max_I = symbols('max_s, max_I', positive=True, integer=True)\n",
    "\n",
    "maxSellingBound = Delta_s - max_s # <=! 0\n",
    "maxSellingBound = maxSellingBound.subs({Delta_s: deltaByExp['s']})\n",
    "if simp:\n",
    "    maxSellingBound = simplify(maxSellingBound)\n",
    "maxSellingBound"
   ]
  },
  {
   "cell_type": "code",
   "execution_count": 23,
   "metadata": {},
   "outputs": [
    {
     "data": {
      "text/latex": [
       "$\\displaystyle a_{b} \\left(\\frac{j_{b} + 1}{j_{b}}\\right)^{e_{b}} - max_{I}$"
      ],
      "text/plain": [
       "a_b*((j_b + 1)/j_b)**e_b - max_I"
      ]
     },
     "execution_count": 23,
     "metadata": {},
     "output_type": "execute_result"
    }
   ],
   "source": [
    "def maxSpotBound_(asset, s, v, b, w, j, e, Delta, a):\n",
    "  return spotByExp[asset] - max_I # <=! 0\n",
    "\n",
    "maxSpotBound = {asset: maxSpotBound_(asset, *all_symbols[asset]) for asset in assets}\n",
    "maxSpotBound['b']"
   ]
  },
  {
   "cell_type": "markdown",
   "metadata": {},
   "source": [
    "## Lagrangian"
   ]
  },
  {
   "cell_type": "code",
   "execution_count": 24,
   "metadata": {},
   "outputs": [
    {
     "data": {
      "text/latex": [
       "$\\displaystyle e_{b} \\lambda_{1} - e_{s} \\lambda_{2} - \\lambda_{1} \\log{\\left(a_{b}^{- \\frac{1}{\\log{\\left(1 + \\frac{1}{j_{b}} \\right)}}} \\left(b_{b} w_{b} + v_{b} w_{b}\\right)^{\\frac{1}{\\log{\\left(1 + \\frac{1}{j_{b}} \\right)}}} \\right)} + \\lambda_{2} \\log{\\left(a_{s}^{- \\frac{1}{\\log{\\left(1 + \\frac{1}{j_{s}} \\right)}}} \\left(b_{s} w_{s} + v_{s} w_{s}\\right)^{\\frac{1}{\\log{\\left(1 + \\frac{1}{j_{s}} \\right)}}} \\right)} + \\frac{a_{s} j_{b}^{e_{b}} j_{s}^{- e_{s}} \\left(j_{b} + 1\\right)^{- e_{b}} \\left(j_{s} + 1\\right)^{e_{s}}}{a_{b}}$"
      ],
      "text/plain": [
       "e_b*lambda_1 - e_s*lambda_2 - lambda_1*log(a_b**(-1/log(1 + 1/j_b))*(b_b*w_b + v_b*w_b)**(1/log(1 + 1/j_b))) + lambda_2*log(a_s**(-1/log(1 + 1/j_s))*(b_s*w_s + v_s*w_s)**(1/log(1 + 1/j_s))) + a_s*j_b**e_b*j_s**(-e_s)*(j_b + 1)**(-e_b)*(j_s + 1)**e_s/a_b"
      ]
     },
     "execution_count": 24,
     "metadata": {},
     "output_type": "execute_result"
    }
   ],
   "source": [
    "l1, l2, l3, l4, l5, l6 = symbols('lambda_1 lambda_2 lambda_3 lambda_4 lambda_5 lambda_6', positive=True)\n",
    "\n",
    "# l3+ have no effect\n",
    "L = effByExps + l1 * expBound['b'] + l2 * expBound['s'] #+ l3 * maxBuyingBound + l4 * maxSellingBound + l5 * maxSpotBound['b'] + l6 * maxSpotBound['s']\n",
    "if simp:\n",
    "    L = simplify(L)\n",
    "L"
   ]
  },
  {
   "cell_type": "code",
   "execution_count": 25,
   "metadata": {},
   "outputs": [],
   "source": [
    "# Partial derivatives\n",
    "dL_des = L.diff(e_s)\n",
    "dL_deb = L.diff(e_b)\n",
    "dL_dl1 = L.diff(l1)\n",
    "dL_dl2 = L.diff(l2)\n",
    "# dL_dl3 = L.diff(l3)\n",
    "# dL_dl4 = L.diff(l4)\n",
    "# dL_dl5 = L.diff(l5)\n",
    "# dL_dl6 = L.diff(l6)\n",
    "\n",
    "# Set them to zero\n",
    "stationary_conditions = [\n",
    "    Eq(dL_des, 0),\n",
    "    Eq(dL_deb, 0),\n",
    "    Eq(dL_dl1, 0),\n",
    "    Eq(dL_dl2, 0),\n",
    "    # Eq(dL_dl3, 0),\n",
    "    # Eq(dL_dl4, 0),\n",
    "    # Eq(dL_dl5, 0),\n",
    "    # Eq(dL_dl6, 0),\n",
    "]"
   ]
  },
  {
   "cell_type": "code",
   "execution_count": 26,
   "metadata": {},
   "outputs": [
    {
     "name": "stdout",
     "output_type": "stream",
     "text": [
      "1\n"
     ]
    },
    {
     "data": {
      "text/plain": [
       "(log((w_s*(b_s + v_s)/a_s)**(1/log((j_s + 1)/j_s))),\n",
       " log((w_b*(b_b + v_b)/a_b)**(1/log((j_b + 1)/j_b))),\n",
       " log(((j_b + 1)/j_b)**(a_s*j_b**log((w_b*(b_b + v_b)/a_b)**(1/log((j_b + 1)/j_b)))*j_s**log((a_s/(w_s*(b_s + v_s)))**(1/log((j_s + 1)/j_s)))*(j_b + 1)**log((a_b/(w_b*(b_b + v_b)))**(1/log((j_b + 1)/j_b)))*(j_s + 1)**log((w_s*(b_s + v_s)/a_s)**(1/log((j_s + 1)/j_s)))/a_b)),\n",
       " log(((j_s + 1)/j_s)**(a_s*j_b**log((w_b*(b_b + v_b)/a_b)**(1/log((j_b + 1)/j_b)))*j_s**log((a_s/(w_s*(b_s + v_s)))**(1/log((j_s + 1)/j_s)))*(j_b + 1)**log((a_b/(w_b*(b_b + v_b)))**(1/log((j_b + 1)/j_b)))*(j_s + 1)**log((w_s*(b_s + v_s)/a_s)**(1/log((j_s + 1)/j_s)))/a_b)))"
      ]
     },
     "execution_count": 26,
     "metadata": {},
     "output_type": "execute_result"
    }
   ],
   "source": [
    "solutions_ = solve(stationary_conditions, (e_s, e_b, l1, l2))#, l3, l4, l5, l6))\n",
    "\n",
    "print(len(solutions_))\n",
    "solutions = solutions_[0]\n",
    "# e_s_sol, e_b_sol, l1_sol, l2_sol, l3_sol, l4_sol, l5_sol, l6_sol = solutions\n",
    "e_s_sol, e_b_sol, l1_sol, l2_sol = solutions\n",
    "solutions"
   ]
  },
  {
   "cell_type": "code",
   "execution_count": 27,
   "metadata": {},
   "outputs": [
    {
     "data": {
      "text/latex": [
       "$\\displaystyle \\log{\\left(\\left(\\frac{w_{s} \\left(b_{s} + v_{s}\\right)}{a_{s}}\\right)^{\\frac{1}{\\log{\\left(\\frac{j_{s} + 1}{j_{s}} \\right)}}} \\right)}$"
      ],
      "text/plain": [
       "log((w_s*(b_s + v_s)/a_s)**(1/log((j_s + 1)/j_s)))"
      ]
     },
     "execution_count": 27,
     "metadata": {},
     "output_type": "execute_result"
    }
   ],
   "source": [
    "e_s_sol;"
   ]
  },
  {
   "cell_type": "code",
   "execution_count": 28,
   "metadata": {},
   "outputs": [
    {
     "data": {
      "text/latex": [
       "$\\displaystyle \\log{\\left(\\left(\\frac{w_{b} \\left(b_{b} + v_{b}\\right)}{a_{b}}\\right)^{\\frac{1}{\\log{\\left(\\frac{j_{b} + 1}{j_{b}} \\right)}}} \\right)}$"
      ],
      "text/plain": [
       "log((w_b*(b_b + v_b)/a_b)**(1/log((j_b + 1)/j_b)))"
      ]
     },
     "execution_count": 28,
     "metadata": {},
     "output_type": "execute_result"
    }
   ],
   "source": [
    "e_b_sol;"
   ]
  },
  {
   "cell_type": "code",
   "execution_count": 29,
   "metadata": {},
   "outputs": [
    {
     "data": {
      "text/latex": [
       "$\\displaystyle \\log{\\left(\\left(\\frac{j_{b} + 1}{j_{b}}\\right)^{\\frac{a_{s} j_{b}^{\\log{\\left(\\left(\\frac{w_{b} \\left(b_{b} + v_{b}\\right)}{a_{b}}\\right)^{\\frac{1}{\\log{\\left(\\frac{j_{b} + 1}{j_{b}} \\right)}}} \\right)}} j_{s}^{\\log{\\left(\\left(\\frac{a_{s}}{w_{s} \\left(b_{s} + v_{s}\\right)}\\right)^{\\frac{1}{\\log{\\left(\\frac{j_{s} + 1}{j_{s}} \\right)}}} \\right)}} \\left(j_{b} + 1\\right)^{\\log{\\left(\\left(\\frac{a_{b}}{w_{b} \\left(b_{b} + v_{b}\\right)}\\right)^{\\frac{1}{\\log{\\left(\\frac{j_{b} + 1}{j_{b}} \\right)}}} \\right)}} \\left(j_{s} + 1\\right)^{\\log{\\left(\\left(\\frac{w_{s} \\left(b_{s} + v_{s}\\right)}{a_{s}}\\right)^{\\frac{1}{\\log{\\left(\\frac{j_{s} + 1}{j_{s}} \\right)}}} \\right)}}}{a_{b}}} \\right)}$"
      ],
      "text/plain": [
       "log(((j_b + 1)/j_b)**(a_s*j_b**log((w_b*(b_b + v_b)/a_b)**(1/log((j_b + 1)/j_b)))*j_s**log((a_s/(w_s*(b_s + v_s)))**(1/log((j_s + 1)/j_s)))*(j_b + 1)**log((a_b/(w_b*(b_b + v_b)))**(1/log((j_b + 1)/j_b)))*(j_s + 1)**log((w_s*(b_s + v_s)/a_s)**(1/log((j_s + 1)/j_s)))/a_b))"
      ]
     },
     "execution_count": 29,
     "metadata": {},
     "output_type": "execute_result"
    }
   ],
   "source": [
    "l1_sol;"
   ]
  },
  {
   "cell_type": "code",
   "execution_count": 30,
   "metadata": {},
   "outputs": [
    {
     "data": {
      "text/latex": [
       "$\\displaystyle \\log{\\left(\\left(\\frac{j_{s} + 1}{j_{s}}\\right)^{\\frac{a_{s} j_{b}^{\\log{\\left(\\left(\\frac{w_{b} \\left(b_{b} + v_{b}\\right)}{a_{b}}\\right)^{\\frac{1}{\\log{\\left(\\frac{j_{b} + 1}{j_{b}} \\right)}}} \\right)}} j_{s}^{\\log{\\left(\\left(\\frac{a_{s}}{w_{s} \\left(b_{s} + v_{s}\\right)}\\right)^{\\frac{1}{\\log{\\left(\\frac{j_{s} + 1}{j_{s}} \\right)}}} \\right)}} \\left(j_{b} + 1\\right)^{\\log{\\left(\\left(\\frac{a_{b}}{w_{b} \\left(b_{b} + v_{b}\\right)}\\right)^{\\frac{1}{\\log{\\left(\\frac{j_{b} + 1}{j_{b}} \\right)}}} \\right)}} \\left(j_{s} + 1\\right)^{\\log{\\left(\\left(\\frac{w_{s} \\left(b_{s} + v_{s}\\right)}{a_{s}}\\right)^{\\frac{1}{\\log{\\left(\\frac{j_{s} + 1}{j_{s}} \\right)}}} \\right)}}}{a_{b}}} \\right)}$"
      ],
      "text/plain": [
       "log(((j_s + 1)/j_s)**(a_s*j_b**log((w_b*(b_b + v_b)/a_b)**(1/log((j_b + 1)/j_b)))*j_s**log((a_s/(w_s*(b_s + v_s)))**(1/log((j_s + 1)/j_s)))*(j_b + 1)**log((a_b/(w_b*(b_b + v_b)))**(1/log((j_b + 1)/j_b)))*(j_s + 1)**log((w_s*(b_s + v_s)/a_s)**(1/log((j_s + 1)/j_s)))/a_b))"
      ]
     },
     "execution_count": 30,
     "metadata": {},
     "output_type": "execute_result"
    }
   ],
   "source": [
    "l2_sol;"
   ]
  },
  {
   "cell_type": "code",
   "execution_count": 31,
   "metadata": {},
   "outputs": [
    {
     "name": "stdout",
     "output_type": "stream",
     "text": [
      "{v_s, w_s, b_s, j_s, a_s}\n",
      "{v_b, a_b, b_b, w_b, j_b}\n",
      "{b_s, b_b, a_s, j_b, v_b, v_s, w_s, a_b, j_s, w_b}\n",
      "{b_s, b_b, a_s, j_b, v_b, v_s, w_s, a_b, j_s, w_b}\n"
     ]
    }
   ],
   "source": [
    "for sol in solutions:\n",
    "  print(sol.free_symbols)"
   ]
  },
  {
   "cell_type": "code",
   "execution_count": 37,
   "metadata": {},
   "outputs": [
    {
     "data": {
      "text/latex": [
       "$\\displaystyle \\log{\\left(\\left(\\frac{j_{b} + 1}{j_{b}}\\right)^{u_{7}} \\right)}$"
      ],
      "text/plain": [
       "log(((j_b + 1)/j_b)**u7)"
      ]
     },
     "execution_count": 37,
     "metadata": {},
     "output_type": "execute_result"
    }
   ],
   "source": [
    "u1, u2, u3, u4, u5, u6, u7 = symbols('u1 u2 u3 u4 u5 u6 u7')\n",
    "\n",
    "exp = (a_s*j_b**log(u3**u1)*j_s**log(u5**u2)*(j_b + 1)**log(u6**u1)*(j_s + 1)**log(u4**u2)/a_b)\n",
    "subs1 = l1_sol.subs(1/log((j_b + 1)/j_b), u1)\n",
    "subs1 = subs1.subs(1/log((j_s + 1)/j_s), u2)\n",
    "subs1 = subs1.subs(w_b*(b_b + v_b)/a_b, u3)\n",
    "subs1 = subs1.subs(w_s*(b_s + v_s)/a_s, u4)\n",
    "subs1 = subs1.subs(a_s/(w_s*(b_s + v_s)), u5)\n",
    "subs1 = subs1.subs(a_b/(w_b*(b_b + v_b)), u6)\n",
    "subs1 = subs1.subs(exp, u7)\n",
    "\n",
    "subs1 # !>= 0"
   ]
  },
  {
   "cell_type": "code",
   "execution_count": 38,
   "metadata": {},
   "outputs": [
    {
     "data": {
      "text/latex": [
       "$\\displaystyle \\log{\\left(\\left(\\frac{j_{s} + 1}{j_{s}}\\right)^{u_{7}} \\right)}$"
      ],
      "text/plain": [
       "log(((j_s + 1)/j_s)**u7)"
      ]
     },
     "execution_count": 38,
     "metadata": {},
     "output_type": "execute_result"
    }
   ],
   "source": [
    "subs2 = l2_sol.subs(1/log((j_b + 1)/j_b), u1)\n",
    "subs2 = subs2.subs(1/log((j_s + 1)/j_s), u2)\n",
    "subs2 = subs2.subs(w_b*(b_b + v_b)/a_b, u3)\n",
    "subs2 = subs2.subs(w_s*(b_s + v_s)/a_s, u4)\n",
    "subs2 = subs2.subs(a_s/(w_s*(b_s + v_s)), u5)\n",
    "subs2 = subs2.subs(a_b/(w_b*(b_b + v_b)), u6)\n",
    "subs2 = subs2.subs(exp, u7)\n",
    "\n",
    "subs2 # !>= 0"
   ]
  },
  {
   "cell_type": "code",
   "execution_count": 39,
   "metadata": {},
   "outputs": [
    {
     "data": {
      "text/latex": [
       "$\\displaystyle \\frac{a_{s} j_{b}^{\\log{\\left(u_{3}^{u_{1}} \\right)}} j_{s}^{\\log{\\left(u_{5}^{u_{2}} \\right)}} \\left(j_{b} + 1\\right)^{\\log{\\left(u_{6}^{u_{1}} \\right)}} \\left(j_{s} + 1\\right)^{\\log{\\left(u_{4}^{u_{2}} \\right)}}}{a_{b}}$"
      ],
      "text/plain": [
       "a_s*j_b**log(u3**u1)*j_s**log(u5**u2)*(j_b + 1)**log(u6**u1)*(j_s + 1)**log(u4**u2)/a_b"
      ]
     },
     "execution_count": 39,
     "metadata": {},
     "output_type": "execute_result"
    }
   ],
   "source": [
    "exp # >0 --> log-arg > 1 --> log > 0 --> both lambdas > 0 qed"
   ]
  },
  {
   "cell_type": "markdown",
   "metadata": {},
   "source": [
    "### complementary slackness\n",
    "\n",
    "given that the lambdas are strictly positive, we need to show that the\n",
    "associated constraints are zero at the solution"
   ]
  },
  {
   "cell_type": "code",
   "execution_count": 59,
   "metadata": {},
   "outputs": [
    {
     "data": {
      "text/latex": [
       "$\\displaystyle 0$"
      ],
      "text/plain": [
       "0"
      ]
     },
     "execution_count": 59,
     "metadata": {},
     "output_type": "execute_result"
    }
   ],
   "source": [
    "simplify(expBound[\"b\"].subs({ e_b: e_b_sol }));"
   ]
  },
  {
   "cell_type": "code",
   "execution_count": 60,
   "metadata": {},
   "outputs": [
    {
     "data": {
      "text/latex": [
       "$\\displaystyle 0$"
      ],
      "text/plain": [
       "0"
      ]
     },
     "execution_count": 60,
     "metadata": {},
     "output_type": "execute_result"
    }
   ],
   "source": [
    "simplify(expBound[\"s\"].subs({ e_s: e_s_sol }));"
   ]
  },
  {
   "cell_type": "markdown",
   "metadata": {},
   "source": [
    "qed"
   ]
  },
  {
   "cell_type": "markdown",
   "metadata": {},
   "source": [
    "## Consequences"
   ]
  },
  {
   "cell_type": "code",
   "execution_count": 46,
   "metadata": {},
   "outputs": [
    {
     "data": {
      "text/latex": [
       "$\\displaystyle \\frac{a_{b} j_{b}^{- \\log{\\left(\\left(\\frac{w_{b} \\left(b_{b} + v_{b}\\right)}{a_{b}}\\right)^{\\frac{1}{\\log{\\left(\\frac{j_{b} + 1}{j_{b}} \\right)}}} \\right)}} \\left(j_{b} + 1\\right)^{\\log{\\left(\\left(\\frac{w_{b} \\left(b_{b} + v_{b}\\right)}{a_{b}}\\right)^{\\frac{1}{\\log{\\left(\\frac{j_{b} + 1}{j_{b}} \\right)}}} \\right)}}}{w_{b}} - b_{b} - v_{b}$"
      ],
      "text/plain": [
       "a_b*j_b**(-log((w_b*(b_b + v_b)/a_b)**(1/log((j_b + 1)/j_b))))*(j_b + 1)**log((w_b*(b_b + v_b)/a_b)**(1/log((j_b + 1)/j_b)))/w_b - b_b - v_b"
      ]
     },
     "execution_count": 46,
     "metadata": {},
     "output_type": "execute_result"
    }
   ],
   "source": [
    "Delta_b_sol = deltaByExp[\"b\"].subs(e_s, e_s_sol).subs(e_b, e_b_sol);\n",
    "Delta_b_sol;"
   ]
  },
  {
   "cell_type": "code",
   "execution_count": 48,
   "metadata": {},
   "outputs": [
    {
     "data": {
      "text/latex": [
       "$\\displaystyle \\frac{a_{b} \\left(\\frac{j_{b} + 1}{j_{b}}\\right)^{\\log{\\left(\\left(\\frac{w_{b} \\left(b_{b} + v_{b}\\right)}{a_{b}}\\right)^{\\frac{1}{\\log{\\left(\\frac{j_{b} + 1}{j_{b}} \\right)}}} \\right)}}}{w_{b}} - b_{b} - v_{b}$"
      ],
      "text/plain": [
       "a_b*((j_b + 1)/j_b)**log((w_b*(b_b + v_b)/a_b)**(1/log((j_b + 1)/j_b)))/w_b - b_b - v_b"
      ]
     },
     "execution_count": 48,
     "metadata": {},
     "output_type": "execute_result"
    }
   ],
   "source": [
    "Delta_b_sol2 = a_b *\n",
    "    ((j_b + 1) / j_b) **\n",
    "      log((w_b * (b_b + v_b) / a_b) ** (1 / log((j_b + 1) / j_b))) /\n",
    "    w_b - b_b - v_b;\n",
    "Delta_b_sol2;"
   ]
  },
  {
   "cell_type": "code",
   "execution_count": 49,
   "metadata": {},
   "outputs": [
    {
     "data": {
      "text/latex": [
       "$\\displaystyle 0$"
      ],
      "text/plain": [
       "0"
      ]
     },
     "execution_count": 49,
     "metadata": {},
     "output_type": "execute_result"
    }
   ],
   "source": [
    "simplify(Delta_b_sol - Delta_b_sol2);"
   ]
  },
  {
   "cell_type": "code",
   "execution_count": 51,
   "metadata": {},
   "outputs": [
    {
     "data": {
      "text/latex": [
       "$\\displaystyle \\frac{a_{s} j_{s}^{- \\log{\\left(\\left(\\frac{w_{s} \\left(b_{s} + v_{s}\\right)}{a_{s}}\\right)^{\\frac{1}{\\log{\\left(\\frac{j_{s} + 1}{j_{s}} \\right)}}} \\right)}} \\left(j_{s} + 1\\right)^{\\log{\\left(\\left(\\frac{w_{s} \\left(b_{s} + v_{s}\\right)}{a_{s}}\\right)^{\\frac{1}{\\log{\\left(\\frac{j_{s} + 1}{j_{s}} \\right)}}} \\right)}}}{w_{s}} - b_{s} - v_{s}$"
      ],
      "text/plain": [
       "a_s*j_s**(-log((w_s*(b_s + v_s)/a_s)**(1/log((j_s + 1)/j_s))))*(j_s + 1)**log((w_s*(b_s + v_s)/a_s)**(1/log((j_s + 1)/j_s)))/w_s - b_s - v_s"
      ]
     },
     "execution_count": 51,
     "metadata": {},
     "output_type": "execute_result"
    }
   ],
   "source": [
    "Delta_s_sol = deltaByExp[\"s\"].subs(e_s, e_s_sol).subs(e_b, e_b_sol);\n",
    "Delta_s_sol;"
   ]
  },
  {
   "cell_type": "code",
   "execution_count": 55,
   "metadata": {},
   "outputs": [
    {
     "data": {
      "text/latex": [
       "$\\displaystyle \\frac{a_{s} \\left(\\frac{j_{s} + 1}{j_{s}}\\right)^{\\log{\\left(\\left(\\frac{w_{s} \\left(b_{s} + v_{s}\\right)}{a_{s}}\\right)^{\\frac{1}{\\log{\\left(\\frac{j_{s} + 1}{j_{s}} \\right)}}} \\right)}}}{w_{s}} - b_{s} - v_{s}$"
      ],
      "text/plain": [
       "a_s*((j_s + 1)/j_s)**log((w_s*(b_s + v_s)/a_s)**(1/log((j_s + 1)/j_s)))/w_s - b_s - v_s"
      ]
     },
     "execution_count": 55,
     "metadata": {},
     "output_type": "execute_result"
    }
   ],
   "source": [
    "# same as Delta_b_sol2 with indices swapped (literally how it was typed out)\n",
    "Delta_s_sol2 = a_s*((j_s + 1)/j_s)**log((w_s*(b_s + v_s)/a_s)**(1/log((j_s + 1)/j_s)))/w_s - b_s - v_s\n",
    "Delta_s_sol2"
   ]
  },
  {
   "cell_type": "code",
   "execution_count": 56,
   "metadata": {},
   "outputs": [
    {
     "data": {
      "text/latex": [
       "$\\displaystyle 0$"
      ],
      "text/plain": [
       "0"
      ]
     },
     "execution_count": 56,
     "metadata": {},
     "output_type": "execute_result"
    }
   ],
   "source": [
    "simplify(Delta_s_sol - Delta_s_sol2);"
   ]
  },
  {
   "cell_type": "code",
   "execution_count": null,
   "metadata": {},
   "outputs": [],
   "source": []
  }
 ],
 "metadata": {
  "kernelspec": {
   "display_name": "Python 3",
   "language": "python",
   "name": "python3"
  },
  "language_info": {
   "codemirror_mode": {
    "name": "ipython",
    "version": 3
   },
   "file_extension": ".py",
   "mimetype": "text/x-python",
   "name": "python",
   "nbconvert_exporter": "python",
   "pygments_lexer": "ipython3",
   "version": "3.9.16"
  }
 },
 "nbformat": 4,
 "nbformat_minor": 2
}
