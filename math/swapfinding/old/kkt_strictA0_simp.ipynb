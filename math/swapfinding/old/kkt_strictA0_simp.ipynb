{
 "cells": [
  {
   "cell_type": "code",
   "execution_count": 1,
   "metadata": {},
   "outputs": [],
   "source": [
    "from sympy import symbols, simplify, hessian, solveset, S, solve, log, And, Le, Ge, Eq, Lt, Gt, nonlinsolve"
   ]
  },
  {
   "cell_type": "code",
   "execution_count": 2,
   "metadata": {},
   "outputs": [
    {
     "data": {
      "text/plain": [
       "{'b': dict_values([s_b, v_b, b_b, w_b, j_b, e_b, Delta_b, a_b, min_b]),\n",
       " 's': dict_values([s_s, v_s, b_s, w_s, j_s, e_s, Delta_s, a_s, min_s])}"
      ]
     },
     "execution_count": 2,
     "metadata": {},
     "output_type": "execute_result"
    }
   ],
   "source": [
    "assets = ['b', 's']  # buying and selling assets\n",
    "base_symbols = ['s', 'v', 'b', 'w', 'j', 'e', 'Delta', 'a', 'min'] \n",
    "# spot price, virtual liquidity, balance, weight, jump size, exponent, delta, anchor price, amm-price, jump-multiplier\n",
    "\n",
    "all_symbols = {}\n",
    "\n",
    "for asset in assets:\n",
    "    temp_dict = {}\n",
    "    for base in base_symbols:\n",
    "        var_name = f\"{base}_{asset}\"\n",
    "        if base == 'e':\n",
    "            symbol_obj = symbols(var_name, integer=True)\n",
    "        elif base == 'b':\n",
    "            symbol_obj = symbols(var_name, nonnegative=True, integer=True)\n",
    "        else:\n",
    "            symbol_obj = symbols(var_name, positive=True, integer=True)\n",
    "        temp_dict[var_name] = symbol_obj\n",
    "        # Define the variable in the global namespace\n",
    "        globals()[var_name] = symbol_obj\n",
    "    all_symbols[asset] = temp_dict.values()\n",
    "all_symbols"
   ]
  },
  {
   "cell_type": "code",
   "execution_count": 3,
   "metadata": {},
   "outputs": [],
   "source": [
    "simp = True;"
   ]
  },
  {
   "cell_type": "markdown",
   "metadata": {},
   "source": [
    "## Target function\n",
    "\n",
    "we want to minimize the effective price, given a set of exponents for the buying\n",
    "and selling asset each."
   ]
  },
  {
   "cell_type": "code",
   "execution_count": 4,
   "metadata": {},
   "outputs": [
    {
     "data": {
      "text/latex": [
       "$\\displaystyle b_{b} - \\frac{s_{b}}{w_{b}} + v_{b}$"
      ],
      "text/plain": [
       "b_b - s_b/w_b + v_b"
      ]
     },
     "execution_count": 4,
     "metadata": {},
     "output_type": "execute_result"
    }
   ],
   "source": [
    "def deltaBySpot_(asset, s,v, b, w, j, e, Delta, a, min):\n",
    "  f = (s - (v + b) * w) / w\n",
    "  if asset == 'b':\n",
    "    f = -f\n",
    "  if simp:\n",
    "    f = simplify(f)\n",
    "  return f\n",
    "\n",
    "deltaBySpot = {asset: deltaBySpot_(asset, *all_symbols[asset]) for asset in assets}\n",
    "deltaBySpot['b']"
   ]
  },
  {
   "cell_type": "code",
   "execution_count": 5,
   "metadata": {},
   "outputs": [
    {
     "data": {
      "text/latex": [
       "$\\displaystyle - b_{s} + \\frac{s_{s}}{w_{s}} - v_{s}$"
      ],
      "text/plain": [
       "-b_s + s_s/w_s - v_s"
      ]
     },
     "execution_count": 5,
     "metadata": {},
     "output_type": "execute_result"
    }
   ],
   "source": [
    "deltaBySpot[\"s\"];"
   ]
  },
  {
   "cell_type": "code",
   "execution_count": 6,
   "metadata": {},
   "outputs": [
    {
     "data": {
      "text/latex": [
       "$\\displaystyle a_{b} \\left(\\frac{j_{b} + 1}{j_{b}}\\right)^{e_{b}}$"
      ],
      "text/plain": [
       "a_b*((j_b + 1)/j_b)**e_b"
      ]
     },
     "execution_count": 6,
     "metadata": {},
     "output_type": "execute_result"
    }
   ],
   "source": [
    "def spotByExp_(s, v, b, w, j, e, Delta, a, min):\n",
    "  f = a * ((1 + 1/j) ** e)\n",
    "  if simp:\n",
    "    f = simplify(f)\n",
    "  return f\n",
    "spotByExp = {asset: spotByExp_(*all_symbols[asset]) for asset in assets}\n",
    "spotByExp['b']"
   ]
  },
  {
   "cell_type": "code",
   "execution_count": 7,
   "metadata": {},
   "outputs": [
    {
     "data": {
      "text/latex": [
       "$\\displaystyle a_{s} \\left(\\frac{j_{s} + 1}{j_{s}}\\right)^{e_{s}}$"
      ],
      "text/plain": [
       "a_s*((j_s + 1)/j_s)**e_s"
      ]
     },
     "execution_count": 7,
     "metadata": {},
     "output_type": "execute_result"
    }
   ],
   "source": [
    "spotByExp[\"s\"];"
   ]
  },
  {
   "cell_type": "code",
   "execution_count": 8,
   "metadata": {},
   "outputs": [
    {
     "data": {
      "text/latex": [
       "$\\displaystyle - \\frac{a_{b} j_{b}^{- e_{b}} \\left(j_{b} + 1\\right)^{e_{b}}}{w_{b}} + b_{b} + v_{b}$"
      ],
      "text/plain": [
       "-a_b*(j_b + 1)**e_b/(j_b**e_b*w_b) + b_b + v_b"
      ]
     },
     "execution_count": 8,
     "metadata": {},
     "output_type": "execute_result"
    }
   ],
   "source": [
    "def deltaByExp_(asset, s, v, b, w, j, e, Delta, a, min):\n",
    "    f = deltaBySpot[asset].subs(s, spotByExp[asset])\n",
    "    if simp:\n",
    "        f = simplify(f)\n",
    "    return f\n",
    "\n",
    "deltaByExp = {asset: deltaByExp_(asset, *all_symbols[asset]) for asset in assets}\n",
    "deltaByExp['b']"
   ]
  },
  {
   "cell_type": "code",
   "execution_count": 9,
   "metadata": {},
   "outputs": [
    {
     "data": {
      "text/latex": [
       "$\\displaystyle \\frac{a_{s} j_{s}^{- e_{s}} \\left(j_{s} + 1\\right)^{e_{s}}}{w_{s}} - b_{s} - v_{s}$"
      ],
      "text/plain": [
       "a_s*(j_s + 1)**e_s/(j_s**e_s*w_s) - b_s - v_s"
      ]
     },
     "execution_count": 9,
     "metadata": {},
     "output_type": "execute_result"
    }
   ],
   "source": [
    "deltaByExp[\"s\"];"
   ]
  },
  {
   "cell_type": "code",
   "execution_count": 10,
   "metadata": {},
   "outputs": [
    {
     "data": {
      "text/latex": [
       "$\\displaystyle \\frac{\\Delta_{s}}{\\Delta_{b}}$"
      ],
      "text/plain": [
       "Delta_s/Delta_b"
      ]
     },
     "execution_count": 10,
     "metadata": {},
     "output_type": "execute_result"
    }
   ],
   "source": [
    "eff = Delta_s / Delta_b;\n",
    "eff;"
   ]
  },
  {
   "cell_type": "code",
   "execution_count": 11,
   "metadata": {},
   "outputs": [
    {
     "data": {
      "text/latex": [
       "$\\displaystyle \\frac{a_{b} \\left(\\frac{j_{b} + 1}{j_{b}}\\right)^{e_{b}} \\left(j_{s} + 1\\right)^{- e_{s}} \\left(a_{s} \\left(j_{s} + 1\\right)^{e_{s}} - j_{s}^{e_{s}} w_{s} \\left(b_{s} + v_{s}\\right)\\right)}{a_{s} w_{s}}$"
      ],
      "text/plain": [
       "a_b*((j_b + 1)/j_b)**e_b*(a_s*(j_s + 1)**e_s - j_s**e_s*w_s*(b_s + v_s))/(a_s*w_s*(j_s + 1)**e_s)"
      ]
     },
     "execution_count": 11,
     "metadata": {},
     "output_type": "execute_result"
    }
   ],
   "source": [
    "Delta_b_by_Exp_s = deltaByExp['s'] * spotByExp['b'] / spotByExp['s']\n",
    "if simp:\n",
    "    Delta_b_by_Exp_s = simplify(Delta_b_by_Exp_s)\n",
    "Delta_b_by_Exp_s"
   ]
  },
  {
   "cell_type": "code",
   "execution_count": 12,
   "metadata": {},
   "outputs": [
    {
     "data": {
      "text/latex": [
       "$\\displaystyle \\frac{a_{s} \\left(\\frac{j_{s} + 1}{j_{s}}\\right)^{e_{s}} \\left(j_{b} + 1\\right)^{- e_{b}} \\left(- a_{b} \\left(j_{b} + 1\\right)^{e_{b}} + j_{b}^{e_{b}} w_{b} \\left(b_{b} + v_{b}\\right)\\right)}{a_{b} w_{b}}$"
      ],
      "text/plain": [
       "a_s*((j_s + 1)/j_s)**e_s*(-a_b*(j_b + 1)**e_b + j_b**e_b*w_b*(b_b + v_b))/(a_b*w_b*(j_b + 1)**e_b)"
      ]
     },
     "execution_count": 12,
     "metadata": {},
     "output_type": "execute_result"
    }
   ],
   "source": [
    "Delta_s_by_Exp_b = deltaByExp['b'] * spotByExp['s'] / spotByExp['b']\n",
    "if simp:\n",
    "    Delta_s_by_Exp_b = simplify(Delta_s_by_Exp_b)\n",
    "Delta_s_by_Exp_b"
   ]
  },
  {
   "cell_type": "code",
   "execution_count": 13,
   "metadata": {},
   "outputs": [
    {
     "data": {
      "text/latex": [
       "$\\displaystyle \\frac{a_{s} \\left(\\frac{j_{b}}{j_{b} + 1}\\right)^{e_{b}} \\left(\\frac{j_{s} + 1}{j_{s}}\\right)^{e_{s}}}{a_{b}}$"
      ],
      "text/plain": [
       "a_s*(j_b/(j_b + 1))**e_b*((j_s + 1)/j_s)**e_s/a_b"
      ]
     },
     "execution_count": 13,
     "metadata": {},
     "output_type": "execute_result"
    }
   ],
   "source": [
    "effByExp_b = eff.subs({Delta_b: deltaByExp['b'], Delta_s: Delta_s_by_Exp_b})\n",
    "if simp:\n",
    "    effByExp_b = simplify(effByExp_b)\n",
    "effByExp_b"
   ]
  },
  {
   "cell_type": "code",
   "execution_count": 14,
   "metadata": {},
   "outputs": [
    {
     "data": {
      "text/latex": [
       "$\\displaystyle \\frac{a_{s} \\left(\\frac{j_{b}}{j_{b} + 1}\\right)^{e_{b}} \\left(\\frac{j_{s} + 1}{j_{s}}\\right)^{e_{s}}}{a_{b}}$"
      ],
      "text/plain": [
       "a_s*(j_b/(j_b + 1))**e_b*((j_s + 1)/j_s)**e_s/a_b"
      ]
     },
     "execution_count": 14,
     "metadata": {},
     "output_type": "execute_result"
    }
   ],
   "source": [
    "effByExp_s = eff.subs({Delta_b: Delta_b_by_Exp_s, Delta_s: deltaByExp['s']})\n",
    "if simp:\n",
    "    effByExp_s = simplify(effByExp_s)\n",
    "effByExp_s"
   ]
  },
  {
   "cell_type": "code",
   "execution_count": 15,
   "metadata": {},
   "outputs": [
    {
     "data": {
      "text/latex": [
       "$\\displaystyle 0$"
      ],
      "text/plain": [
       "0"
      ]
     },
     "execution_count": 15,
     "metadata": {},
     "output_type": "execute_result"
    }
   ],
   "source": [
    "simplify(effByExp_b - effByExp_s);"
   ]
  },
  {
   "cell_type": "code",
   "execution_count": 16,
   "metadata": {},
   "outputs": [],
   "source": [
    "effByExps = effByExp_b;"
   ]
  },
  {
   "cell_type": "code",
   "execution_count": 17,
   "metadata": {},
   "outputs": [
    {
     "data": {
      "text/latex": [
       "$\\displaystyle \\left[\\begin{matrix}\\frac{a_{s} \\left(\\frac{j_{b}}{j_{b} + 1}\\right)^{e_{b}} \\left(\\frac{j_{s} + 1}{j_{s}}\\right)^{e_{s}} \\log{\\left(\\frac{j_{b}}{j_{b} + 1} \\right)}^{2}}{a_{b}} & \\frac{a_{s} \\left(\\frac{j_{b}}{j_{b} + 1}\\right)^{e_{b}} \\left(\\frac{j_{s} + 1}{j_{s}}\\right)^{e_{s}} \\log{\\left(\\frac{j_{b}}{j_{b} + 1} \\right)} \\log{\\left(\\frac{j_{s} + 1}{j_{s}} \\right)}}{a_{b}}\\\\\\frac{a_{s} \\left(\\frac{j_{b}}{j_{b} + 1}\\right)^{e_{b}} \\left(\\frac{j_{s} + 1}{j_{s}}\\right)^{e_{s}} \\log{\\left(\\frac{j_{b}}{j_{b} + 1} \\right)} \\log{\\left(\\frac{j_{s} + 1}{j_{s}} \\right)}}{a_{b}} & \\frac{a_{s} \\left(\\frac{j_{b}}{j_{b} + 1}\\right)^{e_{b}} \\left(\\frac{j_{s} + 1}{j_{s}}\\right)^{e_{s}} \\log{\\left(\\frac{j_{s} + 1}{j_{s}} \\right)}^{2}}{a_{b}}\\end{matrix}\\right]$"
      ],
      "text/plain": [
       "Matrix([\n",
       "[                a_s*(j_b/(j_b + 1))**e_b*((j_s + 1)/j_s)**e_s*log(j_b/(j_b + 1))**2/a_b, a_s*(j_b/(j_b + 1))**e_b*((j_s + 1)/j_s)**e_s*log(j_b/(j_b + 1))*log((j_s + 1)/j_s)/a_b],\n",
       "[a_s*(j_b/(j_b + 1))**e_b*((j_s + 1)/j_s)**e_s*log(j_b/(j_b + 1))*log((j_s + 1)/j_s)/a_b,                 a_s*(j_b/(j_b + 1))**e_b*((j_s + 1)/j_s)**e_s*log((j_s + 1)/j_s)**2/a_b]])"
      ]
     },
     "execution_count": 17,
     "metadata": {},
     "output_type": "execute_result"
    }
   ],
   "source": [
    "H = hessian(effByExps, [e_b, e_s]);\n",
    "H;"
   ]
  },
  {
   "cell_type": "code",
   "execution_count": 18,
   "metadata": {},
   "outputs": [
    {
     "data": {
      "text/latex": [
       "$\\displaystyle \\frac{a_{s} \\left(\\frac{j_{b}}{j_{b} + 1}\\right)^{e_{b}} \\left(\\frac{j_{s} + 1}{j_{s}}\\right)^{e_{s}} \\log{\\left(\\frac{j_{b}}{j_{b} + 1} \\right)}^{2}}{a_{b}}$"
      ],
      "text/plain": [
       "a_s*(j_b/(j_b + 1))**e_b*((j_s + 1)/j_s)**e_s*log(j_b/(j_b + 1))**2/a_b"
      ]
     },
     "execution_count": 18,
     "metadata": {},
     "output_type": "execute_result"
    }
   ],
   "source": [
    "topLeft = simplify(H[0, 0]);\n",
    "topLeft;"
   ]
  },
  {
   "cell_type": "markdown",
   "metadata": {},
   "source": [
    "-> positive"
   ]
  },
  {
   "cell_type": "code",
   "execution_count": 19,
   "metadata": {},
   "outputs": [
    {
     "data": {
      "text/latex": [
       "$\\displaystyle 0$"
      ],
      "text/plain": [
       "0"
      ]
     },
     "execution_count": 19,
     "metadata": {},
     "output_type": "execute_result"
    }
   ],
   "source": [
    "det = H.det();\n",
    "det;"
   ]
  },
  {
   "cell_type": "markdown",
   "metadata": {},
   "source": [
    "## inequality-constraints\n",
    "\n",
    "- value in A0 of buying must not exceed that of selling\n",
    "- the exponents must adhere to their upper (buying) resp. lower (selling) bounds\n",
    "  given by our equation\n",
    "- need to buy and sell minimum amounts\n",
    "- cannot buy more than the available balance\n",
    "- cannot sell more than maxSelling\n",
    "- the spot prices must not exceed maxInteger\n",
    "- bonus: the total number of multiplications for both exponentiations must not\n",
    "  exceed expLimit (TODO)"
   ]
  },
  {
   "cell_type": "code",
   "execution_count": 20,
   "metadata": {},
   "outputs": [
    {
     "data": {
      "text/latex": [
       "$\\displaystyle e_{b} - \\log{\\left(a_{b}^{- \\frac{1}{\\log{\\left(\\frac{j_{b} + 1}{j_{b}} \\right)}}} \\left(w_{b} \\left(b_{b} + v_{b}\\right)\\right)^{\\frac{1}{\\log{\\left(\\frac{j_{b} + 1}{j_{b}} \\right)}}} \\right)}$"
      ],
      "text/plain": [
       "e_b - log((w_b*(b_b + v_b))**(1/log((j_b + 1)/j_b))/a_b**(1/log((j_b + 1)/j_b)))"
      ]
     },
     "execution_count": 20,
     "metadata": {},
     "output_type": "execute_result"
    }
   ],
   "source": [
    "def expBound_(asset, s, v, b, w, j, e, Delta, a, min):\n",
    "    e_bound = log(w * (v + b) /a, 1 + 1/j) # constant wrt e\n",
    "    if simp:\n",
    "        e_bound = simplify(e_bound)\n",
    "    if asset == 'b':\n",
    "        f = e - e_bound # <=! 0 (upper bound)\n",
    "    else:\n",
    "        f = e_bound - e # <=! 0 (lower bound)\n",
    "    if simp:\n",
    "        f = simplify(f)\n",
    "    return f\n",
    "\n",
    "expBound = {asset: expBound_(asset, *all_symbols[asset]) for asset in assets}\n",
    "expBound['b']"
   ]
  },
  {
   "cell_type": "code",
   "execution_count": 21,
   "metadata": {},
   "outputs": [
    {
     "data": {
      "text/latex": [
       "$\\displaystyle - e_{s} + \\log{\\left(a_{s}^{- \\frac{1}{\\log{\\left(\\frac{j_{s} + 1}{j_{s}} \\right)}}} \\left(w_{s} \\left(b_{s} + v_{s}\\right)\\right)^{\\frac{1}{\\log{\\left(\\frac{j_{s} + 1}{j_{s}} \\right)}}} \\right)}$"
      ],
      "text/plain": [
       "-e_s + log((w_s*(b_s + v_s))**(1/log((j_s + 1)/j_s))/a_s**(1/log((j_s + 1)/j_s)))"
      ]
     },
     "execution_count": 21,
     "metadata": {},
     "output_type": "execute_result"
    }
   ],
   "source": [
    "expBound[\"s\"];"
   ]
  },
  {
   "cell_type": "code",
   "execution_count": 22,
   "metadata": {},
   "outputs": [
    {
     "data": {
      "text/latex": [
       "$\\displaystyle - I_{max} + a_{b} \\left(\\frac{j_{b} + 1}{j_{b}}\\right)^{e_{b}}$"
      ],
      "text/plain": [
       "-I_max + a_b*((j_b + 1)/j_b)**e_b"
      ]
     },
     "execution_count": 22,
     "metadata": {},
     "output_type": "execute_result"
    }
   ],
   "source": [
    "max_s, I_max = symbols('max_s I_max', positive=True, integer=True)\n",
    "\n",
    "def maxSpotBound_(asset, s, v, b, w, j, e, Delta, a, min):\n",
    "  return spotByExp[asset] - I_max # <=! 0\n",
    "\n",
    "maxSpotBound = {asset: maxSpotBound_(asset, *all_symbols[asset]) for asset in assets}\n",
    "maxSpotBound['b']"
   ]
  },
  {
   "cell_type": "code",
   "execution_count": 23,
   "metadata": {},
   "outputs": [
    {
     "data": {
      "text/latex": [
       "$\\displaystyle \\frac{a_{b} j_{b}^{- e_{b}} \\left(j_{b} + 1\\right)^{e_{b}}}{w_{b}} - b_{b} + min_{b} - v_{b}$"
      ],
      "text/plain": [
       "a_b*(j_b + 1)**e_b/(j_b**e_b*w_b) - b_b + min_b - v_b"
      ]
     },
     "execution_count": 23,
     "metadata": {},
     "output_type": "execute_result"
    }
   ],
   "source": [
    "def minAmntBound_(asset, s, v, b, w, j, e, Delta, a, min):\n",
    "    f = min - Delta # <=! 0\n",
    "    f = f.subs(Delta, deltaByExp[asset])\n",
    "    if simp:\n",
    "        f = simplify(f)\n",
    "    return f\n",
    "\n",
    "minAmntBound = {asset: minAmntBound_(asset, *all_symbols[asset]) for asset in assets}\n",
    "minAmntBound['b']"
   ]
  },
  {
   "cell_type": "code",
   "execution_count": 24,
   "metadata": {},
   "outputs": [
    {
     "data": {
      "text/latex": [
       "$\\displaystyle - \\frac{a_{s} j_{s}^{- e_{s}} \\left(j_{s} + 1\\right)^{e_{s}}}{w_{s}} + b_{s} + min_{s} + v_{s}$"
      ],
      "text/plain": [
       "-a_s*(j_s + 1)**e_s/(j_s**e_s*w_s) + b_s + min_s + v_s"
      ]
     },
     "execution_count": 24,
     "metadata": {},
     "output_type": "execute_result"
    }
   ],
   "source": [
    "minAmntBound[\"s\"];"
   ]
  },
  {
   "cell_type": "code",
   "execution_count": 25,
   "metadata": {},
   "outputs": [
    {
     "data": {
      "text/latex": [
       "$\\displaystyle - \\frac{a_{b} j_{b}^{- e_{b}} \\left(j_{b} + 1\\right)^{e_{b}}}{w_{b}} + v_{b}$"
      ],
      "text/plain": [
       "-a_b*(j_b + 1)**e_b/(j_b**e_b*w_b) + v_b"
      ]
     },
     "execution_count": 25,
     "metadata": {},
     "output_type": "execute_result"
    }
   ],
   "source": [
    "def maxAmntBound_(asset, s, v, b, w, j, e, Delta, a, min):\n",
    "    if asset == 'b':\n",
    "        max = b\n",
    "    else:\n",
    "        max = max_s\n",
    "    f = Delta - max # <=! 0\n",
    "    f = f.subs(Delta, deltaByExp[asset])\n",
    "    if simp:\n",
    "        f = simplify(f)\n",
    "    return f\n",
    "\n",
    "maxAmntBound = {asset: maxAmntBound_(asset, *all_symbols[asset]) for asset in assets}\n",
    "maxAmntBound['b']"
   ]
  },
  {
   "cell_type": "code",
   "execution_count": 26,
   "metadata": {},
   "outputs": [
    {
     "data": {
      "text/latex": [
       "$\\displaystyle \\frac{a_{s} j_{s}^{- e_{s}} \\left(j_{s} + 1\\right)^{e_{s}}}{w_{s}} - b_{s} - max_{s} - v_{s}$"
      ],
      "text/plain": [
       "a_s*(j_s + 1)**e_s/(j_s**e_s*w_s) - b_s - max_s - v_s"
      ]
     },
     "execution_count": 26,
     "metadata": {},
     "output_type": "execute_result"
    }
   ],
   "source": [
    "maxAmntBound[\"s\"];"
   ]
  },
  {
   "cell_type": "markdown",
   "metadata": {},
   "source": [
    "## Lagrangian"
   ]
  },
  {
   "cell_type": "code",
   "execution_count": 27,
   "metadata": {},
   "outputs": [
    {
     "data": {
      "text/latex": [
       "$\\displaystyle \\left\\{\\left( \\log{\\left(\\left(\\frac{a_{b}}{I_{max}}\\right)^{\\frac{1}{\\log{\\left(\\frac{j_{b}}{j_{b} + 1} \\right)}}} \\right)}, \\  \\log{\\left(\\left(\\frac{a_{s}}{w_{s} \\left(b_{s} + v_{s}\\right)}\\right)^{\\frac{1}{\\log{\\left(j_{s} \\right)} - \\log{\\left(j_{s} + 1 \\right)}}} \\right)}, \\  0, \\  \\frac{j_{s}^{- 2 \\log{\\left(a_{s}^{\\frac{1}{\\log{\\left(j_{s} \\right)} - \\log{\\left(j_{s} + 1 \\right)}}} \\left(w_{s} \\left(b_{s} + v_{s}\\right)\\right)^{- \\frac{1}{\\log{\\left(j_{s} \\right)} - \\log{\\left(j_{s} + 1 \\right)}}} \\right)}} \\left(j_{b}^{2} \\left(j_{b} + 1\\right)\\right)^{- \\log{\\left(I_{max}^{- \\frac{1}{\\log{\\left(j_{b} \\right)} - \\log{\\left(j_{b} + 1 \\right)}}} a_{b}^{\\frac{1}{\\log{\\left(j_{b} \\right)} - \\log{\\left(j_{b} + 1 \\right)}}} \\right)}} \\log{\\left(j_{s}^{- a_{s} j_{b}^{\\log{\\left(I_{max}^{- \\frac{3}{\\log{\\left(j_{b} \\right)} - \\log{\\left(j_{b} + 1 \\right)}}} a_{b}^{\\frac{3}{\\log{\\left(j_{b} \\right)} - \\log{\\left(j_{b} + 1 \\right)}}} \\right)}} w_{s} \\left(j_{s} \\left(j_{s} + 1\\right)\\right)^{\\log{\\left(a_{s}^{\\frac{1}{\\log{\\left(j_{s} \\right)} - \\log{\\left(j_{s} + 1 \\right)}}} \\left(w_{s} \\left(b_{s} + v_{s}\\right)\\right)^{- \\frac{1}{\\log{\\left(j_{s} \\right)} - \\log{\\left(j_{s} + 1 \\right)}}} \\right)}}} \\left(j_{s} + 1\\right)^{a_{s} j_{b}^{\\log{\\left(I_{max}^{- \\frac{3}{\\log{\\left(j_{b} \\right)} - \\log{\\left(j_{b} + 1 \\right)}}} a_{b}^{\\frac{3}{\\log{\\left(j_{b} \\right)} - \\log{\\left(j_{b} + 1 \\right)}}} \\right)}} w_{s} \\left(j_{s} \\left(j_{s} + 1\\right)\\right)^{\\log{\\left(a_{s}^{\\frac{1}{\\log{\\left(j_{s} \\right)} - \\log{\\left(j_{s} + 1 \\right)}}} \\left(w_{s} \\left(b_{s} + v_{s}\\right)\\right)^{- \\frac{1}{\\log{\\left(j_{s} \\right)} - \\log{\\left(j_{s} + 1 \\right)}}} \\right)}}} \\right)}}{a_{b} w_{s}}, \\  \\left\\{\\frac{a_{s} j_{b}^{\\log{\\left(I_{max}^{- \\frac{3}{\\log{\\left(\\frac{j_{b}}{j_{b} + 1} \\right)}}} a_{b}^{\\frac{3}{\\log{\\left(\\frac{j_{b}}{j_{b} + 1} \\right)}}} \\right)}} j_{s}^{\\log{\\left(a_{s}^{- \\frac{2}{\\log{\\left(\\frac{j_{s}}{j_{s} + 1} \\right)}}} \\left(w_{s} \\left(b_{s} + v_{s}\\right)\\right)^{\\frac{2}{\\log{\\left(\\frac{j_{s}}{j_{s} + 1} \\right)}}} \\right)}} \\left(\\frac{1}{j_{b} \\left(j_{b} + 1\\right)^{2}}\\right)^{\\log{\\left(a_{b}^{\\frac{1}{\\log{\\left(\\frac{j_{b}}{j_{b} + 1} \\right)}}} \\right)}} \\left(j_{b} \\left(j_{b}^{2} + 2 j_{b} + 1\\right)\\right)^{\\log{\\left(I_{max}^{\\frac{1}{\\log{\\left(\\frac{j_{b}}{j_{b} + 1} \\right)}}} \\right)}} \\left(j_{s} \\left(j_{s} + 1\\right)\\right)^{\\log{\\left(a_{s}^{\\frac{1}{\\log{\\left(\\frac{j_{s}}{j_{s} + 1} \\right)}}} \\left(w_{s} \\left(b_{s} + v_{s}\\right)\\right)^{- \\frac{1}{\\log{\\left(\\frac{j_{s}}{j_{s} + 1} \\right)}}} \\right)}}}{a_{b}^{2}}\\right\\} \\setminus \\left\\{\\lambda_{3}\\; \\middle|\\; \\lambda_{3} \\in \\mathbb{C} \\wedge j_{b}^{a_{b}^{2} j_{s}^{2 \\log{\\left(a_{s}^{\\frac{1}{\\log{\\left(j_{s} \\right)} - \\log{\\left(j_{s} + 1 \\right)}}} \\left(w_{s} \\left(b_{s} + v_{s}\\right)\\right)^{- \\frac{1}{\\log{\\left(j_{s} \\right)} - \\log{\\left(j_{s} + 1 \\right)}}} \\right)}} \\lambda_{3} w_{b} \\left(j_{b} \\left(j_{b} + 1\\right)\\right)^{\\log{\\left(I_{max}^{- \\frac{1}{\\log{\\left(j_{b} \\right)} - \\log{\\left(j_{b} + 1 \\right)}}} a_{b}^{\\frac{1}{\\log{\\left(j_{b} \\right)} - \\log{\\left(j_{b} + 1 \\right)}}} \\right)}} \\left(j_{b} + 1\\right)^{\\log{\\left(I_{max}^{- \\frac{1}{\\log{\\left(j_{b} \\right)} - \\log{\\left(j_{b} + 1 \\right)}}} a_{b}^{\\frac{1}{\\log{\\left(j_{b} \\right)} - \\log{\\left(j_{b} + 1 \\right)}}} \\right)}}} = 0 \\right\\}, \\  0, \\  0, \\  0, \\  0\\right), \\left( \\log{\\left(\\left(\\frac{a_{b}}{v_{b} w_{b}}\\right)^{\\frac{1}{\\log{\\left(\\frac{j_{b}}{j_{b} + 1} \\right)}}} \\right)}, \\  \\log{\\left(\\left(\\frac{a_{s}}{w_{s} \\left(b_{s} + v_{s}\\right)}\\right)^{\\frac{1}{\\log{\\left(j_{s} \\right)} - \\log{\\left(j_{s} + 1 \\right)}}} \\right)}, \\  0, \\  \\log{\\left(\\left(\\frac{j_{s} + 1}{j_{s}}\\right)^{\\frac{a_{s} j_{b}^{\\log{\\left(a_{b}^{\\frac{3}{\\log{\\left(j_{b} \\right)} - \\log{\\left(j_{b} + 1 \\right)}}} \\left(v_{b} w_{b}\\right)^{- \\frac{3}{\\log{\\left(j_{b} \\right)} - \\log{\\left(j_{b} + 1 \\right)}}} \\right)}} j_{s}^{- \\log{\\left(a_{s}^{\\frac{2}{\\log{\\left(j_{s} \\right)} - \\log{\\left(j_{s} + 1 \\right)}}} \\left(w_{s} \\left(b_{s} + v_{s}\\right)\\right)^{- \\frac{2}{\\log{\\left(j_{s} \\right)} - \\log{\\left(j_{s} + 1 \\right)}}} \\right)}} \\left(j_{b}^{2} \\left(j_{b} + 1\\right)\\right)^{- \\log{\\left(a_{b}^{\\frac{1}{\\log{\\left(j_{b} \\right)} - \\log{\\left(j_{b} + 1 \\right)}}} \\left(v_{b} w_{b}\\right)^{- \\frac{1}{\\log{\\left(j_{b} \\right)} - \\log{\\left(j_{b} + 1 \\right)}}} \\right)}} \\left(j_{s} \\left(j_{s} + 1\\right)\\right)^{\\log{\\left(a_{s}^{\\frac{1}{\\log{\\left(j_{s} \\right)} - \\log{\\left(j_{s} + 1 \\right)}}} \\left(w_{s} \\left(b_{s} + v_{s}\\right)\\right)^{- \\frac{1}{\\log{\\left(j_{s} \\right)} - \\log{\\left(j_{s} + 1 \\right)}}} \\right)}}}{a_{b}}} \\right)}, \\  0, \\  0, \\  \\left\\{\\log{\\left(\\left(\\frac{j_{b} + 1}{j_{b}}\\right)^{\\frac{a_{s} j_{b}^{\\log{\\left(a_{b}^{\\frac{3}{\\log{\\left(\\frac{j_{b}}{j_{b} + 1} \\right)}}} \\right)} - \\log{\\left(v_{b}^{\\frac{3}{\\log{\\left(\\frac{j_{b}}{j_{b} + 1} \\right)}}} \\right)} - \\log{\\left(w_{b}^{\\frac{3}{\\log{\\left(\\frac{j_{b}}{j_{b} + 1} \\right)}}} \\right)}} j_{s}^{- \\log{\\left(a_{s}^{\\frac{2}{\\log{\\left(\\frac{j_{s}}{j_{s} + 1} \\right)}}} \\right)} + \\log{\\left(\\left(w_{s} \\left(b_{s} + v_{s}\\right)\\right)^{\\frac{2}{\\log{\\left(\\frac{j_{s}}{j_{s} + 1} \\right)}}} \\right)}} w_{b} \\left(j_{b} \\left(j_{b} + 1\\right)\\right)^{- \\log{\\left(a_{b}^{\\frac{1}{\\log{\\left(\\frac{j_{b}}{j_{b} + 1} \\right)}}} \\right)}} \\left(j_{b} \\left(j_{b}^{2} + 2 j_{b} + 1\\right)\\right)^{\\log{\\left(\\left(v_{b} w_{b}\\right)^{\\frac{1}{\\log{\\left(\\frac{j_{b}}{j_{b} + 1} \\right)}}} \\right)}} \\left(j_{s} \\left(j_{s} + 1\\right)\\right)^{\\log{\\left(a_{s}^{\\frac{1}{\\log{\\left(\\frac{j_{s}}{j_{s} + 1} \\right)}}} \\right)} - \\log{\\left(w_{s}^{\\frac{1}{\\log{\\left(\\frac{j_{s}}{j_{s} + 1} \\right)}}} \\right)} - \\log{\\left(\\left(b_{s} + v_{s}\\right)^{\\frac{1}{\\log{\\left(\\frac{j_{s}}{j_{s} + 1} \\right)}}} \\right)}} \\left(j_{b} + 1\\right)^{- \\log{\\left(a_{b}^{\\frac{1}{\\log{\\left(\\frac{j_{b}}{j_{b} + 1} \\right)}}} \\right)}}}{a_{b}^{2} \\log{\\left(\\frac{j_{b}}{j_{b} + 1} \\right)}}} \\right)}\\right\\} \\setminus \\left\\{\\lambda_{5}\\; \\middle|\\; \\lambda_{5} \\in \\mathbb{C} \\wedge \\left(j_{b} + 1\\right)^{a_{b}^{2} j_{s}^{2 \\log{\\left(a_{s}^{\\frac{1}{\\log{\\left(j_{s} \\right)} - \\log{\\left(j_{s} + 1 \\right)}}} \\left(w_{s} \\left(b_{s} + v_{s}\\right)\\right)^{- \\frac{1}{\\log{\\left(j_{s} \\right)} - \\log{\\left(j_{s} + 1 \\right)}}} \\right)}} \\lambda_{5} \\left(j_{b} \\left(j_{b} + 1\\right)\\right)^{\\log{\\left(a_{b}^{\\frac{1}{\\log{\\left(j_{b} \\right)} - \\log{\\left(j_{b} + 1 \\right)}}} v_{b}^{- \\frac{1}{\\log{\\left(j_{b} \\right)} - \\log{\\left(j_{b} + 1 \\right)}}} w_{b}^{- \\frac{1}{\\log{\\left(j_{b} \\right)} - \\log{\\left(j_{b} + 1 \\right)}}} \\right)}} \\left(j_{b} + 1\\right)^{\\log{\\left(a_{b}^{\\frac{1}{\\log{\\left(j_{b} \\right)} - \\log{\\left(j_{b} + 1 \\right)}}} v_{b}^{- \\frac{1}{\\log{\\left(j_{b} \\right)} - \\log{\\left(j_{b} + 1 \\right)}}} w_{b}^{- \\frac{1}{\\log{\\left(j_{b} \\right)} - \\log{\\left(j_{b} + 1 \\right)}}} \\right)}}} = 0 \\right\\}, \\  0, \\  0\\right), \\left( \\log{\\left(\\left(\\frac{a_{b}}{w_{b} \\left(b_{b} + v_{b}\\right)}\\right)^{\\frac{1}{\\log{\\left(j_{b} \\right)} - \\log{\\left(j_{b} + 1 \\right)}}} \\right)}, \\  \\log{\\left(\\left(\\frac{a_{s}}{w_{s} \\left(b_{s} + v_{s}\\right)}\\right)^{\\frac{1}{\\log{\\left(j_{s} \\right)} - \\log{\\left(j_{s} + 1 \\right)}}} \\right)}, \\  - \\frac{j_{s}^{- 2 \\log{\\left(a_{s}^{\\frac{1}{\\log{\\left(j_{s} \\right)} - \\log{\\left(j_{s} + 1 \\right)}}} \\left(w_{s} \\left(b_{s} + v_{s}\\right)\\right)^{- \\frac{1}{\\log{\\left(j_{s} \\right)} - \\log{\\left(j_{s} + 1 \\right)}}} \\right)}} \\left(j_{b}^{2} \\left(j_{b} + 1\\right)\\right)^{- \\log{\\left(a_{b}^{\\frac{1}{\\log{\\left(j_{b} \\right)} - \\log{\\left(j_{b} + 1 \\right)}}} \\left(w_{b} \\left(b_{b} + v_{b}\\right)\\right)^{- \\frac{1}{\\log{\\left(j_{b} \\right)} - \\log{\\left(j_{b} + 1 \\right)}}} \\right)}} \\log{\\left(j_{b}^{a_{s} j_{b}^{\\log{\\left(a_{b}^{\\frac{3}{\\log{\\left(j_{b} \\right)} - \\log{\\left(j_{b} + 1 \\right)}}} \\left(w_{b} \\left(b_{b} + v_{b}\\right)\\right)^{- \\frac{3}{\\log{\\left(j_{b} \\right)} - \\log{\\left(j_{b} + 1 \\right)}}} \\right)}} w_{b} \\left(j_{s} \\left(j_{s} + 1\\right)\\right)^{\\log{\\left(a_{s}^{\\frac{1}{\\log{\\left(j_{s} \\right)} - \\log{\\left(j_{s} + 1 \\right)}}} \\left(w_{s} \\left(b_{s} + v_{s}\\right)\\right)^{- \\frac{1}{\\log{\\left(j_{s} \\right)} - \\log{\\left(j_{s} + 1 \\right)}}} \\right)}}} \\left(j_{b} + 1\\right)^{- a_{s} j_{b}^{\\log{\\left(a_{b}^{\\frac{3}{\\log{\\left(j_{b} \\right)} - \\log{\\left(j_{b} + 1 \\right)}}} \\left(w_{b} \\left(b_{b} + v_{b}\\right)\\right)^{- \\frac{3}{\\log{\\left(j_{b} \\right)} - \\log{\\left(j_{b} + 1 \\right)}}} \\right)}} w_{b} \\left(j_{s} \\left(j_{s} + 1\\right)\\right)^{\\log{\\left(a_{s}^{\\frac{1}{\\log{\\left(j_{s} \\right)} - \\log{\\left(j_{s} + 1 \\right)}}} \\left(w_{s} \\left(b_{s} + v_{s}\\right)\\right)^{- \\frac{1}{\\log{\\left(j_{s} \\right)} - \\log{\\left(j_{s} + 1 \\right)}}} \\right)}}} \\right)}}{a_{b} w_{b}}, \\  \\frac{j_{s}^{- 2 \\log{\\left(a_{s}^{\\frac{1}{\\log{\\left(j_{s} \\right)} - \\log{\\left(j_{s} + 1 \\right)}}} \\left(w_{s} \\left(b_{s} + v_{s}\\right)\\right)^{- \\frac{1}{\\log{\\left(j_{s} \\right)} - \\log{\\left(j_{s} + 1 \\right)}}} \\right)}} \\left(j_{b}^{2} \\left(j_{b} + 1\\right)\\right)^{- \\log{\\left(a_{b}^{\\frac{1}{\\log{\\left(j_{b} \\right)} - \\log{\\left(j_{b} + 1 \\right)}}} \\left(w_{b} \\left(b_{b} + v_{b}\\right)\\right)^{- \\frac{1}{\\log{\\left(j_{b} \\right)} - \\log{\\left(j_{b} + 1 \\right)}}} \\right)}} \\log{\\left(j_{s}^{- a_{s} j_{b}^{\\log{\\left(a_{b}^{\\frac{3}{\\log{\\left(j_{b} \\right)} - \\log{\\left(j_{b} + 1 \\right)}}} \\left(w_{b} \\left(b_{b} + v_{b}\\right)\\right)^{- \\frac{3}{\\log{\\left(j_{b} \\right)} - \\log{\\left(j_{b} + 1 \\right)}}} \\right)}} w_{s} \\left(j_{s} \\left(j_{s} + 1\\right)\\right)^{\\log{\\left(a_{s}^{\\frac{1}{\\log{\\left(j_{s} \\right)} - \\log{\\left(j_{s} + 1 \\right)}}} \\left(w_{s} \\left(b_{s} + v_{s}\\right)\\right)^{- \\frac{1}{\\log{\\left(j_{s} \\right)} - \\log{\\left(j_{s} + 1 \\right)}}} \\right)}}} \\left(j_{s} + 1\\right)^{a_{s} j_{b}^{\\log{\\left(a_{b}^{\\frac{3}{\\log{\\left(j_{b} \\right)} - \\log{\\left(j_{b} + 1 \\right)}}} \\left(w_{b} \\left(b_{b} + v_{b}\\right)\\right)^{- \\frac{3}{\\log{\\left(j_{b} \\right)} - \\log{\\left(j_{b} + 1 \\right)}}} \\right)}} w_{s} \\left(j_{s} \\left(j_{s} + 1\\right)\\right)^{\\log{\\left(a_{s}^{\\frac{1}{\\log{\\left(j_{s} \\right)} - \\log{\\left(j_{s} + 1 \\right)}}} \\left(w_{s} \\left(b_{s} + v_{s}\\right)\\right)^{- \\frac{1}{\\log{\\left(j_{s} \\right)} - \\log{\\left(j_{s} + 1 \\right)}}} \\right)}}} \\right)}}{a_{b} w_{s}}, \\  0, \\  0, \\  0, \\  0, \\  0\\right)\\right\\}$"
      ],
      "text/plain": [
       "FiniteSet((log((a_b/I_max)**(1/log(j_b/(j_b + 1)))), log((a_s/(w_s*(b_s + v_s)))**(1/(log(j_s) - log(j_s + 1)))), 0, log((j_s + 1)**(a_s*j_b**log(a_b**(3/(log(j_b) - log(j_b + 1)))/I_max**(3/(log(j_b) - log(j_b + 1))))*w_s*(j_s*(j_s + 1))**log(a_s**(1/(log(j_s) - log(j_s + 1)))/(w_s*(b_s + v_s))**(1/(log(j_s) - log(j_s + 1)))))/j_s**(a_s*j_b**log(a_b**(3/(log(j_b) - log(j_b + 1)))/I_max**(3/(log(j_b) - log(j_b + 1))))*w_s*(j_s*(j_s + 1))**log(a_s**(1/(log(j_s) - log(j_s + 1)))/(w_s*(b_s + v_s))**(1/(log(j_s) - log(j_s + 1))))))/(a_b*j_s**(2*log(a_s**(1/(log(j_s) - log(j_s + 1)))/(w_s*(b_s + v_s))**(1/(log(j_s) - log(j_s + 1)))))*w_s*(j_b**2*(j_b + 1))**log(a_b**(1/(log(j_b) - log(j_b + 1)))/I_max**(1/(log(j_b) - log(j_b + 1))))), Complement({a_s*j_b**log(a_b**(3/log(j_b/(j_b + 1)))/I_max**(3/log(j_b/(j_b + 1))))*j_s**log((w_s*(b_s + v_s))**(2/log(j_s/(j_s + 1)))/a_s**(2/log(j_s/(j_s + 1))))*(1/(j_b*(j_b + 1)**2))**log(a_b**(1/log(j_b/(j_b + 1))))*(j_b*(j_b**2 + 2*j_b + 1))**log(I_max**(1/log(j_b/(j_b + 1))))*(j_s*(j_s + 1))**log(a_s**(1/log(j_s/(j_s + 1)))/(w_s*(b_s + v_s))**(1/log(j_s/(j_s + 1))))/a_b**2}, ConditionSet(lambda3, Eq(j_b**(a_b**2*j_s**(2*log(a_s**(1/(log(j_s) - log(j_s + 1)))/(w_s*(b_s + v_s))**(1/(log(j_s) - log(j_s + 1)))))*lambda3*w_b*(j_b*(j_b + 1))**log(a_b**(1/(log(j_b) - log(j_b + 1)))/I_max**(1/(log(j_b) - log(j_b + 1))))*(j_b + 1)**log(a_b**(1/(log(j_b) - log(j_b + 1)))/I_max**(1/(log(j_b) - log(j_b + 1))))), 0), Complexes)), 0, 0, 0, 0), (log((a_b/(v_b*w_b))**(1/log(j_b/(j_b + 1)))), log((a_s/(w_s*(b_s + v_s)))**(1/(log(j_s) - log(j_s + 1)))), 0, log(((j_s + 1)/j_s)**(a_s*j_b**log(a_b**(3/(log(j_b) - log(j_b + 1)))/(v_b*w_b)**(3/(log(j_b) - log(j_b + 1))))*(j_s*(j_s + 1))**log(a_s**(1/(log(j_s) - log(j_s + 1)))/(w_s*(b_s + v_s))**(1/(log(j_s) - log(j_s + 1))))/(a_b*j_s**log(a_s**(2/(log(j_s) - log(j_s + 1)))/(w_s*(b_s + v_s))**(2/(log(j_s) - log(j_s + 1))))*(j_b**2*(j_b + 1))**log(a_b**(1/(log(j_b) - log(j_b + 1)))/(v_b*w_b)**(1/(log(j_b) - log(j_b + 1))))))), 0, 0, Complement({log(((j_b + 1)/j_b)**(a_s*j_b**(log(a_b**(3/log(j_b/(j_b + 1)))) - log(v_b**(3/log(j_b/(j_b + 1)))) - log(w_b**(3/log(j_b/(j_b + 1)))))*j_s**(-log(a_s**(2/log(j_s/(j_s + 1)))) + log((w_s*(b_s + v_s))**(2/log(j_s/(j_s + 1)))))*w_b*(j_b*(j_b**2 + 2*j_b + 1))**log((v_b*w_b)**(1/log(j_b/(j_b + 1))))*(j_s*(j_s + 1))**(log(a_s**(1/log(j_s/(j_s + 1)))) - log(w_s**(1/log(j_s/(j_s + 1)))) - log((b_s + v_s)**(1/log(j_s/(j_s + 1)))))/(a_b**2*(j_b*(j_b + 1))**log(a_b**(1/log(j_b/(j_b + 1))))*(j_b + 1)**log(a_b**(1/log(j_b/(j_b + 1))))*log(j_b/(j_b + 1)))))}, ConditionSet(lambda5, Eq((j_b + 1)**(a_b**2*j_s**(2*log(a_s**(1/(log(j_s) - log(j_s + 1)))/(w_s*(b_s + v_s))**(1/(log(j_s) - log(j_s + 1)))))*lambda5*(j_b*(j_b + 1))**log(a_b**(1/(log(j_b) - log(j_b + 1)))/(v_b**(1/(log(j_b) - log(j_b + 1)))*w_b**(1/(log(j_b) - log(j_b + 1)))))*(j_b + 1)**log(a_b**(1/(log(j_b) - log(j_b + 1)))/(v_b**(1/(log(j_b) - log(j_b + 1)))*w_b**(1/(log(j_b) - log(j_b + 1)))))), 0), Complexes)), 0, 0), (log((a_b/(w_b*(b_b + v_b)))**(1/(log(j_b) - log(j_b + 1)))), log((a_s/(w_s*(b_s + v_s)))**(1/(log(j_s) - log(j_s + 1)))), -log(j_b**(a_s*j_b**log(a_b**(3/(log(j_b) - log(j_b + 1)))/(w_b*(b_b + v_b))**(3/(log(j_b) - log(j_b + 1))))*w_b*(j_s*(j_s + 1))**log(a_s**(1/(log(j_s) - log(j_s + 1)))/(w_s*(b_s + v_s))**(1/(log(j_s) - log(j_s + 1)))))/(j_b + 1)**(a_s*j_b**log(a_b**(3/(log(j_b) - log(j_b + 1)))/(w_b*(b_b + v_b))**(3/(log(j_b) - log(j_b + 1))))*w_b*(j_s*(j_s + 1))**log(a_s**(1/(log(j_s) - log(j_s + 1)))/(w_s*(b_s + v_s))**(1/(log(j_s) - log(j_s + 1))))))/(a_b*j_s**(2*log(a_s**(1/(log(j_s) - log(j_s + 1)))/(w_s*(b_s + v_s))**(1/(log(j_s) - log(j_s + 1)))))*w_b*(j_b**2*(j_b + 1))**log(a_b**(1/(log(j_b) - log(j_b + 1)))/(w_b*(b_b + v_b))**(1/(log(j_b) - log(j_b + 1))))), log((j_s + 1)**(a_s*j_b**log(a_b**(3/(log(j_b) - log(j_b + 1)))/(w_b*(b_b + v_b))**(3/(log(j_b) - log(j_b + 1))))*w_s*(j_s*(j_s + 1))**log(a_s**(1/(log(j_s) - log(j_s + 1)))/(w_s*(b_s + v_s))**(1/(log(j_s) - log(j_s + 1)))))/j_s**(a_s*j_b**log(a_b**(3/(log(j_b) - log(j_b + 1)))/(w_b*(b_b + v_b))**(3/(log(j_b) - log(j_b + 1))))*w_s*(j_s*(j_s + 1))**log(a_s**(1/(log(j_s) - log(j_s + 1)))/(w_s*(b_s + v_s))**(1/(log(j_s) - log(j_s + 1))))))/(a_b*j_s**(2*log(a_s**(1/(log(j_s) - log(j_s + 1)))/(w_s*(b_s + v_s))**(1/(log(j_s) - log(j_s + 1)))))*w_s*(j_b**2*(j_b + 1))**log(a_b**(1/(log(j_b) - log(j_b + 1)))/(w_b*(b_b + v_b))**(1/(log(j_b) - log(j_b + 1))))), 0, 0, 0, 0, 0))"
      ]
     },
     "execution_count": 27,
     "metadata": {},
     "output_type": "execute_result"
    }
   ],
   "source": [
    "# Decision variables\n",
    "x1, x2 = e_b, e_s\n",
    "\n",
    "# Constraints\n",
    "g = [\n",
    "    expBound['b'],\n",
    "    expBound['s'],\n",
    "    maxSpotBound['b'],\n",
    "    minAmntBound['b'],\n",
    "    maxAmntBound['b'],\n",
    "    minAmntBound['s'],\n",
    "    maxAmntBound['s'],\n",
    "] \n",
    "\n",
    "# Lagrange multipliers for m constraints\n",
    "lambdas = symbols('lambda1:{}'.format(len(g)+1), nonnegative=True)\n",
    "\n",
    "# Objective function\n",
    "f = effByExps\n",
    "\n",
    "# Lagrangian\n",
    "L = f + sum([lambdas[i] * g[i] for i in range(len(g))])\n",
    "if simp:\n",
    "    L = simplify(L)\n",
    "\n",
    "# Differentiate Lagrangian with respect to decision variables\n",
    "dL_dx1 = L.diff(x1)\n",
    "dL_dx2 = L.diff(x2)\n",
    "if simp:\n",
    "    dL_dx1 = simplify(dL_dx1)\n",
    "    dL_dx2 = simplify(dL_dx2)\n",
    "\n",
    "# Equations from stationarity\n",
    "equations = [Eq(dL_dx1, 0), Eq(dL_dx2, 0)]\n",
    "\n",
    "# Complementary slackness conditions\n",
    "for i in range(len(g)):\n",
    "    equations.append(Eq(lambdas[i] * g[i], 0))\n",
    "\n",
    "# Solve\n",
    "solutions = nonlinsolve(equations, [x1, x2] + list(lambdas))\n",
    "solutions"
   ]
  }
 ],
 "metadata": {
  "kernelspec": {
   "display_name": "Python 3",
   "language": "python",
   "name": "python3"
  },
  "language_info": {
   "codemirror_mode": {
    "name": "ipython",
    "version": 3
   },
   "file_extension": ".py",
   "mimetype": "text/x-python",
   "name": "python",
   "nbconvert_exporter": "python",
   "pygments_lexer": "ipython3",
   "version": "3.9.16"
  }
 },
 "nbformat": 4,
 "nbformat_minor": 2
}
