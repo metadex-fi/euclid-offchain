{
 "cells": [
  {
   "cell_type": "code",
   "execution_count": 1,
   "metadata": {},
   "outputs": [],
   "source": [
    "from sympy import symbols, simplify, hessian, solveset, S, solve, log, And, Le, Ge, Eq, Lt, Gt"
   ]
  },
  {
   "cell_type": "code",
   "execution_count": 2,
   "metadata": {},
   "outputs": [
    {
     "data": {
      "text/plain": [
       "{'b': dict_values([s_b, v_b, b_b, w_b, j_b, e_b, Delta_b, a_b, min_b]),\n",
       " 's': dict_values([s_s, v_s, b_s, w_s, j_s, e_s, Delta_s, a_s, min_s])}"
      ]
     },
     "execution_count": 2,
     "metadata": {},
     "output_type": "execute_result"
    }
   ],
   "source": [
    "assets = ['b', 's']  # buying and selling assets\n",
    "base_symbols = ['s', 'v', 'b', 'w', 'j', 'e', 'Delta', 'a', 'min'] \n",
    "# spot price, virtual liquidity, balance, weight, jump size, exponent, delta, anchor price, amm-price, jump-multiplier\n",
    "\n",
    "all_symbols = {}\n",
    "\n",
    "for asset in assets:\n",
    "    temp_dict = {}\n",
    "    for base in base_symbols:\n",
    "        var_name = f\"{base}_{asset}\"\n",
    "        if base == 'e' or base == 'Delta':\n",
    "            symbol_obj = symbols(var_name, integer=True)\n",
    "        elif base == 'b':\n",
    "            symbol_obj = symbols(var_name, nonnegative=True, integer=True)\n",
    "        else:\n",
    "            symbol_obj = symbols(var_name, positive=True, integer=True)\n",
    "        temp_dict[var_name] = symbol_obj\n",
    "        # Define the variable in the global namespace\n",
    "        globals()[var_name] = symbol_obj\n",
    "    all_symbols[asset] = temp_dict.values()\n",
    "all_symbols"
   ]
  },
  {
   "cell_type": "code",
   "execution_count": 3,
   "metadata": {},
   "outputs": [],
   "source": [
    "simp = True"
   ]
  },
  {
   "cell_type": "markdown",
   "metadata": {},
   "source": [
    "## Target function\n",
    "\n",
    "we want to minimize the effective price, given a set of Deltas for the buying and selling asset each."
   ]
  },
  {
   "cell_type": "code",
   "execution_count": 4,
   "metadata": {},
   "outputs": [
    {
     "data": {
      "text/latex": [
       "$\\displaystyle w_{b} \\left(- \\Delta_{b} + b_{b} + v_{b}\\right)$"
      ],
      "text/plain": [
       "w_b*(-Delta_b + b_b + v_b)"
      ]
     },
     "execution_count": 4,
     "metadata": {},
     "output_type": "execute_result"
    }
   ],
   "source": [
    "def spotByDelta_(asset, s, v, b, w, j, e, Delta, a, min):\n",
    "  if asset == 'b':\n",
    "    d = -Delta\n",
    "  else:\n",
    "    d = Delta\n",
    "  f = (v + b + d) * w\n",
    "  if simp:\n",
    "    f = simplify(f)\n",
    "  return f\n",
    "\n",
    "spotByDelta = {asset: spotByDelta_(asset, *all_symbols[asset]) for asset in assets}\n",
    "spotByDelta['b']"
   ]
  },
  {
   "cell_type": "code",
   "execution_count": 5,
   "metadata": {},
   "outputs": [
    {
     "data": {
      "text/latex": [
       "$\\displaystyle w_{s} \\left(\\Delta_{s} + b_{s} + v_{s}\\right)$"
      ],
      "text/plain": [
       "w_s*(Delta_s + b_s + v_s)"
      ]
     },
     "execution_count": 5,
     "metadata": {},
     "output_type": "execute_result"
    }
   ],
   "source": [
    "spotByDelta['s']"
   ]
  },
  {
   "cell_type": "code",
   "execution_count": 6,
   "metadata": {},
   "outputs": [
    {
     "data": {
      "text/latex": [
       "$\\displaystyle \\log{\\left(\\left(\\frac{s_{b}}{a_{b}}\\right)^{\\frac{1}{\\log{\\left(\\frac{j_{b} + 1}{j_{b}} \\right)}}} \\right)}$"
      ],
      "text/plain": [
       "log((s_b/a_b)**(1/log((j_b + 1)/j_b)))"
      ]
     },
     "execution_count": 6,
     "metadata": {},
     "output_type": "execute_result"
    }
   ],
   "source": [
    "def expBySpot_(s, v, b, w, j, e, Delta, a, min):\n",
    "  f = log(s/a) / log(1 + 1/j)\n",
    "  if simp:\n",
    "    f = simplify(f)\n",
    "  return f\n",
    "expBySpot = {asset: expBySpot_(*all_symbols[asset]) for asset in assets}\n",
    "expBySpot['b']"
   ]
  },
  {
   "cell_type": "code",
   "execution_count": 7,
   "metadata": {},
   "outputs": [
    {
     "data": {
      "text/latex": [
       "$\\displaystyle \\log{\\left(\\left(\\frac{s_{s}}{a_{s}}\\right)^{\\frac{1}{\\log{\\left(\\frac{j_{s} + 1}{j_{s}} \\right)}}} \\right)}$"
      ],
      "text/plain": [
       "log((s_s/a_s)**(1/log((j_s + 1)/j_s)))"
      ]
     },
     "execution_count": 7,
     "metadata": {},
     "output_type": "execute_result"
    }
   ],
   "source": [
    "expBySpot['s']"
   ]
  },
  {
   "cell_type": "code",
   "execution_count": 8,
   "metadata": {},
   "outputs": [
    {
     "data": {
      "text/latex": [
       "$\\displaystyle \\log{\\left(\\left(\\frac{w_{b} \\left(- \\Delta_{b} + b_{b} + v_{b}\\right)}{a_{b}}\\right)^{\\frac{1}{\\log{\\left(\\frac{j_{b} + 1}{j_{b}} \\right)}}} \\right)}$"
      ],
      "text/plain": [
       "log((w_b*(-Delta_b + b_b + v_b)/a_b)**(1/log((j_b + 1)/j_b)))"
      ]
     },
     "execution_count": 8,
     "metadata": {},
     "output_type": "execute_result"
    }
   ],
   "source": [
    "def expByDelta_(asset, s, v, b, w, j, e, Delta, a, min):\n",
    "    f = expBySpot[asset].subs(s, spotByDelta[asset])\n",
    "    if simp:\n",
    "        f = simplify(f)\n",
    "    return f\n",
    "\n",
    "expByDelta = {asset: expByDelta_(asset, *all_symbols[asset]) for asset in assets}\n",
    "expByDelta['b']"
   ]
  },
  {
   "cell_type": "code",
   "execution_count": 9,
   "metadata": {},
   "outputs": [
    {
     "data": {
      "text/latex": [
       "$\\displaystyle \\frac{\\Delta_{s}}{\\Delta_{b}}$"
      ],
      "text/plain": [
       "Delta_s/Delta_b"
      ]
     },
     "execution_count": 9,
     "metadata": {},
     "output_type": "execute_result"
    }
   ],
   "source": [
    "eff = Delta_s / Delta_b\n",
    "eff"
   ]
  },
  {
   "cell_type": "code",
   "execution_count": 10,
   "metadata": {},
   "outputs": [
    {
     "data": {
      "text/latex": [
       "$\\displaystyle \\frac{\\Delta_{s} w_{b} \\left(- \\Delta_{b} + b_{b} + v_{b}\\right)}{w_{s} \\left(\\Delta_{s} + b_{s} + v_{s}\\right)}$"
      ],
      "text/plain": [
       "Delta_s*w_b*(-Delta_b + b_b + v_b)/(w_s*(Delta_s + b_s + v_s))"
      ]
     },
     "execution_count": 10,
     "metadata": {},
     "output_type": "execute_result"
    }
   ],
   "source": [
    "Delta_b_by_Delta_s = Delta_s * spotByDelta['b'] / spotByDelta['s']\n",
    "if simp:\n",
    "    Delta_b_by_Delta_s = simplify(Delta_b_by_Delta_s)\n",
    "Delta_b_by_Delta_s"
   ]
  },
  {
   "cell_type": "code",
   "execution_count": 11,
   "metadata": {},
   "outputs": [
    {
     "data": {
      "text/latex": [
       "$\\displaystyle \\frac{\\Delta_{b} w_{s} \\left(\\Delta_{s} + b_{s} + v_{s}\\right)}{w_{b} \\left(- \\Delta_{b} + b_{b} + v_{b}\\right)}$"
      ],
      "text/plain": [
       "Delta_b*w_s*(Delta_s + b_s + v_s)/(w_b*(-Delta_b + b_b + v_b))"
      ]
     },
     "execution_count": 11,
     "metadata": {},
     "output_type": "execute_result"
    }
   ],
   "source": [
    "Delta_s_by_Delta_b = Delta_b * spotByDelta['s'] / spotByDelta['b']\n",
    "if simp:\n",
    "  Delta_s_by_Delta_b = simplify(Delta_s_by_Delta_b)\n",
    "Delta_s_by_Delta_b"
   ]
  },
  {
   "cell_type": "code",
   "execution_count": 12,
   "metadata": {},
   "outputs": [
    {
     "data": {
      "text/latex": [
       "$\\displaystyle \\frac{w_{s} \\left(\\Delta_{s} + b_{s} + v_{s}\\right)}{w_{b} \\left(- \\Delta_{b} + b_{b} + v_{b}\\right)}$"
      ],
      "text/plain": [
       "w_s*(Delta_s + b_s + v_s)/(w_b*(-Delta_b + b_b + v_b))"
      ]
     },
     "execution_count": 12,
     "metadata": {},
     "output_type": "execute_result"
    }
   ],
   "source": [
    "effByDelta_b = eff.subs(Delta_s, Delta_s_by_Delta_b)\n",
    "if simp:\n",
    "  effByDelta_b = simplify(effByDelta_b)\n",
    "effByDelta_b"
   ]
  },
  {
   "cell_type": "code",
   "execution_count": 13,
   "metadata": {},
   "outputs": [
    {
     "data": {
      "text/latex": [
       "$\\displaystyle \\frac{w_{s} \\left(\\Delta_{s} + b_{s} + v_{s}\\right)}{w_{b} \\left(- \\Delta_{b} + b_{b} + v_{b}\\right)}$"
      ],
      "text/plain": [
       "w_s*(Delta_s + b_s + v_s)/(w_b*(-Delta_b + b_b + v_b))"
      ]
     },
     "execution_count": 13,
     "metadata": {},
     "output_type": "execute_result"
    }
   ],
   "source": [
    "effByDelta_s = eff.subs(Delta_b, Delta_b_by_Delta_s)\n",
    "if simp:\n",
    "  effByDelta_s = simplify(effByDelta_s)\n",
    "effByDelta_s"
   ]
  },
  {
   "cell_type": "code",
   "execution_count": 14,
   "metadata": {},
   "outputs": [
    {
     "data": {
      "text/latex": [
       "$\\displaystyle 0$"
      ],
      "text/plain": [
       "0"
      ]
     },
     "execution_count": 14,
     "metadata": {},
     "output_type": "execute_result"
    }
   ],
   "source": [
    "simplify(effByDelta_s - effByDelta_b)"
   ]
  },
  {
   "cell_type": "code",
   "execution_count": 15,
   "metadata": {},
   "outputs": [],
   "source": [
    "effByDeltas = effByDelta_b"
   ]
  },
  {
   "cell_type": "code",
   "execution_count": 16,
   "metadata": {},
   "outputs": [
    {
     "data": {
      "text/latex": [
       "$\\displaystyle \\left[\\begin{matrix}\\frac{2 w_{s} \\left(\\Delta_{s} + b_{s} + v_{s}\\right)}{w_{b} \\left(- \\Delta_{b} + b_{b} + v_{b}\\right)^{3}} & \\frac{w_{s}}{w_{b} \\left(- \\Delta_{b} + b_{b} + v_{b}\\right)^{2}}\\\\\\frac{w_{s}}{w_{b} \\left(- \\Delta_{b} + b_{b} + v_{b}\\right)^{2}} & 0\\end{matrix}\\right]$"
      ],
      "text/plain": [
       "Matrix([\n",
       "[2*w_s*(Delta_s + b_s + v_s)/(w_b*(-Delta_b + b_b + v_b)**3), w_s/(w_b*(-Delta_b + b_b + v_b)**2)],\n",
       "[                        w_s/(w_b*(-Delta_b + b_b + v_b)**2),                                   0]])"
      ]
     },
     "execution_count": 16,
     "metadata": {},
     "output_type": "execute_result"
    }
   ],
   "source": [
    "H = hessian(effByDeltas, [Delta_b, Delta_s])\n",
    "H"
   ]
  },
  {
   "cell_type": "code",
   "execution_count": 17,
   "metadata": {},
   "outputs": [
    {
     "data": {
      "text/latex": [
       "$\\displaystyle \\frac{2 w_{s} \\left(\\Delta_{s} + b_{s} + v_{s}\\right)}{w_{b} \\left(- \\Delta_{b} + b_{b} + v_{b}\\right)^{3}}$"
      ],
      "text/plain": [
       "2*w_s*(Delta_s + b_s + v_s)/(w_b*(-Delta_b + b_b + v_b)**3)"
      ]
     },
     "execution_count": 17,
     "metadata": {},
     "output_type": "execute_result"
    }
   ],
   "source": [
    "topLeft = simplify(H[0, 0])\n",
    "topLeft"
   ]
  },
  {
   "cell_type": "markdown",
   "metadata": {},
   "source": [
    "-> positive, because Delta_b <= b_b"
   ]
  },
  {
   "cell_type": "code",
   "execution_count": 18,
   "metadata": {},
   "outputs": [
    {
     "data": {
      "text/latex": [
       "$\\displaystyle - \\frac{w_{s}^{2}}{w_{b}^{2} \\left(\\Delta_{b}^{4} - 4 \\Delta_{b}^{3} b_{b} - 4 \\Delta_{b}^{3} v_{b} + 6 \\Delta_{b}^{2} b_{b}^{2} + 12 \\Delta_{b}^{2} b_{b} v_{b} + 6 \\Delta_{b}^{2} v_{b}^{2} - 4 \\Delta_{b} b_{b}^{3} - 12 \\Delta_{b} b_{b}^{2} v_{b} - 12 \\Delta_{b} b_{b} v_{b}^{2} - 4 \\Delta_{b} v_{b}^{3} + b_{b}^{4} + 4 b_{b}^{3} v_{b} + 6 b_{b}^{2} v_{b}^{2} + 4 b_{b} v_{b}^{3} + v_{b}^{4}\\right)}$"
      ],
      "text/plain": [
       "-w_s**2/(w_b**2*(Delta_b**4 - 4*Delta_b**3*b_b - 4*Delta_b**3*v_b + 6*Delta_b**2*b_b**2 + 12*Delta_b**2*b_b*v_b + 6*Delta_b**2*v_b**2 - 4*Delta_b*b_b**3 - 12*Delta_b*b_b**2*v_b - 12*Delta_b*b_b*v_b**2 - 4*Delta_b*v_b**3 + b_b**4 + 4*b_b**3*v_b + 6*b_b**2*v_b**2 + 4*b_b*v_b**3 + v_b**4))"
      ]
     },
     "execution_count": 18,
     "metadata": {},
     "output_type": "execute_result"
    }
   ],
   "source": [
    "det = H.det()\n",
    "det = simplify(det)\n",
    "det"
   ]
  },
  {
   "cell_type": "code",
   "execution_count": 19,
   "metadata": {},
   "outputs": [
    {
     "data": {
      "text/plain": [
       "4"
      ]
     },
     "execution_count": 19,
     "metadata": {},
     "output_type": "execute_result"
    }
   ],
   "source": [
    "len(det.args)"
   ]
  },
  {
   "cell_type": "code",
   "execution_count": 20,
   "metadata": {},
   "outputs": [
    {
     "data": {
      "text/latex": [
       "$\\displaystyle -1$"
      ],
      "text/plain": [
       "-1"
      ]
     },
     "execution_count": 20,
     "metadata": {},
     "output_type": "execute_result"
    }
   ],
   "source": [
    "det.args[0]"
   ]
  },
  {
   "cell_type": "code",
   "execution_count": 21,
   "metadata": {},
   "outputs": [
    {
     "data": {
      "text/latex": [
       "$\\displaystyle \\frac{1}{w_{b}^{2}}$"
      ],
      "text/plain": [
       "w_b**(-2)"
      ]
     },
     "execution_count": 21,
     "metadata": {},
     "output_type": "execute_result"
    }
   ],
   "source": [
    "det.args[1]"
   ]
  },
  {
   "cell_type": "code",
   "execution_count": 22,
   "metadata": {},
   "outputs": [
    {
     "data": {
      "text/latex": [
       "$\\displaystyle w_{s}^{2}$"
      ],
      "text/plain": [
       "w_s**2"
      ]
     },
     "execution_count": 22,
     "metadata": {},
     "output_type": "execute_result"
    }
   ],
   "source": [
    "det.args[2]"
   ]
  },
  {
   "cell_type": "code",
   "execution_count": 23,
   "metadata": {},
   "outputs": [
    {
     "data": {
      "text/latex": [
       "$\\displaystyle \\frac{1}{\\Delta_{b}^{4} - 4 \\Delta_{b}^{3} b_{b} - 4 \\Delta_{b}^{3} v_{b} + 6 \\Delta_{b}^{2} b_{b}^{2} + 12 \\Delta_{b}^{2} b_{b} v_{b} + 6 \\Delta_{b}^{2} v_{b}^{2} - 4 \\Delta_{b} b_{b}^{3} - 12 \\Delta_{b} b_{b}^{2} v_{b} - 12 \\Delta_{b} b_{b} v_{b}^{2} - 4 \\Delta_{b} v_{b}^{3} + b_{b}^{4} + 4 b_{b}^{3} v_{b} + 6 b_{b}^{2} v_{b}^{2} + 4 b_{b} v_{b}^{3} + v_{b}^{4}}$"
      ],
      "text/plain": [
       "1/(Delta_b**4 - 4*Delta_b**3*b_b - 4*Delta_b**3*v_b + 6*Delta_b**2*b_b**2 + 12*Delta_b**2*b_b*v_b + 6*Delta_b**2*v_b**2 - 4*Delta_b*b_b**3 - 12*Delta_b*b_b**2*v_b - 12*Delta_b*b_b*v_b**2 - 4*Delta_b*v_b**3 + b_b**4 + 4*b_b**3*v_b + 6*b_b**2*v_b**2 + 4*b_b*v_b**3 + v_b**4)"
      ]
     },
     "execution_count": 23,
     "metadata": {},
     "output_type": "execute_result"
    }
   ],
   "source": [
    "det.args[3]"
   ]
  },
  {
   "cell_type": "code",
   "execution_count": 24,
   "metadata": {},
   "outputs": [
    {
     "data": {
      "text/plain": [
       "sympy.core.power.Pow"
      ]
     },
     "execution_count": 24,
     "metadata": {},
     "output_type": "execute_result"
    }
   ],
   "source": [
    "det.args[3].func"
   ]
  },
  {
   "cell_type": "code",
   "execution_count": 25,
   "metadata": {},
   "outputs": [
    {
     "data": {
      "text/plain": [
       "2"
      ]
     },
     "execution_count": 25,
     "metadata": {},
     "output_type": "execute_result"
    }
   ],
   "source": [
    "len(det.args[3].args)"
   ]
  },
  {
   "cell_type": "code",
   "execution_count": 26,
   "metadata": {},
   "outputs": [
    {
     "data": {
      "text/latex": [
       "$\\displaystyle -1$"
      ],
      "text/plain": [
       "-1"
      ]
     },
     "execution_count": 26,
     "metadata": {},
     "output_type": "execute_result"
    }
   ],
   "source": [
    "det.args[3].args[1]"
   ]
  },
  {
   "cell_type": "code",
   "execution_count": 27,
   "metadata": {},
   "outputs": [
    {
     "data": {
      "text/latex": [
       "$\\displaystyle \\Delta_{b}^{4} - 4 \\Delta_{b}^{3} b_{b} - 4 \\Delta_{b}^{3} v_{b} + 6 \\Delta_{b}^{2} b_{b}^{2} + 12 \\Delta_{b}^{2} b_{b} v_{b} + 6 \\Delta_{b}^{2} v_{b}^{2} - 4 \\Delta_{b} b_{b}^{3} - 12 \\Delta_{b} b_{b}^{2} v_{b} - 12 \\Delta_{b} b_{b} v_{b}^{2} - 4 \\Delta_{b} v_{b}^{3} + b_{b}^{4} + 4 b_{b}^{3} v_{b} + 6 b_{b}^{2} v_{b}^{2} + 4 b_{b} v_{b}^{3} + v_{b}^{4}$"
      ],
      "text/plain": [
       "Delta_b**4 - 4*Delta_b**3*b_b - 4*Delta_b**3*v_b + 6*Delta_b**2*b_b**2 + 12*Delta_b**2*b_b*v_b + 6*Delta_b**2*v_b**2 - 4*Delta_b*b_b**3 - 12*Delta_b*b_b**2*v_b - 12*Delta_b*b_b*v_b**2 - 4*Delta_b*v_b**3 + b_b**4 + 4*b_b**3*v_b + 6*b_b**2*v_b**2 + 4*b_b*v_b**3 + v_b**4"
      ]
     },
     "execution_count": 27,
     "metadata": {},
     "output_type": "execute_result"
    }
   ],
   "source": [
    "f = det.args[3].args[0]\n",
    "f"
   ]
  },
  {
   "cell_type": "code",
   "execution_count": 28,
   "metadata": {},
   "outputs": [
    {
     "data": {
      "text/plain": [
       "[{Delta_b: b_b + v_b}]"
      ]
     },
     "execution_count": 28,
     "metadata": {},
     "output_type": "execute_result"
    }
   ],
   "source": [
    "solve(Eq(f, 0)) # -> can never happen because Delta_b <= b_b"
   ]
  },
  {
   "cell_type": "code",
   "execution_count": 29,
   "metadata": {},
   "outputs": [
    {
     "data": {
      "text/latex": [
       "$\\displaystyle v_{b}^{4}$"
      ],
      "text/plain": [
       "v_b**4"
      ]
     },
     "execution_count": 29,
     "metadata": {},
     "output_type": "execute_result"
    }
   ],
   "source": [
    "f.subs(Delta_b, b_b)"
   ]
  },
  {
   "cell_type": "code",
   "execution_count": 30,
   "metadata": {},
   "outputs": [
    {
     "data": {
      "text/latex": [
       "$\\displaystyle b_{b}^{4} + 4 b_{b}^{3} v_{b} + 6 b_{b}^{2} v_{b}^{2} + 4 b_{b} v_{b}^{3} + v_{b}^{4}$"
      ],
      "text/plain": [
       "b_b**4 + 4*b_b**3*v_b + 6*b_b**2*v_b**2 + 4*b_b*v_b**3 + v_b**4"
      ]
     },
     "execution_count": 30,
     "metadata": {},
     "output_type": "execute_result"
    }
   ],
   "source": [
    "f.subs(Delta_b, 0)"
   ]
  },
  {
   "cell_type": "code",
   "execution_count": 31,
   "metadata": {},
   "outputs": [
    {
     "data": {
      "text/latex": [
       "$\\displaystyle 4 \\Delta_{b}^{3} - 12 \\Delta_{b}^{2} b_{b} - 12 \\Delta_{b}^{2} v_{b} + 12 \\Delta_{b} b_{b}^{2} + 24 \\Delta_{b} b_{b} v_{b} + 12 \\Delta_{b} v_{b}^{2} - 4 b_{b}^{3} - 12 b_{b}^{2} v_{b} - 12 b_{b} v_{b}^{2} - 4 v_{b}^{3}$"
      ],
      "text/plain": [
       "4*Delta_b**3 - 12*Delta_b**2*b_b - 12*Delta_b**2*v_b + 12*Delta_b*b_b**2 + 24*Delta_b*b_b*v_b + 12*Delta_b*v_b**2 - 4*b_b**3 - 12*b_b**2*v_b - 12*b_b*v_b**2 - 4*v_b**3"
      ]
     },
     "execution_count": 31,
     "metadata": {},
     "output_type": "execute_result"
    }
   ],
   "source": [
    "df = f.diff(Delta_b)\n",
    "df"
   ]
  },
  {
   "cell_type": "code",
   "execution_count": 32,
   "metadata": {},
   "outputs": [
    {
     "data": {
      "text/plain": [
       "[{Delta_b: b_b + v_b}]"
      ]
     },
     "execution_count": 32,
     "metadata": {},
     "output_type": "execute_result"
    }
   ],
   "source": [
    "solve(Eq(df, 0)) # -> can never happen because Delta_b <= b_b"
   ]
  },
  {
   "cell_type": "markdown",
   "metadata": {},
   "source": [
    "-> since the boundaries are both positive, and the derivative is only zero at one point outside the interval, the function is positive everywhere\n",
    "\n",
    "-> determinant is negative\n",
    "\n",
    "-> neither convex nor concave / has a saddle-point\n",
    "\n",
    "-> might get multiple solutions which might even not include the local optimum"
   ]
  },
  {
   "cell_type": "code",
   "execution_count": null,
   "metadata": {},
   "outputs": [],
   "source": []
  },
  {
   "cell_type": "code",
   "execution_count": null,
   "metadata": {},
   "outputs": [],
   "source": []
  },
  {
   "cell_type": "code",
   "execution_count": null,
   "metadata": {},
   "outputs": [],
   "source": []
  },
  {
   "cell_type": "code",
   "execution_count": null,
   "metadata": {},
   "outputs": [],
   "source": []
  },
  {
   "cell_type": "code",
   "execution_count": null,
   "metadata": {},
   "outputs": [],
   "source": []
  },
  {
   "cell_type": "code",
   "execution_count": null,
   "metadata": {},
   "outputs": [],
   "source": []
  },
  {
   "cell_type": "markdown",
   "metadata": {},
   "source": [
    "## inequality-constraints\n",
    "\n",
    "- value in A0 of buying must not exceed that of selling\n",
    "- the exponents must adhere to their upper (buying) resp. lower (selling) bounds given by our equation\n",
    "- need to buy and sell minimum amounts\n",
    "- cannot buy more than the available balance\n",
    "- cannot sell more than maxSelling\n",
    "- the spot prices must not exceed maxInteger\n",
    "- bonus: the total number of multiplications for both exponentiations must not exceed expLimit (TODO)"
   ]
  },
  {
   "cell_type": "code",
   "execution_count": null,
   "metadata": {},
   "outputs": [],
   "source": [
    "def expBound_(asset, s, v, b, w, j, e, Delta, a, min):\n",
    "    e_bound = log(w * (v + b) /a, 1 + 1/j) # constant wrt e\n",
    "    exp = expByDelta[asset]\n",
    "    if simp:\n",
    "        e_bound = simplify(e_bound)\n",
    "    if asset == 'b':\n",
    "        f = exp - e_bound # <=! 0 (upper bound)\n",
    "    else:\n",
    "        f = e_bound - exp # <=! 0 (lower bound)\n",
    "    if simp:\n",
    "        f = simplify(f)\n",
    "    return f\n",
    "\n",
    "expBound = {asset: expBound_(asset, *all_symbols[asset]) for asset in assets}\n",
    "expBound['b']"
   ]
  },
  {
   "cell_type": "code",
   "execution_count": null,
   "metadata": {},
   "outputs": [],
   "source": [
    "expBound['s']"
   ]
  },
  {
   "cell_type": "code",
   "execution_count": null,
   "metadata": {},
   "outputs": [],
   "source": [
    "max_s, I_max = symbols('max_s I_max', positive=True, integer=True)\n",
    "\n",
    "def maxSpotBound_(asset, s, v, b, w, j, e, Delta, a, min):\n",
    "  return spotByDelta[asset] - I_max # <=! 0\n",
    "\n",
    "maxSpotBound = {asset: maxSpotBound_(asset, *all_symbols[asset]) for asset in assets}\n",
    "maxSpotBound['b']"
   ]
  },
  {
   "cell_type": "code",
   "execution_count": null,
   "metadata": {},
   "outputs": [],
   "source": [
    "def minAmntBound_(asset, s, v, b, w, j, e, Delta, a, min):\n",
    "    f = min - Delta # <=! 0\n",
    "    if simp:\n",
    "        f = simplify(f)\n",
    "    return f\n",
    "\n",
    "minAmntBound = {asset: minAmntBound_(asset, *all_symbols[asset]) for asset in assets}\n",
    "minAmntBound['b']"
   ]
  },
  {
   "cell_type": "code",
   "execution_count": null,
   "metadata": {},
   "outputs": [],
   "source": [
    "def maxAmntBound_(asset, s, v, b, w, j, e, Delta, a, min):\n",
    "    if asset == 'b':\n",
    "        max = b\n",
    "    else:\n",
    "        max = max_s\n",
    "    f = Delta - max # <=! 0\n",
    "    if simp:\n",
    "        f = simplify(f)\n",
    "    return f\n",
    "\n",
    "maxAmntBound = {asset: maxAmntBound_(asset, *all_symbols[asset]) for asset in assets}\n",
    "maxAmntBound['b']"
   ]
  },
  {
   "cell_type": "code",
   "execution_count": null,
   "metadata": {},
   "outputs": [],
   "source": [
    "maxAmntBound['s']"
   ]
  },
  {
   "cell_type": "markdown",
   "metadata": {},
   "source": [
    "## Lagrangian"
   ]
  },
  {
   "cell_type": "code",
   "execution_count": null,
   "metadata": {},
   "outputs": [],
   "source": [
    "l1, l2, l3, l4, l5, l6, l7, l8 = symbols('lambda_1 lambda_2 lambda_3 lambda_4 lambda_5 lambda_6 lambda_7 lambda_8', positive=True)\n",
    "\n",
    "L = eff + l1 * expBound['b'] + l2 * expBound['s'] + l3 * maxSpotBound['b'] + l4 * maxSpotBound['s'] + l5 * minAmntBound['b'] + l6 * minAmntBound['s'] + l7 * maxAmntBound['b'] + l8 * maxAmntBound['s']\n",
    "if simp:\n",
    "    L = simplify(L)\n",
    "L"
   ]
  },
  {
   "cell_type": "code",
   "execution_count": null,
   "metadata": {},
   "outputs": [],
   "source": [
    "# Partial derivatives\n",
    "dL_dDelta_s = L.diff(Delta_s)\n",
    "dL_dDelta_b = L.diff(Delta_b)\n",
    "\n",
    "# Set them to zero\n",
    "stationary_conditions = [\n",
    "    Eq(dL_dDelta_s, 0),\n",
    "    Eq(dL_dDelta_b, 0),\n",
    "]"
   ]
  },
  {
   "cell_type": "code",
   "execution_count": null,
   "metadata": {},
   "outputs": [],
   "source": [
    "solutions_ = solve(stationary_conditions, (Delta_s, Delta_b, l1, l2, l3, l4, l5, l6, l7, l8, l9))\n",
    "\n",
    "print(len(solutions_))\n",
    "solutions = solutions_[0]\n",
    "e_s_sol, e_b_sol, l1_sol, l2_sol, l3_sol, l4_sol, l5_sol, l6_sol, l7_sol, l8_sol, l9_sol = solutions\n",
    "solutions"
   ]
  },
  {
   "cell_type": "code",
   "execution_count": null,
   "metadata": {},
   "outputs": [],
   "source": [
    "for sol in solutions:\n",
    "  print(sol.free_symbols)"
   ]
  },
  {
   "cell_type": "code",
   "execution_count": null,
   "metadata": {},
   "outputs": [],
   "source": [
    "e_s_sol"
   ]
  },
  {
   "cell_type": "code",
   "execution_count": null,
   "metadata": {},
   "outputs": [],
   "source": [
    "e_b_sol"
   ]
  },
  {
   "cell_type": "code",
   "execution_count": null,
   "metadata": {},
   "outputs": [],
   "source": [
    "l1_sol"
   ]
  },
  {
   "cell_type": "code",
   "execution_count": null,
   "metadata": {},
   "outputs": [],
   "source": [
    "l2_sol"
   ]
  },
  {
   "cell_type": "code",
   "execution_count": null,
   "metadata": {},
   "outputs": [],
   "source": [
    "l3_sol"
   ]
  },
  {
   "cell_type": "code",
   "execution_count": null,
   "metadata": {},
   "outputs": [],
   "source": [
    "l4_sol"
   ]
  },
  {
   "cell_type": "code",
   "execution_count": null,
   "metadata": {},
   "outputs": [],
   "source": [
    "l5_sol"
   ]
  },
  {
   "cell_type": "code",
   "execution_count": null,
   "metadata": {},
   "outputs": [],
   "source": [
    "l6_sol"
   ]
  },
  {
   "cell_type": "code",
   "execution_count": null,
   "metadata": {},
   "outputs": [],
   "source": [
    "l7_sol"
   ]
  },
  {
   "cell_type": "code",
   "execution_count": null,
   "metadata": {},
   "outputs": [],
   "source": [
    "l8_sol"
   ]
  },
  {
   "cell_type": "code",
   "execution_count": null,
   "metadata": {},
   "outputs": [],
   "source": [
    "l9_sol"
   ]
  },
  {
   "cell_type": "code",
   "execution_count": null,
   "metadata": {},
   "outputs": [],
   "source": []
  }
 ],
 "metadata": {
  "kernelspec": {
   "display_name": "Python 3",
   "language": "python",
   "name": "python3"
  },
  "language_info": {
   "codemirror_mode": {
    "name": "ipython",
    "version": 3
   },
   "file_extension": ".py",
   "mimetype": "text/x-python",
   "name": "python",
   "nbconvert_exporter": "python",
   "pygments_lexer": "ipython3",
   "version": "3.9.16"
  }
 },
 "nbformat": 4,
 "nbformat_minor": 2
}
