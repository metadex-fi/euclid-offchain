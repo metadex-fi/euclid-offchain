{
 "cells": [
  {
   "cell_type": "code",
   "execution_count": 1,
   "metadata": {},
   "outputs": [],
   "source": [
    "from sympy import symbols, simplify, hessian, solveset, S, solve, log, And, Le, Ge"
   ]
  },
  {
   "cell_type": "code",
   "execution_count": 2,
   "metadata": {},
   "outputs": [
    {
     "data": {
      "text/plain": [
       "{'b': (s_b, l_b, w_b, j_b, e_b, Delta_b, a_b),\n",
       " 's': (s_s, l_s, w_s, j_s, e_s, Delta_s, a_s)}"
      ]
     },
     "execution_count": 2,
     "metadata": {},
     "output_type": "execute_result"
    }
   ],
   "source": [
    "assets = ['b', 's'] # buying and selling assets\n",
    "base_symbols = ['s', 'l', 'w', 'j', 'e', 'Delta', 'a'] \n",
    "# spot price, liquidity, weight, jump size, exponent, delta, anchor price\n",
    "all_symbols = {}\n",
    "for asset in assets:\n",
    "    temp_dict = {}\n",
    "    for base in base_symbols:\n",
    "        if base == 'e':\n",
    "            temp_dict[f\"{base}_{asset}\"] = symbols(f\"{base}_{asset}\", integer=True)\n",
    "        else:\n",
    "            temp_dict[f\"{base}_{asset}\"] = symbols(f\"{base}_{asset}\", positive=True, integer=True)\n",
    "    all_symbols[asset] = tuple(temp_dict.values())\n",
    "\n",
    "all_symbols"
   ]
  },
  {
   "cell_type": "code",
   "execution_count": 3,
   "metadata": {},
   "outputs": [],
   "source": [
    "e_b = all_symbols['b'][base_symbols.index('e')]\n",
    "e_s = all_symbols['s'][base_symbols.index('e')]\n",
    "Delta_b = all_symbols['b'][base_symbols.index('Delta')]\n",
    "Delta_s = all_symbols['s'][base_symbols.index('Delta')]"
   ]
  },
  {
   "cell_type": "code",
   "execution_count": 4,
   "metadata": {},
   "outputs": [
    {
     "data": {
      "text/latex": [
       "$\\displaystyle l_{b} - \\frac{s_{b}}{w_{b}}$"
      ],
      "text/plain": [
       "l_b - s_b/w_b"
      ]
     },
     "execution_count": 4,
     "metadata": {},
     "output_type": "execute_result"
    }
   ],
   "source": [
    "def deltaBySpot_(s, l, w, j, e, Delta, a):\n",
    "  return simplify((s - l * w) / w)\n",
    "\n",
    "deltaBySpot = {asset: deltaBySpot_(*all_symbols[asset]) for asset in assets}\n",
    "deltaBySpot['b'] = -deltaBySpot['b']\n",
    "deltaBySpot['b']"
   ]
  },
  {
   "cell_type": "code",
   "execution_count": 5,
   "metadata": {},
   "outputs": [
    {
     "data": {
      "text/latex": [
       "$\\displaystyle - l_{s} + \\frac{s_{s}}{w_{s}}$"
      ],
      "text/plain": [
       "-l_s + s_s/w_s"
      ]
     },
     "execution_count": 5,
     "metadata": {},
     "output_type": "execute_result"
    }
   ],
   "source": [
    "deltaBySpot['s']"
   ]
  },
  {
   "cell_type": "code",
   "execution_count": 6,
   "metadata": {},
   "outputs": [
    {
     "data": {
      "text/latex": [
       "$\\displaystyle a_{b} \\left(\\frac{j_{b} + 1}{j_{b}}\\right)^{e_{b}}$"
      ],
      "text/plain": [
       "a_b*((j_b + 1)/j_b)**e_b"
      ]
     },
     "execution_count": 6,
     "metadata": {},
     "output_type": "execute_result"
    }
   ],
   "source": [
    "def spotByExp_(s, l, w, j, e, Delta, a):\n",
    "  return simplify(a * ((1 + 1/j) ** e)\n",
    ")\n",
    "spotByExp = {asset: spotByExp_(*all_symbols[asset]) for asset in assets}\n",
    "spotByExp['b']"
   ]
  },
  {
   "cell_type": "code",
   "execution_count": 7,
   "metadata": {},
   "outputs": [
    {
     "data": {
      "text/latex": [
       "$\\displaystyle - \\frac{a_{b} j_{b}^{- e_{b}} \\left(j_{b} + 1\\right)^{e_{b}}}{w_{b}} + l_{b}$"
      ],
      "text/plain": [
       "-a_b*j_b**(-e_b)*(j_b + 1)**e_b/w_b + l_b"
      ]
     },
     "execution_count": 7,
     "metadata": {},
     "output_type": "execute_result"
    }
   ],
   "source": [
    "def deltaByExp_(asset, s, l, w, j, e, Delta, a):\n",
    "    return simplify(deltaBySpot[asset].subs(s, spotByExp[asset]))\n",
    "\n",
    "deltaByExp = {asset: deltaByExp_(asset, *all_symbols[asset]) for asset in assets}\n",
    "deltaByExp['b']"
   ]
  },
  {
   "cell_type": "code",
   "execution_count": 8,
   "metadata": {},
   "outputs": [
    {
     "data": {
      "text/latex": [
       "$\\displaystyle \\frac{a_{s} j_{s}^{- e_{s}} \\left(j_{s} + 1\\right)^{e_{s}}}{w_{s}} - l_{s}$"
      ],
      "text/plain": [
       "a_s*j_s**(-e_s)*(j_s + 1)**e_s/w_s - l_s"
      ]
     },
     "execution_count": 8,
     "metadata": {},
     "output_type": "execute_result"
    }
   ],
   "source": [
    "deltaByExp['s']"
   ]
  },
  {
   "cell_type": "code",
   "execution_count": 9,
   "metadata": {},
   "outputs": [
    {
     "data": {
      "text/latex": [
       "$\\displaystyle - e_{b} + \\log{\\left(\\left(\\frac{l_{b} w_{b}}{a_{b}}\\right)^{\\frac{1}{\\log{\\left(\\frac{j_{b} + 1}{j_{b}} \\right)}}} \\right)} \\geq 0$"
      ],
      "text/plain": [
       "-e_b + log((l_b*w_b/a_b)**(1/log((j_b + 1)/j_b))) >= 0"
      ]
     },
     "execution_count": 9,
     "metadata": {},
     "output_type": "execute_result"
    }
   ],
   "source": [
    "def expBound_(asset, s, l, w, j, e, Delta, a):\n",
    "    limit = simplify(log(w * l /a, 1 + 1/j))\n",
    "    if asset == 'b':\n",
    "        return Ge(limit - e, 0)\n",
    "    else:\n",
    "        return Ge(e, limit)\n",
    "\n",
    "expBound = {asset: expBound_(asset, *all_symbols[asset]) for asset in assets}\n",
    "expBound['b']"
   ]
  },
  {
   "cell_type": "code",
   "execution_count": 10,
   "metadata": {},
   "outputs": [
    {
     "data": {
      "text/latex": [
       "$\\displaystyle e_{s} \\geq \\log{\\left(\\left(\\frac{l_{s} w_{s}}{a_{s}}\\right)^{\\frac{1}{\\log{\\left(\\frac{j_{s} + 1}{j_{s}} \\right)}}} \\right)}$"
      ],
      "text/plain": [
       "e_s >= log((l_s*w_s/a_s)**(1/log((j_s + 1)/j_s)))"
      ]
     },
     "execution_count": 10,
     "metadata": {},
     "output_type": "execute_result"
    }
   ],
   "source": [
    "expBound['s']"
   ]
  },
  {
   "cell_type": "code",
   "execution_count": 11,
   "metadata": {},
   "outputs": [
    {
     "data": {
      "text/latex": [
       "$\\displaystyle \\frac{a_{b} j_{b}^{- e_{b}} \\left(j_{b} + 1\\right)^{e_{b}}}{w_{b}} - l_{b} \\leq 0$"
      ],
      "text/plain": [
       "a_b*j_b**(-e_b)*(j_b + 1)**e_b/w_b - l_b <= 0"
      ]
     },
     "execution_count": 11,
     "metadata": {},
     "output_type": "execute_result"
    }
   ],
   "source": [
    "def deltaLimit_(asset, s, l, w, j, e, Delta, a):\n",
    "    e = all_symbols[asset][base_symbols.index('e')]\n",
    "    return simplify(solveset(deltaByExp[asset] >= 0, e, domain=S.Integers).condition)\n",
    "\n",
    "deltaLimit = {asset: deltaLimit_(asset, *all_symbols[asset]) for asset in assets}\n",
    "deltaLimit['b']"
   ]
  },
  {
   "cell_type": "code",
   "execution_count": 12,
   "metadata": {},
   "outputs": [
    {
     "data": {
      "text/latex": [
       "$\\displaystyle \\frac{a_{s} j_{s}^{- e_{s}} \\left(j_{s} + 1\\right)^{e_{s}}}{w_{s}} - l_{s} \\geq 0$"
      ],
      "text/plain": [
       "a_s*j_s**(-e_s)*(j_s + 1)**e_s/w_s - l_s >= 0"
      ]
     },
     "execution_count": 12,
     "metadata": {},
     "output_type": "execute_result"
    }
   ],
   "source": [
    "deltaLimit['s']"
   ]
  },
  {
   "cell_type": "code",
   "execution_count": null,
   "metadata": {},
   "outputs": [],
   "source": [
    "ebUpper = min(deltaLimit['b'].condition.lhs)"
   ]
  },
  {
   "cell_type": "code",
   "execution_count": null,
   "metadata": {},
   "outputs": [],
   "source": [
    "eff = Delta_s / Delta_b\n",
    "eff"
   ]
  },
  {
   "cell_type": "code",
   "execution_count": null,
   "metadata": {},
   "outputs": [],
   "source": [
    "deltaByExp_b = deltaByExp['b']\n",
    "deltaByExp_s = deltaByExp['s']\n",
    "effByExps = eff.subs({Delta_b: deltaByExp_b, Delta_s: deltaByExp_s})\n",
    "effByExps"
   ]
  },
  {
   "cell_type": "code",
   "execution_count": null,
   "metadata": {},
   "outputs": [],
   "source": [
    "e_b = all_symbols['b'][base_symbols.index('e')]\n",
    "e_s = all_symbols['s'][base_symbols.index('e')]\n",
    "H = hessian(effByExps, (e_b, e_s))\n",
    "H"
   ]
  },
  {
   "cell_type": "code",
   "execution_count": null,
   "metadata": {},
   "outputs": [],
   "source": [
    "# checking for convexity. Both need to be nonnegative\n",
    "topLeft = simplify(H[0, 0])\n",
    "#det = simplify(H.det())\n",
    "\n",
    "topLeft\n"
   ]
  },
  {
   "cell_type": "code",
   "execution_count": null,
   "metadata": {},
   "outputs": [],
   "source": [
    "nonneg_topLeft_eb = solveset(topLeft >= 0, e_b, domain=S.Integers)\n",
    "nonneg_topLeft_eb"
   ]
  },
  {
   "cell_type": "code",
   "execution_count": null,
   "metadata": {},
   "outputs": [],
   "source": [
    "nonneg_topLeft_es = solveset(topLeft >= 0, e_s, domain=S.Integers)\n",
    "nonneg_topLeft_es"
   ]
  },
  {
   "cell_type": "code",
   "execution_count": null,
   "metadata": {},
   "outputs": [],
   "source": [
    "det = H.det()\n",
    "det"
   ]
  },
  {
   "cell_type": "code",
   "execution_count": null,
   "metadata": {},
   "outputs": [],
   "source": [
    "det = simplify(det)\n",
    "det"
   ]
  },
  {
   "cell_type": "code",
   "execution_count": null,
   "metadata": {},
   "outputs": [],
   "source": [
    "nonneg_det_eb = solveset(det >= 0, e_b, domain=S.Integers)\n",
    "nonneg_det_eb"
   ]
  },
  {
   "cell_type": "code",
   "execution_count": null,
   "metadata": {},
   "outputs": [],
   "source": [
    "nonneg_det_es = solveset(det >= 0, e_s, domain=S.Integers)\n",
    "nonneg_det_es"
   ]
  },
  {
   "cell_type": "code",
   "execution_count": null,
   "metadata": {},
   "outputs": [],
   "source": [
    "nonneg_topLeft = simplify(nonneg_topLeft_eb.condition)\n",
    "nonneg_topLeft"
   ]
  },
  {
   "cell_type": "code",
   "execution_count": null,
   "metadata": {},
   "outputs": [],
   "source": [
    "simplify(nonneg_topLeft_eb.condition.lhs - nonneg_topLeft_es.condition.lhs)"
   ]
  },
  {
   "cell_type": "code",
   "execution_count": null,
   "metadata": {},
   "outputs": [],
   "source": [
    "nonneg_det = simplify(nonneg_det_eb.condition)\n",
    "nonneg_det"
   ]
  },
  {
   "cell_type": "code",
   "execution_count": null,
   "metadata": {},
   "outputs": [],
   "source": [
    "simplify(nonneg_det_eb.condition.lhs - nonneg_det_es.condition.lhs)"
   ]
  },
  {
   "cell_type": "code",
   "execution_count": null,
   "metadata": {},
   "outputs": [],
   "source": [
    "simplify(And(expBound['b'] >= e_b, nonneg_topLeft_eb.condition))"
   ]
  },
  {
   "cell_type": "code",
   "execution_count": null,
   "metadata": {},
   "outputs": [],
   "source": []
  }
 ],
 "metadata": {
  "kernelspec": {
   "display_name": "Python 3",
   "language": "python",
   "name": "python3"
  },
  "language_info": {
   "codemirror_mode": {
    "name": "ipython",
    "version": 3
   },
   "file_extension": ".py",
   "mimetype": "text/x-python",
   "name": "python",
   "nbconvert_exporter": "python",
   "pygments_lexer": "ipython3",
   "version": "3.9.16"
  }
 },
 "nbformat": 4,
 "nbformat_minor": 2
}
