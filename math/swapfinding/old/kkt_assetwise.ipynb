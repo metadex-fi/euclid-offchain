{
 "cells": [
  {
   "cell_type": "code",
   "execution_count": 1,
   "metadata": {},
   "outputs": [],
   "source": [
    "from sympy import symbols, simplify, hessian, solveset, S, solve, log, And, Le, Ge, Eq, Lt, Gt"
   ]
  },
  {
   "cell_type": "code",
   "execution_count": 2,
   "metadata": {},
   "outputs": [],
   "source": [
    "s,\n",
    "  v,\n",
    "  w,\n",
    "  j,\n",
    "  Delta,\n",
    "  a,\n",
    "  min = symbols(\"s v w j Delta a min\", positive = True, integer = True);\n",
    "b = symbols(\"b\", nonnegative = True, integer = True);\n",
    "e = symbols(\"e\", integer = True);"
   ]
  },
  {
   "cell_type": "markdown",
   "metadata": {},
   "source": [
    "## Target function\n",
    "\n",
    "we want to minimize the effective price, given a set of exponents for the buying\n",
    "and selling asset each."
   ]
  },
  {
   "cell_type": "code",
   "execution_count": 3,
   "metadata": {},
   "outputs": [
    {
     "data": {
      "text/latex": [
       "$\\displaystyle - b + \\frac{s}{w} - v$"
      ],
      "text/plain": [
       "-b + s/w - v"
      ]
     },
     "execution_count": 3,
     "metadata": {},
     "output_type": "execute_result"
    }
   ],
   "source": [
    "deltaBySpot = simplify((s - (v + b) * w) / w);\n",
    "deltaBySpot;"
   ]
  },
  {
   "cell_type": "code",
   "execution_count": 4,
   "metadata": {},
   "outputs": [
    {
     "data": {
      "text/latex": [
       "$\\displaystyle a \\left(\\frac{j + 1}{j}\\right)^{e}$"
      ],
      "text/plain": [
       "a*((j + 1)/j)**e"
      ]
     },
     "execution_count": 4,
     "metadata": {},
     "output_type": "execute_result"
    }
   ],
   "source": [
    "spotByExp = simplify(a * ((1 + 1 / j) ** e));\n",
    "spotByExp;"
   ]
  },
  {
   "cell_type": "code",
   "execution_count": 5,
   "metadata": {},
   "outputs": [
    {
     "data": {
      "text/latex": [
       "$\\displaystyle \\frac{a j^{- e} \\left(j + 1\\right)^{e}}{w} - b - v$"
      ],
      "text/plain": [
       "a*j**(-e)*(j + 1)**e/w - b - v"
      ]
     },
     "execution_count": 5,
     "metadata": {},
     "output_type": "execute_result"
    }
   ],
   "source": [
    "deltaByExp = simplify(deltaBySpot.subs(s, spotByExp));\n",
    "deltaByExp;"
   ]
  },
  {
   "cell_type": "markdown",
   "metadata": {},
   "source": [
    "### convexity of the target function\n",
    "\n",
    "- deltaBySpot is linear\n",
    "- spotByExp is convex\n",
    "- deltaByExp is a composition of the two\n",
    "\n",
    "=> deltaByExp is convex\n",
    "\n",
    "- negation flips convexity/concavity\n",
    "- deltaBuyingByExp is negative => -deltaBuyingByExp is positive\n",
    "- inversion of a positive function flips convexity/concavity => 1 /\n",
    "  (-deltaBuyingByExp) is convex\n",
    "- multiplying two nonnegative functions with different variables, that are each\n",
    "  convex and independent of the other's variable, results in a convex function\n",
    "\n",
    "==> effectivePrice = deltaSellingByExp / (-deltaBuyingByExp) is convex. qed"
   ]
  },
  {
   "cell_type": "markdown",
   "metadata": {},
   "source": []
  },
  {
   "cell_type": "markdown",
   "metadata": {},
   "source": [
    "## inequality-constraints\n",
    "\n",
    "- the exponents must adhere to their upper (buying) resp. lower (selling) bounds\n",
    "  given by our equation\n",
    "- need to buy and sell minimum amounts (TODO)\n",
    "- cannot buy more than the available balance\n",
    "- cannot sell more than maxSelling\n",
    "- the spot prices must not exceed maxInteger\n",
    "- bonus: the total number of multiplications for both exponentiations must not\n",
    "  exceed expLimit (TODO)"
   ]
  },
  {
   "cell_type": "code",
   "execution_count": 6,
   "metadata": {},
   "outputs": [
    {
     "data": {
      "text/latex": [
       "$\\displaystyle \\log{\\left(\\left(\\frac{w \\left(b + v\\right)}{a}\\right)^{\\frac{1}{\\log{\\left(\\frac{j + 1}{j} \\right)}}} \\right)}$"
      ],
      "text/plain": [
       "log((w*(b + v)/a)**(1/log((j + 1)/j)))"
      ]
     },
     "execution_count": 6,
     "metadata": {},
     "output_type": "execute_result"
    }
   ],
   "source": [
    "expBound = simplify(log(w * (v + b) / a, 1 + 1 / j));\n",
    "expBound;"
   ]
  },
  {
   "cell_type": "code",
   "execution_count": 7,
   "metadata": {},
   "outputs": [
    {
     "data": {
      "text/latex": [
       "$\\displaystyle e - \\log{\\left(\\left(\\frac{w \\left(b + v\\right)}{a}\\right)^{\\frac{1}{\\log{\\left(\\frac{j + 1}{j} \\right)}}} \\right)}$"
      ],
      "text/plain": [
       "e - log((w*(b + v)/a)**(1/log((j + 1)/j)))"
      ]
     },
     "execution_count": 7,
     "metadata": {},
     "output_type": "execute_result"
    }
   ],
   "source": [
    "expBoundBuying = e - expBound # <=! 0 (upper bound)\n",
    "expBoundBuying"
   ]
  },
  {
   "cell_type": "code",
   "execution_count": 8,
   "metadata": {},
   "outputs": [
    {
     "data": {
      "text/latex": [
       "$\\displaystyle - e + \\log{\\left(\\left(\\frac{w \\left(b + v\\right)}{a}\\right)^{\\frac{1}{\\log{\\left(\\frac{j + 1}{j} \\right)}}} \\right)}$"
      ],
      "text/plain": [
       "-e + log((w*(b + v)/a)**(1/log((j + 1)/j)))"
      ]
     },
     "execution_count": 8,
     "metadata": {},
     "output_type": "execute_result"
    }
   ],
   "source": [
    "expBoundSelling = expBound - e # <=! 0 (lower bound)\n",
    "expBoundSelling"
   ]
  },
  {
   "cell_type": "code",
   "execution_count": 9,
   "metadata": {},
   "outputs": [
    {
     "data": {
      "text/latex": [
       "$\\displaystyle - \\frac{a j^{- e} \\left(j + 1\\right)^{e}}{w} + v$"
      ],
      "text/plain": [
       "-a*j**(-e)*(j + 1)**e/w + v"
      ]
     },
     "execution_count": 9,
     "metadata": {},
     "output_type": "execute_result"
    }
   ],
   "source": [
    "maxBuyingBound = -deltaByExp - b # <=! 0\n",
    "maxBuyingBound"
   ]
  },
  {
   "cell_type": "code",
   "execution_count": 10,
   "metadata": {},
   "outputs": [
    {
     "data": {
      "text/latex": [
       "$\\displaystyle \\frac{a j^{- e} \\left(j + 1\\right)^{e}}{w} - b - max_{s} - v$"
      ],
      "text/plain": [
       "a*j**(-e)*(j + 1)**e/w - b - max_s - v"
      ]
     },
     "execution_count": 10,
     "metadata": {},
     "output_type": "execute_result"
    }
   ],
   "source": [
    "max_s, max_I = symbols('max_s, max_I', positive=True, integer=True)\n",
    "\n",
    "maxSellingBound = deltaByExp - max_s # <=! 0\n",
    "maxSellingBound"
   ]
  },
  {
   "cell_type": "code",
   "execution_count": 11,
   "metadata": {},
   "outputs": [
    {
     "data": {
      "text/latex": [
       "$\\displaystyle a \\left(\\frac{j + 1}{j}\\right)^{e} - max_{I}$"
      ],
      "text/plain": [
       "a*((j + 1)/j)**e - max_I"
      ]
     },
     "execution_count": 11,
     "metadata": {},
     "output_type": "execute_result"
    }
   ],
   "source": [
    "maxSpotBound = spotByExp - max_I # <=! 0\n",
    "maxSpotBound"
   ]
  },
  {
   "cell_type": "markdown",
   "metadata": {},
   "source": [
    "## Lagrangian"
   ]
  },
  {
   "cell_type": "code",
   "execution_count": 12,
   "metadata": {},
   "outputs": [
    {
     "data": {
      "text/latex": [
       "$\\displaystyle - \\frac{a j^{- e} \\left(j + 1\\right)^{e}}{w} + b + \\lambda_{1} \\left(e - \\log{\\left(\\left(\\frac{w \\left(b + v\\right)}{a}\\right)^{\\frac{1}{\\log{\\left(\\frac{j + 1}{j} \\right)}}} \\right)}\\right) + v$"
      ],
      "text/plain": [
       "-a*j**(-e)*(j + 1)**e/w + b + lambda_1*(e - log((w*(b + v)/a)**(1/log((j + 1)/j)))) + v"
      ]
     },
     "execution_count": 12,
     "metadata": {},
     "output_type": "execute_result"
    }
   ],
   "source": [
    "l1, l2, l3, l4, l5, l6 = symbols('lambda_1 lambda_2 lambda_3 lambda_4 lambda_5 lambda_6', positive=True)\n",
    "\n",
    "# we are trying to maximize Delta in both cases, considering that buying-Delta is negative.\n",
    "L_b = -deltaByExp + l1 * expBoundBuying# + l2 * maxBuyingBound + l3 * maxSpotBound\n",
    "L_b"
   ]
  },
  {
   "cell_type": "code",
   "execution_count": 13,
   "metadata": {},
   "outputs": [
    {
     "data": {
      "text/latex": [
       "$\\displaystyle - \\frac{a j^{- e} \\left(j + 1\\right)^{e}}{w} + b + \\lambda_{1} \\left(- e + \\log{\\left(\\left(\\frac{w \\left(b + v\\right)}{a}\\right)^{\\frac{1}{\\log{\\left(\\frac{j + 1}{j} \\right)}}} \\right)}\\right) + v$"
      ],
      "text/plain": [
       "-a*j**(-e)*(j + 1)**e/w + b + lambda_1*(-e + log((w*(b + v)/a)**(1/log((j + 1)/j)))) + v"
      ]
     },
     "execution_count": 13,
     "metadata": {},
     "output_type": "execute_result"
    }
   ],
   "source": [
    "# we are trying to maximize Delta in both cases, considering that buying-Delta is negative.\n",
    "L_s = -deltaByExp + l1 * expBoundSelling# + l2 * maxSellingBound + l3 * maxSpotBound\n",
    "L_s"
   ]
  },
  {
   "cell_type": "code",
   "execution_count": 14,
   "metadata": {},
   "outputs": [],
   "source": [
    "# Partial derivatives\n",
    "dL_b_de = L_b.diff(e)\n",
    "dL_b_dl1 = L_b.diff(l1)\n",
    "# dL_dl2 = L.diff(l2)\n",
    "# dL_dl3 = L.diff(l3)\n",
    "# dL_dl4 = L.diff(l4)\n",
    "# dL_dl5 = L.diff(l5)\n",
    "# dL_dl6 = L.diff(l6)\n",
    "\n",
    "# Set them to zero\n",
    "stationary_conditions_b = [\n",
    "    Eq(dL_b_de, 0),\n",
    "    Eq(dL_b_dl1, 0),\n",
    "    # Eq(dL_dl2, 0),\n",
    "    # Eq(dL_dl3, 0),\n",
    "    # Eq(dL_dl4, 0),\n",
    "    # Eq(dL_dl5, 0),\n",
    "    # Eq(dL_dl6, 0),\n",
    "]"
   ]
  },
  {
   "cell_type": "code",
   "execution_count": 15,
   "metadata": {},
   "outputs": [],
   "source": [
    "# Partial derivatives\n",
    "dL_s_de = L_s.diff(e)\n",
    "dL_s_dl1 = L_s.diff(l1)\n",
    "# dL_dl2 = L.diff(l2)\n",
    "# dL_dl3 = L.diff(l3)\n",
    "# dL_dl4 = L.diff(l4)\n",
    "# dL_dl5 = L.diff(l5)\n",
    "# dL_dl6 = L.diff(l6)\n",
    "\n",
    "# Set them to zero\n",
    "stationary_conditions_s = [\n",
    "    Eq(dL_s_de, 0),\n",
    "    Eq(dL_s_dl1, 0),\n",
    "    # Eq(dL_dl2, 0),\n",
    "    # Eq(dL_dl3, 0),\n",
    "    # Eq(dL_dl4, 0),\n",
    "    # Eq(dL_dl5, 0),\n",
    "    # Eq(dL_dl6, 0),\n",
    "]"
   ]
  },
  {
   "cell_type": "code",
   "execution_count": 16,
   "metadata": {},
   "outputs": [
    {
     "data": {
      "text/plain": [
       "(log((a/(w*(b + v)))**(1/(log(j) - log(j + 1)))),\n",
       " log(((j + 1)/j)**(a*j**(-log(a**(1/(log(j) - log(j + 1)))*(w*(b + v))**(-1/(log(j) - log(j + 1)))))*(j + 1)**log(a**(1/(log(j) - log(j + 1)))*(w*(b + v))**(-1/(log(j) - log(j + 1))))/w)))"
      ]
     },
     "execution_count": 16,
     "metadata": {},
     "output_type": "execute_result"
    }
   ],
   "source": [
    "solutions_b = solve(stationary_conditions_b, (e, l1))#, l2, l3))#, l5, l6))\n",
    "\n",
    "solutions_b = solutions_b[0]\n",
    "# e_s_sol, e_b_sol, l1_sol, l2_sol, l3_sol, l4_sol, l5_sol, l6_sol = solutions\n",
    "e_b_sol, l1_b_sol = solutions_b\n",
    "solutions_b"
   ]
  },
  {
   "cell_type": "code",
   "execution_count": 17,
   "metadata": {},
   "outputs": [
    {
     "data": {
      "text/plain": [
       "(log((a/(w*(b + v)))**(1/(log(j) - log(j + 1)))),\n",
       " log((j/(j + 1))**(a*j**(-log(a**(1/(log(j) - log(j + 1)))*(w*(b + v))**(-1/(log(j) - log(j + 1)))))*(j + 1)**log(a**(1/(log(j) - log(j + 1)))*(w*(b + v))**(-1/(log(j) - log(j + 1))))/w)))"
      ]
     },
     "execution_count": 17,
     "metadata": {},
     "output_type": "execute_result"
    }
   ],
   "source": [
    "solutions_s = solve(stationary_conditions_s, (e, l1))#, l2, l3))#, l5, l6))\n",
    "\n",
    "solutions_s = solutions_s[0]\n",
    "# e_s_sol, e_b_sol, l1_sol, l2_sol, l3_sol, l4_sol, l5_sol, l6_sol = solutions\n",
    "e_s_sol, l1_s_sol = solutions_s\n",
    "solutions_s"
   ]
  },
  {
   "cell_type": "code",
   "execution_count": 18,
   "metadata": {},
   "outputs": [
    {
     "data": {
      "text/latex": [
       "$\\displaystyle \\log{\\left(\\left(\\frac{a}{w \\left(b + v\\right)}\\right)^{\\frac{1}{\\log{\\left(j \\right)} - \\log{\\left(j + 1 \\right)}}} \\right)}$"
      ],
      "text/plain": [
       "log((a/(w*(b + v)))**(1/(log(j) - log(j + 1))))"
      ]
     },
     "execution_count": 18,
     "metadata": {},
     "output_type": "execute_result"
    }
   ],
   "source": [
    "e_b_sol;"
   ]
  },
  {
   "cell_type": "code",
   "execution_count": 19,
   "metadata": {},
   "outputs": [
    {
     "data": {
      "text/latex": [
       "$\\displaystyle \\log{\\left(\\left(\\frac{a}{w \\left(b + v\\right)}\\right)^{\\frac{1}{\\log{\\left(j \\right)} - \\log{\\left(j + 1 \\right)}}} \\right)}$"
      ],
      "text/plain": [
       "log((a/(w*(b + v)))**(1/(log(j) - log(j + 1))))"
      ]
     },
     "execution_count": 19,
     "metadata": {},
     "output_type": "execute_result"
    }
   ],
   "source": [
    "e_s_sol;"
   ]
  },
  {
   "cell_type": "code",
   "execution_count": 20,
   "metadata": {},
   "outputs": [
    {
     "data": {
      "text/latex": [
       "$\\displaystyle \\log{\\left(\\left(\\frac{j + 1}{j}\\right)^{\\frac{a j^{- \\log{\\left(a^{\\frac{1}{\\log{\\left(j \\right)} - \\log{\\left(j + 1 \\right)}}} \\left(w \\left(b + v\\right)\\right)^{- \\frac{1}{\\log{\\left(j \\right)} - \\log{\\left(j + 1 \\right)}}} \\right)}} \\left(j + 1\\right)^{\\log{\\left(a^{\\frac{1}{\\log{\\left(j \\right)} - \\log{\\left(j + 1 \\right)}}} \\left(w \\left(b + v\\right)\\right)^{- \\frac{1}{\\log{\\left(j \\right)} - \\log{\\left(j + 1 \\right)}}} \\right)}}}{w}} \\right)}$"
      ],
      "text/plain": [
       "log(((j + 1)/j)**(a*j**(-log(a**(1/(log(j) - log(j + 1)))*(w*(b + v))**(-1/(log(j) - log(j + 1)))))*(j + 1)**log(a**(1/(log(j) - log(j + 1)))*(w*(b + v))**(-1/(log(j) - log(j + 1))))/w))"
      ]
     },
     "execution_count": 20,
     "metadata": {},
     "output_type": "execute_result"
    }
   ],
   "source": [
    "l1_b_sol;"
   ]
  },
  {
   "cell_type": "code",
   "execution_count": 21,
   "metadata": {},
   "outputs": [
    {
     "data": {
      "text/latex": [
       "$\\displaystyle \\log{\\left(\\left(\\frac{j}{j + 1}\\right)^{\\frac{a j^{- \\log{\\left(a^{\\frac{1}{\\log{\\left(j \\right)} - \\log{\\left(j + 1 \\right)}}} \\left(w \\left(b + v\\right)\\right)^{- \\frac{1}{\\log{\\left(j \\right)} - \\log{\\left(j + 1 \\right)}}} \\right)}} \\left(j + 1\\right)^{\\log{\\left(a^{\\frac{1}{\\log{\\left(j \\right)} - \\log{\\left(j + 1 \\right)}}} \\left(w \\left(b + v\\right)\\right)^{- \\frac{1}{\\log{\\left(j \\right)} - \\log{\\left(j + 1 \\right)}}} \\right)}}}{w}} \\right)}$"
      ],
      "text/plain": [
       "log((j/(j + 1))**(a*j**(-log(a**(1/(log(j) - log(j + 1)))*(w*(b + v))**(-1/(log(j) - log(j + 1)))))*(j + 1)**log(a**(1/(log(j) - log(j + 1)))*(w*(b + v))**(-1/(log(j) - log(j + 1))))/w))"
      ]
     },
     "execution_count": 21,
     "metadata": {},
     "output_type": "execute_result"
    }
   ],
   "source": [
    "l1_s_sol;"
   ]
  },
  {
   "cell_type": "code",
   "execution_count": 22,
   "metadata": {},
   "outputs": [
    {
     "name": "stdout",
     "output_type": "stream",
     "text": [
      "{j, w, v, b, a}\n",
      "{j, w, v, b, a}\n",
      "{j, w, v, b, a}\n",
      "{j, w, v, b, a}\n"
     ]
    }
   ],
   "source": [
    "for sol in solutions_b:\n",
    "    print(sol.free_symbols)\n",
    "for sol in solutions_s:\n",
    "    print(sol.free_symbols)"
   ]
  },
  {
   "cell_type": "code",
   "execution_count": 23,
   "metadata": {},
   "outputs": [
    {
     "data": {
      "text/latex": [
       "$\\displaystyle 0$"
      ],
      "text/plain": [
       "0"
      ]
     },
     "execution_count": 23,
     "metadata": {},
     "output_type": "execute_result"
    }
   ],
   "source": [
    "simplify(e_b_sol - e_s_sol);"
   ]
  },
  {
   "cell_type": "code",
   "execution_count": 24,
   "metadata": {},
   "outputs": [
    {
     "data": {
      "text/latex": [
       "$\\displaystyle 0$"
      ],
      "text/plain": [
       "0"
      ]
     },
     "execution_count": 24,
     "metadata": {},
     "output_type": "execute_result"
    }
   ],
   "source": [
    "simplify(l1_b_sol + l1_s_sol);"
   ]
  },
  {
   "cell_type": "code",
   "execution_count": 25,
   "metadata": {},
   "outputs": [
    {
     "name": "stdout",
     "output_type": "stream",
     "text": [
      "log(((j + 1)/j)**(a*j**(-log(a**(1/(log(j) - log(j + 1)))*(w*(b + v))**(-1/(log(j) - log(j + 1)))))*(j + 1)**log(a**(1/(log(j) - log(j + 1)))*(w*(b + v))**(-1/(log(j) - log(j + 1))))/w))\n"
     ]
    }
   ],
   "source": [
    "print(l1_b_sol);"
   ]
  },
  {
   "cell_type": "code",
   "execution_count": 26,
   "metadata": {},
   "outputs": [
    {
     "data": {
      "text/latex": [
       "$\\displaystyle \\log{\\left(\\left(\\frac{j + 1}{j}\\right)^{\\frac{a j^{- u_{2}} \\left(j + 1\\right)^{u_{2}}}{w}} \\right)}$"
      ],
      "text/plain": [
       "log(((j + 1)/j)**(a*j**(-u2)*(j + 1)**u2/w))"
      ]
     },
     "execution_count": 26,
     "metadata": {},
     "output_type": "execute_result"
    }
   ],
   "source": [
    "u1, u2 = symbols(\"u1 u2\");\n",
    "\n",
    "l1_sol = l1_b_sol.subs(1 / (log(j) - log(j + 1)), u1);\n",
    "l1_sol = l1_sol.subs(log(a ** u1 * (w * (b + v)) ** (-u1)), u2);\n",
    "l1_sol;"
   ]
  },
  {
   "cell_type": "markdown",
   "metadata": {},
   "source": [
    "l1_sol must be nonnegative -> logarithm is nonnegative when argument is >= 1"
   ]
  },
  {
   "cell_type": "code",
   "execution_count": 27,
   "metadata": {},
   "outputs": [
    {
     "data": {
      "text/latex": [
       "$\\displaystyle \\left(\\frac{j + 1}{j}\\right)^{\\frac{a j^{- u_{2}} \\left(j + 1\\right)^{u_{2}}}{w}}$"
      ],
      "text/plain": [
       "((j + 1)/j)**(a*j**(-u2)*(j + 1)**u2/w)"
      ]
     },
     "execution_count": 27,
     "metadata": {},
     "output_type": "execute_result"
    }
   ],
   "source": [
    "l1_sol.args[0];"
   ]
  },
  {
   "cell_type": "markdown",
   "metadata": {},
   "source": [
    "base is < 1"
   ]
  },
  {
   "cell_type": "code",
   "execution_count": null,
   "metadata": {},
   "outputs": [],
   "source": []
  },
  {
   "cell_type": "code",
   "execution_count": null,
   "metadata": {},
   "outputs": [],
   "source": []
  },
  {
   "cell_type": "code",
   "execution_count": null,
   "metadata": {},
   "outputs": [],
   "source": []
  },
  {
   "cell_type": "code",
   "execution_count": null,
   "metadata": {},
   "outputs": [],
   "source": []
  },
  {
   "cell_type": "code",
   "execution_count": null,
   "metadata": {},
   "outputs": [],
   "source": []
  }
 ],
 "metadata": {
  "kernelspec": {
   "display_name": "Python 3",
   "language": "python",
   "name": "python3"
  },
  "language_info": {
   "codemirror_mode": {
    "name": "ipython",
    "version": 3
   },
   "file_extension": ".py",
   "mimetype": "text/x-python",
   "name": "python",
   "nbconvert_exporter": "python",
   "pygments_lexer": "ipython3",
   "version": "3.9.16"
  }
 },
 "nbformat": 4,
 "nbformat_minor": 2
}
