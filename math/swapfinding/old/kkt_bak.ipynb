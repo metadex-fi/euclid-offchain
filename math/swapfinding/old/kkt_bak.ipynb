{
 "cells": [
  {
   "cell_type": "code",
   "execution_count": 2,
   "metadata": {},
   "outputs": [],
   "source": [
    "from sympy import symbols, simplify, hessian, solveset, S, solve, log, And, Le, Ge, Eq, Lt, Gt"
   ]
  },
  {
   "cell_type": "code",
   "execution_count": 3,
   "metadata": {},
   "outputs": [
    {
     "data": {
      "text/plain": [
       "{'b': dict_values([s_b, v_b, b_b, w_b, j_b, e_b, Delta_b, a_b]),\n",
       " 's': dict_values([s_s, v_s, b_s, w_s, j_s, e_s, Delta_s, a_s])}"
      ]
     },
     "execution_count": 3,
     "metadata": {},
     "output_type": "execute_result"
    }
   ],
   "source": [
    "assets = ['b', 's']  # buying and selling assets\n",
    "base_symbols = ['s', 'v', 'b', 'w', 'j', 'e', 'Delta', 'a'] \n",
    "# spot price, virtual liquidity, balance, weight, jump size, exponent, delta, anchor price\n",
    "\n",
    "all_symbols = {}\n",
    "\n",
    "for asset in assets:\n",
    "    temp_dict = {}\n",
    "    for base in base_symbols:\n",
    "        var_name = f\"{base}_{asset}\"\n",
    "        if base == 'e' or base == 'Delta':\n",
    "            symbol_obj = symbols(var_name, integer=True)\n",
    "        elif base == 'b':\n",
    "            symbol_obj = symbols(var_name, nonnegative=True, integer=True)\n",
    "        else:\n",
    "            symbol_obj = symbols(var_name, positive=True, integer=True)\n",
    "        temp_dict[var_name] = symbol_obj\n",
    "        # Define the variable in the global namespace\n",
    "        globals()[var_name] = symbol_obj\n",
    "    all_symbols[asset] = temp_dict.values()\n",
    "all_symbols"
   ]
  },
  {
   "cell_type": "markdown",
   "metadata": {},
   "source": [
    "## Target function\n",
    "\n",
    "we want to minimize the effective price, given a set of exponents for the buying\n",
    "and selling asset each."
   ]
  },
  {
   "cell_type": "code",
   "execution_count": 4,
   "metadata": {},
   "outputs": [
    {
     "data": {
      "text/latex": [
       "$\\displaystyle - b_{b} + \\frac{s_{b}}{w_{b}} - v_{b}$"
      ],
      "text/plain": [
       "-b_b + s_b/w_b - v_b"
      ]
     },
     "execution_count": 4,
     "metadata": {},
     "output_type": "execute_result"
    }
   ],
   "source": [
    "def deltaBySpot_(s,v, b, w, j, e, Delta, a):\n",
    "  return simplify((s - (v + b) * w) / w)\n",
    "\n",
    "deltaBySpot = {asset: deltaBySpot_(*all_symbols[asset]) for asset in assets}\n",
    "deltaBySpot['b']"
   ]
  },
  {
   "cell_type": "code",
   "execution_count": 5,
   "metadata": {},
   "outputs": [
    {
     "data": {
      "text/latex": [
       "$\\displaystyle a_{b} \\left(\\frac{j_{b} + 1}{j_{b}}\\right)^{e_{b}}$"
      ],
      "text/plain": [
       "a_b*((j_b + 1)/j_b)**e_b"
      ]
     },
     "execution_count": 5,
     "metadata": {},
     "output_type": "execute_result"
    }
   ],
   "source": [
    "def spotByExp_(s, v, b, w, j, e, Delta, a):\n",
    "  return simplify(a * ((1 + 1/j) ** e)\n",
    ")\n",
    "spotByExp = {asset: spotByExp_(*all_symbols[asset]) for asset in assets}\n",
    "spotByExp['b']"
   ]
  },
  {
   "cell_type": "code",
   "execution_count": 6,
   "metadata": {},
   "outputs": [
    {
     "data": {
      "text/latex": [
       "$\\displaystyle \\frac{a_{b} j_{b}^{- e_{b}} \\left(j_{b} + 1\\right)^{e_{b}}}{w_{b}} - b_{b} - v_{b}$"
      ],
      "text/plain": [
       "a_b*j_b**(-e_b)*(j_b + 1)**e_b/w_b - b_b - v_b"
      ]
     },
     "execution_count": 6,
     "metadata": {},
     "output_type": "execute_result"
    }
   ],
   "source": [
    "def deltaByExp_(asset, s, v, b, w, j, e, Delta, a):\n",
    "    return simplify(deltaBySpot[asset].subs(s, spotByExp[asset]))\n",
    "\n",
    "deltaByExp = {asset: deltaByExp_(asset, *all_symbols[asset]) for asset in assets}\n",
    "deltaByExp['b']"
   ]
  },
  {
   "cell_type": "code",
   "execution_count": 7,
   "metadata": {},
   "outputs": [
    {
     "data": {
      "text/latex": [
       "$\\displaystyle - \\frac{\\Delta_{s}}{\\Delta_{b}}$"
      ],
      "text/plain": [
       "-Delta_s/Delta_b"
      ]
     },
     "execution_count": 7,
     "metadata": {},
     "output_type": "execute_result"
    }
   ],
   "source": [
    "eff = Delta_s / -Delta_b;\n",
    "eff;"
   ]
  },
  {
   "cell_type": "code",
   "execution_count": 8,
   "metadata": {},
   "outputs": [
    {
     "data": {
      "text/latex": [
       "$\\displaystyle - \\frac{\\frac{a_{s} j_{s}^{- e_{s}} \\left(j_{s} + 1\\right)^{e_{s}}}{w_{s}} - b_{s} - v_{s}}{\\frac{a_{b} j_{b}^{- e_{b}} \\left(j_{b} + 1\\right)^{e_{b}}}{w_{b}} - b_{b} - v_{b}}$"
      ],
      "text/plain": [
       "-(a_s*j_s**(-e_s)*(j_s + 1)**e_s/w_s - b_s - v_s)/(a_b*j_b**(-e_b)*(j_b + 1)**e_b/w_b - b_b - v_b)"
      ]
     },
     "execution_count": 8,
     "metadata": {},
     "output_type": "execute_result"
    }
   ],
   "source": [
    "deltaByExp_b = deltaByExp[\"b\"];\n",
    "deltaByExp_s = deltaByExp[\"s\"];\n",
    "effByExps = eff.subs({ Delta_b: deltaByExp_b, Delta_s: deltaByExp_s });\n",
    "effByExps;"
   ]
  },
  {
   "cell_type": "code",
   "execution_count": 10,
   "metadata": {},
   "outputs": [
    {
     "name": "stdout",
     "output_type": "stream",
     "text": [
      "-(a_s*j_s**(-e_s)*(j_s + 1)**e_s/w_s - b_s - v_s)/(a_b*j_b**(-e_b)*(j_b + 1)**e_b/w_b - b_b - v_b)\n"
     ]
    }
   ],
   "source": [
    "print(effByExps);"
   ]
  },
  {
   "cell_type": "markdown",
   "metadata": {},
   "source": [
    "### convexity of the target function\n",
    "\n",
    "- deltaBySpot is linear\n",
    "- spotByExp is convex\n",
    "- deltaByExp is a composition of the two\n",
    "\n",
    "=> deltaByExp is convex\n",
    "\n",
    "- negation flips convexity/concavity\n",
    "- deltaBuyingByExp is negative => -deltaBuyingByExp is positive\n",
    "- inversion of a positive function flips convexity/concavity => 1 /\n",
    "  (-deltaBuyingByExp) is convex\n",
    "- multiplying two nonnegative functions with different variables, that are each\n",
    "  convex and independent of the other's variable, results in a convex function\n",
    "\n",
    "==> effectivePrice = deltaSellingByExp / (-deltaBuyingByExp) is convex. qed"
   ]
  },
  {
   "cell_type": "markdown",
   "metadata": {},
   "source": []
  },
  {
   "cell_type": "markdown",
   "metadata": {},
   "source": [
    "## inequality-constraints\n",
    "\n",
    "- the exponents must adhere to their upper (buying) resp. lower (selling) bounds\n",
    "  given by our equation\n",
    "- need to buy and sell minimum amounts (TODO)\n",
    "- cannot buy more than the available balance\n",
    "- cannot sell more than maxSelling\n",
    "- the spot prices must not exceed maxInteger\n",
    "- bonus: the total number of multiplications for both exponentiations must not\n",
    "  exceed expLimit (TODO)"
   ]
  },
  {
   "cell_type": "code",
   "execution_count": 8,
   "metadata": {},
   "outputs": [
    {
     "data": {
      "text/latex": [
       "$\\displaystyle e_{b} - \\log{\\left(\\left(\\frac{w_{b} \\left(b_{b} + v_{b}\\right)}{a_{b}}\\right)^{\\frac{1}{\\log{\\left(\\frac{j_{b} + 1}{j_{b}} \\right)}}} \\right)}$"
      ],
      "text/plain": [
       "e_b - log((w_b*(b_b + v_b)/a_b)**(1/log((j_b + 1)/j_b)))"
      ]
     },
     "execution_count": 8,
     "metadata": {},
     "output_type": "execute_result"
    }
   ],
   "source": [
    "def expBound_(asset, s, v, b, w, j, e, Delta, a):\n",
    "    e_bound = simplify(log(w * (v + b) /a, 1 + 1/j)) # constant wrt e\n",
    "    if asset == 'b':\n",
    "        return e - e_bound # <=! 0 (upper bound)\n",
    "    else:\n",
    "        return e_bound - e # <=! 0 (lower bound)\n",
    "\n",
    "expBound = {asset: expBound_(asset, *all_symbols[asset]) for asset in assets}\n",
    "expBound['b']"
   ]
  },
  {
   "cell_type": "code",
   "execution_count": 9,
   "metadata": {},
   "outputs": [
    {
     "data": {
      "text/latex": [
       "$\\displaystyle - e_{s} + \\log{\\left(\\left(\\frac{w_{s} \\left(b_{s} + v_{s}\\right)}{a_{s}}\\right)^{\\frac{1}{\\log{\\left(\\frac{j_{s} + 1}{j_{s}} \\right)}}} \\right)}$"
      ],
      "text/plain": [
       "-e_s + log((w_s*(b_s + v_s)/a_s)**(1/log((j_s + 1)/j_s)))"
      ]
     },
     "execution_count": 9,
     "metadata": {},
     "output_type": "execute_result"
    }
   ],
   "source": [
    "expBound[\"s\"];"
   ]
  },
  {
   "cell_type": "code",
   "execution_count": 10,
   "metadata": {},
   "outputs": [
    {
     "data": {
      "text/latex": [
       "$\\displaystyle - \\frac{a_{b} j_{b}^{- e_{b}} \\left(j_{b} + 1\\right)^{e_{b}}}{w_{b}} + v_{b}$"
      ],
      "text/plain": [
       "-a_b*j_b**(-e_b)*(j_b + 1)**e_b/w_b + v_b"
      ]
     },
     "execution_count": 10,
     "metadata": {},
     "output_type": "execute_result"
    }
   ],
   "source": [
    "balanceBound = -Delta_b - b_b # <=! 0\n",
    "balanceBound = balanceBound.subs({Delta_b: deltaByExp_b})\n",
    "balanceBound"
   ]
  },
  {
   "cell_type": "code",
   "execution_count": 11,
   "metadata": {},
   "outputs": [
    {
     "data": {
      "text/latex": [
       "$\\displaystyle \\frac{a_{s} j_{s}^{- e_{s}} \\left(j_{s} + 1\\right)^{e_{s}}}{w_{s}} - b_{s} - max_{s} - v_{s}$"
      ],
      "text/plain": [
       "a_s*j_s**(-e_s)*(j_s + 1)**e_s/w_s - b_s - max_s - v_s"
      ]
     },
     "execution_count": 11,
     "metadata": {},
     "output_type": "execute_result"
    }
   ],
   "source": [
    "max_s, max_I = symbols('max_s, max_I', positive=True, integer=True)\n",
    "\n",
    "maxSelling = Delta_s - max_s # <=! 0\n",
    "maxSelling = maxSelling.subs({Delta_s: deltaByExp_s})\n",
    "maxSelling"
   ]
  },
  {
   "cell_type": "code",
   "execution_count": 12,
   "metadata": {},
   "outputs": [
    {
     "data": {
      "text/latex": [
       "$\\displaystyle a_{b} \\left(\\frac{j_{b} + 1}{j_{b}}\\right)^{e_{b}} - max_{I}$"
      ],
      "text/plain": [
       "a_b*((j_b + 1)/j_b)**e_b - max_I"
      ]
     },
     "execution_count": 12,
     "metadata": {},
     "output_type": "execute_result"
    }
   ],
   "source": [
    "def maxSpot_(asset, s, v, b, w, j, e, Delta, a):\n",
    "  return spotByExp[asset] - max_I # <=! 0\n",
    "\n",
    "maxSpot = {asset: maxSpot_(asset, *all_symbols[asset]) for asset in assets}\n",
    "maxSpot['b']"
   ]
  },
  {
   "cell_type": "markdown",
   "metadata": {},
   "source": [
    "## Lagrangian"
   ]
  },
  {
   "cell_type": "code",
   "execution_count": 13,
   "metadata": {},
   "outputs": [
    {
     "data": {
      "text/latex": [
       "$\\displaystyle \\lambda_{1} \\left(e_{b} - \\log{\\left(\\left(\\frac{w_{b} \\left(b_{b} + v_{b}\\right)}{a_{b}}\\right)^{\\frac{1}{\\log{\\left(\\frac{j_{b} + 1}{j_{b}} \\right)}}} \\right)}\\right) + \\lambda_{2} \\left(- e_{s} + \\log{\\left(\\left(\\frac{w_{s} \\left(b_{s} + v_{s}\\right)}{a_{s}}\\right)^{\\frac{1}{\\log{\\left(\\frac{j_{s} + 1}{j_{s}} \\right)}}} \\right)}\\right) - \\frac{\\frac{a_{s} j_{s}^{- e_{s}} \\left(j_{s} + 1\\right)^{e_{s}}}{w_{s}} - b_{s} - v_{s}}{\\frac{a_{b} j_{b}^{- e_{b}} \\left(j_{b} + 1\\right)^{e_{b}}}{w_{b}} - b_{b} - v_{b}}$"
      ],
      "text/plain": [
       "lambda_1*(e_b - log((w_b*(b_b + v_b)/a_b)**(1/log((j_b + 1)/j_b)))) + lambda_2*(-e_s + log((w_s*(b_s + v_s)/a_s)**(1/log((j_s + 1)/j_s)))) - (a_s*j_s**(-e_s)*(j_s + 1)**e_s/w_s - b_s - v_s)/(a_b*j_b**(-e_b)*(j_b + 1)**e_b/w_b - b_b - v_b)"
      ]
     },
     "execution_count": 13,
     "metadata": {},
     "output_type": "execute_result"
    }
   ],
   "source": [
    "l1, l2, l3, l4, l5, l6 = symbols('lambda_1 lambda_2 lambda_3 lambda_4 lambda_5 lambda_6', positive=True)\n",
    "\n",
    "L = effByExps + l1 * expBound['b'] + l2 * expBound['s']# + l3 * balanceBound + l4 * maxSelling + l5 * maxSpot['b'] + l6 * maxSpot['s']\n",
    "L"
   ]
  },
  {
   "cell_type": "code",
   "execution_count": 14,
   "metadata": {},
   "outputs": [],
   "source": [
    "# Partial derivatives\n",
    "dL_des = L.diff(e_s)\n",
    "dL_deb = L.diff(e_b)\n",
    "dL_dl1 = L.diff(l1)\n",
    "dL_dl2 = L.diff(l2)\n",
    "# dL_dl3 = L.diff(l3)\n",
    "# dL_dl4 = L.diff(l4)\n",
    "# dL_dl5 = L.diff(l5)\n",
    "# dL_dl6 = L.diff(l6)\n",
    "\n",
    "# Set them to zero\n",
    "stationary_conditions = [\n",
    "    Eq(dL_des, 0),\n",
    "    Eq(dL_deb, 0),\n",
    "    Eq(dL_dl1, 0),\n",
    "    Eq(dL_dl2, 0),\n",
    "    # Eq(dL_dl3, 0),\n",
    "    # Eq(dL_dl4, 0),\n",
    "    # Eq(dL_dl5, 0),\n",
    "    # Eq(dL_dl6, 0),\n",
    "]"
   ]
  },
  {
   "cell_type": "code",
   "execution_count": 16,
   "metadata": {},
   "outputs": [
    {
     "data": {
      "text/plain": [
       "(log((a_s/(w_s*(b_s + v_s)))**(1/(log(j_s) - log(j_s + 1)))),\n",
       " log((a_b/(w_b*(b_b + v_b)))**(1/(log(j_b) - log(j_b + 1)))),\n",
       " log((j_b**(a_s*(j_s + 1)**log(a_s**(1/(log(j_s) - log(j_s + 1)))*(w_s*(b_s + v_s))**(-1/(log(j_s) - log(j_s + 1)))))*(j_b + 1)**(j_s**log(a_s**(1/(log(j_s) - log(j_s + 1)))*(w_s*(b_s + v_s))**(-1/(log(j_s) - log(j_s + 1))))*w_s*(b_s + v_s)))**(a_b*j_s**(-log(a_s**(1/(log(j_s) - log(j_s + 1)))*(w_s*(b_s + v_s))**(-1/(log(j_s) - log(j_s + 1)))))*w_b*(j_b*(j_b + 1))**log(a_b**(1/(log(j_b) - log(j_b + 1)))*(w_b*(b_b + v_b))**(-1/(log(j_b) - log(j_b + 1))))/w_s)*(j_b**(j_s**log(a_s**(1/(log(j_s) - log(j_s + 1)))*(w_s*(b_s + v_s))**(-1/(log(j_s) - log(j_s + 1))))*w_s*(b_s + v_s))*(j_b + 1)**(a_s*(j_s + 1)**log(a_s**(1/(log(j_s) - log(j_s + 1)))*(w_s*(b_s + v_s))**(-1/(log(j_s) - log(j_s + 1))))))**(-a_b*j_s**(-log(a_s**(1/(log(j_s) - log(j_s + 1)))*(w_s*(b_s + v_s))**(-1/(log(j_s) - log(j_s + 1)))))*w_b*(j_b*(j_b + 1))**log(a_b**(1/(log(j_b) - log(j_b + 1)))*(w_b*(b_b + v_b))**(-1/(log(j_b) - log(j_b + 1))))/w_s))/(-a_b*(j_b + 1)**log(a_b**(1/(log(j_b) - log(j_b + 1)))*(w_b*(b_b + v_b))**(-1/(log(j_b) - log(j_b + 1)))) + b_b*j_b**log(a_b**(1/(log(j_b) - log(j_b + 1)))*(w_b*(b_b + v_b))**(-1/(log(j_b) - log(j_b + 1))))*w_b + j_b**log(a_b**(1/(log(j_b) - log(j_b + 1)))*(w_b*(b_b + v_b))**(-1/(log(j_b) - log(j_b + 1))))*v_b*w_b)**2,\n",
       " log(j_s**(-a_s*j_b**log(a_b**(1/(log(j_b) - log(j_b + 1)))*(w_b*(b_b + v_b))**(-1/(log(j_b) - log(j_b + 1))))*j_s**(-log(a_s**(1/(log(j_s) - log(j_s + 1)))*(w_s*(b_s + v_s))**(-1/(log(j_s) - log(j_s + 1)))))*w_b*(j_s + 1)**log(a_s**(1/(log(j_s) - log(j_s + 1)))*(w_s*(b_s + v_s))**(-1/(log(j_s) - log(j_s + 1))))/w_s)*(j_s + 1)**(a_s*j_b**log(a_b**(1/(log(j_b) - log(j_b + 1)))*(w_b*(b_b + v_b))**(-1/(log(j_b) - log(j_b + 1))))*j_s**(-log(a_s**(1/(log(j_s) - log(j_s + 1)))*(w_s*(b_s + v_s))**(-1/(log(j_s) - log(j_s + 1)))))*w_b*(j_s + 1)**log(a_s**(1/(log(j_s) - log(j_s + 1)))*(w_s*(b_s + v_s))**(-1/(log(j_s) - log(j_s + 1))))/w_s))/(-a_b*(j_b + 1)**log(a_b**(1/(log(j_b) - log(j_b + 1)))*(w_b*(b_b + v_b))**(-1/(log(j_b) - log(j_b + 1)))) + b_b*j_b**log(a_b**(1/(log(j_b) - log(j_b + 1)))*(w_b*(b_b + v_b))**(-1/(log(j_b) - log(j_b + 1))))*w_b + j_b**log(a_b**(1/(log(j_b) - log(j_b + 1)))*(w_b*(b_b + v_b))**(-1/(log(j_b) - log(j_b + 1))))*v_b*w_b))"
      ]
     },
     "execution_count": 16,
     "metadata": {},
     "output_type": "execute_result"
    }
   ],
   "source": [
    "solutions = solve(stationary_conditions, (e_s, e_b, l1, l2))#, l3, l4, l5, l6))\n",
    "\n",
    "solutions = solutions[0]\n",
    "# e_s_sol, e_b_sol, l1_sol, l2_sol, l3_sol, l4_sol, l5_sol, l6_sol = solutions\n",
    "e_s_sol, e_b_sol, l1_sol, l2_sol = solutions\n",
    "solutions"
   ]
  },
  {
   "cell_type": "code",
   "execution_count": 17,
   "metadata": {},
   "outputs": [
    {
     "data": {
      "text/latex": [
       "$\\displaystyle \\log{\\left(\\left(\\frac{a_{s}}{w_{s} \\left(b_{s} + v_{s}\\right)}\\right)^{\\frac{1}{\\log{\\left(j_{s} \\right)} - \\log{\\left(j_{s} + 1 \\right)}}} \\right)}$"
      ],
      "text/plain": [
       "log((a_s/(w_s*(b_s + v_s)))**(1/(log(j_s) - log(j_s + 1))))"
      ]
     },
     "execution_count": 17,
     "metadata": {},
     "output_type": "execute_result"
    }
   ],
   "source": [
    "e_s_sol;"
   ]
  },
  {
   "cell_type": "code",
   "execution_count": 18,
   "metadata": {},
   "outputs": [
    {
     "data": {
      "text/latex": [
       "$\\displaystyle \\log{\\left(\\left(\\frac{a_{b}}{w_{b} \\left(b_{b} + v_{b}\\right)}\\right)^{\\frac{1}{\\log{\\left(j_{b} \\right)} - \\log{\\left(j_{b} + 1 \\right)}}} \\right)}$"
      ],
      "text/plain": [
       "log((a_b/(w_b*(b_b + v_b)))**(1/(log(j_b) - log(j_b + 1))))"
      ]
     },
     "execution_count": 18,
     "metadata": {},
     "output_type": "execute_result"
    }
   ],
   "source": [
    "e_b_sol;"
   ]
  },
  {
   "cell_type": "markdown",
   "metadata": {},
   "source": [
    "Note that the e_i only depend on variables for i, therefore can be optimized\n",
    "independently."
   ]
  },
  {
   "cell_type": "code",
   "execution_count": 189,
   "metadata": {},
   "outputs": [
    {
     "data": {
      "text/latex": [
       "$\\displaystyle \\frac{a_{b} j_{b}^{- \\log{\\left(a_{b}^{\\frac{1}{\\log{\\left(j_{b} \\right)} - \\log{\\left(j_{b} + 1 \\right)}}} \\left(b_{b} w_{b} + v_{b} w_{b}\\right)^{- \\frac{1}{\\log{\\left(j_{b} \\right)} - \\log{\\left(j_{b} + 1 \\right)}}} \\right)}} \\left(j_{b} + 1\\right)^{\\log{\\left(a_{b}^{\\frac{1}{\\log{\\left(j_{b} \\right)} - \\log{\\left(j_{b} + 1 \\right)}}} \\left(b_{b} w_{b} + v_{b} w_{b}\\right)^{- \\frac{1}{\\log{\\left(j_{b} \\right)} - \\log{\\left(j_{b} + 1 \\right)}}} \\right)}}}{w_{b}} - b_{b} - v_{b}$"
      ],
      "text/plain": [
       "a_b*j_b**(-log(a_b**(1/(log(j_b) - log(j_b + 1)))*(b_b*w_b + v_b*w_b)**(-1/(log(j_b) - log(j_b + 1)))))*(j_b + 1)**log(a_b**(1/(log(j_b) - log(j_b + 1)))*(b_b*w_b + v_b*w_b)**(-1/(log(j_b) - log(j_b + 1))))/w_b - b_b - v_b"
      ]
     },
     "execution_count": 189,
     "metadata": {},
     "output_type": "execute_result"
    }
   ],
   "source": [
    "simplify(deltaByExp_b.subs({ e_b: e_b_sol }));"
   ]
  },
  {
   "cell_type": "code",
   "execution_count": 190,
   "metadata": {},
   "outputs": [
    {
     "data": {
      "text/latex": [
       "$\\displaystyle \\frac{a_{s} j_{s}^{- \\log{\\left(a_{s}^{\\frac{1}{\\log{\\left(j_{s} \\right)} - \\log{\\left(j_{s} + 1 \\right)}}} \\left(b_{s} w_{s} + v_{s} w_{s}\\right)^{- \\frac{1}{\\log{\\left(j_{s} \\right)} - \\log{\\left(j_{s} + 1 \\right)}}} \\right)}} \\left(j_{s} + 1\\right)^{\\log{\\left(a_{s}^{\\frac{1}{\\log{\\left(j_{s} \\right)} - \\log{\\left(j_{s} + 1 \\right)}}} \\left(b_{s} w_{s} + v_{s} w_{s}\\right)^{- \\frac{1}{\\log{\\left(j_{s} \\right)} - \\log{\\left(j_{s} + 1 \\right)}}} \\right)}}}{w_{s}} - b_{s} - v_{s}$"
      ],
      "text/plain": [
       "a_s*j_s**(-log(a_s**(1/(log(j_s) - log(j_s + 1)))*(b_s*w_s + v_s*w_s)**(-1/(log(j_s) - log(j_s + 1)))))*(j_s + 1)**log(a_s**(1/(log(j_s) - log(j_s + 1)))*(b_s*w_s + v_s*w_s)**(-1/(log(j_s) - log(j_s + 1))))/w_s - b_s - v_s"
      ]
     },
     "execution_count": 190,
     "metadata": {},
     "output_type": "execute_result"
    }
   ],
   "source": [
    "simplify(deltaByExp_s.subs({ e_s: e_s_sol }));"
   ]
  },
  {
   "cell_type": "code",
   "execution_count": 19,
   "metadata": {},
   "outputs": [
    {
     "data": {
      "text/latex": [
       "$\\displaystyle \\frac{\\log{\\left(\\left(j_{b}^{a_{s} \\left(j_{s} + 1\\right)^{\\log{\\left(a_{s}^{\\frac{1}{\\log{\\left(j_{s} \\right)} - \\log{\\left(j_{s} + 1 \\right)}}} \\left(w_{s} \\left(b_{s} + v_{s}\\right)\\right)^{- \\frac{1}{\\log{\\left(j_{s} \\right)} - \\log{\\left(j_{s} + 1 \\right)}}} \\right)}}} \\left(j_{b} + 1\\right)^{j_{s}^{\\log{\\left(a_{s}^{\\frac{1}{\\log{\\left(j_{s} \\right)} - \\log{\\left(j_{s} + 1 \\right)}}} \\left(w_{s} \\left(b_{s} + v_{s}\\right)\\right)^{- \\frac{1}{\\log{\\left(j_{s} \\right)} - \\log{\\left(j_{s} + 1 \\right)}}} \\right)}} w_{s} \\left(b_{s} + v_{s}\\right)}\\right)^{\\frac{a_{b} j_{s}^{- \\log{\\left(a_{s}^{\\frac{1}{\\log{\\left(j_{s} \\right)} - \\log{\\left(j_{s} + 1 \\right)}}} \\left(w_{s} \\left(b_{s} + v_{s}\\right)\\right)^{- \\frac{1}{\\log{\\left(j_{s} \\right)} - \\log{\\left(j_{s} + 1 \\right)}}} \\right)}} w_{b} \\left(j_{b} \\left(j_{b} + 1\\right)\\right)^{\\log{\\left(a_{b}^{\\frac{1}{\\log{\\left(j_{b} \\right)} - \\log{\\left(j_{b} + 1 \\right)}}} \\left(w_{b} \\left(b_{b} + v_{b}\\right)\\right)^{- \\frac{1}{\\log{\\left(j_{b} \\right)} - \\log{\\left(j_{b} + 1 \\right)}}} \\right)}}}{w_{s}}} \\left(j_{b}^{j_{s}^{\\log{\\left(a_{s}^{\\frac{1}{\\log{\\left(j_{s} \\right)} - \\log{\\left(j_{s} + 1 \\right)}}} \\left(w_{s} \\left(b_{s} + v_{s}\\right)\\right)^{- \\frac{1}{\\log{\\left(j_{s} \\right)} - \\log{\\left(j_{s} + 1 \\right)}}} \\right)}} w_{s} \\left(b_{s} + v_{s}\\right)} \\left(j_{b} + 1\\right)^{a_{s} \\left(j_{s} + 1\\right)^{\\log{\\left(a_{s}^{\\frac{1}{\\log{\\left(j_{s} \\right)} - \\log{\\left(j_{s} + 1 \\right)}}} \\left(w_{s} \\left(b_{s} + v_{s}\\right)\\right)^{- \\frac{1}{\\log{\\left(j_{s} \\right)} - \\log{\\left(j_{s} + 1 \\right)}}} \\right)}}}\\right)^{- \\frac{a_{b} j_{s}^{- \\log{\\left(a_{s}^{\\frac{1}{\\log{\\left(j_{s} \\right)} - \\log{\\left(j_{s} + 1 \\right)}}} \\left(w_{s} \\left(b_{s} + v_{s}\\right)\\right)^{- \\frac{1}{\\log{\\left(j_{s} \\right)} - \\log{\\left(j_{s} + 1 \\right)}}} \\right)}} w_{b} \\left(j_{b} \\left(j_{b} + 1\\right)\\right)^{\\log{\\left(a_{b}^{\\frac{1}{\\log{\\left(j_{b} \\right)} - \\log{\\left(j_{b} + 1 \\right)}}} \\left(w_{b} \\left(b_{b} + v_{b}\\right)\\right)^{- \\frac{1}{\\log{\\left(j_{b} \\right)} - \\log{\\left(j_{b} + 1 \\right)}}} \\right)}}}{w_{s}}} \\right)}}{\\left(- a_{b} \\left(j_{b} + 1\\right)^{\\log{\\left(a_{b}^{\\frac{1}{\\log{\\left(j_{b} \\right)} - \\log{\\left(j_{b} + 1 \\right)}}} \\left(w_{b} \\left(b_{b} + v_{b}\\right)\\right)^{- \\frac{1}{\\log{\\left(j_{b} \\right)} - \\log{\\left(j_{b} + 1 \\right)}}} \\right)}} + b_{b} j_{b}^{\\log{\\left(a_{b}^{\\frac{1}{\\log{\\left(j_{b} \\right)} - \\log{\\left(j_{b} + 1 \\right)}}} \\left(w_{b} \\left(b_{b} + v_{b}\\right)\\right)^{- \\frac{1}{\\log{\\left(j_{b} \\right)} - \\log{\\left(j_{b} + 1 \\right)}}} \\right)}} w_{b} + j_{b}^{\\log{\\left(a_{b}^{\\frac{1}{\\log{\\left(j_{b} \\right)} - \\log{\\left(j_{b} + 1 \\right)}}} \\left(w_{b} \\left(b_{b} + v_{b}\\right)\\right)^{- \\frac{1}{\\log{\\left(j_{b} \\right)} - \\log{\\left(j_{b} + 1 \\right)}}} \\right)}} v_{b} w_{b}\\right)^{2}}$"
      ],
      "text/plain": [
       "log((j_b**(a_s*(j_s + 1)**log(a_s**(1/(log(j_s) - log(j_s + 1)))*(w_s*(b_s + v_s))**(-1/(log(j_s) - log(j_s + 1)))))*(j_b + 1)**(j_s**log(a_s**(1/(log(j_s) - log(j_s + 1)))*(w_s*(b_s + v_s))**(-1/(log(j_s) - log(j_s + 1))))*w_s*(b_s + v_s)))**(a_b*j_s**(-log(a_s**(1/(log(j_s) - log(j_s + 1)))*(w_s*(b_s + v_s))**(-1/(log(j_s) - log(j_s + 1)))))*w_b*(j_b*(j_b + 1))**log(a_b**(1/(log(j_b) - log(j_b + 1)))*(w_b*(b_b + v_b))**(-1/(log(j_b) - log(j_b + 1))))/w_s)*(j_b**(j_s**log(a_s**(1/(log(j_s) - log(j_s + 1)))*(w_s*(b_s + v_s))**(-1/(log(j_s) - log(j_s + 1))))*w_s*(b_s + v_s))*(j_b + 1)**(a_s*(j_s + 1)**log(a_s**(1/(log(j_s) - log(j_s + 1)))*(w_s*(b_s + v_s))**(-1/(log(j_s) - log(j_s + 1))))))**(-a_b*j_s**(-log(a_s**(1/(log(j_s) - log(j_s + 1)))*(w_s*(b_s + v_s))**(-1/(log(j_s) - log(j_s + 1)))))*w_b*(j_b*(j_b + 1))**log(a_b**(1/(log(j_b) - log(j_b + 1)))*(w_b*(b_b + v_b))**(-1/(log(j_b) - log(j_b + 1))))/w_s))/(-a_b*(j_b + 1)**log(a_b**(1/(log(j_b) - log(j_b + 1)))*(w_b*(b_b + v_b))**(-1/(log(j_b) - log(j_b + 1)))) + b_b*j_b**log(a_b**(1/(log(j_b) - log(j_b + 1)))*(w_b*(b_b + v_b))**(-1/(log(j_b) - log(j_b + 1))))*w_b + j_b**log(a_b**(1/(log(j_b) - log(j_b + 1)))*(w_b*(b_b + v_b))**(-1/(log(j_b) - log(j_b + 1))))*v_b*w_b)**2"
      ]
     },
     "execution_count": 19,
     "metadata": {},
     "output_type": "execute_result"
    }
   ],
   "source": [
    "l1_sol;"
   ]
  },
  {
   "cell_type": "code",
   "execution_count": 20,
   "metadata": {},
   "outputs": [
    {
     "data": {
      "text/latex": [
       "$\\displaystyle \\frac{\\log{\\left(j_{s}^{- \\frac{a_{s} j_{b}^{\\log{\\left(a_{b}^{\\frac{1}{\\log{\\left(j_{b} \\right)} - \\log{\\left(j_{b} + 1 \\right)}}} \\left(w_{b} \\left(b_{b} + v_{b}\\right)\\right)^{- \\frac{1}{\\log{\\left(j_{b} \\right)} - \\log{\\left(j_{b} + 1 \\right)}}} \\right)}} j_{s}^{- \\log{\\left(a_{s}^{\\frac{1}{\\log{\\left(j_{s} \\right)} - \\log{\\left(j_{s} + 1 \\right)}}} \\left(w_{s} \\left(b_{s} + v_{s}\\right)\\right)^{- \\frac{1}{\\log{\\left(j_{s} \\right)} - \\log{\\left(j_{s} + 1 \\right)}}} \\right)}} w_{b} \\left(j_{s} + 1\\right)^{\\log{\\left(a_{s}^{\\frac{1}{\\log{\\left(j_{s} \\right)} - \\log{\\left(j_{s} + 1 \\right)}}} \\left(w_{s} \\left(b_{s} + v_{s}\\right)\\right)^{- \\frac{1}{\\log{\\left(j_{s} \\right)} - \\log{\\left(j_{s} + 1 \\right)}}} \\right)}}}{w_{s}}} \\left(j_{s} + 1\\right)^{\\frac{a_{s} j_{b}^{\\log{\\left(a_{b}^{\\frac{1}{\\log{\\left(j_{b} \\right)} - \\log{\\left(j_{b} + 1 \\right)}}} \\left(w_{b} \\left(b_{b} + v_{b}\\right)\\right)^{- \\frac{1}{\\log{\\left(j_{b} \\right)} - \\log{\\left(j_{b} + 1 \\right)}}} \\right)}} j_{s}^{- \\log{\\left(a_{s}^{\\frac{1}{\\log{\\left(j_{s} \\right)} - \\log{\\left(j_{s} + 1 \\right)}}} \\left(w_{s} \\left(b_{s} + v_{s}\\right)\\right)^{- \\frac{1}{\\log{\\left(j_{s} \\right)} - \\log{\\left(j_{s} + 1 \\right)}}} \\right)}} w_{b} \\left(j_{s} + 1\\right)^{\\log{\\left(a_{s}^{\\frac{1}{\\log{\\left(j_{s} \\right)} - \\log{\\left(j_{s} + 1 \\right)}}} \\left(w_{s} \\left(b_{s} + v_{s}\\right)\\right)^{- \\frac{1}{\\log{\\left(j_{s} \\right)} - \\log{\\left(j_{s} + 1 \\right)}}} \\right)}}}{w_{s}}} \\right)}}{- a_{b} \\left(j_{b} + 1\\right)^{\\log{\\left(a_{b}^{\\frac{1}{\\log{\\left(j_{b} \\right)} - \\log{\\left(j_{b} + 1 \\right)}}} \\left(w_{b} \\left(b_{b} + v_{b}\\right)\\right)^{- \\frac{1}{\\log{\\left(j_{b} \\right)} - \\log{\\left(j_{b} + 1 \\right)}}} \\right)}} + b_{b} j_{b}^{\\log{\\left(a_{b}^{\\frac{1}{\\log{\\left(j_{b} \\right)} - \\log{\\left(j_{b} + 1 \\right)}}} \\left(w_{b} \\left(b_{b} + v_{b}\\right)\\right)^{- \\frac{1}{\\log{\\left(j_{b} \\right)} - \\log{\\left(j_{b} + 1 \\right)}}} \\right)}} w_{b} + j_{b}^{\\log{\\left(a_{b}^{\\frac{1}{\\log{\\left(j_{b} \\right)} - \\log{\\left(j_{b} + 1 \\right)}}} \\left(w_{b} \\left(b_{b} + v_{b}\\right)\\right)^{- \\frac{1}{\\log{\\left(j_{b} \\right)} - \\log{\\left(j_{b} + 1 \\right)}}} \\right)}} v_{b} w_{b}}$"
      ],
      "text/plain": [
       "log(j_s**(-a_s*j_b**log(a_b**(1/(log(j_b) - log(j_b + 1)))*(w_b*(b_b + v_b))**(-1/(log(j_b) - log(j_b + 1))))*j_s**(-log(a_s**(1/(log(j_s) - log(j_s + 1)))*(w_s*(b_s + v_s))**(-1/(log(j_s) - log(j_s + 1)))))*w_b*(j_s + 1)**log(a_s**(1/(log(j_s) - log(j_s + 1)))*(w_s*(b_s + v_s))**(-1/(log(j_s) - log(j_s + 1))))/w_s)*(j_s + 1)**(a_s*j_b**log(a_b**(1/(log(j_b) - log(j_b + 1)))*(w_b*(b_b + v_b))**(-1/(log(j_b) - log(j_b + 1))))*j_s**(-log(a_s**(1/(log(j_s) - log(j_s + 1)))*(w_s*(b_s + v_s))**(-1/(log(j_s) - log(j_s + 1)))))*w_b*(j_s + 1)**log(a_s**(1/(log(j_s) - log(j_s + 1)))*(w_s*(b_s + v_s))**(-1/(log(j_s) - log(j_s + 1))))/w_s))/(-a_b*(j_b + 1)**log(a_b**(1/(log(j_b) - log(j_b + 1)))*(w_b*(b_b + v_b))**(-1/(log(j_b) - log(j_b + 1)))) + b_b*j_b**log(a_b**(1/(log(j_b) - log(j_b + 1)))*(w_b*(b_b + v_b))**(-1/(log(j_b) - log(j_b + 1))))*w_b + j_b**log(a_b**(1/(log(j_b) - log(j_b + 1)))*(w_b*(b_b + v_b))**(-1/(log(j_b) - log(j_b + 1))))*v_b*w_b)"
      ]
     },
     "execution_count": 20,
     "metadata": {},
     "output_type": "execute_result"
    }
   ],
   "source": [
    "l2_sol;"
   ]
  },
  {
   "cell_type": "code",
   "execution_count": 21,
   "metadata": {},
   "outputs": [],
   "source": [
    "#l3_sol;"
   ]
  },
  {
   "cell_type": "code",
   "execution_count": 22,
   "metadata": {},
   "outputs": [],
   "source": [
    "#l4_sol;"
   ]
  },
  {
   "cell_type": "code",
   "execution_count": 23,
   "metadata": {},
   "outputs": [],
   "source": [
    "#l5_sol;"
   ]
  },
  {
   "cell_type": "code",
   "execution_count": 24,
   "metadata": {},
   "outputs": [],
   "source": [
    "#l6_sol;"
   ]
  },
  {
   "cell_type": "code",
   "execution_count": 25,
   "metadata": {},
   "outputs": [
    {
     "name": "stdout",
     "output_type": "stream",
     "text": [
      "{j_s, v_s, b_s, w_s, a_s}\n",
      "{b_b, w_b, v_b, j_b, a_b}\n",
      "{j_s, v_s, b_b, a_b, j_b, b_s, w_s, w_b, v_b, a_s}\n",
      "{j_s, v_s, b_b, a_b, j_b, b_s, w_s, w_b, v_b, a_s}\n"
     ]
    }
   ],
   "source": [
    "for sol in solutions:\n",
    "    print(sol.free_symbols)"
   ]
  },
  {
   "cell_type": "markdown",
   "metadata": {},
   "source": [
    "Analysing l1_sol:"
   ]
  },
  {
   "cell_type": "code",
   "execution_count": 26,
   "metadata": {},
   "outputs": [
    {
     "name": "stdout",
     "output_type": "stream",
     "text": [
      "log((j_b**(a_s*(j_s + 1)**log(a_s**(1/(log(j_s) - log(j_s + 1)))*(w_s*(b_s + v_s))**(-1/(log(j_s) - log(j_s + 1)))))*(j_b + 1)**(j_s**log(a_s**(1/(log(j_s) - log(j_s + 1)))*(w_s*(b_s + v_s))**(-1/(log(j_s) - log(j_s + 1))))*w_s*(b_s + v_s)))**(a_b*j_s**(-log(a_s**(1/(log(j_s) - log(j_s + 1)))*(w_s*(b_s + v_s))**(-1/(log(j_s) - log(j_s + 1)))))*w_b*(j_b*(j_b + 1))**log(a_b**(1/(log(j_b) - log(j_b + 1)))*(w_b*(b_b + v_b))**(-1/(log(j_b) - log(j_b + 1))))/w_s)*(j_b**(j_s**log(a_s**(1/(log(j_s) - log(j_s + 1)))*(w_s*(b_s + v_s))**(-1/(log(j_s) - log(j_s + 1))))*w_s*(b_s + v_s))*(j_b + 1)**(a_s*(j_s + 1)**log(a_s**(1/(log(j_s) - log(j_s + 1)))*(w_s*(b_s + v_s))**(-1/(log(j_s) - log(j_s + 1))))))**(-a_b*j_s**(-log(a_s**(1/(log(j_s) - log(j_s + 1)))*(w_s*(b_s + v_s))**(-1/(log(j_s) - log(j_s + 1)))))*w_b*(j_b*(j_b + 1))**log(a_b**(1/(log(j_b) - log(j_b + 1)))*(w_b*(b_b + v_b))**(-1/(log(j_b) - log(j_b + 1))))/w_s))/(-a_b*(j_b + 1)**log(a_b**(1/(log(j_b) - log(j_b + 1)))*(w_b*(b_b + v_b))**(-1/(log(j_b) - log(j_b + 1)))) + b_b*j_b**log(a_b**(1/(log(j_b) - log(j_b + 1)))*(w_b*(b_b + v_b))**(-1/(log(j_b) - log(j_b + 1))))*w_b + j_b**log(a_b**(1/(log(j_b) - log(j_b + 1)))*(w_b*(b_b + v_b))**(-1/(log(j_b) - log(j_b + 1))))*v_b*w_b)**2\n"
     ]
    }
   ],
   "source": [
    "print(l1_sol);"
   ]
  },
  {
   "cell_type": "code",
   "execution_count": 49,
   "metadata": {},
   "outputs": [
    {
     "data": {
      "text/latex": [
       "$\\displaystyle \\frac{\\log{\\left(\\left(j_{b}^{p} \\left(j_{b} + 1\\right)^{a_{s} \\left(j_{s} + 1\\right)^{u}}\\right)^{- r} \\left(j_{b}^{a_{s} \\left(j_{s} + 1\\right)^{u}} \\left(j_{b} + 1\\right)^{p}\\right)^{r} \\right)}}{\\left(- a_{b} \\left(j_{b} + 1\\right)^{v} + b_{b} j_{b}^{v} w_{b} + j_{b}^{v} v_{b} w_{b}\\right)^{2}}$"
      ],
      "text/plain": [
       "log((j_b**p*(j_b + 1)**(a_s*(j_s + 1)**u))**(-r)*(j_b**(a_s*(j_s + 1)**u)*(j_b + 1)**p)**r)/(-a_b*(j_b + 1)**v + b_b*j_b**v*w_b + j_b**v*v_b*w_b)**2"
      ]
     },
     "execution_count": 49,
     "metadata": {},
     "output_type": "execute_result"
    }
   ],
   "source": [
    "u, v, p, q, r = symbols('u v p q r')\n",
    "\n",
    "subs_dict = {\n",
    "    log(a_s**(1/(log(j_s) - log(j_s + 1))) * (w_s*(b_s + v_s))**(-1/(log(j_s) - log(j_s + 1)))): u,\n",
    "    log(a_b**(1/(log(j_b) - log(j_b + 1))) * (w_b*(b_b + v_b))**(-1/(log(j_b) - log(j_b + 1)))): v,\n",
    "    j_s**log(a_s**(1/(log(j_s) - log(j_s + 1))) * (w_s*(b_s + v_s))**(-1/(log(j_s) - log(j_s + 1)))) * w_s*(b_s + v_s): p,\n",
    "    j_b**log(a_b**(1/(log(j_b) - log(j_b + 1))) * (w_b*(b_b + v_b))**(-1/(log(j_b) - log(j_b + 1)))) * w_b*(b_b + v_b): q\n",
    "}\n",
    "\n",
    "subs_dict2 = {\n",
    "    a_b*j_s**(-u)*w_b*(j_b*(j_b + 1))**v/w_s: r,\n",
    "}\n",
    "\n",
    "# Apply substitutions to l1_sol\n",
    "l1_sol_subs = l1_sol.subs(subs_dict)\n",
    "l1_sol_subs = l1_sol_subs.subs(subs_dict2)\n",
    "l1_sol_subs\n"
   ]
  },
  {
   "cell_type": "code",
   "execution_count": 50,
   "metadata": {},
   "outputs": [
    {
     "name": "stdout",
     "output_type": "stream",
     "text": [
      "log((j_b**p*(j_b + 1)**(a_s*(j_s + 1)**u))**(-r)*(j_b**(a_s*(j_s + 1)**u)*(j_b + 1)**p)**r)/(-a_b*(j_b + 1)**v + b_b*j_b**v*w_b + j_b**v*v_b*w_b)**2\n"
     ]
    }
   ],
   "source": [
    "print(l1_sol_subs);"
   ]
  },
  {
   "cell_type": "markdown",
   "metadata": {},
   "source": [
    "numerator:\n"
   ]
  },
  {
   "cell_type": "code",
   "execution_count": 52,
   "metadata": {},
   "outputs": [
    {
     "data": {
      "text/latex": [
       "$\\displaystyle \\log{\\left(\\left(j_{b}^{p} \\left(j_{b} + 1\\right)^{a_{s} \\left(j_{s} + 1\\right)^{u}}\\right)^{- r} \\left(j_{b}^{a_{s} \\left(j_{s} + 1\\right)^{u}} \\left(j_{b} + 1\\right)^{p}\\right)^{r} \\right)}$"
      ],
      "text/plain": [
       "log((j_b**p*(j_b + 1)**(a_s*(j_s + 1)**u))**(-r)*(j_b**(a_s*(j_s + 1)**u)*(j_b + 1)**p)**r)"
      ]
     },
     "execution_count": 52,
     "metadata": {},
     "output_type": "execute_result"
    }
   ],
   "source": [
    "log(\n",
    "  (j_b ** p * (j_b + 1) ** (a_s * (j_s + 1) ** u)) ** (-r) *\n",
    "    (j_b ** (a_s * (j_s + 1) ** u) * (j_b + 1) ** p) ** r,\n",
    ");"
   ]
  },
  {
   "cell_type": "code",
   "execution_count": 53,
   "metadata": {},
   "outputs": [
    {
     "data": {
      "text/latex": [
       "$\\displaystyle \\left(j_{b}^{p} \\left(j_{b} + 1\\right)^{a_{s} \\left(j_{s} + 1\\right)^{u}}\\right)^{- r} \\left(j_{b}^{a_{s} \\left(j_{s} + 1\\right)^{u}} \\left(j_{b} + 1\\right)^{p}\\right)^{r}$"
      ],
      "text/plain": [
       "(j_b**p*(j_b + 1)**(a_s*(j_s + 1)**u))**(-r)*(j_b**(a_s*(j_s + 1)**u)*(j_b + 1)**p)**r"
      ]
     },
     "execution_count": 53,
     "metadata": {},
     "output_type": "execute_result"
    }
   ],
   "source": [
    "(j_b ** p * (j_b + 1) ** (a_s * (j_s + 1) ** u)) ** (-r) *\n",
    "  (j_b ** (a_s * (j_s + 1) ** u) * (j_b + 1) ** p) ** r;"
   ]
  },
  {
   "cell_type": "code",
   "execution_count": 57,
   "metadata": {},
   "outputs": [
    {
     "data": {
      "text/latex": [
       "$\\displaystyle \\left(j_{b}^{a_{s} \\left(j_{s} + 1\\right)^{u} - p} \\left(j_{b} + 1\\right)^{- a_{s} \\left(j_{s} + 1\\right)^{u} + p}\\right)^{r}$"
      ],
      "text/plain": [
       "(j_b**(a_s*(j_s + 1)**u - p)*(j_b + 1)**(-a_s*(j_s + 1)**u + p))**r"
      ]
     },
     "execution_count": 57,
     "metadata": {},
     "output_type": "execute_result"
    }
   ],
   "source": [
    "simplify(\n",
    "  ((j_b ** (a_s * (j_s + 1) ** u) * (j_b + 1) ** p) /\n",
    "    (j_b ** p * (j_b + 1) ** (a_s * (j_s + 1) ** u))) ** r,\n",
    ");"
   ]
  },
  {
   "cell_type": "code",
   "execution_count": 58,
   "metadata": {},
   "outputs": [
    {
     "name": "stdout",
     "output_type": "stream",
     "text": [
      "(j_b**(a_s*(j_s + 1)**u - p)*(j_b + 1)**(-a_s*(j_s + 1)**u + p))**r\n"
     ]
    }
   ],
   "source": [
    "print(\n",
    "  simplify(\n",
    "    ((j_b ** (a_s * (j_s + 1) ** u) * (j_b + 1) ** p) /\n",
    "      (j_b ** p * (j_b + 1) ** (a_s * (j_s + 1) ** u))) ** r,\n",
    "  ),\n",
    ");"
   ]
  },
  {
   "cell_type": "code",
   "execution_count": 60,
   "metadata": {},
   "outputs": [
    {
     "data": {
      "text/latex": [
       "$\\displaystyle \\left(\\frac{j_{b} + 1}{j_{b}}\\right)^{r \\left(- a_{s} \\left(j_{s} + 1\\right)^{u} + p\\right)}$"
      ],
      "text/plain": [
       "((j_b + 1)/j_b)**(r*(-a_s*(j_s + 1)**u + p))"
      ]
     },
     "execution_count": 60,
     "metadata": {},
     "output_type": "execute_result"
    }
   ],
   "source": [
    "((j_b + 1) / j_b) ** ((p - a_s * (j_s + 1) ** u) * r);"
   ]
  },
  {
   "cell_type": "code",
   "execution_count": 61,
   "metadata": {},
   "outputs": [
    {
     "data": {
      "text/latex": [
       "$\\displaystyle \\left(\\frac{j_{b}}{j_{b} + 1}\\right)^{r \\left(a_{s} \\left(j_{s} + 1\\right)^{u} - p\\right)}$"
      ],
      "text/plain": [
       "(j_b/(j_b + 1))**(r*(a_s*(j_s + 1)**u - p))"
      ]
     },
     "execution_count": 61,
     "metadata": {},
     "output_type": "execute_result"
    }
   ],
   "source": [
    "simplify(((j_b + 1) / j_b) ** ((p - a_s * (j_s + 1) ** u) * r));"
   ]
  },
  {
   "cell_type": "code",
   "execution_count": null,
   "metadata": {},
   "outputs": [],
   "source": []
  },
  {
   "cell_type": "code",
   "execution_count": null,
   "metadata": {},
   "outputs": [],
   "source": []
  },
  {
   "cell_type": "code",
   "execution_count": null,
   "metadata": {},
   "outputs": [],
   "source": []
  },
  {
   "cell_type": "markdown",
   "metadata": {},
   "source": [
    "Analysing l2_sol:"
   ]
  },
  {
   "cell_type": "code",
   "execution_count": 27,
   "metadata": {},
   "outputs": [
    {
     "data": {
      "text/latex": [
       "$\\displaystyle \\frac{\\log{\\left(j_{s}^{- r} \\left(j_{s} + 1\\right)^{r} \\right)}}{- a_{b} \\left(j_{b} + 1\\right)^{v} + b_{b} j_{b}^{v} w_{b} + j_{b}^{v} v_{b} w_{b}}$"
      ],
      "text/plain": [
       "log(j_s**(-r)*(j_s + 1)**r)/(-a_b*(j_b + 1)**v + b_b*j_b**v*w_b + j_b**v*v_b*w_b)"
      ]
     },
     "execution_count": 27,
     "metadata": {},
     "output_type": "execute_result"
    }
   ],
   "source": [
    "# Define new symbols for substitutions\n",
    "u, v, p, q, r = symbols('u v p q r')\n",
    "\n",
    "# Define the substitutions\n",
    "subs_dict = {\n",
    "    log(a_s ** (1 / (log(j_s) - log(j_s + 1))) * ((b_s + v_s) * w_s) ** (-1 / (log(j_s) - log(j_s + 1)))): u,\n",
    "    log(a_b ** (1 / (log(j_b) - log(j_b + 1))) * ((b_b + v_b) * w_b) ** (-1 / (log(j_b) - log(j_b + 1)))): v,\n",
    "    j_s ** (a_s * j_b ** v) * j_s ** (-u): p,\n",
    "    (j_s + 1) ** u: q,\n",
    "    # Add other substitutions as necessary\n",
    "}\n",
    "\n",
    "subs_dict2 = {\n",
    "    a_s*j_b**v*j_s**(-u)*q*w_b/w_s: r\n",
    "}\n",
    "\n",
    "# Substitute in the expression for l2\n",
    "l2_substituted = l2_sol.subs(subs_dict)\n",
    "l2_substituted = l2_substituted.subs(subs_dict2)\n",
    "\n",
    "l2_substituted"
   ]
  },
  {
   "cell_type": "markdown",
   "metadata": {},
   "source": [
    "we need to check if this is positive, negative, or zero.\n",
    "\n",
    "Starting with the numerator:"
   ]
  },
  {
   "cell_type": "code",
   "execution_count": 28,
   "metadata": {},
   "outputs": [
    {
     "name": "stdout",
     "output_type": "stream",
     "text": [
      "a_s*j_b**v*j_s**(-u)*q*w_b/w_s\n",
      "(j_s + 1)**u\n"
     ]
    }
   ],
   "source": [
    "print(list(subs_dict2.keys())[0]) # r\n",
    "print(list(subs_dict.keys())[3]) # q"
   ]
  },
  {
   "cell_type": "markdown",
   "metadata": {},
   "source": [
    "factors of r:\n",
    "\n",
    "- a_s -> positive\n",
    "- j_b**v -> positive\n",
    "- j_s**(-u) -> positive\n",
    "- q = (j_s + 1)**u -> positive\n",
    "- w_b -> positive\n",
    "- w_s -> positive\n",
    "\n",
    "=> r is always positive\n",
    "\n",
    "=> ((j_s + 1) / j_s)**r is always > 1\n",
    "\n",
    "=> log(((j_s + 1) / j_s)**r) is always positive\n",
    "\n",
    "=> numerator is always positive\n",
    "\n",
    "Next the denominator, which ideally is always positive as well:"
   ]
  },
  {
   "cell_type": "code",
   "execution_count": 29,
   "metadata": {},
   "outputs": [
    {
     "name": "stdout",
     "output_type": "stream",
     "text": [
      "log(j_s**(-r)*(j_s + 1)**r)/(-a_b*(j_b + 1)**v + b_b*j_b**v*w_b + j_b**v*v_b*w_b)\n"
     ]
    }
   ],
   "source": [
    "print(l2_substituted);"
   ]
  },
  {
   "cell_type": "code",
   "execution_count": 30,
   "metadata": {},
   "outputs": [
    {
     "data": {
      "text/latex": [
       "$\\displaystyle 0 < - a_{b} \\left(j_{b} + 1\\right)^{v} + b_{b} j_{b}^{v} w_{b} + j_{b}^{v} v_{b} w_{b}$"
      ],
      "text/plain": [
       "0 < -a_b*(j_b + 1)**v + b_b*j_b**v*w_b + j_b**v*v_b*w_b"
      ]
     },
     "execution_count": 30,
     "metadata": {},
     "output_type": "execute_result"
    }
   ],
   "source": [
    "l2_denom = -a_b * (j_b + 1) ** v + b_b * j_b ** v * w_b + j_b ** v * v_b * w_b;\n",
    "Lt(0, l2_denom);"
   ]
  },
  {
   "cell_type": "code",
   "execution_count": 31,
   "metadata": {},
   "outputs": [
    {
     "data": {
      "text/latex": [
       "$\\displaystyle a_{b} \\left(j_{b} + 1\\right)^{v} < b_{b} j_{b}^{v} w_{b} + j_{b}^{v} v_{b} w_{b}$"
      ],
      "text/plain": [
       "a_b*(j_b + 1)**v < b_b*j_b**v*w_b + j_b**v*v_b*w_b"
      ]
     },
     "execution_count": 31,
     "metadata": {},
     "output_type": "execute_result"
    }
   ],
   "source": [
    "l2_denom_eq = Lt(\n",
    "  a_b * (j_b + 1) ** v,\n",
    "  b_b * j_b ** v * w_b + j_b ** v * v_b * w_b,\n",
    ");\n",
    "l2_denom_eq;"
   ]
  },
  {
   "cell_type": "code",
   "execution_count": 32,
   "metadata": {},
   "outputs": [
    {
     "data": {
      "text/latex": [
       "$\\displaystyle \\left(\\frac{j_{b} + 1}{j_{b}}\\right)^{v} < \\frac{b_{b} w_{b}}{a_{b}} + \\frac{v_{b} w_{b}}{a_{b}}$"
      ],
      "text/plain": [
       "((j_b + 1)/j_b)**v < b_b*w_b/a_b + v_b*w_b/a_b"
      ]
     },
     "execution_count": 32,
     "metadata": {},
     "output_type": "execute_result"
    }
   ],
   "source": [
    "l2_denom_eq2 = Lt(((j_b + 1) / j_b) ** v, b_b * w_b / a_b + v_b * w_b / a_b);\n",
    "l2_denom_eq2;"
   ]
  },
  {
   "cell_type": "code",
   "execution_count": 33,
   "metadata": {},
   "outputs": [
    {
     "data": {
      "text/latex": [
       "$\\displaystyle \\frac{j_{b} v_{b} w_{b}}{j_{b} + 1} \\leq a_{b}$"
      ],
      "text/plain": [
       "j_b*v_b*w_b/(j_b + 1) <= a_b"
      ]
     },
     "execution_count": 33,
     "metadata": {},
     "output_type": "execute_result"
    }
   ],
   "source": [
    "#minAnchorPrices;\n",
    "Le((v_b * w_b * j_b) / (j_b + 1), a_b);"
   ]
  },
  {
   "cell_type": "code",
   "execution_count": 34,
   "metadata": {},
   "outputs": [
    {
     "data": {
      "text/latex": [
       "$\\displaystyle \\frac{j_{b}}{j_{b} + 1} \\leq \\frac{a_{b}}{v_{b} w_{b}}$"
      ],
      "text/plain": [
       "j_b/(j_b + 1) <= a_b/(v_b*w_b)"
      ]
     },
     "execution_count": 34,
     "metadata": {},
     "output_type": "execute_result"
    }
   ],
   "source": [
    "Le(j_b / (j_b + 1), a_b / (v_b * w_b));"
   ]
  },
  {
   "cell_type": "code",
   "execution_count": 35,
   "metadata": {},
   "outputs": [
    {
     "data": {
      "text/latex": [
       "$\\displaystyle \\frac{v_{b} w_{b}}{a_{b}} \\leq \\frac{j_{b} + 1}{j_{b}}$"
      ],
      "text/plain": [
       "v_b*w_b/a_b <= (j_b + 1)/j_b"
      ]
     },
     "execution_count": 35,
     "metadata": {},
     "output_type": "execute_result"
    }
   ],
   "source": [
    "Le((v_b * w_b) / a_b, (j_b + 1) / j_b);"
   ]
  },
  {
   "cell_type": "code",
   "execution_count": null,
   "metadata": {},
   "outputs": [],
   "source": []
  },
  {
   "cell_type": "markdown",
   "metadata": {},
   "source": [
    "### Complementary Slackness\n",
    "\n",
    "for each inequality constraint, it should hold that lambda_i * g_i(x) = 0"
   ]
  },
  {
   "cell_type": "code",
   "execution_count": 67,
   "metadata": {},
   "outputs": [
    {
     "data": {
      "text/latex": [
       "$\\displaystyle - \\log{\\left(\\left(\\frac{w_{b} \\left(b_{b} + v_{b}\\right)}{a_{b}}\\right)^{\\frac{1}{\\log{\\left(\\frac{j_{b} + 1}{j_{b}} \\right)}}} \\right)} + \\log{\\left(\\left(\\frac{a_{b}}{w_{b} \\left(b_{b} + v_{b}\\right)}\\right)^{\\frac{1}{\\log{\\left(j_{b} \\right)} - \\log{\\left(j_{b} + 1 \\right)}}} \\right)}$"
      ],
      "text/plain": [
       "-log((w_b*(b_b + v_b)/a_b)**(1/log((j_b + 1)/j_b))) + log((a_b/(w_b*(b_b + v_b)))**(1/(log(j_b) - log(j_b + 1))))"
      ]
     },
     "execution_count": 67,
     "metadata": {},
     "output_type": "execute_result"
    }
   ],
   "source": [
    "g1 = expBound[\"b\"].subs({ e_b: e_b_sol });\n",
    "g1;"
   ]
  },
  {
   "cell_type": "code",
   "execution_count": 78,
   "metadata": {},
   "outputs": [
    {
     "data": {
      "text/latex": [
       "$\\displaystyle \\frac{\\left(- \\log{\\left(\\left(\\frac{w_{b} \\left(b_{b} + v_{b}\\right)}{a_{b}}\\right)^{\\frac{1}{\\log{\\left(\\frac{j_{b} + 1}{j_{b}} \\right)}}} \\right)} + \\log{\\left(\\left(\\frac{a_{b}}{w_{b} \\left(b_{b} + v_{b}\\right)}\\right)^{\\frac{1}{\\log{\\left(j_{b} \\right)} - \\log{\\left(j_{b} + 1 \\right)}}} \\right)}\\right) \\log{\\left(\\left(j_{b}^{a_{s} \\left(j_{s} + 1\\right)^{\\log{\\left(a_{s}^{\\frac{1}{\\log{\\left(j_{s} \\right)} - \\log{\\left(j_{s} + 1 \\right)}}} \\left(w_{s} \\left(b_{s} + v_{s}\\right)\\right)^{- \\frac{1}{\\log{\\left(j_{s} \\right)} - \\log{\\left(j_{s} + 1 \\right)}}} \\right)}}} \\left(j_{b} + 1\\right)^{j_{s}^{\\log{\\left(a_{s}^{\\frac{1}{\\log{\\left(j_{s} \\right)} - \\log{\\left(j_{s} + 1 \\right)}}} \\left(w_{s} \\left(b_{s} + v_{s}\\right)\\right)^{- \\frac{1}{\\log{\\left(j_{s} \\right)} - \\log{\\left(j_{s} + 1 \\right)}}} \\right)}} w_{s} \\left(b_{s} + v_{s}\\right)}\\right)^{\\frac{a_{b} j_{s}^{- \\log{\\left(a_{s}^{\\frac{1}{\\log{\\left(j_{s} \\right)} - \\log{\\left(j_{s} + 1 \\right)}}} \\left(w_{s} \\left(b_{s} + v_{s}\\right)\\right)^{- \\frac{1}{\\log{\\left(j_{s} \\right)} - \\log{\\left(j_{s} + 1 \\right)}}} \\right)}} w_{b} \\left(j_{b} \\left(j_{b} + 1\\right)\\right)^{\\log{\\left(a_{b}^{\\frac{1}{\\log{\\left(j_{b} \\right)} - \\log{\\left(j_{b} + 1 \\right)}}} \\left(w_{b} \\left(b_{b} + v_{b}\\right)\\right)^{- \\frac{1}{\\log{\\left(j_{b} \\right)} - \\log{\\left(j_{b} + 1 \\right)}}} \\right)}}}{w_{s}}} \\left(j_{b}^{j_{s}^{\\log{\\left(a_{s}^{\\frac{1}{\\log{\\left(j_{s} \\right)} - \\log{\\left(j_{s} + 1 \\right)}}} \\left(w_{s} \\left(b_{s} + v_{s}\\right)\\right)^{- \\frac{1}{\\log{\\left(j_{s} \\right)} - \\log{\\left(j_{s} + 1 \\right)}}} \\right)}} w_{s} \\left(b_{s} + v_{s}\\right)} \\left(j_{b} + 1\\right)^{a_{s} \\left(j_{s} + 1\\right)^{\\log{\\left(a_{s}^{\\frac{1}{\\log{\\left(j_{s} \\right)} - \\log{\\left(j_{s} + 1 \\right)}}} \\left(w_{s} \\left(b_{s} + v_{s}\\right)\\right)^{- \\frac{1}{\\log{\\left(j_{s} \\right)} - \\log{\\left(j_{s} + 1 \\right)}}} \\right)}}}\\right)^{- \\frac{a_{b} j_{s}^{- \\log{\\left(a_{s}^{\\frac{1}{\\log{\\left(j_{s} \\right)} - \\log{\\left(j_{s} + 1 \\right)}}} \\left(w_{s} \\left(b_{s} + v_{s}\\right)\\right)^{- \\frac{1}{\\log{\\left(j_{s} \\right)} - \\log{\\left(j_{s} + 1 \\right)}}} \\right)}} w_{b} \\left(j_{b} \\left(j_{b} + 1\\right)\\right)^{\\log{\\left(a_{b}^{\\frac{1}{\\log{\\left(j_{b} \\right)} - \\log{\\left(j_{b} + 1 \\right)}}} \\left(w_{b} \\left(b_{b} + v_{b}\\right)\\right)^{- \\frac{1}{\\log{\\left(j_{b} \\right)} - \\log{\\left(j_{b} + 1 \\right)}}} \\right)}}}{w_{s}}} \\right)}}{\\left(- a_{b} \\left(j_{b} + 1\\right)^{\\log{\\left(a_{b}^{\\frac{1}{\\log{\\left(j_{b} \\right)} - \\log{\\left(j_{b} + 1 \\right)}}} \\left(w_{b} \\left(b_{b} + v_{b}\\right)\\right)^{- \\frac{1}{\\log{\\left(j_{b} \\right)} - \\log{\\left(j_{b} + 1 \\right)}}} \\right)}} + b_{b} j_{b}^{\\log{\\left(a_{b}^{\\frac{1}{\\log{\\left(j_{b} \\right)} - \\log{\\left(j_{b} + 1 \\right)}}} \\left(w_{b} \\left(b_{b} + v_{b}\\right)\\right)^{- \\frac{1}{\\log{\\left(j_{b} \\right)} - \\log{\\left(j_{b} + 1 \\right)}}} \\right)}} w_{b} + j_{b}^{\\log{\\left(a_{b}^{\\frac{1}{\\log{\\left(j_{b} \\right)} - \\log{\\left(j_{b} + 1 \\right)}}} \\left(w_{b} \\left(b_{b} + v_{b}\\right)\\right)^{- \\frac{1}{\\log{\\left(j_{b} \\right)} - \\log{\\left(j_{b} + 1 \\right)}}} \\right)}} v_{b} w_{b}\\right)^{2}}$"
      ],
      "text/plain": [
       "(-log((w_b*(b_b + v_b)/a_b)**(1/log((j_b + 1)/j_b))) + log((a_b/(w_b*(b_b + v_b)))**(1/(log(j_b) - log(j_b + 1)))))*log((j_b**(a_s*(j_s + 1)**log(a_s**(1/(log(j_s) - log(j_s + 1)))*(w_s*(b_s + v_s))**(-1/(log(j_s) - log(j_s + 1)))))*(j_b + 1)**(j_s**log(a_s**(1/(log(j_s) - log(j_s + 1)))*(w_s*(b_s + v_s))**(-1/(log(j_s) - log(j_s + 1))))*w_s*(b_s + v_s)))**(a_b*j_s**(-log(a_s**(1/(log(j_s) - log(j_s + 1)))*(w_s*(b_s + v_s))**(-1/(log(j_s) - log(j_s + 1)))))*w_b*(j_b*(j_b + 1))**log(a_b**(1/(log(j_b) - log(j_b + 1)))*(w_b*(b_b + v_b))**(-1/(log(j_b) - log(j_b + 1))))/w_s)*(j_b**(j_s**log(a_s**(1/(log(j_s) - log(j_s + 1)))*(w_s*(b_s + v_s))**(-1/(log(j_s) - log(j_s + 1))))*w_s*(b_s + v_s))*(j_b + 1)**(a_s*(j_s + 1)**log(a_s**(1/(log(j_s) - log(j_s + 1)))*(w_s*(b_s + v_s))**(-1/(log(j_s) - log(j_s + 1))))))**(-a_b*j_s**(-log(a_s**(1/(log(j_s) - log(j_s + 1)))*(w_s*(b_s + v_s))**(-1/(log(j_s) - log(j_s + 1)))))*w_b*(j_b*(j_b + 1))**log(a_b**(1/(log(j_b) - log(j_b + 1)))*(w_b*(b_b + v_b))**(-1/(log(j_b) - log(j_b + 1))))/w_s))/(-a_b*(j_b + 1)**log(a_b**(1/(log(j_b) - log(j_b + 1)))*(w_b*(b_b + v_b))**(-1/(log(j_b) - log(j_b + 1)))) + b_b*j_b**log(a_b**(1/(log(j_b) - log(j_b + 1)))*(w_b*(b_b + v_b))**(-1/(log(j_b) - log(j_b + 1))))*w_b + j_b**log(a_b**(1/(log(j_b) - log(j_b + 1)))*(w_b*(b_b + v_b))**(-1/(log(j_b) - log(j_b + 1))))*v_b*w_b)**2"
      ]
     },
     "execution_count": 78,
     "metadata": {},
     "output_type": "execute_result"
    }
   ],
   "source": [
    "slack1 = g1 * l1_sol;\n",
    "slack1;"
   ]
  },
  {
   "cell_type": "code",
   "execution_count": 79,
   "metadata": {},
   "outputs": [
    {
     "data": {
      "text/plain": [
       "sympy.core.mul.Mul"
      ]
     },
     "execution_count": 79,
     "metadata": {},
     "output_type": "execute_result"
    }
   ],
   "source": [
    "slack1.func;"
   ]
  },
  {
   "cell_type": "code",
   "execution_count": 77,
   "metadata": {},
   "outputs": [
    {
     "data": {
      "text/latex": [
       "$\\displaystyle - \\frac{\\log{\\left(\\left(j_{b}^{a_{s} \\left(j_{s} + 1\\right)^{\\log{\\left(a_{s}^{\\frac{1}{\\log{\\left(\\frac{j_{s}}{j_{s} + 1} \\right)}}} \\left(w_{s} \\left(b_{s} + v_{s}\\right)\\right)^{- \\frac{1}{\\log{\\left(\\frac{j_{s}}{j_{s} + 1} \\right)}}} \\right)}} - j_{s}^{\\log{\\left(a_{s}^{\\frac{1}{\\log{\\left(\\frac{j_{s}}{j_{s} + 1} \\right)}}} \\left(w_{s} \\left(b_{s} + v_{s}\\right)\\right)^{- \\frac{1}{\\log{\\left(\\frac{j_{s}}{j_{s} + 1} \\right)}}} \\right)}} w_{s} \\left(b_{s} + v_{s}\\right)} \\left(j_{b} + 1\\right)^{- a_{s} \\left(j_{s} + 1\\right)^{\\log{\\left(a_{s}^{\\frac{1}{\\log{\\left(\\frac{j_{s}}{j_{s} + 1} \\right)}}} \\left(w_{s} \\left(b_{s} + v_{s}\\right)\\right)^{- \\frac{1}{\\log{\\left(\\frac{j_{s}}{j_{s} + 1} \\right)}}} \\right)}} + j_{s}^{\\log{\\left(a_{s}^{\\frac{1}{\\log{\\left(\\frac{j_{s}}{j_{s} + 1} \\right)}}} \\left(w_{s} \\left(b_{s} + v_{s}\\right)\\right)^{- \\frac{1}{\\log{\\left(\\frac{j_{s}}{j_{s} + 1} \\right)}}} \\right)}} w_{s} \\left(b_{s} + v_{s}\\right)}\\right)^{\\log{\\left(\\left(a_{b}^{- \\frac{1}{\\log{\\left(\\frac{j_{b}}{j_{b} + 1} \\right)}} - \\frac{1}{\\log{\\left(\\frac{j_{b} + 1}{j_{b}} \\right)}}} \\left(w_{b} \\left(b_{b} + v_{b}\\right)\\right)^{\\frac{1}{\\log{\\left(\\frac{j_{b}}{j_{b} + 1} \\right)}} + \\frac{1}{\\log{\\left(\\frac{j_{b} + 1}{j_{b}} \\right)}}}\\right)^{\\frac{a_{b} j_{s}^{- \\log{\\left(a_{s}^{\\frac{1}{\\log{\\left(\\frac{j_{s}}{j_{s} + 1} \\right)}}} \\left(w_{s} \\left(b_{s} + v_{s}\\right)\\right)^{- \\frac{1}{\\log{\\left(\\frac{j_{s}}{j_{s} + 1} \\right)}}} \\right)}} w_{b} \\left(j_{b} \\left(j_{b} + 1\\right)\\right)^{\\log{\\left(a_{b}^{\\frac{1}{\\log{\\left(\\frac{j_{b}}{j_{b} + 1} \\right)}}} \\left(w_{b} \\left(b_{b} + v_{b}\\right)\\right)^{- \\frac{1}{\\log{\\left(\\frac{j_{b}}{j_{b} + 1} \\right)}}} \\right)}}}{w_{s}}} \\right)}} \\right)}}{\\left(- a_{b} \\left(j_{b} + 1\\right)^{\\log{\\left(a_{b}^{\\frac{1}{\\log{\\left(\\frac{j_{b}}{j_{b} + 1} \\right)}}} \\left(w_{b} \\left(b_{b} + v_{b}\\right)\\right)^{- \\frac{1}{\\log{\\left(\\frac{j_{b}}{j_{b} + 1} \\right)}}} \\right)}} + b_{b} j_{b}^{\\log{\\left(a_{b}^{\\frac{1}{\\log{\\left(\\frac{j_{b}}{j_{b} + 1} \\right)}}} \\left(w_{b} \\left(b_{b} + v_{b}\\right)\\right)^{- \\frac{1}{\\log{\\left(\\frac{j_{b}}{j_{b} + 1} \\right)}}} \\right)}} w_{b} + j_{b}^{\\log{\\left(a_{b}^{\\frac{1}{\\log{\\left(\\frac{j_{b}}{j_{b} + 1} \\right)}}} \\left(w_{b} \\left(b_{b} + v_{b}\\right)\\right)^{- \\frac{1}{\\log{\\left(\\frac{j_{b}}{j_{b} + 1} \\right)}}} \\right)}} v_{b} w_{b}\\right)^{2}}$"
      ],
      "text/plain": [
       "-log((j_b**(a_s*(j_s + 1)**log(a_s**(1/log(j_s/(j_s + 1)))*(w_s*(b_s + v_s))**(-1/log(j_s/(j_s + 1)))) - j_s**log(a_s**(1/log(j_s/(j_s + 1)))*(w_s*(b_s + v_s))**(-1/log(j_s/(j_s + 1))))*w_s*(b_s + v_s))*(j_b + 1)**(-a_s*(j_s + 1)**log(a_s**(1/log(j_s/(j_s + 1)))*(w_s*(b_s + v_s))**(-1/log(j_s/(j_s + 1)))) + j_s**log(a_s**(1/log(j_s/(j_s + 1)))*(w_s*(b_s + v_s))**(-1/log(j_s/(j_s + 1))))*w_s*(b_s + v_s)))**log((a_b**(-1/log(j_b/(j_b + 1)) - 1/log((j_b + 1)/j_b))*(w_b*(b_b + v_b))**(1/log(j_b/(j_b + 1)) + 1/log((j_b + 1)/j_b)))**(a_b*j_s**(-log(a_s**(1/log(j_s/(j_s + 1)))*(w_s*(b_s + v_s))**(-1/log(j_s/(j_s + 1)))))*w_b*(j_b*(j_b + 1))**log(a_b**(1/log(j_b/(j_b + 1)))*(w_b*(b_b + v_b))**(-1/log(j_b/(j_b + 1))))/w_s)))/(-a_b*(j_b + 1)**log(a_b**(1/log(j_b/(j_b + 1)))*(w_b*(b_b + v_b))**(-1/log(j_b/(j_b + 1)))) + b_b*j_b**log(a_b**(1/log(j_b/(j_b + 1)))*(w_b*(b_b + v_b))**(-1/log(j_b/(j_b + 1))))*w_b + j_b**log(a_b**(1/log(j_b/(j_b + 1)))*(w_b*(b_b + v_b))**(-1/log(j_b/(j_b + 1))))*v_b*w_b)**2"
      ]
     },
     "execution_count": 77,
     "metadata": {},
     "output_type": "execute_result"
    }
   ],
   "source": [
    "slack1_ = simplify(slack1);\n",
    "slack1_;"
   ]
  },
  {
   "cell_type": "code",
   "execution_count": 120,
   "metadata": {},
   "outputs": [
    {
     "data": {
      "text/latex": [
       "$\\displaystyle - \\frac{\\log{\\left(\\left(j_{b}^{p} \\left(j_{b} + 1\\right)^{- p}\\right)^{\\log{\\left(\\left(a_{b}^{- u - \\frac{1}{\\log{\\left(\\frac{j_{b} + 1}{j_{b}} \\right)}}} \\left(w_{b} \\left(b_{b} + v_{b}\\right)\\right)^{u + \\frac{1}{\\log{\\left(\\frac{j_{b} + 1}{j_{b}} \\right)}}}\\right)^{\\frac{a_{b} j_{s}^{- \\log{\\left(a_{s}^{v} \\left(w_{s} \\left(b_{s} + v_{s}\\right)\\right)^{- v} \\right)}} w_{b} \\left(j_{b} \\left(j_{b} + 1\\right)\\right)^{\\log{\\left(a_{b}^{u} \\left(w_{b} \\left(b_{b} + v_{b}\\right)\\right)^{- u} \\right)}}}{w_{s}}} \\right)}} \\right)}}{\\left(- a_{b} \\left(j_{b} + 1\\right)^{\\log{\\left(a_{b}^{u} \\left(w_{b} \\left(b_{b} + v_{b}\\right)\\right)^{- u} \\right)}} + b_{b} j_{b}^{\\log{\\left(a_{b}^{u} \\left(w_{b} \\left(b_{b} + v_{b}\\right)\\right)^{- u} \\right)}} w_{b} + j_{b}^{\\log{\\left(a_{b}^{u} \\left(w_{b} \\left(b_{b} + v_{b}\\right)\\right)^{- u} \\right)}} v_{b} w_{b}\\right)^{2}}$"
      ],
      "text/plain": [
       "-log((j_b**p*(j_b + 1)**(-p))**log((a_b**(-u - 1/log((j_b + 1)/j_b))*(w_b*(b_b + v_b))**(u + 1/log((j_b + 1)/j_b)))**(a_b*j_s**(-log(a_s**v*(w_s*(b_s + v_s))**(-v)))*w_b*(j_b*(j_b + 1))**log(a_b**u*(w_b*(b_b + v_b))**(-u))/w_s)))/(-a_b*(j_b + 1)**log(a_b**u*(w_b*(b_b + v_b))**(-u)) + b_b*j_b**log(a_b**u*(w_b*(b_b + v_b))**(-u))*w_b + j_b**log(a_b**u*(w_b*(b_b + v_b))**(-u))*v_b*w_b)**2"
      ]
     },
     "execution_count": 120,
     "metadata": {},
     "output_type": "execute_result"
    }
   ],
   "source": [
    "# Define new symbols for substitutions\n",
    "u, v, p, q, r = symbols('u v p q r')\n",
    "\n",
    "# Define the substitutions\n",
    "subs_dict = {\n",
    "    1/log(j_b/(j_b + 1)): u,\n",
    "    1/log(j_s/(j_s + 1)): v,\n",
    "    (a_s*(j_s + 1)**log(a_s**v*(w_s*(b_s + v_s))**(-v)) - j_s**log(a_s**v*(w_s*(b_s + v_s))**(-v))*w_s*(b_s + v_s)): p,\n",
    "    # Add other substitutions as necessary\n",
    "}\n",
    "slack1_ = slack1_.subs(subs_dict)\n",
    "slack1_"
   ]
  },
  {
   "cell_type": "code",
   "execution_count": 121,
   "metadata": {},
   "outputs": [
    {
     "data": {
      "text/plain": [
       "sympy.core.mul.Mul"
      ]
     },
     "execution_count": 121,
     "metadata": {},
     "output_type": "execute_result"
    }
   ],
   "source": [
    "slack1_.func;"
   ]
  },
  {
   "cell_type": "code",
   "execution_count": 122,
   "metadata": {},
   "outputs": [
    {
     "data": {
      "text/plain": [
       "3"
      ]
     },
     "execution_count": 122,
     "metadata": {},
     "output_type": "execute_result"
    }
   ],
   "source": [
    "len(slack1_.args);"
   ]
  },
  {
   "cell_type": "code",
   "execution_count": 123,
   "metadata": {},
   "outputs": [
    {
     "data": {
      "text/latex": [
       "$\\displaystyle -1$"
      ],
      "text/plain": [
       "-1"
      ]
     },
     "execution_count": 123,
     "metadata": {},
     "output_type": "execute_result"
    }
   ],
   "source": [
    "slack1_.args[0];"
   ]
  },
  {
   "cell_type": "code",
   "execution_count": 124,
   "metadata": {},
   "outputs": [
    {
     "data": {
      "text/latex": [
       "$\\displaystyle \\frac{1}{\\left(- a_{b} \\left(j_{b} + 1\\right)^{\\log{\\left(a_{b}^{u} \\left(w_{b} \\left(b_{b} + v_{b}\\right)\\right)^{- u} \\right)}} + b_{b} j_{b}^{\\log{\\left(a_{b}^{u} \\left(w_{b} \\left(b_{b} + v_{b}\\right)\\right)^{- u} \\right)}} w_{b} + j_{b}^{\\log{\\left(a_{b}^{u} \\left(w_{b} \\left(b_{b} + v_{b}\\right)\\right)^{- u} \\right)}} v_{b} w_{b}\\right)^{2}}$"
      ],
      "text/plain": [
       "(-a_b*(j_b + 1)**log(a_b**u*(w_b*(b_b + v_b))**(-u)) + b_b*j_b**log(a_b**u*(w_b*(b_b + v_b))**(-u))*w_b + j_b**log(a_b**u*(w_b*(b_b + v_b))**(-u))*v_b*w_b)**(-2)"
      ]
     },
     "execution_count": 124,
     "metadata": {},
     "output_type": "execute_result"
    }
   ],
   "source": [
    "slack1_.args[1];"
   ]
  },
  {
   "cell_type": "markdown",
   "metadata": {},
   "source": [
    "-> denominator should not be 0"
   ]
  },
  {
   "cell_type": "code",
   "execution_count": 176,
   "metadata": {},
   "outputs": [
    {
     "data": {
      "text/latex": [
       "$\\displaystyle - a_{b} \\left(j_{b} + 1\\right)^{\\log{\\left(a_{b}^{u} \\left(w_{b} \\left(b_{b} + v_{b}\\right)\\right)^{- u} \\right)}} + b_{b} j_{b}^{\\log{\\left(a_{b}^{u} \\left(w_{b} \\left(b_{b} + v_{b}\\right)\\right)^{- u} \\right)}} w_{b} + j_{b}^{\\log{\\left(a_{b}^{u} \\left(w_{b} \\left(b_{b} + v_{b}\\right)\\right)^{- u} \\right)}} v_{b} w_{b}$"
      ],
      "text/plain": [
       "-a_b*(j_b + 1)**log(a_b**u*(w_b*(b_b + v_b))**(-u)) + b_b*j_b**log(a_b**u*(w_b*(b_b + v_b))**(-u))*w_b + j_b**log(a_b**u*(w_b*(b_b + v_b))**(-u))*v_b*w_b"
      ]
     },
     "execution_count": 176,
     "metadata": {},
     "output_type": "execute_result"
    }
   ],
   "source": [
    "denbase = slack1_.args[1].args[0];\n",
    "denbase;"
   ]
  },
  {
   "cell_type": "code",
   "execution_count": 180,
   "metadata": {},
   "outputs": [
    {
     "data": {
      "text/plain": [
       "1"
      ]
     },
     "execution_count": 180,
     "metadata": {},
     "output_type": "execute_result"
    }
   ],
   "source": [
    "denbase0 = solve(Eq(denbase, 0));\n",
    "len(denbase0);"
   ]
  },
  {
   "cell_type": "code",
   "execution_count": 185,
   "metadata": {},
   "outputs": [
    {
     "data": {
      "text/plain": [
       "{j_b: a_b**(1/log(a_b**u*(w_b*(b_b + v_b))**(-u)))/(-a_b**(1/log(a_b**u*(w_b*(b_b + v_b))**(-u))) + (w_b*(b_b + v_b))**(1/log(a_b**u*(w_b*(b_b + v_b))**(-u))))}"
      ]
     },
     "execution_count": 185,
     "metadata": {},
     "output_type": "execute_result"
    }
   ],
   "source": [
    "denbase0[0];"
   ]
  },
  {
   "cell_type": "code",
   "execution_count": 187,
   "metadata": {},
   "outputs": [
    {
     "data": {
      "text/latex": [
       "$\\displaystyle \\frac{a_{b}^{\\frac{1}{\\log{\\left(a_{b}^{u} \\left(w_{b} \\left(b_{b} + v_{b}\\right)\\right)^{- u} \\right)}}}}{- a_{b}^{\\frac{1}{\\log{\\left(a_{b}^{u} \\left(w_{b} \\left(b_{b} + v_{b}\\right)\\right)^{- u} \\right)}}} + \\left(w_{b} \\left(b_{b} + v_{b}\\right)\\right)^{\\frac{1}{\\log{\\left(a_{b}^{u} \\left(w_{b} \\left(b_{b} + v_{b}\\right)\\right)^{- u} \\right)}}}}$"
      ],
      "text/plain": [
       "a_b**(1/log(a_b**u*(w_b*(b_b + v_b))**(-u)))/(-a_b**(1/log(a_b**u*(w_b*(b_b + v_b))**(-u))) + (w_b*(b_b + v_b))**(1/log(a_b**u*(w_b*(b_b + v_b))**(-u))))"
      ]
     },
     "execution_count": 187,
     "metadata": {},
     "output_type": "execute_result"
    }
   ],
   "source": [
    "list(denbase0[0].values())[0];"
   ]
  },
  {
   "cell_type": "markdown",
   "metadata": {},
   "source": []
  },
  {
   "cell_type": "code",
   "execution_count": null,
   "metadata": {},
   "outputs": [],
   "source": []
  },
  {
   "cell_type": "code",
   "execution_count": null,
   "metadata": {},
   "outputs": [],
   "source": []
  },
  {
   "cell_type": "code",
   "execution_count": 125,
   "metadata": {},
   "outputs": [
    {
     "data": {
      "text/latex": [
       "$\\displaystyle \\log{\\left(\\left(j_{b}^{p} \\left(j_{b} + 1\\right)^{- p}\\right)^{\\log{\\left(\\left(a_{b}^{- u - \\frac{1}{\\log{\\left(\\frac{j_{b} + 1}{j_{b}} \\right)}}} \\left(w_{b} \\left(b_{b} + v_{b}\\right)\\right)^{u + \\frac{1}{\\log{\\left(\\frac{j_{b} + 1}{j_{b}} \\right)}}}\\right)^{\\frac{a_{b} j_{s}^{- \\log{\\left(a_{s}^{v} \\left(w_{s} \\left(b_{s} + v_{s}\\right)\\right)^{- v} \\right)}} w_{b} \\left(j_{b} \\left(j_{b} + 1\\right)\\right)^{\\log{\\left(a_{b}^{u} \\left(w_{b} \\left(b_{b} + v_{b}\\right)\\right)^{- u} \\right)}}}{w_{s}}} \\right)}} \\right)}$"
      ],
      "text/plain": [
       "log((j_b**p*(j_b + 1)**(-p))**log((a_b**(-u - 1/log((j_b + 1)/j_b))*(w_b*(b_b + v_b))**(u + 1/log((j_b + 1)/j_b)))**(a_b*j_s**(-log(a_s**v*(w_s*(b_s + v_s))**(-v)))*w_b*(j_b*(j_b + 1))**log(a_b**u*(w_b*(b_b + v_b))**(-u))/w_s)))"
      ]
     },
     "execution_count": 125,
     "metadata": {},
     "output_type": "execute_result"
    }
   ],
   "source": [
    "slack1_.args[2];"
   ]
  },
  {
   "cell_type": "markdown",
   "metadata": {},
   "source": [
    "-> this last factor is the only one that can reach 0"
   ]
  },
  {
   "cell_type": "code",
   "execution_count": 126,
   "metadata": {},
   "outputs": [
    {
     "data": {
      "text/plain": [
       "log"
      ]
     },
     "execution_count": 126,
     "metadata": {},
     "output_type": "execute_result"
    }
   ],
   "source": [
    "slack1_.args[2].func;"
   ]
  },
  {
   "cell_type": "markdown",
   "metadata": {},
   "source": [
    "-> log is 0 if the argument is 1"
   ]
  },
  {
   "cell_type": "code",
   "execution_count": 127,
   "metadata": {},
   "outputs": [
    {
     "data": {
      "text/latex": [
       "$\\displaystyle \\left(j_{b}^{p} \\left(j_{b} + 1\\right)^{- p}\\right)^{\\log{\\left(\\left(a_{b}^{- u - \\frac{1}{\\log{\\left(\\frac{j_{b} + 1}{j_{b}} \\right)}}} \\left(w_{b} \\left(b_{b} + v_{b}\\right)\\right)^{u + \\frac{1}{\\log{\\left(\\frac{j_{b} + 1}{j_{b}} \\right)}}}\\right)^{\\frac{a_{b} j_{s}^{- \\log{\\left(a_{s}^{v} \\left(w_{s} \\left(b_{s} + v_{s}\\right)\\right)^{- v} \\right)}} w_{b} \\left(j_{b} \\left(j_{b} + 1\\right)\\right)^{\\log{\\left(a_{b}^{u} \\left(w_{b} \\left(b_{b} + v_{b}\\right)\\right)^{- u} \\right)}}}{w_{s}}} \\right)}}$"
      ],
      "text/plain": [
       "(j_b**p*(j_b + 1)**(-p))**log((a_b**(-u - 1/log((j_b + 1)/j_b))*(w_b*(b_b + v_b))**(u + 1/log((j_b + 1)/j_b)))**(a_b*j_s**(-log(a_s**v*(w_s*(b_s + v_s))**(-v)))*w_b*(j_b*(j_b + 1))**log(a_b**u*(w_b*(b_b + v_b))**(-u))/w_s))"
      ]
     },
     "execution_count": 127,
     "metadata": {},
     "output_type": "execute_result"
    }
   ],
   "source": [
    "slack1_.args[2].args[0];"
   ]
  },
  {
   "cell_type": "code",
   "execution_count": 128,
   "metadata": {},
   "outputs": [
    {
     "data": {
      "text/plain": [
       "sympy.core.power.Pow"
      ]
     },
     "execution_count": 128,
     "metadata": {},
     "output_type": "execute_result"
    }
   ],
   "source": [
    "slack1_.args[2].args[0].func;"
   ]
  },
  {
   "cell_type": "markdown",
   "metadata": {},
   "source": [
    "-> power is 1 if the base is 1 or the exponent is 0"
   ]
  },
  {
   "cell_type": "code",
   "execution_count": 133,
   "metadata": {},
   "outputs": [
    {
     "data": {
      "text/latex": [
       "$\\displaystyle \\log{\\left(\\left(a_{b}^{- u - \\frac{1}{\\log{\\left(\\frac{j_{b} + 1}{j_{b}} \\right)}}} \\left(w_{b} \\left(b_{b} + v_{b}\\right)\\right)^{u + \\frac{1}{\\log{\\left(\\frac{j_{b} + 1}{j_{b}} \\right)}}}\\right)^{\\frac{a_{b} j_{s}^{- \\log{\\left(a_{s}^{v} \\left(w_{s} \\left(b_{s} + v_{s}\\right)\\right)^{- v} \\right)}} w_{b} \\left(j_{b} \\left(j_{b} + 1\\right)\\right)^{\\log{\\left(a_{b}^{u} \\left(w_{b} \\left(b_{b} + v_{b}\\right)\\right)^{- u} \\right)}}}{w_{s}}} \\right)}$"
      ],
      "text/plain": [
       "log((a_b**(-u - 1/log((j_b + 1)/j_b))*(w_b*(b_b + v_b))**(u + 1/log((j_b + 1)/j_b)))**(a_b*j_s**(-log(a_s**v*(w_s*(b_s + v_s))**(-v)))*w_b*(j_b*(j_b + 1))**log(a_b**u*(w_b*(b_b + v_b))**(-u))/w_s))"
      ]
     },
     "execution_count": 133,
     "metadata": {},
     "output_type": "execute_result"
    }
   ],
   "source": [
    "exp = slack1_.args[2].args[0].args[1];\n",
    "exp;"
   ]
  },
  {
   "cell_type": "code",
   "execution_count": 134,
   "metadata": {},
   "outputs": [
    {
     "data": {
      "text/plain": [
       "log"
      ]
     },
     "execution_count": 134,
     "metadata": {},
     "output_type": "execute_result"
    }
   ],
   "source": [
    "exp.func;"
   ]
  },
  {
   "cell_type": "markdown",
   "metadata": {},
   "source": [
    "-> log is 0 if the argument is 1"
   ]
  },
  {
   "cell_type": "code",
   "execution_count": 135,
   "metadata": {},
   "outputs": [
    {
     "data": {
      "text/latex": [
       "$\\displaystyle \\left(a_{b}^{- u - \\frac{1}{\\log{\\left(\\frac{j_{b} + 1}{j_{b}} \\right)}}} \\left(w_{b} \\left(b_{b} + v_{b}\\right)\\right)^{u + \\frac{1}{\\log{\\left(\\frac{j_{b} + 1}{j_{b}} \\right)}}}\\right)^{\\frac{a_{b} j_{s}^{- \\log{\\left(a_{s}^{v} \\left(w_{s} \\left(b_{s} + v_{s}\\right)\\right)^{- v} \\right)}} w_{b} \\left(j_{b} \\left(j_{b} + 1\\right)\\right)^{\\log{\\left(a_{b}^{u} \\left(w_{b} \\left(b_{b} + v_{b}\\right)\\right)^{- u} \\right)}}}{w_{s}}}$"
      ],
      "text/plain": [
       "(a_b**(-u - 1/log((j_b + 1)/j_b))*(w_b*(b_b + v_b))**(u + 1/log((j_b + 1)/j_b)))**(a_b*j_s**(-log(a_s**v*(w_s*(b_s + v_s))**(-v)))*w_b*(j_b*(j_b + 1))**log(a_b**u*(w_b*(b_b + v_b))**(-u))/w_s)"
      ]
     },
     "execution_count": 135,
     "metadata": {},
     "output_type": "execute_result"
    }
   ],
   "source": [
    "exp.args[0];"
   ]
  },
  {
   "cell_type": "code",
   "execution_count": 136,
   "metadata": {},
   "outputs": [
    {
     "data": {
      "text/plain": [
       "sympy.core.power.Pow"
      ]
     },
     "execution_count": 136,
     "metadata": {},
     "output_type": "execute_result"
    }
   ],
   "source": [
    "exp.args[0].func;"
   ]
  },
  {
   "cell_type": "markdown",
   "metadata": {},
   "source": [
    "-> power is 1 if the base is 1 or the exponent is 0"
   ]
  },
  {
   "cell_type": "code",
   "execution_count": 140,
   "metadata": {},
   "outputs": [
    {
     "data": {
      "text/latex": [
       "$\\displaystyle a_{b}^{- u - \\frac{1}{\\log{\\left(\\frac{j_{b} + 1}{j_{b}} \\right)}}} \\left(w_{b} \\left(b_{b} + v_{b}\\right)\\right)^{u + \\frac{1}{\\log{\\left(\\frac{j_{b} + 1}{j_{b}} \\right)}}}$"
      ],
      "text/plain": [
       "a_b**(-u - 1/log((j_b + 1)/j_b))*(w_b*(b_b + v_b))**(u + 1/log((j_b + 1)/j_b))"
      ]
     },
     "execution_count": 140,
     "metadata": {},
     "output_type": "execute_result"
    }
   ],
   "source": [
    "base2 = exp.args[0].args[0];\n",
    "base2;"
   ]
  },
  {
   "cell_type": "markdown",
   "metadata": {},
   "source": [
    "-> base2 is 1 if that u + 1/log((j_b + 1) / j_b) exponent is 0\n",
    "\n",
    "u = 1/log(j_b/(j_b + 1))"
   ]
  },
  {
   "cell_type": "code",
   "execution_count": 143,
   "metadata": {},
   "outputs": [
    {
     "data": {
      "text/latex": [
       "$\\displaystyle \\frac{1}{\\log{\\left(\\frac{j_{b}}{j_{b} + 1} \\right)}} + \\frac{1}{\\log{\\left(\\frac{j_{b} + 1}{j_{b}} \\right)}}$"
      ],
      "text/plain": [
       "1/log(j_b/(j_b + 1)) + 1/log((j_b + 1)/j_b)"
      ]
     },
     "execution_count": 143,
     "metadata": {},
     "output_type": "execute_result"
    }
   ],
   "source": [
    "exp3 = 1 / log(j_b / (j_b + 1)) + 1 / log((j_b + 1) / j_b);\n",
    "exp3;"
   ]
  },
  {
   "cell_type": "code",
   "execution_count": 144,
   "metadata": {},
   "outputs": [
    {
     "data": {
      "text/latex": [
       "$\\displaystyle 0$"
      ],
      "text/plain": [
       "0"
      ]
     },
     "execution_count": 144,
     "metadata": {},
     "output_type": "execute_result"
    }
   ],
   "source": [
    "simplify(exp3);"
   ]
  },
  {
   "cell_type": "markdown",
   "metadata": {},
   "source": [
    "qed\n",
    "\n",
    "TODO: check if top-level denominator is zero"
   ]
  },
  {
   "cell_type": "code",
   "execution_count": 145,
   "metadata": {},
   "outputs": [
    {
     "data": {
      "text/latex": [
       "$\\displaystyle \\log{\\left(\\left(\\frac{w_{s} \\left(b_{s} + v_{s}\\right)}{a_{s}}\\right)^{\\frac{1}{\\log{\\left(\\frac{j_{s} + 1}{j_{s}} \\right)}}} \\right)} - \\log{\\left(\\left(\\frac{a_{s}}{w_{s} \\left(b_{s} + v_{s}\\right)}\\right)^{\\frac{1}{\\log{\\left(j_{s} \\right)} - \\log{\\left(j_{s} + 1 \\right)}}} \\right)}$"
      ],
      "text/plain": [
       "log((w_s*(b_s + v_s)/a_s)**(1/log((j_s + 1)/j_s))) - log((a_s/(w_s*(b_s + v_s)))**(1/(log(j_s) - log(j_s + 1))))"
      ]
     },
     "execution_count": 145,
     "metadata": {},
     "output_type": "execute_result"
    }
   ],
   "source": [
    "g2 = expBound[\"s\"].subs({ e_s: e_s_sol });\n",
    "g2;"
   ]
  },
  {
   "cell_type": "code",
   "execution_count": 146,
   "metadata": {},
   "outputs": [
    {
     "data": {
      "text/latex": [
       "$\\displaystyle \\frac{\\left(\\log{\\left(\\left(\\frac{w_{s} \\left(b_{s} + v_{s}\\right)}{a_{s}}\\right)^{\\frac{1}{\\log{\\left(\\frac{j_{s} + 1}{j_{s}} \\right)}}} \\right)} - \\log{\\left(\\left(\\frac{a_{s}}{w_{s} \\left(b_{s} + v_{s}\\right)}\\right)^{\\frac{1}{\\log{\\left(j_{s} \\right)} - \\log{\\left(j_{s} + 1 \\right)}}} \\right)}\\right) \\log{\\left(j_{s}^{- \\frac{a_{s} j_{b}^{\\log{\\left(a_{b}^{\\frac{1}{\\log{\\left(j_{b} \\right)} - \\log{\\left(j_{b} + 1 \\right)}}} \\left(w_{b} \\left(b_{b} + v_{b}\\right)\\right)^{- \\frac{1}{\\log{\\left(j_{b} \\right)} - \\log{\\left(j_{b} + 1 \\right)}}} \\right)}} j_{s}^{- \\log{\\left(a_{s}^{\\frac{1}{\\log{\\left(j_{s} \\right)} - \\log{\\left(j_{s} + 1 \\right)}}} \\left(w_{s} \\left(b_{s} + v_{s}\\right)\\right)^{- \\frac{1}{\\log{\\left(j_{s} \\right)} - \\log{\\left(j_{s} + 1 \\right)}}} \\right)}} w_{b} \\left(j_{s} + 1\\right)^{\\log{\\left(a_{s}^{\\frac{1}{\\log{\\left(j_{s} \\right)} - \\log{\\left(j_{s} + 1 \\right)}}} \\left(w_{s} \\left(b_{s} + v_{s}\\right)\\right)^{- \\frac{1}{\\log{\\left(j_{s} \\right)} - \\log{\\left(j_{s} + 1 \\right)}}} \\right)}}}{w_{s}}} \\left(j_{s} + 1\\right)^{\\frac{a_{s} j_{b}^{\\log{\\left(a_{b}^{\\frac{1}{\\log{\\left(j_{b} \\right)} - \\log{\\left(j_{b} + 1 \\right)}}} \\left(w_{b} \\left(b_{b} + v_{b}\\right)\\right)^{- \\frac{1}{\\log{\\left(j_{b} \\right)} - \\log{\\left(j_{b} + 1 \\right)}}} \\right)}} j_{s}^{- \\log{\\left(a_{s}^{\\frac{1}{\\log{\\left(j_{s} \\right)} - \\log{\\left(j_{s} + 1 \\right)}}} \\left(w_{s} \\left(b_{s} + v_{s}\\right)\\right)^{- \\frac{1}{\\log{\\left(j_{s} \\right)} - \\log{\\left(j_{s} + 1 \\right)}}} \\right)}} w_{b} \\left(j_{s} + 1\\right)^{\\log{\\left(a_{s}^{\\frac{1}{\\log{\\left(j_{s} \\right)} - \\log{\\left(j_{s} + 1 \\right)}}} \\left(w_{s} \\left(b_{s} + v_{s}\\right)\\right)^{- \\frac{1}{\\log{\\left(j_{s} \\right)} - \\log{\\left(j_{s} + 1 \\right)}}} \\right)}}}{w_{s}}} \\right)}}{- a_{b} \\left(j_{b} + 1\\right)^{\\log{\\left(a_{b}^{\\frac{1}{\\log{\\left(j_{b} \\right)} - \\log{\\left(j_{b} + 1 \\right)}}} \\left(w_{b} \\left(b_{b} + v_{b}\\right)\\right)^{- \\frac{1}{\\log{\\left(j_{b} \\right)} - \\log{\\left(j_{b} + 1 \\right)}}} \\right)}} + b_{b} j_{b}^{\\log{\\left(a_{b}^{\\frac{1}{\\log{\\left(j_{b} \\right)} - \\log{\\left(j_{b} + 1 \\right)}}} \\left(w_{b} \\left(b_{b} + v_{b}\\right)\\right)^{- \\frac{1}{\\log{\\left(j_{b} \\right)} - \\log{\\left(j_{b} + 1 \\right)}}} \\right)}} w_{b} + j_{b}^{\\log{\\left(a_{b}^{\\frac{1}{\\log{\\left(j_{b} \\right)} - \\log{\\left(j_{b} + 1 \\right)}}} \\left(w_{b} \\left(b_{b} + v_{b}\\right)\\right)^{- \\frac{1}{\\log{\\left(j_{b} \\right)} - \\log{\\left(j_{b} + 1 \\right)}}} \\right)}} v_{b} w_{b}}$"
      ],
      "text/plain": [
       "(log((w_s*(b_s + v_s)/a_s)**(1/log((j_s + 1)/j_s))) - log((a_s/(w_s*(b_s + v_s)))**(1/(log(j_s) - log(j_s + 1)))))*log(j_s**(-a_s*j_b**log(a_b**(1/(log(j_b) - log(j_b + 1)))*(w_b*(b_b + v_b))**(-1/(log(j_b) - log(j_b + 1))))*j_s**(-log(a_s**(1/(log(j_s) - log(j_s + 1)))*(w_s*(b_s + v_s))**(-1/(log(j_s) - log(j_s + 1)))))*w_b*(j_s + 1)**log(a_s**(1/(log(j_s) - log(j_s + 1)))*(w_s*(b_s + v_s))**(-1/(log(j_s) - log(j_s + 1))))/w_s)*(j_s + 1)**(a_s*j_b**log(a_b**(1/(log(j_b) - log(j_b + 1)))*(w_b*(b_b + v_b))**(-1/(log(j_b) - log(j_b + 1))))*j_s**(-log(a_s**(1/(log(j_s) - log(j_s + 1)))*(w_s*(b_s + v_s))**(-1/(log(j_s) - log(j_s + 1)))))*w_b*(j_s + 1)**log(a_s**(1/(log(j_s) - log(j_s + 1)))*(w_s*(b_s + v_s))**(-1/(log(j_s) - log(j_s + 1))))/w_s))/(-a_b*(j_b + 1)**log(a_b**(1/(log(j_b) - log(j_b + 1)))*(w_b*(b_b + v_b))**(-1/(log(j_b) - log(j_b + 1)))) + b_b*j_b**log(a_b**(1/(log(j_b) - log(j_b + 1)))*(w_b*(b_b + v_b))**(-1/(log(j_b) - log(j_b + 1))))*w_b + j_b**log(a_b**(1/(log(j_b) - log(j_b + 1)))*(w_b*(b_b + v_b))**(-1/(log(j_b) - log(j_b + 1))))*v_b*w_b)"
      ]
     },
     "execution_count": 146,
     "metadata": {},
     "output_type": "execute_result"
    }
   ],
   "source": [
    "slack2 = g2 * l2_sol;\n",
    "slack2;"
   ]
  },
  {
   "cell_type": "code",
   "execution_count": 159,
   "metadata": {},
   "outputs": [
    {
     "data": {
      "text/latex": [
       "$\\displaystyle \\frac{\\log{\\left(\\left(j_{s}^{- \\frac{a_{s} j_{b}^{\\log{\\left(a_{b}^{u} \\left(w_{b} \\left(b_{b} + v_{b}\\right)\\right)^{- u} \\right)}} j_{s}^{- \\log{\\left(a_{s}^{v} \\left(w_{s} \\left(b_{s} + v_{s}\\right)\\right)^{- v} \\right)}} w_{b} \\left(j_{s} + 1\\right)^{\\log{\\left(a_{s}^{v} \\left(w_{s} \\left(b_{s} + v_{s}\\right)\\right)^{- v} \\right)}}}{w_{s}}} \\left(j_{s} + 1\\right)^{\\frac{a_{s} j_{b}^{\\log{\\left(a_{b}^{u} \\left(w_{b} \\left(b_{b} + v_{b}\\right)\\right)^{- u} \\right)}} j_{s}^{- \\log{\\left(a_{s}^{v} \\left(w_{s} \\left(b_{s} + v_{s}\\right)\\right)^{- v} \\right)}} w_{b} \\left(j_{s} + 1\\right)^{\\log{\\left(a_{s}^{v} \\left(w_{s} \\left(b_{s} + v_{s}\\right)\\right)^{- v} \\right)}}}{w_{s}}}\\right)^{\\log{\\left(a_{s}^{- v - \\frac{1}{\\log{\\left(\\frac{j_{s} + 1}{j_{s}} \\right)}}} \\left(w_{s} \\left(b_{s} + v_{s}\\right)\\right)^{v + \\frac{1}{\\log{\\left(\\frac{j_{s} + 1}{j_{s}} \\right)}}} \\right)}} \\right)}}{- a_{b} \\left(j_{b} + 1\\right)^{\\log{\\left(a_{b}^{u} \\left(w_{b} \\left(b_{b} + v_{b}\\right)\\right)^{- u} \\right)}} + b_{b} j_{b}^{\\log{\\left(a_{b}^{u} \\left(w_{b} \\left(b_{b} + v_{b}\\right)\\right)^{- u} \\right)}} w_{b} + j_{b}^{\\log{\\left(a_{b}^{u} \\left(w_{b} \\left(b_{b} + v_{b}\\right)\\right)^{- u} \\right)}} v_{b} w_{b}}$"
      ],
      "text/plain": [
       "log((j_s**(-a_s*j_b**log(a_b**u*(w_b*(b_b + v_b))**(-u))*j_s**(-log(a_s**v*(w_s*(b_s + v_s))**(-v)))*w_b*(j_s + 1)**log(a_s**v*(w_s*(b_s + v_s))**(-v))/w_s)*(j_s + 1)**(a_s*j_b**log(a_b**u*(w_b*(b_b + v_b))**(-u))*j_s**(-log(a_s**v*(w_s*(b_s + v_s))**(-v)))*w_b*(j_s + 1)**log(a_s**v*(w_s*(b_s + v_s))**(-v))/w_s))**log(a_s**(-v - 1/log((j_s + 1)/j_s))*(w_s*(b_s + v_s))**(v + 1/log((j_s + 1)/j_s))))/(-a_b*(j_b + 1)**log(a_b**u*(w_b*(b_b + v_b))**(-u)) + b_b*j_b**log(a_b**u*(w_b*(b_b + v_b))**(-u))*w_b + j_b**log(a_b**u*(w_b*(b_b + v_b))**(-u))*v_b*w_b)"
      ]
     },
     "execution_count": 159,
     "metadata": {},
     "output_type": "execute_result"
    }
   ],
   "source": [
    "slack2_ = simplify(slack2);\n",
    "slack2_ = slack2_.subs(subs_dict);\n",
    "slack2_;"
   ]
  },
  {
   "cell_type": "code",
   "execution_count": 160,
   "metadata": {},
   "outputs": [
    {
     "data": {
      "text/plain": [
       "sympy.core.mul.Mul"
      ]
     },
     "execution_count": 160,
     "metadata": {},
     "output_type": "execute_result"
    }
   ],
   "source": [
    "slack2_.func;"
   ]
  },
  {
   "cell_type": "code",
   "execution_count": 161,
   "metadata": {},
   "outputs": [
    {
     "data": {
      "text/plain": [
       "2"
      ]
     },
     "execution_count": 161,
     "metadata": {},
     "output_type": "execute_result"
    }
   ],
   "source": [
    "len(slack2_.args);"
   ]
  },
  {
   "cell_type": "code",
   "execution_count": 162,
   "metadata": {},
   "outputs": [
    {
     "data": {
      "text/latex": [
       "$\\displaystyle \\frac{1}{- a_{b} \\left(j_{b} + 1\\right)^{\\log{\\left(a_{b}^{u} \\left(w_{b} \\left(b_{b} + v_{b}\\right)\\right)^{- u} \\right)}} + b_{b} j_{b}^{\\log{\\left(a_{b}^{u} \\left(w_{b} \\left(b_{b} + v_{b}\\right)\\right)^{- u} \\right)}} w_{b} + j_{b}^{\\log{\\left(a_{b}^{u} \\left(w_{b} \\left(b_{b} + v_{b}\\right)\\right)^{- u} \\right)}} v_{b} w_{b}}$"
      ],
      "text/plain": [
       "1/(-a_b*(j_b + 1)**log(a_b**u*(w_b*(b_b + v_b))**(-u)) + b_b*j_b**log(a_b**u*(w_b*(b_b + v_b))**(-u))*w_b + j_b**log(a_b**u*(w_b*(b_b + v_b))**(-u))*v_b*w_b)"
      ]
     },
     "execution_count": 162,
     "metadata": {},
     "output_type": "execute_result"
    }
   ],
   "source": [
    "slack2_.args[0];"
   ]
  },
  {
   "cell_type": "code",
   "execution_count": 163,
   "metadata": {},
   "outputs": [
    {
     "data": {
      "text/latex": [
       "$\\displaystyle \\log{\\left(\\left(j_{s}^{- \\frac{a_{s} j_{b}^{\\log{\\left(a_{b}^{u} \\left(w_{b} \\left(b_{b} + v_{b}\\right)\\right)^{- u} \\right)}} j_{s}^{- \\log{\\left(a_{s}^{v} \\left(w_{s} \\left(b_{s} + v_{s}\\right)\\right)^{- v} \\right)}} w_{b} \\left(j_{s} + 1\\right)^{\\log{\\left(a_{s}^{v} \\left(w_{s} \\left(b_{s} + v_{s}\\right)\\right)^{- v} \\right)}}}{w_{s}}} \\left(j_{s} + 1\\right)^{\\frac{a_{s} j_{b}^{\\log{\\left(a_{b}^{u} \\left(w_{b} \\left(b_{b} + v_{b}\\right)\\right)^{- u} \\right)}} j_{s}^{- \\log{\\left(a_{s}^{v} \\left(w_{s} \\left(b_{s} + v_{s}\\right)\\right)^{- v} \\right)}} w_{b} \\left(j_{s} + 1\\right)^{\\log{\\left(a_{s}^{v} \\left(w_{s} \\left(b_{s} + v_{s}\\right)\\right)^{- v} \\right)}}}{w_{s}}}\\right)^{\\log{\\left(a_{s}^{- v - \\frac{1}{\\log{\\left(\\frac{j_{s} + 1}{j_{s}} \\right)}}} \\left(w_{s} \\left(b_{s} + v_{s}\\right)\\right)^{v + \\frac{1}{\\log{\\left(\\frac{j_{s} + 1}{j_{s}} \\right)}}} \\right)}} \\right)}$"
      ],
      "text/plain": [
       "log((j_s**(-a_s*j_b**log(a_b**u*(w_b*(b_b + v_b))**(-u))*j_s**(-log(a_s**v*(w_s*(b_s + v_s))**(-v)))*w_b*(j_s + 1)**log(a_s**v*(w_s*(b_s + v_s))**(-v))/w_s)*(j_s + 1)**(a_s*j_b**log(a_b**u*(w_b*(b_b + v_b))**(-u))*j_s**(-log(a_s**v*(w_s*(b_s + v_s))**(-v)))*w_b*(j_s + 1)**log(a_s**v*(w_s*(b_s + v_s))**(-v))/w_s))**log(a_s**(-v - 1/log((j_s + 1)/j_s))*(w_s*(b_s + v_s))**(v + 1/log((j_s + 1)/j_s))))"
      ]
     },
     "execution_count": 163,
     "metadata": {},
     "output_type": "execute_result"
    }
   ],
   "source": [
    "slack2_.args[1];"
   ]
  },
  {
   "cell_type": "markdown",
   "metadata": {},
   "source": [
    "-> this factor is the only one that can reach 0"
   ]
  },
  {
   "cell_type": "code",
   "execution_count": 164,
   "metadata": {},
   "outputs": [
    {
     "data": {
      "text/plain": [
       "log"
      ]
     },
     "execution_count": 164,
     "metadata": {},
     "output_type": "execute_result"
    }
   ],
   "source": [
    "slack2_.args[1].func;"
   ]
  },
  {
   "cell_type": "markdown",
   "metadata": {},
   "source": [
    "-> logarithm is 0 if the argument is 1"
   ]
  },
  {
   "cell_type": "code",
   "execution_count": 165,
   "metadata": {},
   "outputs": [
    {
     "data": {
      "text/latex": [
       "$\\displaystyle \\left(j_{s}^{- \\frac{a_{s} j_{b}^{\\log{\\left(a_{b}^{u} \\left(w_{b} \\left(b_{b} + v_{b}\\right)\\right)^{- u} \\right)}} j_{s}^{- \\log{\\left(a_{s}^{v} \\left(w_{s} \\left(b_{s} + v_{s}\\right)\\right)^{- v} \\right)}} w_{b} \\left(j_{s} + 1\\right)^{\\log{\\left(a_{s}^{v} \\left(w_{s} \\left(b_{s} + v_{s}\\right)\\right)^{- v} \\right)}}}{w_{s}}} \\left(j_{s} + 1\\right)^{\\frac{a_{s} j_{b}^{\\log{\\left(a_{b}^{u} \\left(w_{b} \\left(b_{b} + v_{b}\\right)\\right)^{- u} \\right)}} j_{s}^{- \\log{\\left(a_{s}^{v} \\left(w_{s} \\left(b_{s} + v_{s}\\right)\\right)^{- v} \\right)}} w_{b} \\left(j_{s} + 1\\right)^{\\log{\\left(a_{s}^{v} \\left(w_{s} \\left(b_{s} + v_{s}\\right)\\right)^{- v} \\right)}}}{w_{s}}}\\right)^{\\log{\\left(a_{s}^{- v - \\frac{1}{\\log{\\left(\\frac{j_{s} + 1}{j_{s}} \\right)}}} \\left(w_{s} \\left(b_{s} + v_{s}\\right)\\right)^{v + \\frac{1}{\\log{\\left(\\frac{j_{s} + 1}{j_{s}} \\right)}}} \\right)}}$"
      ],
      "text/plain": [
       "(j_s**(-a_s*j_b**log(a_b**u*(w_b*(b_b + v_b))**(-u))*j_s**(-log(a_s**v*(w_s*(b_s + v_s))**(-v)))*w_b*(j_s + 1)**log(a_s**v*(w_s*(b_s + v_s))**(-v))/w_s)*(j_s + 1)**(a_s*j_b**log(a_b**u*(w_b*(b_b + v_b))**(-u))*j_s**(-log(a_s**v*(w_s*(b_s + v_s))**(-v)))*w_b*(j_s + 1)**log(a_s**v*(w_s*(b_s + v_s))**(-v))/w_s))**log(a_s**(-v - 1/log((j_s + 1)/j_s))*(w_s*(b_s + v_s))**(v + 1/log((j_s + 1)/j_s)))"
      ]
     },
     "execution_count": 165,
     "metadata": {},
     "output_type": "execute_result"
    }
   ],
   "source": [
    "slack2_.args[1].args[0];"
   ]
  },
  {
   "cell_type": "code",
   "execution_count": 166,
   "metadata": {},
   "outputs": [
    {
     "data": {
      "text/plain": [
       "sympy.core.power.Pow"
      ]
     },
     "execution_count": 166,
     "metadata": {},
     "output_type": "execute_result"
    }
   ],
   "source": [
    "slack2_.args[1].args[0].func;"
   ]
  },
  {
   "cell_type": "markdown",
   "metadata": {},
   "source": [
    "-> power is 1 if the base is 1 or the exponent is 0"
   ]
  },
  {
   "cell_type": "code",
   "execution_count": 167,
   "metadata": {},
   "outputs": [
    {
     "data": {
      "text/latex": [
       "$\\displaystyle j_{s}^{- \\frac{a_{s} j_{b}^{\\log{\\left(a_{b}^{u} \\left(w_{b} \\left(b_{b} + v_{b}\\right)\\right)^{- u} \\right)}} j_{s}^{- \\log{\\left(a_{s}^{v} \\left(w_{s} \\left(b_{s} + v_{s}\\right)\\right)^{- v} \\right)}} w_{b} \\left(j_{s} + 1\\right)^{\\log{\\left(a_{s}^{v} \\left(w_{s} \\left(b_{s} + v_{s}\\right)\\right)^{- v} \\right)}}}{w_{s}}} \\left(j_{s} + 1\\right)^{\\frac{a_{s} j_{b}^{\\log{\\left(a_{b}^{u} \\left(w_{b} \\left(b_{b} + v_{b}\\right)\\right)^{- u} \\right)}} j_{s}^{- \\log{\\left(a_{s}^{v} \\left(w_{s} \\left(b_{s} + v_{s}\\right)\\right)^{- v} \\right)}} w_{b} \\left(j_{s} + 1\\right)^{\\log{\\left(a_{s}^{v} \\left(w_{s} \\left(b_{s} + v_{s}\\right)\\right)^{- v} \\right)}}}{w_{s}}}$"
      ],
      "text/plain": [
       "j_s**(-a_s*j_b**log(a_b**u*(w_b*(b_b + v_b))**(-u))*j_s**(-log(a_s**v*(w_s*(b_s + v_s))**(-v)))*w_b*(j_s + 1)**log(a_s**v*(w_s*(b_s + v_s))**(-v))/w_s)*(j_s + 1)**(a_s*j_b**log(a_b**u*(w_b*(b_b + v_b))**(-u))*j_s**(-log(a_s**v*(w_s*(b_s + v_s))**(-v)))*w_b*(j_s + 1)**log(a_s**v*(w_s*(b_s + v_s))**(-v))/w_s)"
      ]
     },
     "execution_count": 167,
     "metadata": {},
     "output_type": "execute_result"
    }
   ],
   "source": [
    "base = slack2_.args[1].args[0].args[0];\n",
    "base;"
   ]
  },
  {
   "cell_type": "code",
   "execution_count": 168,
   "metadata": {},
   "outputs": [
    {
     "data": {
      "text/latex": [
       "$\\displaystyle \\log{\\left(a_{s}^{- v - \\frac{1}{\\log{\\left(\\frac{j_{s} + 1}{j_{s}} \\right)}}} \\left(w_{s} \\left(b_{s} + v_{s}\\right)\\right)^{v + \\frac{1}{\\log{\\left(\\frac{j_{s} + 1}{j_{s}} \\right)}}} \\right)}$"
      ],
      "text/plain": [
       "log(a_s**(-v - 1/log((j_s + 1)/j_s))*(w_s*(b_s + v_s))**(v + 1/log((j_s + 1)/j_s)))"
      ]
     },
     "execution_count": 168,
     "metadata": {},
     "output_type": "execute_result"
    }
   ],
   "source": [
    "exp = slack2_.args[1].args[0].args[1];\n",
    "exp;"
   ]
  },
  {
   "cell_type": "code",
   "execution_count": 169,
   "metadata": {},
   "outputs": [
    {
     "data": {
      "text/plain": [
       "log"
      ]
     },
     "execution_count": 169,
     "metadata": {},
     "output_type": "execute_result"
    }
   ],
   "source": [
    "exp.func;"
   ]
  },
  {
   "cell_type": "markdown",
   "metadata": {},
   "source": [
    "-> logarithm is 0 if the argument is 1"
   ]
  },
  {
   "cell_type": "code",
   "execution_count": 170,
   "metadata": {},
   "outputs": [
    {
     "data": {
      "text/latex": [
       "$\\displaystyle a_{s}^{- v - \\frac{1}{\\log{\\left(\\frac{j_{s} + 1}{j_{s}} \\right)}}} \\left(w_{s} \\left(b_{s} + v_{s}\\right)\\right)^{v + \\frac{1}{\\log{\\left(\\frac{j_{s} + 1}{j_{s}} \\right)}}}$"
      ],
      "text/plain": [
       "a_s**(-v - 1/log((j_s + 1)/j_s))*(w_s*(b_s + v_s))**(v + 1/log((j_s + 1)/j_s))"
      ]
     },
     "execution_count": 170,
     "metadata": {},
     "output_type": "execute_result"
    }
   ],
   "source": [
    "exp.args[0];"
   ]
  },
  {
   "cell_type": "markdown",
   "metadata": {},
   "source": [
    "-> this is 1 if that v + 1/log((j_s + 1) /j_s) is 0\n",
    "\n",
    "v = 1/log(j_s/(j_s + 1))"
   ]
  },
  {
   "cell_type": "code",
   "execution_count": 171,
   "metadata": {},
   "outputs": [
    {
     "data": {
      "text/latex": [
       "$\\displaystyle \\frac{1}{\\log{\\left(\\frac{j_{s}}{j_{s} + 1} \\right)}} + \\frac{1}{\\log{\\left(\\frac{j_{s} + 1}{j_{s}} \\right)}}$"
      ],
      "text/plain": [
       "1/log(j_s/(j_s + 1)) + 1/log((j_s + 1)/j_s)"
      ]
     },
     "execution_count": 171,
     "metadata": {},
     "output_type": "execute_result"
    }
   ],
   "source": [
    "exp2 = 1 / log(j_s / (j_s + 1)) + 1 / log((j_s + 1) / j_s);\n",
    "exp2;"
   ]
  },
  {
   "cell_type": "code",
   "execution_count": 172,
   "metadata": {},
   "outputs": [
    {
     "data": {
      "text/latex": [
       "$\\displaystyle 0$"
      ],
      "text/plain": [
       "0"
      ]
     },
     "execution_count": 172,
     "metadata": {},
     "output_type": "execute_result"
    }
   ],
   "source": [
    "simplify(exp2);"
   ]
  },
  {
   "cell_type": "markdown",
   "metadata": {},
   "source": [
    "qed\n",
    "\n",
    "TODO: check if denominator is zero"
   ]
  }
 ],
 "metadata": {
  "kernelspec": {
   "display_name": "Python 3",
   "language": "python",
   "name": "python3"
  },
  "language_info": {
   "codemirror_mode": {
    "name": "ipython",
    "version": 3
   },
   "file_extension": ".py",
   "mimetype": "text/x-python",
   "name": "python",
   "nbconvert_exporter": "python",
   "pygments_lexer": "ipython3",
   "version": "3.9.16"
  }
 },
 "nbformat": 4,
 "nbformat_minor": 2
}
