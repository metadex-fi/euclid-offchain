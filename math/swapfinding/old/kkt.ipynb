{
 "cells": [
  {
   "cell_type": "code",
   "execution_count": 1,
   "metadata": {},
   "outputs": [],
   "source": [
    "from sympy import symbols, simplify, hessian, solveset, S, solve, log, And, Le, Ge, Eq, Lt, Gt"
   ]
  },
  {
   "cell_type": "code",
   "execution_count": 2,
   "metadata": {},
   "outputs": [
    {
     "data": {
      "text/plain": [
       "{'b': dict_values([s_b, v_b, b_b, w_b, j_b, e_b, Delta_b, a_b, min_b]),\n",
       " 's': dict_values([s_s, v_s, b_s, w_s, j_s, e_s, Delta_s, a_s, min_s])}"
      ]
     },
     "execution_count": 2,
     "metadata": {},
     "output_type": "execute_result"
    }
   ],
   "source": [
    "assets = ['b', 's']  # buying and selling assets\n",
    "base_symbols = ['s', 'v', 'b', 'w', 'j', 'e', 'Delta', 'a', 'min'] \n",
    "# spot price, virtual liquidity, balance, weight, jump size, exponent, delta, anchor price, amm-price, jump-multiplier\n",
    "\n",
    "all_symbols = {}\n",
    "\n",
    "for asset in assets:\n",
    "    temp_dict = {}\n",
    "    for base in base_symbols:\n",
    "        var_name = f\"{base}_{asset}\"\n",
    "        if base == 'e':\n",
    "            symbol_obj = symbols(var_name, integer=True)\n",
    "        elif base == 'b':\n",
    "            symbol_obj = symbols(var_name, nonnegative=True, integer=True)\n",
    "        else:\n",
    "            symbol_obj = symbols(var_name, positive=True, integer=True)\n",
    "        temp_dict[var_name] = symbol_obj\n",
    "        # Define the variable in the global namespace\n",
    "        globals()[var_name] = symbol_obj\n",
    "    all_symbols[asset] = temp_dict.values()\n",
    "all_symbols"
   ]
  },
  {
   "cell_type": "code",
   "execution_count": 3,
   "metadata": {},
   "outputs": [],
   "source": [
    "simp = False"
   ]
  },
  {
   "cell_type": "markdown",
   "metadata": {},
   "source": [
    "## Target function\n",
    "\n",
    "we want to minimize the effective price, given a set of exponents for the buying and selling asset each."
   ]
  },
  {
   "cell_type": "code",
   "execution_count": 4,
   "metadata": {},
   "outputs": [
    {
     "data": {
      "text/latex": [
       "$\\displaystyle - \\frac{s_{b} - w_{b} \\left(b_{b} + v_{b}\\right)}{w_{b}}$"
      ],
      "text/plain": [
       "-(s_b - w_b*(b_b + v_b))/w_b"
      ]
     },
     "execution_count": 4,
     "metadata": {},
     "output_type": "execute_result"
    }
   ],
   "source": [
    "def deltaBySpot_(asset, s,v, b, w, j, e, Delta, a, min):\n",
    "  f = (s - (v + b) * w) / w\n",
    "  if asset == 'b':\n",
    "    f = -f\n",
    "  if simp:\n",
    "    f = simplify(f)\n",
    "  return f\n",
    "\n",
    "deltaBySpot = {asset: deltaBySpot_(asset, *all_symbols[asset]) for asset in assets}\n",
    "deltaBySpot['b']"
   ]
  },
  {
   "cell_type": "code",
   "execution_count": 5,
   "metadata": {},
   "outputs": [
    {
     "data": {
      "text/latex": [
       "$\\displaystyle \\frac{s_{s} - w_{s} \\left(b_{s} + v_{s}\\right)}{w_{s}}$"
      ],
      "text/plain": [
       "(s_s - w_s*(b_s + v_s))/w_s"
      ]
     },
     "execution_count": 5,
     "metadata": {},
     "output_type": "execute_result"
    }
   ],
   "source": [
    "deltaBySpot['s']"
   ]
  },
  {
   "cell_type": "code",
   "execution_count": 6,
   "metadata": {},
   "outputs": [
    {
     "data": {
      "text/latex": [
       "$\\displaystyle a_{b} \\left(1 + \\frac{1}{j_{b}}\\right)^{e_{b}}$"
      ],
      "text/plain": [
       "a_b*(1 + 1/j_b)**e_b"
      ]
     },
     "execution_count": 6,
     "metadata": {},
     "output_type": "execute_result"
    }
   ],
   "source": [
    "def spotByExp_(s, v, b, w, j, e, Delta, a, min):\n",
    "  f = a * ((1 + 1/j) ** e)\n",
    "  if simp:\n",
    "    f = simplify(f)\n",
    "  return f\n",
    "spotByExp = {asset: spotByExp_(*all_symbols[asset]) for asset in assets}\n",
    "spotByExp['b']"
   ]
  },
  {
   "cell_type": "code",
   "execution_count": 7,
   "metadata": {},
   "outputs": [
    {
     "data": {
      "text/latex": [
       "$\\displaystyle - \\frac{a_{b} \\left(1 + \\frac{1}{j_{b}}\\right)^{e_{b}} - w_{b} \\left(b_{b} + v_{b}\\right)}{w_{b}}$"
      ],
      "text/plain": [
       "-(a_b*(1 + 1/j_b)**e_b - w_b*(b_b + v_b))/w_b"
      ]
     },
     "execution_count": 7,
     "metadata": {},
     "output_type": "execute_result"
    }
   ],
   "source": [
    "def deltaByExp_(asset, s, v, b, w, j, e, Delta, a, min):\n",
    "    f = deltaBySpot[asset].subs(s, spotByExp[asset])\n",
    "    if simp:\n",
    "        f = simplify(f)\n",
    "    return f\n",
    "\n",
    "deltaByExp = {asset: deltaByExp_(asset, *all_symbols[asset]) for asset in assets}\n",
    "deltaByExp['b']"
   ]
  },
  {
   "cell_type": "code",
   "execution_count": 8,
   "metadata": {},
   "outputs": [
    {
     "data": {
      "text/latex": [
       "$\\displaystyle \\frac{\\Delta_{s}}{\\Delta_{b}}$"
      ],
      "text/plain": [
       "Delta_s/Delta_b"
      ]
     },
     "execution_count": 8,
     "metadata": {},
     "output_type": "execute_result"
    }
   ],
   "source": [
    "eff = Delta_s / Delta_b\n",
    "eff"
   ]
  },
  {
   "cell_type": "code",
   "execution_count": 9,
   "metadata": {},
   "outputs": [
    {
     "data": {
      "text/latex": [
       "$\\displaystyle - \\frac{w_{b} \\left(a_{s} \\left(1 + \\frac{1}{j_{s}}\\right)^{e_{s}} - w_{s} \\left(b_{s} + v_{s}\\right)\\right)}{w_{s} \\left(a_{b} \\left(1 + \\frac{1}{j_{b}}\\right)^{e_{b}} - w_{b} \\left(b_{b} + v_{b}\\right)\\right)}$"
      ],
      "text/plain": [
       "-w_b*(a_s*(1 + 1/j_s)**e_s - w_s*(b_s + v_s))/(w_s*(a_b*(1 + 1/j_b)**e_b - w_b*(b_b + v_b)))"
      ]
     },
     "execution_count": 9,
     "metadata": {},
     "output_type": "execute_result"
    }
   ],
   "source": [
    "effByExps = eff.subs({Delta_b: deltaByExp['b'], Delta_s: deltaByExp['s']})\n",
    "if simp:\n",
    "    effByExps = simplify(effByExps)\n",
    "effByExps"
   ]
  },
  {
   "cell_type": "markdown",
   "metadata": {},
   "source": [
    "### convexity of the target function\n",
    "\n",
    "- deltaBySpot is linear (positive for selling and negative for buying)\n",
    "- spotByExp is convex\n",
    "- deltaByExp is a composition of the two\n",
    "\n",
    "=> deltaByExp is convex for selling and concave for buying\n",
    "\n",
    "- negation flips convexity/concavity\n",
    "- inversion of a positive function flips convexity/concavity => 1 / deltaByExp_buying is convex\n",
    "- multiplying two nonnegative functions with different variables, that are each convex and independent of the other's variable, results in a convex function\n",
    "\n",
    "==> effectivePrice = deltaByExp_selling / deltaByExp_buying is convex. qed\n"
   ]
  },
  {
   "cell_type": "markdown",
   "metadata": {},
   "source": [
    "## inequality-constraints\n",
    "\n",
    "- value in A0 of buying must not exceed that of selling\n",
    "- the exponents must adhere to their upper (buying) resp. lower (selling) bounds given by our equation\n",
    "- need to buy and sell minimum amounts\n",
    "- cannot buy more than the available balance\n",
    "- cannot sell more than maxSelling\n",
    "- the spot prices must not exceed maxInteger\n",
    "- bonus: the total number of multiplications for both exponentiations must not exceed expLimit (TODO)"
   ]
  },
  {
   "cell_type": "code",
   "execution_count": 10,
   "metadata": {},
   "outputs": [
    {
     "data": {
      "text/latex": [
       "$\\displaystyle - \\frac{a_{s} \\left(1 + \\frac{1}{j_{s}}\\right)^{e_{s}} \\left(a_{b} \\left(1 + \\frac{1}{j_{b}}\\right)^{e_{b}} - w_{b} \\left(b_{b} + v_{b}\\right)\\right)}{w_{b}}$"
      ],
      "text/plain": [
       "-a_s*(1 + 1/j_s)**e_s*(a_b*(1 + 1/j_b)**e_b - w_b*(b_b + v_b))/w_b"
      ]
     },
     "execution_count": 10,
     "metadata": {},
     "output_type": "execute_result"
    }
   ],
   "source": [
    "a0Buying = spotByExp['s'] * deltaByExp['b']\n",
    "if simp:\n",
    "    a0Buying = simplify(a0Buying)\n",
    "a0Buying"
   ]
  },
  {
   "cell_type": "code",
   "execution_count": 11,
   "metadata": {},
   "outputs": [
    {
     "data": {
      "text/latex": [
       "$\\displaystyle \\frac{a_{b} \\left(1 + \\frac{1}{j_{b}}\\right)^{e_{b}} \\left(a_{s} \\left(1 + \\frac{1}{j_{s}}\\right)^{e_{s}} - w_{s} \\left(b_{s} + v_{s}\\right)\\right)}{w_{s}}$"
      ],
      "text/plain": [
       "a_b*(1 + 1/j_b)**e_b*(a_s*(1 + 1/j_s)**e_s - w_s*(b_s + v_s))/w_s"
      ]
     },
     "execution_count": 11,
     "metadata": {},
     "output_type": "execute_result"
    }
   ],
   "source": [
    "a0Selling = spotByExp['b'] * deltaByExp['s']\n",
    "if simp:\n",
    "    a0Selling = simplify(a0Selling)\n",
    "a0Selling"
   ]
  },
  {
   "cell_type": "code",
   "execution_count": 12,
   "metadata": {},
   "outputs": [
    {
     "data": {
      "text/latex": [
       "$\\displaystyle - \\frac{a_{b} \\left(1 + \\frac{1}{j_{b}}\\right)^{e_{b}} \\left(a_{s} \\left(1 + \\frac{1}{j_{s}}\\right)^{e_{s}} - w_{s} \\left(b_{s} + v_{s}\\right)\\right)}{w_{s}} - \\frac{a_{s} \\left(1 + \\frac{1}{j_{s}}\\right)^{e_{s}} \\left(a_{b} \\left(1 + \\frac{1}{j_{b}}\\right)^{e_{b}} - w_{b} \\left(b_{b} + v_{b}\\right)\\right)}{w_{b}}$"
      ],
      "text/plain": [
       "-a_b*(1 + 1/j_b)**e_b*(a_s*(1 + 1/j_s)**e_s - w_s*(b_s + v_s))/w_s - a_s*(1 + 1/j_s)**e_s*(a_b*(1 + 1/j_b)**e_b - w_b*(b_b + v_b))/w_b"
      ]
     },
     "execution_count": 12,
     "metadata": {},
     "output_type": "execute_result"
    }
   ],
   "source": [
    "a0Bound = a0Buying - a0Selling # <=! 0\n",
    "if simp:\n",
    "    a0Bound = simplify(a0Bound)\n",
    "a0Bound"
   ]
  },
  {
   "cell_type": "code",
   "execution_count": 13,
   "metadata": {},
   "outputs": [
    {
     "data": {
      "text/latex": [
       "$\\displaystyle e_{b} - \\frac{\\log{\\left(\\frac{w_{b} \\left(b_{b} + v_{b}\\right)}{a_{b}} \\right)}}{\\log{\\left(1 + \\frac{1}{j_{b}} \\right)}}$"
      ],
      "text/plain": [
       "e_b - log(w_b*(b_b + v_b)/a_b)/log(1 + 1/j_b)"
      ]
     },
     "execution_count": 13,
     "metadata": {},
     "output_type": "execute_result"
    }
   ],
   "source": [
    "def expBound_(asset, s, v, b, w, j, e, Delta, a, min):\n",
    "    e_bound = log(w * (v + b) /a, 1 + 1/j) # constant wrt e\n",
    "    if simp:\n",
    "        e_bound = simplify(e_bound)\n",
    "    if asset == 'b':\n",
    "        f = e - e_bound # <=! 0 (upper bound)\n",
    "    else:\n",
    "        f = e_bound - e # <=! 0 (lower bound)\n",
    "    if simp:\n",
    "        f = simplify(f)\n",
    "    return f\n",
    "\n",
    "expBound = {asset: expBound_(asset, *all_symbols[asset]) for asset in assets}\n",
    "expBound['b']"
   ]
  },
  {
   "cell_type": "code",
   "execution_count": 14,
   "metadata": {},
   "outputs": [
    {
     "data": {
      "text/latex": [
       "$\\displaystyle - e_{s} + \\frac{\\log{\\left(\\frac{w_{s} \\left(b_{s} + v_{s}\\right)}{a_{s}} \\right)}}{\\log{\\left(1 + \\frac{1}{j_{s}} \\right)}}$"
      ],
      "text/plain": [
       "-e_s + log(w_s*(b_s + v_s)/a_s)/log(1 + 1/j_s)"
      ]
     },
     "execution_count": 14,
     "metadata": {},
     "output_type": "execute_result"
    }
   ],
   "source": [
    "expBound['s']"
   ]
  },
  {
   "cell_type": "code",
   "execution_count": 15,
   "metadata": {},
   "outputs": [
    {
     "data": {
      "text/latex": [
       "$\\displaystyle - I_{max} + a_{b} \\left(1 + \\frac{1}{j_{b}}\\right)^{e_{b}}$"
      ],
      "text/plain": [
       "-I_max + a_b*(1 + 1/j_b)**e_b"
      ]
     },
     "execution_count": 15,
     "metadata": {},
     "output_type": "execute_result"
    }
   ],
   "source": [
    "max_s, I_max = symbols('max_s I_max', positive=True, integer=True)\n",
    "\n",
    "def maxSpotBound_(asset, s, v, b, w, j, e, Delta, a, min):\n",
    "  return spotByExp[asset] - I_max # <=! 0\n",
    "\n",
    "maxSpotBound = {asset: maxSpotBound_(asset, *all_symbols[asset]) for asset in assets}\n",
    "maxSpotBound['b']"
   ]
  },
  {
   "cell_type": "code",
   "execution_count": 16,
   "metadata": {},
   "outputs": [
    {
     "data": {
      "text/latex": [
       "$\\displaystyle min_{b} + \\frac{a_{b} \\left(1 + \\frac{1}{j_{b}}\\right)^{e_{b}} - w_{b} \\left(b_{b} + v_{b}\\right)}{w_{b}}$"
      ],
      "text/plain": [
       "min_b + (a_b*(1 + 1/j_b)**e_b - w_b*(b_b + v_b))/w_b"
      ]
     },
     "execution_count": 16,
     "metadata": {},
     "output_type": "execute_result"
    }
   ],
   "source": [
    "def minAmntBound_(asset, s, v, b, w, j, e, Delta, a, min):\n",
    "    f = min - Delta # <=! 0\n",
    "    f = f.subs(Delta, deltaByExp[asset])\n",
    "    if simp:\n",
    "        f = simplify(f)\n",
    "    return f\n",
    "\n",
    "minAmntBound = {asset: minAmntBound_(asset, *all_symbols[asset]) for asset in assets}\n",
    "minAmntBound['b']"
   ]
  },
  {
   "cell_type": "code",
   "execution_count": 17,
   "metadata": {},
   "outputs": [
    {
     "data": {
      "text/latex": [
       "$\\displaystyle min_{s} - \\frac{a_{s} \\left(1 + \\frac{1}{j_{s}}\\right)^{e_{s}} - w_{s} \\left(b_{s} + v_{s}\\right)}{w_{s}}$"
      ],
      "text/plain": [
       "min_s - (a_s*(1 + 1/j_s)**e_s - w_s*(b_s + v_s))/w_s"
      ]
     },
     "execution_count": 17,
     "metadata": {},
     "output_type": "execute_result"
    }
   ],
   "source": [
    "minAmntBound['s']"
   ]
  },
  {
   "cell_type": "code",
   "execution_count": 18,
   "metadata": {},
   "outputs": [
    {
     "data": {
      "text/latex": [
       "$\\displaystyle - b_{b} - \\frac{a_{b} \\left(1 + \\frac{1}{j_{b}}\\right)^{e_{b}} - w_{b} \\left(b_{b} + v_{b}\\right)}{w_{b}}$"
      ],
      "text/plain": [
       "-b_b - (a_b*(1 + 1/j_b)**e_b - w_b*(b_b + v_b))/w_b"
      ]
     },
     "execution_count": 18,
     "metadata": {},
     "output_type": "execute_result"
    }
   ],
   "source": [
    "def maxAmntBound_(asset, s, v, b, w, j, e, Delta, a, min):\n",
    "    if asset == 'b':\n",
    "        max = b\n",
    "    else:\n",
    "        max = max_s\n",
    "    f = Delta - max # <=! 0\n",
    "    f = f.subs(Delta, deltaByExp[asset])\n",
    "    if simp:\n",
    "        f = simplify(f)\n",
    "    return f\n",
    "\n",
    "maxAmntBound = {asset: maxAmntBound_(asset, *all_symbols[asset]) for asset in assets}\n",
    "maxAmntBound['b']"
   ]
  },
  {
   "cell_type": "code",
   "execution_count": 19,
   "metadata": {},
   "outputs": [
    {
     "data": {
      "text/latex": [
       "$\\displaystyle - max_{s} + \\frac{a_{s} \\left(1 + \\frac{1}{j_{s}}\\right)^{e_{s}} - w_{s} \\left(b_{s} + v_{s}\\right)}{w_{s}}$"
      ],
      "text/plain": [
       "-max_s + (a_s*(1 + 1/j_s)**e_s - w_s*(b_s + v_s))/w_s"
      ]
     },
     "execution_count": 19,
     "metadata": {},
     "output_type": "execute_result"
    }
   ],
   "source": [
    "maxAmntBound['s']"
   ]
  },
  {
   "cell_type": "markdown",
   "metadata": {},
   "source": [
    "## Lagrangian"
   ]
  },
  {
   "cell_type": "code",
   "execution_count": null,
   "metadata": {},
   "outputs": [
    {
     "data": {
      "text/latex": [
       "$\\displaystyle \\lambda_{1} \\left(- \\frac{a_{b} \\left(1 + \\frac{1}{j_{b}}\\right)^{e_{b}} \\left(a_{s} \\left(1 + \\frac{1}{j_{s}}\\right)^{e_{s}} - w_{s} \\left(b_{s} + v_{s}\\right)\\right)}{w_{s}} - \\frac{a_{s} \\left(1 + \\frac{1}{j_{s}}\\right)^{e_{s}} \\left(a_{b} \\left(1 + \\frac{1}{j_{b}}\\right)^{e_{b}} - w_{b} \\left(b_{b} + v_{b}\\right)\\right)}{w_{b}}\\right) + \\lambda_{2} \\left(e_{b} - \\frac{\\log{\\left(\\frac{w_{b} \\left(b_{b} + v_{b}\\right)}{a_{b}} \\right)}}{\\log{\\left(1 + \\frac{1}{j_{b}} \\right)}}\\right) + \\lambda_{3} \\left(- e_{s} + \\frac{\\log{\\left(\\frac{w_{s} \\left(b_{s} + v_{s}\\right)}{a_{s}} \\right)}}{\\log{\\left(1 + \\frac{1}{j_{s}} \\right)}}\\right) + \\lambda_{4} \\left(- I_{max} + a_{b} \\left(1 + \\frac{1}{j_{b}}\\right)^{e_{b}}\\right) + \\lambda_{5} \\left(- I_{max} + a_{s} \\left(1 + \\frac{1}{j_{s}}\\right)^{e_{s}}\\right) + \\lambda_{6} \\left(min_{b} + \\frac{a_{b} \\left(1 + \\frac{1}{j_{b}}\\right)^{e_{b}} - w_{b} \\left(b_{b} + v_{b}\\right)}{w_{b}}\\right) + \\lambda_{7} \\left(min_{s} - \\frac{a_{s} \\left(1 + \\frac{1}{j_{s}}\\right)^{e_{s}} - w_{s} \\left(b_{s} + v_{s}\\right)}{w_{s}}\\right) + \\lambda_{8} \\left(- b_{b} - \\frac{a_{b} \\left(1 + \\frac{1}{j_{b}}\\right)^{e_{b}} - w_{b} \\left(b_{b} + v_{b}\\right)}{w_{b}}\\right) + \\lambda_{9} \\left(- max_{s} + \\frac{a_{s} \\left(1 + \\frac{1}{j_{s}}\\right)^{e_{s}} - w_{s} \\left(b_{s} + v_{s}\\right)}{w_{s}}\\right) - \\frac{w_{b} \\left(a_{s} \\left(1 + \\frac{1}{j_{s}}\\right)^{e_{s}} - w_{s} \\left(b_{s} + v_{s}\\right)\\right)}{w_{s} \\left(a_{b} \\left(1 + \\frac{1}{j_{b}}\\right)^{e_{b}} - w_{b} \\left(b_{b} + v_{b}\\right)\\right)}$"
      ],
      "text/plain": [
       "lambda_1*(-a_b*(1 + 1/j_b)**e_b*(a_s*(1 + 1/j_s)**e_s - w_s*(b_s + v_s))/w_s - a_s*(1 + 1/j_s)**e_s*(a_b*(1 + 1/j_b)**e_b - w_b*(b_b + v_b))/w_b) + lambda_2*(e_b - log(w_b*(b_b + v_b)/a_b)/log(1 + 1/j_b)) + lambda_3*(-e_s + log(w_s*(b_s + v_s)/a_s)/log(1 + 1/j_s)) + lambda_4*(-I_max + a_b*(1 + 1/j_b)**e_b) + lambda_5*(-I_max + a_s*(1 + 1/j_s)**e_s) + lambda_6*(min_b + (a_b*(1 + 1/j_b)**e_b - w_b*(b_b + v_b))/w_b) + lambda_7*(min_s - (a_s*(1 + 1/j_s)**e_s - w_s*(b_s + v_s))/w_s) + lambda_8*(-b_b - (a_b*(1 + 1/j_b)**e_b - w_b*(b_b + v_b))/w_b) + lambda_9*(-max_s + (a_s*(1 + 1/j_s)**e_s - w_s*(b_s + v_s))/w_s) - w_b*(a_s*(1 + 1/j_s)**e_s - w_s*(b_s + v_s))/(w_s*(a_b*(1 + 1/j_b)**e_b - w_b*(b_b + v_b)))"
      ]
     },
     "execution_count": 20,
     "metadata": {},
     "output_type": "execute_result"
    }
   ],
   "source": [
    "l1, l2, l3, l4, l5, l6, l7, l8, l9 = symbols('lambda_1 lambda_2 lambda_3 lambda_4 lambda_5 lambda_6 lambda_7 lambda_8 lambda_9', positive=True)\n",
    "\n",
    "L = effByExps + l1 * expBound['b'] + l2 * expBound['s'] + l3 * maxSpotBound['b'] + l4 * maxSpotBound['s'] + l5 * minAmntBound['b'] + l6 * minAmntBound['s'] + l7 * maxAmntBound['b'] + l8 * maxAmntBound['s'] + l9 * a0Bound\n",
    "if simp:\n",
    "    L = simplify(L)\n",
    "L"
   ]
  },
  {
   "cell_type": "code",
   "execution_count": null,
   "metadata": {},
   "outputs": [],
   "source": [
    "# Partial derivatives\n",
    "dL_des = L.diff(e_s)\n",
    "dL_deb = L.diff(e_b)\n",
    "\n",
    "# Set them to zero\n",
    "stationary_conditions = [\n",
    "    Eq(dL_des, 0),\n",
    "    Eq(dL_deb, 0),\n",
    "]"
   ]
  },
  {
   "cell_type": "code",
   "execution_count": 22,
   "metadata": {},
   "outputs": [],
   "source": [
    "solutions_ = solve(stationary_conditions, (e_s, e_b, l1, l2, l3, l4, l5, l6, l7, l8, l9))\n",
    "\n",
    "print(len(solutions_))\n",
    "solutions = solutions_[0]\n",
    "e_s_sol, e_b_sol, l1_sol, l2_sol, l3_sol, l4_sol, l5_sol, l6_sol, l7_sol, l8_sol, l9_sol = solutions\n",
    "solutions"
   ]
  },
  {
   "cell_type": "code",
   "execution_count": null,
   "metadata": {},
   "outputs": [],
   "source": [
    "# RUN ME ONCE AFTER COMPLETION AND DELETE ME\n",
    "tmp = l1_sol\n",
    "l1_sol = l2_sol\n",
    "l2_sol = l3_sol\n",
    "l3_sol = l4_sol\n",
    "l4_sol = l5_sol\n",
    "l5_sol = l6_sol\n",
    "l6_sol = l7_sol\n",
    "l7_sol = l8_sol\n",
    "l8_sol = l9_sol\n",
    "l9_sol = tmp"
   ]
  },
  {
   "cell_type": "code",
   "execution_count": null,
   "metadata": {},
   "outputs": [],
   "source": [
    "for sol in solutions:\n",
    "  print(sol.free_symbols)"
   ]
  },
  {
   "cell_type": "code",
   "execution_count": null,
   "metadata": {},
   "outputs": [],
   "source": [
    "e_s_sol"
   ]
  },
  {
   "cell_type": "code",
   "execution_count": null,
   "metadata": {},
   "outputs": [],
   "source": [
    "e_b_sol"
   ]
  },
  {
   "cell_type": "code",
   "execution_count": null,
   "metadata": {},
   "outputs": [],
   "source": [
    "l1_sol"
   ]
  },
  {
   "cell_type": "code",
   "execution_count": null,
   "metadata": {},
   "outputs": [],
   "source": [
    "l2_sol"
   ]
  },
  {
   "cell_type": "code",
   "execution_count": null,
   "metadata": {},
   "outputs": [],
   "source": [
    "l3_sol"
   ]
  },
  {
   "cell_type": "code",
   "execution_count": null,
   "metadata": {},
   "outputs": [],
   "source": [
    "l4_sol"
   ]
  },
  {
   "cell_type": "code",
   "execution_count": null,
   "metadata": {},
   "outputs": [],
   "source": [
    "l5_sol"
   ]
  },
  {
   "cell_type": "code",
   "execution_count": null,
   "metadata": {},
   "outputs": [],
   "source": [
    "l6_sol"
   ]
  },
  {
   "cell_type": "code",
   "execution_count": null,
   "metadata": {},
   "outputs": [],
   "source": [
    "l7_sol"
   ]
  },
  {
   "cell_type": "code",
   "execution_count": null,
   "metadata": {},
   "outputs": [],
   "source": [
    "l8_sol"
   ]
  },
  {
   "cell_type": "code",
   "execution_count": null,
   "metadata": {},
   "outputs": [],
   "source": [
    "l9_sol"
   ]
  },
  {
   "cell_type": "code",
   "execution_count": null,
   "metadata": {},
   "outputs": [],
   "source": []
  }
 ],
 "metadata": {
  "kernelspec": {
   "display_name": "Python 3",
   "language": "python",
   "name": "python3"
  },
  "language_info": {
   "codemirror_mode": {
    "name": "ipython",
    "version": 3
   },
   "file_extension": ".py",
   "mimetype": "text/x-python",
   "name": "python",
   "nbconvert_exporter": "python",
   "pygments_lexer": "ipython3",
   "version": "3.9.16"
  }
 },
 "nbformat": 4,
 "nbformat_minor": 2
}
