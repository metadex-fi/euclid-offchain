{
 "cells": [
  {
   "cell_type": "code",
   "execution_count": 18,
   "metadata": {},
   "outputs": [],
   "source": [
    "from sympy import symbols, simplify, hessian, solveset, S, solve, log, And, Le, Ge, Eq, Lt, Gt, nonlinsolve"
   ]
  },
  {
   "cell_type": "code",
   "execution_count": 19,
   "metadata": {},
   "outputs": [
    {
     "data": {
      "text/plain": [
       "{'b': dict_values([s_b, v_b, b_b, w_b, j_b, e_b, Delta_b, a_b, min_b]),\n",
       " 's': dict_values([s_s, v_s, b_s, w_s, j_s, e_s, Delta_s, a_s, min_s])}"
      ]
     },
     "execution_count": 19,
     "metadata": {},
     "output_type": "execute_result"
    }
   ],
   "source": [
    "assets = ['b', 's']  # buying and selling assets\n",
    "base_symbols = ['s', 'v', 'b', 'w', 'j', 'e', 'Delta', 'a', 'min'] \n",
    "# spot price, virtual liquidity, balance, weight, jump size, exponent, delta, anchor price, amm-price, jump-multiplier\n",
    "\n",
    "all_symbols = {}\n",
    "\n",
    "for asset in assets:\n",
    "    temp_dict = {}\n",
    "    for base in base_symbols:\n",
    "        var_name = f\"{base}_{asset}\"\n",
    "        if base == 'e':\n",
    "            symbol_obj = symbols(var_name, integer=True)\n",
    "        elif base == 'b':\n",
    "            symbol_obj = symbols(var_name, nonnegative=True, integer=True)\n",
    "        else:\n",
    "            symbol_obj = symbols(var_name, positive=True, integer=True)\n",
    "        temp_dict[var_name] = symbol_obj\n",
    "        # Define the variable in the global namespace\n",
    "        globals()[var_name] = symbol_obj\n",
    "    all_symbols[asset] = temp_dict.values()\n",
    "all_symbols"
   ]
  },
  {
   "cell_type": "code",
   "execution_count": 20,
   "metadata": {},
   "outputs": [],
   "source": [
    "simp = False;"
   ]
  },
  {
   "cell_type": "markdown",
   "metadata": {},
   "source": [
    "## Target function\n",
    "\n",
    "we want to minimize the effective price, given a set of Deltas for the buying\n",
    "and selling asset each."
   ]
  },
  {
   "cell_type": "code",
   "execution_count": 21,
   "metadata": {},
   "outputs": [
    {
     "data": {
      "text/latex": [
       "$\\displaystyle w_{b} \\left(\\Delta_{b} + b_{b} + v_{b}\\right)$"
      ],
      "text/plain": [
       "w_b*(Delta_b + b_b + v_b)"
      ]
     },
     "execution_count": 21,
     "metadata": {},
     "output_type": "execute_result"
    }
   ],
   "source": [
    "def spotByDelta_(asset, s, v, b, w, j, e, Delta, a, min):\n",
    "  if asset == 'b':\n",
    "    d = -Delta\n",
    "  else:\n",
    "    d = Delta\n",
    "  f = (v + b + d) * w\n",
    "  if simp:\n",
    "    f = simplify(f)\n",
    "  return f\n",
    "\n",
    "spotByDelta = {asset: spotByDelta_(asset, *all_symbols[asset]) for asset in assets}\n",
    "spotByDelta['b']"
   ]
  },
  {
   "cell_type": "code",
   "execution_count": null,
   "metadata": {},
   "outputs": [],
   "source": [
    "spotByDelta[\"s\"];"
   ]
  },
  {
   "cell_type": "code",
   "execution_count": 22,
   "metadata": {},
   "outputs": [
    {
     "data": {
      "text/latex": [
       "$\\displaystyle \\frac{\\log{\\left(\\frac{s_{b}}{a_{b}} \\right)}}{\\log{\\left(1 + \\frac{1}{j_{b}} \\right)}}$"
      ],
      "text/plain": [
       "log(s_b/a_b)/log(1 + 1/j_b)"
      ]
     },
     "execution_count": 22,
     "metadata": {},
     "output_type": "execute_result"
    }
   ],
   "source": [
    "def expBySpot_(s, v, b, w, j, e, Delta, a, min):\n",
    "  f = log(s/a) / log(1 + 1/j)\n",
    "  if simp:\n",
    "    f = simplify(f)\n",
    "  return f\n",
    "expBySpot = {asset: expBySpot_(*all_symbols[asset]) for asset in assets}\n",
    "expBySpot['b']"
   ]
  },
  {
   "cell_type": "code",
   "execution_count": 23,
   "metadata": {},
   "outputs": [
    {
     "data": {
      "text/latex": [
       "$\\displaystyle \\frac{\\log{\\left(\\frac{w_{b} \\left(\\Delta_{b} + b_{b} + v_{b}\\right)}{a_{b}} \\right)}}{\\log{\\left(1 + \\frac{1}{j_{b}} \\right)}}$"
      ],
      "text/plain": [
       "log(w_b*(Delta_b + b_b + v_b)/a_b)/log(1 + 1/j_b)"
      ]
     },
     "execution_count": 23,
     "metadata": {},
     "output_type": "execute_result"
    }
   ],
   "source": [
    "def expByDelta_(asset, s, v, b, w, j, e, Delta, a, min):\n",
    "    f = expBySpot[asset].subs(s, spotByDelta[asset])\n",
    "    if simp:\n",
    "        f = simplify(f)\n",
    "    return f\n",
    "\n",
    "expByDelta = {asset: expByDelta_(asset, *all_symbols[asset]) for asset in assets}\n",
    "expByDelta['b']"
   ]
  },
  {
   "cell_type": "code",
   "execution_count": 24,
   "metadata": {},
   "outputs": [
    {
     "data": {
      "text/latex": [
       "$\\displaystyle - \\frac{\\Delta_{s}}{\\Delta_{b}}$"
      ],
      "text/plain": [
       "-Delta_s/Delta_b"
      ]
     },
     "execution_count": 24,
     "metadata": {},
     "output_type": "execute_result"
    }
   ],
   "source": [
    "eff = Delta_s / Delta_b;\n",
    "eff;"
   ]
  },
  {
   "cell_type": "markdown",
   "metadata": {},
   "source": [
    "### convexity of the target function\n",
    "\n",
    "- deltaBySpot is linear\n",
    "- spotByExp is convex\n",
    "- deltaByExp is a composition of the two\n",
    "\n",
    "=> deltaByExp is convex\n",
    "\n",
    "- negation flips convexity/concavity\n",
    "- deltaBuyingByExp is negative => -deltaBuyingByExp is positive\n",
    "- inversion of a positive function flips convexity/concavity => 1 /\n",
    "  (-deltaBuyingByExp) is convex\n",
    "- multiplying two nonnegative functions with different variables, that are each\n",
    "  convex and independent of the other's variable, results in a convex function\n",
    "\n",
    "==> effectivePrice = deltaSellingByExp / (-deltaBuyingByExp) is convex. qed"
   ]
  },
  {
   "cell_type": "markdown",
   "metadata": {},
   "source": [
    "## inequality-constraints\n",
    "\n",
    "- value in A0 of buying must not exceed that of selling\n",
    "- the exponents must adhere to their upper (buying) resp. lower (selling) bounds\n",
    "  given by our equation\n",
    "- need to buy and sell minimum amounts\n",
    "- cannot buy more than the available balance\n",
    "- cannot sell more than maxSelling\n",
    "- the spot prices must not exceed maxInteger\n",
    "- bonus: the total number of multiplications for both exponentiations must not\n",
    "  exceed expLimit (TODO)"
   ]
  },
  {
   "cell_type": "code",
   "execution_count": 25,
   "metadata": {},
   "outputs": [
    {
     "data": {
      "text/latex": [
       "$\\displaystyle - \\Delta_{b} w_{s} \\left(\\Delta_{s} + b_{s} + v_{s}\\right)$"
      ],
      "text/plain": [
       "-Delta_b*w_s*(Delta_s + b_s + v_s)"
      ]
     },
     "execution_count": 25,
     "metadata": {},
     "output_type": "execute_result"
    }
   ],
   "source": [
    "a0Buying = spotByDelta['s'] * -Delta_b\n",
    "if simp:\n",
    "    a0Buying = simplify(a0Buying)\n",
    "a0Buying"
   ]
  },
  {
   "cell_type": "code",
   "execution_count": 26,
   "metadata": {},
   "outputs": [
    {
     "data": {
      "text/latex": [
       "$\\displaystyle \\Delta_{s} w_{b} \\left(\\Delta_{b} + b_{b} + v_{b}\\right)$"
      ],
      "text/plain": [
       "Delta_s*w_b*(Delta_b + b_b + v_b)"
      ]
     },
     "execution_count": 26,
     "metadata": {},
     "output_type": "execute_result"
    }
   ],
   "source": [
    "a0Selling = spotByDelta['b'] * Delta_s\n",
    "if simp:\n",
    "    a0Selling = simplify(a0Selling)\n",
    "a0Selling"
   ]
  },
  {
   "cell_type": "code",
   "execution_count": 27,
   "metadata": {},
   "outputs": [
    {
     "data": {
      "text/latex": [
       "$\\displaystyle - \\Delta_{b} w_{s} \\left(\\Delta_{s} + b_{s} + v_{s}\\right) - \\Delta_{s} w_{b} \\left(\\Delta_{b} + b_{b} + v_{b}\\right)$"
      ],
      "text/plain": [
       "-Delta_b*w_s*(Delta_s + b_s + v_s) - Delta_s*w_b*(Delta_b + b_b + v_b)"
      ]
     },
     "execution_count": 27,
     "metadata": {},
     "output_type": "execute_result"
    }
   ],
   "source": [
    "a0Bound = a0Buying - a0Selling # <=! 0\n",
    "if simp:\n",
    "    a0Bound = simplify(a0Bound)\n",
    "a0Bound"
   ]
  },
  {
   "cell_type": "code",
   "execution_count": 28,
   "metadata": {},
   "outputs": [
    {
     "data": {
      "text/latex": [
       "$\\displaystyle - \\frac{\\log{\\left(\\frac{w_{b} \\left(b_{b} + v_{b}\\right)}{a_{b}} \\right)}}{\\log{\\left(1 + \\frac{1}{j_{b}} \\right)}} + \\frac{\\log{\\left(\\frac{w_{b} \\left(\\Delta_{b} + b_{b} + v_{b}\\right)}{a_{b}} \\right)}}{\\log{\\left(1 + \\frac{1}{j_{b}} \\right)}}$"
      ],
      "text/plain": [
       "-log(w_b*(b_b + v_b)/a_b)/log(1 + 1/j_b) + log(w_b*(Delta_b + b_b + v_b)/a_b)/log(1 + 1/j_b)"
      ]
     },
     "execution_count": 28,
     "metadata": {},
     "output_type": "execute_result"
    }
   ],
   "source": [
    "def expBound_(asset, s, v, b, w, j, e, Delta, a, min):\n",
    "    e_bound = log(w * (v + b) /a, 1 + 1/j) # constant wrt e\n",
    "    exp = expByDelta[asset]\n",
    "    if simp:\n",
    "        e_bound = simplify(e_bound)\n",
    "    if asset == 'b':\n",
    "        f = exp - e_bound # <=! 0 (upper bound)\n",
    "    else:\n",
    "        f = e_bound - exp # <=! 0 (lower bound)\n",
    "    if simp:\n",
    "        f = simplify(f)\n",
    "    return f\n",
    "\n",
    "expBound = {asset: expBound_(asset, *all_symbols[asset]) for asset in assets}\n",
    "expBound['b']"
   ]
  },
  {
   "cell_type": "code",
   "execution_count": 29,
   "metadata": {},
   "outputs": [
    {
     "data": {
      "text/latex": [
       "$\\displaystyle \\frac{\\log{\\left(\\frac{w_{s} \\left(b_{s} + v_{s}\\right)}{a_{s}} \\right)}}{\\log{\\left(1 + \\frac{1}{j_{s}} \\right)}} - \\frac{\\log{\\left(\\frac{w_{s} \\left(\\Delta_{s} + b_{s} + v_{s}\\right)}{a_{s}} \\right)}}{\\log{\\left(1 + \\frac{1}{j_{s}} \\right)}}$"
      ],
      "text/plain": [
       "log(w_s*(b_s + v_s)/a_s)/log(1 + 1/j_s) - log(w_s*(Delta_s + b_s + v_s)/a_s)/log(1 + 1/j_s)"
      ]
     },
     "execution_count": 29,
     "metadata": {},
     "output_type": "execute_result"
    }
   ],
   "source": [
    "expBound[\"s\"];"
   ]
  },
  {
   "cell_type": "code",
   "execution_count": 30,
   "metadata": {},
   "outputs": [
    {
     "data": {
      "text/latex": [
       "$\\displaystyle - I_{max} + w_{b} \\left(\\Delta_{b} + b_{b} + v_{b}\\right)$"
      ],
      "text/plain": [
       "-I_max + w_b*(Delta_b + b_b + v_b)"
      ]
     },
     "execution_count": 30,
     "metadata": {},
     "output_type": "execute_result"
    }
   ],
   "source": [
    "max_s, I_max = symbols('max_s I_max', positive=True, integer=True)\n",
    "\n",
    "def maxSpotBound_(asset, s, v, b, w, j, e, Delta, a, min):\n",
    "  f = spotByDelta[asset] - I_max # <=! 0\n",
    "  if simp:\n",
    "    f = simplify(f)\n",
    "  return f\n",
    "\n",
    "maxSpotBound = {asset: maxSpotBound_(asset, *all_symbols[asset]) for asset in assets}\n",
    "maxSpotBound['b']"
   ]
  },
  {
   "cell_type": "code",
   "execution_count": 31,
   "metadata": {},
   "outputs": [
    {
     "data": {
      "text/latex": [
       "$\\displaystyle - \\Delta_{b} - min_{b}$"
      ],
      "text/plain": [
       "-Delta_b - min_b"
      ]
     },
     "execution_count": 31,
     "metadata": {},
     "output_type": "execute_result"
    }
   ],
   "source": [
    "def minAmntBound_(asset, s, v, b, w, j, e, Delta, a, min):\n",
    "    if asset == 'b':\n",
    "        f = -min - Delta # <=! 0\n",
    "    else:\n",
    "        f = min - Delta # <=! 0\n",
    "    if simp:\n",
    "        f = simplify(f)\n",
    "    return f\n",
    "\n",
    "minAmntBound = {asset: minAmntBound_(asset, *all_symbols[asset]) for asset in assets}\n",
    "minAmntBound['b']"
   ]
  },
  {
   "cell_type": "code",
   "execution_count": 32,
   "metadata": {},
   "outputs": [
    {
     "data": {
      "text/latex": [
       "$\\displaystyle - \\Delta_{b} - b_{b}$"
      ],
      "text/plain": [
       "-Delta_b - b_b"
      ]
     },
     "execution_count": 32,
     "metadata": {},
     "output_type": "execute_result"
    }
   ],
   "source": [
    "def maxAmntBound_(asset, s, v, b, w, j, e, Delta, a, min):\n",
    "    if asset == 'b':\n",
    "        f = -Delta - b # <=! 0\n",
    "    else:\n",
    "        f = Delta - max_s # <=! 0\n",
    "    if simp:\n",
    "        f = simplify(f)\n",
    "    return f\n",
    "\n",
    "maxAmntBound = {asset: maxAmntBound_(asset, *all_symbols[asset]) for asset in assets}\n",
    "maxAmntBound['b']"
   ]
  },
  {
   "cell_type": "code",
   "execution_count": 33,
   "metadata": {},
   "outputs": [
    {
     "data": {
      "text/latex": [
       "$\\displaystyle \\Delta_{s} - max_{s}$"
      ],
      "text/plain": [
       "Delta_s - max_s"
      ]
     },
     "execution_count": 33,
     "metadata": {},
     "output_type": "execute_result"
    }
   ],
   "source": [
    "maxAmntBound[\"s\"];"
   ]
  },
  {
   "cell_type": "markdown",
   "metadata": {},
   "source": [
    "## Lagrangian"
   ]
  },
  {
   "cell_type": "code",
   "execution_count": 34,
   "metadata": {},
   "outputs": [
    {
     "ename": "NameError",
     "evalue": "name 'effByExps' is not defined",
     "output_type": "error",
     "traceback": [
      "\u001b[0;31m---------------------------------------------------------------------------\u001b[0m",
      "\u001b[0;31mNameError\u001b[0m                                 Traceback (most recent call last)",
      "\u001b[0;32m<ipython-input-34-8ac03c42129b>\u001b[0m in \u001b[0;36m<module>\u001b[0;34m\u001b[0m\n\u001b[1;32m     18\u001b[0m \u001b[0;34m\u001b[0m\u001b[0m\n\u001b[1;32m     19\u001b[0m \u001b[0;31m# Objective function\u001b[0m\u001b[0;34m\u001b[0m\u001b[0;34m\u001b[0m\u001b[0m\n\u001b[0;32m---> 20\u001b[0;31m \u001b[0mf\u001b[0m \u001b[0;34m=\u001b[0m \u001b[0meffByExps\u001b[0m\u001b[0;34m\u001b[0m\u001b[0;34m\u001b[0m\u001b[0m\n\u001b[0m\u001b[1;32m     21\u001b[0m \u001b[0;34m\u001b[0m\u001b[0m\n\u001b[1;32m     22\u001b[0m \u001b[0;31m# Lagrangian\u001b[0m\u001b[0;34m\u001b[0m\u001b[0;34m\u001b[0m\u001b[0m\n",
      "\u001b[0;31mNameError\u001b[0m: name 'effByExps' is not defined"
     ]
    }
   ],
   "source": [
    "# Decision variables\n",
    "x1, x2 = Delta_b, Delta_s\n",
    "\n",
    "# Constraints\n",
    "g = [\n",
    "    expBound['b'],\n",
    "    expBound['s'],\n",
    "    maxSpotBound['b'],\n",
    "    minAmntBound['b'],\n",
    "    maxAmntBound['b'],\n",
    "    minAmntBound['s'],\n",
    "    maxAmntBound['s'],\n",
    "    a0Bound,\n",
    "] \n",
    "\n",
    "# Lagrange multipliers for m constraints\n",
    "lambdas = symbols('lambda1:{}'.format(len(g)+1), nonnegative=True)\n",
    "\n",
    "# Objective function\n",
    "f = effByExps\n",
    "\n",
    "# Lagrangian\n",
    "L = f + sum([lambdas[i] * g[i] for i in range(len(g))])\n",
    "if simp:\n",
    "    L = simplify(L)\n",
    "\n",
    "# Differentiate Lagrangian with respect to decision variables\n",
    "dL_dx1 = L.diff(x1)\n",
    "dL_dx2 = L.diff(x2)\n",
    "if simp:\n",
    "    dL_dx1 = simplify(dL_dx1)\n",
    "    dL_dx2 = simplify(dL_dx2)\n",
    "\n",
    "# Equations from stationarity\n",
    "equations = [Eq(dL_dx1, 0), Eq(dL_dx2, 0)]\n",
    "\n",
    "# Complementary slackness conditions\n",
    "for i in range(len(g)):\n",
    "    equations.append(Eq(lambdas[i] * g[i], 0))\n",
    "\n",
    "# Solve\n",
    "solutions = nonlinsolve(equations, [x1, x2] + list(lambdas))\n",
    "solutions"
   ]
  }
 ],
 "metadata": {
  "kernelspec": {
   "display_name": "Python 3",
   "language": "python",
   "name": "python3"
  },
  "language_info": {
   "codemirror_mode": {
    "name": "ipython",
    "version": 3
   },
   "file_extension": ".py",
   "mimetype": "text/x-python",
   "name": "python",
   "nbconvert_exporter": "python",
   "pygments_lexer": "ipython3",
   "version": "3.9.16"
  }
 },
 "nbformat": 4,
 "nbformat_minor": 2
}
