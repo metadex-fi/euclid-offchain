{
 "cells": [
  {
   "cell_type": "code",
   "execution_count": 1,
   "metadata": {},
   "outputs": [],
   "source": [
    "from sympy import symbols, simplify, hessian, solveset, S, solve, log, And, Le, Ge, Eq, Lt, Gt, nonlinsolve"
   ]
  },
  {
   "cell_type": "code",
   "execution_count": 2,
   "metadata": {},
   "outputs": [
    {
     "data": {
      "text/plain": [
       "{'b': dict_values([s_b, v_b, b_b, w_b, j_b, e_b, Delta_b, a_b, min_b]),\n",
       " 's': dict_values([s_s, v_s, b_s, w_s, j_s, e_s, Delta_s, a_s, min_s])}"
      ]
     },
     "execution_count": 2,
     "metadata": {},
     "output_type": "execute_result"
    }
   ],
   "source": [
    "assets = ['b', 's']  # buying and selling assets\n",
    "base_symbols = ['s', 'v', 'b', 'w', 'j', 'e', 'Delta', 'a', 'min'] \n",
    "# spot price, virtual liquidity, balance, weight, jump size, exponent, delta, anchor price, amm-price, jump-multiplier\n",
    "\n",
    "all_symbols = {}\n",
    "\n",
    "for asset in assets:\n",
    "    temp_dict = {}\n",
    "    for base in base_symbols:\n",
    "        var_name = f\"{base}_{asset}\"\n",
    "        if base == 'e':\n",
    "            symbol_obj = symbols(var_name, integer=True)\n",
    "        elif base == 'b':\n",
    "            symbol_obj = symbols(var_name, nonnegative=True, integer=True)\n",
    "        else:\n",
    "            symbol_obj = symbols(var_name, positive=True, integer=True)\n",
    "        temp_dict[var_name] = symbol_obj\n",
    "        # Define the variable in the global namespace\n",
    "        globals()[var_name] = symbol_obj\n",
    "    all_symbols[asset] = temp_dict.values()\n",
    "all_symbols"
   ]
  },
  {
   "cell_type": "code",
   "execution_count": 3,
   "metadata": {},
   "outputs": [],
   "source": [
    "simp = False"
   ]
  },
  {
   "cell_type": "markdown",
   "metadata": {},
   "source": [
    "## Target function\n",
    "\n",
    "we want to minimize the effective price, given a set of exponents for the buying and selling asset each."
   ]
  },
  {
   "cell_type": "code",
   "execution_count": 4,
   "metadata": {},
   "outputs": [
    {
     "data": {
      "text/latex": [
       "$\\displaystyle - \\frac{s_{b} - w_{b} \\left(b_{b} + v_{b}\\right)}{w_{b}}$"
      ],
      "text/plain": [
       "-(s_b - w_b*(b_b + v_b))/w_b"
      ]
     },
     "execution_count": 4,
     "metadata": {},
     "output_type": "execute_result"
    }
   ],
   "source": [
    "def deltaBySpot_(asset, s,v, b, w, j, e, Delta, a, min):\n",
    "  f = (s - (v + b) * w) / w\n",
    "  if asset == 'b':\n",
    "    f = -f\n",
    "  if simp:\n",
    "    f = simplify(f)\n",
    "  return f\n",
    "\n",
    "deltaBySpot = {asset: deltaBySpot_(asset, *all_symbols[asset]) for asset in assets}\n",
    "deltaBySpot['b']"
   ]
  },
  {
   "cell_type": "code",
   "execution_count": 5,
   "metadata": {},
   "outputs": [
    {
     "data": {
      "text/latex": [
       "$\\displaystyle \\frac{s_{s} - w_{s} \\left(b_{s} + v_{s}\\right)}{w_{s}}$"
      ],
      "text/plain": [
       "(s_s - w_s*(b_s + v_s))/w_s"
      ]
     },
     "execution_count": 5,
     "metadata": {},
     "output_type": "execute_result"
    }
   ],
   "source": [
    "deltaBySpot['s']"
   ]
  },
  {
   "cell_type": "code",
   "execution_count": 6,
   "metadata": {},
   "outputs": [
    {
     "data": {
      "text/latex": [
       "$\\displaystyle a_{b} \\left(1 + \\frac{1}{j_{b}}\\right)^{e_{b}}$"
      ],
      "text/plain": [
       "a_b*(1 + 1/j_b)**e_b"
      ]
     },
     "execution_count": 6,
     "metadata": {},
     "output_type": "execute_result"
    }
   ],
   "source": [
    "def spotByExp_(s, v, b, w, j, e, Delta, a, min):\n",
    "  f = a * ((1 + 1/j) ** e)\n",
    "  if simp:\n",
    "    f = simplify(f)\n",
    "  return f\n",
    "spotByExp = {asset: spotByExp_(*all_symbols[asset]) for asset in assets}\n",
    "spotByExp['b']"
   ]
  },
  {
   "cell_type": "code",
   "execution_count": 7,
   "metadata": {},
   "outputs": [
    {
     "data": {
      "text/latex": [
       "$\\displaystyle - \\frac{a_{b} \\left(1 + \\frac{1}{j_{b}}\\right)^{e_{b}} - w_{b} \\left(b_{b} + v_{b}\\right)}{w_{b}}$"
      ],
      "text/plain": [
       "-(a_b*(1 + 1/j_b)**e_b - w_b*(b_b + v_b))/w_b"
      ]
     },
     "execution_count": 7,
     "metadata": {},
     "output_type": "execute_result"
    }
   ],
   "source": [
    "def deltaByExp_(asset, s, v, b, w, j, e, Delta, a, min):\n",
    "    f = deltaBySpot[asset].subs(s, spotByExp[asset])\n",
    "    if simp:\n",
    "        f = simplify(f)\n",
    "    return f\n",
    "\n",
    "deltaByExp = {asset: deltaByExp_(asset, *all_symbols[asset]) for asset in assets}\n",
    "deltaByExp['b']"
   ]
  },
  {
   "cell_type": "code",
   "execution_count": 8,
   "metadata": {},
   "outputs": [
    {
     "data": {
      "text/latex": [
       "$\\displaystyle \\frac{\\Delta_{s}}{\\Delta_{b}}$"
      ],
      "text/plain": [
       "Delta_s/Delta_b"
      ]
     },
     "execution_count": 8,
     "metadata": {},
     "output_type": "execute_result"
    }
   ],
   "source": [
    "eff = Delta_s / Delta_b\n",
    "eff"
   ]
  },
  {
   "cell_type": "code",
   "execution_count": 9,
   "metadata": {},
   "outputs": [
    {
     "data": {
      "text/latex": [
       "$\\displaystyle - \\frac{w_{b} \\left(a_{s} \\left(1 + \\frac{1}{j_{s}}\\right)^{e_{s}} - w_{s} \\left(b_{s} + v_{s}\\right)\\right)}{w_{s} \\left(a_{b} \\left(1 + \\frac{1}{j_{b}}\\right)^{e_{b}} - w_{b} \\left(b_{b} + v_{b}\\right)\\right)}$"
      ],
      "text/plain": [
       "-w_b*(a_s*(1 + 1/j_s)**e_s - w_s*(b_s + v_s))/(w_s*(a_b*(1 + 1/j_b)**e_b - w_b*(b_b + v_b)))"
      ]
     },
     "execution_count": 9,
     "metadata": {},
     "output_type": "execute_result"
    }
   ],
   "source": [
    "effByExps = eff.subs({Delta_b: deltaByExp['b'], Delta_s: deltaByExp['s']})\n",
    "if simp:\n",
    "    effByExps = simplify(effByExps)\n",
    "effByExps"
   ]
  },
  {
   "cell_type": "markdown",
   "metadata": {},
   "source": [
    "### convexity of the target function\n",
    "\n",
    "- deltaBySpot is linear (positive for selling and negative for buying)\n",
    "- spotByExp is convex\n",
    "- deltaByExp is a composition of the two\n",
    "\n",
    "=> deltaByExp is convex for selling and concave for buying\n",
    "\n",
    "- negation flips convexity/concavity\n",
    "- inversion of a positive function flips convexity/concavity => 1 / deltaByExp_buying is convex\n",
    "- multiplying two nonnegative functions with different variables, that are each convex and independent of the other's variable, results in a convex function\n",
    "\n",
    "==> effectivePrice = deltaByExp_selling / deltaByExp_buying is convex. qed\n"
   ]
  },
  {
   "cell_type": "markdown",
   "metadata": {},
   "source": [
    "## inequality-constraints\n",
    "\n",
    "- value in A0 of buying must not exceed that of selling\n",
    "- the exponents must adhere to their upper (buying) resp. lower (selling) bounds given by our equation\n",
    "- need to buy and sell minimum amounts\n",
    "- cannot buy more than the available balance\n",
    "- cannot sell more than maxSelling\n",
    "- the spot prices must not exceed maxInteger\n",
    "- bonus: the total number of multiplications for both exponentiations must not exceed expLimit (TODO)"
   ]
  },
  {
   "cell_type": "code",
   "execution_count": 10,
   "metadata": {},
   "outputs": [
    {
     "data": {
      "text/latex": [
       "$\\displaystyle - \\frac{a_{s} \\left(1 + \\frac{1}{j_{s}}\\right)^{e_{s}} \\left(a_{b} \\left(1 + \\frac{1}{j_{b}}\\right)^{e_{b}} - w_{b} \\left(b_{b} + v_{b}\\right)\\right)}{w_{b}}$"
      ],
      "text/plain": [
       "-a_s*(1 + 1/j_s)**e_s*(a_b*(1 + 1/j_b)**e_b - w_b*(b_b + v_b))/w_b"
      ]
     },
     "execution_count": 10,
     "metadata": {},
     "output_type": "execute_result"
    }
   ],
   "source": [
    "a0Buying = spotByExp['s'] * deltaByExp['b']\n",
    "if simp:\n",
    "    a0Buying = simplify(a0Buying)\n",
    "a0Buying"
   ]
  },
  {
   "cell_type": "code",
   "execution_count": 11,
   "metadata": {},
   "outputs": [
    {
     "data": {
      "text/latex": [
       "$\\displaystyle \\frac{a_{b} \\left(1 + \\frac{1}{j_{b}}\\right)^{e_{b}} \\left(a_{s} \\left(1 + \\frac{1}{j_{s}}\\right)^{e_{s}} - w_{s} \\left(b_{s} + v_{s}\\right)\\right)}{w_{s}}$"
      ],
      "text/plain": [
       "a_b*(1 + 1/j_b)**e_b*(a_s*(1 + 1/j_s)**e_s - w_s*(b_s + v_s))/w_s"
      ]
     },
     "execution_count": 11,
     "metadata": {},
     "output_type": "execute_result"
    }
   ],
   "source": [
    "a0Selling = spotByExp['b'] * deltaByExp['s']\n",
    "if simp:\n",
    "    a0Selling = simplify(a0Selling)\n",
    "a0Selling"
   ]
  },
  {
   "cell_type": "code",
   "execution_count": 12,
   "metadata": {},
   "outputs": [
    {
     "data": {
      "text/latex": [
       "$\\displaystyle - \\frac{a_{b} \\left(1 + \\frac{1}{j_{b}}\\right)^{e_{b}} \\left(a_{s} \\left(1 + \\frac{1}{j_{s}}\\right)^{e_{s}} - w_{s} \\left(b_{s} + v_{s}\\right)\\right)}{w_{s}} - \\frac{a_{s} \\left(1 + \\frac{1}{j_{s}}\\right)^{e_{s}} \\left(a_{b} \\left(1 + \\frac{1}{j_{b}}\\right)^{e_{b}} - w_{b} \\left(b_{b} + v_{b}\\right)\\right)}{w_{b}}$"
      ],
      "text/plain": [
       "-a_b*(1 + 1/j_b)**e_b*(a_s*(1 + 1/j_s)**e_s - w_s*(b_s + v_s))/w_s - a_s*(1 + 1/j_s)**e_s*(a_b*(1 + 1/j_b)**e_b - w_b*(b_b + v_b))/w_b"
      ]
     },
     "execution_count": 12,
     "metadata": {},
     "output_type": "execute_result"
    }
   ],
   "source": [
    "a0Bound = a0Buying - a0Selling # <=! 0\n",
    "if simp:\n",
    "    a0Bound = simplify(a0Bound)\n",
    "a0Bound"
   ]
  },
  {
   "cell_type": "code",
   "execution_count": 13,
   "metadata": {},
   "outputs": [
    {
     "data": {
      "text/latex": [
       "$\\displaystyle e_{b} - \\frac{\\log{\\left(\\frac{w_{b} \\left(b_{b} + v_{b}\\right)}{a_{b}} \\right)}}{\\log{\\left(1 + \\frac{1}{j_{b}} \\right)}}$"
      ],
      "text/plain": [
       "e_b - log(w_b*(b_b + v_b)/a_b)/log(1 + 1/j_b)"
      ]
     },
     "execution_count": 13,
     "metadata": {},
     "output_type": "execute_result"
    }
   ],
   "source": [
    "def expBound_(asset, s, v, b, w, j, e, Delta, a, min):\n",
    "    e_bound = log(w * (v + b) /a, 1 + 1/j) # constant wrt e\n",
    "    if simp:\n",
    "        e_bound = simplify(e_bound)\n",
    "    if asset == 'b':\n",
    "        f = e - e_bound # <=! 0 (upper bound)\n",
    "    else:\n",
    "        f = e_bound - e # <=! 0 (lower bound)\n",
    "    if simp:\n",
    "        f = simplify(f)\n",
    "    return f\n",
    "\n",
    "expBound = {asset: expBound_(asset, *all_symbols[asset]) for asset in assets}\n",
    "expBound['b']"
   ]
  },
  {
   "cell_type": "code",
   "execution_count": 14,
   "metadata": {},
   "outputs": [
    {
     "data": {
      "text/latex": [
       "$\\displaystyle - e_{s} + \\frac{\\log{\\left(\\frac{w_{s} \\left(b_{s} + v_{s}\\right)}{a_{s}} \\right)}}{\\log{\\left(1 + \\frac{1}{j_{s}} \\right)}}$"
      ],
      "text/plain": [
       "-e_s + log(w_s*(b_s + v_s)/a_s)/log(1 + 1/j_s)"
      ]
     },
     "execution_count": 14,
     "metadata": {},
     "output_type": "execute_result"
    }
   ],
   "source": [
    "expBound['s']"
   ]
  },
  {
   "cell_type": "code",
   "execution_count": 15,
   "metadata": {},
   "outputs": [
    {
     "data": {
      "text/latex": [
       "$\\displaystyle - I_{max} + a_{b} \\left(1 + \\frac{1}{j_{b}}\\right)^{e_{b}}$"
      ],
      "text/plain": [
       "-I_max + a_b*(1 + 1/j_b)**e_b"
      ]
     },
     "execution_count": 15,
     "metadata": {},
     "output_type": "execute_result"
    }
   ],
   "source": [
    "max_s, I_max = symbols('max_s I_max', positive=True, integer=True)\n",
    "\n",
    "def maxSpotBound_(asset, s, v, b, w, j, e, Delta, a, min):\n",
    "  return spotByExp[asset] - I_max # <=! 0\n",
    "\n",
    "maxSpotBound = {asset: maxSpotBound_(asset, *all_symbols[asset]) for asset in assets}\n",
    "maxSpotBound['b']"
   ]
  },
  {
   "cell_type": "code",
   "execution_count": 16,
   "metadata": {},
   "outputs": [
    {
     "data": {
      "text/latex": [
       "$\\displaystyle min_{b} + \\frac{a_{b} \\left(1 + \\frac{1}{j_{b}}\\right)^{e_{b}} - w_{b} \\left(b_{b} + v_{b}\\right)}{w_{b}}$"
      ],
      "text/plain": [
       "min_b + (a_b*(1 + 1/j_b)**e_b - w_b*(b_b + v_b))/w_b"
      ]
     },
     "execution_count": 16,
     "metadata": {},
     "output_type": "execute_result"
    }
   ],
   "source": [
    "def minAmntBound_(asset, s, v, b, w, j, e, Delta, a, min):\n",
    "    f = min - Delta # <=! 0\n",
    "    f = f.subs(Delta, deltaByExp[asset])\n",
    "    if simp:\n",
    "        f = simplify(f)\n",
    "    return f\n",
    "\n",
    "minAmntBound = {asset: minAmntBound_(asset, *all_symbols[asset]) for asset in assets}\n",
    "minAmntBound['b']"
   ]
  },
  {
   "cell_type": "code",
   "execution_count": 17,
   "metadata": {},
   "outputs": [
    {
     "data": {
      "text/latex": [
       "$\\displaystyle min_{s} - \\frac{a_{s} \\left(1 + \\frac{1}{j_{s}}\\right)^{e_{s}} - w_{s} \\left(b_{s} + v_{s}\\right)}{w_{s}}$"
      ],
      "text/plain": [
       "min_s - (a_s*(1 + 1/j_s)**e_s - w_s*(b_s + v_s))/w_s"
      ]
     },
     "execution_count": 17,
     "metadata": {},
     "output_type": "execute_result"
    }
   ],
   "source": [
    "minAmntBound['s']"
   ]
  },
  {
   "cell_type": "code",
   "execution_count": 18,
   "metadata": {},
   "outputs": [
    {
     "data": {
      "text/latex": [
       "$\\displaystyle - b_{b} - \\frac{a_{b} \\left(1 + \\frac{1}{j_{b}}\\right)^{e_{b}} - w_{b} \\left(b_{b} + v_{b}\\right)}{w_{b}}$"
      ],
      "text/plain": [
       "-b_b - (a_b*(1 + 1/j_b)**e_b - w_b*(b_b + v_b))/w_b"
      ]
     },
     "execution_count": 18,
     "metadata": {},
     "output_type": "execute_result"
    }
   ],
   "source": [
    "def maxAmntBound_(asset, s, v, b, w, j, e, Delta, a, min):\n",
    "    if asset == 'b':\n",
    "        max = b\n",
    "    else:\n",
    "        max = max_s\n",
    "    f = Delta - max # <=! 0\n",
    "    f = f.subs(Delta, deltaByExp[asset])\n",
    "    if simp:\n",
    "        f = simplify(f)\n",
    "    return f\n",
    "\n",
    "maxAmntBound = {asset: maxAmntBound_(asset, *all_symbols[asset]) for asset in assets}\n",
    "maxAmntBound['b']"
   ]
  },
  {
   "cell_type": "code",
   "execution_count": 19,
   "metadata": {},
   "outputs": [
    {
     "data": {
      "text/latex": [
       "$\\displaystyle - max_{s} + \\frac{a_{s} \\left(1 + \\frac{1}{j_{s}}\\right)^{e_{s}} - w_{s} \\left(b_{s} + v_{s}\\right)}{w_{s}}$"
      ],
      "text/plain": [
       "-max_s + (a_s*(1 + 1/j_s)**e_s - w_s*(b_s + v_s))/w_s"
      ]
     },
     "execution_count": 19,
     "metadata": {},
     "output_type": "execute_result"
    }
   ],
   "source": [
    "maxAmntBound['s']"
   ]
  },
  {
   "cell_type": "markdown",
   "metadata": {},
   "source": [
    "## Lagrangian"
   ]
  },
  {
   "cell_type": "code",
   "execution_count": 20,
   "metadata": {},
   "outputs": [
    {
     "ename": "ValueError",
     "evalue": "list.remove(x): x not in list",
     "output_type": "error",
     "traceback": [
      "\u001b[0;31m---------------------------------------------------------------------------\u001b[0m",
      "\u001b[0;31mValueError\u001b[0m                                Traceback (most recent call last)",
      "\u001b[0;32m<ipython-input-20-4363afcd4be6>\u001b[0m in \u001b[0;36m<module>\u001b[0;34m\u001b[0m\n\u001b[1;32m     40\u001b[0m \u001b[0;34m\u001b[0m\u001b[0m\n\u001b[1;32m     41\u001b[0m \u001b[0;31m# Solve\u001b[0m\u001b[0;34m\u001b[0m\u001b[0;34m\u001b[0m\u001b[0m\n\u001b[0;32m---> 42\u001b[0;31m \u001b[0msolutions\u001b[0m \u001b[0;34m=\u001b[0m \u001b[0mnonlinsolve\u001b[0m\u001b[0;34m(\u001b[0m\u001b[0mequations\u001b[0m\u001b[0;34m,\u001b[0m \u001b[0;34m[\u001b[0m\u001b[0mx1\u001b[0m\u001b[0;34m,\u001b[0m \u001b[0mx2\u001b[0m\u001b[0;34m]\u001b[0m \u001b[0;34m+\u001b[0m \u001b[0mlist\u001b[0m\u001b[0;34m(\u001b[0m\u001b[0mlambdas\u001b[0m\u001b[0;34m)\u001b[0m\u001b[0;34m)\u001b[0m\u001b[0;34m\u001b[0m\u001b[0;34m\u001b[0m\u001b[0m\n\u001b[0m\u001b[1;32m     43\u001b[0m \u001b[0msolutions\u001b[0m\u001b[0;34m\u001b[0m\u001b[0;34m\u001b[0m\u001b[0m\n",
      "\u001b[0;32m/usr/local/lib/python3.9/site-packages/sympy/solvers/solveset.py\u001b[0m in \u001b[0;36mnonlinsolve\u001b[0;34m(system, *symbols)\u001b[0m\n\u001b[1;32m   3863\u001b[0m         \u001b[0;31m# If solve_poly_system did succeed then we pass those solutions in as\u001b[0m\u001b[0;34m\u001b[0m\u001b[0;34m\u001b[0m\u001b[0m\n\u001b[1;32m   3864\u001b[0m         \u001b[0;31m# preliminary results.\u001b[0m\u001b[0;34m\u001b[0m\u001b[0;34m\u001b[0m\u001b[0m\n\u001b[0;32m-> 3865\u001b[0;31m         \u001b[0msubs_res\u001b[0m \u001b[0;34m=\u001b[0m \u001b[0msubstitution\u001b[0m\u001b[0;34m(\u001b[0m\u001b[0mremaining\u001b[0m\u001b[0;34m,\u001b[0m \u001b[0msymbols\u001b[0m\u001b[0;34m,\u001b[0m \u001b[0mresult\u001b[0m\u001b[0;34m=\u001b[0m\u001b[0mpoly_sol\u001b[0m\u001b[0;34m,\u001b[0m \u001b[0mexclude\u001b[0m\u001b[0;34m=\u001b[0m\u001b[0mdenominators\u001b[0m\u001b[0;34m)\u001b[0m\u001b[0;34m\u001b[0m\u001b[0;34m\u001b[0m\u001b[0m\n\u001b[0m\u001b[1;32m   3866\u001b[0m \u001b[0;34m\u001b[0m\u001b[0m\n\u001b[1;32m   3867\u001b[0m         \u001b[0;32mif\u001b[0m \u001b[0;32mnot\u001b[0m \u001b[0misinstance\u001b[0m\u001b[0;34m(\u001b[0m\u001b[0msubs_res\u001b[0m\u001b[0;34m,\u001b[0m \u001b[0mFiniteSet\u001b[0m\u001b[0;34m)\u001b[0m\u001b[0;34m:\u001b[0m\u001b[0;34m\u001b[0m\u001b[0;34m\u001b[0m\u001b[0m\n",
      "\u001b[0;32m/usr/local/lib/python3.9/site-packages/sympy/solvers/solveset.py\u001b[0m in \u001b[0;36msubstitution\u001b[0;34m(system, symbols, result, known_symbols, exclude, all_symbols)\u001b[0m\n\u001b[1;32m   3409\u001b[0m     \u001b[0;31m# end def _solve_using_know_values()\u001b[0m\u001b[0;34m\u001b[0m\u001b[0;34m\u001b[0m\u001b[0m\n\u001b[1;32m   3410\u001b[0m \u001b[0;34m\u001b[0m\u001b[0m\n\u001b[0;32m-> 3411\u001b[0;31m     new_result_real, solve_call1, cnd_call1 = _solve_using_known_values(\n\u001b[0m\u001b[1;32m   3412\u001b[0m         old_result, solveset_real)\n\u001b[1;32m   3413\u001b[0m     new_result_complex, solve_call2, cnd_call2 = _solve_using_known_values(\n",
      "\u001b[0;32m/usr/local/lib/python3.9/site-packages/sympy/solvers/solveset.py\u001b[0m in \u001b[0;36m_solve_using_known_values\u001b[0;34m(result, solver)\u001b[0m\n\u001b[1;32m   3399\u001b[0m                             \u001b[0;31m# deleting the `res` (a soln) since it staisfies\u001b[0m\u001b[0;34m\u001b[0m\u001b[0;34m\u001b[0m\u001b[0m\n\u001b[1;32m   3400\u001b[0m                             \u001b[0;31m# eq of `exclude` list\u001b[0m\u001b[0;34m\u001b[0m\u001b[0;34m\u001b[0m\u001b[0m\n\u001b[0;32m-> 3401\u001b[0;31m                             \u001b[0mresult\u001b[0m\u001b[0;34m.\u001b[0m\u001b[0mremove\u001b[0m\u001b[0;34m(\u001b[0m\u001b[0mres\u001b[0m\u001b[0;34m)\u001b[0m\u001b[0;34m\u001b[0m\u001b[0;34m\u001b[0m\u001b[0m\n\u001b[0m\u001b[1;32m   3402\u001b[0m                     \u001b[0;31m# solution got for sym\u001b[0m\u001b[0;34m\u001b[0m\u001b[0;34m\u001b[0m\u001b[0m\n\u001b[1;32m   3403\u001b[0m                     \u001b[0;32mif\u001b[0m \u001b[0;32mnot\u001b[0m \u001b[0mnot_solvable\u001b[0m\u001b[0;34m:\u001b[0m\u001b[0;34m\u001b[0m\u001b[0;34m\u001b[0m\u001b[0m\n",
      "\u001b[0;31mValueError\u001b[0m: list.remove(x): x not in list"
     ]
    }
   ],
   "source": [
    "# Decision variables\n",
    "x1, x2 = e_b, e_s\n",
    "\n",
    "# Constraints\n",
    "g = [\n",
    "    expBound['b'],\n",
    "    expBound['s'],\n",
    "    maxSpotBound['b'],\n",
    "    minAmntBound['b'],\n",
    "    maxAmntBound['b'],\n",
    "    minAmntBound['s'],\n",
    "    maxAmntBound['s'],\n",
    "    a0Bound,\n",
    "] \n",
    "\n",
    "# Lagrange multipliers for m constraints\n",
    "lambdas = symbols('lambda1:{}'.format(len(g)+1), nonnegative=True)\n",
    "\n",
    "# Objective function\n",
    "f = effByExps\n",
    "\n",
    "# Lagrangian\n",
    "L = f + sum([lambdas[i] * g[i] for i in range(len(g))])\n",
    "if simp:\n",
    "    L = simplify(L)\n",
    "\n",
    "# Differentiate Lagrangian with respect to decision variables\n",
    "dL_dx1 = L.diff(x1)\n",
    "dL_dx2 = L.diff(x2)\n",
    "if simp:\n",
    "    dL_dx1 = simplify(dL_dx1)\n",
    "    dL_dx2 = simplify(dL_dx2)\n",
    "\n",
    "# Equations from stationarity\n",
    "equations = [Eq(dL_dx1, 0), Eq(dL_dx2, 0)]\n",
    "\n",
    "# Complementary slackness conditions\n",
    "for i in range(len(g)):\n",
    "    equations.append(Eq(lambdas[i] * g[i], 0))\n",
    "\n",
    "# Solve\n",
    "solutions = nonlinsolve(equations, [x1, x2] + list(lambdas))\n",
    "solutions"
   ]
  }
 ],
 "metadata": {
  "kernelspec": {
   "display_name": "Python 3",
   "language": "python",
   "name": "python3"
  },
  "language_info": {
   "codemirror_mode": {
    "name": "ipython",
    "version": 3
   },
   "file_extension": ".py",
   "mimetype": "text/x-python",
   "name": "python",
   "nbconvert_exporter": "python",
   "pygments_lexer": "ipython3",
   "version": "3.9.16"
  }
 },
 "nbformat": 4,
 "nbformat_minor": 2
}
