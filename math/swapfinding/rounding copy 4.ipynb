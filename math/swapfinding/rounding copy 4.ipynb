{
 "cells": [
  {
   "cell_type": "code",
   "execution_count": 813,
   "metadata": {},
   "outputs": [],
   "source": [
    "import plotly.express as px\n",
    "import pandas as pd\n",
    "import math"
   ]
  },
  {
   "cell_type": "code",
   "execution_count": 814,
   "metadata": {},
   "outputs": [],
   "source": [
    "m_b = 13749406785310970541622913505711040449564178320493809360964963201\n",
    "m_s = 10000000000000000000000000000000000000000000000000000000000000000\n",
    "min_delta_b = 1410\n",
    "min_delta_s = 3662\n",
    "max_delta_b = 8495\n",
    "max_delta_s = 3749\n",
    "slopes = [\n",
    "[ # n = 0 calculating stepSize(1)\n",
    "        (2726, 3749, 1.3752751283932503),\n",
    "        (2726, 3749, 1.3752751283932503),\n",
    "        (2725, 3747, 1.375045871559633),\n",
    "        (2724, 3746, 1.3751835535976504),\n",
    "        (2723, 3744, 1.3749540947484393),\n",
    "], # -> 2723n 3744n 1.3749540947484393\n",
    "[ # n = 1 end of slope\n",
    "        (2726, 3749, 1.3752751283932503),\n",
    "        (2723, 3744, 1.3749540947484393),\n",
    "        (2720, 3741, 1.3753676470588236),\n",
    "], # -> 2723n 3744n 1.3749540947484393\n",
    "[ # n = 0 found stepSize(1) before\n",
    "        (2722, 3743, 1.3750918442321822),\n",
    "        (2722, 3743, 1.3750918442321822),\n",
    "        (2721, 3742, 1.3752296949650864),\n",
    "        (2720, 3740, 1.375),\n",
    "], # -> 2720n 3740n 1.375\n",
    "[ # n = 1 end of slope\n",
    "        (2722, 3743, 1.3750918442321822),\n",
    "        (2720, 3740, 1.375),\n",
    "        (2717, 3737, 1.3754140596245858),\n",
    "], # -> 2720n 3740n 1.375\n",
    "[ # n = 2 end of slope\n",
    "        (2726, 3749, 1.3752751283932503),\n",
    "        (2723, 3744, 1.3749540947484393),\n",
    "        (2720, 3740, 1.375),\n",
    "        (2717, 3736, 1.375046006624954),\n",
    "        (2715, 3733, 1.3749539594843463),\n",
    "        (2712, 3729, 1.375),\n",
    "], # -> 2715n 3733n 1.3749539594843463\n",
    "[ # n = 0 found stepSize(1) before\n",
    "        (2714, 3732, 1.3750921149594695),\n",
    "        (2714, 3732, 1.3750921149594695),\n",
    "        (2713, 3731, 1.375230372281607),\n",
    "        (2712, 3729, 1.375),\n",
    "], # -> 2712n 3729n 1.375\n",
    "[ # n = 1 end of slope\n",
    "        (2714, 3732, 1.3750921149594695),\n",
    "        (2712, 3729, 1.375),\n",
    "        (2709, 3726, 1.3754152823920265),\n",
    "], # -> 2712n 3729n 1.375\n",
    "[ # n = 2 end of slope\n",
    "        (2714, 3732, 1.3750921149594695),\n",
    "        (2712, 3729, 1.375),\n",
    "        (2709, 3725, 1.375046142488003),\n",
    "], # -> 2712n 3729n 1.375\n",
    "[ # n = 3 end of slope\n",
    "        (2726, 3749, 1.3752751283932503),\n",
    "        (2715, 3733, 1.3749539594843463),\n",
    "        (2712, 3729, 1.375),\n",
    "        (2709, 3725, 1.375046142488003),\n",
    "        (2707, 3722, 1.374953823420761),\n",
    "        (2704, 3718, 1.375),\n",
    "], # -> 2707n 3722n 1.374953823420761\n",
    "[ # n = 0 found stepSize(1) before\n",
    "        (2706, 3721, 1.3750923872875092),\n",
    "        (2706, 3721, 1.3750923872875092),\n",
    "        (2705, 3720, 1.3752310536044363),\n",
    "        (2704, 3718, 1.375),\n",
    "], # -> 2704n 3718n 1.375\n",
    "[ # n = 1 end of slope\n",
    "        (2706, 3721, 1.3750923872875092),\n",
    "        (2704, 3718, 1.375),\n",
    "        (2701, 3715, 1.3754165124028137),\n",
    "], # -> 2704n 3718n 1.375\n",
    "[ # n = 2 end of slope\n",
    "        (2706, 3721, 1.3750923872875092),\n",
    "        (2704, 3718, 1.375),\n",
    "        (2701, 3714, 1.3750462791558682),\n",
    "], # -> 2704n 3718n 1.375\n",
    "[ # n = 3 end of slope\n",
    "        (2706, 3721, 1.3750923872875092),\n",
    "        (2704, 3718, 1.375),\n",
    "        (2701, 3714, 1.3750462791558682),\n",
    "], # -> 2704n 3718n 1.375\n",
    "[ # n = 4 end of slope\n",
    "        (2726, 3749, 1.3752751283932503),\n",
    "        (2707, 3722, 1.374953823420761),\n",
    "        (2704, 3718, 1.375),\n",
    "        (2701, 3714, 1.3750462791558682),\n",
    "        (2699, 3711, 1.3749536865505743),\n",
    "        (2696, 3707, 1.375),\n",
    "], # -> 2699n 3711n 1.3749536865505743\n",
    "[ # n = 0 found stepSize(1) before\n",
    "        (2698, 3710, 1.3750926612305412),\n",
    "        (2698, 3710, 1.3750926612305412),\n",
    "        (2697, 3709, 1.375231738969225),\n",
    "        (2696, 3707, 1.375),\n",
    "], # -> 2696n 3707n 1.375\n",
    "[ # n = 1 end of slope\n",
    "        (2698, 3710, 1.3750926612305412),\n",
    "        (2696, 3707, 1.375),\n",
    "        (2693, 3704, 1.3754177497215),\n",
    "], # -> 2696n 3707n 1.375\n",
    "[ # n = 2 end of slope\n",
    "        (2698, 3710, 1.3750926612305412),\n",
    "        (2696, 3707, 1.375),\n",
    "        (2693, 3703, 1.3750464166357221),\n",
    "], # -> 2696n 3707n 1.375\n",
    "[ # n = 3 end of slope\n",
    "        (2698, 3710, 1.3750926612305412),\n",
    "        (2696, 3707, 1.375),\n",
    "        (2693, 3703, 1.3750464166357221),\n",
    "], # -> 2696n 3707n 1.375\n",
    "[ # n = 4 end of slope\n",
    "        (2698, 3710, 1.3750926612305412),\n",
    "        (2696, 3707, 1.375),\n",
    "        (2693, 3703, 1.3750464166357221),\n",
    "], # -> 2696n 3707n 1.375\n",
    "[ # n = 5 end of slope\n",
    "        (2726, 3749, 1.3752751283932503),\n",
    "        (2699, 3711, 1.3749536865505743),\n",
    "        (2696, 3707, 1.375),\n",
    "        (2693, 3703, 1.3750464166357221),\n",
    "        (2691, 3700, 1.3749535488665923),\n",
    "        (2688, 3696, 1.375),\n",
    "], # -> 2691n 3700n 1.3749535488665923\n",
    "]"
   ]
  },
  {
   "cell_type": "code",
   "execution_count": 815,
   "metadata": {},
   "outputs": [],
   "source": [
    "perfect = []\n",
    "best_imperfect = []\n",
    "other_imperfect = []\n",
    "delta_b_too_low = []\n",
    "suboptimal_delta_b = []\n",
    "prev_delta_b = None\n",
    "best_imperfect_price = None\n",
    "best_imperfect_interval = []\n",
    "for delta_s in range(min_delta_s, max_delta_s + 1):\n",
    "    delta_b = math.floor(delta_s * m_s / m_b)\n",
    "    if (delta_b == 0):\n",
    "        print(\"delta_b == 0 for\", delta_s)\n",
    "        continue\n",
    "    price = delta_s / delta_b\n",
    "    if (delta_b > max_delta_b):\n",
    "        delta_b = max_delta_b\n",
    "    if (delta_b < min_delta_b):\n",
    "        delta_b_too_low.append((delta_b, delta_s, price))\n",
    "        continue\n",
    "    if (delta_b == prev_delta_b):\n",
    "        suboptimal_delta_b.append((delta_b, delta_s, price))\n",
    "        continue\n",
    "    prev_delta_b = delta_b\n",
    "    if delta_b * m_b == delta_s * m_s:\n",
    "      perfect.append((delta_b, delta_s, price))\n",
    "      best_imperfect += best_imperfect_interval\n",
    "      best_imperfect_price = None\n",
    "      best_imperfect_interval = []\n",
    "    elif (best_imperfect_price is None):\n",
    "      best_imperfect_price = price\n",
    "      best_imperfect_interval.append((delta_b, delta_s, price))\n",
    "    elif (price == best_imperfect_price):\n",
    "      best_imperfect_interval.append((delta_b, delta_s, price))\n",
    "    elif (price < best_imperfect_price):\n",
    "      best_imperfect_price = price\n",
    "      other_imperfect += best_imperfect_interval\n",
    "      best_imperfect_interval = [(delta_b, delta_s, price)]\n",
    "    else:\n",
    "      other_imperfect.append((delta_b, delta_s, price))\n",
    "    if (delta_b == max_delta_b):\n",
    "        break\n",
    "    \n",
    "best_imperfect += best_imperfect_interval"
   ]
  },
  {
   "cell_type": "code",
   "execution_count": 816,
   "metadata": {},
   "outputs": [
    {
     "data": {
      "application/vnd.plotly.v1+json": {
       "config": {
        "plotlyServerURL": "https://plot.ly"
       },
       "data": [
        {
         "customdata": [
          [
           2664
          ],
          [
           2667
          ],
          [
           2669
          ],
          [
           2672
          ],
          [
           2675
          ],
          [
           2677
          ],
          [
           2680
          ],
          [
           2683
          ],
          [
           2685
          ],
          [
           2688
          ],
          [
           2691
          ],
          [
           2693
          ],
          [
           2696
          ],
          [
           2699
          ],
          [
           2701
          ],
          [
           2704
          ],
          [
           2707
          ],
          [
           2709
          ],
          [
           2712
          ],
          [
           2715
          ],
          [
           2717
          ],
          [
           2720
          ],
          [
           2723
          ],
          [
           2725
          ]
         ],
         "hovertemplate": "Series=subopt<br>delta_s=%{x}<br>price=%{y}<br>delta_b=%{customdata[0]}<extra></extra>",
         "legendgroup": "subopt",
         "marker": {
          "color": "#636efa",
          "line": {
           "width": 0
          },
          "symbol": "circle"
         },
         "mode": "markers",
         "name": "subopt",
         "orientation": "v",
         "showlegend": true,
         "type": "scatter",
         "x": [
          3664,
          3668,
          3671,
          3675,
          3679,
          3682,
          3686,
          3690,
          3693,
          3697,
          3701,
          3704,
          3708,
          3712,
          3715,
          3719,
          3723,
          3726,
          3730,
          3734,
          3737,
          3741,
          3745,
          3748
         ],
         "xaxis": "x",
         "y": [
          1.3753753753753755,
          1.3753280839895012,
          1.3754215061820907,
          1.375374251497006,
          1.3753271028037384,
          1.3754202465446395,
          1.3753731343283582,
          1.3753261274692508,
          1.3754189944134079,
          1.3753720238095237,
          1.3753251579338537,
          1.3754177497215,
          1.3753709198813056,
          1.37532419414598,
          1.3754165124028137,
          1.3753698224852071,
          1.375323236054673,
          1.3754152823920265,
          1.3753687315634218,
          1.3753222836095764,
          1.3754140596245858,
          1.3753676470588236,
          1.3753213367609254,
          1.3754128440366973
         ],
         "yaxis": "y"
        },
        {
         "customdata": [
          [
           2663
          ],
          [
           2665
          ],
          [
           2666
          ],
          [
           2664
          ],
          [
           2668
          ],
          [
           2669
          ],
          [
           2670
          ],
          [
           2671
          ],
          [
           2672
          ],
          [
           2673
          ],
          [
           2674
          ],
          [
           2675
          ],
          [
           2676
          ],
          [
           2677
          ],
          [
           2678
          ],
          [
           2679
          ],
          [
           2680
          ],
          [
           2681
          ],
          [
           2682
          ],
          [
           2683
          ],
          [
           2684
          ],
          [
           2685
          ],
          [
           2686
          ],
          [
           2687
          ],
          [
           2688
          ],
          [
           2689
          ],
          [
           2690
          ],
          [
           2691
          ],
          [
           2692
          ],
          [
           2693
          ],
          [
           2694
          ],
          [
           2695
          ],
          [
           2696
          ],
          [
           2697
          ],
          [
           2698
          ],
          [
           2699
          ],
          [
           2700
          ],
          [
           2701
          ],
          [
           2702
          ],
          [
           2703
          ],
          [
           2704
          ],
          [
           2705
          ],
          [
           2706
          ],
          [
           2707
          ],
          [
           2708
          ],
          [
           2709
          ],
          [
           2710
          ],
          [
           2711
          ],
          [
           2712
          ],
          [
           2713
          ],
          [
           2714
          ],
          [
           2715
          ],
          [
           2716
          ],
          [
           2717
          ],
          [
           2718
          ],
          [
           2719
          ],
          [
           2720
          ],
          [
           2721
          ],
          [
           2722
          ],
          [
           2723
          ],
          [
           2724
          ],
          [
           2725
          ],
          [
           2726
          ]
         ],
         "hovertemplate": "Series=other<br>delta_s=%{x}<br>price=%{y}<br>delta_b=%{customdata[0]}<extra></extra>",
         "legendgroup": "other",
         "marker": {
          "color": "#EF553B",
          "line": {
           "width": 0
          },
          "symbol": "circle"
         },
         "mode": "markers",
         "name": "other",
         "orientation": "v",
         "showlegend": true,
         "type": "scatter",
         "x": [
          3662,
          3665,
          3666,
          3663,
          3669,
          3670,
          3672,
          3673,
          3674,
          3676,
          3677,
          3678,
          3680,
          3681,
          3683,
          3684,
          3685,
          3687,
          3688,
          3689,
          3691,
          3692,
          3694,
          3695,
          3696,
          3698,
          3699,
          3700,
          3702,
          3703,
          3705,
          3706,
          3707,
          3709,
          3710,
          3711,
          3713,
          3714,
          3716,
          3717,
          3718,
          3720,
          3721,
          3722,
          3724,
          3725,
          3727,
          3728,
          3729,
          3731,
          3732,
          3733,
          3735,
          3736,
          3738,
          3739,
          3740,
          3742,
          3743,
          3744,
          3746,
          3747,
          3749
         ],
         "xaxis": "x",
         "y": [
          1.3751408186256102,
          1.375234521575985,
          1.3750937734433608,
          1.375,
          1.3751874062968517,
          1.3750468340202322,
          1.3752808988764045,
          1.3751403968551104,
          1.375,
          1.375233819678264,
          1.37509349289454,
          1.3749532710280374,
          1.3751868460388639,
          1.3750466940605155,
          1.3752800597460793,
          1.3751399776035835,
          1.375,
          1.3752331219694145,
          1.3750932140193886,
          1.3749534103615355,
          1.3751862891207154,
          1.3750465549348232,
          1.3752792256142963,
          1.37513956084853,
          1.375,
          1.3752324284120492,
          1.375092936802974,
          1.3749535488665923,
          1.37518573551263,
          1.3750464166357221,
          1.3752783964365256,
          1.375139146567718,
          1.375,
          1.375231738969225,
          1.3750926612305412,
          1.3749536865505743,
          1.3751851851851853,
          1.3750462791558682,
          1.3752775721687638,
          1.3751387347391786,
          1.375,
          1.3752310536044363,
          1.3750923872875092,
          1.374953823420761,
          1.3751846381093058,
          1.375046142488003,
          1.3752767527675276,
          1.3751383253412026,
          1.375,
          1.375230372281607,
          1.3750921149594695,
          1.3749539594843463,
          1.3751840942562592,
          1.375046006624954,
          1.3752759381898454,
          1.3751379183523353,
          1.375,
          1.3752296949650864,
          1.3750918442321822,
          1.3749540947484393,
          1.3751835535976504,
          1.375045871559633,
          1.3752751283932503
         ],
         "yaxis": "y"
        },
        {
         "customdata": [
          [
           2667
          ]
         ],
         "hovertemplate": "Series=best<br>delta_s=%{x}<br>price=%{y}<br>delta_b=%{customdata[0]}<extra></extra>",
         "legendgroup": "best",
         "marker": {
          "color": "#00cc96",
          "line": {
           "width": 0
          },
          "symbol": "circle"
         },
         "mode": "markers",
         "name": "best",
         "orientation": "v",
         "showlegend": true,
         "type": "scatter",
         "x": [
          3667
         ],
         "xaxis": "x",
         "y": [
          1.3749531308586427
         ],
         "yaxis": "y"
        },
        {
         "hovertemplate": "Series=slope1<br>delta_s=%{x}<br>price=%{y}<extra></extra>",
         "legendgroup": "slope1",
         "line": {
          "color": "#636efa",
          "dash": "solid"
         },
         "marker": {
          "line": {
           "width": 0
          },
          "symbol": "circle"
         },
         "mode": "lines",
         "name": "slope1",
         "orientation": "v",
         "showlegend": true,
         "type": "scatter",
         "x": [
          3749,
          3749,
          3747,
          3746,
          3744
         ],
         "xaxis": "x",
         "y": [
          1.3752751283932503,
          1.3752751283932503,
          1.375045871559633,
          1.3751835535976504,
          1.3749540947484393
         ],
         "yaxis": "y"
        },
        {
         "hovertemplate": "Series=slope2<br>delta_s=%{x}<br>price=%{y}<extra></extra>",
         "legendgroup": "slope2",
         "line": {
          "color": "#EF553B",
          "dash": "solid"
         },
         "marker": {
          "line": {
           "width": 0
          },
          "symbol": "circle"
         },
         "mode": "lines",
         "name": "slope2",
         "orientation": "v",
         "showlegend": true,
         "type": "scatter",
         "x": [
          3749,
          3744,
          3741
         ],
         "xaxis": "x",
         "y": [
          1.3752751283932503,
          1.3749540947484393,
          1.3753676470588236
         ],
         "yaxis": "y"
        },
        {
         "hovertemplate": "Series=slope3<br>delta_s=%{x}<br>price=%{y}<extra></extra>",
         "legendgroup": "slope3",
         "line": {
          "color": "#00cc96",
          "dash": "solid"
         },
         "marker": {
          "line": {
           "width": 0
          },
          "symbol": "circle"
         },
         "mode": "lines",
         "name": "slope3",
         "orientation": "v",
         "showlegend": true,
         "type": "scatter",
         "x": [
          3743,
          3743,
          3742,
          3740
         ],
         "xaxis": "x",
         "y": [
          1.3750918442321822,
          1.3750918442321822,
          1.3752296949650864,
          1.375
         ],
         "yaxis": "y"
        },
        {
         "hovertemplate": "Series=slope4<br>delta_s=%{x}<br>price=%{y}<extra></extra>",
         "legendgroup": "slope4",
         "line": {
          "color": "#ab63fa",
          "dash": "solid"
         },
         "marker": {
          "line": {
           "width": 0
          },
          "symbol": "circle"
         },
         "mode": "lines",
         "name": "slope4",
         "orientation": "v",
         "showlegend": true,
         "type": "scatter",
         "x": [
          3743,
          3740,
          3737
         ],
         "xaxis": "x",
         "y": [
          1.3750918442321822,
          1.375,
          1.3754140596245858
         ],
         "yaxis": "y"
        },
        {
         "hovertemplate": "Series=slope5<br>delta_s=%{x}<br>price=%{y}<extra></extra>",
         "legendgroup": "slope5",
         "line": {
          "color": "#FFA15A",
          "dash": "solid"
         },
         "marker": {
          "line": {
           "width": 0
          },
          "symbol": "circle"
         },
         "mode": "lines",
         "name": "slope5",
         "orientation": "v",
         "showlegend": true,
         "type": "scatter",
         "x": [
          3749,
          3744,
          3740,
          3736,
          3733,
          3729
         ],
         "xaxis": "x",
         "y": [
          1.3752751283932503,
          1.3749540947484393,
          1.375,
          1.375046006624954,
          1.3749539594843463,
          1.375
         ],
         "yaxis": "y"
        },
        {
         "hovertemplate": "Series=slope6<br>delta_s=%{x}<br>price=%{y}<extra></extra>",
         "legendgroup": "slope6",
         "line": {
          "color": "#19d3f3",
          "dash": "solid"
         },
         "marker": {
          "line": {
           "width": 0
          },
          "symbol": "circle"
         },
         "mode": "lines",
         "name": "slope6",
         "orientation": "v",
         "showlegend": true,
         "type": "scatter",
         "x": [
          3732,
          3732,
          3731,
          3729
         ],
         "xaxis": "x",
         "y": [
          1.3750921149594695,
          1.3750921149594695,
          1.375230372281607,
          1.375
         ],
         "yaxis": "y"
        },
        {
         "hovertemplate": "Series=slope7<br>delta_s=%{x}<br>price=%{y}<extra></extra>",
         "legendgroup": "slope7",
         "line": {
          "color": "#FF6692",
          "dash": "solid"
         },
         "marker": {
          "line": {
           "width": 0
          },
          "symbol": "circle"
         },
         "mode": "lines",
         "name": "slope7",
         "orientation": "v",
         "showlegend": true,
         "type": "scatter",
         "x": [
          3732,
          3729,
          3726
         ],
         "xaxis": "x",
         "y": [
          1.3750921149594695,
          1.375,
          1.3754152823920265
         ],
         "yaxis": "y"
        },
        {
         "hovertemplate": "Series=slope8<br>delta_s=%{x}<br>price=%{y}<extra></extra>",
         "legendgroup": "slope8",
         "line": {
          "color": "#B6E880",
          "dash": "solid"
         },
         "marker": {
          "line": {
           "width": 0
          },
          "symbol": "circle"
         },
         "mode": "lines",
         "name": "slope8",
         "orientation": "v",
         "showlegend": true,
         "type": "scatter",
         "x": [
          3732,
          3729,
          3725
         ],
         "xaxis": "x",
         "y": [
          1.3750921149594695,
          1.375,
          1.375046142488003
         ],
         "yaxis": "y"
        },
        {
         "hovertemplate": "Series=slope9<br>delta_s=%{x}<br>price=%{y}<extra></extra>",
         "legendgroup": "slope9",
         "line": {
          "color": "#FF97FF",
          "dash": "solid"
         },
         "marker": {
          "line": {
           "width": 0
          },
          "symbol": "circle"
         },
         "mode": "lines",
         "name": "slope9",
         "orientation": "v",
         "showlegend": true,
         "type": "scatter",
         "x": [
          3749,
          3733,
          3729,
          3725,
          3722,
          3718
         ],
         "xaxis": "x",
         "y": [
          1.3752751283932503,
          1.3749539594843463,
          1.375,
          1.375046142488003,
          1.374953823420761,
          1.375
         ],
         "yaxis": "y"
        },
        {
         "hovertemplate": "Series=slope10<br>delta_s=%{x}<br>price=%{y}<extra></extra>",
         "legendgroup": "slope10",
         "line": {
          "color": "#FECB52",
          "dash": "solid"
         },
         "marker": {
          "line": {
           "width": 0
          },
          "symbol": "circle"
         },
         "mode": "lines",
         "name": "slope10",
         "orientation": "v",
         "showlegend": true,
         "type": "scatter",
         "x": [
          3721,
          3721,
          3720,
          3718
         ],
         "xaxis": "x",
         "y": [
          1.3750923872875092,
          1.3750923872875092,
          1.3752310536044363,
          1.375
         ],
         "yaxis": "y"
        },
        {
         "hovertemplate": "Series=slope11<br>delta_s=%{x}<br>price=%{y}<extra></extra>",
         "legendgroup": "slope11",
         "line": {
          "color": "#636efa",
          "dash": "solid"
         },
         "marker": {
          "line": {
           "width": 0
          },
          "symbol": "circle"
         },
         "mode": "lines",
         "name": "slope11",
         "orientation": "v",
         "showlegend": true,
         "type": "scatter",
         "x": [
          3721,
          3718,
          3715
         ],
         "xaxis": "x",
         "y": [
          1.3750923872875092,
          1.375,
          1.3754165124028137
         ],
         "yaxis": "y"
        },
        {
         "hovertemplate": "Series=slope12<br>delta_s=%{x}<br>price=%{y}<extra></extra>",
         "legendgroup": "slope12",
         "line": {
          "color": "#EF553B",
          "dash": "solid"
         },
         "marker": {
          "line": {
           "width": 0
          },
          "symbol": "circle"
         },
         "mode": "lines",
         "name": "slope12",
         "orientation": "v",
         "showlegend": true,
         "type": "scatter",
         "x": [
          3721,
          3718,
          3714
         ],
         "xaxis": "x",
         "y": [
          1.3750923872875092,
          1.375,
          1.3750462791558682
         ],
         "yaxis": "y"
        },
        {
         "hovertemplate": "Series=slope13<br>delta_s=%{x}<br>price=%{y}<extra></extra>",
         "legendgroup": "slope13",
         "line": {
          "color": "#00cc96",
          "dash": "solid"
         },
         "marker": {
          "line": {
           "width": 0
          },
          "symbol": "circle"
         },
         "mode": "lines",
         "name": "slope13",
         "orientation": "v",
         "showlegend": true,
         "type": "scatter",
         "x": [
          3721,
          3718,
          3714
         ],
         "xaxis": "x",
         "y": [
          1.3750923872875092,
          1.375,
          1.3750462791558682
         ],
         "yaxis": "y"
        },
        {
         "hovertemplate": "Series=slope14<br>delta_s=%{x}<br>price=%{y}<extra></extra>",
         "legendgroup": "slope14",
         "line": {
          "color": "#ab63fa",
          "dash": "solid"
         },
         "marker": {
          "line": {
           "width": 0
          },
          "symbol": "circle"
         },
         "mode": "lines",
         "name": "slope14",
         "orientation": "v",
         "showlegend": true,
         "type": "scatter",
         "x": [
          3749,
          3722,
          3718,
          3714,
          3711,
          3707
         ],
         "xaxis": "x",
         "y": [
          1.3752751283932503,
          1.374953823420761,
          1.375,
          1.3750462791558682,
          1.3749536865505743,
          1.375
         ],
         "yaxis": "y"
        },
        {
         "hovertemplate": "Series=slope15<br>delta_s=%{x}<br>price=%{y}<extra></extra>",
         "legendgroup": "slope15",
         "line": {
          "color": "#FFA15A",
          "dash": "solid"
         },
         "marker": {
          "line": {
           "width": 0
          },
          "symbol": "circle"
         },
         "mode": "lines",
         "name": "slope15",
         "orientation": "v",
         "showlegend": true,
         "type": "scatter",
         "x": [
          3710,
          3710,
          3709,
          3707
         ],
         "xaxis": "x",
         "y": [
          1.3750926612305412,
          1.3750926612305412,
          1.375231738969225,
          1.375
         ],
         "yaxis": "y"
        },
        {
         "hovertemplate": "Series=slope16<br>delta_s=%{x}<br>price=%{y}<extra></extra>",
         "legendgroup": "slope16",
         "line": {
          "color": "#19d3f3",
          "dash": "solid"
         },
         "marker": {
          "line": {
           "width": 0
          },
          "symbol": "circle"
         },
         "mode": "lines",
         "name": "slope16",
         "orientation": "v",
         "showlegend": true,
         "type": "scatter",
         "x": [
          3710,
          3707,
          3704
         ],
         "xaxis": "x",
         "y": [
          1.3750926612305412,
          1.375,
          1.3754177497215
         ],
         "yaxis": "y"
        },
        {
         "hovertemplate": "Series=slope17<br>delta_s=%{x}<br>price=%{y}<extra></extra>",
         "legendgroup": "slope17",
         "line": {
          "color": "#FF6692",
          "dash": "solid"
         },
         "marker": {
          "line": {
           "width": 0
          },
          "symbol": "circle"
         },
         "mode": "lines",
         "name": "slope17",
         "orientation": "v",
         "showlegend": true,
         "type": "scatter",
         "x": [
          3710,
          3707,
          3703
         ],
         "xaxis": "x",
         "y": [
          1.3750926612305412,
          1.375,
          1.3750464166357221
         ],
         "yaxis": "y"
        },
        {
         "hovertemplate": "Series=slope18<br>delta_s=%{x}<br>price=%{y}<extra></extra>",
         "legendgroup": "slope18",
         "line": {
          "color": "#B6E880",
          "dash": "solid"
         },
         "marker": {
          "line": {
           "width": 0
          },
          "symbol": "circle"
         },
         "mode": "lines",
         "name": "slope18",
         "orientation": "v",
         "showlegend": true,
         "type": "scatter",
         "x": [
          3710,
          3707,
          3703
         ],
         "xaxis": "x",
         "y": [
          1.3750926612305412,
          1.375,
          1.3750464166357221
         ],
         "yaxis": "y"
        },
        {
         "hovertemplate": "Series=slope19<br>delta_s=%{x}<br>price=%{y}<extra></extra>",
         "legendgroup": "slope19",
         "line": {
          "color": "#FF97FF",
          "dash": "solid"
         },
         "marker": {
          "line": {
           "width": 0
          },
          "symbol": "circle"
         },
         "mode": "lines",
         "name": "slope19",
         "orientation": "v",
         "showlegend": true,
         "type": "scatter",
         "x": [
          3710,
          3707,
          3703
         ],
         "xaxis": "x",
         "y": [
          1.3750926612305412,
          1.375,
          1.3750464166357221
         ],
         "yaxis": "y"
        },
        {
         "hovertemplate": "Series=slope20<br>delta_s=%{x}<br>price=%{y}<extra></extra>",
         "legendgroup": "slope20",
         "line": {
          "color": "#FECB52",
          "dash": "solid"
         },
         "marker": {
          "line": {
           "width": 0
          },
          "symbol": "circle"
         },
         "mode": "lines",
         "name": "slope20",
         "orientation": "v",
         "showlegend": true,
         "type": "scatter",
         "x": [
          3749,
          3711,
          3707,
          3703,
          3700,
          3696
         ],
         "xaxis": "x",
         "y": [
          1.3752751283932503,
          1.3749536865505743,
          1.375,
          1.3750464166357221,
          1.3749535488665923,
          1.375
         ],
         "yaxis": "y"
        }
       ],
       "layout": {
        "font": {
         "color": "white"
        },
        "height": 1600,
        "legend": {
         "title": {
          "text": "Series"
         },
         "tracegroupgap": 0
        },
        "margin": {
         "t": 60
        },
        "paper_bgcolor": "rgb(17,17,17)",
        "plot_bgcolor": "rgb(17,17,17)",
        "template": {
         "data": {
          "bar": [
           {
            "error_x": {
             "color": "#2a3f5f"
            },
            "error_y": {
             "color": "#2a3f5f"
            },
            "marker": {
             "line": {
              "color": "#E5ECF6",
              "width": 0.5
             },
             "pattern": {
              "fillmode": "overlay",
              "size": 10,
              "solidity": 0.2
             }
            },
            "type": "bar"
           }
          ],
          "barpolar": [
           {
            "marker": {
             "line": {
              "color": "#E5ECF6",
              "width": 0.5
             },
             "pattern": {
              "fillmode": "overlay",
              "size": 10,
              "solidity": 0.2
             }
            },
            "type": "barpolar"
           }
          ],
          "carpet": [
           {
            "aaxis": {
             "endlinecolor": "#2a3f5f",
             "gridcolor": "white",
             "linecolor": "white",
             "minorgridcolor": "white",
             "startlinecolor": "#2a3f5f"
            },
            "baxis": {
             "endlinecolor": "#2a3f5f",
             "gridcolor": "white",
             "linecolor": "white",
             "minorgridcolor": "white",
             "startlinecolor": "#2a3f5f"
            },
            "type": "carpet"
           }
          ],
          "choropleth": [
           {
            "colorbar": {
             "outlinewidth": 0,
             "ticks": ""
            },
            "type": "choropleth"
           }
          ],
          "contour": [
           {
            "colorbar": {
             "outlinewidth": 0,
             "ticks": ""
            },
            "colorscale": [
             [
              0,
              "#0d0887"
             ],
             [
              0.1111111111111111,
              "#46039f"
             ],
             [
              0.2222222222222222,
              "#7201a8"
             ],
             [
              0.3333333333333333,
              "#9c179e"
             ],
             [
              0.4444444444444444,
              "#bd3786"
             ],
             [
              0.5555555555555556,
              "#d8576b"
             ],
             [
              0.6666666666666666,
              "#ed7953"
             ],
             [
              0.7777777777777778,
              "#fb9f3a"
             ],
             [
              0.8888888888888888,
              "#fdca26"
             ],
             [
              1,
              "#f0f921"
             ]
            ],
            "type": "contour"
           }
          ],
          "contourcarpet": [
           {
            "colorbar": {
             "outlinewidth": 0,
             "ticks": ""
            },
            "type": "contourcarpet"
           }
          ],
          "heatmap": [
           {
            "colorbar": {
             "outlinewidth": 0,
             "ticks": ""
            },
            "colorscale": [
             [
              0,
              "#0d0887"
             ],
             [
              0.1111111111111111,
              "#46039f"
             ],
             [
              0.2222222222222222,
              "#7201a8"
             ],
             [
              0.3333333333333333,
              "#9c179e"
             ],
             [
              0.4444444444444444,
              "#bd3786"
             ],
             [
              0.5555555555555556,
              "#d8576b"
             ],
             [
              0.6666666666666666,
              "#ed7953"
             ],
             [
              0.7777777777777778,
              "#fb9f3a"
             ],
             [
              0.8888888888888888,
              "#fdca26"
             ],
             [
              1,
              "#f0f921"
             ]
            ],
            "type": "heatmap"
           }
          ],
          "heatmapgl": [
           {
            "colorbar": {
             "outlinewidth": 0,
             "ticks": ""
            },
            "colorscale": [
             [
              0,
              "#0d0887"
             ],
             [
              0.1111111111111111,
              "#46039f"
             ],
             [
              0.2222222222222222,
              "#7201a8"
             ],
             [
              0.3333333333333333,
              "#9c179e"
             ],
             [
              0.4444444444444444,
              "#bd3786"
             ],
             [
              0.5555555555555556,
              "#d8576b"
             ],
             [
              0.6666666666666666,
              "#ed7953"
             ],
             [
              0.7777777777777778,
              "#fb9f3a"
             ],
             [
              0.8888888888888888,
              "#fdca26"
             ],
             [
              1,
              "#f0f921"
             ]
            ],
            "type": "heatmapgl"
           }
          ],
          "histogram": [
           {
            "marker": {
             "pattern": {
              "fillmode": "overlay",
              "size": 10,
              "solidity": 0.2
             }
            },
            "type": "histogram"
           }
          ],
          "histogram2d": [
           {
            "colorbar": {
             "outlinewidth": 0,
             "ticks": ""
            },
            "colorscale": [
             [
              0,
              "#0d0887"
             ],
             [
              0.1111111111111111,
              "#46039f"
             ],
             [
              0.2222222222222222,
              "#7201a8"
             ],
             [
              0.3333333333333333,
              "#9c179e"
             ],
             [
              0.4444444444444444,
              "#bd3786"
             ],
             [
              0.5555555555555556,
              "#d8576b"
             ],
             [
              0.6666666666666666,
              "#ed7953"
             ],
             [
              0.7777777777777778,
              "#fb9f3a"
             ],
             [
              0.8888888888888888,
              "#fdca26"
             ],
             [
              1,
              "#f0f921"
             ]
            ],
            "type": "histogram2d"
           }
          ],
          "histogram2dcontour": [
           {
            "colorbar": {
             "outlinewidth": 0,
             "ticks": ""
            },
            "colorscale": [
             [
              0,
              "#0d0887"
             ],
             [
              0.1111111111111111,
              "#46039f"
             ],
             [
              0.2222222222222222,
              "#7201a8"
             ],
             [
              0.3333333333333333,
              "#9c179e"
             ],
             [
              0.4444444444444444,
              "#bd3786"
             ],
             [
              0.5555555555555556,
              "#d8576b"
             ],
             [
              0.6666666666666666,
              "#ed7953"
             ],
             [
              0.7777777777777778,
              "#fb9f3a"
             ],
             [
              0.8888888888888888,
              "#fdca26"
             ],
             [
              1,
              "#f0f921"
             ]
            ],
            "type": "histogram2dcontour"
           }
          ],
          "mesh3d": [
           {
            "colorbar": {
             "outlinewidth": 0,
             "ticks": ""
            },
            "type": "mesh3d"
           }
          ],
          "parcoords": [
           {
            "line": {
             "colorbar": {
              "outlinewidth": 0,
              "ticks": ""
             }
            },
            "type": "parcoords"
           }
          ],
          "pie": [
           {
            "automargin": true,
            "type": "pie"
           }
          ],
          "scatter": [
           {
            "fillpattern": {
             "fillmode": "overlay",
             "size": 10,
             "solidity": 0.2
            },
            "type": "scatter"
           }
          ],
          "scatter3d": [
           {
            "line": {
             "colorbar": {
              "outlinewidth": 0,
              "ticks": ""
             }
            },
            "marker": {
             "colorbar": {
              "outlinewidth": 0,
              "ticks": ""
             }
            },
            "type": "scatter3d"
           }
          ],
          "scattercarpet": [
           {
            "marker": {
             "colorbar": {
              "outlinewidth": 0,
              "ticks": ""
             }
            },
            "type": "scattercarpet"
           }
          ],
          "scattergeo": [
           {
            "marker": {
             "colorbar": {
              "outlinewidth": 0,
              "ticks": ""
             }
            },
            "type": "scattergeo"
           }
          ],
          "scattergl": [
           {
            "marker": {
             "colorbar": {
              "outlinewidth": 0,
              "ticks": ""
             }
            },
            "type": "scattergl"
           }
          ],
          "scattermapbox": [
           {
            "marker": {
             "colorbar": {
              "outlinewidth": 0,
              "ticks": ""
             }
            },
            "type": "scattermapbox"
           }
          ],
          "scatterpolar": [
           {
            "marker": {
             "colorbar": {
              "outlinewidth": 0,
              "ticks": ""
             }
            },
            "type": "scatterpolar"
           }
          ],
          "scatterpolargl": [
           {
            "marker": {
             "colorbar": {
              "outlinewidth": 0,
              "ticks": ""
             }
            },
            "type": "scatterpolargl"
           }
          ],
          "scatterternary": [
           {
            "marker": {
             "colorbar": {
              "outlinewidth": 0,
              "ticks": ""
             }
            },
            "type": "scatterternary"
           }
          ],
          "surface": [
           {
            "colorbar": {
             "outlinewidth": 0,
             "ticks": ""
            },
            "colorscale": [
             [
              0,
              "#0d0887"
             ],
             [
              0.1111111111111111,
              "#46039f"
             ],
             [
              0.2222222222222222,
              "#7201a8"
             ],
             [
              0.3333333333333333,
              "#9c179e"
             ],
             [
              0.4444444444444444,
              "#bd3786"
             ],
             [
              0.5555555555555556,
              "#d8576b"
             ],
             [
              0.6666666666666666,
              "#ed7953"
             ],
             [
              0.7777777777777778,
              "#fb9f3a"
             ],
             [
              0.8888888888888888,
              "#fdca26"
             ],
             [
              1,
              "#f0f921"
             ]
            ],
            "type": "surface"
           }
          ],
          "table": [
           {
            "cells": {
             "fill": {
              "color": "#EBF0F8"
             },
             "line": {
              "color": "white"
             }
            },
            "header": {
             "fill": {
              "color": "#C8D4E3"
             },
             "line": {
              "color": "white"
             }
            },
            "type": "table"
           }
          ]
         },
         "layout": {
          "annotationdefaults": {
           "arrowcolor": "#2a3f5f",
           "arrowhead": 0,
           "arrowwidth": 1
          },
          "autotypenumbers": "strict",
          "coloraxis": {
           "colorbar": {
            "outlinewidth": 0,
            "ticks": ""
           }
          },
          "colorscale": {
           "diverging": [
            [
             0,
             "#8e0152"
            ],
            [
             0.1,
             "#c51b7d"
            ],
            [
             0.2,
             "#de77ae"
            ],
            [
             0.3,
             "#f1b6da"
            ],
            [
             0.4,
             "#fde0ef"
            ],
            [
             0.5,
             "#f7f7f7"
            ],
            [
             0.6,
             "#e6f5d0"
            ],
            [
             0.7,
             "#b8e186"
            ],
            [
             0.8,
             "#7fbc41"
            ],
            [
             0.9,
             "#4d9221"
            ],
            [
             1,
             "#276419"
            ]
           ],
           "sequential": [
            [
             0,
             "#0d0887"
            ],
            [
             0.1111111111111111,
             "#46039f"
            ],
            [
             0.2222222222222222,
             "#7201a8"
            ],
            [
             0.3333333333333333,
             "#9c179e"
            ],
            [
             0.4444444444444444,
             "#bd3786"
            ],
            [
             0.5555555555555556,
             "#d8576b"
            ],
            [
             0.6666666666666666,
             "#ed7953"
            ],
            [
             0.7777777777777778,
             "#fb9f3a"
            ],
            [
             0.8888888888888888,
             "#fdca26"
            ],
            [
             1,
             "#f0f921"
            ]
           ],
           "sequentialminus": [
            [
             0,
             "#0d0887"
            ],
            [
             0.1111111111111111,
             "#46039f"
            ],
            [
             0.2222222222222222,
             "#7201a8"
            ],
            [
             0.3333333333333333,
             "#9c179e"
            ],
            [
             0.4444444444444444,
             "#bd3786"
            ],
            [
             0.5555555555555556,
             "#d8576b"
            ],
            [
             0.6666666666666666,
             "#ed7953"
            ],
            [
             0.7777777777777778,
             "#fb9f3a"
            ],
            [
             0.8888888888888888,
             "#fdca26"
            ],
            [
             1,
             "#f0f921"
            ]
           ]
          },
          "colorway": [
           "#636efa",
           "#EF553B",
           "#00cc96",
           "#ab63fa",
           "#FFA15A",
           "#19d3f3",
           "#FF6692",
           "#B6E880",
           "#FF97FF",
           "#FECB52"
          ],
          "font": {
           "color": "#2a3f5f"
          },
          "geo": {
           "bgcolor": "white",
           "lakecolor": "white",
           "landcolor": "#E5ECF6",
           "showlakes": true,
           "showland": true,
           "subunitcolor": "white"
          },
          "hoverlabel": {
           "align": "left"
          },
          "hovermode": "closest",
          "mapbox": {
           "style": "light"
          },
          "paper_bgcolor": "white",
          "plot_bgcolor": "#E5ECF6",
          "polar": {
           "angularaxis": {
            "gridcolor": "white",
            "linecolor": "white",
            "ticks": ""
           },
           "bgcolor": "#E5ECF6",
           "radialaxis": {
            "gridcolor": "white",
            "linecolor": "white",
            "ticks": ""
           }
          },
          "scene": {
           "xaxis": {
            "backgroundcolor": "#E5ECF6",
            "gridcolor": "white",
            "gridwidth": 2,
            "linecolor": "white",
            "showbackground": true,
            "ticks": "",
            "zerolinecolor": "white"
           },
           "yaxis": {
            "backgroundcolor": "#E5ECF6",
            "gridcolor": "white",
            "gridwidth": 2,
            "linecolor": "white",
            "showbackground": true,
            "ticks": "",
            "zerolinecolor": "white"
           },
           "zaxis": {
            "backgroundcolor": "#E5ECF6",
            "gridcolor": "white",
            "gridwidth": 2,
            "linecolor": "white",
            "showbackground": true,
            "ticks": "",
            "zerolinecolor": "white"
           }
          },
          "shapedefaults": {
           "line": {
            "color": "#2a3f5f"
           }
          },
          "ternary": {
           "aaxis": {
            "gridcolor": "white",
            "linecolor": "white",
            "ticks": ""
           },
           "baxis": {
            "gridcolor": "white",
            "linecolor": "white",
            "ticks": ""
           },
           "bgcolor": "#E5ECF6",
           "caxis": {
            "gridcolor": "white",
            "linecolor": "white",
            "ticks": ""
           }
          },
          "title": {
           "x": 0.05
          },
          "xaxis": {
           "automargin": true,
           "gridcolor": "white",
           "linecolor": "white",
           "ticks": "",
           "title": {
            "standoff": 15
           },
           "zerolinecolor": "white",
           "zerolinewidth": 2
          },
          "yaxis": {
           "automargin": true,
           "gridcolor": "white",
           "linecolor": "white",
           "ticks": "",
           "title": {
            "standoff": 15
           },
           "zerolinecolor": "white",
           "zerolinewidth": 2
          }
         }
        },
        "title": {
         "text": "effective price by delta selling"
        },
        "xaxis": {
         "anchor": "y",
         "domain": [
          0,
          1
         ],
         "gridcolor": "rgb(80,80,80)",
         "title": {
          "text": "Delta_s"
         }
        },
        "yaxis": {
         "anchor": "x",
         "domain": [
          0,
          1
         ],
         "gridcolor": "rgb(80,80,80)",
         "title": {
          "text": "Price"
         }
        }
       }
      }
     },
     "metadata": {},
     "output_type": "display_data"
    }
   ],
   "source": [
    "# Convert your data lists to Pandas DataFrames for easier handling\n",
    "df1 = pd.DataFrame(perfect, columns=['delta_b', 'delta_s', 'price'])\n",
    "df2 = pd.DataFrame(best_imperfect, columns=['delta_b', 'delta_s', 'price'])\n",
    "df3 = pd.DataFrame(other_imperfect, columns=['delta_b', 'delta_s', 'price'])\n",
    "df4 = pd.DataFrame(delta_b_too_low, columns=['delta_b', 'delta_s', 'price'])\n",
    "df5 = pd.DataFrame(suboptimal_delta_b, columns=['delta_b', 'delta_s', 'price'])\n",
    "# df6 = pd.DataFrame(first_slope, columns=['delta_b', 'delta_s', 'price'])\n",
    "# df7 = pd.DataFrame(second_slope, columns=['delta_b', 'delta_s', 'price'])\n",
    "slopes_df = [pd.DataFrame(slope, columns=['delta_b', 'delta_s', 'price']) for slope in slopes]\n",
    "for i in range(len(slopes_df)):\n",
    "    slopes_df[i]['Series'] = 'slope' + str(i + 1)\n",
    "\n",
    "# Combine the dataframes with an identifier column\n",
    "df1['Series'] = 'Without'\n",
    "df2['Series'] = 'best'\n",
    "df3['Series'] = 'other'\n",
    "# df4['Series'] = 'Delta_b too low'\n",
    "df5['Series'] = 'subopt'\n",
    "# df6['Series'] = '1st'\n",
    "# df7['Series'] = '2nd'\n",
    "# pd.concat([df5, df1, df3] + slopes_df + [df2])\n",
    "combined_df = pd.concat([df5, df1, df3, df2]) \n",
    "\n",
    "# Add a new column for point size based on the series\n",
    "# Assuming 'Series' is a column that identifies each series\n",
    "# series_size_mapping = {series: i+1 for i, series in enumerate(combined_df['Series'].unique())}\n",
    "# combined_df['point_size'] = combined_df['Series'].map(series_size_mapping)\n",
    "\n",
    "# Sort the DataFrame in reverse order of point size\n",
    "# combined_df = combined_df.sort_values(by='point_size', ascending=False)\n",
    "\n",
    "# Create an interactive scatter plot\n",
    "fig = px.scatter(combined_df, x='delta_s', y='price', color='Series', #size='point_size',\n",
    "                 hover_data=['delta_b', 'delta_s', 'price'])\n",
    "\n",
    "# Add lines for specified series\n",
    "# for series in slopes_df:\n",
    "#     fig.add_trace(px.line(series, x='delta_s', y='price', color='Series').data[0])\n",
    "\n",
    "# Concatenate all DataFrames in slopes_df\n",
    "all_slopes_df = pd.concat(slopes_df)\n",
    "# Create a line plot for all slopes\n",
    "line_fig = px.line(all_slopes_df, x='delta_s', y='price', color='Series')\n",
    "\n",
    "# Add each line trace individually\n",
    "for trace in line_fig.data:\n",
    "    fig.add_trace(trace)\n",
    "\n",
    "# Update marker properties to have darker outlines\n",
    "# fig.update_traces(marker=dict(line=dict(width=1, color='rgba(40,40,40,1)')))  # Adjust the color as needed\n",
    "\n",
    "# Update marker properties to remove outlines or match the fill color\n",
    "fig.update_traces(marker=dict(line=dict(width=0)))  # Removes the outline\n",
    "\n",
    "# Alternatively, to set the outline to the same color as the fill:\n",
    "# fig.update_traces(marker=dict(line=dict(width=1, color='SAME_COLOR')))\n",
    "\n",
    "\n",
    "# Update the layout for dark mode\n",
    "fig.update_layout(\n",
    "    title='Scatter Plot in Dark Mode',\n",
    "    plot_bgcolor='rgb(17,17,17)',  # Dark plot background\n",
    "    paper_bgcolor='rgb(17,17,17)',  # Dark paper background\n",
    "    font_color='white',  # White text for better contrast\n",
    "    xaxis=dict(\n",
    "        gridcolor='rgb(80,80,80)',  # Darker gridlines\n",
    "    ),\n",
    "    yaxis=dict(\n",
    "        gridcolor='rgb(80,80,80)',  # Darker gridlines\n",
    "    )\n",
    ")\n",
    "\n",
    "# Add plot titles and labels\n",
    "fig.update_layout(title='effective price by delta selling',\n",
    "                  xaxis_title='Delta_s',\n",
    "                  yaxis_title='Price',\n",
    "                  # showlegend=False,\n",
    "                  height=1600)\n",
    "                  \n",
    "\n",
    "# fig.update_yaxes(range=[combined_df['price'].min(), combined_df['price'].max()])  # Adjust the range as needed\n",
    "\n",
    "# # Sort the DataFrame by 'ratio' in descending order\n",
    "# sorted_df = combined_df.sort_values(by='price', ascending=False)\n",
    "\n",
    "# # Adding a line that connects the dots in decreasing order of their y-value\n",
    "# fig.add_trace(px.line(sorted_df, x='delta_b', y='price').data[0])\n",
    "\n",
    "# # Find the five lowest unique y-values (ratios)\n",
    "# lowest_ratios = combined_df['price'].unique()\n",
    "# lowest_ratios.sort()\n",
    "\n",
    "# # Group by 'ratio' and draw lines for each of the five lowest ratios\n",
    "# for price in lowest_ratios[:20]:\n",
    "#     group = combined_df[combined_df['price'] == price]\n",
    "#     # Sort each group by 'delta_b' to make line connections logical\n",
    "#     sorted_group = group.sort_values(by='delta_b')\n",
    "#     fig.add_trace(px.line(sorted_group, x='delta_b', y='price').data[0])\n",
    "\n",
    "# # Adjusting the plot size and layout\n",
    "# fig.update_layout(title='Scatter Plot with Lines for Lowest Y-values',\n",
    "#                   xaxis_title='Delta_b',\n",
    "#                   yaxis_title='Price',\n",
    "#                   height=800)\n",
    "\n",
    "# Show the plot\n",
    "fig.show()\n"
   ]
  },
  {
   "cell_type": "code",
   "execution_count": 817,
   "metadata": {},
   "outputs": [
    {
     "data": {
      "text/plain": [
       "16478"
      ]
     },
     "execution_count": 817,
     "metadata": {},
     "output_type": "execute_result"
    }
   ],
   "source": [
    "16537 - 59"
   ]
  },
  {
   "cell_type": "code",
   "execution_count": 818,
   "metadata": {},
   "outputs": [
    {
     "data": {
      "text/plain": [
       "-2.472707496536941e-07"
      ]
     },
     "execution_count": 818,
     "metadata": {},
     "output_type": "execute_result"
    }
   ],
   "source": [
    "4.331472620946305 - 4.3314728682170545"
   ]
  },
  {
   "cell_type": "markdown",
   "metadata": {},
   "source": [
    "### Patterns:\n",
    "\n",
    "- the (imperfect) optimal values appear to have equal distances in both deltas to each other \n",
    "  - -> if we're seeing the same value again, we can quit\n",
    "- similarly for the points within a \"slope\"\n",
    "- we can't see any way to compute those distances (see below for our attempts)\n",
    "  - we could maybe try to measure them somehow:\n",
    "    - start on the rightmost side\n",
    "    - record the best price seen\n",
    "    - go leftwards\n",
    "    - if the price improves a second time, measure that distance\n",
    "    - continue going leftwards, using that distance\n",
    "    - as soon as the price gets worse, we have found the minimum of a \"slope\" (this is a global optimum in this chart, but not the other one)\n",
    "    - we record this, and do the same thing again, this time also computing the distance between \"slopes\"\n",
    "    - we could use this to efficiently search over the slopes, or simply be content with repeating this until we found a global optimum"
   ]
  },
  {
   "cell_type": "code",
   "execution_count": 819,
   "metadata": {},
   "outputs": [
    {
     "data": {
      "text/plain": [
       "239"
      ]
     },
     "execution_count": 819,
     "metadata": {},
     "output_type": "execute_result"
    }
   ],
   "source": [
    "11179 - 10940"
   ]
  },
  {
   "cell_type": "code",
   "execution_count": 820,
   "metadata": {},
   "outputs": [
    {
     "data": {
      "text/plain": [
       "239"
      ]
     },
     "execution_count": 820,
     "metadata": {},
     "output_type": "execute_result"
    }
   ],
   "source": [
    "11418 - 11179"
   ]
  },
  {
   "cell_type": "code",
   "execution_count": 821,
   "metadata": {},
   "outputs": [
    {
     "data": {
      "text/plain": [
       "155"
      ]
     },
     "execution_count": 821,
     "metadata": {},
     "output_type": "execute_result"
    }
   ],
   "source": [
    "7250 - 7095"
   ]
  },
  {
   "cell_type": "code",
   "execution_count": 822,
   "metadata": {},
   "outputs": [
    {
     "data": {
      "text/plain": [
       "155"
      ]
     },
     "execution_count": 822,
     "metadata": {},
     "output_type": "execute_result"
    }
   ],
   "source": [
    "7405 - 7250"
   ]
  },
  {
   "cell_type": "code",
   "execution_count": 823,
   "metadata": {},
   "outputs": [
    {
     "data": {
      "text/plain": [
       "2188"
      ]
     },
     "execution_count": 823,
     "metadata": {},
     "output_type": "execute_result"
    }
   ],
   "source": [
    "8752 - 6564"
   ]
  },
  {
   "cell_type": "code",
   "execution_count": 824,
   "metadata": {},
   "outputs": [
    {
     "data": {
      "text/plain": [
       "2188"
      ]
     },
     "execution_count": 824,
     "metadata": {},
     "output_type": "execute_result"
    }
   ],
   "source": [
    "10940 - 8752"
   ]
  },
  {
   "cell_type": "code",
   "execution_count": 825,
   "metadata": {},
   "outputs": [
    {
     "data": {
      "text/plain": [
       "1419"
      ]
     },
     "execution_count": 825,
     "metadata": {},
     "output_type": "execute_result"
    }
   ],
   "source": [
    "5676 - 4257"
   ]
  },
  {
   "cell_type": "code",
   "execution_count": 826,
   "metadata": {},
   "outputs": [
    {
     "data": {
      "text/plain": [
       "1419"
      ]
     },
     "execution_count": 826,
     "metadata": {},
     "output_type": "execute_result"
    }
   ],
   "source": [
    "7095 - 5676"
   ]
  },
  {
   "cell_type": "code",
   "execution_count": 827,
   "metadata": {},
   "outputs": [],
   "source": [
    "def prime_factors(n):\n",
    "    i = 2\n",
    "    factors = {}\n",
    "    while i * i <= n:\n",
    "        if n % i:\n",
    "            i += 1\n",
    "        else:\n",
    "            n //= i\n",
    "            factors[i] = factors.get(i, 0) + 1\n",
    "    if n > 1:\n",
    "        factors[n] = factors.get(n, 0) + 1\n",
    "    return factors"
   ]
  },
  {
   "cell_type": "code",
   "execution_count": 828,
   "metadata": {},
   "outputs": [
    {
     "data": {
      "text/plain": [
       "{239: 1}"
      ]
     },
     "execution_count": 828,
     "metadata": {},
     "output_type": "execute_result"
    }
   ],
   "source": [
    "prime_factors(239)"
   ]
  },
  {
   "cell_type": "code",
   "execution_count": 829,
   "metadata": {},
   "outputs": [
    {
     "data": {
      "text/plain": [
       "{2: 4, 3: 1, 5: 1}"
      ]
     },
     "execution_count": 829,
     "metadata": {},
     "output_type": "execute_result"
    }
   ],
   "source": [
    "prime_factors(239 + 1)"
   ]
  },
  {
   "cell_type": "code",
   "execution_count": 830,
   "metadata": {},
   "outputs": [
    {
     "data": {
      "text/plain": [
       "{5: 1, 31: 1}"
      ]
     },
     "execution_count": 830,
     "metadata": {},
     "output_type": "execute_result"
    }
   ],
   "source": [
    "prime_factors(155)"
   ]
  },
  {
   "cell_type": "code",
   "execution_count": 831,
   "metadata": {},
   "outputs": [
    {
     "data": {
      "text/plain": [
       "{2: 2, 3: 1, 13: 1}"
      ]
     },
     "execution_count": 831,
     "metadata": {},
     "output_type": "execute_result"
    }
   ],
   "source": [
    "prime_factors(155 + 1)"
   ]
  },
  {
   "cell_type": "code",
   "execution_count": 832,
   "metadata": {},
   "outputs": [
    {
     "data": {
      "text/plain": [
       "{2: 2, 547: 1}"
      ]
     },
     "execution_count": 832,
     "metadata": {},
     "output_type": "execute_result"
    }
   ],
   "source": [
    "prime_factors(2188)"
   ]
  },
  {
   "cell_type": "code",
   "execution_count": 833,
   "metadata": {},
   "outputs": [
    {
     "data": {
      "text/plain": [
       "{11: 1, 199: 1}"
      ]
     },
     "execution_count": 833,
     "metadata": {},
     "output_type": "execute_result"
    }
   ],
   "source": [
    "prime_factors(2188 + 1)"
   ]
  },
  {
   "cell_type": "code",
   "execution_count": 834,
   "metadata": {},
   "outputs": [
    {
     "data": {
      "text/plain": [
       "{3: 1, 11: 1, 43: 1}"
      ]
     },
     "execution_count": 834,
     "metadata": {},
     "output_type": "execute_result"
    }
   ],
   "source": [
    "prime_factors(1419)"
   ]
  },
  {
   "cell_type": "code",
   "execution_count": 835,
   "metadata": {},
   "outputs": [
    {
     "data": {
      "text/plain": [
       "{2: 2, 5: 1, 71: 1}"
      ]
     },
     "execution_count": 835,
     "metadata": {},
     "output_type": "execute_result"
    }
   ],
   "source": [
    "prime_factors(1419 + 1)"
   ]
  },
  {
   "cell_type": "code",
   "execution_count": 836,
   "metadata": {},
   "outputs": [
    {
     "data": {
      "text/plain": [
       "{101: 32}"
      ]
     },
     "execution_count": 836,
     "metadata": {},
     "output_type": "execute_result"
    }
   ],
   "source": [
    "prime_factors(m_b)"
   ]
  },
  {
   "cell_type": "code",
   "execution_count": 837,
   "metadata": {},
   "outputs": [
    {
     "data": {
      "text/plain": [
       "{2: 64, 5: 64}"
      ]
     },
     "execution_count": 837,
     "metadata": {},
     "output_type": "execute_result"
    }
   ],
   "source": [
    "prime_factors(m_s)"
   ]
  },
  {
   "cell_type": "code",
   "execution_count": null,
   "metadata": {},
   "outputs": [],
   "source": []
  }
 ],
 "metadata": {
  "kernelspec": {
   "display_name": "Python 3",
   "language": "python",
   "name": "python3"
  },
  "language_info": {
   "codemirror_mode": {
    "name": "ipython",
    "version": 3
   },
   "file_extension": ".py",
   "mimetype": "text/x-python",
   "name": "python",
   "nbconvert_exporter": "python",
   "pygments_lexer": "ipython3",
   "version": "3.9.16"
  }
 },
 "nbformat": 4,
 "nbformat_minor": 2
}
