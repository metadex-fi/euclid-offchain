{
 "cells": [
  {
   "cell_type": "code",
   "execution_count": 1,
   "metadata": {},
   "outputs": [],
   "source": [
    "from sympy import symbols, simplify, hessian, solveset, S, solve, log, And, Le, Ge, Eq, Lt, Gt, nonlinsolve, latex, log, Wild, expand_log, logcombine, evaluate,oo, limit,ask, Q, floor, ceiling, lambdify, Sum\n",
    "from IPython.display import display, HTML, Math"
   ]
  },
  {
   "cell_type": "code",
   "execution_count": 2,
   "metadata": {},
   "outputs": [],
   "source": [
    "delta_b_negative = True"
   ]
  },
  {
   "cell_type": "code",
   "execution_count": 3,
   "metadata": {},
   "outputs": [
    {
     "data": {
      "text/plain": [
       "{'b': dict_values([s_b, v_b, b_b, w_b, j_b, e_b, Delta_b, a_b, min_b]),\n",
       " 's': dict_values([s_s, v_s, b_s, w_s, j_s, e_s, Delta_s, a_s, min_s])}"
      ]
     },
     "execution_count": 3,
     "metadata": {},
     "output_type": "execute_result"
    }
   ],
   "source": [
    "assets = ['b', 's']  # buying and selling assets\n",
    "base_symbols = ['s', 'v', 'b', 'w', 'j', 'e', 'Delta', 'a', 'min'] \n",
    "# spot price, virtual liquidity, balance, weight, jump size, exponent, delta, anchor price, amm-price, jump-multiplier\n",
    "\n",
    "all_symbols = {}\n",
    "\n",
    "for asset in assets:\n",
    "    temp_dict = {}\n",
    "    for base in base_symbols:\n",
    "        var_name = f\"{base}_{asset}\"\n",
    "        if base == 'e':\n",
    "            symbol_obj = symbols(var_name, integer=True)\n",
    "        elif base == 'b':\n",
    "            symbol_obj = symbols(var_name, nonnegative=True, integer=True)\n",
    "        elif delta_b_negative and var_name == 'Delta_b':\n",
    "            symbol_obj = symbols(var_name, negative=True, integer=True)\n",
    "        else:\n",
    "            symbol_obj = symbols(var_name, positive=True, integer=True)\n",
    "        temp_dict[var_name] = symbol_obj\n",
    "        # Define the variable in the global namespace\n",
    "        globals()[var_name] = symbol_obj\n",
    "    all_symbols[asset] = temp_dict.values()\n",
    "all_symbols"
   ]
  },
  {
   "cell_type": "code",
   "execution_count": 4,
   "metadata": {},
   "outputs": [],
   "source": [
    "simp = True # let's leave this true for now because of the way we calculate the piecewise discrete \"derivative\" below. Seems to result in vastly simpler equations."
   ]
  },
  {
   "cell_type": "markdown",
   "metadata": {},
   "source": [
    "### TODO either show convexity for everything or verify optimality otherwise (i.e. by simply plugging into offchain-tests)"
   ]
  },
  {
   "cell_type": "markdown",
   "metadata": {},
   "source": [
    "## Target function\n",
    "\n",
    "we want to minimize the effective price, given a set of exponents for the buying and selling asset each."
   ]
  },
  {
   "cell_type": "code",
   "execution_count": 5,
   "metadata": {},
   "outputs": [
    {
     "data": {
      "text/latex": [
       "$\\displaystyle - \\frac{\\Delta_{s}}{\\Delta_{b}}$"
      ],
      "text/plain": [
       "-Delta_s/Delta_b"
      ]
     },
     "execution_count": 5,
     "metadata": {},
     "output_type": "execute_result"
    }
   ],
   "source": [
    "if delta_b_negative:\n",
    "  eff = Delta_s / -Delta_b\n",
    "else:\n",
    "  eff = Delta_s / Delta_b\n",
    "eff"
   ]
  },
  {
   "cell_type": "markdown",
   "metadata": {},
   "source": [
    "## Equalities"
   ]
  },
  {
   "cell_type": "code",
   "execution_count": 6,
   "metadata": {},
   "outputs": [
    {
     "data": {
      "text/latex": [
       "$\\displaystyle b_{b} + v_{b} - \\left\\lfloor{\\frac{s_{b}}{w_{b}}}\\right\\rfloor$"
      ],
      "text/plain": [
       "b_b + v_b - floor(s_b/w_b)"
      ]
     },
     "execution_count": 6,
     "metadata": {},
     "output_type": "execute_result"
    }
   ],
   "source": [
    "def deltaBySpot_(asset, s,v, b, w, j, e, Delta, a, min):\n",
    "  f = (s - (v + b) * w) / w\n",
    "  if delta_b_negative and asset == 'b':\n",
    "    f = -floor(f)\n",
    "  else:\n",
    "    f = ceiling(f)\n",
    "  if simp:\n",
    "    f = simplify(f)\n",
    "  return f\n",
    "\n",
    "deltaBySpot = {asset: deltaBySpot_(asset, *all_symbols[asset]) for asset in assets}\n",
    "deltaBySpot['b']"
   ]
  },
  {
   "cell_type": "code",
   "execution_count": 7,
   "metadata": {},
   "outputs": [
    {
     "data": {
      "text/latex": [
       "$\\displaystyle \\left\\lfloor{a_{b} \\left(\\frac{j_{b} + 1}{j_{b}}\\right)^{e_{b}}}\\right\\rfloor$"
      ],
      "text/plain": [
       "floor(a_b*((j_b + 1)/j_b)**e_b)"
      ]
     },
     "execution_count": 7,
     "metadata": {},
     "output_type": "execute_result"
    }
   ],
   "source": [
    "def spotByExp_(s, v, b, w, j, e, Delta, a, min):\n",
    "  f = floor(a * ((1 + 1/j) ** e))\n",
    "  if simp:\n",
    "    f = simplify(f)\n",
    "  return f\n",
    "spotByExp = {asset: spotByExp_(*all_symbols[asset]) for asset in assets}\n",
    "spotByExp['b']"
   ]
  },
  {
   "cell_type": "markdown",
   "metadata": {},
   "source": [
    "## Equality-constraints"
   ]
  },
  {
   "cell_type": "code",
   "execution_count": 8,
   "metadata": {},
   "outputs": [
    {
     "data": {
      "text/latex": [
       "$\\displaystyle - \\Delta_{b} + b_{b} + v_{b} - \\left\\lfloor{\\frac{s_{b}}{w_{b}}}\\right\\rfloor$"
      ],
      "text/plain": [
       "-Delta_b + b_b + v_b - floor(s_b/w_b)"
      ]
     },
     "execution_count": 8,
     "metadata": {},
     "output_type": "execute_result"
    }
   ],
   "source": [
    "deltaSpotBound_b = deltaBySpot['b'] - Delta_b # ==! 0\n",
    "if simp:\n",
    "    deltaSpotBound_b = simplify(deltaSpotBound_b)\n",
    "deltaSpotBound_b"
   ]
  },
  {
   "cell_type": "code",
   "execution_count": 9,
   "metadata": {},
   "outputs": [
    {
     "data": {
      "text/latex": [
       "$\\displaystyle - \\Delta_{s} - b_{s} - v_{s} + \\left\\lceil{\\frac{s_{s}}{w_{s}}}\\right\\rceil$"
      ],
      "text/plain": [
       "-Delta_s - b_s - v_s + ceiling(s_s/w_s)"
      ]
     },
     "execution_count": 9,
     "metadata": {},
     "output_type": "execute_result"
    }
   ],
   "source": [
    "deltaSpotBound_s = deltaBySpot['s'] - Delta_s # ==! 0\n",
    "if simp:\n",
    "    deltaSpotBound_s = simplify(deltaSpotBound_s)\n",
    "deltaSpotBound_s"
   ]
  },
  {
   "cell_type": "code",
   "execution_count": 10,
   "metadata": {},
   "outputs": [
    {
     "data": {
      "text/latex": [
       "$\\displaystyle - e_{b} + \\left\\lfloor{a_{b} j_{b}^{- e_{b}} \\left(j_{b} + 1\\right)^{e_{b}}}\\right\\rfloor$"
      ],
      "text/plain": [
       "-e_b + floor(a_b*(j_b + 1)**e_b/j_b**e_b)"
      ]
     },
     "execution_count": 10,
     "metadata": {},
     "output_type": "execute_result"
    }
   ],
   "source": [
    "spotExpBound_b = spotByExp['b'] - e_b # ==! 0\n",
    "if simp:\n",
    "    spotExpBound_b = simplify(spotExpBound_b)\n",
    "spotExpBound_b"
   ]
  },
  {
   "cell_type": "code",
   "execution_count": 11,
   "metadata": {},
   "outputs": [
    {
     "data": {
      "text/latex": [
       "$\\displaystyle - e_{s} + \\left\\lfloor{a_{s} j_{s}^{- e_{s}} \\left(j_{s} + 1\\right)^{e_{s}}}\\right\\rfloor$"
      ],
      "text/plain": [
       "-e_s + floor(a_s*(j_s + 1)**e_s/j_s**e_s)"
      ]
     },
     "execution_count": 11,
     "metadata": {},
     "output_type": "execute_result"
    }
   ],
   "source": [
    "spotExpBound_s = spotByExp['s'] - e_s # ==! 0\n",
    "if simp:\n",
    "    spotExpBound_s = simplify(spotExpBound_s)\n",
    "spotExpBound_s"
   ]
  },
  {
   "cell_type": "markdown",
   "metadata": {},
   "source": [
    "## Inequality-constraints\n",
    "\n",
    "- value in A0 of buying must not exceed that of selling\n",
    "- the exponents must adhere to their upper (buying) resp. lower (selling) bounds given by our equation\n",
    "- need to buy and sell minimum amounts\n",
    "- cannot buy more than the available balance\n",
    "- cannot sell more than maxSelling\n",
    "- the spot prices must not exceed maxInteger\n",
    "- bonus: the total number of multiplications for both exponentiations must not exceed expLimit (TODO)\n",
    "\n",
    "### value cannot decrease"
   ]
  },
  {
   "cell_type": "code",
   "execution_count": 12,
   "metadata": {},
   "outputs": [
    {
     "data": {
      "text/latex": [
       "$\\displaystyle - \\Delta_{b} s_{s}$"
      ],
      "text/plain": [
       "-Delta_b*s_s"
      ]
     },
     "execution_count": 12,
     "metadata": {},
     "output_type": "execute_result"
    }
   ],
   "source": [
    "a0Buying = s_s * Delta_b # < 0 if delta_b_negative, > 0 otherwise\n",
    "if delta_b_negative:\n",
    "    a0Buying = -a0Buying # > 0\n",
    "a0Buying"
   ]
  },
  {
   "cell_type": "code",
   "execution_count": 13,
   "metadata": {},
   "outputs": [
    {
     "data": {
      "text/latex": [
       "$\\displaystyle \\Delta_{s} s_{b}$"
      ],
      "text/plain": [
       "Delta_s*s_b"
      ]
     },
     "execution_count": 13,
     "metadata": {},
     "output_type": "execute_result"
    }
   ],
   "source": [
    "a0Selling = s_b * Delta_s # > 0\n",
    "a0Selling"
   ]
  },
  {
   "cell_type": "code",
   "execution_count": 14,
   "metadata": {},
   "outputs": [
    {
     "data": {
      "text/latex": [
       "$\\displaystyle - \\Delta_{b} s_{s} - \\Delta_{s} s_{b}$"
      ],
      "text/plain": [
       "-Delta_b*s_s - Delta_s*s_b"
      ]
     },
     "execution_count": 14,
     "metadata": {},
     "output_type": "execute_result"
    }
   ],
   "source": [
    "a0Bound = a0Buying - a0Selling # <=! 0\n",
    "a0Bound"
   ]
  },
  {
   "cell_type": "code",
   "execution_count": 15,
   "metadata": {},
   "outputs": [
    {
     "data": {
      "text/latex": [
       "$\\displaystyle - \\Delta_{b} s_{s} - \\Delta_{s} s_{b}$"
      ],
      "text/plain": [
       "-Delta_b*s_s - Delta_s*s_b"
      ]
     },
     "execution_count": 15,
     "metadata": {},
     "output_type": "execute_result"
    }
   ],
   "source": [
    "if simp:\n",
    "  a0Bound = simplify(a0Bound)\n",
    "a0Bound"
   ]
  },
  {
   "cell_type": "markdown",
   "metadata": {},
   "source": [
    "### exponents cannot result in spot prices that are better than the amm-prices"
   ]
  },
  {
   "cell_type": "code",
   "execution_count": 16,
   "metadata": {},
   "outputs": [
    {
     "data": {
      "text/latex": [
       "$\\displaystyle e_{b} - \\log{\\left(a_{b}^{- \\frac{1}{\\log{\\left(\\frac{j_{b} + 1}{j_{b}} \\right)}}} \\left(w_{b} \\left(b_{b} + v_{b}\\right)\\right)^{\\frac{1}{\\log{\\left(\\frac{j_{b} + 1}{j_{b}} \\right)}}} \\right)}$"
      ],
      "text/plain": [
       "e_b - log((w_b*(b_b + v_b))**(1/log((j_b + 1)/j_b))/a_b**(1/log((j_b + 1)/j_b)))"
      ]
     },
     "execution_count": 16,
     "metadata": {},
     "output_type": "execute_result"
    }
   ],
   "source": [
    "def expBound_(asset, s, v, b, w, j, e, Delta, a, min):\n",
    "    e_bound = log(w * (v + b) /a, 1 + 1/j) # constant wrt e\n",
    "    if simp:\n",
    "        e_bound = simplify(e_bound)\n",
    "    if asset == 'b':\n",
    "        f = e - e_bound # <=! 0 (upper bound)\n",
    "    else:\n",
    "        f = e_bound - e # <=! 0 (lower bound)\n",
    "    if simp:\n",
    "        f = simplify(f)\n",
    "    return f\n",
    "\n",
    "expBound = {asset: expBound_(asset, *all_symbols[asset]) for asset in assets}\n",
    "expBound['b']"
   ]
  },
  {
   "cell_type": "code",
   "execution_count": 17,
   "metadata": {},
   "outputs": [
    {
     "data": {
      "text/latex": [
       "$\\displaystyle - e_{s} + \\log{\\left(a_{s}^{- \\frac{1}{\\log{\\left(\\frac{j_{s} + 1}{j_{s}} \\right)}}} \\left(w_{s} \\left(b_{s} + v_{s}\\right)\\right)^{\\frac{1}{\\log{\\left(\\frac{j_{s} + 1}{j_{s}} \\right)}}} \\right)}$"
      ],
      "text/plain": [
       "-e_s + log((w_s*(b_s + v_s))**(1/log((j_s + 1)/j_s))/a_s**(1/log((j_s + 1)/j_s)))"
      ]
     },
     "execution_count": 17,
     "metadata": {},
     "output_type": "execute_result"
    }
   ],
   "source": [
    "expBound['s']"
   ]
  },
  {
   "cell_type": "markdown",
   "metadata": {},
   "source": [
    "### spot prices cannot exceed maxInteger"
   ]
  },
  {
   "cell_type": "code",
   "execution_count": 18,
   "metadata": {},
   "outputs": [
    {
     "data": {
      "text/latex": [
       "$\\displaystyle - I_{max} + s_{b}$"
      ],
      "text/plain": [
       "-I_max + s_b"
      ]
     },
     "execution_count": 18,
     "metadata": {},
     "output_type": "execute_result"
    }
   ],
   "source": [
    "max_s, I_max = symbols('max_s I_max', positive=True, integer=True)\n",
    "\n",
    "maxSpotBound_b = s_b - I_max # <=! 0\n",
    "maxSpotBound_b"
   ]
  },
  {
   "cell_type": "code",
   "execution_count": 19,
   "metadata": {},
   "outputs": [
    {
     "data": {
      "text/latex": [
       "$\\displaystyle - I_{max} + s_{s}$"
      ],
      "text/plain": [
       "-I_max + s_s"
      ]
     },
     "execution_count": 19,
     "metadata": {},
     "output_type": "execute_result"
    }
   ],
   "source": [
    "maxSpotBound_s = s_s - I_max # <=! 0\n",
    "maxSpotBound_s"
   ]
  },
  {
   "cell_type": "markdown",
   "metadata": {},
   "source": [
    "### need to swap at least minimum amounts"
   ]
  },
  {
   "cell_type": "code",
   "execution_count": 20,
   "metadata": {},
   "outputs": [
    {
     "data": {
      "text/latex": [
       "$\\displaystyle \\Delta_{b} + min_{b}$"
      ],
      "text/plain": [
       "Delta_b + min_b"
      ]
     },
     "execution_count": 20,
     "metadata": {},
     "output_type": "execute_result"
    }
   ],
   "source": [
    "if delta_b_negative:\n",
    "  minAmntBound_b = min_b + Delta_b # <=! 0\n",
    "else:\n",
    "  minAmntBound_b = min_b - Delta_b # <=! 0\n",
    "minAmntBound_b"
   ]
  },
  {
   "cell_type": "code",
   "execution_count": 21,
   "metadata": {},
   "outputs": [
    {
     "data": {
      "text/latex": [
       "$\\displaystyle - \\Delta_{s} + min_{s}$"
      ],
      "text/plain": [
       "-Delta_s + min_s"
      ]
     },
     "execution_count": 21,
     "metadata": {},
     "output_type": "execute_result"
    }
   ],
   "source": [
    "minAmntBound_s = min_s - Delta_s # <=! 0\n",
    "minAmntBound_s"
   ]
  },
  {
   "cell_type": "markdown",
   "metadata": {},
   "source": [
    "### need to swap at most maximum amounts"
   ]
  },
  {
   "cell_type": "code",
   "execution_count": 22,
   "metadata": {},
   "outputs": [
    {
     "data": {
      "text/latex": [
       "$\\displaystyle - \\Delta_{b} - b_{b}$"
      ],
      "text/plain": [
       "-Delta_b - b_b"
      ]
     },
     "execution_count": 22,
     "metadata": {},
     "output_type": "execute_result"
    }
   ],
   "source": [
    "if delta_b_negative:\n",
    "  maxAmntBound_b = -Delta_b - b_b # <=! 0\n",
    "else:\n",
    "  maxAmntBound_b = Delta_b - b_b # <=! 0\n",
    "maxAmntBound_b"
   ]
  },
  {
   "cell_type": "code",
   "execution_count": 23,
   "metadata": {},
   "outputs": [
    {
     "data": {
      "text/latex": [
       "$\\displaystyle \\Delta_{b} - max_{s}$"
      ],
      "text/plain": [
       "Delta_b - max_s"
      ]
     },
     "execution_count": 23,
     "metadata": {},
     "output_type": "execute_result"
    }
   ],
   "source": [
    "maxAmntBound_s = Delta_b - max_s # <=! 0\n",
    "maxAmntBound_s"
   ]
  },
  {
   "cell_type": "markdown",
   "metadata": {},
   "source": [
    "### total number of multiplications of both exponentiations cannot exceed expLimit"
   ]
  },
  {
   "cell_type": "code",
   "execution_count": 24,
   "metadata": {},
   "outputs": [
    {
     "data": {
      "text/latex": [
       "$\\displaystyle \\left\\lceil{\\frac{\\log{\\left(e_{b} \\right)}}{\\log{\\left(2 \\right)}}}\\right\\rceil$"
      ],
      "text/plain": [
       "ceiling(log(e_b)/log(2))"
      ]
     },
     "execution_count": 24,
     "metadata": {},
     "output_type": "execute_result"
    }
   ],
   "source": [
    "# expLimit, aka maximum total number of multiplications for both exponents\n",
    "m_max = symbols('m_max', positive=True, integer=True)\n",
    "\n",
    "def numMultsLower_(asset, s,v, b, w, j, e, Delta, a, min):\n",
    "  return floor(log(e, 2))\n",
    "\n",
    "# the best number of multiplications we can get by increasing e\n",
    "def bestMultsAhead_(asset, s,v, b, w, j, e, Delta, a, min):\n",
    "  return ceiling(log(e, 2))\n",
    "\n",
    "bestMultsAhead = {asset: bestMultsAhead_(asset, *all_symbols[asset]) for asset in assets}\n",
    "bestMultsAhead['b']"
   ]
  },
  {
   "cell_type": "code",
   "execution_count": 25,
   "metadata": {},
   "outputs": [
    {
     "data": {
      "text/latex": [
       "$\\displaystyle - m_{max} + \\left\\lceil{\\frac{\\log{\\left(e_{b} \\right)}}{\\log{\\left(2 \\right)}}}\\right\\rceil + \\left\\lceil{\\frac{\\log{\\left(e_{s} \\right)}}{\\log{\\left(2 \\right)}}}\\right\\rceil$"
      ],
      "text/plain": [
       "-m_max + ceiling(log(e_b)/log(2)) + ceiling(log(e_s)/log(2))"
      ]
     },
     "execution_count": 25,
     "metadata": {},
     "output_type": "execute_result"
    }
   ],
   "source": [
    "# optimistic estimate. This relies on the vague intuition that exponents will be minimal from the other constraints, so best we can do is increase them if this one is violated\n",
    "optimisticMultsBound = bestMultsAhead['b'] + bestMultsAhead['s'] - m_max # <=! 0\n",
    "if simp:\n",
    "  optimisticMultsBound = simplify(optimisticMultsBound)\n",
    "optimisticMultsBound"
   ]
  },
  {
   "cell_type": "markdown",
   "metadata": {},
   "source": [
    "## Lagrangian"
   ]
  },
  {
   "cell_type": "code",
   "execution_count": 26,
   "metadata": {},
   "outputs": [
    {
     "data": {
      "text/latex": [
       "$\\displaystyle \\lambda_{1} \\left(e_{b} - \\log{\\left(a_{b}^{- \\frac{1}{\\log{\\left(\\frac{j_{b} + 1}{j_{b}} \\right)}}} \\left(w_{b} \\left(b_{b} + v_{b}\\right)\\right)^{\\frac{1}{\\log{\\left(\\frac{j_{b} + 1}{j_{b}} \\right)}}} \\right)}\\right) + \\lambda_{10} \\left(- m_{max} + \\left\\lceil{\\frac{\\log{\\left(e_{b} \\right)}}{\\log{\\left(2 \\right)}}}\\right\\rceil + \\left\\lceil{\\frac{\\log{\\left(e_{s} \\right)}}{\\log{\\left(2 \\right)}}}\\right\\rceil\\right) + \\lambda_{2} \\left(- e_{s} + \\log{\\left(a_{s}^{- \\frac{1}{\\log{\\left(\\frac{j_{s} + 1}{j_{s}} \\right)}}} \\left(w_{s} \\left(b_{s} + v_{s}\\right)\\right)^{\\frac{1}{\\log{\\left(\\frac{j_{s} + 1}{j_{s}} \\right)}}} \\right)}\\right) + \\lambda_{3} \\left(- I_{max} + s_{b}\\right) + \\lambda_{4} \\left(- I_{max} + s_{s}\\right) + \\lambda_{5} \\left(\\Delta_{b} + min_{b}\\right) + \\lambda_{6} \\left(- \\Delta_{s} + min_{s}\\right) + \\lambda_{7} \\left(- \\Delta_{b} - b_{b}\\right) + \\lambda_{8} \\left(\\Delta_{b} - max_{s}\\right) + \\lambda_{9} \\left(- \\Delta_{b} s_{s} - \\Delta_{s} s_{b}\\right) + \\mu_{1} \\left(- \\Delta_{b} + b_{b} + v_{b} - \\left\\lfloor{\\frac{s_{b}}{w_{b}}}\\right\\rfloor\\right) + \\mu_{2} \\left(- \\Delta_{s} - b_{s} - v_{s} + \\left\\lceil{\\frac{s_{s}}{w_{s}}}\\right\\rceil\\right) + \\mu_{3} \\left(- e_{b} + \\left\\lfloor{a_{b} j_{b}^{- e_{b}} \\left(j_{b} + 1\\right)^{e_{b}}}\\right\\rfloor\\right) + \\mu_{4} \\left(- e_{s} + \\left\\lfloor{a_{s} j_{s}^{- e_{s}} \\left(j_{s} + 1\\right)^{e_{s}}}\\right\\rfloor\\right) - \\frac{\\Delta_{s}}{\\Delta_{b}}$"
      ],
      "text/plain": [
       "lambda_1*(e_b - log((w_b*(b_b + v_b))**(1/log((j_b + 1)/j_b))/a_b**(1/log((j_b + 1)/j_b)))) + lambda_10*(-m_max + ceiling(log(e_b)/log(2)) + ceiling(log(e_s)/log(2))) + lambda_2*(-e_s + log((w_s*(b_s + v_s))**(1/log((j_s + 1)/j_s))/a_s**(1/log((j_s + 1)/j_s)))) + lambda_3*(-I_max + s_b) + lambda_4*(-I_max + s_s) + lambda_5*(Delta_b + min_b) + lambda_6*(-Delta_s + min_s) + lambda_7*(-Delta_b - b_b) + lambda_8*(Delta_b - max_s) + lambda_9*(-Delta_b*s_s - Delta_s*s_b) + mu_1*(-Delta_b + b_b + v_b - floor(s_b/w_b)) + mu_2*(-Delta_s - b_s - v_s + ceiling(s_s/w_s)) + mu_3*(-e_b + floor(a_b*(j_b + 1)**e_b/j_b**e_b)) + mu_4*(-e_s + floor(a_s*(j_s + 1)**e_s/j_s**e_s)) - Delta_s/Delta_b"
      ]
     },
     "execution_count": 26,
     "metadata": {},
     "output_type": "execute_result"
    }
   ],
   "source": [
    "# Decision variables\n",
    "xs = [e_b, e_s, s_b, s_s, Delta_b, Delta_s]\n",
    "\n",
    "# Equality-Constraints\n",
    "hs = [\n",
    "    deltaSpotBound_b,\n",
    "    deltaSpotBound_s,\n",
    "    spotExpBound_b,\n",
    "    spotExpBound_s,\n",
    "] \n",
    "\n",
    "# Inequality-Constraints\n",
    "gs = [\n",
    "    expBound['b'],\n",
    "    expBound['s'],\n",
    "    maxSpotBound_b,\n",
    "    maxSpotBound_s,\n",
    "    minAmntBound_b,\n",
    "    minAmntBound_s,\n",
    "    maxAmntBound_b,\n",
    "    maxAmntBound_s,\n",
    "    a0Bound,\n",
    "    optimisticMultsBound,\n",
    "] \n",
    "\n",
    "# Lagrange multipliers for equality- and inequality-constraints\n",
    "mus = symbols('mu_1:{}'.format(len(hs)+1), nonnegative=True)\n",
    "lambdas = symbols('lambda_1:{}'.format(len(gs)+1), nonnegative=True)\n",
    "\n",
    "# Objective function\n",
    "f = eff\n",
    "\n",
    "# Lagrangian\n",
    "L = f + sum([mu * h for mu, h in zip(mus, hs)]) + sum([lambda_ * g for lambda_, g in zip(lambdas, gs)])\n",
    "# if simp: # not using this anyways\n",
    "#     L = simplify(L)\n",
    "L"
   ]
  },
  {
   "cell_type": "code",
   "execution_count": 27,
   "metadata": {},
   "outputs": [
    {
     "data": {
      "text/latex": [
       "$\\displaystyle \\lambda_{1} + \\lambda_{10} \\left(- \\left\\lceil{\\frac{\\log{\\left(e_{b} \\right)}}{\\log{\\left(2 \\right)}}}\\right\\rceil + \\left\\lceil{\\frac{\\log{\\left(e_{b} + 1 \\right)}}{\\log{\\left(2 \\right)}}}\\right\\rceil\\right) + \\mu_{3} \\left(- \\left\\lfloor{a_{b} j_{b}^{- e_{b}} \\left(j_{b} + 1\\right)^{e_{b}}}\\right\\rfloor + \\left\\lfloor{a_{b} j_{b}^{- e_{b} - 1} \\left(j_{b} + 1\\right)^{e_{b} + 1}}\\right\\rfloor - 1\\right) = 0$"
      ],
      "text/plain": [
       "Eq(lambda_1 + lambda_10*(-ceiling(log(e_b)/log(2)) + ceiling(log(e_b + 1)/log(2))) + mu_3*(-floor(a_b*(j_b + 1)**e_b/j_b**e_b) + floor(a_b*j_b**(-e_b - 1)*(j_b + 1)**(e_b + 1)) - 1), 0)"
      ]
     },
     "metadata": {},
     "output_type": "display_data"
    },
    {
     "data": {
      "text/latex": [
       "$\\displaystyle \\lambda_{10} \\left(- \\left\\lceil{\\frac{\\log{\\left(e_{s} \\right)}}{\\log{\\left(2 \\right)}}}\\right\\rceil + \\left\\lceil{\\frac{\\log{\\left(e_{s} + 1 \\right)}}{\\log{\\left(2 \\right)}}}\\right\\rceil\\right) - \\lambda_{2} + \\mu_{4} \\left(- \\left\\lfloor{a_{s} j_{s}^{- e_{s}} \\left(j_{s} + 1\\right)^{e_{s}}}\\right\\rfloor + \\left\\lfloor{a_{s} j_{s}^{- e_{s} - 1} \\left(j_{s} + 1\\right)^{e_{s} + 1}}\\right\\rfloor - 1\\right) = 0$"
      ],
      "text/plain": [
       "Eq(lambda_10*(-ceiling(log(e_s)/log(2)) + ceiling(log(e_s + 1)/log(2))) - lambda_2 + mu_4*(-floor(a_s*(j_s + 1)**e_s/j_s**e_s) + floor(a_s*j_s**(-e_s - 1)*(j_s + 1)**(e_s + 1)) - 1), 0)"
      ]
     },
     "metadata": {},
     "output_type": "display_data"
    },
    {
     "data": {
      "text/latex": [
       "$\\displaystyle - \\Delta_{s} \\lambda_{9} + \\lambda_{3} + \\mu_{1} \\left(\\left\\lfloor{\\frac{s_{b}}{w_{b}}}\\right\\rfloor - \\left\\lfloor{\\frac{s_{b} + 1}{w_{b}}}\\right\\rfloor\\right) = 0$"
      ],
      "text/plain": [
       "Eq(-Delta_s*lambda_9 + lambda_3 + mu_1*(floor(s_b/w_b) - floor((s_b + 1)/w_b)), 0)"
      ]
     },
     "metadata": {},
     "output_type": "display_data"
    },
    {
     "data": {
      "text/latex": [
       "$\\displaystyle - \\Delta_{b} \\lambda_{9} + \\lambda_{4} + \\mu_{2} \\left(- \\left\\lceil{\\frac{s_{s}}{w_{s}}}\\right\\rceil + \\left\\lceil{\\frac{s_{s} + 1}{w_{s}}}\\right\\rceil\\right) = 0$"
      ],
      "text/plain": [
       "Eq(-Delta_b*lambda_9 + lambda_4 + mu_2*(-ceiling(s_s/w_s) + ceiling((s_s + 1)/w_s)), 0)"
      ]
     },
     "metadata": {},
     "output_type": "display_data"
    },
    {
     "data": {
      "text/latex": [
       "$\\displaystyle \\lambda_{5} - \\lambda_{7} + \\lambda_{8} - \\lambda_{9} s_{s} - \\mu_{1} + \\frac{\\Delta_{s}}{\\Delta_{b} \\left(\\Delta_{b} + 1\\right)} = 0$"
      ],
      "text/plain": [
       "Eq(lambda_5 - lambda_7 + lambda_8 - lambda_9*s_s - mu_1 + Delta_s/(Delta_b*(Delta_b + 1)), 0)"
      ]
     },
     "metadata": {},
     "output_type": "display_data"
    },
    {
     "data": {
      "text/latex": [
       "$\\displaystyle - \\lambda_{6} - \\lambda_{9} s_{b} - \\mu_{2} - \\frac{1}{\\Delta_{b}} = 0$"
      ],
      "text/plain": [
       "Eq(-lambda_6 - lambda_9*s_b - mu_2 - 1/Delta_b, 0)"
      ]
     },
     "metadata": {},
     "output_type": "display_data"
    }
   ],
   "source": [
    "# Equations from stationarity\n",
    "\n",
    "def discrete_diff(f, n):\n",
    "  diff = f.subs(n, n+1) - f\n",
    "  if simp:\n",
    "    diff = simplify(diff)\n",
    "  return diff\n",
    "\n",
    "equations = []\n",
    "for x in xs:\n",
    "  dL_dx = discrete_diff(f, x)\\\n",
    "    + sum([discrete_diff(mu * h, x) for mu, h in zip(mus, hs)])\\\n",
    "    + sum([discrete_diff(lambda_ * g, x) for lambda_, g in zip(lambdas, gs)]) # probably slightly better to do it this way instead of simply using L\n",
    "  equation = Eq(dL_dx, 0)\n",
    "  # if simp: # results in error from the bestMultsAhead-constraint\n",
    "  #   equation = simplify(equation)\n",
    "  display(equation)\n",
    "  equations.append(equation)"
   ]
  },
  {
   "cell_type": "code",
   "execution_count": 28,
   "metadata": {},
   "outputs": [
    {
     "data": {
      "text/latex": [
       "$\\displaystyle \\Delta_{b} - b_{b} - v_{b} + \\left\\lfloor{\\frac{s_{b}}{w_{b}}}\\right\\rfloor = 0$"
      ],
      "text/plain": [
       "Eq(Delta_b - b_b - v_b + floor(s_b/w_b), 0)"
      ]
     },
     "metadata": {},
     "output_type": "display_data"
    },
    {
     "data": {
      "text/latex": [
       "$\\displaystyle \\Delta_{s} + b_{s} + v_{s} - \\left\\lceil{\\frac{s_{s}}{w_{s}}}\\right\\rceil = 0$"
      ],
      "text/plain": [
       "Eq(Delta_s + b_s + v_s - ceiling(s_s/w_s), 0)"
      ]
     },
     "metadata": {},
     "output_type": "display_data"
    },
    {
     "data": {
      "text/latex": [
       "$\\displaystyle e_{b} - \\left\\lfloor{a_{b} j_{b}^{- e_{b}} \\left(j_{b} + 1\\right)^{e_{b}}}\\right\\rfloor = 0$"
      ],
      "text/plain": [
       "Eq(e_b - floor(a_b*(j_b + 1)**e_b/j_b**e_b), 0)"
      ]
     },
     "metadata": {},
     "output_type": "display_data"
    },
    {
     "data": {
      "text/latex": [
       "$\\displaystyle e_{s} - \\left\\lfloor{a_{s} j_{s}^{- e_{s}} \\left(j_{s} + 1\\right)^{e_{s}}}\\right\\rfloor = 0$"
      ],
      "text/plain": [
       "Eq(e_s - floor(a_s*(j_s + 1)**e_s/j_s**e_s), 0)"
      ]
     },
     "metadata": {},
     "output_type": "display_data"
    }
   ],
   "source": [
    "# Primal feasibility conditions for equality-constraints\n",
    "for h in hs:\n",
    "    equation = Eq(h, 0)\n",
    "    if simp:\n",
    "        equation = simplify(equation)\n",
    "    display(equation)\n",
    "    equations.append(equation)"
   ]
  },
  {
   "cell_type": "code",
   "execution_count": 29,
   "metadata": {},
   "outputs": [
    {
     "data": {
      "text/latex": [
       "$\\displaystyle \\lambda_{1} \\left(e_{b} - \\log{\\left(a_{b}^{- \\frac{1}{\\log{\\left(\\frac{j_{b} + 1}{j_{b}} \\right)}}} \\left(w_{b} \\left(b_{b} + v_{b}\\right)\\right)^{\\frac{1}{\\log{\\left(\\frac{j_{b} + 1}{j_{b}} \\right)}}} \\right)}\\right) = 0$"
      ],
      "text/plain": [
       "Eq(lambda_1*(e_b - log((w_b*(b_b + v_b))**(1/log((j_b + 1)/j_b))/a_b**(1/log((j_b + 1)/j_b)))), 0)"
      ]
     },
     "metadata": {},
     "output_type": "display_data"
    },
    {
     "data": {
      "text/latex": [
       "$\\displaystyle \\lambda_{2} \\left(e_{s} - \\log{\\left(a_{s}^{- \\frac{1}{\\log{\\left(\\frac{j_{s} + 1}{j_{s}} \\right)}}} \\left(w_{s} \\left(b_{s} + v_{s}\\right)\\right)^{\\frac{1}{\\log{\\left(\\frac{j_{s} + 1}{j_{s}} \\right)}}} \\right)}\\right) = 0$"
      ],
      "text/plain": [
       "Eq(lambda_2*(e_s - log((w_s*(b_s + v_s))**(1/log((j_s + 1)/j_s))/a_s**(1/log((j_s + 1)/j_s)))), 0)"
      ]
     },
     "metadata": {},
     "output_type": "display_data"
    },
    {
     "data": {
      "text/latex": [
       "$\\displaystyle \\lambda_{3} \\left(- I_{max} + s_{b}\\right) = 0$"
      ],
      "text/plain": [
       "Eq(lambda_3*(-I_max + s_b), 0)"
      ]
     },
     "metadata": {},
     "output_type": "display_data"
    },
    {
     "data": {
      "text/latex": [
       "$\\displaystyle \\lambda_{4} \\left(- I_{max} + s_{s}\\right) = 0$"
      ],
      "text/plain": [
       "Eq(lambda_4*(-I_max + s_s), 0)"
      ]
     },
     "metadata": {},
     "output_type": "display_data"
    },
    {
     "data": {
      "text/latex": [
       "$\\displaystyle \\lambda_{5} \\left(\\Delta_{b} + min_{b}\\right) = 0$"
      ],
      "text/plain": [
       "Eq(lambda_5*(Delta_b + min_b), 0)"
      ]
     },
     "metadata": {},
     "output_type": "display_data"
    },
    {
     "data": {
      "text/latex": [
       "$\\displaystyle \\lambda_{6} \\left(- \\Delta_{s} + min_{s}\\right) = 0$"
      ],
      "text/plain": [
       "Eq(lambda_6*(-Delta_s + min_s), 0)"
      ]
     },
     "metadata": {},
     "output_type": "display_data"
    },
    {
     "data": {
      "text/latex": [
       "$\\displaystyle \\lambda_{7} \\left(\\Delta_{b} + b_{b}\\right) = 0$"
      ],
      "text/plain": [
       "Eq(lambda_7*(Delta_b + b_b), 0)"
      ]
     },
     "metadata": {},
     "output_type": "display_data"
    },
    {
     "data": {
      "text/latex": [
       "$\\displaystyle \\lambda_{8} \\left(\\Delta_{b} - max_{s}\\right) = 0$"
      ],
      "text/plain": [
       "Eq(lambda_8*(Delta_b - max_s), 0)"
      ]
     },
     "metadata": {},
     "output_type": "display_data"
    },
    {
     "data": {
      "text/latex": [
       "$\\displaystyle \\lambda_{9} \\left(\\Delta_{b} s_{s} + \\Delta_{s} s_{b}\\right) = 0$"
      ],
      "text/plain": [
       "Eq(lambda_9*(Delta_b*s_s + Delta_s*s_b), 0)"
      ]
     },
     "metadata": {},
     "output_type": "display_data"
    },
    {
     "data": {
      "text/latex": [
       "$\\displaystyle \\lambda_{10} \\left(- m_{max} + \\left\\lceil{\\frac{\\log{\\left(e_{b} \\right)}}{\\log{\\left(2 \\right)}}}\\right\\rceil + \\left\\lceil{\\frac{\\log{\\left(e_{s} \\right)}}{\\log{\\left(2 \\right)}}}\\right\\rceil\\right) = 0$"
      ],
      "text/plain": [
       "Eq(lambda_10*(-m_max + ceiling(log(e_b)/log(2)) + ceiling(log(e_s)/log(2))), 0)"
      ]
     },
     "metadata": {},
     "output_type": "display_data"
    }
   ],
   "source": [
    "# Complementary slackness conditions\n",
    "for lambda_, g in zip(lambdas, gs):\n",
    "    equation = Eq(lambda_ * g, 0)\n",
    "    if simp:\n",
    "        equation = simplify(equation)\n",
    "    display(equation)\n",
    "    equations.append(equation)"
   ]
  },
  {
   "cell_type": "code",
   "execution_count": 30,
   "metadata": {},
   "outputs": [],
   "source": [
    "def verify_inequality_constraints(solution, vars, gs):\n",
    "    subs_dict = dict(zip(vars, solution))\n",
    "    for g in gs:\n",
    "        if Gt(g.subs(subs_dict), 0) == True:\n",
    "            return False\n",
    "    return True"
   ]
  },
  {
   "cell_type": "code",
   "execution_count": 31,
   "metadata": {},
   "outputs": [],
   "source": [
    "# Solve\n",
    "vars = xs + list(mus) + list(lambdas)\n",
    "solutions = nonlinsolve(equations, vars)\n",
    "len(solutions)"
   ]
  },
  {
   "cell_type": "code",
   "execution_count": null,
   "metadata": {},
   "outputs": [],
   "source": [
    "solutions_ = [solution for solution in solutions if verify_inequality_constraints(solution, vars, gs)]\n",
    "len(solutions_)"
   ]
  },
  {
   "cell_type": "code",
   "execution_count": null,
   "metadata": {},
   "outputs": [],
   "source": []
  },
  {
   "cell_type": "code",
   "execution_count": null,
   "metadata": {},
   "outputs": [],
   "source": []
  },
  {
   "cell_type": "code",
   "execution_count": null,
   "metadata": {},
   "outputs": [],
   "source": []
  },
  {
   "cell_type": "code",
   "execution_count": null,
   "metadata": {},
   "outputs": [],
   "source": []
  },
  {
   "cell_type": "code",
   "execution_count": null,
   "metadata": {},
   "outputs": [],
   "source": []
  },
  {
   "cell_type": "code",
   "execution_count": null,
   "metadata": {},
   "outputs": [],
   "source": []
  },
  {
   "cell_type": "code",
   "execution_count": null,
   "metadata": {},
   "outputs": [],
   "source": []
  },
  {
   "cell_type": "code",
   "execution_count": null,
   "metadata": {},
   "outputs": [],
   "source": []
  }
 ],
 "metadata": {
  "kernelspec": {
   "display_name": "Python 3",
   "language": "python",
   "name": "python3"
  },
  "language_info": {
   "codemirror_mode": {
    "name": "ipython",
    "version": 3
   },
   "file_extension": ".py",
   "mimetype": "text/x-python",
   "name": "python",
   "nbconvert_exporter": "python",
   "pygments_lexer": "ipython3",
   "version": "3.9.16"
  }
 },
 "nbformat": 4,
 "nbformat_minor": 2
}
