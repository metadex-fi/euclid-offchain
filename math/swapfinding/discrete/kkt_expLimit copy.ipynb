{
 "cells": [
  {
   "cell_type": "code",
   "execution_count": 1,
   "metadata": {},
   "outputs": [],
   "source": [
    "from sympy import symbols, simplify, hessian, solveset, S, solve, log, And, Le, Ge, Eq, Lt, Gt, nonlinsolve, latex, log, Wild, expand_log, logcombine, evaluate,oo, limit,ask, Q, floor, ceiling, lambdify, Sum\n",
    "from IPython.display import display, HTML, Math"
   ]
  },
  {
   "cell_type": "code",
   "execution_count": 2,
   "metadata": {},
   "outputs": [],
   "source": [
    "delta_b_negative = False"
   ]
  },
  {
   "cell_type": "code",
   "execution_count": 3,
   "metadata": {},
   "outputs": [
    {
     "data": {
      "text/plain": [
       "{'b': dict_values([s_b, v_b, b_b, w_b, j_b, e_b, Delta_b, a_b, min_b]),\n",
       " 's': dict_values([s_s, v_s, b_s, w_s, j_s, e_s, Delta_s, a_s, min_s])}"
      ]
     },
     "execution_count": 3,
     "metadata": {},
     "output_type": "execute_result"
    }
   ],
   "source": [
    "assets = ['b', 's']  # buying and selling assets\n",
    "base_symbols = ['s', 'v', 'b', 'w', 'j', 'e', 'Delta', 'a', 'min'] \n",
    "# spot price, virtual liquidity, balance, weight, jump size, exponent, delta, anchor price, amm-price, jump-multiplier\n",
    "\n",
    "all_symbols = {}\n",
    "\n",
    "for asset in assets:\n",
    "    temp_dict = {}\n",
    "    for base in base_symbols:\n",
    "        var_name = f\"{base}_{asset}\"\n",
    "        if base == 'e':\n",
    "            symbol_obj = symbols(var_name, integer=True)\n",
    "        elif base == 'b':\n",
    "            symbol_obj = symbols(var_name, nonnegative=True, integer=True)\n",
    "        elif delta_b_negative and var_name == 'Delta_b':\n",
    "            symbol_obj = symbols(var_name, negative=True, integer=True)\n",
    "        else:\n",
    "            symbol_obj = symbols(var_name, positive=True, integer=True)\n",
    "        temp_dict[var_name] = symbol_obj\n",
    "        # Define the variable in the global namespace\n",
    "        globals()[var_name] = symbol_obj\n",
    "    all_symbols[asset] = temp_dict.values()\n",
    "all_symbols"
   ]
  },
  {
   "cell_type": "code",
   "execution_count": 4,
   "metadata": {},
   "outputs": [],
   "source": [
    "simp = True # let's leave this true for now because of the way we calculate the piecewise discrete \"derivative\" below. Seems to result in vastly simpler equations."
   ]
  },
  {
   "cell_type": "markdown",
   "metadata": {},
   "source": [
    "### TODO either show convexity for everything or verify optimality otherwise (i.e. by simply plugging into offchain-tests)"
   ]
  },
  {
   "cell_type": "markdown",
   "metadata": {},
   "source": [
    "## Equalities"
   ]
  },
  {
   "cell_type": "code",
   "execution_count": 6,
   "metadata": {},
   "outputs": [
    {
     "data": {
      "text/latex": [
       "$\\displaystyle - b_{b} - v_{b} + \\left\\lceil{\\frac{s_{b}}{w_{b}}}\\right\\rceil$"
      ],
      "text/plain": [
       "-b_b - v_b + ceiling(s_b/w_b)"
      ]
     },
     "execution_count": 6,
     "metadata": {},
     "output_type": "execute_result"
    }
   ],
   "source": [
    "def deltaBySpot_(asset, s,v, b, w, j, e, Delta, a, min):\n",
    "  f = (s - (v + b) * w) / w\n",
    "  if delta_b_negative and asset == 'b':\n",
    "    f = -floor(f)\n",
    "  else:\n",
    "    f = ceiling(f)\n",
    "  if simp:\n",
    "    f = simplify(f)\n",
    "  return f\n",
    "\n",
    "deltaBySpot = {asset: deltaBySpot_(asset, *all_symbols[asset]) for asset in assets}\n",
    "deltaBySpot['b']"
   ]
  },
  {
   "cell_type": "code",
   "execution_count": 7,
   "metadata": {},
   "outputs": [
    {
     "data": {
      "text/latex": [
       "$\\displaystyle \\left\\lfloor{a_{b} \\left(\\frac{j_{b} + 1}{j_{b}}\\right)^{e_{b}}}\\right\\rfloor$"
      ],
      "text/plain": [
       "floor(a_b*((j_b + 1)/j_b)**e_b)"
      ]
     },
     "execution_count": 7,
     "metadata": {},
     "output_type": "execute_result"
    }
   ],
   "source": [
    "def spotByExp_(s, v, b, w, j, e, Delta, a, min):\n",
    "  f = floor(a * ((1 + 1/j) ** e))\n",
    "  if simp:\n",
    "    f = simplify(f)\n",
    "  return f\n",
    "spotByExp = {asset: spotByExp_(*all_symbols[asset]) for asset in assets}\n",
    "spotByExp['b']"
   ]
  },
  {
   "cell_type": "code",
   "execution_count": 8,
   "metadata": {},
   "outputs": [
    {
     "data": {
      "text/latex": [
       "$\\displaystyle - b_{b} - v_{b} + \\left\\lceil{\\frac{\\left\\lfloor{a_{b} j_{b}^{- e_{b}} \\left(j_{b} + 1\\right)^{e_{b}}}\\right\\rfloor}{w_{b}}}\\right\\rceil$"
      ],
      "text/plain": [
       "-b_b - v_b + ceiling(floor(a_b*(j_b + 1)**e_b/j_b**e_b)/w_b)"
      ]
     },
     "execution_count": 8,
     "metadata": {},
     "output_type": "execute_result"
    }
   ],
   "source": [
    "def deltaByExp_(asset, s, v, b, w, j, e, Delta, a, min):\n",
    "  f = deltaBySpot[asset].subs(s, spotByExp[asset])\n",
    "  if simp:\n",
    "    f = simplify(f)\n",
    "  return f\n",
    "\n",
    "deltaByExp = {asset: deltaByExp_(asset, *all_symbols[asset]) for asset in assets}\n",
    "deltaByExp['b']"
   ]
  },
  {
   "cell_type": "code",
   "execution_count": 9,
   "metadata": {},
   "outputs": [
    {
     "data": {
      "text/latex": [
       "$\\displaystyle - b_{s} - v_{s} + \\left\\lceil{\\frac{\\left\\lfloor{a_{s} j_{s}^{- e_{s}} \\left(j_{s} + 1\\right)^{e_{s}}}\\right\\rfloor}{w_{s}}}\\right\\rceil$"
      ],
      "text/plain": [
       "-b_s - v_s + ceiling(floor(a_s*(j_s + 1)**e_s/j_s**e_s)/w_s)"
      ]
     },
     "execution_count": 9,
     "metadata": {},
     "output_type": "execute_result"
    }
   ],
   "source": [
    "deltaByExp['s']"
   ]
  },
  {
   "cell_type": "markdown",
   "metadata": {},
   "source": [
    "## Target function\n",
    "\n",
    "we want to minimize the effective price, given a set of exponents for the buying and selling asset each."
   ]
  },
  {
   "cell_type": "code",
   "execution_count": 10,
   "metadata": {},
   "outputs": [
    {
     "data": {
      "text/latex": [
       "$\\displaystyle \\frac{\\Delta_{s}}{\\Delta_{b}}$"
      ],
      "text/plain": [
       "Delta_s/Delta_b"
      ]
     },
     "execution_count": 10,
     "metadata": {},
     "output_type": "execute_result"
    }
   ],
   "source": [
    "if delta_b_negative:\n",
    "  eff = Delta_s / -Delta_b\n",
    "else:\n",
    "  eff = Delta_s / Delta_b\n",
    "eff"
   ]
  },
  {
   "cell_type": "code",
   "execution_count": 11,
   "metadata": {},
   "outputs": [
    {
     "data": {
      "text/latex": [
       "$\\displaystyle \\frac{b_{s} + v_{s} - \\left\\lceil{\\frac{\\left\\lfloor{a_{s} j_{s}^{- e_{s}} \\left(j_{s} + 1\\right)^{e_{s}}}\\right\\rfloor}{w_{s}}}\\right\\rceil}{b_{b} + v_{b} - \\left\\lceil{\\frac{\\left\\lfloor{a_{b} j_{b}^{- e_{b}} \\left(j_{b} + 1\\right)^{e_{b}}}\\right\\rfloor}{w_{b}}}\\right\\rceil}$"
      ],
      "text/plain": [
       "(b_s + v_s - ceiling(floor(a_s*(j_s + 1)**e_s/j_s**e_s)/w_s))/(b_b + v_b - ceiling(floor(a_b*(j_b + 1)**e_b/j_b**e_b)/w_b))"
      ]
     },
     "execution_count": 11,
     "metadata": {},
     "output_type": "execute_result"
    }
   ],
   "source": [
    "effByExps = eff.subs(Delta_s, deltaByExp['s']).subs(Delta_b, deltaByExp['b'])\n",
    "if simp:\n",
    "  effByExps = simplify(effByExps)\n",
    "effByExps"
   ]
  },
  {
   "cell_type": "markdown",
   "metadata": {},
   "source": [
    "## Inequality-constraints\n",
    "\n",
    "- value in A0 of buying must not exceed that of selling\n",
    "- the exponents must adhere to their upper (buying) resp. lower (selling) bounds given by our equation\n",
    "- need to buy and sell minimum amounts\n",
    "- cannot buy more than the available balance\n",
    "- cannot sell more than maxSelling\n",
    "- the spot prices must not exceed maxInteger\n",
    "- bonus: the total number of multiplications for both exponentiations must not exceed expLimit (TODO)\n",
    "\n",
    "### value cannot decrease"
   ]
  },
  {
   "cell_type": "code",
   "execution_count": 13,
   "metadata": {},
   "outputs": [
    {
     "data": {
      "text/latex": [
       "$\\displaystyle \\left(- b_{b} - v_{b} + \\left\\lceil{\\frac{\\left\\lfloor{a_{b} j_{b}^{- e_{b}} \\left(j_{b} + 1\\right)^{e_{b}}}\\right\\rfloor}{w_{b}}}\\right\\rceil\\right) \\left\\lfloor{a_{s} j_{s}^{- e_{s}} \\left(j_{s} + 1\\right)^{e_{s}}}\\right\\rfloor$"
      ],
      "text/plain": [
       "(-b_b - v_b + ceiling(floor(a_b*(j_b + 1)**e_b/j_b**e_b)/w_b))*floor(a_s*(j_s + 1)**e_s/j_s**e_s)"
      ]
     },
     "execution_count": 13,
     "metadata": {},
     "output_type": "execute_result"
    }
   ],
   "source": [
    "a0Buying = spotByExp['s'] * deltaByExp['b'] # < 0 if delta_b_negative, > 0 otherwise\n",
    "if delta_b_negative:\n",
    "    a0Buying = -a0Buying # > 0\n",
    "if simp:\n",
    "  a0Buying = simplify(a0Buying)\n",
    "a0Buying"
   ]
  },
  {
   "cell_type": "code",
   "execution_count": 14,
   "metadata": {},
   "outputs": [
    {
     "data": {
      "text/latex": [
       "$\\displaystyle \\left(- b_{s} - v_{s} + \\left\\lceil{\\frac{\\left\\lfloor{a_{s} j_{s}^{- e_{s}} \\left(j_{s} + 1\\right)^{e_{s}}}\\right\\rfloor}{w_{s}}}\\right\\rceil\\right) \\left\\lfloor{a_{b} j_{b}^{- e_{b}} \\left(j_{b} + 1\\right)^{e_{b}}}\\right\\rfloor$"
      ],
      "text/plain": [
       "(-b_s - v_s + ceiling(floor(a_s*(j_s + 1)**e_s/j_s**e_s)/w_s))*floor(a_b*(j_b + 1)**e_b/j_b**e_b)"
      ]
     },
     "execution_count": 14,
     "metadata": {},
     "output_type": "execute_result"
    }
   ],
   "source": [
    "a0Selling = spotByExp['b'] * deltaByExp['s'] # > 0\n",
    "if simp:\n",
    "  a0Selling = simplify(a0Selling)\n",
    "a0Selling"
   ]
  },
  {
   "cell_type": "code",
   "execution_count": 15,
   "metadata": {},
   "outputs": [
    {
     "data": {
      "text/latex": [
       "$\\displaystyle - \\left(b_{b} + v_{b} - \\left\\lceil{\\frac{\\left\\lfloor{a_{b} j_{b}^{- e_{b}} \\left(j_{b} + 1\\right)^{e_{b}}}\\right\\rfloor}{w_{b}}}\\right\\rceil\\right) \\left\\lfloor{a_{s} j_{s}^{- e_{s}} \\left(j_{s} + 1\\right)^{e_{s}}}\\right\\rfloor + \\left(b_{s} + v_{s} - \\left\\lceil{\\frac{\\left\\lfloor{a_{s} j_{s}^{- e_{s}} \\left(j_{s} + 1\\right)^{e_{s}}}\\right\\rfloor}{w_{s}}}\\right\\rceil\\right) \\left\\lfloor{a_{b} j_{b}^{- e_{b}} \\left(j_{b} + 1\\right)^{e_{b}}}\\right\\rfloor$"
      ],
      "text/plain": [
       "-(b_b + v_b - ceiling(floor(a_b*(j_b + 1)**e_b/j_b**e_b)/w_b))*floor(a_s*(j_s + 1)**e_s/j_s**e_s) + (b_s + v_s - ceiling(floor(a_s*(j_s + 1)**e_s/j_s**e_s)/w_s))*floor(a_b*(j_b + 1)**e_b/j_b**e_b)"
      ]
     },
     "execution_count": 15,
     "metadata": {},
     "output_type": "execute_result"
    }
   ],
   "source": [
    "a0Bound = a0Buying - a0Selling # <=! 0\n",
    "if simp:\n",
    "  a0Bound = simplify(a0Bound)\n",
    "a0Bound"
   ]
  },
  {
   "cell_type": "markdown",
   "metadata": {},
   "source": [
    "### exponents cannot result in spot prices that are better than the amm-prices"
   ]
  },
  {
   "cell_type": "code",
   "execution_count": 16,
   "metadata": {},
   "outputs": [
    {
     "data": {
      "text/latex": [
       "$\\displaystyle e_{b} - \\log{\\left(a_{b}^{- \\frac{1}{\\log{\\left(\\frac{j_{b} + 1}{j_{b}} \\right)}}} \\left(w_{b} \\left(b_{b} + v_{b}\\right)\\right)^{\\frac{1}{\\log{\\left(\\frac{j_{b} + 1}{j_{b}} \\right)}}} \\right)}$"
      ],
      "text/plain": [
       "e_b - log((w_b*(b_b + v_b))**(1/log((j_b + 1)/j_b))/a_b**(1/log((j_b + 1)/j_b)))"
      ]
     },
     "execution_count": 16,
     "metadata": {},
     "output_type": "execute_result"
    }
   ],
   "source": [
    "def expBound_(asset, s, v, b, w, j, e, Delta, a, min):\n",
    "    e_bound = log(w * (v + b) /a, 1 + 1/j) # constant wrt e\n",
    "    if simp:\n",
    "        e_bound = simplify(e_bound)\n",
    "    if asset == 'b':\n",
    "        f = e - e_bound # <=! 0 (upper bound)\n",
    "    else:\n",
    "        f = e_bound - e # <=! 0 (lower bound)\n",
    "    if simp:\n",
    "        f = simplify(f)\n",
    "    return f\n",
    "\n",
    "expBound = {asset: expBound_(asset, *all_symbols[asset]) for asset in assets}\n",
    "expBound['b']"
   ]
  },
  {
   "cell_type": "code",
   "execution_count": 17,
   "metadata": {},
   "outputs": [
    {
     "data": {
      "text/latex": [
       "$\\displaystyle - e_{s} + \\log{\\left(a_{s}^{- \\frac{1}{\\log{\\left(\\frac{j_{s} + 1}{j_{s}} \\right)}}} \\left(w_{s} \\left(b_{s} + v_{s}\\right)\\right)^{\\frac{1}{\\log{\\left(\\frac{j_{s} + 1}{j_{s}} \\right)}}} \\right)}$"
      ],
      "text/plain": [
       "-e_s + log((w_s*(b_s + v_s))**(1/log((j_s + 1)/j_s))/a_s**(1/log((j_s + 1)/j_s)))"
      ]
     },
     "execution_count": 17,
     "metadata": {},
     "output_type": "execute_result"
    }
   ],
   "source": [
    "expBound['s']"
   ]
  },
  {
   "cell_type": "markdown",
   "metadata": {},
   "source": [
    "### spot prices cannot exceed maxInteger"
   ]
  },
  {
   "cell_type": "code",
   "execution_count": 18,
   "metadata": {},
   "outputs": [
    {
     "data": {
      "text/latex": [
       "$\\displaystyle - I_{max} + \\left\\lfloor{a_{b} j_{b}^{- e_{b}} \\left(j_{b} + 1\\right)^{e_{b}}}\\right\\rfloor$"
      ],
      "text/plain": [
       "-I_max + floor(a_b*(j_b + 1)**e_b/j_b**e_b)"
      ]
     },
     "execution_count": 18,
     "metadata": {},
     "output_type": "execute_result"
    }
   ],
   "source": [
    "max_s, I_max = symbols('max_s I_max', positive=True, integer=True)\n",
    "\n",
    "maxSpotBound_b = spotByExp['b'] - I_max # <=! 0\n",
    "if simp:\n",
    "  maxSpotBound_b = simplify(maxSpotBound_b)\n",
    "maxSpotBound_b"
   ]
  },
  {
   "cell_type": "code",
   "execution_count": 19,
   "metadata": {},
   "outputs": [
    {
     "data": {
      "text/latex": [
       "$\\displaystyle - I_{max} + \\left\\lfloor{a_{s} j_{s}^{- e_{s}} \\left(j_{s} + 1\\right)^{e_{s}}}\\right\\rfloor$"
      ],
      "text/plain": [
       "-I_max + floor(a_s*(j_s + 1)**e_s/j_s**e_s)"
      ]
     },
     "execution_count": 19,
     "metadata": {},
     "output_type": "execute_result"
    }
   ],
   "source": [
    "maxSpotBound_s = spotByExp['s'] - I_max # <=! 0\n",
    "if simp:\n",
    "  maxSpotBound_s = simplify(maxSpotBound_s)\n",
    "maxSpotBound_s"
   ]
  },
  {
   "cell_type": "markdown",
   "metadata": {},
   "source": [
    "### need to swap at least minimum amounts"
   ]
  },
  {
   "cell_type": "code",
   "execution_count": 20,
   "metadata": {},
   "outputs": [
    {
     "data": {
      "text/latex": [
       "$\\displaystyle b_{b} + min_{b} + v_{b} - \\left\\lceil{\\frac{\\left\\lfloor{a_{b} j_{b}^{- e_{b}} \\left(j_{b} + 1\\right)^{e_{b}}}\\right\\rfloor}{w_{b}}}\\right\\rceil$"
      ],
      "text/plain": [
       "b_b + min_b + v_b - ceiling(floor(a_b*(j_b + 1)**e_b/j_b**e_b)/w_b)"
      ]
     },
     "execution_count": 20,
     "metadata": {},
     "output_type": "execute_result"
    }
   ],
   "source": [
    "if delta_b_negative:\n",
    "  minAmntBound_b = min_b + deltaByExp['b'] # <=! 0\n",
    "else:\n",
    "  minAmntBound_b = min_b - deltaByExp['b'] # <=! 0\n",
    "if simp:\n",
    "  minAmntBound_b = simplify(minAmntBound_b)\n",
    "minAmntBound_b"
   ]
  },
  {
   "cell_type": "code",
   "execution_count": 21,
   "metadata": {},
   "outputs": [
    {
     "data": {
      "text/latex": [
       "$\\displaystyle b_{s} + min_{s} + v_{s} - \\left\\lceil{\\frac{\\left\\lfloor{a_{s} j_{s}^{- e_{s}} \\left(j_{s} + 1\\right)^{e_{s}}}\\right\\rfloor}{w_{s}}}\\right\\rceil$"
      ],
      "text/plain": [
       "b_s + min_s + v_s - ceiling(floor(a_s*(j_s + 1)**e_s/j_s**e_s)/w_s)"
      ]
     },
     "execution_count": 21,
     "metadata": {},
     "output_type": "execute_result"
    }
   ],
   "source": [
    "minAmntBound_s = min_s - deltaByExp['s'] # <=! 0\n",
    "if simp:\n",
    "  minAmntBound_s = simplify(minAmntBound_s)\n",
    "minAmntBound_s"
   ]
  },
  {
   "cell_type": "markdown",
   "metadata": {},
   "source": [
    "### need to swap at most maximum amounts"
   ]
  },
  {
   "cell_type": "code",
   "execution_count": 22,
   "metadata": {},
   "outputs": [
    {
     "data": {
      "text/latex": [
       "$\\displaystyle - 2 b_{b} - v_{b} + \\left\\lceil{\\frac{\\left\\lfloor{a_{b} j_{b}^{- e_{b}} \\left(j_{b} + 1\\right)^{e_{b}}}\\right\\rfloor}{w_{b}}}\\right\\rceil$"
      ],
      "text/plain": [
       "-2*b_b - v_b + ceiling(floor(a_b*(j_b + 1)**e_b/j_b**e_b)/w_b)"
      ]
     },
     "execution_count": 22,
     "metadata": {},
     "output_type": "execute_result"
    }
   ],
   "source": [
    "if delta_b_negative:\n",
    "  maxAmntBound_b = -deltaByExp['b'] - b_b # <=! 0\n",
    "else:\n",
    "  maxAmntBound_b = deltaByExp['b'] - b_b # <=! 0\n",
    "if simp:\n",
    "  maxAmntBound_b = simplify(maxAmntBound_b)\n",
    "maxAmntBound_b"
   ]
  },
  {
   "cell_type": "code",
   "execution_count": 23,
   "metadata": {},
   "outputs": [
    {
     "data": {
      "text/latex": [
       "$\\displaystyle - b_{s} - max_{s} - v_{s} + \\left\\lceil{\\frac{\\left\\lfloor{a_{s} j_{s}^{- e_{s}} \\left(j_{s} + 1\\right)^{e_{s}}}\\right\\rfloor}{w_{s}}}\\right\\rceil$"
      ],
      "text/plain": [
       "-b_s - max_s - v_s + ceiling(floor(a_s*(j_s + 1)**e_s/j_s**e_s)/w_s)"
      ]
     },
     "execution_count": 23,
     "metadata": {},
     "output_type": "execute_result"
    }
   ],
   "source": [
    "maxAmntBound_s = deltaByExp['s'] - max_s # <=! 0\n",
    "maxAmntBound_s"
   ]
  },
  {
   "cell_type": "markdown",
   "metadata": {},
   "source": [
    "### total number of multiplications of both exponentiations cannot exceed expLimit"
   ]
  },
  {
   "cell_type": "code",
   "execution_count": 24,
   "metadata": {},
   "outputs": [
    {
     "data": {
      "text/latex": [
       "$\\displaystyle \\left\\lceil{\\frac{\\log{\\left(e_{b} \\right)}}{\\log{\\left(2 \\right)}}}\\right\\rceil$"
      ],
      "text/plain": [
       "ceiling(log(e_b)/log(2))"
      ]
     },
     "execution_count": 24,
     "metadata": {},
     "output_type": "execute_result"
    }
   ],
   "source": [
    "# expLimit, aka maximum total number of multiplications for both exponents\n",
    "m_max = symbols('m_max', positive=True, integer=True)\n",
    "\n",
    "def numMultsLower_(asset, s,v, b, w, j, e, Delta, a, min):\n",
    "  return floor(log(e, 2))\n",
    "\n",
    "# the best number of multiplications we can get by increasing e\n",
    "def bestMultsAhead_(asset, s,v, b, w, j, e, Delta, a, min):\n",
    "  return ceiling(log(e, 2))\n",
    "\n",
    "bestMultsAhead = {asset: bestMultsAhead_(asset, *all_symbols[asset]) for asset in assets}\n",
    "bestMultsAhead['b']"
   ]
  },
  {
   "cell_type": "code",
   "execution_count": 25,
   "metadata": {},
   "outputs": [
    {
     "data": {
      "text/latex": [
       "$\\displaystyle - m_{max} + \\left\\lceil{\\frac{\\log{\\left(e_{b} \\right)}}{\\log{\\left(2 \\right)}}}\\right\\rceil + \\left\\lceil{\\frac{\\log{\\left(e_{s} \\right)}}{\\log{\\left(2 \\right)}}}\\right\\rceil$"
      ],
      "text/plain": [
       "-m_max + ceiling(log(e_b)/log(2)) + ceiling(log(e_s)/log(2))"
      ]
     },
     "execution_count": 25,
     "metadata": {},
     "output_type": "execute_result"
    }
   ],
   "source": [
    "# optimistic estimate. This relies on the vague intuition that exponents will be minimal from the other constraints, so best we can do is increase them if this one is violated\n",
    "optimisticMultsBound = bestMultsAhead['b'] + bestMultsAhead['s'] - m_max # <=! 0\n",
    "if simp:\n",
    "  optimisticMultsBound = simplify(optimisticMultsBound)\n",
    "optimisticMultsBound"
   ]
  },
  {
   "cell_type": "markdown",
   "metadata": {},
   "source": [
    "## Lagrangian"
   ]
  },
  {
   "cell_type": "code",
   "execution_count": 35,
   "metadata": {},
   "outputs": [
    {
     "data": {
      "text/latex": [
       "$\\displaystyle \\lambda_{1} \\left(e_{b} - \\log{\\left(a_{b}^{- \\frac{1}{\\log{\\left(\\frac{j_{b} + 1}{j_{b}} \\right)}}} \\left(w_{b} \\left(b_{b} + v_{b}\\right)\\right)^{\\frac{1}{\\log{\\left(\\frac{j_{b} + 1}{j_{b}} \\right)}}} \\right)}\\right) + \\lambda_{10} \\left(- m_{max} + \\left\\lceil{\\frac{\\log{\\left(e_{b} \\right)}}{\\log{\\left(2 \\right)}}}\\right\\rceil + \\left\\lceil{\\frac{\\log{\\left(e_{s} \\right)}}{\\log{\\left(2 \\right)}}}\\right\\rceil\\right) + \\lambda_{2} \\left(- e_{s} + \\log{\\left(a_{s}^{- \\frac{1}{\\log{\\left(\\frac{j_{s} + 1}{j_{s}} \\right)}}} \\left(w_{s} \\left(b_{s} + v_{s}\\right)\\right)^{\\frac{1}{\\log{\\left(\\frac{j_{s} + 1}{j_{s}} \\right)}}} \\right)}\\right) + \\lambda_{3} \\left(- I_{max} + \\left\\lfloor{a_{b} j_{b}^{- e_{b}} \\left(j_{b} + 1\\right)^{e_{b}}}\\right\\rfloor\\right) + \\lambda_{4} \\left(- I_{max} + \\left\\lfloor{a_{s} j_{s}^{- e_{s}} \\left(j_{s} + 1\\right)^{e_{s}}}\\right\\rfloor\\right) + \\lambda_{5} \\left(b_{b} + min_{b} + v_{b} - \\left\\lceil{\\frac{\\left\\lfloor{a_{b} j_{b}^{- e_{b}} \\left(j_{b} + 1\\right)^{e_{b}}}\\right\\rfloor}{w_{b}}}\\right\\rceil\\right) + \\lambda_{6} \\left(b_{s} + min_{s} + v_{s} - \\left\\lceil{\\frac{\\left\\lfloor{a_{s} j_{s}^{- e_{s}} \\left(j_{s} + 1\\right)^{e_{s}}}\\right\\rfloor}{w_{s}}}\\right\\rceil\\right) + \\lambda_{7} \\left(- 2 b_{b} - v_{b} + \\left\\lceil{\\frac{\\left\\lfloor{a_{b} j_{b}^{- e_{b}} \\left(j_{b} + 1\\right)^{e_{b}}}\\right\\rfloor}{w_{b}}}\\right\\rceil\\right) + \\lambda_{8} \\left(- b_{s} - max_{s} - v_{s} + \\left\\lceil{\\frac{\\left\\lfloor{a_{s} j_{s}^{- e_{s}} \\left(j_{s} + 1\\right)^{e_{s}}}\\right\\rfloor}{w_{s}}}\\right\\rceil\\right) + \\lambda_{9} \\left(- \\left(b_{b} + v_{b} - \\left\\lceil{\\frac{\\left\\lfloor{a_{b} j_{b}^{- e_{b}} \\left(j_{b} + 1\\right)^{e_{b}}}\\right\\rfloor}{w_{b}}}\\right\\rceil\\right) \\left\\lfloor{a_{s} j_{s}^{- e_{s}} \\left(j_{s} + 1\\right)^{e_{s}}}\\right\\rfloor + \\left(b_{s} + v_{s} - \\left\\lceil{\\frac{\\left\\lfloor{a_{s} j_{s}^{- e_{s}} \\left(j_{s} + 1\\right)^{e_{s}}}\\right\\rfloor}{w_{s}}}\\right\\rceil\\right) \\left\\lfloor{a_{b} j_{b}^{- e_{b}} \\left(j_{b} + 1\\right)^{e_{b}}}\\right\\rfloor\\right) + \\frac{b_{s} + v_{s} - \\left\\lceil{\\frac{\\left\\lfloor{a_{s} j_{s}^{- e_{s}} \\left(j_{s} + 1\\right)^{e_{s}}}\\right\\rfloor}{w_{s}}}\\right\\rceil}{b_{b} + v_{b} - \\left\\lceil{\\frac{\\left\\lfloor{a_{b} j_{b}^{- e_{b}} \\left(j_{b} + 1\\right)^{e_{b}}}\\right\\rfloor}{w_{b}}}\\right\\rceil}$"
      ],
      "text/plain": [
       "lambda_1*(e_b - log((w_b*(b_b + v_b))**(1/log((j_b + 1)/j_b))/a_b**(1/log((j_b + 1)/j_b)))) + lambda_10*(-m_max + ceiling(log(e_b)/log(2)) + ceiling(log(e_s)/log(2))) + lambda_2*(-e_s + log((w_s*(b_s + v_s))**(1/log((j_s + 1)/j_s))/a_s**(1/log((j_s + 1)/j_s)))) + lambda_3*(-I_max + floor(a_b*(j_b + 1)**e_b/j_b**e_b)) + lambda_4*(-I_max + floor(a_s*(j_s + 1)**e_s/j_s**e_s)) + lambda_5*(b_b + min_b + v_b - ceiling(floor(a_b*(j_b + 1)**e_b/j_b**e_b)/w_b)) + lambda_6*(b_s + min_s + v_s - ceiling(floor(a_s*(j_s + 1)**e_s/j_s**e_s)/w_s)) + lambda_7*(-2*b_b - v_b + ceiling(floor(a_b*(j_b + 1)**e_b/j_b**e_b)/w_b)) + lambda_8*(-b_s - max_s - v_s + ceiling(floor(a_s*(j_s + 1)**e_s/j_s**e_s)/w_s)) + lambda_9*(-(b_b + v_b - ceiling(floor(a_b*(j_b + 1)**e_b/j_b**e_b)/w_b))*floor(a_s*(j_s + 1)**e_s/j_s**e_s) + (b_s + v_s - ceiling(floor(a_s*(j_s + 1)**e_s/j_s**e_s)/w_s))*floor(a_b*(j_b + 1)**e_b/j_b**e_b)) + (b_s + v_s - ceiling(floor(a_s*(j_s + 1)**e_s/j_s**e_s)/w_s))/(b_b + v_b - ceiling(floor(a_b*(j_b + 1)**e_b/j_b**e_b)/w_b))"
      ]
     },
     "execution_count": 35,
     "metadata": {},
     "output_type": "execute_result"
    }
   ],
   "source": [
    "# Decision variables\n",
    "xs = [e_b, e_s]\n",
    "\n",
    "# Equality-Constraints\n",
    "hs = [] \n",
    "\n",
    "# Inequality-Constraints\n",
    "gs = [\n",
    "    expBound['b'],\n",
    "    expBound['s'],\n",
    "    maxSpotBound_b,\n",
    "    maxSpotBound_s,\n",
    "    minAmntBound_b,\n",
    "    minAmntBound_s,\n",
    "    maxAmntBound_b,\n",
    "    maxAmntBound_s,\n",
    "    a0Bound,\n",
    "    optimisticMultsBound,\n",
    "] \n",
    "\n",
    "# Lagrange multipliers for equality- and inequality-constraints\n",
    "mus = symbols('mu_1:{}'.format(len(hs)+1), nonnegative=True)\n",
    "lambdas = symbols('lambda_1:{}'.format(len(gs)+1), nonnegative=True)\n",
    "\n",
    "# Objective function\n",
    "f = effByExps\n",
    "\n",
    "# Lagrangian\n",
    "L = f + sum([mu * h for mu, h in zip(mus, hs)]) + sum([lambda_ * g for lambda_, g in zip(lambdas, gs)])\n",
    "# if simp: # not using this anyways\n",
    "#     L = simplify(L)\n",
    "L"
   ]
  },
  {
   "cell_type": "code",
   "execution_count": 36,
   "metadata": {},
   "outputs": [
    {
     "data": {
      "text/latex": [
       "$\\displaystyle \\lambda_{1} + \\lambda_{10} \\left(- \\left\\lceil{\\frac{\\log{\\left(e_{b} \\right)}}{\\log{\\left(2 \\right)}}}\\right\\rceil + \\left\\lceil{\\frac{\\log{\\left(e_{b} + 1 \\right)}}{\\log{\\left(2 \\right)}}}\\right\\rceil\\right) + \\lambda_{3} \\left(- \\left\\lfloor{a_{b} j_{b}^{- e_{b}} \\left(j_{b} + 1\\right)^{e_{b}}}\\right\\rfloor + \\left\\lfloor{a_{b} j_{b}^{- e_{b} - 1} \\left(j_{b} + 1\\right)^{e_{b} + 1}}\\right\\rfloor\\right) + \\lambda_{5} \\left(\\left\\lceil{\\frac{\\left\\lfloor{a_{b} j_{b}^{- e_{b}} \\left(j_{b} + 1\\right)^{e_{b}}}\\right\\rfloor}{w_{b}}}\\right\\rceil - \\left\\lceil{\\frac{\\left\\lfloor{a_{b} j_{b}^{- e_{b} - 1} \\left(j_{b} + 1\\right)^{e_{b} + 1}}\\right\\rfloor}{w_{b}}}\\right\\rceil\\right) + \\lambda_{7} \\left(- \\left\\lceil{\\frac{\\left\\lfloor{a_{b} j_{b}^{- e_{b}} \\left(j_{b} + 1\\right)^{e_{b}}}\\right\\rfloor}{w_{b}}}\\right\\rceil + \\left\\lceil{\\frac{\\left\\lfloor{a_{b} j_{b}^{- e_{b} - 1} \\left(j_{b} + 1\\right)^{e_{b} + 1}}\\right\\rfloor}{w_{b}}}\\right\\rceil\\right) + \\lambda_{9} \\left(\\left(b_{b} + v_{b} - \\left\\lceil{\\frac{\\left\\lfloor{a_{b} j_{b}^{- e_{b}} \\left(j_{b} + 1\\right)^{e_{b}}}\\right\\rfloor}{w_{b}}}\\right\\rceil\\right) \\left\\lfloor{a_{s} j_{s}^{- e_{s}} \\left(j_{s} + 1\\right)^{e_{s}}}\\right\\rfloor - \\left(b_{b} + v_{b} - \\left\\lceil{\\frac{\\left\\lfloor{a_{b} j_{b}^{- e_{b} - 1} \\left(j_{b} + 1\\right)^{e_{b} + 1}}\\right\\rfloor}{w_{b}}}\\right\\rceil\\right) \\left\\lfloor{a_{s} j_{s}^{- e_{s}} \\left(j_{s} + 1\\right)^{e_{s}}}\\right\\rfloor - \\left(b_{s} + v_{s} - \\left\\lceil{\\frac{\\left\\lfloor{a_{s} j_{s}^{- e_{s}} \\left(j_{s} + 1\\right)^{e_{s}}}\\right\\rfloor}{w_{s}}}\\right\\rceil\\right) \\left\\lfloor{a_{b} j_{b}^{- e_{b}} \\left(j_{b} + 1\\right)^{e_{b}}}\\right\\rfloor + \\left(b_{s} + v_{s} - \\left\\lceil{\\frac{\\left\\lfloor{a_{s} j_{s}^{- e_{s}} \\left(j_{s} + 1\\right)^{e_{s}}}\\right\\rfloor}{w_{s}}}\\right\\rceil\\right) \\left\\lfloor{a_{b} j_{b}^{- e_{b} - 1} \\left(j_{b} + 1\\right)^{e_{b} + 1}}\\right\\rfloor\\right) + \\frac{\\left(b_{b} + v_{b} - \\left\\lceil{\\frac{\\left\\lfloor{a_{b} j_{b}^{- e_{b}} \\left(j_{b} + 1\\right)^{e_{b}}}\\right\\rfloor}{w_{b}}}\\right\\rceil\\right) \\left(b_{s} + v_{s} - \\left\\lceil{\\frac{\\left\\lfloor{a_{s} j_{s}^{- e_{s}} \\left(j_{s} + 1\\right)^{e_{s}}}\\right\\rfloor}{w_{s}}}\\right\\rceil\\right) + \\left(b_{b} + v_{b} - \\left\\lceil{\\frac{\\left\\lfloor{a_{b} j_{b}^{- e_{b} - 1} \\left(j_{b} + 1\\right)^{e_{b} + 1}}\\right\\rfloor}{w_{b}}}\\right\\rceil\\right) \\left(- b_{s} - v_{s} + \\left\\lceil{\\frac{\\left\\lfloor{a_{s} j_{s}^{- e_{s}} \\left(j_{s} + 1\\right)^{e_{s}}}\\right\\rfloor}{w_{s}}}\\right\\rceil\\right)}{\\left(b_{b} + v_{b} - \\left\\lceil{\\frac{\\left\\lfloor{a_{b} j_{b}^{- e_{b}} \\left(j_{b} + 1\\right)^{e_{b}}}\\right\\rfloor}{w_{b}}}\\right\\rceil\\right) \\left(b_{b} + v_{b} - \\left\\lceil{\\frac{\\left\\lfloor{a_{b} j_{b}^{- e_{b} - 1} \\left(j_{b} + 1\\right)^{e_{b} + 1}}\\right\\rfloor}{w_{b}}}\\right\\rceil\\right)} = 0$"
      ],
      "text/plain": [
       "Eq(lambda_1 + lambda_10*(-ceiling(log(e_b)/log(2)) + ceiling(log(e_b + 1)/log(2))) + lambda_3*(-floor(a_b*(j_b + 1)**e_b/j_b**e_b) + floor(a_b*j_b**(-e_b - 1)*(j_b + 1)**(e_b + 1))) + lambda_5*(ceiling(floor(a_b*(j_b + 1)**e_b/j_b**e_b)/w_b) - ceiling(floor(a_b*j_b**(-e_b - 1)*(j_b + 1)**(e_b + 1))/w_b)) + lambda_7*(-ceiling(floor(a_b*(j_b + 1)**e_b/j_b**e_b)/w_b) + ceiling(floor(a_b*j_b**(-e_b - 1)*(j_b + 1)**(e_b + 1))/w_b)) + lambda_9*((b_b + v_b - ceiling(floor(a_b*(j_b + 1)**e_b/j_b**e_b)/w_b))*floor(a_s*(j_s + 1)**e_s/j_s**e_s) - (b_b + v_b - ceiling(floor(a_b*j_b**(-e_b - 1)*(j_b + 1)**(e_b + 1))/w_b))*floor(a_s*(j_s + 1)**e_s/j_s**e_s) - (b_s + v_s - ceiling(floor(a_s*(j_s + 1)**e_s/j_s**e_s)/w_s))*floor(a_b*(j_b + 1)**e_b/j_b**e_b) + (b_s + v_s - ceiling(floor(a_s*(j_s + 1)**e_s/j_s**e_s)/w_s))*floor(a_b*j_b**(-e_b - 1)*(j_b + 1)**(e_b + 1))) + ((b_b + v_b - ceiling(floor(a_b*(j_b + 1)**e_b/j_b**e_b)/w_b))*(b_s + v_s - ceiling(floor(a_s*(j_s + 1)**e_s/j_s**e_s)/w_s)) + (b_b + v_b - ceiling(floor(a_b*j_b**(-e_b - 1)*(j_b + 1)**(e_b + 1))/w_b))*(-b_s - v_s + ceiling(floor(a_s*(j_s + 1)**e_s/j_s**e_s)/w_s)))/((b_b + v_b - ceiling(floor(a_b*(j_b + 1)**e_b/j_b**e_b)/w_b))*(b_b + v_b - ceiling(floor(a_b*j_b**(-e_b - 1)*(j_b + 1)**(e_b + 1))/w_b))), 0)"
      ]
     },
     "metadata": {},
     "output_type": "display_data"
    },
    {
     "data": {
      "text/latex": [
       "$\\displaystyle \\lambda_{10} \\left(- \\left\\lceil{\\frac{\\log{\\left(e_{s} \\right)}}{\\log{\\left(2 \\right)}}}\\right\\rceil + \\left\\lceil{\\frac{\\log{\\left(e_{s} + 1 \\right)}}{\\log{\\left(2 \\right)}}}\\right\\rceil\\right) - \\lambda_{2} + \\lambda_{4} \\left(- \\left\\lfloor{a_{s} j_{s}^{- e_{s}} \\left(j_{s} + 1\\right)^{e_{s}}}\\right\\rfloor + \\left\\lfloor{a_{s} j_{s}^{- e_{s} - 1} \\left(j_{s} + 1\\right)^{e_{s} + 1}}\\right\\rfloor\\right) + \\lambda_{6} \\left(\\left\\lceil{\\frac{\\left\\lfloor{a_{s} j_{s}^{- e_{s}} \\left(j_{s} + 1\\right)^{e_{s}}}\\right\\rfloor}{w_{s}}}\\right\\rceil - \\left\\lceil{\\frac{\\left\\lfloor{a_{s} j_{s}^{- e_{s} - 1} \\left(j_{s} + 1\\right)^{e_{s} + 1}}\\right\\rfloor}{w_{s}}}\\right\\rceil\\right) + \\lambda_{8} \\left(- \\left\\lceil{\\frac{\\left\\lfloor{a_{s} j_{s}^{- e_{s}} \\left(j_{s} + 1\\right)^{e_{s}}}\\right\\rfloor}{w_{s}}}\\right\\rceil + \\left\\lceil{\\frac{\\left\\lfloor{a_{s} j_{s}^{- e_{s} - 1} \\left(j_{s} + 1\\right)^{e_{s} + 1}}\\right\\rfloor}{w_{s}}}\\right\\rceil\\right) + \\lambda_{9} \\left(\\left(b_{b} + v_{b} - \\left\\lceil{\\frac{\\left\\lfloor{a_{b} j_{b}^{- e_{b}} \\left(j_{b} + 1\\right)^{e_{b}}}\\right\\rfloor}{w_{b}}}\\right\\rceil\\right) \\left\\lfloor{a_{s} j_{s}^{- e_{s}} \\left(j_{s} + 1\\right)^{e_{s}}}\\right\\rfloor - \\left(b_{b} + v_{b} - \\left\\lceil{\\frac{\\left\\lfloor{a_{b} j_{b}^{- e_{b}} \\left(j_{b} + 1\\right)^{e_{b}}}\\right\\rfloor}{w_{b}}}\\right\\rceil\\right) \\left\\lfloor{a_{s} j_{s}^{- e_{s} - 1} \\left(j_{s} + 1\\right)^{e_{s} + 1}}\\right\\rfloor - \\left(b_{s} + v_{s} - \\left\\lceil{\\frac{\\left\\lfloor{a_{s} j_{s}^{- e_{s}} \\left(j_{s} + 1\\right)^{e_{s}}}\\right\\rfloor}{w_{s}}}\\right\\rceil\\right) \\left\\lfloor{a_{b} j_{b}^{- e_{b}} \\left(j_{b} + 1\\right)^{e_{b}}}\\right\\rfloor + \\left(b_{s} + v_{s} - \\left\\lceil{\\frac{\\left\\lfloor{a_{s} j_{s}^{- e_{s} - 1} \\left(j_{s} + 1\\right)^{e_{s} + 1}}\\right\\rfloor}{w_{s}}}\\right\\rceil\\right) \\left\\lfloor{a_{b} j_{b}^{- e_{b}} \\left(j_{b} + 1\\right)^{e_{b}}}\\right\\rfloor\\right) + \\frac{\\left\\lceil{\\frac{\\left\\lfloor{a_{s} j_{s}^{- e_{s}} \\left(j_{s} + 1\\right)^{e_{s}}}\\right\\rfloor}{w_{s}}}\\right\\rceil - \\left\\lceil{\\frac{\\left\\lfloor{a_{s} j_{s}^{- e_{s} - 1} \\left(j_{s} + 1\\right)^{e_{s} + 1}}\\right\\rfloor}{w_{s}}}\\right\\rceil}{b_{b} + v_{b} - \\left\\lceil{\\frac{\\left\\lfloor{a_{b} j_{b}^{- e_{b}} \\left(j_{b} + 1\\right)^{e_{b}}}\\right\\rfloor}{w_{b}}}\\right\\rceil} = 0$"
      ],
      "text/plain": [
       "Eq(lambda_10*(-ceiling(log(e_s)/log(2)) + ceiling(log(e_s + 1)/log(2))) - lambda_2 + lambda_4*(-floor(a_s*(j_s + 1)**e_s/j_s**e_s) + floor(a_s*j_s**(-e_s - 1)*(j_s + 1)**(e_s + 1))) + lambda_6*(ceiling(floor(a_s*(j_s + 1)**e_s/j_s**e_s)/w_s) - ceiling(floor(a_s*j_s**(-e_s - 1)*(j_s + 1)**(e_s + 1))/w_s)) + lambda_8*(-ceiling(floor(a_s*(j_s + 1)**e_s/j_s**e_s)/w_s) + ceiling(floor(a_s*j_s**(-e_s - 1)*(j_s + 1)**(e_s + 1))/w_s)) + lambda_9*((b_b + v_b - ceiling(floor(a_b*(j_b + 1)**e_b/j_b**e_b)/w_b))*floor(a_s*(j_s + 1)**e_s/j_s**e_s) - (b_b + v_b - ceiling(floor(a_b*(j_b + 1)**e_b/j_b**e_b)/w_b))*floor(a_s*j_s**(-e_s - 1)*(j_s + 1)**(e_s + 1)) - (b_s + v_s - ceiling(floor(a_s*(j_s + 1)**e_s/j_s**e_s)/w_s))*floor(a_b*(j_b + 1)**e_b/j_b**e_b) + (b_s + v_s - ceiling(floor(a_s*j_s**(-e_s - 1)*(j_s + 1)**(e_s + 1))/w_s))*floor(a_b*(j_b + 1)**e_b/j_b**e_b)) + (ceiling(floor(a_s*(j_s + 1)**e_s/j_s**e_s)/w_s) - ceiling(floor(a_s*j_s**(-e_s - 1)*(j_s + 1)**(e_s + 1))/w_s))/(b_b + v_b - ceiling(floor(a_b*(j_b + 1)**e_b/j_b**e_b)/w_b)), 0)"
      ]
     },
     "metadata": {},
     "output_type": "display_data"
    }
   ],
   "source": [
    "# Equations from stationarity\n",
    "\n",
    "def discrete_diff(f, n):\n",
    "  diff = f.subs(n, n+1) - f\n",
    "  if simp:\n",
    "    diff = simplify(diff)\n",
    "  return diff\n",
    "\n",
    "equations = []\n",
    "for x in xs:\n",
    "  dL_dx = discrete_diff(f, x)\\\n",
    "    + sum([discrete_diff(mu * h, x) for mu, h in zip(mus, hs)])\\\n",
    "    + sum([discrete_diff(lambda_ * g, x) for lambda_, g in zip(lambdas, gs)]) # probably slightly better to do it this way instead of simply using L\n",
    "  equation = Eq(dL_dx, 0)\n",
    "  # if simp: # results in error from the bestMultsAhead-constraint\n",
    "  #   equation = simplify(equation)\n",
    "  display(equation)\n",
    "  equations.append(equation)"
   ]
  },
  {
   "cell_type": "code",
   "execution_count": 37,
   "metadata": {},
   "outputs": [],
   "source": [
    "# Primal feasibility conditions for equality-constraints\n",
    "for h in hs:\n",
    "    equation = Eq(h, 0)\n",
    "    if simp:\n",
    "        equation = simplify(equation)\n",
    "    display(equation)\n",
    "    equations.append(equation)"
   ]
  },
  {
   "cell_type": "code",
   "execution_count": 38,
   "metadata": {},
   "outputs": [
    {
     "data": {
      "text/latex": [
       "$\\displaystyle \\lambda_{1} \\left(e_{b} - \\log{\\left(a_{b}^{- \\frac{1}{\\log{\\left(\\frac{j_{b} + 1}{j_{b}} \\right)}}} \\left(w_{b} \\left(b_{b} + v_{b}\\right)\\right)^{\\frac{1}{\\log{\\left(\\frac{j_{b} + 1}{j_{b}} \\right)}}} \\right)}\\right) = 0$"
      ],
      "text/plain": [
       "Eq(lambda_1*(e_b - log((w_b*(b_b + v_b))**(1/log((j_b + 1)/j_b))/a_b**(1/log((j_b + 1)/j_b)))), 0)"
      ]
     },
     "metadata": {},
     "output_type": "display_data"
    },
    {
     "data": {
      "text/latex": [
       "$\\displaystyle \\lambda_{2} \\left(e_{s} - \\log{\\left(a_{s}^{- \\frac{1}{\\log{\\left(\\frac{j_{s} + 1}{j_{s}} \\right)}}} \\left(w_{s} \\left(b_{s} + v_{s}\\right)\\right)^{\\frac{1}{\\log{\\left(\\frac{j_{s} + 1}{j_{s}} \\right)}}} \\right)}\\right) = 0$"
      ],
      "text/plain": [
       "Eq(lambda_2*(e_s - log((w_s*(b_s + v_s))**(1/log((j_s + 1)/j_s))/a_s**(1/log((j_s + 1)/j_s)))), 0)"
      ]
     },
     "metadata": {},
     "output_type": "display_data"
    },
    {
     "data": {
      "text/latex": [
       "$\\displaystyle \\lambda_{3} \\left(- I_{max} + \\left\\lfloor{a_{b} j_{b}^{- e_{b}} \\left(j_{b} + 1\\right)^{e_{b}}}\\right\\rfloor\\right) = 0$"
      ],
      "text/plain": [
       "Eq(lambda_3*(-I_max + floor(a_b*(j_b + 1)**e_b/j_b**e_b)), 0)"
      ]
     },
     "metadata": {},
     "output_type": "display_data"
    },
    {
     "data": {
      "text/latex": [
       "$\\displaystyle \\lambda_{4} \\left(- I_{max} + \\left\\lfloor{a_{s} j_{s}^{- e_{s}} \\left(j_{s} + 1\\right)^{e_{s}}}\\right\\rfloor\\right) = 0$"
      ],
      "text/plain": [
       "Eq(lambda_4*(-I_max + floor(a_s*(j_s + 1)**e_s/j_s**e_s)), 0)"
      ]
     },
     "metadata": {},
     "output_type": "display_data"
    },
    {
     "data": {
      "text/latex": [
       "$\\displaystyle \\lambda_{5} \\left(b_{b} + min_{b} + v_{b} - \\left\\lceil{\\frac{\\left\\lfloor{a_{b} j_{b}^{- e_{b}} \\left(j_{b} + 1\\right)^{e_{b}}}\\right\\rfloor}{w_{b}}}\\right\\rceil\\right) = 0$"
      ],
      "text/plain": [
       "Eq(lambda_5*(b_b + min_b + v_b - ceiling(floor(a_b*(j_b + 1)**e_b/j_b**e_b)/w_b)), 0)"
      ]
     },
     "metadata": {},
     "output_type": "display_data"
    },
    {
     "data": {
      "text/latex": [
       "$\\displaystyle \\lambda_{6} \\left(b_{s} + min_{s} + v_{s} - \\left\\lceil{\\frac{\\left\\lfloor{a_{s} j_{s}^{- e_{s}} \\left(j_{s} + 1\\right)^{e_{s}}}\\right\\rfloor}{w_{s}}}\\right\\rceil\\right) = 0$"
      ],
      "text/plain": [
       "Eq(lambda_6*(b_s + min_s + v_s - ceiling(floor(a_s*(j_s + 1)**e_s/j_s**e_s)/w_s)), 0)"
      ]
     },
     "metadata": {},
     "output_type": "display_data"
    },
    {
     "data": {
      "text/latex": [
       "$\\displaystyle \\lambda_{7} \\left(- 2 b_{b} - v_{b} + \\left\\lceil{\\frac{\\left\\lfloor{a_{b} j_{b}^{- e_{b}} \\left(j_{b} + 1\\right)^{e_{b}}}\\right\\rfloor}{w_{b}}}\\right\\rceil\\right) = 0$"
      ],
      "text/plain": [
       "Eq(lambda_7*(-2*b_b - v_b + ceiling(floor(a_b*(j_b + 1)**e_b/j_b**e_b)/w_b)), 0)"
      ]
     },
     "metadata": {},
     "output_type": "display_data"
    },
    {
     "data": {
      "text/latex": [
       "$\\displaystyle \\lambda_{8} \\left(- b_{s} - max_{s} - v_{s} + \\left\\lceil{\\frac{\\left\\lfloor{a_{s} j_{s}^{- e_{s}} \\left(j_{s} + 1\\right)^{e_{s}}}\\right\\rfloor}{w_{s}}}\\right\\rceil\\right) = 0$"
      ],
      "text/plain": [
       "Eq(lambda_8*(-b_s - max_s - v_s + ceiling(floor(a_s*(j_s + 1)**e_s/j_s**e_s)/w_s)), 0)"
      ]
     },
     "metadata": {},
     "output_type": "display_data"
    },
    {
     "data": {
      "text/latex": [
       "$\\displaystyle \\lambda_{9} \\left(\\left(b_{b} + v_{b} - \\left\\lceil{\\frac{\\left\\lfloor{a_{b} j_{b}^{- e_{b}} \\left(j_{b} + 1\\right)^{e_{b}}}\\right\\rfloor}{w_{b}}}\\right\\rceil\\right) \\left\\lfloor{a_{s} j_{s}^{- e_{s}} \\left(j_{s} + 1\\right)^{e_{s}}}\\right\\rfloor - \\left(b_{s} + v_{s} - \\left\\lceil{\\frac{\\left\\lfloor{a_{s} j_{s}^{- e_{s}} \\left(j_{s} + 1\\right)^{e_{s}}}\\right\\rfloor}{w_{s}}}\\right\\rceil\\right) \\left\\lfloor{a_{b} j_{b}^{- e_{b}} \\left(j_{b} + 1\\right)^{e_{b}}}\\right\\rfloor\\right) = 0$"
      ],
      "text/plain": [
       "Eq(lambda_9*((b_b + v_b - ceiling(floor(a_b*(j_b + 1)**e_b/j_b**e_b)/w_b))*floor(a_s*(j_s + 1)**e_s/j_s**e_s) - (b_s + v_s - ceiling(floor(a_s*(j_s + 1)**e_s/j_s**e_s)/w_s))*floor(a_b*(j_b + 1)**e_b/j_b**e_b)), 0)"
      ]
     },
     "metadata": {},
     "output_type": "display_data"
    },
    {
     "data": {
      "text/latex": [
       "$\\displaystyle \\lambda_{10} \\left(- m_{max} + \\left\\lceil{\\frac{\\log{\\left(e_{b} \\right)}}{\\log{\\left(2 \\right)}}}\\right\\rceil + \\left\\lceil{\\frac{\\log{\\left(e_{s} \\right)}}{\\log{\\left(2 \\right)}}}\\right\\rceil\\right) = 0$"
      ],
      "text/plain": [
       "Eq(lambda_10*(-m_max + ceiling(log(e_b)/log(2)) + ceiling(log(e_s)/log(2))), 0)"
      ]
     },
     "metadata": {},
     "output_type": "display_data"
    }
   ],
   "source": [
    "# Complementary slackness conditions\n",
    "for lambda_, g in zip(lambdas, gs):\n",
    "    equation = Eq(lambda_ * g, 0)\n",
    "    if simp:\n",
    "        equation = simplify(equation)\n",
    "    display(equation)\n",
    "    equations.append(equation)"
   ]
  },
  {
   "cell_type": "code",
   "execution_count": 39,
   "metadata": {},
   "outputs": [],
   "source": [
    "def verify_inequality_constraints(solution, vars, gs):\n",
    "    subs_dict = dict(zip(vars, solution))\n",
    "    for g in gs:\n",
    "        if Gt(g.subs(subs_dict), 0) == True:\n",
    "            return False\n",
    "    return True"
   ]
  },
  {
   "cell_type": "code",
   "execution_count": 40,
   "metadata": {},
   "outputs": [
    {
     "data": {
      "text/plain": [
       "1"
      ]
     },
     "execution_count": 40,
     "metadata": {},
     "output_type": "execute_result"
    }
   ],
   "source": [
    "# Solve\n",
    "vars = xs + list(mus) + list(lambdas)\n",
    "solutions = nonlinsolve(equations, vars)\n",
    "len(solutions)"
   ]
  },
  {
   "cell_type": "code",
   "execution_count": 41,
   "metadata": {},
   "outputs": [
    {
     "data": {
      "text/plain": [
       "1"
      ]
     },
     "execution_count": 41,
     "metadata": {},
     "output_type": "execute_result"
    }
   ],
   "source": [
    "solutions_ = [solution for solution in solutions if verify_inequality_constraints(solution, vars, gs)]\n",
    "len(solutions_)"
   ]
  },
  {
   "cell_type": "code",
   "execution_count": 47,
   "metadata": {},
   "outputs": [
    {
     "data": {
      "text/latex": [
       "$\\displaystyle e_{b} = \\log{\\left(\\left(\\frac{a_{b}}{w_{b} \\left(b_{b} + v_{b}\\right)}\\right)^{\\frac{1}{\\log{\\left(j_{b} \\right)} - \\log{\\left(j_{b} + 1 \\right)}}} \\right)}$"
      ],
      "text/plain": [
       "Eq(e_b, log((a_b/(w_b*(b_b + v_b)))**(1/(log(j_b) - log(j_b + 1)))))"
      ]
     },
     "metadata": {},
     "output_type": "display_data"
    },
    {
     "data": {
      "text/latex": [
       "$\\displaystyle e_{s} = \\log{\\left(\\left(\\frac{a_{s}}{w_{s} \\left(b_{s} + v_{s}\\right)}\\right)^{\\frac{1}{\\log{\\left(j_{s} \\right)} - \\log{\\left(j_{s} + 1 \\right)}}} \\right)}$"
      ],
      "text/plain": [
       "Eq(e_s, log((a_s/(w_s*(b_s + v_s)))**(1/(log(j_s) - log(j_s + 1)))))"
      ]
     },
     "metadata": {},
     "output_type": "display_data"
    },
    {
     "data": {
      "text/latex": [
       "$\\displaystyle \\lambda_{1} = \\frac{b_{s} \\left\\lceil{\\frac{\\left\\lfloor{a_{b} j_{b}^{- \\log{\\left(a_{b}^{\\frac{1}{\\log{\\left(j_{b} \\right)} - \\log{\\left(j_{b} + 1 \\right)}}} \\left(w_{b} \\left(b_{b} + v_{b}\\right)\\right)^{- \\frac{1}{\\log{\\left(j_{b} \\right)} - \\log{\\left(j_{b} + 1 \\right)}}} \\right)}} \\left(j_{b} + 1\\right)^{\\log{\\left(a_{b}^{\\frac{1}{\\log{\\left(j_{b} \\right)} - \\log{\\left(j_{b} + 1 \\right)}}} \\left(w_{b} \\left(b_{b} + v_{b}\\right)\\right)^{- \\frac{1}{\\log{\\left(j_{b} \\right)} - \\log{\\left(j_{b} + 1 \\right)}}} \\right)}}}\\right\\rfloor}{w_{b}}}\\right\\rceil - b_{s} \\left\\lceil{\\frac{\\left\\lfloor{\\frac{a_{b} j_{b}^{- \\log{\\left(a_{b}^{\\frac{2}{\\log{\\left(j_{b} \\right)} - \\log{\\left(j_{b} + 1 \\right)}}} \\left(w_{b} \\left(b_{b} + v_{b}\\right)\\right)^{- \\frac{2}{\\log{\\left(j_{b} \\right)} - \\log{\\left(j_{b} + 1 \\right)}}} \\right)}} \\left(j_{b} j_{b}^{\\log{\\left(a_{b}^{\\frac{1}{\\log{\\left(j_{b} \\right)} - \\log{\\left(j_{b} + 1 \\right)}}} \\left(w_{b} \\left(b_{b} + v_{b}\\right)\\right)^{- \\frac{1}{\\log{\\left(j_{b} \\right)} - \\log{\\left(j_{b} + 1 \\right)}}} \\right)}} \\left(j_{b} + 1\\right)^{\\log{\\left(a_{b}^{\\frac{1}{\\log{\\left(j_{b} \\right)} - \\log{\\left(j_{b} + 1 \\right)}}} \\left(w_{b} \\left(b_{b} + v_{b}\\right)\\right)^{- \\frac{1}{\\log{\\left(j_{b} \\right)} - \\log{\\left(j_{b} + 1 \\right)}}} \\right)}} + \\left(j_{b} \\left(j_{b} + 1\\right)\\right)^{\\log{\\left(a_{b}^{\\frac{1}{\\log{\\left(j_{b} \\right)} - \\log{\\left(j_{b} + 1 \\right)}}} \\left(w_{b} \\left(b_{b} + v_{b}\\right)\\right)^{- \\frac{1}{\\log{\\left(j_{b} \\right)} - \\log{\\left(j_{b} + 1 \\right)}}} \\right)}}\\right)}{j_{b}}}\\right\\rfloor}{w_{b}}}\\right\\rceil + v_{s} \\left\\lceil{\\frac{\\left\\lfloor{a_{b} j_{b}^{- \\log{\\left(a_{b}^{\\frac{1}{\\log{\\left(j_{b} \\right)} - \\log{\\left(j_{b} + 1 \\right)}}} \\left(w_{b} \\left(b_{b} + v_{b}\\right)\\right)^{- \\frac{1}{\\log{\\left(j_{b} \\right)} - \\log{\\left(j_{b} + 1 \\right)}}} \\right)}} \\left(j_{b} + 1\\right)^{\\log{\\left(a_{b}^{\\frac{1}{\\log{\\left(j_{b} \\right)} - \\log{\\left(j_{b} + 1 \\right)}}} \\left(w_{b} \\left(b_{b} + v_{b}\\right)\\right)^{- \\frac{1}{\\log{\\left(j_{b} \\right)} - \\log{\\left(j_{b} + 1 \\right)}}} \\right)}}}\\right\\rfloor}{w_{b}}}\\right\\rceil - v_{s} \\left\\lceil{\\frac{\\left\\lfloor{\\frac{a_{b} j_{b}^{- \\log{\\left(a_{b}^{\\frac{2}{\\log{\\left(j_{b} \\right)} - \\log{\\left(j_{b} + 1 \\right)}}} \\left(w_{b} \\left(b_{b} + v_{b}\\right)\\right)^{- \\frac{2}{\\log{\\left(j_{b} \\right)} - \\log{\\left(j_{b} + 1 \\right)}}} \\right)}} \\left(j_{b} j_{b}^{\\log{\\left(a_{b}^{\\frac{1}{\\log{\\left(j_{b} \\right)} - \\log{\\left(j_{b} + 1 \\right)}}} \\left(w_{b} \\left(b_{b} + v_{b}\\right)\\right)^{- \\frac{1}{\\log{\\left(j_{b} \\right)} - \\log{\\left(j_{b} + 1 \\right)}}} \\right)}} \\left(j_{b} + 1\\right)^{\\log{\\left(a_{b}^{\\frac{1}{\\log{\\left(j_{b} \\right)} - \\log{\\left(j_{b} + 1 \\right)}}} \\left(w_{b} \\left(b_{b} + v_{b}\\right)\\right)^{- \\frac{1}{\\log{\\left(j_{b} \\right)} - \\log{\\left(j_{b} + 1 \\right)}}} \\right)}} + \\left(j_{b} \\left(j_{b} + 1\\right)\\right)^{\\log{\\left(a_{b}^{\\frac{1}{\\log{\\left(j_{b} \\right)} - \\log{\\left(j_{b} + 1 \\right)}}} \\left(w_{b} \\left(b_{b} + v_{b}\\right)\\right)^{- \\frac{1}{\\log{\\left(j_{b} \\right)} - \\log{\\left(j_{b} + 1 \\right)}}} \\right)}}\\right)}{j_{b}}}\\right\\rfloor}{w_{b}}}\\right\\rceil - \\left\\lceil{\\frac{\\left\\lfloor{a_{b} j_{b}^{- \\log{\\left(a_{b}^{\\frac{1}{\\log{\\left(j_{b} \\right)} - \\log{\\left(j_{b} + 1 \\right)}}} \\left(w_{b} \\left(b_{b} + v_{b}\\right)\\right)^{- \\frac{1}{\\log{\\left(j_{b} \\right)} - \\log{\\left(j_{b} + 1 \\right)}}} \\right)}} \\left(j_{b} + 1\\right)^{\\log{\\left(a_{b}^{\\frac{1}{\\log{\\left(j_{b} \\right)} - \\log{\\left(j_{b} + 1 \\right)}}} \\left(w_{b} \\left(b_{b} + v_{b}\\right)\\right)^{- \\frac{1}{\\log{\\left(j_{b} \\right)} - \\log{\\left(j_{b} + 1 \\right)}}} \\right)}}}\\right\\rfloor}{w_{b}}}\\right\\rceil \\left\\lceil{\\frac{\\left\\lfloor{a_{s} j_{s}^{- \\log{\\left(a_{s}^{\\frac{1}{\\log{\\left(j_{s} \\right)} - \\log{\\left(j_{s} + 1 \\right)}}} \\left(w_{s} \\left(b_{s} + v_{s}\\right)\\right)^{- \\frac{1}{\\log{\\left(j_{s} \\right)} - \\log{\\left(j_{s} + 1 \\right)}}} \\right)}} \\left(j_{s} + 1\\right)^{\\log{\\left(a_{s}^{\\frac{1}{\\log{\\left(j_{s} \\right)} - \\log{\\left(j_{s} + 1 \\right)}}} \\left(w_{s} \\left(b_{s} + v_{s}\\right)\\right)^{- \\frac{1}{\\log{\\left(j_{s} \\right)} - \\log{\\left(j_{s} + 1 \\right)}}} \\right)}}}\\right\\rfloor}{w_{s}}}\\right\\rceil + \\left\\lceil{\\frac{\\left\\lfloor{\\frac{a_{b} j_{b}^{- \\log{\\left(a_{b}^{\\frac{2}{\\log{\\left(j_{b} \\right)} - \\log{\\left(j_{b} + 1 \\right)}}} \\left(w_{b} \\left(b_{b} + v_{b}\\right)\\right)^{- \\frac{2}{\\log{\\left(j_{b} \\right)} - \\log{\\left(j_{b} + 1 \\right)}}} \\right)}} \\left(j_{b} j_{b}^{\\log{\\left(a_{b}^{\\frac{1}{\\log{\\left(j_{b} \\right)} - \\log{\\left(j_{b} + 1 \\right)}}} \\left(w_{b} \\left(b_{b} + v_{b}\\right)\\right)^{- \\frac{1}{\\log{\\left(j_{b} \\right)} - \\log{\\left(j_{b} + 1 \\right)}}} \\right)}} \\left(j_{b} + 1\\right)^{\\log{\\left(a_{b}^{\\frac{1}{\\log{\\left(j_{b} \\right)} - \\log{\\left(j_{b} + 1 \\right)}}} \\left(w_{b} \\left(b_{b} + v_{b}\\right)\\right)^{- \\frac{1}{\\log{\\left(j_{b} \\right)} - \\log{\\left(j_{b} + 1 \\right)}}} \\right)}} + \\left(j_{b} \\left(j_{b} + 1\\right)\\right)^{\\log{\\left(a_{b}^{\\frac{1}{\\log{\\left(j_{b} \\right)} - \\log{\\left(j_{b} + 1 \\right)}}} \\left(w_{b} \\left(b_{b} + v_{b}\\right)\\right)^{- \\frac{1}{\\log{\\left(j_{b} \\right)} - \\log{\\left(j_{b} + 1 \\right)}}} \\right)}}\\right)}{j_{b}}}\\right\\rfloor}{w_{b}}}\\right\\rceil \\left\\lceil{\\frac{\\left\\lfloor{a_{s} j_{s}^{- \\log{\\left(a_{s}^{\\frac{1}{\\log{\\left(j_{s} \\right)} - \\log{\\left(j_{s} + 1 \\right)}}} \\left(w_{s} \\left(b_{s} + v_{s}\\right)\\right)^{- \\frac{1}{\\log{\\left(j_{s} \\right)} - \\log{\\left(j_{s} + 1 \\right)}}} \\right)}} \\left(j_{s} + 1\\right)^{\\log{\\left(a_{s}^{\\frac{1}{\\log{\\left(j_{s} \\right)} - \\log{\\left(j_{s} + 1 \\right)}}} \\left(w_{s} \\left(b_{s} + v_{s}\\right)\\right)^{- \\frac{1}{\\log{\\left(j_{s} \\right)} - \\log{\\left(j_{s} + 1 \\right)}}} \\right)}}}\\right\\rfloor}{w_{s}}}\\right\\rceil}{b_{b}^{2} + 2 b_{b} v_{b} - b_{b} \\left\\lceil{\\frac{\\left\\lfloor{a_{b} j_{b}^{- \\log{\\left(a_{b}^{\\frac{1}{\\log{\\left(j_{b} \\right)} - \\log{\\left(j_{b} + 1 \\right)}}} \\left(w_{b} \\left(b_{b} + v_{b}\\right)\\right)^{- \\frac{1}{\\log{\\left(j_{b} \\right)} - \\log{\\left(j_{b} + 1 \\right)}}} \\right)}} \\left(j_{b} + 1\\right)^{\\log{\\left(a_{b}^{\\frac{1}{\\log{\\left(j_{b} \\right)} - \\log{\\left(j_{b} + 1 \\right)}}} \\left(w_{b} \\left(b_{b} + v_{b}\\right)\\right)^{- \\frac{1}{\\log{\\left(j_{b} \\right)} - \\log{\\left(j_{b} + 1 \\right)}}} \\right)}}}\\right\\rfloor}{w_{b}}}\\right\\rceil - b_{b} \\left\\lceil{\\frac{\\left\\lfloor{\\frac{a_{b} j_{b}^{- \\log{\\left(a_{b}^{\\frac{2}{\\log{\\left(j_{b} \\right)} - \\log{\\left(j_{b} + 1 \\right)}}} \\left(w_{b} \\left(b_{b} + v_{b}\\right)\\right)^{- \\frac{2}{\\log{\\left(j_{b} \\right)} - \\log{\\left(j_{b} + 1 \\right)}}} \\right)}} \\left(j_{b} j_{b}^{\\log{\\left(a_{b}^{\\frac{1}{\\log{\\left(j_{b} \\right)} - \\log{\\left(j_{b} + 1 \\right)}}} \\left(w_{b} \\left(b_{b} + v_{b}\\right)\\right)^{- \\frac{1}{\\log{\\left(j_{b} \\right)} - \\log{\\left(j_{b} + 1 \\right)}}} \\right)}} \\left(j_{b} + 1\\right)^{\\log{\\left(a_{b}^{\\frac{1}{\\log{\\left(j_{b} \\right)} - \\log{\\left(j_{b} + 1 \\right)}}} \\left(w_{b} \\left(b_{b} + v_{b}\\right)\\right)^{- \\frac{1}{\\log{\\left(j_{b} \\right)} - \\log{\\left(j_{b} + 1 \\right)}}} \\right)}} + \\left(j_{b} \\left(j_{b} + 1\\right)\\right)^{\\log{\\left(a_{b}^{\\frac{1}{\\log{\\left(j_{b} \\right)} - \\log{\\left(j_{b} + 1 \\right)}}} \\left(w_{b} \\left(b_{b} + v_{b}\\right)\\right)^{- \\frac{1}{\\log{\\left(j_{b} \\right)} - \\log{\\left(j_{b} + 1 \\right)}}} \\right)}}\\right)}{j_{b}}}\\right\\rfloor}{w_{b}}}\\right\\rceil + v_{b}^{2} - v_{b} \\left\\lceil{\\frac{\\left\\lfloor{a_{b} j_{b}^{- \\log{\\left(a_{b}^{\\frac{1}{\\log{\\left(j_{b} \\right)} - \\log{\\left(j_{b} + 1 \\right)}}} \\left(w_{b} \\left(b_{b} + v_{b}\\right)\\right)^{- \\frac{1}{\\log{\\left(j_{b} \\right)} - \\log{\\left(j_{b} + 1 \\right)}}} \\right)}} \\left(j_{b} + 1\\right)^{\\log{\\left(a_{b}^{\\frac{1}{\\log{\\left(j_{b} \\right)} - \\log{\\left(j_{b} + 1 \\right)}}} \\left(w_{b} \\left(b_{b} + v_{b}\\right)\\right)^{- \\frac{1}{\\log{\\left(j_{b} \\right)} - \\log{\\left(j_{b} + 1 \\right)}}} \\right)}}}\\right\\rfloor}{w_{b}}}\\right\\rceil - v_{b} \\left\\lceil{\\frac{\\left\\lfloor{\\frac{a_{b} j_{b}^{- \\log{\\left(a_{b}^{\\frac{2}{\\log{\\left(j_{b} \\right)} - \\log{\\left(j_{b} + 1 \\right)}}} \\left(w_{b} \\left(b_{b} + v_{b}\\right)\\right)^{- \\frac{2}{\\log{\\left(j_{b} \\right)} - \\log{\\left(j_{b} + 1 \\right)}}} \\right)}} \\left(j_{b} j_{b}^{\\log{\\left(a_{b}^{\\frac{1}{\\log{\\left(j_{b} \\right)} - \\log{\\left(j_{b} + 1 \\right)}}} \\left(w_{b} \\left(b_{b} + v_{b}\\right)\\right)^{- \\frac{1}{\\log{\\left(j_{b} \\right)} - \\log{\\left(j_{b} + 1 \\right)}}} \\right)}} \\left(j_{b} + 1\\right)^{\\log{\\left(a_{b}^{\\frac{1}{\\log{\\left(j_{b} \\right)} - \\log{\\left(j_{b} + 1 \\right)}}} \\left(w_{b} \\left(b_{b} + v_{b}\\right)\\right)^{- \\frac{1}{\\log{\\left(j_{b} \\right)} - \\log{\\left(j_{b} + 1 \\right)}}} \\right)}} + \\left(j_{b} \\left(j_{b} + 1\\right)\\right)^{\\log{\\left(a_{b}^{\\frac{1}{\\log{\\left(j_{b} \\right)} - \\log{\\left(j_{b} + 1 \\right)}}} \\left(w_{b} \\left(b_{b} + v_{b}\\right)\\right)^{- \\frac{1}{\\log{\\left(j_{b} \\right)} - \\log{\\left(j_{b} + 1 \\right)}}} \\right)}}\\right)}{j_{b}}}\\right\\rfloor}{w_{b}}}\\right\\rceil + \\left\\lceil{\\frac{\\left\\lfloor{a_{b} j_{b}^{- \\log{\\left(a_{b}^{\\frac{1}{\\log{\\left(j_{b} \\right)} - \\log{\\left(j_{b} + 1 \\right)}}} \\left(w_{b} \\left(b_{b} + v_{b}\\right)\\right)^{- \\frac{1}{\\log{\\left(j_{b} \\right)} - \\log{\\left(j_{b} + 1 \\right)}}} \\right)}} \\left(j_{b} + 1\\right)^{\\log{\\left(a_{b}^{\\frac{1}{\\log{\\left(j_{b} \\right)} - \\log{\\left(j_{b} + 1 \\right)}}} \\left(w_{b} \\left(b_{b} + v_{b}\\right)\\right)^{- \\frac{1}{\\log{\\left(j_{b} \\right)} - \\log{\\left(j_{b} + 1 \\right)}}} \\right)}}}\\right\\rfloor}{w_{b}}}\\right\\rceil \\left\\lceil{\\frac{\\left\\lfloor{\\frac{a_{b} j_{b}^{- \\log{\\left(a_{b}^{\\frac{2}{\\log{\\left(j_{b} \\right)} - \\log{\\left(j_{b} + 1 \\right)}}} \\left(w_{b} \\left(b_{b} + v_{b}\\right)\\right)^{- \\frac{2}{\\log{\\left(j_{b} \\right)} - \\log{\\left(j_{b} + 1 \\right)}}} \\right)}} \\left(j_{b} j_{b}^{\\log{\\left(a_{b}^{\\frac{1}{\\log{\\left(j_{b} \\right)} - \\log{\\left(j_{b} + 1 \\right)}}} \\left(w_{b} \\left(b_{b} + v_{b}\\right)\\right)^{- \\frac{1}{\\log{\\left(j_{b} \\right)} - \\log{\\left(j_{b} + 1 \\right)}}} \\right)}} \\left(j_{b} + 1\\right)^{\\log{\\left(a_{b}^{\\frac{1}{\\log{\\left(j_{b} \\right)} - \\log{\\left(j_{b} + 1 \\right)}}} \\left(w_{b} \\left(b_{b} + v_{b}\\right)\\right)^{- \\frac{1}{\\log{\\left(j_{b} \\right)} - \\log{\\left(j_{b} + 1 \\right)}}} \\right)}} + \\left(j_{b} \\left(j_{b} + 1\\right)\\right)^{\\log{\\left(a_{b}^{\\frac{1}{\\log{\\left(j_{b} \\right)} - \\log{\\left(j_{b} + 1 \\right)}}} \\left(w_{b} \\left(b_{b} + v_{b}\\right)\\right)^{- \\frac{1}{\\log{\\left(j_{b} \\right)} - \\log{\\left(j_{b} + 1 \\right)}}} \\right)}}\\right)}{j_{b}}}\\right\\rfloor}{w_{b}}}\\right\\rceil}$"
      ],
      "text/plain": [
       "Eq(lambda_1, (b_s*ceiling(floor(a_b*(j_b + 1)**log(a_b**(1/(log(j_b) - log(j_b + 1)))/(w_b*(b_b + v_b))**(1/(log(j_b) - log(j_b + 1))))/j_b**log(a_b**(1/(log(j_b) - log(j_b + 1)))/(w_b*(b_b + v_b))**(1/(log(j_b) - log(j_b + 1)))))/w_b) - b_s*ceiling(floor(a_b*(j_b*j_b**log(a_b**(1/(log(j_b) - log(j_b + 1)))/(w_b*(b_b + v_b))**(1/(log(j_b) - log(j_b + 1))))*(j_b + 1)**log(a_b**(1/(log(j_b) - log(j_b + 1)))/(w_b*(b_b + v_b))**(1/(log(j_b) - log(j_b + 1)))) + (j_b*(j_b + 1))**log(a_b**(1/(log(j_b) - log(j_b + 1)))/(w_b*(b_b + v_b))**(1/(log(j_b) - log(j_b + 1)))))/(j_b*j_b**log(a_b**(2/(log(j_b) - log(j_b + 1)))/(w_b*(b_b + v_b))**(2/(log(j_b) - log(j_b + 1))))))/w_b) + v_s*ceiling(floor(a_b*(j_b + 1)**log(a_b**(1/(log(j_b) - log(j_b + 1)))/(w_b*(b_b + v_b))**(1/(log(j_b) - log(j_b + 1))))/j_b**log(a_b**(1/(log(j_b) - log(j_b + 1)))/(w_b*(b_b + v_b))**(1/(log(j_b) - log(j_b + 1)))))/w_b) - v_s*ceiling(floor(a_b*(j_b*j_b**log(a_b**(1/(log(j_b) - log(j_b + 1)))/(w_b*(b_b + v_b))**(1/(log(j_b) - log(j_b + 1))))*(j_b + 1)**log(a_b**(1/(log(j_b) - log(j_b + 1)))/(w_b*(b_b + v_b))**(1/(log(j_b) - log(j_b + 1)))) + (j_b*(j_b + 1))**log(a_b**(1/(log(j_b) - log(j_b + 1)))/(w_b*(b_b + v_b))**(1/(log(j_b) - log(j_b + 1)))))/(j_b*j_b**log(a_b**(2/(log(j_b) - log(j_b + 1)))/(w_b*(b_b + v_b))**(2/(log(j_b) - log(j_b + 1))))))/w_b) - ceiling(floor(a_b*(j_b + 1)**log(a_b**(1/(log(j_b) - log(j_b + 1)))/(w_b*(b_b + v_b))**(1/(log(j_b) - log(j_b + 1))))/j_b**log(a_b**(1/(log(j_b) - log(j_b + 1)))/(w_b*(b_b + v_b))**(1/(log(j_b) - log(j_b + 1)))))/w_b)*ceiling(floor(a_s*(j_s + 1)**log(a_s**(1/(log(j_s) - log(j_s + 1)))/(w_s*(b_s + v_s))**(1/(log(j_s) - log(j_s + 1))))/j_s**log(a_s**(1/(log(j_s) - log(j_s + 1)))/(w_s*(b_s + v_s))**(1/(log(j_s) - log(j_s + 1)))))/w_s) + ceiling(floor(a_b*(j_b*j_b**log(a_b**(1/(log(j_b) - log(j_b + 1)))/(w_b*(b_b + v_b))**(1/(log(j_b) - log(j_b + 1))))*(j_b + 1)**log(a_b**(1/(log(j_b) - log(j_b + 1)))/(w_b*(b_b + v_b))**(1/(log(j_b) - log(j_b + 1)))) + (j_b*(j_b + 1))**log(a_b**(1/(log(j_b) - log(j_b + 1)))/(w_b*(b_b + v_b))**(1/(log(j_b) - log(j_b + 1)))))/(j_b*j_b**log(a_b**(2/(log(j_b) - log(j_b + 1)))/(w_b*(b_b + v_b))**(2/(log(j_b) - log(j_b + 1))))))/w_b)*ceiling(floor(a_s*(j_s + 1)**log(a_s**(1/(log(j_s) - log(j_s + 1)))/(w_s*(b_s + v_s))**(1/(log(j_s) - log(j_s + 1))))/j_s**log(a_s**(1/(log(j_s) - log(j_s + 1)))/(w_s*(b_s + v_s))**(1/(log(j_s) - log(j_s + 1)))))/w_s))/(b_b**2 + 2*b_b*v_b - b_b*ceiling(floor(a_b*(j_b + 1)**log(a_b**(1/(log(j_b) - log(j_b + 1)))/(w_b*(b_b + v_b))**(1/(log(j_b) - log(j_b + 1))))/j_b**log(a_b**(1/(log(j_b) - log(j_b + 1)))/(w_b*(b_b + v_b))**(1/(log(j_b) - log(j_b + 1)))))/w_b) - b_b*ceiling(floor(a_b*(j_b*j_b**log(a_b**(1/(log(j_b) - log(j_b + 1)))/(w_b*(b_b + v_b))**(1/(log(j_b) - log(j_b + 1))))*(j_b + 1)**log(a_b**(1/(log(j_b) - log(j_b + 1)))/(w_b*(b_b + v_b))**(1/(log(j_b) - log(j_b + 1)))) + (j_b*(j_b + 1))**log(a_b**(1/(log(j_b) - log(j_b + 1)))/(w_b*(b_b + v_b))**(1/(log(j_b) - log(j_b + 1)))))/(j_b*j_b**log(a_b**(2/(log(j_b) - log(j_b + 1)))/(w_b*(b_b + v_b))**(2/(log(j_b) - log(j_b + 1))))))/w_b) + v_b**2 - v_b*ceiling(floor(a_b*(j_b + 1)**log(a_b**(1/(log(j_b) - log(j_b + 1)))/(w_b*(b_b + v_b))**(1/(log(j_b) - log(j_b + 1))))/j_b**log(a_b**(1/(log(j_b) - log(j_b + 1)))/(w_b*(b_b + v_b))**(1/(log(j_b) - log(j_b + 1)))))/w_b) - v_b*ceiling(floor(a_b*(j_b*j_b**log(a_b**(1/(log(j_b) - log(j_b + 1)))/(w_b*(b_b + v_b))**(1/(log(j_b) - log(j_b + 1))))*(j_b + 1)**log(a_b**(1/(log(j_b) - log(j_b + 1)))/(w_b*(b_b + v_b))**(1/(log(j_b) - log(j_b + 1)))) + (j_b*(j_b + 1))**log(a_b**(1/(log(j_b) - log(j_b + 1)))/(w_b*(b_b + v_b))**(1/(log(j_b) - log(j_b + 1)))))/(j_b*j_b**log(a_b**(2/(log(j_b) - log(j_b + 1)))/(w_b*(b_b + v_b))**(2/(log(j_b) - log(j_b + 1))))))/w_b) + ceiling(floor(a_b*(j_b + 1)**log(a_b**(1/(log(j_b) - log(j_b + 1)))/(w_b*(b_b + v_b))**(1/(log(j_b) - log(j_b + 1))))/j_b**log(a_b**(1/(log(j_b) - log(j_b + 1)))/(w_b*(b_b + v_b))**(1/(log(j_b) - log(j_b + 1)))))/w_b)*ceiling(floor(a_b*(j_b*j_b**log(a_b**(1/(log(j_b) - log(j_b + 1)))/(w_b*(b_b + v_b))**(1/(log(j_b) - log(j_b + 1))))*(j_b + 1)**log(a_b**(1/(log(j_b) - log(j_b + 1)))/(w_b*(b_b + v_b))**(1/(log(j_b) - log(j_b + 1)))) + (j_b*(j_b + 1))**log(a_b**(1/(log(j_b) - log(j_b + 1)))/(w_b*(b_b + v_b))**(1/(log(j_b) - log(j_b + 1)))))/(j_b*j_b**log(a_b**(2/(log(j_b) - log(j_b + 1)))/(w_b*(b_b + v_b))**(2/(log(j_b) - log(j_b + 1))))))/w_b)))"
      ]
     },
     "metadata": {},
     "output_type": "display_data"
    },
    {
     "data": {
      "text/latex": [
       "$\\displaystyle \\lambda_{2} = \\frac{\\left\\lceil{\\frac{\\left\\lfloor{a_{s} j_{s}^{- \\log{\\left(a_{s}^{\\frac{1}{\\log{\\left(j_{s} \\right)} - \\log{\\left(j_{s} + 1 \\right)}}} \\left(w_{s} \\left(b_{s} + v_{s}\\right)\\right)^{- \\frac{1}{\\log{\\left(j_{s} \\right)} - \\log{\\left(j_{s} + 1 \\right)}}} \\right)}} \\left(j_{s} + 1\\right)^{\\log{\\left(a_{s}^{\\frac{1}{\\log{\\left(j_{s} \\right)} - \\log{\\left(j_{s} + 1 \\right)}}} \\left(w_{s} \\left(b_{s} + v_{s}\\right)\\right)^{- \\frac{1}{\\log{\\left(j_{s} \\right)} - \\log{\\left(j_{s} + 1 \\right)}}} \\right)}}}\\right\\rfloor}{w_{s}}}\\right\\rceil - \\left\\lceil{\\frac{\\left\\lfloor{\\frac{a_{s} j_{s}^{- \\log{\\left(a_{s}^{\\frac{2}{\\log{\\left(j_{s} \\right)} - \\log{\\left(j_{s} + 1 \\right)}}} \\left(w_{s} \\left(b_{s} + v_{s}\\right)\\right)^{- \\frac{2}{\\log{\\left(j_{s} \\right)} - \\log{\\left(j_{s} + 1 \\right)}}} \\right)}} \\left(j_{s} j_{s}^{\\log{\\left(a_{s}^{\\frac{1}{\\log{\\left(j_{s} \\right)} - \\log{\\left(j_{s} + 1 \\right)}}} \\left(w_{s} \\left(b_{s} + v_{s}\\right)\\right)^{- \\frac{1}{\\log{\\left(j_{s} \\right)} - \\log{\\left(j_{s} + 1 \\right)}}} \\right)}} \\left(j_{s} + 1\\right)^{\\log{\\left(a_{s}^{\\frac{1}{\\log{\\left(j_{s} \\right)} - \\log{\\left(j_{s} + 1 \\right)}}} \\left(w_{s} \\left(b_{s} + v_{s}\\right)\\right)^{- \\frac{1}{\\log{\\left(j_{s} \\right)} - \\log{\\left(j_{s} + 1 \\right)}}} \\right)}} + \\left(j_{s} \\left(j_{s} + 1\\right)\\right)^{\\log{\\left(a_{s}^{\\frac{1}{\\log{\\left(j_{s} \\right)} - \\log{\\left(j_{s} + 1 \\right)}}} \\left(w_{s} \\left(b_{s} + v_{s}\\right)\\right)^{- \\frac{1}{\\log{\\left(j_{s} \\right)} - \\log{\\left(j_{s} + 1 \\right)}}} \\right)}}\\right)}{j_{s}}}\\right\\rfloor}{w_{s}}}\\right\\rceil}{b_{b} + v_{b} - \\left\\lceil{\\frac{\\left\\lfloor{a_{b} j_{b}^{- \\log{\\left(a_{b}^{\\frac{1}{\\log{\\left(j_{b} \\right)} - \\log{\\left(j_{b} + 1 \\right)}}} \\left(w_{b} \\left(b_{b} + v_{b}\\right)\\right)^{- \\frac{1}{\\log{\\left(j_{b} \\right)} - \\log{\\left(j_{b} + 1 \\right)}}} \\right)}} \\left(j_{b} + 1\\right)^{\\log{\\left(a_{b}^{\\frac{1}{\\log{\\left(j_{b} \\right)} - \\log{\\left(j_{b} + 1 \\right)}}} \\left(w_{b} \\left(b_{b} + v_{b}\\right)\\right)^{- \\frac{1}{\\log{\\left(j_{b} \\right)} - \\log{\\left(j_{b} + 1 \\right)}}} \\right)}}}\\right\\rfloor}{w_{b}}}\\right\\rceil}$"
      ],
      "text/plain": [
       "Eq(lambda_2, (ceiling(floor(a_s*(j_s + 1)**log(a_s**(1/(log(j_s) - log(j_s + 1)))/(w_s*(b_s + v_s))**(1/(log(j_s) - log(j_s + 1))))/j_s**log(a_s**(1/(log(j_s) - log(j_s + 1)))/(w_s*(b_s + v_s))**(1/(log(j_s) - log(j_s + 1)))))/w_s) - ceiling(floor(a_s*(j_s*j_s**log(a_s**(1/(log(j_s) - log(j_s + 1)))/(w_s*(b_s + v_s))**(1/(log(j_s) - log(j_s + 1))))*(j_s + 1)**log(a_s**(1/(log(j_s) - log(j_s + 1)))/(w_s*(b_s + v_s))**(1/(log(j_s) - log(j_s + 1)))) + (j_s*(j_s + 1))**log(a_s**(1/(log(j_s) - log(j_s + 1)))/(w_s*(b_s + v_s))**(1/(log(j_s) - log(j_s + 1)))))/(j_s*j_s**log(a_s**(2/(log(j_s) - log(j_s + 1)))/(w_s*(b_s + v_s))**(2/(log(j_s) - log(j_s + 1))))))/w_s))/(b_b + v_b - ceiling(floor(a_b*(j_b + 1)**log(a_b**(1/(log(j_b) - log(j_b + 1)))/(w_b*(b_b + v_b))**(1/(log(j_b) - log(j_b + 1))))/j_b**log(a_b**(1/(log(j_b) - log(j_b + 1)))/(w_b*(b_b + v_b))**(1/(log(j_b) - log(j_b + 1)))))/w_b)))"
      ]
     },
     "metadata": {},
     "output_type": "display_data"
    },
    {
     "data": {
      "text/latex": [
       "$\\displaystyle \\lambda_{3} = 0$"
      ],
      "text/plain": [
       "Eq(lambda_3, 0)"
      ]
     },
     "metadata": {},
     "output_type": "display_data"
    },
    {
     "data": {
      "text/latex": [
       "$\\displaystyle \\lambda_{4} = 0$"
      ],
      "text/plain": [
       "Eq(lambda_4, 0)"
      ]
     },
     "metadata": {},
     "output_type": "display_data"
    },
    {
     "data": {
      "text/latex": [
       "$\\displaystyle \\lambda_{5} = 0$"
      ],
      "text/plain": [
       "Eq(lambda_5, 0)"
      ]
     },
     "metadata": {},
     "output_type": "display_data"
    },
    {
     "data": {
      "text/latex": [
       "$\\displaystyle \\lambda_{6} = 0$"
      ],
      "text/plain": [
       "Eq(lambda_6, 0)"
      ]
     },
     "metadata": {},
     "output_type": "display_data"
    },
    {
     "data": {
      "text/latex": [
       "$\\displaystyle \\lambda_{7} = 0$"
      ],
      "text/plain": [
       "Eq(lambda_7, 0)"
      ]
     },
     "metadata": {},
     "output_type": "display_data"
    },
    {
     "data": {
      "text/latex": [
       "$\\displaystyle \\lambda_{8} = 0$"
      ],
      "text/plain": [
       "Eq(lambda_8, 0)"
      ]
     },
     "metadata": {},
     "output_type": "display_data"
    },
    {
     "data": {
      "text/latex": [
       "$\\displaystyle \\lambda_{9} = 0$"
      ],
      "text/plain": [
       "Eq(lambda_9, 0)"
      ]
     },
     "metadata": {},
     "output_type": "display_data"
    },
    {
     "data": {
      "text/latex": [
       "$\\displaystyle \\lambda_{10} = 0$"
      ],
      "text/plain": [
       "Eq(lambda_10, 0)"
      ]
     },
     "metadata": {},
     "output_type": "display_data"
    }
   ],
   "source": [
    "for solution in solutions_:\n",
    "    for var, expression in zip(vars, solution):\n",
    "        display(Eq(var, expression))"
   ]
  },
  {
   "cell_type": "code",
   "execution_count": 48,
   "metadata": {},
   "outputs": [
    {
     "data": {
      "text/latex": [
       "$\\displaystyle e_{b} = \\log{\\left(\\left(\\frac{a_{b}}{w_{b} \\left(b_{b} + v_{b}\\right)}\\right)^{\\frac{1}{\\log{\\left(j_{b} \\right)} - \\log{\\left(j_{b} + 1 \\right)}}} \\right)}$"
      ],
      "text/plain": [
       "Eq(e_b, log((a_b/(w_b*(b_b + v_b)))**(1/(log(j_b) - log(j_b + 1)))))"
      ]
     },
     "metadata": {},
     "output_type": "display_data"
    },
    {
     "data": {
      "text/latex": [
       "$\\displaystyle e_{s} = \\log{\\left(\\left(\\frac{a_{s}}{w_{s} \\left(b_{s} + v_{s}\\right)}\\right)^{\\frac{1}{\\log{\\left(j_{s} \\right)} - \\log{\\left(j_{s} + 1 \\right)}}} \\right)}$"
      ],
      "text/plain": [
       "Eq(e_s, log((a_s/(w_s*(b_s + v_s)))**(1/(log(j_s) - log(j_s + 1)))))"
      ]
     },
     "metadata": {},
     "output_type": "display_data"
    },
    {
     "data": {
      "text/latex": [
       "$\\displaystyle \\lambda_{1} = \\frac{b_{s} \\left\\lceil{\\frac{\\left\\lfloor{a_{b} j_{b}^{- \\log{\\left(a_{b}^{\\frac{1}{\\log{\\left(j_{b} \\right)} - \\log{\\left(j_{b} + 1 \\right)}}} \\left(w_{b} \\left(b_{b} + v_{b}\\right)\\right)^{- \\frac{1}{\\log{\\left(j_{b} \\right)} - \\log{\\left(j_{b} + 1 \\right)}}} \\right)}} \\left(j_{b} + 1\\right)^{\\log{\\left(a_{b}^{\\frac{1}{\\log{\\left(j_{b} \\right)} - \\log{\\left(j_{b} + 1 \\right)}}} \\left(w_{b} \\left(b_{b} + v_{b}\\right)\\right)^{- \\frac{1}{\\log{\\left(j_{b} \\right)} - \\log{\\left(j_{b} + 1 \\right)}}} \\right)}}}\\right\\rfloor}{w_{b}}}\\right\\rceil - b_{s} \\left\\lceil{\\frac{\\left\\lfloor{\\frac{a_{b} j_{b}^{- \\log{\\left(a_{b}^{\\frac{2}{\\log{\\left(j_{b} \\right)} - \\log{\\left(j_{b} + 1 \\right)}}} \\left(w_{b} \\left(b_{b} + v_{b}\\right)\\right)^{- \\frac{2}{\\log{\\left(j_{b} \\right)} - \\log{\\left(j_{b} + 1 \\right)}}} \\right)}} \\left(j_{b} j_{b}^{\\log{\\left(a_{b}^{\\frac{1}{\\log{\\left(j_{b} \\right)} - \\log{\\left(j_{b} + 1 \\right)}}} \\left(w_{b} \\left(b_{b} + v_{b}\\right)\\right)^{- \\frac{1}{\\log{\\left(j_{b} \\right)} - \\log{\\left(j_{b} + 1 \\right)}}} \\right)}} \\left(j_{b} + 1\\right)^{\\log{\\left(a_{b}^{\\frac{1}{\\log{\\left(j_{b} \\right)} - \\log{\\left(j_{b} + 1 \\right)}}} \\left(w_{b} \\left(b_{b} + v_{b}\\right)\\right)^{- \\frac{1}{\\log{\\left(j_{b} \\right)} - \\log{\\left(j_{b} + 1 \\right)}}} \\right)}} + \\left(j_{b} \\left(j_{b} + 1\\right)\\right)^{\\log{\\left(a_{b}^{\\frac{1}{\\log{\\left(j_{b} \\right)} - \\log{\\left(j_{b} + 1 \\right)}}} \\left(w_{b} \\left(b_{b} + v_{b}\\right)\\right)^{- \\frac{1}{\\log{\\left(j_{b} \\right)} - \\log{\\left(j_{b} + 1 \\right)}}} \\right)}}\\right)}{j_{b}}}\\right\\rfloor}{w_{b}}}\\right\\rceil + v_{s} \\left\\lceil{\\frac{\\left\\lfloor{a_{b} j_{b}^{- \\log{\\left(a_{b}^{\\frac{1}{\\log{\\left(j_{b} \\right)} - \\log{\\left(j_{b} + 1 \\right)}}} \\left(w_{b} \\left(b_{b} + v_{b}\\right)\\right)^{- \\frac{1}{\\log{\\left(j_{b} \\right)} - \\log{\\left(j_{b} + 1 \\right)}}} \\right)}} \\left(j_{b} + 1\\right)^{\\log{\\left(a_{b}^{\\frac{1}{\\log{\\left(j_{b} \\right)} - \\log{\\left(j_{b} + 1 \\right)}}} \\left(w_{b} \\left(b_{b} + v_{b}\\right)\\right)^{- \\frac{1}{\\log{\\left(j_{b} \\right)} - \\log{\\left(j_{b} + 1 \\right)}}} \\right)}}}\\right\\rfloor}{w_{b}}}\\right\\rceil - v_{s} \\left\\lceil{\\frac{\\left\\lfloor{\\frac{a_{b} j_{b}^{- \\log{\\left(a_{b}^{\\frac{2}{\\log{\\left(j_{b} \\right)} - \\log{\\left(j_{b} + 1 \\right)}}} \\left(w_{b} \\left(b_{b} + v_{b}\\right)\\right)^{- \\frac{2}{\\log{\\left(j_{b} \\right)} - \\log{\\left(j_{b} + 1 \\right)}}} \\right)}} \\left(j_{b} j_{b}^{\\log{\\left(a_{b}^{\\frac{1}{\\log{\\left(j_{b} \\right)} - \\log{\\left(j_{b} + 1 \\right)}}} \\left(w_{b} \\left(b_{b} + v_{b}\\right)\\right)^{- \\frac{1}{\\log{\\left(j_{b} \\right)} - \\log{\\left(j_{b} + 1 \\right)}}} \\right)}} \\left(j_{b} + 1\\right)^{\\log{\\left(a_{b}^{\\frac{1}{\\log{\\left(j_{b} \\right)} - \\log{\\left(j_{b} + 1 \\right)}}} \\left(w_{b} \\left(b_{b} + v_{b}\\right)\\right)^{- \\frac{1}{\\log{\\left(j_{b} \\right)} - \\log{\\left(j_{b} + 1 \\right)}}} \\right)}} + \\left(j_{b} \\left(j_{b} + 1\\right)\\right)^{\\log{\\left(a_{b}^{\\frac{1}{\\log{\\left(j_{b} \\right)} - \\log{\\left(j_{b} + 1 \\right)}}} \\left(w_{b} \\left(b_{b} + v_{b}\\right)\\right)^{- \\frac{1}{\\log{\\left(j_{b} \\right)} - \\log{\\left(j_{b} + 1 \\right)}}} \\right)}}\\right)}{j_{b}}}\\right\\rfloor}{w_{b}}}\\right\\rceil - \\left\\lceil{\\frac{\\left\\lfloor{a_{b} j_{b}^{- \\log{\\left(a_{b}^{\\frac{1}{\\log{\\left(j_{b} \\right)} - \\log{\\left(j_{b} + 1 \\right)}}} \\left(w_{b} \\left(b_{b} + v_{b}\\right)\\right)^{- \\frac{1}{\\log{\\left(j_{b} \\right)} - \\log{\\left(j_{b} + 1 \\right)}}} \\right)}} \\left(j_{b} + 1\\right)^{\\log{\\left(a_{b}^{\\frac{1}{\\log{\\left(j_{b} \\right)} - \\log{\\left(j_{b} + 1 \\right)}}} \\left(w_{b} \\left(b_{b} + v_{b}\\right)\\right)^{- \\frac{1}{\\log{\\left(j_{b} \\right)} - \\log{\\left(j_{b} + 1 \\right)}}} \\right)}}}\\right\\rfloor}{w_{b}}}\\right\\rceil \\left\\lceil{\\frac{\\left\\lfloor{a_{s} j_{s}^{- \\log{\\left(a_{s}^{\\frac{1}{\\log{\\left(j_{s} \\right)} - \\log{\\left(j_{s} + 1 \\right)}}} \\left(w_{s} \\left(b_{s} + v_{s}\\right)\\right)^{- \\frac{1}{\\log{\\left(j_{s} \\right)} - \\log{\\left(j_{s} + 1 \\right)}}} \\right)}} \\left(j_{s} + 1\\right)^{\\log{\\left(a_{s}^{\\frac{1}{\\log{\\left(j_{s} \\right)} - \\log{\\left(j_{s} + 1 \\right)}}} \\left(w_{s} \\left(b_{s} + v_{s}\\right)\\right)^{- \\frac{1}{\\log{\\left(j_{s} \\right)} - \\log{\\left(j_{s} + 1 \\right)}}} \\right)}}}\\right\\rfloor}{w_{s}}}\\right\\rceil + \\left\\lceil{\\frac{\\left\\lfloor{\\frac{a_{b} j_{b}^{- \\log{\\left(a_{b}^{\\frac{2}{\\log{\\left(j_{b} \\right)} - \\log{\\left(j_{b} + 1 \\right)}}} \\left(w_{b} \\left(b_{b} + v_{b}\\right)\\right)^{- \\frac{2}{\\log{\\left(j_{b} \\right)} - \\log{\\left(j_{b} + 1 \\right)}}} \\right)}} \\left(j_{b} j_{b}^{\\log{\\left(a_{b}^{\\frac{1}{\\log{\\left(j_{b} \\right)} - \\log{\\left(j_{b} + 1 \\right)}}} \\left(w_{b} \\left(b_{b} + v_{b}\\right)\\right)^{- \\frac{1}{\\log{\\left(j_{b} \\right)} - \\log{\\left(j_{b} + 1 \\right)}}} \\right)}} \\left(j_{b} + 1\\right)^{\\log{\\left(a_{b}^{\\frac{1}{\\log{\\left(j_{b} \\right)} - \\log{\\left(j_{b} + 1 \\right)}}} \\left(w_{b} \\left(b_{b} + v_{b}\\right)\\right)^{- \\frac{1}{\\log{\\left(j_{b} \\right)} - \\log{\\left(j_{b} + 1 \\right)}}} \\right)}} + \\left(j_{b} \\left(j_{b} + 1\\right)\\right)^{\\log{\\left(a_{b}^{\\frac{1}{\\log{\\left(j_{b} \\right)} - \\log{\\left(j_{b} + 1 \\right)}}} \\left(w_{b} \\left(b_{b} + v_{b}\\right)\\right)^{- \\frac{1}{\\log{\\left(j_{b} \\right)} - \\log{\\left(j_{b} + 1 \\right)}}} \\right)}}\\right)}{j_{b}}}\\right\\rfloor}{w_{b}}}\\right\\rceil \\left\\lceil{\\frac{\\left\\lfloor{a_{s} j_{s}^{- \\log{\\left(a_{s}^{\\frac{1}{\\log{\\left(j_{s} \\right)} - \\log{\\left(j_{s} + 1 \\right)}}} \\left(w_{s} \\left(b_{s} + v_{s}\\right)\\right)^{- \\frac{1}{\\log{\\left(j_{s} \\right)} - \\log{\\left(j_{s} + 1 \\right)}}} \\right)}} \\left(j_{s} + 1\\right)^{\\log{\\left(a_{s}^{\\frac{1}{\\log{\\left(j_{s} \\right)} - \\log{\\left(j_{s} + 1 \\right)}}} \\left(w_{s} \\left(b_{s} + v_{s}\\right)\\right)^{- \\frac{1}{\\log{\\left(j_{s} \\right)} - \\log{\\left(j_{s} + 1 \\right)}}} \\right)}}}\\right\\rfloor}{w_{s}}}\\right\\rceil}{b_{b}^{2} + 2 b_{b} v_{b} - b_{b} \\left\\lceil{\\frac{\\left\\lfloor{a_{b} j_{b}^{- \\log{\\left(a_{b}^{\\frac{1}{\\log{\\left(j_{b} \\right)} - \\log{\\left(j_{b} + 1 \\right)}}} \\left(w_{b} \\left(b_{b} + v_{b}\\right)\\right)^{- \\frac{1}{\\log{\\left(j_{b} \\right)} - \\log{\\left(j_{b} + 1 \\right)}}} \\right)}} \\left(j_{b} + 1\\right)^{\\log{\\left(a_{b}^{\\frac{1}{\\log{\\left(j_{b} \\right)} - \\log{\\left(j_{b} + 1 \\right)}}} \\left(w_{b} \\left(b_{b} + v_{b}\\right)\\right)^{- \\frac{1}{\\log{\\left(j_{b} \\right)} - \\log{\\left(j_{b} + 1 \\right)}}} \\right)}}}\\right\\rfloor}{w_{b}}}\\right\\rceil - b_{b} \\left\\lceil{\\frac{\\left\\lfloor{\\frac{a_{b} j_{b}^{- \\log{\\left(a_{b}^{\\frac{2}{\\log{\\left(j_{b} \\right)} - \\log{\\left(j_{b} + 1 \\right)}}} \\left(w_{b} \\left(b_{b} + v_{b}\\right)\\right)^{- \\frac{2}{\\log{\\left(j_{b} \\right)} - \\log{\\left(j_{b} + 1 \\right)}}} \\right)}} \\left(j_{b} j_{b}^{\\log{\\left(a_{b}^{\\frac{1}{\\log{\\left(j_{b} \\right)} - \\log{\\left(j_{b} + 1 \\right)}}} \\left(w_{b} \\left(b_{b} + v_{b}\\right)\\right)^{- \\frac{1}{\\log{\\left(j_{b} \\right)} - \\log{\\left(j_{b} + 1 \\right)}}} \\right)}} \\left(j_{b} + 1\\right)^{\\log{\\left(a_{b}^{\\frac{1}{\\log{\\left(j_{b} \\right)} - \\log{\\left(j_{b} + 1 \\right)}}} \\left(w_{b} \\left(b_{b} + v_{b}\\right)\\right)^{- \\frac{1}{\\log{\\left(j_{b} \\right)} - \\log{\\left(j_{b} + 1 \\right)}}} \\right)}} + \\left(j_{b} \\left(j_{b} + 1\\right)\\right)^{\\log{\\left(a_{b}^{\\frac{1}{\\log{\\left(j_{b} \\right)} - \\log{\\left(j_{b} + 1 \\right)}}} \\left(w_{b} \\left(b_{b} + v_{b}\\right)\\right)^{- \\frac{1}{\\log{\\left(j_{b} \\right)} - \\log{\\left(j_{b} + 1 \\right)}}} \\right)}}\\right)}{j_{b}}}\\right\\rfloor}{w_{b}}}\\right\\rceil + v_{b}^{2} - v_{b} \\left\\lceil{\\frac{\\left\\lfloor{a_{b} j_{b}^{- \\log{\\left(a_{b}^{\\frac{1}{\\log{\\left(j_{b} \\right)} - \\log{\\left(j_{b} + 1 \\right)}}} \\left(w_{b} \\left(b_{b} + v_{b}\\right)\\right)^{- \\frac{1}{\\log{\\left(j_{b} \\right)} - \\log{\\left(j_{b} + 1 \\right)}}} \\right)}} \\left(j_{b} + 1\\right)^{\\log{\\left(a_{b}^{\\frac{1}{\\log{\\left(j_{b} \\right)} - \\log{\\left(j_{b} + 1 \\right)}}} \\left(w_{b} \\left(b_{b} + v_{b}\\right)\\right)^{- \\frac{1}{\\log{\\left(j_{b} \\right)} - \\log{\\left(j_{b} + 1 \\right)}}} \\right)}}}\\right\\rfloor}{w_{b}}}\\right\\rceil - v_{b} \\left\\lceil{\\frac{\\left\\lfloor{\\frac{a_{b} j_{b}^{- \\log{\\left(a_{b}^{\\frac{2}{\\log{\\left(j_{b} \\right)} - \\log{\\left(j_{b} + 1 \\right)}}} \\left(w_{b} \\left(b_{b} + v_{b}\\right)\\right)^{- \\frac{2}{\\log{\\left(j_{b} \\right)} - \\log{\\left(j_{b} + 1 \\right)}}} \\right)}} \\left(j_{b} j_{b}^{\\log{\\left(a_{b}^{\\frac{1}{\\log{\\left(j_{b} \\right)} - \\log{\\left(j_{b} + 1 \\right)}}} \\left(w_{b} \\left(b_{b} + v_{b}\\right)\\right)^{- \\frac{1}{\\log{\\left(j_{b} \\right)} - \\log{\\left(j_{b} + 1 \\right)}}} \\right)}} \\left(j_{b} + 1\\right)^{\\log{\\left(a_{b}^{\\frac{1}{\\log{\\left(j_{b} \\right)} - \\log{\\left(j_{b} + 1 \\right)}}} \\left(w_{b} \\left(b_{b} + v_{b}\\right)\\right)^{- \\frac{1}{\\log{\\left(j_{b} \\right)} - \\log{\\left(j_{b} + 1 \\right)}}} \\right)}} + \\left(j_{b} \\left(j_{b} + 1\\right)\\right)^{\\log{\\left(a_{b}^{\\frac{1}{\\log{\\left(j_{b} \\right)} - \\log{\\left(j_{b} + 1 \\right)}}} \\left(w_{b} \\left(b_{b} + v_{b}\\right)\\right)^{- \\frac{1}{\\log{\\left(j_{b} \\right)} - \\log{\\left(j_{b} + 1 \\right)}}} \\right)}}\\right)}{j_{b}}}\\right\\rfloor}{w_{b}}}\\right\\rceil + \\left\\lceil{\\frac{\\left\\lfloor{a_{b} j_{b}^{- \\log{\\left(a_{b}^{\\frac{1}{\\log{\\left(j_{b} \\right)} - \\log{\\left(j_{b} + 1 \\right)}}} \\left(w_{b} \\left(b_{b} + v_{b}\\right)\\right)^{- \\frac{1}{\\log{\\left(j_{b} \\right)} - \\log{\\left(j_{b} + 1 \\right)}}} \\right)}} \\left(j_{b} + 1\\right)^{\\log{\\left(a_{b}^{\\frac{1}{\\log{\\left(j_{b} \\right)} - \\log{\\left(j_{b} + 1 \\right)}}} \\left(w_{b} \\left(b_{b} + v_{b}\\right)\\right)^{- \\frac{1}{\\log{\\left(j_{b} \\right)} - \\log{\\left(j_{b} + 1 \\right)}}} \\right)}}}\\right\\rfloor}{w_{b}}}\\right\\rceil \\left\\lceil{\\frac{\\left\\lfloor{\\frac{a_{b} j_{b}^{- \\log{\\left(a_{b}^{\\frac{2}{\\log{\\left(j_{b} \\right)} - \\log{\\left(j_{b} + 1 \\right)}}} \\left(w_{b} \\left(b_{b} + v_{b}\\right)\\right)^{- \\frac{2}{\\log{\\left(j_{b} \\right)} - \\log{\\left(j_{b} + 1 \\right)}}} \\right)}} \\left(j_{b} j_{b}^{\\log{\\left(a_{b}^{\\frac{1}{\\log{\\left(j_{b} \\right)} - \\log{\\left(j_{b} + 1 \\right)}}} \\left(w_{b} \\left(b_{b} + v_{b}\\right)\\right)^{- \\frac{1}{\\log{\\left(j_{b} \\right)} - \\log{\\left(j_{b} + 1 \\right)}}} \\right)}} \\left(j_{b} + 1\\right)^{\\log{\\left(a_{b}^{\\frac{1}{\\log{\\left(j_{b} \\right)} - \\log{\\left(j_{b} + 1 \\right)}}} \\left(w_{b} \\left(b_{b} + v_{b}\\right)\\right)^{- \\frac{1}{\\log{\\left(j_{b} \\right)} - \\log{\\left(j_{b} + 1 \\right)}}} \\right)}} + \\left(j_{b} \\left(j_{b} + 1\\right)\\right)^{\\log{\\left(a_{b}^{\\frac{1}{\\log{\\left(j_{b} \\right)} - \\log{\\left(j_{b} + 1 \\right)}}} \\left(w_{b} \\left(b_{b} + v_{b}\\right)\\right)^{- \\frac{1}{\\log{\\left(j_{b} \\right)} - \\log{\\left(j_{b} + 1 \\right)}}} \\right)}}\\right)}{j_{b}}}\\right\\rfloor}{w_{b}}}\\right\\rceil}$"
      ],
      "text/plain": [
       "Eq(lambda_1, (b_s*ceiling(floor(a_b*(j_b + 1)**log(a_b**(1/(log(j_b) - log(j_b + 1)))/(w_b*(b_b + v_b))**(1/(log(j_b) - log(j_b + 1))))/j_b**log(a_b**(1/(log(j_b) - log(j_b + 1)))/(w_b*(b_b + v_b))**(1/(log(j_b) - log(j_b + 1)))))/w_b) - b_s*ceiling(floor(a_b*(j_b*j_b**log(a_b**(1/(log(j_b) - log(j_b + 1)))/(w_b*(b_b + v_b))**(1/(log(j_b) - log(j_b + 1))))*(j_b + 1)**log(a_b**(1/(log(j_b) - log(j_b + 1)))/(w_b*(b_b + v_b))**(1/(log(j_b) - log(j_b + 1)))) + (j_b*(j_b + 1))**log(a_b**(1/(log(j_b) - log(j_b + 1)))/(w_b*(b_b + v_b))**(1/(log(j_b) - log(j_b + 1)))))/(j_b*j_b**log(a_b**(2/(log(j_b) - log(j_b + 1)))/(w_b*(b_b + v_b))**(2/(log(j_b) - log(j_b + 1))))))/w_b) + v_s*ceiling(floor(a_b*(j_b + 1)**log(a_b**(1/(log(j_b) - log(j_b + 1)))/(w_b*(b_b + v_b))**(1/(log(j_b) - log(j_b + 1))))/j_b**log(a_b**(1/(log(j_b) - log(j_b + 1)))/(w_b*(b_b + v_b))**(1/(log(j_b) - log(j_b + 1)))))/w_b) - v_s*ceiling(floor(a_b*(j_b*j_b**log(a_b**(1/(log(j_b) - log(j_b + 1)))/(w_b*(b_b + v_b))**(1/(log(j_b) - log(j_b + 1))))*(j_b + 1)**log(a_b**(1/(log(j_b) - log(j_b + 1)))/(w_b*(b_b + v_b))**(1/(log(j_b) - log(j_b + 1)))) + (j_b*(j_b + 1))**log(a_b**(1/(log(j_b) - log(j_b + 1)))/(w_b*(b_b + v_b))**(1/(log(j_b) - log(j_b + 1)))))/(j_b*j_b**log(a_b**(2/(log(j_b) - log(j_b + 1)))/(w_b*(b_b + v_b))**(2/(log(j_b) - log(j_b + 1))))))/w_b) - ceiling(floor(a_b*(j_b + 1)**log(a_b**(1/(log(j_b) - log(j_b + 1)))/(w_b*(b_b + v_b))**(1/(log(j_b) - log(j_b + 1))))/j_b**log(a_b**(1/(log(j_b) - log(j_b + 1)))/(w_b*(b_b + v_b))**(1/(log(j_b) - log(j_b + 1)))))/w_b)*ceiling(floor(a_s*(j_s + 1)**log(a_s**(1/(log(j_s) - log(j_s + 1)))/(w_s*(b_s + v_s))**(1/(log(j_s) - log(j_s + 1))))/j_s**log(a_s**(1/(log(j_s) - log(j_s + 1)))/(w_s*(b_s + v_s))**(1/(log(j_s) - log(j_s + 1)))))/w_s) + ceiling(floor(a_b*(j_b*j_b**log(a_b**(1/(log(j_b) - log(j_b + 1)))/(w_b*(b_b + v_b))**(1/(log(j_b) - log(j_b + 1))))*(j_b + 1)**log(a_b**(1/(log(j_b) - log(j_b + 1)))/(w_b*(b_b + v_b))**(1/(log(j_b) - log(j_b + 1)))) + (j_b*(j_b + 1))**log(a_b**(1/(log(j_b) - log(j_b + 1)))/(w_b*(b_b + v_b))**(1/(log(j_b) - log(j_b + 1)))))/(j_b*j_b**log(a_b**(2/(log(j_b) - log(j_b + 1)))/(w_b*(b_b + v_b))**(2/(log(j_b) - log(j_b + 1))))))/w_b)*ceiling(floor(a_s*(j_s + 1)**log(a_s**(1/(log(j_s) - log(j_s + 1)))/(w_s*(b_s + v_s))**(1/(log(j_s) - log(j_s + 1))))/j_s**log(a_s**(1/(log(j_s) - log(j_s + 1)))/(w_s*(b_s + v_s))**(1/(log(j_s) - log(j_s + 1)))))/w_s))/(b_b**2 + 2*b_b*v_b - b_b*ceiling(floor(a_b*(j_b + 1)**log(a_b**(1/(log(j_b) - log(j_b + 1)))/(w_b*(b_b + v_b))**(1/(log(j_b) - log(j_b + 1))))/j_b**log(a_b**(1/(log(j_b) - log(j_b + 1)))/(w_b*(b_b + v_b))**(1/(log(j_b) - log(j_b + 1)))))/w_b) - b_b*ceiling(floor(a_b*(j_b*j_b**log(a_b**(1/(log(j_b) - log(j_b + 1)))/(w_b*(b_b + v_b))**(1/(log(j_b) - log(j_b + 1))))*(j_b + 1)**log(a_b**(1/(log(j_b) - log(j_b + 1)))/(w_b*(b_b + v_b))**(1/(log(j_b) - log(j_b + 1)))) + (j_b*(j_b + 1))**log(a_b**(1/(log(j_b) - log(j_b + 1)))/(w_b*(b_b + v_b))**(1/(log(j_b) - log(j_b + 1)))))/(j_b*j_b**log(a_b**(2/(log(j_b) - log(j_b + 1)))/(w_b*(b_b + v_b))**(2/(log(j_b) - log(j_b + 1))))))/w_b) + v_b**2 - v_b*ceiling(floor(a_b*(j_b + 1)**log(a_b**(1/(log(j_b) - log(j_b + 1)))/(w_b*(b_b + v_b))**(1/(log(j_b) - log(j_b + 1))))/j_b**log(a_b**(1/(log(j_b) - log(j_b + 1)))/(w_b*(b_b + v_b))**(1/(log(j_b) - log(j_b + 1)))))/w_b) - v_b*ceiling(floor(a_b*(j_b*j_b**log(a_b**(1/(log(j_b) - log(j_b + 1)))/(w_b*(b_b + v_b))**(1/(log(j_b) - log(j_b + 1))))*(j_b + 1)**log(a_b**(1/(log(j_b) - log(j_b + 1)))/(w_b*(b_b + v_b))**(1/(log(j_b) - log(j_b + 1)))) + (j_b*(j_b + 1))**log(a_b**(1/(log(j_b) - log(j_b + 1)))/(w_b*(b_b + v_b))**(1/(log(j_b) - log(j_b + 1)))))/(j_b*j_b**log(a_b**(2/(log(j_b) - log(j_b + 1)))/(w_b*(b_b + v_b))**(2/(log(j_b) - log(j_b + 1))))))/w_b) + ceiling(floor(a_b*(j_b + 1)**log(a_b**(1/(log(j_b) - log(j_b + 1)))/(w_b*(b_b + v_b))**(1/(log(j_b) - log(j_b + 1))))/j_b**log(a_b**(1/(log(j_b) - log(j_b + 1)))/(w_b*(b_b + v_b))**(1/(log(j_b) - log(j_b + 1)))))/w_b)*ceiling(floor(a_b*(j_b*j_b**log(a_b**(1/(log(j_b) - log(j_b + 1)))/(w_b*(b_b + v_b))**(1/(log(j_b) - log(j_b + 1))))*(j_b + 1)**log(a_b**(1/(log(j_b) - log(j_b + 1)))/(w_b*(b_b + v_b))**(1/(log(j_b) - log(j_b + 1)))) + (j_b*(j_b + 1))**log(a_b**(1/(log(j_b) - log(j_b + 1)))/(w_b*(b_b + v_b))**(1/(log(j_b) - log(j_b + 1)))))/(j_b*j_b**log(a_b**(2/(log(j_b) - log(j_b + 1)))/(w_b*(b_b + v_b))**(2/(log(j_b) - log(j_b + 1))))))/w_b)))"
      ]
     },
     "metadata": {},
     "output_type": "display_data"
    },
    {
     "data": {
      "text/latex": [
       "$\\displaystyle \\lambda_{2} = \\frac{\\left\\lceil{\\frac{\\left\\lfloor{a_{s} j_{s}^{- \\log{\\left(a_{s}^{\\frac{1}{\\log{\\left(j_{s} \\right)} - \\log{\\left(j_{s} + 1 \\right)}}} \\left(w_{s} \\left(b_{s} + v_{s}\\right)\\right)^{- \\frac{1}{\\log{\\left(j_{s} \\right)} - \\log{\\left(j_{s} + 1 \\right)}}} \\right)}} \\left(j_{s} + 1\\right)^{\\log{\\left(a_{s}^{\\frac{1}{\\log{\\left(j_{s} \\right)} - \\log{\\left(j_{s} + 1 \\right)}}} \\left(w_{s} \\left(b_{s} + v_{s}\\right)\\right)^{- \\frac{1}{\\log{\\left(j_{s} \\right)} - \\log{\\left(j_{s} + 1 \\right)}}} \\right)}}}\\right\\rfloor}{w_{s}}}\\right\\rceil - \\left\\lceil{\\frac{\\left\\lfloor{\\frac{a_{s} j_{s}^{- \\log{\\left(a_{s}^{\\frac{2}{\\log{\\left(j_{s} \\right)} - \\log{\\left(j_{s} + 1 \\right)}}} \\left(w_{s} \\left(b_{s} + v_{s}\\right)\\right)^{- \\frac{2}{\\log{\\left(j_{s} \\right)} - \\log{\\left(j_{s} + 1 \\right)}}} \\right)}} \\left(j_{s} j_{s}^{\\log{\\left(a_{s}^{\\frac{1}{\\log{\\left(j_{s} \\right)} - \\log{\\left(j_{s} + 1 \\right)}}} \\left(w_{s} \\left(b_{s} + v_{s}\\right)\\right)^{- \\frac{1}{\\log{\\left(j_{s} \\right)} - \\log{\\left(j_{s} + 1 \\right)}}} \\right)}} \\left(j_{s} + 1\\right)^{\\log{\\left(a_{s}^{\\frac{1}{\\log{\\left(j_{s} \\right)} - \\log{\\left(j_{s} + 1 \\right)}}} \\left(w_{s} \\left(b_{s} + v_{s}\\right)\\right)^{- \\frac{1}{\\log{\\left(j_{s} \\right)} - \\log{\\left(j_{s} + 1 \\right)}}} \\right)}} + \\left(j_{s} \\left(j_{s} + 1\\right)\\right)^{\\log{\\left(a_{s}^{\\frac{1}{\\log{\\left(j_{s} \\right)} - \\log{\\left(j_{s} + 1 \\right)}}} \\left(w_{s} \\left(b_{s} + v_{s}\\right)\\right)^{- \\frac{1}{\\log{\\left(j_{s} \\right)} - \\log{\\left(j_{s} + 1 \\right)}}} \\right)}}\\right)}{j_{s}}}\\right\\rfloor}{w_{s}}}\\right\\rceil}{b_{b} + v_{b} - \\left\\lceil{\\frac{\\left\\lfloor{a_{b} j_{b}^{- \\log{\\left(a_{b}^{\\frac{1}{\\log{\\left(j_{b} \\right)} - \\log{\\left(j_{b} + 1 \\right)}}} \\left(w_{b} \\left(b_{b} + v_{b}\\right)\\right)^{- \\frac{1}{\\log{\\left(j_{b} \\right)} - \\log{\\left(j_{b} + 1 \\right)}}} \\right)}} \\left(j_{b} + 1\\right)^{\\log{\\left(a_{b}^{\\frac{1}{\\log{\\left(j_{b} \\right)} - \\log{\\left(j_{b} + 1 \\right)}}} \\left(w_{b} \\left(b_{b} + v_{b}\\right)\\right)^{- \\frac{1}{\\log{\\left(j_{b} \\right)} - \\log{\\left(j_{b} + 1 \\right)}}} \\right)}}}\\right\\rfloor}{w_{b}}}\\right\\rceil}$"
      ],
      "text/plain": [
       "Eq(lambda_2, (ceiling(floor(a_s*(j_s + 1)**log(a_s**(1/(log(j_s) - log(j_s + 1)))/(w_s*(b_s + v_s))**(1/(log(j_s) - log(j_s + 1))))/j_s**log(a_s**(1/(log(j_s) - log(j_s + 1)))/(w_s*(b_s + v_s))**(1/(log(j_s) - log(j_s + 1)))))/w_s) - ceiling(floor(a_s*(j_s*j_s**log(a_s**(1/(log(j_s) - log(j_s + 1)))/(w_s*(b_s + v_s))**(1/(log(j_s) - log(j_s + 1))))*(j_s + 1)**log(a_s**(1/(log(j_s) - log(j_s + 1)))/(w_s*(b_s + v_s))**(1/(log(j_s) - log(j_s + 1)))) + (j_s*(j_s + 1))**log(a_s**(1/(log(j_s) - log(j_s + 1)))/(w_s*(b_s + v_s))**(1/(log(j_s) - log(j_s + 1)))))/(j_s*j_s**log(a_s**(2/(log(j_s) - log(j_s + 1)))/(w_s*(b_s + v_s))**(2/(log(j_s) - log(j_s + 1))))))/w_s))/(b_b + v_b - ceiling(floor(a_b*(j_b + 1)**log(a_b**(1/(log(j_b) - log(j_b + 1)))/(w_b*(b_b + v_b))**(1/(log(j_b) - log(j_b + 1))))/j_b**log(a_b**(1/(log(j_b) - log(j_b + 1)))/(w_b*(b_b + v_b))**(1/(log(j_b) - log(j_b + 1)))))/w_b)))"
      ]
     },
     "metadata": {},
     "output_type": "display_data"
    },
    {
     "data": {
      "text/latex": [
       "$\\displaystyle \\lambda_{3} = 0$"
      ],
      "text/plain": [
       "Eq(lambda_3, 0)"
      ]
     },
     "metadata": {},
     "output_type": "display_data"
    },
    {
     "data": {
      "text/latex": [
       "$\\displaystyle \\lambda_{4} = 0$"
      ],
      "text/plain": [
       "Eq(lambda_4, 0)"
      ]
     },
     "metadata": {},
     "output_type": "display_data"
    },
    {
     "data": {
      "text/latex": [
       "$\\displaystyle \\lambda_{5} = 0$"
      ],
      "text/plain": [
       "Eq(lambda_5, 0)"
      ]
     },
     "metadata": {},
     "output_type": "display_data"
    },
    {
     "data": {
      "text/latex": [
       "$\\displaystyle \\lambda_{6} = 0$"
      ],
      "text/plain": [
       "Eq(lambda_6, 0)"
      ]
     },
     "metadata": {},
     "output_type": "display_data"
    },
    {
     "data": {
      "text/latex": [
       "$\\displaystyle \\lambda_{7} = 0$"
      ],
      "text/plain": [
       "Eq(lambda_7, 0)"
      ]
     },
     "metadata": {},
     "output_type": "display_data"
    },
    {
     "data": {
      "text/latex": [
       "$\\displaystyle \\lambda_{8} = 0$"
      ],
      "text/plain": [
       "Eq(lambda_8, 0)"
      ]
     },
     "metadata": {},
     "output_type": "display_data"
    },
    {
     "data": {
      "text/latex": [
       "$\\displaystyle \\lambda_{9} = 0$"
      ],
      "text/plain": [
       "Eq(lambda_9, 0)"
      ]
     },
     "metadata": {},
     "output_type": "display_data"
    },
    {
     "data": {
      "text/latex": [
       "$\\displaystyle \\lambda_{10} = 0$"
      ],
      "text/plain": [
       "Eq(lambda_10, 0)"
      ]
     },
     "metadata": {},
     "output_type": "display_data"
    }
   ],
   "source": [
    "for solution in solutions_:\n",
    "    for var, expression in zip(vars, solution):\n",
    "        display(Eq(var, expression).simplify())"
   ]
  },
  {
   "cell_type": "code",
   "execution_count": 49,
   "metadata": {},
   "outputs": [
    {
     "name": "stdout",
     "output_type": "stream",
     "text": [
      "e_b {w_b, v_b, a_b, b_b, j_b}\n",
      "e_s {v_s, j_s, b_s, a_s, w_s}\n",
      "lambda_1 {w_b, v_s, b_s, v_b, b_b, a_s, j_b, j_s, a_b, w_s}\n",
      "lambda_2 {w_b, v_s, b_s, v_b, b_b, a_s, j_b, j_s, a_b, w_s}\n",
      "lambda_3 set()\n",
      "lambda_4 set()\n",
      "lambda_5 set()\n",
      "lambda_6 set()\n",
      "lambda_7 set()\n",
      "lambda_8 set()\n",
      "lambda_9 set()\n",
      "lambda_10 set()\n"
     ]
    }
   ],
   "source": [
    "for solution in solutions_:\n",
    "    for var, expression in zip(vars, solution):\n",
    "        print(var, expression.free_symbols)"
   ]
  },
  {
   "cell_type": "code",
   "execution_count": 44,
   "metadata": {},
   "outputs": [
    {
     "data": {
      "text/latex": [
       "$\\displaystyle \\frac{b_{s} + v_{s} - \\left\\lceil{\\frac{\\left\\lfloor{a_{s} j_{s}^{- \\log{\\left(a_{s}^{\\frac{1}{\\log{\\left(j_{s} \\right)} - \\log{\\left(j_{s} + 1 \\right)}}} \\left(w_{s} \\left(b_{s} + v_{s}\\right)\\right)^{- \\frac{1}{\\log{\\left(j_{s} \\right)} - \\log{\\left(j_{s} + 1 \\right)}}} \\right)}} \\left(j_{s} + 1\\right)^{\\log{\\left(a_{s}^{\\frac{1}{\\log{\\left(j_{s} \\right)} - \\log{\\left(j_{s} + 1 \\right)}}} \\left(w_{s} \\left(b_{s} + v_{s}\\right)\\right)^{- \\frac{1}{\\log{\\left(j_{s} \\right)} - \\log{\\left(j_{s} + 1 \\right)}}} \\right)}}}\\right\\rfloor}{w_{s}}}\\right\\rceil}{b_{b} + v_{b} - \\left\\lceil{\\frac{\\left\\lfloor{a_{b} j_{b}^{- \\log{\\left(a_{b}^{\\frac{1}{\\log{\\left(j_{b} \\right)} - \\log{\\left(j_{b} + 1 \\right)}}} \\left(w_{b} \\left(b_{b} + v_{b}\\right)\\right)^{- \\frac{1}{\\log{\\left(j_{b} \\right)} - \\log{\\left(j_{b} + 1 \\right)}}} \\right)}} \\left(j_{b} + 1\\right)^{\\log{\\left(a_{b}^{\\frac{1}{\\log{\\left(j_{b} \\right)} - \\log{\\left(j_{b} + 1 \\right)}}} \\left(w_{b} \\left(b_{b} + v_{b}\\right)\\right)^{- \\frac{1}{\\log{\\left(j_{b} \\right)} - \\log{\\left(j_{b} + 1 \\right)}}} \\right)}}}\\right\\rfloor}{w_{b}}}\\right\\rceil}$"
      ],
      "text/plain": [
       "(b_s + v_s - ceiling(floor(a_s*(j_s + 1)**log(a_s**(1/(log(j_s) - log(j_s + 1)))/(w_s*(b_s + v_s))**(1/(log(j_s) - log(j_s + 1))))/j_s**log(a_s**(1/(log(j_s) - log(j_s + 1)))/(w_s*(b_s + v_s))**(1/(log(j_s) - log(j_s + 1)))))/w_s))/(b_b + v_b - ceiling(floor(a_b*(j_b + 1)**log(a_b**(1/(log(j_b) - log(j_b + 1)))/(w_b*(b_b + v_b))**(1/(log(j_b) - log(j_b + 1))))/j_b**log(a_b**(1/(log(j_b) - log(j_b + 1)))/(w_b*(b_b + v_b))**(1/(log(j_b) - log(j_b + 1)))))/w_b))"
      ]
     },
     "metadata": {},
     "output_type": "display_data"
    }
   ],
   "source": [
    "for solution in solutions_:\n",
    "  subs_dict = dict(zip(vars, solution))\n",
    "  display(effByExps.subs(subs_dict).simplify())"
   ]
  },
  {
   "cell_type": "code",
   "execution_count": 50,
   "metadata": {},
   "outputs": [
    {
     "data": {
      "text/latex": [
       "$\\displaystyle \\left\\lfloor{a_{b} \\left(\\frac{j_{b} + 1}{j_{b}}\\right)^{\\log{\\left(a_{b}^{\\frac{1}{\\log{\\left(j_{b} \\right)} - \\log{\\left(j_{b} + 1 \\right)}}} \\left(w_{b} \\left(b_{b} + v_{b}\\right)\\right)^{- \\frac{1}{\\log{\\left(j_{b} \\right)} - \\log{\\left(j_{b} + 1 \\right)}}} \\right)}}}\\right\\rfloor$"
      ],
      "text/plain": [
       "floor(a_b*((j_b + 1)/j_b)**log(a_b**(1/(log(j_b) - log(j_b + 1)))/(w_b*(b_b + v_b))**(1/(log(j_b) - log(j_b + 1)))))"
      ]
     },
     "metadata": {},
     "output_type": "display_data"
    },
    {
     "data": {
      "text/latex": [
       "$\\displaystyle \\left\\lfloor{a_{s} \\left(\\frac{j_{s} + 1}{j_{s}}\\right)^{\\log{\\left(a_{s}^{\\frac{1}{\\log{\\left(j_{s} \\right)} - \\log{\\left(j_{s} + 1 \\right)}}} \\left(w_{s} \\left(b_{s} + v_{s}\\right)\\right)^{- \\frac{1}{\\log{\\left(j_{s} \\right)} - \\log{\\left(j_{s} + 1 \\right)}}} \\right)}}}\\right\\rfloor$"
      ],
      "text/plain": [
       "floor(a_s*((j_s + 1)/j_s)**log(a_s**(1/(log(j_s) - log(j_s + 1)))/(w_s*(b_s + v_s))**(1/(log(j_s) - log(j_s + 1)))))"
      ]
     },
     "metadata": {},
     "output_type": "display_data"
    }
   ],
   "source": [
    "for solution in solutions_:\n",
    "  subs_dict = dict(zip(vars, solution))\n",
    "  for spotByExp in spotByExp.values():\n",
    "    display(spotByExp.subs(subs_dict).simplify())"
   ]
  },
  {
   "cell_type": "code",
   "execution_count": 51,
   "metadata": {},
   "outputs": [
    {
     "data": {
      "text/latex": [
       "$\\displaystyle - b_{b} - v_{b} + \\left\\lceil{\\frac{\\left\\lfloor{a_{b} j_{b}^{- \\log{\\left(a_{b}^{\\frac{1}{\\log{\\left(j_{b} \\right)} - \\log{\\left(j_{b} + 1 \\right)}}} \\left(w_{b} \\left(b_{b} + v_{b}\\right)\\right)^{- \\frac{1}{\\log{\\left(j_{b} \\right)} - \\log{\\left(j_{b} + 1 \\right)}}} \\right)}} \\left(j_{b} + 1\\right)^{\\log{\\left(a_{b}^{\\frac{1}{\\log{\\left(j_{b} \\right)} - \\log{\\left(j_{b} + 1 \\right)}}} \\left(w_{b} \\left(b_{b} + v_{b}\\right)\\right)^{- \\frac{1}{\\log{\\left(j_{b} \\right)} - \\log{\\left(j_{b} + 1 \\right)}}} \\right)}}}\\right\\rfloor}{w_{b}}}\\right\\rceil$"
      ],
      "text/plain": [
       "-b_b - v_b + ceiling(floor(a_b*(j_b + 1)**log(a_b**(1/(log(j_b) - log(j_b + 1)))/(w_b*(b_b + v_b))**(1/(log(j_b) - log(j_b + 1))))/j_b**log(a_b**(1/(log(j_b) - log(j_b + 1)))/(w_b*(b_b + v_b))**(1/(log(j_b) - log(j_b + 1)))))/w_b)"
      ]
     },
     "metadata": {},
     "output_type": "display_data"
    },
    {
     "data": {
      "text/latex": [
       "$\\displaystyle - b_{s} - v_{s} + \\left\\lceil{\\frac{\\left\\lfloor{a_{s} j_{s}^{- \\log{\\left(a_{s}^{\\frac{1}{\\log{\\left(j_{s} \\right)} - \\log{\\left(j_{s} + 1 \\right)}}} \\left(w_{s} \\left(b_{s} + v_{s}\\right)\\right)^{- \\frac{1}{\\log{\\left(j_{s} \\right)} - \\log{\\left(j_{s} + 1 \\right)}}} \\right)}} \\left(j_{s} + 1\\right)^{\\log{\\left(a_{s}^{\\frac{1}{\\log{\\left(j_{s} \\right)} - \\log{\\left(j_{s} + 1 \\right)}}} \\left(w_{s} \\left(b_{s} + v_{s}\\right)\\right)^{- \\frac{1}{\\log{\\left(j_{s} \\right)} - \\log{\\left(j_{s} + 1 \\right)}}} \\right)}}}\\right\\rfloor}{w_{s}}}\\right\\rceil$"
      ],
      "text/plain": [
       "-b_s - v_s + ceiling(floor(a_s*(j_s + 1)**log(a_s**(1/(log(j_s) - log(j_s + 1)))/(w_s*(b_s + v_s))**(1/(log(j_s) - log(j_s + 1))))/j_s**log(a_s**(1/(log(j_s) - log(j_s + 1)))/(w_s*(b_s + v_s))**(1/(log(j_s) - log(j_s + 1)))))/w_s)"
      ]
     },
     "metadata": {},
     "output_type": "display_data"
    }
   ],
   "source": [
    "for solution in solutions_:\n",
    "  subs_dict = dict(zip(vars, solution))\n",
    "  for deltaByExp in deltaByExp.values():\n",
    "    display(deltaByExp.subs(subs_dict).simplify())"
   ]
  },
  {
   "cell_type": "code",
   "execution_count": null,
   "metadata": {},
   "outputs": [],
   "source": []
  },
  {
   "cell_type": "code",
   "execution_count": null,
   "metadata": {},
   "outputs": [],
   "source": []
  },
  {
   "cell_type": "code",
   "execution_count": null,
   "metadata": {},
   "outputs": [],
   "source": []
  },
  {
   "cell_type": "code",
   "execution_count": null,
   "metadata": {},
   "outputs": [],
   "source": []
  }
 ],
 "metadata": {
  "kernelspec": {
   "display_name": "Python 3",
   "language": "python",
   "name": "python3"
  },
  "language_info": {
   "codemirror_mode": {
    "name": "ipython",
    "version": 3
   },
   "file_extension": ".py",
   "mimetype": "text/x-python",
   "name": "python",
   "nbconvert_exporter": "python",
   "pygments_lexer": "ipython3",
   "version": "3.9.16"
  }
 },
 "nbformat": 4,
 "nbformat_minor": 2
}
