{
 "cells": [
  {
   "cell_type": "code",
   "execution_count": 1,
   "metadata": {},
   "outputs": [],
   "source": [
    "from sympy import symbols, simplify, hessian, solveset, S, solve, log, And, Le, Ge, Eq, Lt, Gt, nonlinsolve, latex, log, Wild, expand_log, logcombine, evaluate,oo, limit,ask, Q, floor, ceiling, lambdify, Sum, sign\n",
    "from IPython.display import display, HTML, Math"
   ]
  },
  {
   "cell_type": "code",
   "execution_count": 2,
   "metadata": {},
   "outputs": [],
   "source": [
    "delta_b_negative = False\n",
    "discrete = False\n",
    "simp = True"
   ]
  },
  {
   "cell_type": "code",
   "execution_count": 3,
   "metadata": {},
   "outputs": [
    {
     "data": {
      "text/plain": [
       "{'b': dict_values([s_b, v_b, b_b, w_b, j_b, e_b, Delta_b, a_b, min_b]),\n",
       " 's': dict_values([s_s, v_s, b_s, w_s, j_s, e_s, Delta_s, a_s, min_s])}"
      ]
     },
     "execution_count": 3,
     "metadata": {},
     "output_type": "execute_result"
    }
   ],
   "source": [
    "assets = ['b', 's']  # buying and selling assets\n",
    "base_symbols = ['s', 'v', 'b', 'w', 'j', 'e', 'Delta', 'a', 'min'] \n",
    "# spot price, virtual liquidity, balance, weight, jump size, exponent, delta, anchor price, amm-price, jump-multiplier\n",
    "\n",
    "all_symbols = {}\n",
    "\n",
    "for asset in assets:\n",
    "    temp_dict = {}\n",
    "    for base in base_symbols:\n",
    "        var_name = f\"{base}_{asset}\"\n",
    "        if base == 'e':\n",
    "            symbol_obj = symbols(var_name, integer=True)\n",
    "        elif base == 'b':\n",
    "            symbol_obj = symbols(var_name, nonnegative=True, integer=True)\n",
    "        elif delta_b_negative and var_name == 'Delta_b':\n",
    "            symbol_obj = symbols(var_name, negative=True, integer=True)\n",
    "        else:\n",
    "            symbol_obj = symbols(var_name, positive=True, integer=True)\n",
    "        temp_dict[var_name] = symbol_obj\n",
    "        # Define the variable in the global namespace\n",
    "        globals()[var_name] = symbol_obj\n",
    "    all_symbols[asset] = temp_dict.values()\n",
    "all_symbols"
   ]
  },
  {
   "cell_type": "markdown",
   "metadata": {},
   "source": [
    "## Equalities"
   ]
  },
  {
   "cell_type": "code",
   "execution_count": 4,
   "metadata": {},
   "outputs": [
    {
     "data": {
      "text/latex": [
       "$\\displaystyle - b_{b} + \\frac{s_{b}}{w_{b}} - v_{b}$"
      ],
      "text/plain": [
       "-b_b + s_b/w_b - v_b"
      ]
     },
     "execution_count": 4,
     "metadata": {},
     "output_type": "execute_result"
    }
   ],
   "source": [
    "# affine\n",
    "def deltaBySpot_(asset, s,v, b, w, j, e, Delta, a, min):\n",
    "  f = (s - (v + b) * w) / w\n",
    "  if delta_b_negative and asset == 'b':\n",
    "    f = -f\n",
    "  if discrete:\n",
    "    f = ceiling(f)\n",
    "  if simp:\n",
    "    f = simplify(f)\n",
    "  return f\n",
    "\n",
    "deltaBySpot = {asset: deltaBySpot_(asset, *all_symbols[asset]) for asset in assets}\n",
    "deltaBySpot['b']"
   ]
  },
  {
   "cell_type": "code",
   "execution_count": 5,
   "metadata": {},
   "outputs": [
    {
     "data": {
      "text/latex": [
       "$\\displaystyle a_{b} \\left(\\frac{j_{b} + 1}{j_{b}}\\right)^{e_{b}}$"
      ],
      "text/plain": [
       "a_b*((j_b + 1)/j_b)**e_b"
      ]
     },
     "execution_count": 5,
     "metadata": {},
     "output_type": "execute_result"
    }
   ],
   "source": [
    "# convex\n",
    "def spotByExp_(s, v, b, w, j, e, Delta, a, min):\n",
    "  f = a * ((1 + 1/j) ** e)\n",
    "  if discrete:\n",
    "    f = floor(f)\n",
    "  if simp:\n",
    "    f = simplify(f)\n",
    "  return f\n",
    "spotByExp = {asset: spotByExp_(*all_symbols[asset]) for asset in assets}\n",
    "spotByExp['b']"
   ]
  },
  {
   "cell_type": "code",
   "execution_count": 6,
   "metadata": {},
   "outputs": [
    {
     "data": {
      "text/latex": [
       "$\\displaystyle \\frac{a_{b} j_{b}^{- e_{b}} \\left(j_{b} + 1\\right)^{e_{b}}}{w_{b}} - b_{b} - v_{b}$"
      ],
      "text/plain": [
       "a_b*(j_b + 1)**e_b/(j_b**e_b*w_b) - b_b - v_b"
      ]
     },
     "execution_count": 6,
     "metadata": {},
     "output_type": "execute_result"
    }
   ],
   "source": [
    "# convex if not delta_b_negative\n",
    "def deltaByExp_(asset, s, v, b, w, j, e, Delta, a, min):\n",
    "  f = deltaBySpot[asset].subs(s, spotByExp[asset])\n",
    "  if simp:\n",
    "    f = simplify(f)\n",
    "  return f\n",
    "\n",
    "deltaByExp = {asset: deltaByExp_(asset, *all_symbols[asset]) for asset in assets}\n",
    "deltaByExp['b']"
   ]
  },
  {
   "cell_type": "code",
   "execution_count": 7,
   "metadata": {},
   "outputs": [
    {
     "data": {
      "text/latex": [
       "$\\displaystyle \\frac{a_{s} j_{s}^{- e_{s}} \\left(j_{s} + 1\\right)^{e_{s}}}{w_{s}} - b_{s} - v_{s}$"
      ],
      "text/plain": [
       "a_s*(j_s + 1)**e_s/(j_s**e_s*w_s) - b_s - v_s"
      ]
     },
     "execution_count": 7,
     "metadata": {},
     "output_type": "execute_result"
    }
   ],
   "source": [
    "deltaByExp['s']"
   ]
  },
  {
   "cell_type": "markdown",
   "metadata": {},
   "source": [
    "## Target function\n",
    "\n",
    "we want to minimize the spot price, given a set of exponents for the buying and selling asset each. (Effective price wasn't convex)"
   ]
  },
  {
   "cell_type": "code",
   "execution_count": 8,
   "metadata": {},
   "outputs": [
    {
     "data": {
      "text/latex": [
       "$\\displaystyle \\frac{s_{s}}{s_{b}}$"
      ],
      "text/plain": [
       "s_s/s_b"
      ]
     },
     "execution_count": 8,
     "metadata": {},
     "output_type": "execute_result"
    }
   ],
   "source": [
    "spot = s_s / s_b\n",
    "spot"
   ]
  },
  {
   "cell_type": "code",
   "execution_count": 9,
   "metadata": {},
   "outputs": [
    {
     "data": {
      "text/latex": [
       "$\\displaystyle \\left[\\begin{matrix}0 & - \\frac{1}{s_{b}^{2}}\\\\- \\frac{1}{s_{b}^{2}} & \\frac{2 s_{s}}{s_{b}^{3}}\\end{matrix}\\right]$"
      ],
      "text/plain": [
       "Matrix([\n",
       "[        0,    -1/s_b**2],\n",
       "[-1/s_b**2, 2*s_s/s_b**3]])"
      ]
     },
     "execution_count": 9,
     "metadata": {},
     "output_type": "execute_result"
    }
   ],
   "source": [
    "H = hessian(spot, [s_s, s_b])\n",
    "H"
   ]
  },
  {
   "cell_type": "code",
   "execution_count": 10,
   "metadata": {},
   "outputs": [
    {
     "data": {
      "text/latex": [
       "$\\displaystyle - \\frac{1}{s_{b}^{4}}$"
      ],
      "text/plain": [
       "-1/s_b**4"
      ]
     },
     "execution_count": 10,
     "metadata": {},
     "output_type": "execute_result"
    }
   ],
   "source": [
    "H.det() # concave at best"
   ]
  },
  {
   "cell_type": "code",
   "execution_count": 11,
   "metadata": {},
   "outputs": [
    {
     "data": {
      "text/latex": [
       "$\\displaystyle \\frac{a_{s} \\left(\\frac{j_{b}}{j_{b} + 1}\\right)^{e_{b}} \\left(\\frac{j_{s} + 1}{j_{s}}\\right)^{e_{s}}}{a_{b}}$"
      ],
      "text/plain": [
       "a_s*(j_b/(j_b + 1))**e_b*((j_s + 1)/j_s)**e_s/a_b"
      ]
     },
     "execution_count": 11,
     "metadata": {},
     "output_type": "execute_result"
    }
   ],
   "source": [
    "spotByExps = spot.subs(s_s, spotByExp['s']).subs(s_b, spotByExp['b'])\n",
    "if simp:\n",
    "  spotByExps = simplify(spotByExps)\n",
    "spotByExps"
   ]
  },
  {
   "cell_type": "code",
   "execution_count": 12,
   "metadata": {},
   "outputs": [
    {
     "data": {
      "text/latex": [
       "$\\displaystyle \\left[\\begin{matrix}\\frac{a_{s} \\left(\\frac{j_{b}}{j_{b} + 1}\\right)^{e_{b}} \\left(\\frac{j_{s} + 1}{j_{s}}\\right)^{e_{s}} \\log{\\left(\\frac{j_{b}}{j_{b} + 1} \\right)}^{2}}{a_{b}} & \\frac{a_{s} \\left(\\frac{j_{b}}{j_{b} + 1}\\right)^{e_{b}} \\left(\\frac{j_{s} + 1}{j_{s}}\\right)^{e_{s}} \\log{\\left(\\frac{j_{b}}{j_{b} + 1} \\right)} \\log{\\left(\\frac{j_{s} + 1}{j_{s}} \\right)}}{a_{b}}\\\\\\frac{a_{s} \\left(\\frac{j_{b}}{j_{b} + 1}\\right)^{e_{b}} \\left(\\frac{j_{s} + 1}{j_{s}}\\right)^{e_{s}} \\log{\\left(\\frac{j_{b}}{j_{b} + 1} \\right)} \\log{\\left(\\frac{j_{s} + 1}{j_{s}} \\right)}}{a_{b}} & \\frac{a_{s} \\left(\\frac{j_{b}}{j_{b} + 1}\\right)^{e_{b}} \\left(\\frac{j_{s} + 1}{j_{s}}\\right)^{e_{s}} \\log{\\left(\\frac{j_{s} + 1}{j_{s}} \\right)}^{2}}{a_{b}}\\end{matrix}\\right]$"
      ],
      "text/plain": [
       "Matrix([\n",
       "[                a_s*(j_b/(j_b + 1))**e_b*((j_s + 1)/j_s)**e_s*log(j_b/(j_b + 1))**2/a_b, a_s*(j_b/(j_b + 1))**e_b*((j_s + 1)/j_s)**e_s*log(j_b/(j_b + 1))*log((j_s + 1)/j_s)/a_b],\n",
       "[a_s*(j_b/(j_b + 1))**e_b*((j_s + 1)/j_s)**e_s*log(j_b/(j_b + 1))*log((j_s + 1)/j_s)/a_b,                 a_s*(j_b/(j_b + 1))**e_b*((j_s + 1)/j_s)**e_s*log((j_s + 1)/j_s)**2/a_b]])"
      ]
     },
     "execution_count": 12,
     "metadata": {},
     "output_type": "execute_result"
    }
   ],
   "source": [
    "H = hessian(spotByExps, [e_b, e_s])\n",
    "H"
   ]
  },
  {
   "cell_type": "code",
   "execution_count": 13,
   "metadata": {},
   "outputs": [
    {
     "data": {
      "text/latex": [
       "$\\displaystyle \\frac{a_{s} \\left(\\frac{j_{b}}{j_{b} + 1}\\right)^{e_{b}} \\left(\\frac{j_{s} + 1}{j_{s}}\\right)^{e_{s}} \\log{\\left(\\frac{j_{b}}{j_{b} + 1} \\right)}^{2}}{a_{b}}$"
      ],
      "text/plain": [
       "a_s*(j_b/(j_b + 1))**e_b*((j_s + 1)/j_s)**e_s*log(j_b/(j_b + 1))**2/a_b"
      ]
     },
     "execution_count": 13,
     "metadata": {},
     "output_type": "execute_result"
    }
   ],
   "source": [
    "H[0,0].simplify()"
   ]
  },
  {
   "cell_type": "code",
   "execution_count": 14,
   "metadata": {},
   "outputs": [
    {
     "data": {
      "text/latex": [
       "$\\displaystyle 0$"
      ],
      "text/plain": [
       "0"
      ]
     },
     "execution_count": 14,
     "metadata": {},
     "output_type": "execute_result"
    }
   ],
   "source": [
    "H.det().simplify()"
   ]
  },
  {
   "cell_type": "markdown",
   "metadata": {},
   "source": [
    "- top-left of the hessian is positive\n",
    "- determinant is zero\n",
    "\n",
    "=> convex, but not strictly so"
   ]
  },
  {
   "cell_type": "markdown",
   "metadata": {},
   "source": [
    "## Inequality-constraints\n",
    "\n",
    "- value in A0 of buying must not exceed that of selling\n",
    "- the exponents must adhere to their upper (buying) resp. lower (selling) bounds given by our equation\n",
    "- need to buy and sell minimum amounts\n",
    "- cannot buy more than the available balance\n",
    "- cannot sell more than maxSelling\n",
    "- the spot prices must not exceed maxInteger\n",
    "- bonus: the total number of multiplications for both exponentiations must not exceed expLimit (TODO)\n",
    "\n",
    "### value cannot decrease"
   ]
  },
  {
   "cell_type": "code",
   "execution_count": 15,
   "metadata": {},
   "outputs": [
    {
     "data": {
      "text/latex": [
       "$\\displaystyle \\frac{s_{s} \\left(s_{b} - w_{b} \\left(b_{b} + v_{b}\\right)\\right)}{w_{b}}$"
      ],
      "text/plain": [
       "s_s*(s_b - w_b*(b_b + v_b))/w_b"
      ]
     },
     "execution_count": 15,
     "metadata": {},
     "output_type": "execute_result"
    }
   ],
   "source": [
    "a0Buying = s_s * deltaBySpot['b'] # < 0 if delta_b_negative, > 0 otherwise\n",
    "if delta_b_negative:\n",
    "    a0Buying = -a0Buying # > 0\n",
    "if simp:\n",
    "  a0Buying = simplify(a0Buying)\n",
    "a0Buying"
   ]
  },
  {
   "cell_type": "code",
   "execution_count": 16,
   "metadata": {},
   "outputs": [
    {
     "data": {
      "text/latex": [
       "$\\displaystyle \\frac{s_{b} \\left(s_{s} - w_{s} \\left(b_{s} + v_{s}\\right)\\right)}{w_{s}}$"
      ],
      "text/plain": [
       "s_b*(s_s - w_s*(b_s + v_s))/w_s"
      ]
     },
     "execution_count": 16,
     "metadata": {},
     "output_type": "execute_result"
    }
   ],
   "source": [
    "a0Selling = s_b * deltaBySpot['s'] # > 0\n",
    "if simp:\n",
    "  a0Selling = simplify(a0Selling)\n",
    "a0Selling"
   ]
  },
  {
   "cell_type": "code",
   "execution_count": 17,
   "metadata": {},
   "outputs": [
    {
     "data": {
      "text/latex": [
       "$\\displaystyle \\frac{s_{b} w_{b} \\left(s_{s} - w_{s} \\left(b_{s} + v_{s}\\right)\\right) - s_{s} w_{s} \\left(s_{b} - w_{b} \\left(b_{b} + v_{b}\\right)\\right)}{w_{b} w_{s}}$"
      ],
      "text/plain": [
       "(s_b*w_b*(s_s - w_s*(b_s + v_s)) - s_s*w_s*(s_b - w_b*(b_b + v_b)))/(w_b*w_s)"
      ]
     },
     "execution_count": 17,
     "metadata": {},
     "output_type": "execute_result"
    }
   ],
   "source": [
    "a0Bound = a0Selling - a0Buying # >=! 0 (because it's concave, as is it's negation)\n",
    "if simp:\n",
    "  a0Bound = simplify(a0Bound)\n",
    "a0Bound"
   ]
  },
  {
   "cell_type": "code",
   "execution_count": 18,
   "metadata": {},
   "outputs": [
    {
     "data": {
      "text/latex": [
       "$\\displaystyle \\left[\\begin{matrix}0 & \\frac{w_{b} - w_{s}}{w_{b} w_{s}}\\\\\\frac{w_{b} - w_{s}}{w_{b} w_{s}} & 0\\end{matrix}\\right]$"
      ],
      "text/plain": [
       "Matrix([\n",
       "[                    0, (w_b - w_s)/(w_b*w_s)],\n",
       "[(w_b - w_s)/(w_b*w_s),                     0]])"
      ]
     },
     "execution_count": 18,
     "metadata": {},
     "output_type": "execute_result"
    }
   ],
   "source": [
    "H = hessian(a0Bound, [s_s, s_b])\n",
    "H"
   ]
  },
  {
   "cell_type": "code",
   "execution_count": 19,
   "metadata": {},
   "outputs": [
    {
     "data": {
      "text/latex": [
       "$\\displaystyle - \\frac{1}{w_{s}^{2}} + \\frac{2}{w_{b} w_{s}} - \\frac{1}{w_{b}^{2}}$"
      ],
      "text/plain": [
       "-1/w_s**2 + 2/(w_b*w_s) - 1/w_b**2"
      ]
     },
     "execution_count": 19,
     "metadata": {},
     "output_type": "execute_result"
    }
   ],
   "source": [
    "det = H.det()\n",
    "det = simplify(det)\n",
    "det"
   ]
  },
  {
   "cell_type": "code",
   "execution_count": 20,
   "metadata": {},
   "outputs": [
    {
     "data": {
      "text/latex": [
       "$\\displaystyle - \\left(- \\frac{1}{w_{s}} + \\frac{1}{w_{b}}\\right)^{2}$"
      ],
      "text/plain": [
       "-(-1/w_s + 1/w_b)**2"
      ]
     },
     "execution_count": 20,
     "metadata": {},
     "output_type": "execute_result"
    }
   ],
   "source": [
    "det_ = -((1/w_b) - (1/w_s))**2 # nonpositive\n",
    "det_"
   ]
  },
  {
   "cell_type": "code",
   "execution_count": 21,
   "metadata": {},
   "outputs": [
    {
     "data": {
      "text/latex": [
       "$\\displaystyle 0$"
      ],
      "text/plain": [
       "0"
      ]
     },
     "execution_count": 21,
     "metadata": {},
     "output_type": "execute_result"
    }
   ],
   "source": [
    "simplify(det_ - det)"
   ]
  },
  {
   "cell_type": "markdown",
   "metadata": {},
   "source": [
    "- topleft zero\n",
    "- determinant nonpositive\n",
    "\n",
    "=> non-strictly concave => suitable as inequality-constraint, but inverted (g >= 0)\n",
    "\n",
    "- not affine, because then the entire Hessian would be filled with zeroes"
   ]
  },
  {
   "cell_type": "markdown",
   "metadata": {},
   "source": [
    "### exponents cannot result in spot prices that are better than the amm-prices"
   ]
  },
  {
   "cell_type": "code",
   "execution_count": 22,
   "metadata": {},
   "outputs": [
    {
     "data": {
      "text/latex": [
       "$\\displaystyle e_{b} - \\log{\\left(a_{b}^{- \\frac{1}{\\log{\\left(\\frac{j_{b} + 1}{j_{b}} \\right)}}} \\left(w_{b} \\left(b_{b} + v_{b}\\right)\\right)^{\\frac{1}{\\log{\\left(\\frac{j_{b} + 1}{j_{b}} \\right)}}} \\right)}$"
      ],
      "text/plain": [
       "e_b - log((w_b*(b_b + v_b))**(1/log((j_b + 1)/j_b))/a_b**(1/log((j_b + 1)/j_b)))"
      ]
     },
     "execution_count": 22,
     "metadata": {},
     "output_type": "execute_result"
    }
   ],
   "source": [
    "def expBound_(asset, s, v, b, w, j, e, Delta, a, min):\n",
    "    e_bound = log(w * (v + b) /a, 1 + 1/j) # constant wrt e\n",
    "    if simp:\n",
    "        e_bound = simplify(e_bound)\n",
    "    if asset == 'b':\n",
    "        f = e - e_bound # <=! 0 (upper bound)\n",
    "    else:\n",
    "        f = e_bound - e # <=! 0 (lower bound)\n",
    "    if simp:\n",
    "        f = simplify(f)\n",
    "    return f\n",
    "\n",
    "expBound = {asset: expBound_(asset, *all_symbols[asset]) for asset in assets}\n",
    "expBound['b']"
   ]
  },
  {
   "cell_type": "code",
   "execution_count": 23,
   "metadata": {},
   "outputs": [
    {
     "data": {
      "text/latex": [
       "$\\displaystyle - e_{s} + \\log{\\left(a_{s}^{- \\frac{1}{\\log{\\left(\\frac{j_{s} + 1}{j_{s}} \\right)}}} \\left(w_{s} \\left(b_{s} + v_{s}\\right)\\right)^{\\frac{1}{\\log{\\left(\\frac{j_{s} + 1}{j_{s}} \\right)}}} \\right)}$"
      ],
      "text/plain": [
       "-e_s + log((w_s*(b_s + v_s))**(1/log((j_s + 1)/j_s))/a_s**(1/log((j_s + 1)/j_s)))"
      ]
     },
     "execution_count": 23,
     "metadata": {},
     "output_type": "execute_result"
    }
   ],
   "source": [
    "expBound['s']"
   ]
  },
  {
   "cell_type": "markdown",
   "metadata": {},
   "source": [
    "- both clearly affine wrt e\n",
    "\n",
    "=> suitable as all kinds of constraints"
   ]
  },
  {
   "cell_type": "markdown",
   "metadata": {},
   "source": [
    "### spot prices cannot exceed maxInteger"
   ]
  },
  {
   "cell_type": "code",
   "execution_count": 106,
   "metadata": {},
   "outputs": [
    {
     "data": {
      "text/latex": [
       "$\\displaystyle - I_{max} + a_{b} j_{b}^{- e_{b}} \\left(j_{b} + 1\\right)^{e_{b}}$"
      ],
      "text/plain": [
       "-I_max + a_b*(j_b + 1)**e_b/j_b**e_b"
      ]
     },
     "execution_count": 106,
     "metadata": {},
     "output_type": "execute_result"
    }
   ],
   "source": [
    "max_s, I_max = symbols('max_s I_max', positive=True, integer=True)\n",
    "\n",
    "maxSpotBound_b = spotByExp['b'] - I_max # <=! 0\n",
    "if simp:\n",
    "  maxSpotBound_b = simplify(maxSpotBound_b)\n",
    "maxSpotBound_b"
   ]
  },
  {
   "cell_type": "code",
   "execution_count": 107,
   "metadata": {},
   "outputs": [
    {
     "data": {
      "text/latex": [
       "$\\displaystyle - I_{max} + a_{s} j_{s}^{- e_{s}} \\left(j_{s} + 1\\right)^{e_{s}}$"
      ],
      "text/plain": [
       "-I_max + a_s*(j_s + 1)**e_s/j_s**e_s"
      ]
     },
     "execution_count": 107,
     "metadata": {},
     "output_type": "execute_result"
    }
   ],
   "source": [
    "maxSpotBound_s = spotByExp['s'] - I_max # >=! 0\n",
    "if simp:\n",
    "  maxSpotBound_s = simplify(maxSpotBound_s)\n",
    "maxSpotBound_s"
   ]
  },
  {
   "cell_type": "code",
   "execution_count": 108,
   "metadata": {},
   "outputs": [
    {
     "data": {
      "text/latex": [
       "$\\displaystyle - \\log{\\left(\\left(\\frac{j_{b}}{j_{b} + 1}\\right)^{\\log{\\left(\\left(\\frac{j_{b} + 1}{j_{b}}\\right)^{a_{b} j_{b}^{- e_{b}} \\left(j_{b} + 1\\right)^{e_{b}}} \\right)}} \\right)}$"
      ],
      "text/plain": [
       "-log((j_b/(j_b + 1))**log(((j_b + 1)/j_b)**(a_b*(j_b + 1)**e_b/j_b**e_b)))"
      ]
     },
     "execution_count": 108,
     "metadata": {},
     "output_type": "execute_result"
    }
   ],
   "source": [
    "maxSpotBound_b.diff(e_b).simplify().diff(e_b).simplify()"
   ]
  },
  {
   "cell_type": "code",
   "execution_count": 109,
   "metadata": {},
   "outputs": [
    {
     "data": {
      "text/latex": [
       "$\\displaystyle - \\log{\\left(\\left(\\frac{j_{s}}{j_{s} + 1}\\right)^{\\log{\\left(\\left(\\frac{j_{s} + 1}{j_{s}}\\right)^{a_{s} j_{s}^{- e_{s}} \\left(j_{s} + 1\\right)^{e_{s}}} \\right)}} \\right)}$"
      ],
      "text/plain": [
       "-log((j_s/(j_s + 1))**log(((j_s + 1)/j_s)**(a_s*(j_s + 1)**e_s/j_s**e_s)))"
      ]
     },
     "execution_count": 109,
     "metadata": {},
     "output_type": "execute_result"
    }
   ],
   "source": [
    "maxSpotBound_s.diff(e_s).simplify().diff(e_s).simplify()"
   ]
  },
  {
   "cell_type": "markdown",
   "metadata": {},
   "source": [
    "- both are positive\n",
    "\n",
    "=> convex => suitable as regular inequality-constraints\n",
    "\n",
    "(the reverse formulation also works, meaning negate it => becomes convave => suitable as inverted inequality-constraints)"
   ]
  },
  {
   "cell_type": "markdown",
   "metadata": {},
   "source": [
    "### need to swap at least minimum amounts"
   ]
  },
  {
   "cell_type": "code",
   "execution_count": 110,
   "metadata": {},
   "outputs": [
    {
     "data": {
      "text/latex": [
       "$\\displaystyle - \\frac{a_{b} j_{b}^{- e_{b}} \\left(j_{b} + 1\\right)^{e_{b}}}{w_{b}} + b_{b} + min_{b} + v_{b}$"
      ],
      "text/plain": [
       "-a_b*(j_b + 1)**e_b/(j_b**e_b*w_b) + b_b + min_b + v_b"
      ]
     },
     "execution_count": 110,
     "metadata": {},
     "output_type": "execute_result"
    }
   ],
   "source": [
    "if delta_b_negative:\n",
    "  raise Exception('not checked for convexity/concavity')\n",
    "else:\n",
    "  minAmntBound_b = min_b - deltaByExp['b'] # <=! 0\n",
    "if simp:\n",
    "  minAmntBound_b = simplify(minAmntBound_b)\n",
    "minAmntBound_b"
   ]
  },
  {
   "cell_type": "code",
   "execution_count": 111,
   "metadata": {},
   "outputs": [
    {
     "data": {
      "text/latex": [
       "$\\displaystyle - \\frac{a_{s} j_{s}^{- e_{s}} \\left(j_{s} + 1\\right)^{e_{s}}}{w_{s}} + b_{s} + min_{s} + v_{s}$"
      ],
      "text/plain": [
       "-a_s*(j_s + 1)**e_s/(j_s**e_s*w_s) + b_s + min_s + v_s"
      ]
     },
     "execution_count": 111,
     "metadata": {},
     "output_type": "execute_result"
    }
   ],
   "source": [
    "minAmntBound_s = min_s - deltaByExp['s'] # <=! 0\n",
    "if simp:\n",
    "  minAmntBound_s = simplify(minAmntBound_s)\n",
    "minAmntBound_s"
   ]
  },
  {
   "cell_type": "code",
   "execution_count": 112,
   "metadata": {},
   "outputs": [
    {
     "data": {
      "text/latex": [
       "$\\displaystyle - \\frac{a_{b} \\left(\\frac{j_{b} + 1}{j_{b}}\\right)^{e_{b}} \\log{\\left(\\frac{j_{b}}{j_{b} + 1} \\right)}^{2}}{w_{b}}$"
      ],
      "text/plain": [
       "-a_b*((j_b + 1)/j_b)**e_b*log(j_b/(j_b + 1))**2/w_b"
      ]
     },
     "execution_count": 112,
     "metadata": {},
     "output_type": "execute_result"
    }
   ],
   "source": [
    "minAmntBound_b.diff(e_b).simplify().diff(e_b).simplify()"
   ]
  },
  {
   "cell_type": "code",
   "execution_count": 113,
   "metadata": {},
   "outputs": [
    {
     "data": {
      "text/latex": [
       "$\\displaystyle - \\frac{a_{s} \\left(\\frac{j_{s} + 1}{j_{s}}\\right)^{e_{s}} \\log{\\left(\\frac{j_{s}}{j_{s} + 1} \\right)}^{2}}{w_{s}}$"
      ],
      "text/plain": [
       "-a_s*((j_s + 1)/j_s)**e_s*log(j_s/(j_s + 1))**2/w_s"
      ]
     },
     "execution_count": 113,
     "metadata": {},
     "output_type": "execute_result"
    }
   ],
   "source": [
    "minAmntBound_s.diff(e_s).simplify().diff(e_s).simplify()"
   ]
  },
  {
   "cell_type": "markdown",
   "metadata": {},
   "source": [
    "- both are negative\n",
    "\n",
    "=> concave => not suitable as regular inequality-constraints!"
   ]
  },
  {
   "cell_type": "code",
   "execution_count": 114,
   "metadata": {},
   "outputs": [
    {
     "data": {
      "text/latex": [
       "$\\displaystyle \\frac{a_{b} j_{b}^{- e_{b}} \\left(j_{b} + 1\\right)^{e_{b}}}{w_{b}} - b_{b} - min_{b} - v_{b}$"
      ],
      "text/plain": [
       "a_b*(j_b + 1)**e_b/(j_b**e_b*w_b) - b_b - min_b - v_b"
      ]
     },
     "execution_count": 114,
     "metadata": {},
     "output_type": "execute_result"
    }
   ],
   "source": [
    "if delta_b_negative:\n",
    "  raise Exception('not checked for convexity/concavity')\n",
    "else:\n",
    "  minAmntBound_b = deltaByExp['b'] - min_b # >=! 0\n",
    "if simp:\n",
    "  minAmntBound_b = simplify(minAmntBound_b)\n",
    "minAmntBound_b"
   ]
  },
  {
   "cell_type": "code",
   "execution_count": 115,
   "metadata": {},
   "outputs": [
    {
     "data": {
      "text/latex": [
       "$\\displaystyle \\frac{a_{s} j_{s}^{- e_{s}} \\left(j_{s} + 1\\right)^{e_{s}}}{w_{s}} - b_{s} - min_{s} - v_{s}$"
      ],
      "text/plain": [
       "a_s*(j_s + 1)**e_s/(j_s**e_s*w_s) - b_s - min_s - v_s"
      ]
     },
     "execution_count": 115,
     "metadata": {},
     "output_type": "execute_result"
    }
   ],
   "source": [
    "minAmntBound_s = deltaByExp['s'] - min_s # >=! 0\n",
    "if simp:\n",
    "  minAmntBound_s = simplify(minAmntBound_s)\n",
    "minAmntBound_s"
   ]
  },
  {
   "cell_type": "code",
   "execution_count": 116,
   "metadata": {},
   "outputs": [
    {
     "data": {
      "text/latex": [
       "$\\displaystyle - \\log{\\left(\\left(\\frac{j_{b}}{j_{b} + 1}\\right)^{\\log{\\left(\\left(\\frac{j_{b} + 1}{j_{b}}\\right)^{\\frac{a_{b} j_{b}^{- e_{b}} \\left(j_{b} + 1\\right)^{e_{b}}}{w_{b}}} \\right)}} \\right)}$"
      ],
      "text/plain": [
       "-log((j_b/(j_b + 1))**log(((j_b + 1)/j_b)**(a_b*(j_b + 1)**e_b/(j_b**e_b*w_b))))"
      ]
     },
     "execution_count": 116,
     "metadata": {},
     "output_type": "execute_result"
    }
   ],
   "source": [
    "minAmntBound_b.diff(e_b).simplify().diff(e_b).simplify()"
   ]
  },
  {
   "cell_type": "code",
   "execution_count": 117,
   "metadata": {},
   "outputs": [
    {
     "data": {
      "text/latex": [
       "$\\displaystyle - \\log{\\left(\\left(\\frac{j_{s}}{j_{s} + 1}\\right)^{\\log{\\left(\\left(\\frac{j_{s} + 1}{j_{s}}\\right)^{\\frac{a_{s} j_{s}^{- e_{s}} \\left(j_{s} + 1\\right)^{e_{s}}}{w_{s}}} \\right)}} \\right)}$"
      ],
      "text/plain": [
       "-log((j_s/(j_s + 1))**log(((j_s + 1)/j_s)**(a_s*(j_s + 1)**e_s/(j_s**e_s*w_s))))"
      ]
     },
     "execution_count": 117,
     "metadata": {},
     "output_type": "execute_result"
    }
   ],
   "source": [
    "minAmntBound_s.diff(e_s).simplify().diff(e_s).simplify()"
   ]
  },
  {
   "cell_type": "markdown",
   "metadata": {},
   "source": [
    "- both are positive\n",
    "\n",
    "=> convex => not suitable as inverted inequality-constraints!"
   ]
  },
  {
   "cell_type": "code",
   "execution_count": 118,
   "metadata": {},
   "outputs": [
    {
     "name": "stdout",
     "output_type": "stream",
     "text": [
      "a_s*(j_s + 1)**e_s/(j_s**e_s*w_s) - b_s - v_s\n"
     ]
    }
   ],
   "source": [
    "print(deltaByExp['s'])"
   ]
  },
  {
   "cell_type": "code",
   "execution_count": 119,
   "metadata": {},
   "outputs": [
    {
     "data": {
      "text/latex": [
       "$\\displaystyle e_{s}$"
      ],
      "text/plain": [
       "e_s"
      ]
     },
     "execution_count": 119,
     "metadata": {},
     "output_type": "execute_result"
    }
   ],
   "source": [
    "e_s\n",
    "\n"
   ]
  },
  {
   "cell_type": "markdown",
   "metadata": {},
   "source": [
    "!>="
   ]
  },
  {
   "cell_type": "code",
   "execution_count": 120,
   "metadata": {},
   "outputs": [
    {
     "data": {
      "text/latex": [
       "$\\displaystyle \\frac{\\log{\\left(\\frac{w_{s} \\left(b_{s} + min_{s} + v_{s}\\right)}{a_{s}} \\right)}}{\\log{\\left(\\frac{j_{s} + 1}{j_{s}} \\right)}}$"
      ],
      "text/plain": [
       "log(w_s*(b_s + min_s + v_s)/a_s)/log((j_s + 1)/j_s)"
      ]
     },
     "execution_count": 120,
     "metadata": {},
     "output_type": "execute_result"
    }
   ],
   "source": [
    "tmp = log((min_s + b_s + v_s) * w_s / a_s) / log((j_s + 1)/j_s)\n",
    "tmp"
   ]
  },
  {
   "cell_type": "markdown",
   "metadata": {},
   "source": [
    "TODO verify this reformulation"
   ]
  },
  {
   "cell_type": "code",
   "execution_count": 121,
   "metadata": {},
   "outputs": [
    {
     "data": {
      "text/latex": [
       "$\\displaystyle \\log{\\left(\\left(\\frac{w_{s} \\left(b_{s} + min_{s} + v_{s}\\right)}{a_{s}}\\right)^{\\frac{1}{\\log{\\left(\\frac{j_{s} + 1}{j_{s}} \\right)}}} \\right)}$"
      ],
      "text/plain": [
       "log((w_s*(b_s + min_s + v_s)/a_s)**(1/log((j_s + 1)/j_s)))"
      ]
     },
     "execution_count": 121,
     "metadata": {},
     "output_type": "execute_result"
    }
   ],
   "source": [
    "simplify(tmp)"
   ]
  },
  {
   "cell_type": "code",
   "execution_count": 122,
   "metadata": {},
   "outputs": [
    {
     "data": {
      "text/latex": [
       "$\\displaystyle \\log{\\left(\\left(\\frac{w_{s} \\left(b_{s} + v_{s}\\right)}{a_{s}}\\right)^{\\frac{1}{- \\log{\\left(j_{s} \\right)} + \\log{\\left(j_{s} + 1 \\right)}}} \\right)}$"
      ],
      "text/plain": [
       "log((w_s*(b_s + v_s)/a_s)**(1/(-log(j_s) + log(j_s + 1))))"
      ]
     },
     "execution_count": 122,
     "metadata": {},
     "output_type": "execute_result"
    }
   ],
   "source": [
    "simplify(expBound['s'] + e_s) # lower bound for e_s"
   ]
  },
  {
   "cell_type": "markdown",
   "metadata": {},
   "source": [
    "- the above (derived from min_s requirement) is strictly larger, therefore more binding => obsoletes expBound['s']\n",
    "\n",
    "- more importantly, e_s - the above term is affine, thus suitable for all kinds of constraints"
   ]
  },
  {
   "cell_type": "code",
   "execution_count": 126,
   "metadata": {},
   "outputs": [
    {
     "data": {
      "text/latex": [
       "$\\displaystyle \\log{\\left(\\left(\\frac{w_{b} \\left(\\frac{j_{b} + 1}{j_{b}}\\right)^{- e_{s}} \\left(b_{b} + min_{b} + v_{b}\\right)}{a_{b}}\\right)^{\\frac{1}{\\log{\\left(\\frac{j_{b} + 1}{j_{b}} \\right)}}} \\right)}$"
      ],
      "text/plain": [
       "log((w_b*(b_b + min_b + v_b)/(a_b*((j_b + 1)/j_b)**e_s))**(1/log((j_b + 1)/j_b)))"
      ]
     },
     "execution_count": 126,
     "metadata": {},
     "output_type": "execute_result"
    }
   ],
   "source": [
    "minAmntBound_s = tmp - e_s # <=! 0\n",
    "if simp:\n",
    "  minAmntBound_s = simplify(minAmntBound_s)\n",
    "minAmntBound_s"
   ]
  },
  {
   "cell_type": "code",
   "execution_count": 127,
   "metadata": {},
   "outputs": [
    {
     "data": {
      "text/latex": [
       "$\\displaystyle 0$"
      ],
      "text/plain": [
       "0"
      ]
     },
     "execution_count": 127,
     "metadata": {},
     "output_type": "execute_result"
    }
   ],
   "source": [
    "minAmntBound_s.diff(e_s).simplify().diff(e_s).simplify()"
   ]
  },
  {
   "cell_type": "code",
   "execution_count": 128,
   "metadata": {},
   "outputs": [
    {
     "data": {
      "text/latex": [
       "$\\displaystyle \\frac{\\log{\\left(\\frac{w_{b} \\left(b_{b} + min_{b} + v_{b}\\right)}{a_{b}} \\right)}}{\\log{\\left(\\frac{j_{b} + 1}{j_{b}} \\right)}}$"
      ],
      "text/plain": [
       "log(w_b*(b_b + min_b + v_b)/a_b)/log((j_b + 1)/j_b)"
      ]
     },
     "execution_count": 128,
     "metadata": {},
     "output_type": "execute_result"
    }
   ],
   "source": [
    "if delta_b_negative:\n",
    "  raise Exception('not checked for convexity/concavity')\n",
    "\n",
    "tmp = log((min_b + b_b + v_b) * w_b / a_b) / log((j_b + 1)/j_b)\n",
    "tmp"
   ]
  },
  {
   "cell_type": "markdown",
   "metadata": {},
   "source": [
    "TODO verify this reformulation as well (created by s/_s/_b)"
   ]
  },
  {
   "cell_type": "code",
   "execution_count": 129,
   "metadata": {},
   "outputs": [
    {
     "data": {
      "text/latex": [
       "$\\displaystyle \\log{\\left(\\left(\\frac{w_{b} \\left(\\frac{j_{b} + 1}{j_{b}}\\right)^{- e_{b}} \\left(b_{b} + min_{b} + v_{b}\\right)}{a_{b}}\\right)^{\\frac{1}{\\log{\\left(\\frac{j_{b} + 1}{j_{b}} \\right)}}} \\right)}$"
      ],
      "text/plain": [
       "log((w_b*(b_b + min_b + v_b)/(a_b*((j_b + 1)/j_b)**e_b))**(1/log((j_b + 1)/j_b)))"
      ]
     },
     "execution_count": 129,
     "metadata": {},
     "output_type": "execute_result"
    }
   ],
   "source": [
    "minAmntBound_b = tmp - e_b # <=! 0\n",
    "if simp:\n",
    "  minAmntBound_b = simplify(minAmntBound_b)\n",
    "minAmntBound_b"
   ]
  },
  {
   "cell_type": "markdown",
   "metadata": {},
   "source": [
    "### need to swap at most maximum amounts"
   ]
  },
  {
   "cell_type": "code",
   "execution_count": 130,
   "metadata": {},
   "outputs": [
    {
     "data": {
      "text/latex": [
       "$\\displaystyle \\frac{a_{b} j_{b}^{- e_{b}} \\left(j_{b} + 1\\right)^{e_{b}}}{w_{b}} - 2 b_{b} - v_{b}$"
      ],
      "text/plain": [
       "a_b*(j_b + 1)**e_b/(j_b**e_b*w_b) - 2*b_b - v_b"
      ]
     },
     "execution_count": 130,
     "metadata": {},
     "output_type": "execute_result"
    }
   ],
   "source": [
    "if delta_b_negative:\n",
    "  raise Exception('not checked for convexity/concavity')\n",
    "else:\n",
    "  maxAmntBound_b = deltaByExp['b'] - b_b # <=! 0\n",
    "if simp:\n",
    "  maxAmntBound_b = simplify(maxAmntBound_b)\n",
    "maxAmntBound_b"
   ]
  },
  {
   "cell_type": "code",
   "execution_count": 131,
   "metadata": {},
   "outputs": [
    {
     "data": {
      "text/latex": [
       "$\\displaystyle \\frac{a_{s} j_{s}^{- e_{s}} \\left(j_{s} + 1\\right)^{e_{s}}}{w_{s}} - b_{s} - max_{s} - v_{s}$"
      ],
      "text/plain": [
       "a_s*(j_s + 1)**e_s/(j_s**e_s*w_s) - b_s - max_s - v_s"
      ]
     },
     "execution_count": 131,
     "metadata": {},
     "output_type": "execute_result"
    }
   ],
   "source": [
    "maxAmntBound_s = deltaByExp['s'] - max_s # <=! 0\n",
    "if simp:\n",
    "  maxAmntBound_s = simplify(maxAmntBound_s)\n",
    "maxAmntBound_s"
   ]
  },
  {
   "cell_type": "code",
   "execution_count": 132,
   "metadata": {},
   "outputs": [
    {
     "data": {
      "text/latex": [
       "$\\displaystyle - \\log{\\left(\\left(\\frac{j_{b}}{j_{b} + 1}\\right)^{\\log{\\left(\\left(\\frac{j_{b} + 1}{j_{b}}\\right)^{\\frac{a_{b} j_{b}^{- e_{b}} \\left(j_{b} + 1\\right)^{e_{b}}}{w_{b}}} \\right)}} \\right)}$"
      ],
      "text/plain": [
       "-log((j_b/(j_b + 1))**log(((j_b + 1)/j_b)**(a_b*(j_b + 1)**e_b/(j_b**e_b*w_b))))"
      ]
     },
     "execution_count": 132,
     "metadata": {},
     "output_type": "execute_result"
    }
   ],
   "source": [
    "maxAmntBound_b.diff(e_b).simplify().diff(e_b).simplify()"
   ]
  },
  {
   "cell_type": "code",
   "execution_count": 133,
   "metadata": {},
   "outputs": [
    {
     "data": {
      "text/latex": [
       "$\\displaystyle - \\log{\\left(\\left(\\frac{j_{s}}{j_{s} + 1}\\right)^{\\log{\\left(\\left(\\frac{j_{s} + 1}{j_{s}}\\right)^{\\frac{a_{s} j_{s}^{- e_{s}} \\left(j_{s} + 1\\right)^{e_{s}}}{w_{s}}} \\right)}} \\right)}$"
      ],
      "text/plain": [
       "-log((j_s/(j_s + 1))**log(((j_s + 1)/j_s)**(a_s*(j_s + 1)**e_s/(j_s**e_s*w_s))))"
      ]
     },
     "execution_count": 133,
     "metadata": {},
     "output_type": "execute_result"
    }
   ],
   "source": [
    "maxAmntBound_s.diff(e_s).simplify().diff(e_s).simplify()"
   ]
  },
  {
   "cell_type": "markdown",
   "metadata": {},
   "source": [
    "- both are positive\n",
    "\n",
    "=> convex => suitable as regular inequality-constraints\n",
    "\n",
    "(the reverse formulation would probably also work)"
   ]
  },
  {
   "cell_type": "markdown",
   "metadata": {},
   "source": [
    "### total number of multiplications of both exponentiations cannot exceed expLimit"
   ]
  },
  {
   "cell_type": "code",
   "execution_count": 134,
   "metadata": {},
   "outputs": [
    {
     "data": {
      "text/latex": [
       "$\\displaystyle \\frac{\\log{\\left(e_{b} \\right)}}{\\log{\\left(2 \\right)}}$"
      ],
      "text/plain": [
       "log(e_b)/log(2)"
      ]
     },
     "execution_count": 134,
     "metadata": {},
     "output_type": "execute_result"
    }
   ],
   "source": [
    "# expLimit, aka maximum total number of multiplications for both exponents\n",
    "m_max = symbols('m_max', positive=True, integer=True)\n",
    "\n",
    "def numMultsLower_(asset, s,v, b, w, j, e, Delta, a, min):\n",
    "  return floor(log(e, 2))\n",
    "\n",
    "# the best number of multiplications we can get by increasing e\n",
    "def bestMultsAhead_(asset, s,v, b, w, j, e, Delta, a, min):\n",
    "  return log(e, 2) # NOTE/TODO just dropping the ceiling here nonchalantly\n",
    "# return ceiling(log(e, 2))\n",
    "\n",
    "bestMultsAhead = {asset: bestMultsAhead_(asset, *all_symbols[asset]) for asset in assets}\n",
    "bestMultsAhead['b']"
   ]
  },
  {
   "cell_type": "code",
   "execution_count": 135,
   "metadata": {},
   "outputs": [
    {
     "data": {
      "text/latex": [
       "$\\displaystyle \\frac{\\log{\\left(e_{b} \\right)} + \\log{\\left(e_{s} \\right)}}{\\log{\\left(2 \\right)}}$"
      ],
      "text/plain": [
       "(log(e_b) + log(e_s))/log(2)"
      ]
     },
     "execution_count": 135,
     "metadata": {},
     "output_type": "execute_result"
    }
   ],
   "source": [
    "# optimistic estimate. This relies on the vague intuition that exponents will be minimal from the other constraints, so best we can do is increase them if this one is violated\n",
    "optimisticMultsBound = bestMultsAhead['b'] + bestMultsAhead['s'] # <=! 0\n",
    "if simp:\n",
    "  optimisticMultsBound = simplify(optimisticMultsBound)\n",
    "optimisticMultsBound"
   ]
  },
  {
   "cell_type": "code",
   "execution_count": 136,
   "metadata": {},
   "outputs": [
    {
     "data": {
      "text/latex": [
       "$\\displaystyle \\left[\\begin{matrix}- \\frac{1}{e_{b}^{2} \\log{\\left(2 \\right)}} & 0\\\\0 & - \\frac{1}{e_{s}^{2} \\log{\\left(2 \\right)}}\\end{matrix}\\right]$"
      ],
      "text/plain": [
       "Matrix([\n",
       "[-1/(e_b**2*log(2)),                  0],\n",
       "[                 0, -1/(e_s**2*log(2))]])"
      ]
     },
     "execution_count": 136,
     "metadata": {},
     "output_type": "execute_result"
    }
   ],
   "source": [
    "H = hessian(optimisticMultsBound, [e_b, e_s])\n",
    "H"
   ]
  },
  {
   "cell_type": "code",
   "execution_count": 137,
   "metadata": {},
   "outputs": [
    {
     "data": {
      "text/latex": [
       "$\\displaystyle \\frac{1}{e_{b}^{2} e_{s}^{2} \\log{\\left(2 \\right)}^{2}}$"
      ],
      "text/plain": [
       "1/(e_b**2*e_s**2*log(2)**2)"
      ]
     },
     "execution_count": 137,
     "metadata": {},
     "output_type": "execute_result"
    }
   ],
   "source": [
    "H.det()"
   ]
  },
  {
   "cell_type": "markdown",
   "metadata": {},
   "source": [
    "- determinant and topleft clearly different signs\n",
    "\n",
    "=> neither convex nor concave => unsuitable as constraints! => TODO"
   ]
  },
  {
   "cell_type": "markdown",
   "metadata": {},
   "source": [
    "## Lagrangian"
   ]
  },
  {
   "cell_type": "code",
   "execution_count": 139,
   "metadata": {},
   "outputs": [
    {
     "data": {
      "text/latex": [
       "$\\displaystyle \\frac{\\Lambda_{1} \\left(s_{b} w_{b} \\left(s_{s} - w_{s} \\left(b_{s} + v_{s}\\right)\\right) - s_{s} w_{s} \\left(s_{b} - w_{b} \\left(b_{b} + v_{b}\\right)\\right)\\right)}{w_{b} w_{s}} + \\lambda_{1} \\left(e_{b} - \\log{\\left(a_{b}^{- \\frac{1}{\\log{\\left(\\frac{j_{b} + 1}{j_{b}} \\right)}}} \\left(w_{b} \\left(b_{b} + v_{b}\\right)\\right)^{\\frac{1}{\\log{\\left(\\frac{j_{b} + 1}{j_{b}} \\right)}}} \\right)}\\right) - \\lambda_{2} \\left(I_{max} - a_{b} j_{b}^{- e_{b}} \\left(j_{b} + 1\\right)^{e_{b}}\\right) - \\lambda_{3} \\left(I_{max} - a_{s} j_{s}^{- e_{s}} \\left(j_{s} + 1\\right)^{e_{s}}\\right) + \\lambda_{4} \\log{\\left(\\left(\\frac{w_{b} \\left(\\frac{j_{b} + 1}{j_{b}}\\right)^{- e_{b}} \\left(b_{b} + min_{b} + v_{b}\\right)}{a_{b}}\\right)^{\\frac{1}{\\log{\\left(\\frac{j_{b} + 1}{j_{b}} \\right)}}} \\right)} + \\lambda_{5} \\log{\\left(\\left(\\frac{w_{b} \\left(\\frac{j_{b} + 1}{j_{b}}\\right)^{- e_{s}} \\left(b_{b} + min_{b} + v_{b}\\right)}{a_{b}}\\right)^{\\frac{1}{\\log{\\left(\\frac{j_{b} + 1}{j_{b}} \\right)}}} \\right)} - \\lambda_{6} \\left(- \\frac{a_{b} j_{b}^{- e_{b}} \\left(j_{b} + 1\\right)^{e_{b}}}{w_{b}} + 2 b_{b} + v_{b}\\right) - \\lambda_{7} \\left(- \\frac{a_{s} j_{s}^{- e_{s}} \\left(j_{s} + 1\\right)^{e_{s}}}{w_{s}} + b_{s} + max_{s} + v_{s}\\right) + \\frac{a_{s} \\left(\\frac{j_{b}}{j_{b} + 1}\\right)^{e_{b}} \\left(\\frac{j_{s} + 1}{j_{s}}\\right)^{e_{s}}}{a_{b}}$"
      ],
      "text/plain": [
       "Lambda_1*(s_b*w_b*(s_s - w_s*(b_s + v_s)) - s_s*w_s*(s_b - w_b*(b_b + v_b)))/(w_b*w_s) + lambda_1*(e_b - log((w_b*(b_b + v_b))**(1/log((j_b + 1)/j_b))/a_b**(1/log((j_b + 1)/j_b)))) - lambda_2*(I_max - a_b*(j_b + 1)**e_b/j_b**e_b) - lambda_3*(I_max - a_s*(j_s + 1)**e_s/j_s**e_s) + lambda_4*log((w_b*(b_b + min_b + v_b)/(a_b*((j_b + 1)/j_b)**e_b))**(1/log((j_b + 1)/j_b))) + lambda_5*log((w_b*(b_b + min_b + v_b)/(a_b*((j_b + 1)/j_b)**e_s))**(1/log((j_b + 1)/j_b))) - lambda_6*(-a_b*(j_b + 1)**e_b/(j_b**e_b*w_b) + 2*b_b + v_b) - lambda_7*(-a_s*(j_s + 1)**e_s/(j_s**e_s*w_s) + b_s + max_s + v_s) + a_s*(j_b/(j_b + 1))**e_b*((j_s + 1)/j_s)**e_s/a_b"
      ]
     },
     "execution_count": 139,
     "metadata": {},
     "output_type": "execute_result"
    }
   ],
   "source": [
    "# Decision variables\n",
    "xs = [e_b, e_s]\n",
    "\n",
    "# Equality-Constraints\n",
    "hs = [] \n",
    "\n",
    "# Inequality-Constraints\n",
    "gs = [\n",
    "    expBound['b'],\n",
    "    # expBound['s'], # obsoleted by minAmntBound_s, see above\n",
    "    maxSpotBound_b,\n",
    "    maxSpotBound_s,\n",
    "    minAmntBound_b,\n",
    "    minAmntBound_s,\n",
    "    maxAmntBound_b,\n",
    "    maxAmntBound_s,\n",
    "    # optimisticMultsBound, # neither concave nor convex yet\n",
    "] \n",
    "\n",
    "# inverted Inequality-Constraints\n",
    "ginvs = [\n",
    "    a0Bound,\n",
    "    # optimisticMultsBound, # neither concave nor convex yet\n",
    "] \n",
    "\n",
    "# Lagrange multipliers for equality- and inequality-constraints\n",
    "mus = symbols('mu_1:{}'.format(len(hs)+1))\n",
    "lambdas = symbols('lambda_1:{}'.format(len(gs)+1), nonnegative=True)\n",
    "Lambdas = symbols('Lambda_1:{}'.format(len(ginvs)+1), nonpositive=True)\n",
    "\n",
    "# Objective function\n",
    "f = spotByExps\n",
    "\n",
    "# Lagrangian\n",
    "L = f + sum([mu * h for mu, h in zip(mus, hs)]) + sum([lambda_ * g for lambda_, g in zip(lambdas, gs)]) + sum([Lambda_ * ginv for Lambda_, ginv in zip(Lambdas, ginvs)])\n",
    "if simp:\n",
    "    L = simplify(L)\n",
    "L"
   ]
  },
  {
   "cell_type": "code",
   "execution_count": 140,
   "metadata": {},
   "outputs": [
    {
     "data": {
      "text/latex": [
       "$\\displaystyle \\frac{j_{s}^{- e_{s}} \\left(\\frac{1}{j_{b}^{2} \\left(j_{b} + 1\\right)}\\right)^{e_{b}} \\left(- a_{b}^{2} j_{s}^{e_{s}} \\lambda_{2} w_{b} \\left(j_{b} \\left(j_{b} + 1\\right)^{2}\\right)^{e_{b}} \\left(\\log{\\left(j_{b} \\right)} - \\log{\\left(j_{b} + 1 \\right)}\\right) - a_{b}^{2} j_{s}^{e_{s}} \\lambda_{6} \\left(j_{b} \\left(j_{b} + 1\\right)^{2}\\right)^{e_{b}} \\left(\\log{\\left(j_{b} \\right)} - \\log{\\left(j_{b} + 1 \\right)}\\right) + a_{b} j_{s}^{e_{s}} w_{b} \\left(j_{b}^{2} \\left(j_{b} + 1\\right)\\right)^{e_{b}} \\left(\\lambda_{1} - \\lambda_{4}\\right) + a_{s} j_{b}^{3 e_{b}} w_{b} \\left(j_{s} + 1\\right)^{e_{s}} \\left(\\log{\\left(j_{b} \\right)} - \\log{\\left(j_{b} + 1 \\right)}\\right)\\right)}{a_{b} w_{b}} = 0$"
      ],
      "text/plain": [
       "Eq((1/(j_b**2*(j_b + 1)))**e_b*(-a_b**2*j_s**e_s*lambda_2*w_b*(j_b*(j_b + 1)**2)**e_b*(log(j_b) - log(j_b + 1)) - a_b**2*j_s**e_s*lambda_6*(j_b*(j_b + 1)**2)**e_b*(log(j_b) - log(j_b + 1)) + a_b*j_s**e_s*w_b*(j_b**2*(j_b + 1))**e_b*(lambda_1 - lambda_4) + a_s*j_b**(3*e_b)*w_b*(j_s + 1)**e_s*(log(j_b) - log(j_b + 1)))/(a_b*j_s**e_s*w_b), 0)"
      ]
     },
     "metadata": {},
     "output_type": "display_data"
    },
    {
     "data": {
      "text/latex": [
       "$\\displaystyle \\frac{j_{s}^{- 3 e_{s}} \\left(j_{b} + 1\\right)^{- e_{b}} \\left(- a_{b} a_{s} \\lambda_{3} w_{s} \\left(j_{s}^{2} \\left(j_{s} + 1\\right)\\right)^{e_{s}} \\left(j_{b} + 1\\right)^{e_{b}} \\left(\\log{\\left(j_{s} \\right)} - \\log{\\left(j_{s} + 1 \\right)}\\right) - a_{b} a_{s} \\lambda_{7} \\left(j_{s}^{2} \\left(j_{s} + 1\\right)\\right)^{e_{s}} \\left(j_{b} + 1\\right)^{e_{b}} \\left(\\log{\\left(j_{s} \\right)} - \\log{\\left(j_{s} + 1 \\right)}\\right) - a_{b} j_{s}^{3 e_{s}} \\lambda_{5} w_{s} \\left(j_{b} + 1\\right)^{e_{b}} - a_{s} j_{b}^{e_{b}} w_{s} \\left(j_{s}^{2} \\left(j_{s} + 1\\right)\\right)^{e_{s}} \\left(\\log{\\left(j_{s} \\right)} - \\log{\\left(j_{s} + 1 \\right)}\\right)\\right)}{a_{b} w_{s}} = 0$"
      ],
      "text/plain": [
       "Eq((-a_b*a_s*lambda_3*w_s*(j_s**2*(j_s + 1))**e_s*(j_b + 1)**e_b*(log(j_s) - log(j_s + 1)) - a_b*a_s*lambda_7*(j_s**2*(j_s + 1))**e_s*(j_b + 1)**e_b*(log(j_s) - log(j_s + 1)) - a_b*j_s**(3*e_s)*lambda_5*w_s*(j_b + 1)**e_b - a_s*j_b**e_b*w_s*(j_s**2*(j_s + 1))**e_s*(log(j_s) - log(j_s + 1)))/(a_b*j_s**(3*e_s)*w_s*(j_b + 1)**e_b), 0)"
      ]
     },
     "metadata": {},
     "output_type": "display_data"
    }
   ],
   "source": [
    "# Equations from stationarity\n",
    "\n",
    "def custom_diff(f, n):\n",
    "    diff = f.diff(n)\n",
    "    # diff = floor(f.subs(n, n+1) - f)\n",
    "    if simp:\n",
    "        diff = simplify(diff)\n",
    "    return diff\n",
    "\n",
    "equations = []\n",
    "for x in xs:\n",
    "  dL_dx = custom_diff(L, x)\n",
    "  equation = Eq(dL_dx, 0)\n",
    "  if simp: # results in error from the bestMultsAhead-constraint\n",
    "    equation = simplify(equation)\n",
    "  display(equation)\n",
    "  equations.append(equation)"
   ]
  },
  {
   "cell_type": "code",
   "execution_count": 141,
   "metadata": {},
   "outputs": [],
   "source": [
    "# Primal feasibility conditions for equality-constraints\n",
    "for h in hs:\n",
    "    equation = Eq(h, 0)\n",
    "    if simp:\n",
    "        equation = simplify(equation)\n",
    "    display(equation)\n",
    "    equations.append(equation)"
   ]
  },
  {
   "cell_type": "code",
   "execution_count": 142,
   "metadata": {},
   "outputs": [
    {
     "data": {
      "text/latex": [
       "$\\displaystyle \\lambda_{1} \\left(e_{b} - \\log{\\left(a_{b}^{- \\frac{1}{\\log{\\left(\\frac{j_{b} + 1}{j_{b}} \\right)}}} \\left(w_{b} \\left(b_{b} + v_{b}\\right)\\right)^{\\frac{1}{\\log{\\left(\\frac{j_{b} + 1}{j_{b}} \\right)}}} \\right)}\\right) = 0$"
      ],
      "text/plain": [
       "Eq(lambda_1*(e_b - log((w_b*(b_b + v_b))**(1/log((j_b + 1)/j_b))/a_b**(1/log((j_b + 1)/j_b)))), 0)"
      ]
     },
     "metadata": {},
     "output_type": "display_data"
    },
    {
     "data": {
      "text/latex": [
       "$\\displaystyle I_{max} \\lambda_{2} - a_{b} j_{b}^{- e_{b}} \\lambda_{2} \\left(j_{b} + 1\\right)^{e_{b}} = 0$"
      ],
      "text/plain": [
       "Eq(I_max*lambda_2 - a_b*lambda_2*(j_b + 1)**e_b/j_b**e_b, 0)"
      ]
     },
     "metadata": {},
     "output_type": "display_data"
    },
    {
     "data": {
      "text/latex": [
       "$\\displaystyle I_{max} \\lambda_{3} - a_{s} j_{s}^{- e_{s}} \\lambda_{3} \\left(j_{s} + 1\\right)^{e_{s}} = 0$"
      ],
      "text/plain": [
       "Eq(I_max*lambda_3 - a_s*lambda_3*(j_s + 1)**e_s/j_s**e_s, 0)"
      ]
     },
     "metadata": {},
     "output_type": "display_data"
    },
    {
     "data": {
      "text/latex": [
       "$\\displaystyle \\log{\\left(\\left(\\left(a_{b} \\left(j_{b} + 1\\right)^{e_{b}}\\right)^{- \\frac{1}{\\log{\\left(\\frac{j_{b} + 1}{j_{b}} \\right)}}} \\left(j_{b}^{e_{b}} w_{b} \\left(b_{b} + min_{b} + v_{b}\\right)\\right)^{\\frac{1}{\\log{\\left(\\frac{j_{b} + 1}{j_{b}} \\right)}}}\\right)^{\\lambda_{4}} \\right)} = 0$"
      ],
      "text/plain": [
       "Eq(log(((j_b**e_b*w_b*(b_b + min_b + v_b))**(1/log((j_b + 1)/j_b))/(a_b*(j_b + 1)**e_b)**(1/log((j_b + 1)/j_b)))**lambda_4), 0)"
      ]
     },
     "metadata": {},
     "output_type": "display_data"
    },
    {
     "data": {
      "text/latex": [
       "$\\displaystyle \\log{\\left(\\left(\\left(a_{b} \\left(j_{b} + 1\\right)^{e_{s}}\\right)^{- \\frac{1}{\\log{\\left(\\frac{j_{b} + 1}{j_{b}} \\right)}}} \\left(j_{b}^{e_{s}} w_{b} \\left(b_{b} + min_{b} + v_{b}\\right)\\right)^{\\frac{1}{\\log{\\left(\\frac{j_{b} + 1}{j_{b}} \\right)}}}\\right)^{\\lambda_{5}} \\right)} = 0$"
      ],
      "text/plain": [
       "Eq(log(((j_b**e_s*w_b*(b_b + min_b + v_b))**(1/log((j_b + 1)/j_b))/(a_b*(j_b + 1)**e_s)**(1/log((j_b + 1)/j_b)))**lambda_5), 0)"
      ]
     },
     "metadata": {},
     "output_type": "display_data"
    },
    {
     "data": {
      "text/latex": [
       "$\\displaystyle - \\frac{a_{b} j_{b}^{- e_{b}} \\lambda_{6} \\left(j_{b} + 1\\right)^{e_{b}}}{w_{b}} + 2 b_{b} \\lambda_{6} + \\lambda_{6} v_{b} = 0$"
      ],
      "text/plain": [
       "Eq(-a_b*lambda_6*(j_b + 1)**e_b/(j_b**e_b*w_b) + 2*b_b*lambda_6 + lambda_6*v_b, 0)"
      ]
     },
     "metadata": {},
     "output_type": "display_data"
    },
    {
     "data": {
      "text/latex": [
       "$\\displaystyle - \\frac{a_{s} j_{s}^{- e_{s}} \\lambda_{7} \\left(j_{s} + 1\\right)^{e_{s}}}{w_{s}} + b_{s} \\lambda_{7} + \\lambda_{7} max_{s} + \\lambda_{7} v_{s} = 0$"
      ],
      "text/plain": [
       "Eq(-a_s*lambda_7*(j_s + 1)**e_s/(j_s**e_s*w_s) + b_s*lambda_7 + lambda_7*max_s + lambda_7*v_s, 0)"
      ]
     },
     "metadata": {},
     "output_type": "display_data"
    }
   ],
   "source": [
    "# Complementary slackness conditions for regular inequality-constraints\n",
    "for lambda_, g in zip(lambdas, gs):\n",
    "    equation = Eq(lambda_ * g, 0)\n",
    "    if simp:\n",
    "        equation = simplify(equation)\n",
    "    display(equation)\n",
    "    equations.append(equation)"
   ]
  },
  {
   "cell_type": "code",
   "execution_count": 143,
   "metadata": {},
   "outputs": [
    {
     "data": {
      "text/latex": [
       "$\\displaystyle \\frac{\\Lambda_{1} \\left(s_{b} w_{b} \\left(s_{s} - w_{s} \\left(b_{s} + v_{s}\\right)\\right) - s_{s} w_{s} \\left(s_{b} - w_{b} \\left(b_{b} + v_{b}\\right)\\right)\\right)}{w_{b} w_{s}} = 0$"
      ],
      "text/plain": [
       "Eq(Lambda_1*(s_b*w_b*(s_s - w_s*(b_s + v_s)) - s_s*w_s*(s_b - w_b*(b_b + v_b)))/(w_b*w_s), 0)"
      ]
     },
     "metadata": {},
     "output_type": "display_data"
    }
   ],
   "source": [
    "# Complementary slackness conditions for inverted inequality-constraints\n",
    "for Lambda_, ginv in zip(Lambdas, ginvs):\n",
    "    equation = Eq(Lambda_ * ginv, 0)\n",
    "    if simp:\n",
    "        equation = simplify(equation)\n",
    "    display(equation)\n",
    "    equations.append(equation)"
   ]
  },
  {
   "cell_type": "code",
   "execution_count": 144,
   "metadata": {},
   "outputs": [],
   "source": [
    "def verify_inequality_constraints(solution, vars, gs):\n",
    "    subs_dict = dict(zip(vars, solution))\n",
    "    for g in gs:\n",
    "        if Gt(g.subs(subs_dict), 0) == True:\n",
    "            return False\n",
    "    return True"
   ]
  },
  {
   "cell_type": "code",
   "execution_count": 145,
   "metadata": {},
   "outputs": [],
   "source": [
    "def verify_inverted_inequality_constraints(solution, vars, ginvs):\n",
    "    subs_dict = dict(zip(vars, solution))\n",
    "    for ginv in ginvs:\n",
    "        if Lt(ginv.subs(subs_dict), 0) == True:\n",
    "            return False\n",
    "    return True"
   ]
  },
  {
   "cell_type": "code",
   "execution_count": 146,
   "metadata": {},
   "outputs": [
    {
     "data": {
      "text/plain": [
       "6"
      ]
     },
     "execution_count": 146,
     "metadata": {},
     "output_type": "execute_result"
    }
   ],
   "source": [
    "# Solve\n",
    "vars = xs + list(mus) + list(lambdas) + list(Lambdas)\n",
    "solutions = nonlinsolve(equations, vars)\n",
    "len(solutions)"
   ]
  },
  {
   "cell_type": "code",
   "execution_count": 147,
   "metadata": {},
   "outputs": [
    {
     "data": {
      "text/plain": [
       "6"
      ]
     },
     "execution_count": 147,
     "metadata": {},
     "output_type": "execute_result"
    }
   ],
   "source": [
    "solutions_ = [solution for solution in solutions if verify_inequality_constraints(solution, vars, gs)]\n",
    "len(solutions_)"
   ]
  },
  {
   "cell_type": "code",
   "execution_count": 148,
   "metadata": {},
   "outputs": [
    {
     "data": {
      "text/plain": [
       "6"
      ]
     },
     "execution_count": 148,
     "metadata": {},
     "output_type": "execute_result"
    }
   ],
   "source": [
    "solutions__ = [solution for solution in solutions_ if verify_inverted_inequality_constraints(solution, vars, ginvs)]\n",
    "len(solutions__)"
   ]
  },
  {
   "cell_type": "code",
   "execution_count": 152,
   "metadata": {},
   "outputs": [
    {
     "name": "stdout",
     "output_type": "stream",
     "text": [
      "solution 1\n"
     ]
    },
    {
     "data": {
      "text/latex": [
       "$\\displaystyle \\text{True}$"
      ],
      "text/plain": [
       "True"
      ]
     },
     "metadata": {},
     "output_type": "display_data"
    },
    {
     "data": {
      "text/latex": [
       "$\\displaystyle \\text{True}$"
      ],
      "text/plain": [
       "True"
      ]
     },
     "metadata": {},
     "output_type": "display_data"
    },
    {
     "data": {
      "text/latex": [
       "$\\displaystyle \\lambda_{1} = 0$"
      ],
      "text/plain": [
       "Eq(lambda_1, 0)"
      ]
     },
     "metadata": {},
     "output_type": "display_data"
    },
    {
     "data": {
      "text/latex": [
       "$\\displaystyle \\lambda_{2} = 0$"
      ],
      "text/plain": [
       "Eq(lambda_2, 0)"
      ]
     },
     "metadata": {},
     "output_type": "display_data"
    },
    {
     "data": {
      "text/latex": [
       "$\\displaystyle \\lambda_{3} = 0$"
      ],
      "text/plain": [
       "Eq(lambda_3, 0)"
      ]
     },
     "metadata": {},
     "output_type": "display_data"
    },
    {
     "data": {
      "text/latex": [
       "$\\displaystyle \\lambda_{4} = \\log{\\left(\\left(\\frac{j_{b}}{j_{b} + 1}\\right)^{\\frac{a_{s} j_{b}^{3 e_{b}} j_{s}^{- e_{s}} \\left(j_{b}^{2} \\left(j_{b} + 1\\right)\\right)^{- e_{b}} \\left(j_{s} + 1\\right)^{e_{s}}}{a_{b}}} \\right)}$"
      ],
      "text/plain": [
       "Eq(lambda_4, log((j_b/(j_b + 1))**(a_s*j_b**(3*e_b)*(j_s + 1)**e_s/(a_b*j_s**e_s*(j_b**2*(j_b + 1))**e_b))))"
      ]
     },
     "metadata": {},
     "output_type": "display_data"
    },
    {
     "data": {
      "text/latex": [
       "$\\displaystyle \\lambda_{5} = \\log{\\left(\\left(\\frac{j_{s} + 1}{j_{s}}\\right)^{\\frac{a_{s} j_{b}^{e_{b}} j_{s}^{- 3 e_{s}} \\left(j_{s}^{2} \\left(j_{s} + 1\\right)\\right)^{e_{s}} \\left(j_{b} + 1\\right)^{- e_{b}}}{a_{b}}} \\right)}$"
      ],
      "text/plain": [
       "Eq(lambda_5, log(((j_s + 1)/j_s)**(a_s*j_b**e_b*(j_s**2*(j_s + 1))**e_s/(a_b*j_s**(3*e_s)*(j_b + 1)**e_b))))"
      ]
     },
     "metadata": {},
     "output_type": "display_data"
    },
    {
     "data": {
      "text/latex": [
       "$\\displaystyle \\lambda_{6} = 0$"
      ],
      "text/plain": [
       "Eq(lambda_6, 0)"
      ]
     },
     "metadata": {},
     "output_type": "display_data"
    },
    {
     "data": {
      "text/latex": [
       "$\\displaystyle \\lambda_{7} = 0$"
      ],
      "text/plain": [
       "Eq(lambda_7, 0)"
      ]
     },
     "metadata": {},
     "output_type": "display_data"
    },
    {
     "data": {
      "text/latex": [
       "$\\displaystyle \\Lambda_{1} = 0$"
      ],
      "text/plain": [
       "Eq(Lambda_1, 0)"
      ]
     },
     "metadata": {},
     "output_type": "display_data"
    },
    {
     "name": "stdout",
     "output_type": "stream",
     "text": [
      "solution 2\n"
     ]
    },
    {
     "data": {
      "text/latex": [
       "$\\displaystyle e_{b} = \\log{\\left(\\left(\\frac{a_{b}}{w_{b} \\left(b_{b} + v_{b}\\right)}\\right)^{\\frac{1}{\\log{\\left(j_{b} \\right)} - \\log{\\left(j_{b} + 1 \\right)}}} \\right)}$"
      ],
      "text/plain": [
       "Eq(e_b, log((a_b/(w_b*(b_b + v_b)))**(1/(log(j_b) - log(j_b + 1)))))"
      ]
     },
     "metadata": {},
     "output_type": "display_data"
    },
    {
     "data": {
      "text/latex": [
       "$\\displaystyle \\text{True}$"
      ],
      "text/plain": [
       "True"
      ]
     },
     "metadata": {},
     "output_type": "display_data"
    },
    {
     "data": {
      "text/latex": [
       "$\\displaystyle \\lambda_{1} = \\lambda_{4} + \\frac{j_{s}^{- e_{s}} \\left(j_{b}^{3} + j_{b}^{2}\\right)^{- \\log{\\left(a_{b}^{\\frac{1}{\\log{\\left(j_{b} \\right)} - \\log{\\left(j_{b} + 1 \\right)}}} \\left(b_{b} w_{b} + v_{b} w_{b}\\right)^{- \\frac{1}{\\log{\\left(j_{b} \\right)} - \\log{\\left(j_{b} + 1 \\right)}}} \\right)}} \\log{\\left(j_{b}^{- a_{s} j_{b}^{\\log{\\left(a_{b}^{\\frac{3}{\\log{\\left(j_{b} \\right)} - \\log{\\left(j_{b} + 1 \\right)}}} \\left(b_{b} w_{b} + v_{b} w_{b}\\right)^{- \\frac{3}{\\log{\\left(j_{b} \\right)} - \\log{\\left(j_{b} + 1 \\right)}}} \\right)}} \\left(j_{s} + 1\\right)^{e_{s}}} \\left(j_{b} + 1\\right)^{a_{s} j_{b}^{\\log{\\left(a_{b}^{\\frac{3}{\\log{\\left(j_{b} \\right)} - \\log{\\left(j_{b} + 1 \\right)}}} \\left(b_{b} w_{b} + v_{b} w_{b}\\right)^{- \\frac{3}{\\log{\\left(j_{b} \\right)} - \\log{\\left(j_{b} + 1 \\right)}}} \\right)}} \\left(j_{s} + 1\\right)^{e_{s}}} \\right)}}{a_{b}}$"
      ],
      "text/plain": [
       "Eq(lambda_1, lambda_4 + log((j_b + 1)**(a_s*j_b**log(a_b**(3/(log(j_b) - log(j_b + 1)))/(b_b*w_b + v_b*w_b)**(3/(log(j_b) - log(j_b + 1))))*(j_s + 1)**e_s)/j_b**(a_s*j_b**log(a_b**(3/(log(j_b) - log(j_b + 1)))/(b_b*w_b + v_b*w_b)**(3/(log(j_b) - log(j_b + 1))))*(j_s + 1)**e_s))/(a_b*j_s**e_s*(j_b**3 + j_b**2)**log(a_b**(1/(log(j_b) - log(j_b + 1)))/(b_b*w_b + v_b*w_b)**(1/(log(j_b) - log(j_b + 1))))))"
      ]
     },
     "metadata": {},
     "output_type": "display_data"
    },
    {
     "data": {
      "text/latex": [
       "$\\displaystyle \\lambda_{2} = 0$"
      ],
      "text/plain": [
       "Eq(lambda_2, 0)"
      ]
     },
     "metadata": {},
     "output_type": "display_data"
    },
    {
     "data": {
      "text/latex": [
       "$\\displaystyle \\lambda_{3} = 0$"
      ],
      "text/plain": [
       "Eq(lambda_3, 0)"
      ]
     },
     "metadata": {},
     "output_type": "display_data"
    },
    {
     "data": {
      "text/latex": [
       "$\\displaystyle \\text{True}$"
      ],
      "text/plain": [
       "True"
      ]
     },
     "metadata": {},
     "output_type": "display_data"
    },
    {
     "data": {
      "text/latex": [
       "$\\displaystyle \\lambda_{5} = \\log{\\left(\\left(\\frac{j_{s} + 1}{j_{s}}\\right)^{\\frac{a_{s} j_{b}^{\\log{\\left(a_{b}^{\\frac{1}{\\log{\\left(j_{b} \\right)} - \\log{\\left(j_{b} + 1 \\right)}}} \\left(w_{b} \\left(b_{b} + v_{b}\\right)\\right)^{- \\frac{1}{\\log{\\left(j_{b} \\right)} - \\log{\\left(j_{b} + 1 \\right)}}} \\right)}} j_{s}^{- 3 e_{s}} \\left(j_{s}^{2} \\left(j_{s} + 1\\right)\\right)^{e_{s}} \\left(j_{b} + 1\\right)^{- \\log{\\left(a_{b}^{\\frac{1}{\\log{\\left(j_{b} \\right)} - \\log{\\left(j_{b} + 1 \\right)}}} \\left(w_{b} \\left(b_{b} + v_{b}\\right)\\right)^{- \\frac{1}{\\log{\\left(j_{b} \\right)} - \\log{\\left(j_{b} + 1 \\right)}}} \\right)}}}{a_{b}}} \\right)}$"
      ],
      "text/plain": [
       "Eq(lambda_5, log(((j_s + 1)/j_s)**(a_s*j_b**log(a_b**(1/(log(j_b) - log(j_b + 1)))/(w_b*(b_b + v_b))**(1/(log(j_b) - log(j_b + 1))))*(j_s**2*(j_s + 1))**e_s/(a_b*j_s**(3*e_s)*(j_b + 1)**log(a_b**(1/(log(j_b) - log(j_b + 1)))/(w_b*(b_b + v_b))**(1/(log(j_b) - log(j_b + 1))))))))"
      ]
     },
     "metadata": {},
     "output_type": "display_data"
    },
    {
     "data": {
      "text/latex": [
       "$\\displaystyle \\lambda_{6} = 0$"
      ],
      "text/plain": [
       "Eq(lambda_6, 0)"
      ]
     },
     "metadata": {},
     "output_type": "display_data"
    },
    {
     "data": {
      "text/latex": [
       "$\\displaystyle \\lambda_{7} = 0$"
      ],
      "text/plain": [
       "Eq(lambda_7, 0)"
      ]
     },
     "metadata": {},
     "output_type": "display_data"
    },
    {
     "data": {
      "text/latex": [
       "$\\displaystyle \\Lambda_{1} = 0$"
      ],
      "text/plain": [
       "Eq(Lambda_1, 0)"
      ]
     },
     "metadata": {},
     "output_type": "display_data"
    },
    {
     "name": "stdout",
     "output_type": "stream",
     "text": [
      "solution 3\n"
     ]
    },
    {
     "data": {
      "text/latex": [
       "$\\displaystyle e_{b} = \\log{\\left(\\left(\\frac{a_{b}}{I_{max}}\\right)^{\\frac{1}{\\log{\\left(\\frac{j_{b}}{j_{b} + 1} \\right)}}} \\right)}$"
      ],
      "text/plain": [
       "Eq(e_b, log((a_b/I_max)**(1/log(j_b/(j_b + 1)))))"
      ]
     },
     "metadata": {},
     "output_type": "display_data"
    },
    {
     "data": {
      "text/latex": [
       "$\\displaystyle \\text{True}$"
      ],
      "text/plain": [
       "True"
      ]
     },
     "metadata": {},
     "output_type": "display_data"
    },
    {
     "data": {
      "text/latex": [
       "$\\displaystyle \\lambda_{1} = 0$"
      ],
      "text/plain": [
       "Eq(lambda_1, 0)"
      ]
     },
     "metadata": {},
     "output_type": "display_data"
    },
    {
     "data": {
      "text/latex": [
       "$\\displaystyle \\lambda_{2} = \\frac{j_{s}^{- e_{s}} \\left(\\frac{1}{j_{b} \\left(j_{b}^{2} + 2 j_{b} + 1\\right)}\\right)^{\\log{\\left(I_{max}^{- \\frac{1}{\\log{\\left(\\frac{j_{b}}{j_{b} + 1} \\right)}}} a_{b}^{\\frac{1}{\\log{\\left(\\frac{j_{b}}{j_{b} + 1} \\right)}}} \\right)}} \\left(- a_{b} j_{s}^{e_{s}} \\lambda_{4} \\left(j_{b}^{2} \\left(j_{b} + 1\\right)\\right)^{\\log{\\left(I_{max}^{- \\frac{1}{\\log{\\left(\\frac{j_{b}}{j_{b} + 1} \\right)}}} a_{b}^{\\frac{1}{\\log{\\left(\\frac{j_{b}}{j_{b} + 1} \\right)}}} \\right)}} + \\log{\\left(j_{b}^{a_{s} j_{b}^{\\log{\\left(I_{max}^{- \\frac{3}{\\log{\\left(\\frac{j_{b}}{j_{b} + 1} \\right)}}} a_{b}^{\\frac{3}{\\log{\\left(\\frac{j_{b}}{j_{b} + 1} \\right)}}} \\right)}} \\left(j_{s} + 1\\right)^{e_{s}}} \\left(j_{b} + 1\\right)^{- a_{s} j_{b}^{\\log{\\left(I_{max}^{- \\frac{3}{\\log{\\left(\\frac{j_{b}}{j_{b} + 1} \\right)}}} a_{b}^{\\frac{3}{\\log{\\left(\\frac{j_{b}}{j_{b} + 1} \\right)}}} \\right)}} \\left(j_{s} + 1\\right)^{e_{s}}} \\right)}\\right)}{a_{b}^{2} \\log{\\left(\\frac{j_{b}}{j_{b} + 1} \\right)}}$"
      ],
      "text/plain": [
       "Eq(lambda_2, (1/(j_b*(j_b**2 + 2*j_b + 1)))**log(a_b**(1/log(j_b/(j_b + 1)))/I_max**(1/log(j_b/(j_b + 1))))*(-a_b*j_s**e_s*lambda_4*(j_b**2*(j_b + 1))**log(a_b**(1/log(j_b/(j_b + 1)))/I_max**(1/log(j_b/(j_b + 1)))) + log(j_b**(a_s*j_b**log(a_b**(3/log(j_b/(j_b + 1)))/I_max**(3/log(j_b/(j_b + 1))))*(j_s + 1)**e_s)/(j_b + 1)**(a_s*j_b**log(a_b**(3/log(j_b/(j_b + 1)))/I_max**(3/log(j_b/(j_b + 1))))*(j_s + 1)**e_s)))/(a_b**2*j_s**e_s*log(j_b/(j_b + 1))))"
      ]
     },
     "metadata": {},
     "output_type": "display_data"
    },
    {
     "data": {
      "text/latex": [
       "$\\displaystyle \\lambda_{3} = 0$"
      ],
      "text/plain": [
       "Eq(lambda_3, 0)"
      ]
     },
     "metadata": {},
     "output_type": "display_data"
    },
    {
     "data": {
      "text/latex": [
       "$\\displaystyle \\text{True}$"
      ],
      "text/plain": [
       "True"
      ]
     },
     "metadata": {},
     "output_type": "display_data"
    },
    {
     "data": {
      "text/latex": [
       "$\\displaystyle \\lambda_{5} = \\log{\\left(\\left(\\frac{j_{s} + 1}{j_{s}}\\right)^{\\frac{a_{s} j_{b}^{\\log{\\left(I_{max}^{- \\frac{1}{\\log{\\left(j_{b} \\right)} - \\log{\\left(j_{b} + 1 \\right)}}} a_{b}^{\\frac{1}{\\log{\\left(j_{b} \\right)} - \\log{\\left(j_{b} + 1 \\right)}}} \\right)}} j_{s}^{- 3 e_{s}} \\left(j_{s}^{2} \\left(j_{s} + 1\\right)\\right)^{e_{s}} \\left(j_{b} + 1\\right)^{- \\log{\\left(I_{max}^{- \\frac{1}{\\log{\\left(j_{b} \\right)} - \\log{\\left(j_{b} + 1 \\right)}}} a_{b}^{\\frac{1}{\\log{\\left(j_{b} \\right)} - \\log{\\left(j_{b} + 1 \\right)}}} \\right)}}}{a_{b}}} \\right)}$"
      ],
      "text/plain": [
       "Eq(lambda_5, log(((j_s + 1)/j_s)**(a_s*j_b**log(a_b**(1/(log(j_b) - log(j_b + 1)))/I_max**(1/(log(j_b) - log(j_b + 1))))*(j_s**2*(j_s + 1))**e_s/(a_b*j_s**(3*e_s)*(j_b + 1)**log(a_b**(1/(log(j_b) - log(j_b + 1)))/I_max**(1/(log(j_b) - log(j_b + 1))))))))"
      ]
     },
     "metadata": {},
     "output_type": "display_data"
    },
    {
     "data": {
      "text/latex": [
       "$\\displaystyle \\lambda_{6} = 0$"
      ],
      "text/plain": [
       "Eq(lambda_6, 0)"
      ]
     },
     "metadata": {},
     "output_type": "display_data"
    },
    {
     "data": {
      "text/latex": [
       "$\\displaystyle \\lambda_{7} = 0$"
      ],
      "text/plain": [
       "Eq(lambda_7, 0)"
      ]
     },
     "metadata": {},
     "output_type": "display_data"
    },
    {
     "data": {
      "text/latex": [
       "$\\displaystyle \\Lambda_{1} = 0$"
      ],
      "text/plain": [
       "Eq(Lambda_1, 0)"
      ]
     },
     "metadata": {},
     "output_type": "display_data"
    },
    {
     "name": "stdout",
     "output_type": "stream",
     "text": [
      "solution 4\n"
     ]
    },
    {
     "data": {
      "text/latex": [
       "$\\displaystyle \\text{True}$"
      ],
      "text/plain": [
       "True"
      ]
     },
     "metadata": {},
     "output_type": "display_data"
    },
    {
     "data": {
      "text/latex": [
       "$\\displaystyle e_{s} = \\log{\\left(\\left(\\frac{a_{s}}{I_{max}}\\right)^{\\frac{1}{\\log{\\left(\\frac{j_{s}}{j_{s} + 1} \\right)}}} \\right)}$"
      ],
      "text/plain": [
       "Eq(e_s, log((a_s/I_max)**(1/log(j_s/(j_s + 1)))))"
      ]
     },
     "metadata": {},
     "output_type": "display_data"
    },
    {
     "data": {
      "text/latex": [
       "$\\displaystyle \\lambda_{1} = 0$"
      ],
      "text/plain": [
       "Eq(lambda_1, 0)"
      ]
     },
     "metadata": {},
     "output_type": "display_data"
    },
    {
     "data": {
      "text/latex": [
       "$\\displaystyle \\lambda_{2} = 0$"
      ],
      "text/plain": [
       "Eq(lambda_2, 0)"
      ]
     },
     "metadata": {},
     "output_type": "display_data"
    },
    {
     "data": {
      "text/latex": [
       "$\\displaystyle \\lambda_{3} = \\frac{\\left(\\frac{1}{j_{s}^{2} \\left(j_{s} + 1\\right)}\\right)^{\\log{\\left(I_{max}^{- \\frac{1}{\\log{\\left(\\frac{j_{s}}{j_{s} + 1} \\right)}}} a_{s}^{\\frac{1}{\\log{\\left(\\frac{j_{s}}{j_{s} + 1} \\right)}}} \\right)}} \\left(j_{b} + 1\\right)^{- e_{b}} \\left(- a_{b} j_{s}^{\\log{\\left(I_{max}^{- \\frac{3}{\\log{\\left(\\frac{j_{s}}{j_{s} + 1} \\right)}}} a_{s}^{\\frac{3}{\\log{\\left(\\frac{j_{s}}{j_{s} + 1} \\right)}}} \\right)}} \\lambda_{5} \\left(j_{b} + 1\\right)^{e_{b}} + \\log{\\left(j_{s}^{- a_{s} j_{b}^{e_{b}} \\left(j_{s}^{2} \\left(j_{s} + 1\\right)\\right)^{\\log{\\left(I_{max}^{- \\frac{1}{\\log{\\left(\\frac{j_{s}}{j_{s} + 1} \\right)}}} a_{s}^{\\frac{1}{\\log{\\left(\\frac{j_{s}}{j_{s} + 1} \\right)}}} \\right)}}} \\left(j_{s} + 1\\right)^{a_{s} j_{b}^{e_{b}} \\left(j_{s}^{2} \\left(j_{s} + 1\\right)\\right)^{\\log{\\left(I_{max}^{- \\frac{1}{\\log{\\left(\\frac{j_{s}}{j_{s} + 1} \\right)}}} a_{s}^{\\frac{1}{\\log{\\left(\\frac{j_{s}}{j_{s} + 1} \\right)}}} \\right)}}} \\right)}\\right)}{a_{b} a_{s} \\log{\\left(\\frac{j_{s}}{j_{s} + 1} \\right)}}$"
      ],
      "text/plain": [
       "Eq(lambda_3, (1/(j_s**2*(j_s + 1)))**log(a_s**(1/log(j_s/(j_s + 1)))/I_max**(1/log(j_s/(j_s + 1))))*(-a_b*j_s**log(a_s**(3/log(j_s/(j_s + 1)))/I_max**(3/log(j_s/(j_s + 1))))*lambda_5*(j_b + 1)**e_b + log((j_s + 1)**(a_s*j_b**e_b*(j_s**2*(j_s + 1))**log(a_s**(1/log(j_s/(j_s + 1)))/I_max**(1/log(j_s/(j_s + 1)))))/j_s**(a_s*j_b**e_b*(j_s**2*(j_s + 1))**log(a_s**(1/log(j_s/(j_s + 1)))/I_max**(1/log(j_s/(j_s + 1)))))))/(a_b*a_s*(j_b + 1)**e_b*log(j_s/(j_s + 1))))"
      ]
     },
     "metadata": {},
     "output_type": "display_data"
    },
    {
     "data": {
      "text/latex": [
       "$\\displaystyle \\lambda_{4} = \\log{\\left(\\left(\\frac{j_{b}}{j_{b} + 1}\\right)^{\\frac{a_{s} j_{b}^{3 e_{b}} j_{s}^{- \\log{\\left(I_{max}^{- \\frac{1}{\\log{\\left(j_{s} \\right)} - \\log{\\left(j_{s} + 1 \\right)}}} a_{s}^{\\frac{1}{\\log{\\left(j_{s} \\right)} - \\log{\\left(j_{s} + 1 \\right)}}} \\right)}} \\left(j_{b}^{2} \\left(j_{b} + 1\\right)\\right)^{- e_{b}} \\left(j_{s} + 1\\right)^{\\log{\\left(I_{max}^{- \\frac{1}{\\log{\\left(j_{s} \\right)} - \\log{\\left(j_{s} + 1 \\right)}}} a_{s}^{\\frac{1}{\\log{\\left(j_{s} \\right)} - \\log{\\left(j_{s} + 1 \\right)}}} \\right)}}}{a_{b}}} \\right)}$"
      ],
      "text/plain": [
       "Eq(lambda_4, log((j_b/(j_b + 1))**(a_s*j_b**(3*e_b)*(j_s + 1)**log(a_s**(1/(log(j_s) - log(j_s + 1)))/I_max**(1/(log(j_s) - log(j_s + 1))))/(a_b*j_s**log(a_s**(1/(log(j_s) - log(j_s + 1)))/I_max**(1/(log(j_s) - log(j_s + 1))))*(j_b**2*(j_b + 1))**e_b))))"
      ]
     },
     "metadata": {},
     "output_type": "display_data"
    },
    {
     "data": {
      "text/latex": [
       "$\\displaystyle \\text{True}$"
      ],
      "text/plain": [
       "True"
      ]
     },
     "metadata": {},
     "output_type": "display_data"
    },
    {
     "data": {
      "text/latex": [
       "$\\displaystyle \\lambda_{6} = 0$"
      ],
      "text/plain": [
       "Eq(lambda_6, 0)"
      ]
     },
     "metadata": {},
     "output_type": "display_data"
    },
    {
     "data": {
      "text/latex": [
       "$\\displaystyle \\lambda_{7} = 0$"
      ],
      "text/plain": [
       "Eq(lambda_7, 0)"
      ]
     },
     "metadata": {},
     "output_type": "display_data"
    },
    {
     "data": {
      "text/latex": [
       "$\\displaystyle \\Lambda_{1} = 0$"
      ],
      "text/plain": [
       "Eq(Lambda_1, 0)"
      ]
     },
     "metadata": {},
     "output_type": "display_data"
    },
    {
     "name": "stdout",
     "output_type": "stream",
     "text": [
      "solution 5\n"
     ]
    },
    {
     "data": {
      "text/latex": [
       "$\\displaystyle e_{b} = \\log{\\left(\\left(\\frac{a_{b}}{w_{b} \\left(b_{b} + v_{b}\\right)}\\right)^{\\frac{1}{\\log{\\left(j_{b} \\right)} - \\log{\\left(j_{b} + 1 \\right)}}} \\right)}$"
      ],
      "text/plain": [
       "Eq(e_b, log((a_b/(w_b*(b_b + v_b)))**(1/(log(j_b) - log(j_b + 1)))))"
      ]
     },
     "metadata": {},
     "output_type": "display_data"
    },
    {
     "data": {
      "text/latex": [
       "$\\displaystyle e_{s} = \\log{\\left(\\left(\\frac{a_{s}}{I_{max}}\\right)^{\\frac{1}{\\log{\\left(\\frac{j_{s}}{j_{s} + 1} \\right)}}} \\right)}$"
      ],
      "text/plain": [
       "Eq(e_s, log((a_s/I_max)**(1/log(j_s/(j_s + 1)))))"
      ]
     },
     "metadata": {},
     "output_type": "display_data"
    },
    {
     "data": {
      "text/latex": [
       "$\\displaystyle \\lambda_{1} = \\lambda_{4} + \\frac{j_{s}^{- \\log{\\left(I_{max}^{- \\frac{1}{\\log{\\left(j_{s} \\right)} - \\log{\\left(j_{s} + 1 \\right)}}} a_{s}^{\\frac{1}{\\log{\\left(j_{s} \\right)} - \\log{\\left(j_{s} + 1 \\right)}}} \\right)}} \\left(j_{b}^{3} + j_{b}^{2}\\right)^{- \\log{\\left(a_{b}^{\\frac{1}{\\log{\\left(j_{b} \\right)} - \\log{\\left(j_{b} + 1 \\right)}}} \\left(b_{b} w_{b} + v_{b} w_{b}\\right)^{- \\frac{1}{\\log{\\left(j_{b} \\right)} - \\log{\\left(j_{b} + 1 \\right)}}} \\right)}} \\log{\\left(j_{b}^{- a_{s} j_{b}^{\\log{\\left(a_{b}^{\\frac{3}{\\log{\\left(j_{b} \\right)} - \\log{\\left(j_{b} + 1 \\right)}}} \\left(b_{b} w_{b} + v_{b} w_{b}\\right)^{- \\frac{3}{\\log{\\left(j_{b} \\right)} - \\log{\\left(j_{b} + 1 \\right)}}} \\right)}} \\left(j_{s} + 1\\right)^{\\log{\\left(I_{max}^{- \\frac{1}{\\log{\\left(j_{s} \\right)} - \\log{\\left(j_{s} + 1 \\right)}}} a_{s}^{\\frac{1}{\\log{\\left(j_{s} \\right)} - \\log{\\left(j_{s} + 1 \\right)}}} \\right)}}} \\left(j_{b} + 1\\right)^{a_{s} j_{b}^{\\log{\\left(a_{b}^{\\frac{3}{\\log{\\left(j_{b} \\right)} - \\log{\\left(j_{b} + 1 \\right)}}} \\left(b_{b} w_{b} + v_{b} w_{b}\\right)^{- \\frac{3}{\\log{\\left(j_{b} \\right)} - \\log{\\left(j_{b} + 1 \\right)}}} \\right)}} \\left(j_{s} + 1\\right)^{\\log{\\left(I_{max}^{- \\frac{1}{\\log{\\left(j_{s} \\right)} - \\log{\\left(j_{s} + 1 \\right)}}} a_{s}^{\\frac{1}{\\log{\\left(j_{s} \\right)} - \\log{\\left(j_{s} + 1 \\right)}}} \\right)}}} \\right)}}{a_{b}}$"
      ],
      "text/plain": [
       "Eq(lambda_1, lambda_4 + log((j_b + 1)**(a_s*j_b**log(a_b**(3/(log(j_b) - log(j_b + 1)))/(b_b*w_b + v_b*w_b)**(3/(log(j_b) - log(j_b + 1))))*(j_s + 1)**log(a_s**(1/(log(j_s) - log(j_s + 1)))/I_max**(1/(log(j_s) - log(j_s + 1)))))/j_b**(a_s*j_b**log(a_b**(3/(log(j_b) - log(j_b + 1)))/(b_b*w_b + v_b*w_b)**(3/(log(j_b) - log(j_b + 1))))*(j_s + 1)**log(a_s**(1/(log(j_s) - log(j_s + 1)))/I_max**(1/(log(j_s) - log(j_s + 1))))))/(a_b*j_s**log(a_s**(1/(log(j_s) - log(j_s + 1)))/I_max**(1/(log(j_s) - log(j_s + 1))))*(j_b**3 + j_b**2)**log(a_b**(1/(log(j_b) - log(j_b + 1)))/(b_b*w_b + v_b*w_b)**(1/(log(j_b) - log(j_b + 1))))))"
      ]
     },
     "metadata": {},
     "output_type": "display_data"
    },
    {
     "data": {
      "text/latex": [
       "$\\displaystyle \\lambda_{2} = 0$"
      ],
      "text/plain": [
       "Eq(lambda_2, 0)"
      ]
     },
     "metadata": {},
     "output_type": "display_data"
    },
    {
     "data": {
      "text/latex": [
       "$\\displaystyle \\lambda_{3} = \\frac{\\left(\\frac{1}{j_{s}^{2} \\left(j_{s} + 1\\right)}\\right)^{\\log{\\left(I_{max}^{- \\frac{1}{\\log{\\left(\\frac{j_{s}}{j_{s} + 1} \\right)}}} a_{s}^{\\frac{1}{\\log{\\left(\\frac{j_{s}}{j_{s} + 1} \\right)}}} \\right)}} \\left(j_{b} + 1\\right)^{- \\log{\\left(a_{b}^{\\frac{1}{\\log{\\left(\\frac{j_{b}}{j_{b} + 1} \\right)}}} \\left(w_{b} \\left(b_{b} + v_{b}\\right)\\right)^{- \\frac{1}{\\log{\\left(\\frac{j_{b}}{j_{b} + 1} \\right)}}} \\right)}} \\left(- a_{b} j_{s}^{\\log{\\left(I_{max}^{- \\frac{3}{\\log{\\left(\\frac{j_{s}}{j_{s} + 1} \\right)}}} a_{s}^{\\frac{3}{\\log{\\left(\\frac{j_{s}}{j_{s} + 1} \\right)}}} \\right)}} \\lambda_{5} \\left(j_{b} + 1\\right)^{\\log{\\left(a_{b}^{\\frac{1}{\\log{\\left(\\frac{j_{b}}{j_{b} + 1} \\right)}}} \\left(w_{b} \\left(b_{b} + v_{b}\\right)\\right)^{- \\frac{1}{\\log{\\left(\\frac{j_{b}}{j_{b} + 1} \\right)}}} \\right)}} + \\log{\\left(j_{s}^{- a_{s} j_{b}^{\\log{\\left(a_{b}^{\\frac{1}{\\log{\\left(\\frac{j_{b}}{j_{b} + 1} \\right)}}} \\left(w_{b} \\left(b_{b} + v_{b}\\right)\\right)^{- \\frac{1}{\\log{\\left(\\frac{j_{b}}{j_{b} + 1} \\right)}}} \\right)}} \\left(j_{s}^{2} \\left(j_{s} + 1\\right)\\right)^{\\log{\\left(I_{max}^{- \\frac{1}{\\log{\\left(\\frac{j_{s}}{j_{s} + 1} \\right)}}} a_{s}^{\\frac{1}{\\log{\\left(\\frac{j_{s}}{j_{s} + 1} \\right)}}} \\right)}}} \\left(j_{s} + 1\\right)^{a_{s} j_{b}^{\\log{\\left(a_{b}^{\\frac{1}{\\log{\\left(\\frac{j_{b}}{j_{b} + 1} \\right)}}} \\left(w_{b} \\left(b_{b} + v_{b}\\right)\\right)^{- \\frac{1}{\\log{\\left(\\frac{j_{b}}{j_{b} + 1} \\right)}}} \\right)}} \\left(j_{s}^{2} \\left(j_{s} + 1\\right)\\right)^{\\log{\\left(I_{max}^{- \\frac{1}{\\log{\\left(\\frac{j_{s}}{j_{s} + 1} \\right)}}} a_{s}^{\\frac{1}{\\log{\\left(\\frac{j_{s}}{j_{s} + 1} \\right)}}} \\right)}}} \\right)}\\right)}{a_{b} a_{s} \\log{\\left(\\frac{j_{s}}{j_{s} + 1} \\right)}}$"
      ],
      "text/plain": [
       "Eq(lambda_3, (1/(j_s**2*(j_s + 1)))**log(a_s**(1/log(j_s/(j_s + 1)))/I_max**(1/log(j_s/(j_s + 1))))*(-a_b*j_s**log(a_s**(3/log(j_s/(j_s + 1)))/I_max**(3/log(j_s/(j_s + 1))))*lambda_5*(j_b + 1)**log(a_b**(1/log(j_b/(j_b + 1)))/(w_b*(b_b + v_b))**(1/log(j_b/(j_b + 1)))) + log((j_s + 1)**(a_s*j_b**log(a_b**(1/log(j_b/(j_b + 1)))/(w_b*(b_b + v_b))**(1/log(j_b/(j_b + 1))))*(j_s**2*(j_s + 1))**log(a_s**(1/log(j_s/(j_s + 1)))/I_max**(1/log(j_s/(j_s + 1)))))/j_s**(a_s*j_b**log(a_b**(1/log(j_b/(j_b + 1)))/(w_b*(b_b + v_b))**(1/log(j_b/(j_b + 1))))*(j_s**2*(j_s + 1))**log(a_s**(1/log(j_s/(j_s + 1)))/I_max**(1/log(j_s/(j_s + 1)))))))/(a_b*a_s*(j_b + 1)**log(a_b**(1/log(j_b/(j_b + 1)))/(w_b*(b_b + v_b))**(1/log(j_b/(j_b + 1))))*log(j_s/(j_s + 1))))"
      ]
     },
     "metadata": {},
     "output_type": "display_data"
    },
    {
     "data": {
      "text/latex": [
       "$\\displaystyle \\text{True}$"
      ],
      "text/plain": [
       "True"
      ]
     },
     "metadata": {},
     "output_type": "display_data"
    },
    {
     "data": {
      "text/latex": [
       "$\\displaystyle \\text{True}$"
      ],
      "text/plain": [
       "True"
      ]
     },
     "metadata": {},
     "output_type": "display_data"
    },
    {
     "data": {
      "text/latex": [
       "$\\displaystyle \\lambda_{6} = 0$"
      ],
      "text/plain": [
       "Eq(lambda_6, 0)"
      ]
     },
     "metadata": {},
     "output_type": "display_data"
    },
    {
     "data": {
      "text/latex": [
       "$\\displaystyle \\lambda_{7} = 0$"
      ],
      "text/plain": [
       "Eq(lambda_7, 0)"
      ]
     },
     "metadata": {},
     "output_type": "display_data"
    },
    {
     "data": {
      "text/latex": [
       "$\\displaystyle \\Lambda_{1} = 0$"
      ],
      "text/plain": [
       "Eq(Lambda_1, 0)"
      ]
     },
     "metadata": {},
     "output_type": "display_data"
    },
    {
     "name": "stdout",
     "output_type": "stream",
     "text": [
      "solution 6\n"
     ]
    },
    {
     "data": {
      "text/latex": [
       "$\\displaystyle e_{b} = \\log{\\left(\\left(\\frac{a_{b}}{I_{max}}\\right)^{\\frac{1}{\\log{\\left(\\frac{j_{b}}{j_{b} + 1} \\right)}}} \\right)}$"
      ],
      "text/plain": [
       "Eq(e_b, log((a_b/I_max)**(1/log(j_b/(j_b + 1)))))"
      ]
     },
     "metadata": {},
     "output_type": "display_data"
    },
    {
     "data": {
      "text/latex": [
       "$\\displaystyle e_{s} = \\log{\\left(\\left(\\frac{a_{s}}{I_{max}}\\right)^{\\frac{1}{\\log{\\left(\\frac{j_{s}}{j_{s} + 1} \\right)}}} \\right)}$"
      ],
      "text/plain": [
       "Eq(e_s, log((a_s/I_max)**(1/log(j_s/(j_s + 1)))))"
      ]
     },
     "metadata": {},
     "output_type": "display_data"
    },
    {
     "data": {
      "text/latex": [
       "$\\displaystyle \\lambda_{1} = 0$"
      ],
      "text/plain": [
       "Eq(lambda_1, 0)"
      ]
     },
     "metadata": {},
     "output_type": "display_data"
    },
    {
     "data": {
      "text/latex": [
       "$\\displaystyle \\lambda_{2} = \\frac{j_{s}^{- \\log{\\left(I_{max}^{- \\frac{1}{\\log{\\left(\\frac{j_{s}}{j_{s} + 1} \\right)}}} a_{s}^{\\frac{1}{\\log{\\left(\\frac{j_{s}}{j_{s} + 1} \\right)}}} \\right)}} \\left(\\frac{1}{j_{b} \\left(j_{b}^{2} + 2 j_{b} + 1\\right)}\\right)^{\\log{\\left(I_{max}^{- \\frac{1}{\\log{\\left(\\frac{j_{b}}{j_{b} + 1} \\right)}}} a_{b}^{\\frac{1}{\\log{\\left(\\frac{j_{b}}{j_{b} + 1} \\right)}}} \\right)}} \\left(- a_{b} j_{s}^{\\log{\\left(I_{max}^{- \\frac{1}{\\log{\\left(\\frac{j_{s}}{j_{s} + 1} \\right)}}} a_{s}^{\\frac{1}{\\log{\\left(\\frac{j_{s}}{j_{s} + 1} \\right)}}} \\right)}} \\lambda_{4} \\left(j_{b}^{2} \\left(j_{b} + 1\\right)\\right)^{\\log{\\left(I_{max}^{- \\frac{1}{\\log{\\left(\\frac{j_{b}}{j_{b} + 1} \\right)}}} a_{b}^{\\frac{1}{\\log{\\left(\\frac{j_{b}}{j_{b} + 1} \\right)}}} \\right)}} + \\log{\\left(j_{b}^{a_{s} j_{b}^{\\log{\\left(I_{max}^{- \\frac{3}{\\log{\\left(\\frac{j_{b}}{j_{b} + 1} \\right)}}} a_{b}^{\\frac{3}{\\log{\\left(\\frac{j_{b}}{j_{b} + 1} \\right)}}} \\right)}} \\left(j_{s} + 1\\right)^{\\log{\\left(I_{max}^{- \\frac{1}{\\log{\\left(\\frac{j_{s}}{j_{s} + 1} \\right)}}} a_{s}^{\\frac{1}{\\log{\\left(\\frac{j_{s}}{j_{s} + 1} \\right)}}} \\right)}}} \\left(j_{b} + 1\\right)^{- a_{s} j_{b}^{\\log{\\left(I_{max}^{- \\frac{3}{\\log{\\left(\\frac{j_{b}}{j_{b} + 1} \\right)}}} a_{b}^{\\frac{3}{\\log{\\left(\\frac{j_{b}}{j_{b} + 1} \\right)}}} \\right)}} \\left(j_{s} + 1\\right)^{\\log{\\left(I_{max}^{- \\frac{1}{\\log{\\left(\\frac{j_{s}}{j_{s} + 1} \\right)}}} a_{s}^{\\frac{1}{\\log{\\left(\\frac{j_{s}}{j_{s} + 1} \\right)}}} \\right)}}} \\right)}\\right)}{a_{b}^{2} \\log{\\left(\\frac{j_{b}}{j_{b} + 1} \\right)}}$"
      ],
      "text/plain": [
       "Eq(lambda_2, (1/(j_b*(j_b**2 + 2*j_b + 1)))**log(a_b**(1/log(j_b/(j_b + 1)))/I_max**(1/log(j_b/(j_b + 1))))*(-a_b*j_s**log(a_s**(1/log(j_s/(j_s + 1)))/I_max**(1/log(j_s/(j_s + 1))))*lambda_4*(j_b**2*(j_b + 1))**log(a_b**(1/log(j_b/(j_b + 1)))/I_max**(1/log(j_b/(j_b + 1)))) + log(j_b**(a_s*j_b**log(a_b**(3/log(j_b/(j_b + 1)))/I_max**(3/log(j_b/(j_b + 1))))*(j_s + 1)**log(a_s**(1/log(j_s/(j_s + 1)))/I_max**(1/log(j_s/(j_s + 1)))))/(j_b + 1)**(a_s*j_b**log(a_b**(3/log(j_b/(j_b + 1)))/I_max**(3/log(j_b/(j_b + 1))))*(j_s + 1)**log(a_s**(1/log(j_s/(j_s + 1)))/I_max**(1/log(j_s/(j_s + 1)))))))/(a_b**2*j_s**log(a_s**(1/log(j_s/(j_s + 1)))/I_max**(1/log(j_s/(j_s + 1))))*log(j_b/(j_b + 1))))"
      ]
     },
     "metadata": {},
     "output_type": "display_data"
    },
    {
     "data": {
      "text/latex": [
       "$\\displaystyle \\lambda_{3} = \\frac{\\left(\\frac{1}{j_{s}^{2} \\left(j_{s} + 1\\right)}\\right)^{\\log{\\left(I_{max}^{- \\frac{1}{\\log{\\left(\\frac{j_{s}}{j_{s} + 1} \\right)}}} a_{s}^{\\frac{1}{\\log{\\left(\\frac{j_{s}}{j_{s} + 1} \\right)}}} \\right)}} \\left(j_{b} + 1\\right)^{- \\log{\\left(I_{max}^{- \\frac{1}{\\log{\\left(\\frac{j_{b}}{j_{b} + 1} \\right)}}} a_{b}^{\\frac{1}{\\log{\\left(\\frac{j_{b}}{j_{b} + 1} \\right)}}} \\right)}} \\left(- a_{b} j_{s}^{\\log{\\left(I_{max}^{- \\frac{3}{\\log{\\left(\\frac{j_{s}}{j_{s} + 1} \\right)}}} a_{s}^{\\frac{3}{\\log{\\left(\\frac{j_{s}}{j_{s} + 1} \\right)}}} \\right)}} \\lambda_{5} \\left(j_{b} + 1\\right)^{\\log{\\left(I_{max}^{- \\frac{1}{\\log{\\left(\\frac{j_{b}}{j_{b} + 1} \\right)}}} a_{b}^{\\frac{1}{\\log{\\left(\\frac{j_{b}}{j_{b} + 1} \\right)}}} \\right)}} + \\log{\\left(j_{s}^{- a_{s} j_{b}^{\\log{\\left(I_{max}^{- \\frac{1}{\\log{\\left(\\frac{j_{b}}{j_{b} + 1} \\right)}}} a_{b}^{\\frac{1}{\\log{\\left(\\frac{j_{b}}{j_{b} + 1} \\right)}}} \\right)}} \\left(j_{s}^{2} \\left(j_{s} + 1\\right)\\right)^{\\log{\\left(I_{max}^{- \\frac{1}{\\log{\\left(\\frac{j_{s}}{j_{s} + 1} \\right)}}} a_{s}^{\\frac{1}{\\log{\\left(\\frac{j_{s}}{j_{s} + 1} \\right)}}} \\right)}}} \\left(j_{s} + 1\\right)^{a_{s} j_{b}^{\\log{\\left(I_{max}^{- \\frac{1}{\\log{\\left(\\frac{j_{b}}{j_{b} + 1} \\right)}}} a_{b}^{\\frac{1}{\\log{\\left(\\frac{j_{b}}{j_{b} + 1} \\right)}}} \\right)}} \\left(j_{s}^{2} \\left(j_{s} + 1\\right)\\right)^{\\log{\\left(I_{max}^{- \\frac{1}{\\log{\\left(\\frac{j_{s}}{j_{s} + 1} \\right)}}} a_{s}^{\\frac{1}{\\log{\\left(\\frac{j_{s}}{j_{s} + 1} \\right)}}} \\right)}}} \\right)}\\right)}{a_{b} a_{s} \\log{\\left(\\frac{j_{s}}{j_{s} + 1} \\right)}}$"
      ],
      "text/plain": [
       "Eq(lambda_3, (1/(j_s**2*(j_s + 1)))**log(a_s**(1/log(j_s/(j_s + 1)))/I_max**(1/log(j_s/(j_s + 1))))*(-a_b*j_s**log(a_s**(3/log(j_s/(j_s + 1)))/I_max**(3/log(j_s/(j_s + 1))))*lambda_5*(j_b + 1)**log(a_b**(1/log(j_b/(j_b + 1)))/I_max**(1/log(j_b/(j_b + 1)))) + log((j_s + 1)**(a_s*j_b**log(a_b**(1/log(j_b/(j_b + 1)))/I_max**(1/log(j_b/(j_b + 1))))*(j_s**2*(j_s + 1))**log(a_s**(1/log(j_s/(j_s + 1)))/I_max**(1/log(j_s/(j_s + 1)))))/j_s**(a_s*j_b**log(a_b**(1/log(j_b/(j_b + 1)))/I_max**(1/log(j_b/(j_b + 1))))*(j_s**2*(j_s + 1))**log(a_s**(1/log(j_s/(j_s + 1)))/I_max**(1/log(j_s/(j_s + 1)))))))/(a_b*a_s*(j_b + 1)**log(a_b**(1/log(j_b/(j_b + 1)))/I_max**(1/log(j_b/(j_b + 1))))*log(j_s/(j_s + 1))))"
      ]
     },
     "metadata": {},
     "output_type": "display_data"
    },
    {
     "data": {
      "text/latex": [
       "$\\displaystyle \\text{True}$"
      ],
      "text/plain": [
       "True"
      ]
     },
     "metadata": {},
     "output_type": "display_data"
    },
    {
     "data": {
      "text/latex": [
       "$\\displaystyle \\text{True}$"
      ],
      "text/plain": [
       "True"
      ]
     },
     "metadata": {},
     "output_type": "display_data"
    },
    {
     "data": {
      "text/latex": [
       "$\\displaystyle \\lambda_{6} = 0$"
      ],
      "text/plain": [
       "Eq(lambda_6, 0)"
      ]
     },
     "metadata": {},
     "output_type": "display_data"
    },
    {
     "data": {
      "text/latex": [
       "$\\displaystyle \\lambda_{7} = 0$"
      ],
      "text/plain": [
       "Eq(lambda_7, 0)"
      ]
     },
     "metadata": {},
     "output_type": "display_data"
    },
    {
     "data": {
      "text/latex": [
       "$\\displaystyle \\Lambda_{1} = 0$"
      ],
      "text/plain": [
       "Eq(Lambda_1, 0)"
      ]
     },
     "metadata": {},
     "output_type": "display_data"
    }
   ],
   "source": [
    "for i, solution in enumerate(solutions__):\n",
    "    print(\"solution\", i+1)\n",
    "    for var, expression in zip(vars, solution):\n",
    "        display(Eq(var, expression))"
   ]
  },
  {
   "cell_type": "code",
   "execution_count": null,
   "metadata": {},
   "outputs": [],
   "source": []
  },
  {
   "cell_type": "code",
   "execution_count": null,
   "metadata": {},
   "outputs": [],
   "source": []
  },
  {
   "cell_type": "code",
   "execution_count": null,
   "metadata": {},
   "outputs": [],
   "source": []
  },
  {
   "cell_type": "code",
   "execution_count": null,
   "metadata": {},
   "outputs": [],
   "source": []
  }
 ],
 "metadata": {
  "kernelspec": {
   "display_name": "Python 3",
   "language": "python",
   "name": "python3"
  },
  "language_info": {
   "codemirror_mode": {
    "name": "ipython",
    "version": 3
   },
   "file_extension": ".py",
   "mimetype": "text/x-python",
   "name": "python",
   "nbconvert_exporter": "python",
   "pygments_lexer": "ipython3",
   "version": "3.9.16"
  }
 },
 "nbformat": 4,
 "nbformat_minor": 2
}
