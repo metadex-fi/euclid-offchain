{
 "cells": [
  {
   "cell_type": "code",
   "execution_count": 1,
   "metadata": {},
   "outputs": [],
   "source": [
    "from sympy import symbols, simplify, hessian, solveset, S, solve, log, And, Le, Ge, Eq, Lt, Gt, nonlinsolve, latex, log, Wild, expand_log, logcombine, evaluate,oo, limit,ask, Q, floor, ceiling, lambdify, Sum\n",
    "from IPython.display import display, HTML, Math"
   ]
  },
  {
   "cell_type": "code",
   "execution_count": 2,
   "metadata": {},
   "outputs": [],
   "source": [
    "delta_b_negative = False\n",
    "discrete = False\n",
    "simp = True # let's leave this true for now because of the way we calculate the piecewise discrete \"derivative\" below. Seems to result in vastly simpler equations."
   ]
  },
  {
   "cell_type": "code",
   "execution_count": 3,
   "metadata": {},
   "outputs": [
    {
     "data": {
      "text/plain": [
       "{'b': dict_values([s_b, v_b, b_b, w_b, j_b, e_b, Delta_b, a_b, min_b]),\n",
       " 's': dict_values([s_s, v_s, b_s, w_s, j_s, e_s, Delta_s, a_s, min_s])}"
      ]
     },
     "execution_count": 3,
     "metadata": {},
     "output_type": "execute_result"
    }
   ],
   "source": [
    "assets = ['b', 's']  # buying and selling assets\n",
    "base_symbols = ['s', 'v', 'b', 'w', 'j', 'e', 'Delta', 'a', 'min'] \n",
    "# spot price, virtual liquidity, balance, weight, jump size, exponent, delta, anchor price, amm-price, jump-multiplier\n",
    "\n",
    "all_symbols = {}\n",
    "\n",
    "for asset in assets:\n",
    "    temp_dict = {}\n",
    "    for base in base_symbols:\n",
    "        var_name = f\"{base}_{asset}\"\n",
    "        if base == 'e':\n",
    "            symbol_obj = symbols(var_name, integer=True)\n",
    "        elif base == 'b':\n",
    "            symbol_obj = symbols(var_name, nonnegative=True, integer=True)\n",
    "        elif delta_b_negative and var_name == 'Delta_b':\n",
    "            symbol_obj = symbols(var_name, negative=True, integer=True)\n",
    "        else:\n",
    "            symbol_obj = symbols(var_name, positive=True, integer=True)\n",
    "        temp_dict[var_name] = symbol_obj\n",
    "        # Define the variable in the global namespace\n",
    "        globals()[var_name] = symbol_obj\n",
    "    all_symbols[asset] = temp_dict.values()\n",
    "all_symbols"
   ]
  },
  {
   "cell_type": "code",
   "execution_count": 4,
   "metadata": {},
   "outputs": [],
   "source": [
    "def display_large(expr):\n",
    "  latex_code = f\"\\\\large {{ {latex(expr)} }}\"\n",
    "  display(Math(latex_code))"
   ]
  },
  {
   "cell_type": "markdown",
   "metadata": {},
   "source": [
    "### TODO either show convexity for everything or verify optimality otherwise (i.e. by simply plugging into offchain-tests)"
   ]
  },
  {
   "cell_type": "markdown",
   "metadata": {},
   "source": [
    "## Target function\n",
    "\n",
    "we want to minimize the effective price, given a set of exponents for the buying\n",
    "and selling asset each."
   ]
  },
  {
   "cell_type": "code",
   "execution_count": 5,
   "metadata": {},
   "outputs": [
    {
     "data": {
      "text/latex": [
       "$\\displaystyle \\frac{\\Delta_{s}}{\\Delta_{b}}$"
      ],
      "text/plain": [
       "Delta_s/Delta_b"
      ]
     },
     "execution_count": 5,
     "metadata": {},
     "output_type": "execute_result"
    }
   ],
   "source": [
    "if delta_b_negative:\n",
    "  eff = Delta_s / -Delta_b\n",
    "else:\n",
    "  eff = Delta_s / Delta_b\n",
    "eff"
   ]
  },
  {
   "cell_type": "markdown",
   "metadata": {},
   "source": [
    "## Equalities"
   ]
  },
  {
   "cell_type": "code",
   "execution_count": 6,
   "metadata": {},
   "outputs": [
    {
     "data": {
      "text/latex": [
       "$\\displaystyle - b_{b} + \\frac{s_{b}}{w_{b}} - v_{b}$"
      ],
      "text/plain": [
       "-b_b + s_b/w_b - v_b"
      ]
     },
     "execution_count": 6,
     "metadata": {},
     "output_type": "execute_result"
    }
   ],
   "source": [
    "def deltaBySpot_(asset, s,v, b, w, j, e, Delta, a, min):\n",
    "  f = (s - (v + b) * w) / w\n",
    "  if delta_b_negative and asset == 'b':\n",
    "    f = -f\n",
    "  if discrete:\n",
    "    f = ceiling(f)\n",
    "  if simp:\n",
    "    f = simplify(f)\n",
    "  return f\n",
    "\n",
    "deltaBySpot = {asset: deltaBySpot_(asset, *all_symbols[asset]) for asset in assets}\n",
    "deltaBySpot['b']"
   ]
  },
  {
   "cell_type": "code",
   "execution_count": 7,
   "metadata": {},
   "outputs": [
    {
     "data": {
      "text/latex": [
       "$\\displaystyle a_{b} \\left(\\frac{j_{b} + 1}{j_{b}}\\right)^{e_{b}}$"
      ],
      "text/plain": [
       "a_b*((j_b + 1)/j_b)**e_b"
      ]
     },
     "execution_count": 7,
     "metadata": {},
     "output_type": "execute_result"
    }
   ],
   "source": [
    "def spotByExp_(s, v, b, w, j, e, Delta, a, min):\n",
    "  f = a * ((1 + 1/j) ** e)\n",
    "  if discrete:\n",
    "    f = floor(f)\n",
    "  if simp:\n",
    "    f = simplify(f)\n",
    "  return f\n",
    "spotByExp = {asset: spotByExp_(*all_symbols[asset]) for asset in assets}\n",
    "spotByExp['b']"
   ]
  },
  {
   "cell_type": "markdown",
   "metadata": {},
   "source": [
    "## Equality-constraints"
   ]
  },
  {
   "cell_type": "code",
   "execution_count": 8,
   "metadata": {},
   "outputs": [
    {
     "data": {
      "text/latex": [
       "$\\displaystyle - \\Delta_{b} - b_{b} + \\frac{s_{b}}{w_{b}} - v_{b}$"
      ],
      "text/plain": [
       "-Delta_b - b_b + s_b/w_b - v_b"
      ]
     },
     "execution_count": 8,
     "metadata": {},
     "output_type": "execute_result"
    }
   ],
   "source": [
    "def deltaSpotBound_(asset, s,v, b, w, j, e, Delta, a, min):\n",
    "  eq = deltaBySpot[asset] - Delta # ==! 0\n",
    "  if simp:\n",
    "    eq = simplify(eq)\n",
    "  return eq\n",
    "\n",
    "deltaSpotBound = {asset: deltaSpotBound_(asset, *all_symbols[asset]) for asset in assets}\n",
    "deltaSpotBound['b']"
   ]
  },
  {
   "cell_type": "code",
   "execution_count": 9,
   "metadata": {},
   "outputs": [
    {
     "data": {
      "text/latex": [
       "$\\displaystyle - \\Delta_{s} - b_{s} + \\frac{s_{s}}{w_{s}} - v_{s}$"
      ],
      "text/plain": [
       "-Delta_s - b_s + s_s/w_s - v_s"
      ]
     },
     "execution_count": 9,
     "metadata": {},
     "output_type": "execute_result"
    }
   ],
   "source": [
    "deltaSpotBound[\"s\"];"
   ]
  },
  {
   "cell_type": "code",
   "execution_count": 10,
   "metadata": {},
   "outputs": [
    {
     "data": {
      "text/latex": [
       "$\\displaystyle a_{b} j_{b}^{- e_{b}} \\left(j_{b} + 1\\right)^{e_{b}} - e_{b}$"
      ],
      "text/plain": [
       "a_b*(j_b + 1)**e_b/j_b**e_b - e_b"
      ]
     },
     "execution_count": 10,
     "metadata": {},
     "output_type": "execute_result"
    }
   ],
   "source": [
    "def spotExpBound_(asset, s,v, b, w, j, e, Delta, a, min):\n",
    "  eq = spotByExp[asset] - e # ==! 0\n",
    "  if simp:\n",
    "    eq = simplify(eq)\n",
    "  return eq\n",
    "\n",
    "spotExpBound = {asset: spotExpBound_(asset, *all_symbols[asset]) for asset in assets}\n",
    "spotExpBound['b']"
   ]
  },
  {
   "cell_type": "code",
   "execution_count": 11,
   "metadata": {},
   "outputs": [
    {
     "data": {
      "text/latex": [
       "$\\displaystyle a_{s} j_{s}^{- e_{s}} \\left(j_{s} + 1\\right)^{e_{s}} - e_{s}$"
      ],
      "text/plain": [
       "a_s*(j_s + 1)**e_s/j_s**e_s - e_s"
      ]
     },
     "execution_count": 11,
     "metadata": {},
     "output_type": "execute_result"
    }
   ],
   "source": [
    "spotExpBound[\"s\"];"
   ]
  },
  {
   "cell_type": "markdown",
   "metadata": {},
   "source": [
    "## Inequality-constraints\n",
    "\n",
    "- value in A0 of buying must not exceed that of selling\n",
    "- the exponents must adhere to their upper (buying) resp. lower (selling) bounds\n",
    "  given by our equation\n",
    "- need to buy and sell minimum amounts\n",
    "- cannot buy more than the available balance\n",
    "- cannot sell more than maxSelling\n",
    "- the spot prices must not exceed maxInteger\n",
    "- bonus: the total number of multiplications for both exponentiations must not\n",
    "  exceed expLimit (TODO)\n",
    "\n",
    "### value cannot decrease"
   ]
  },
  {
   "cell_type": "code",
   "execution_count": 12,
   "metadata": {},
   "outputs": [
    {
     "data": {
      "text/latex": [
       "$\\displaystyle \\Delta_{b} s_{s}$"
      ],
      "text/plain": [
       "Delta_b*s_s"
      ]
     },
     "execution_count": 12,
     "metadata": {},
     "output_type": "execute_result"
    }
   ],
   "source": [
    "a0Buying = s_s * Delta_b # < 0 if delta_b_negative, > 0 otherwise\n",
    "if delta_b_negative:\n",
    "    a0Buying = -a0Buying # > 0\n",
    "a0Buying"
   ]
  },
  {
   "cell_type": "code",
   "execution_count": 13,
   "metadata": {},
   "outputs": [
    {
     "data": {
      "text/latex": [
       "$\\displaystyle \\Delta_{s} s_{b}$"
      ],
      "text/plain": [
       "Delta_s*s_b"
      ]
     },
     "execution_count": 13,
     "metadata": {},
     "output_type": "execute_result"
    }
   ],
   "source": [
    "a0Selling = s_b * Delta_s # > 0\n",
    "a0Selling"
   ]
  },
  {
   "cell_type": "code",
   "execution_count": 14,
   "metadata": {},
   "outputs": [
    {
     "data": {
      "text/latex": [
       "$\\displaystyle \\Delta_{b} s_{s} - \\Delta_{s} s_{b}$"
      ],
      "text/plain": [
       "Delta_b*s_s - Delta_s*s_b"
      ]
     },
     "execution_count": 14,
     "metadata": {},
     "output_type": "execute_result"
    }
   ],
   "source": [
    "a0Bound = a0Buying - a0Selling # <=! 0\n",
    "a0Bound"
   ]
  },
  {
   "cell_type": "code",
   "execution_count": 15,
   "metadata": {},
   "outputs": [
    {
     "data": {
      "text/latex": [
       "$\\displaystyle \\Delta_{b} s_{s} - \\Delta_{s} s_{b}$"
      ],
      "text/plain": [
       "Delta_b*s_s - Delta_s*s_b"
      ]
     },
     "execution_count": 15,
     "metadata": {},
     "output_type": "execute_result"
    }
   ],
   "source": [
    "if simp:\n",
    "  a0Bound = simplify(a0Bound)\n",
    "a0Bound"
   ]
  },
  {
   "cell_type": "markdown",
   "metadata": {},
   "source": [
    "### exponents cannot result in spot prices that are better than the amm-prices"
   ]
  },
  {
   "cell_type": "code",
   "execution_count": 16,
   "metadata": {},
   "outputs": [
    {
     "data": {
      "text/latex": [
       "$\\displaystyle e_{b} - \\log{\\left(a_{b}^{- \\frac{1}{\\log{\\left(\\frac{j_{b} + 1}{j_{b}} \\right)}}} \\left(w_{b} \\left(b_{b} + v_{b}\\right)\\right)^{\\frac{1}{\\log{\\left(\\frac{j_{b} + 1}{j_{b}} \\right)}}} \\right)}$"
      ],
      "text/plain": [
       "e_b - log((w_b*(b_b + v_b))**(1/log((j_b + 1)/j_b))/a_b**(1/log((j_b + 1)/j_b)))"
      ]
     },
     "execution_count": 16,
     "metadata": {},
     "output_type": "execute_result"
    }
   ],
   "source": [
    "def expBound_(asset, s, v, b, w, j, e, Delta, a, min):\n",
    "    e_bound = log(w * (v + b) /a, 1 + 1/j) # constant wrt e\n",
    "    if simp:\n",
    "        e_bound = simplify(e_bound)\n",
    "    if asset == 'b':\n",
    "        f = e - e_bound # <=! 0 (upper bound)\n",
    "    else:\n",
    "        f = e_bound - e # <=! 0 (lower bound)\n",
    "    if simp:\n",
    "        f = simplify(f)\n",
    "    return f\n",
    "\n",
    "expBound = {asset: expBound_(asset, *all_symbols[asset]) for asset in assets}\n",
    "expBound['b']"
   ]
  },
  {
   "cell_type": "code",
   "execution_count": 17,
   "metadata": {},
   "outputs": [
    {
     "data": {
      "text/latex": [
       "$\\displaystyle - e_{s} + \\log{\\left(a_{s}^{- \\frac{1}{\\log{\\left(\\frac{j_{s} + 1}{j_{s}} \\right)}}} \\left(w_{s} \\left(b_{s} + v_{s}\\right)\\right)^{\\frac{1}{\\log{\\left(\\frac{j_{s} + 1}{j_{s}} \\right)}}} \\right)}$"
      ],
      "text/plain": [
       "-e_s + log((w_s*(b_s + v_s))**(1/log((j_s + 1)/j_s))/a_s**(1/log((j_s + 1)/j_s)))"
      ]
     },
     "execution_count": 17,
     "metadata": {},
     "output_type": "execute_result"
    }
   ],
   "source": [
    "expBound[\"s\"];"
   ]
  },
  {
   "cell_type": "markdown",
   "metadata": {},
   "source": [
    "### spot prices cannot exceed maxInteger"
   ]
  },
  {
   "cell_type": "code",
   "execution_count": 18,
   "metadata": {},
   "outputs": [
    {
     "data": {
      "text/latex": [
       "$\\displaystyle - I_{max} + s_{b}$"
      ],
      "text/plain": [
       "-I_max + s_b"
      ]
     },
     "execution_count": 18,
     "metadata": {},
     "output_type": "execute_result"
    }
   ],
   "source": [
    "max_s, I_max = symbols('max_s I_max', positive=True, integer=True)\n",
    "\n",
    "def maxSpotBound_(s, v, b, w, j, e, Delta, a, min):\n",
    "  return s - I_max # <=! 0\n",
    "\n",
    "maxSpotBound = {asset: maxSpotBound_(*all_symbols[asset]) for asset in assets}\n",
    "maxSpotBound['b']"
   ]
  },
  {
   "cell_type": "code",
   "execution_count": 19,
   "metadata": {},
   "outputs": [
    {
     "data": {
      "text/latex": [
       "$\\displaystyle - I_{max} + s_{s}$"
      ],
      "text/plain": [
       "-I_max + s_s"
      ]
     },
     "execution_count": 19,
     "metadata": {},
     "output_type": "execute_result"
    }
   ],
   "source": [
    "maxSpotBound[\"s\"];"
   ]
  },
  {
   "cell_type": "markdown",
   "metadata": {},
   "source": [
    "### need to swap at least minimum amounts"
   ]
  },
  {
   "cell_type": "code",
   "execution_count": 20,
   "metadata": {},
   "outputs": [
    {
     "data": {
      "text/latex": [
       "$\\displaystyle - \\Delta_{b} + min_{b}$"
      ],
      "text/plain": [
       "-Delta_b + min_b"
      ]
     },
     "execution_count": 20,
     "metadata": {},
     "output_type": "execute_result"
    }
   ],
   "source": [
    "max_s, I_max = symbols('max_s I_max', positive=True, integer=True)\n",
    "\n",
    "def minAmntBound_(asset, s, v, b, w, j, e, Delta, a, min):\n",
    "  if delta_b_negative and asset == 'b':\n",
    "    return min + Delta # <=! 0\n",
    "  else:\n",
    "    return min - Delta # <=! 0\n",
    "\n",
    "minAmntBound = {asset: minAmntBound_(asset, *all_symbols[asset]) for asset in assets}\n",
    "minAmntBound['b']"
   ]
  },
  {
   "cell_type": "code",
   "execution_count": 21,
   "metadata": {},
   "outputs": [
    {
     "data": {
      "text/latex": [
       "$\\displaystyle - \\Delta_{s} + min_{s}$"
      ],
      "text/plain": [
       "-Delta_s + min_s"
      ]
     },
     "execution_count": 21,
     "metadata": {},
     "output_type": "execute_result"
    }
   ],
   "source": [
    "minAmntBound[\"s\"];"
   ]
  },
  {
   "cell_type": "markdown",
   "metadata": {},
   "source": [
    "### need to swap at most maximum amounts"
   ]
  },
  {
   "cell_type": "code",
   "execution_count": 22,
   "metadata": {},
   "outputs": [
    {
     "data": {
      "text/latex": [
       "$\\displaystyle \\Delta_{b} - b_{b}$"
      ],
      "text/plain": [
       "Delta_b - b_b"
      ]
     },
     "execution_count": 22,
     "metadata": {},
     "output_type": "execute_result"
    }
   ],
   "source": [
    "def maxAmntBound_(asset, s, v, b, w, j, e, Delta, a, min):\n",
    "  if asset == 'b':\n",
    "    if delta_b_negative:\n",
    "      return -Delta - b # <=! 0\n",
    "    else:\n",
    "      return Delta - b # <=! 0\n",
    "  else:\n",
    "    return Delta - max_s # <=! 0\n",
    "\n",
    "maxAmntBound = {asset: maxAmntBound_(asset, *all_symbols[asset]) for asset in assets}\n",
    "maxAmntBound['b']"
   ]
  },
  {
   "cell_type": "markdown",
   "metadata": {},
   "source": [
    "### total number of multiplications of both exponentiations cannot exceed expLimit"
   ]
  },
  {
   "cell_type": "code",
   "execution_count": 23,
   "metadata": {},
   "outputs": [
    {
     "data": {
      "text/latex": [
       "$\\displaystyle \\left\\lceil{\\frac{\\log{\\left(e_{b} \\right)}}{\\log{\\left(2 \\right)}}}\\right\\rceil$"
      ],
      "text/plain": [
       "ceiling(log(e_b)/log(2))"
      ]
     },
     "execution_count": 23,
     "metadata": {},
     "output_type": "execute_result"
    }
   ],
   "source": [
    "# expLimit, aka maximum total number of multiplications for both exponents\n",
    "m_max = symbols('m_max', positive=True, integer=True)\n",
    "\n",
    "def numMultsLower_(asset, s,v, b, w, j, e, Delta, a, min):\n",
    "  return floor(log(e, 2))\n",
    "\n",
    "# the best number of multiplications we can get by increasing e\n",
    "def bestMultsAhead_(asset, s,v, b, w, j, e, Delta, a, min):\n",
    "  return ceiling(log(e, 2))\n",
    "\n",
    "bestMultsAhead = {asset: bestMultsAhead_(asset, *all_symbols[asset]) for asset in assets}\n",
    "bestMultsAhead['b']"
   ]
  },
  {
   "cell_type": "code",
   "execution_count": 24,
   "metadata": {},
   "outputs": [
    {
     "data": {
      "text/latex": [
       "$\\displaystyle - m_{max} + \\left\\lceil{\\frac{\\log{\\left(e_{b} \\right)}}{\\log{\\left(2 \\right)}}}\\right\\rceil + \\left\\lceil{\\frac{\\log{\\left(e_{s} \\right)}}{\\log{\\left(2 \\right)}}}\\right\\rceil$"
      ],
      "text/plain": [
       "-m_max + ceiling(log(e_b)/log(2)) + ceiling(log(e_s)/log(2))"
      ]
     },
     "execution_count": 24,
     "metadata": {},
     "output_type": "execute_result"
    }
   ],
   "source": [
    "# optimistic estimate. This relies on the vague intuition that exponents will be minimal from the other constraints, so best we can do is increase them if this one is violated\n",
    "optimisticMultsBound = bestMultsAhead['b'] + bestMultsAhead['s'] - m_max # <=! 0\n",
    "if simp:\n",
    "  optimisticMultsBound = simplify(optimisticMultsBound)\n",
    "optimisticMultsBound"
   ]
  },
  {
   "cell_type": "markdown",
   "metadata": {},
   "source": [
    "## Lagrangian\n",
    "\n",
    "### per asset:"
   ]
  },
  {
   "cell_type": "code",
   "execution_count": 25,
   "metadata": {},
   "outputs": [],
   "source": [
    "def custom_diff(f, n):\n",
    "    diff = f.diff(n)\n",
    "    # diff = floor(f.subs(n, n+1) - f)\n",
    "    if simp:\n",
    "        diff = simplify(diff)\n",
    "    return diff\n",
    "\n",
    "def equations(asset, s,v, b, w, j, e, Delta, a, min):\n",
    "  \n",
    "    # Decision variables\n",
    "    xs = [e, s, Delta]\n",
    "\n",
    "    # Equality-Constraints\n",
    "    hs = [\n",
    "        deltaSpotBound[asset],\n",
    "        spotExpBound[asset],\n",
    "    ] \n",
    "\n",
    "    # Inequality-Constraints\n",
    "    gs = [\n",
    "        expBound[asset],\n",
    "        maxSpotBound[asset],\n",
    "        minAmntBound[asset],\n",
    "        maxAmntBound[asset],\n",
    "        # bestMultsAhead[asset] - m_max,\n",
    "    ] \n",
    "    \n",
    "    # Lagrange multipliers for equality- and inequality-constraints\n",
    "    mus = symbols('mu^{}_1:{}'.format(asset, len(hs)+1))\n",
    "    lambdas = symbols('lambda^{}_1:{}'.format(asset, len(gs)+1), nonnegative=True)\n",
    "\n",
    "    # Objective function\n",
    "    f = eff\n",
    "\n",
    "    # Lagrangian\n",
    "    L = f\\\n",
    "        + sum([mu * h for mu, h in zip(mus, hs)])\\\n",
    "        + sum([lambda_ * g for lambda_, g in zip(lambdas, gs)])\n",
    "\n",
    "    diffs = []\n",
    "    print(\"derivative equations:\")\n",
    "    for x in xs:\n",
    "        dL_dx = custom_diff(L, x)\n",
    "        equation = Eq(dL_dx, 0)\n",
    "        if simp: # results in error from the bestMultsAhead-constraint\n",
    "          equation = simplify(equation)\n",
    "        display(equation)\n",
    "        diffs.append(equation)\n",
    "\n",
    "    primal = []\n",
    "    # Primal feasibility for equality-constraints\n",
    "    print(\"primal feasibility for equality-constraints:\")\n",
    "    for h in hs:\n",
    "        equation = Eq(h, 0)\n",
    "        if simp:\n",
    "            equation = simplify(equation)\n",
    "        display(equation)\n",
    "        primal.append(equation)\n",
    "\n",
    "    slack = []\n",
    "    # Complementary slackness conditions\n",
    "    print(\"complementary slackness conditions:\")\n",
    "    for lambda_, g in zip(lambdas, gs):\n",
    "        equation = Eq(lambda_ * g, 0)\n",
    "        if simp:\n",
    "            equation = simplify(equation)\n",
    "        display(equation)\n",
    "        slack.append(equation)\n",
    "\n",
    "    return diffs, primal, slack, hs, gs, xs, list(mus), list(lambdas)"
   ]
  },
  {
   "cell_type": "code",
   "execution_count": 26,
   "metadata": {},
   "outputs": [
    {
     "name": "stdout",
     "output_type": "stream",
     "text": [
      "derivative equations:\n"
     ]
    },
    {
     "data": {
      "text/latex": [
       "$\\displaystyle - \\lambda^{b}_{1} + \\mu^{b}_{2} + j_{b}^{- e_{b}} \\mu^{b}_{2} \\log{\\left(j_{b}^{a_{b} \\left(j_{b} + 1\\right)^{e_{b}}} \\left(j_{b} + 1\\right)^{- a_{b} \\left(j_{b} + 1\\right)^{e_{b}}} \\right)} = 0$"
      ],
      "text/plain": [
       "Eq(-lambda^b_1 + mu^b_2 + mu^b_2*log(j_b**(a_b*(j_b + 1)**e_b)/(j_b + 1)**(a_b*(j_b + 1)**e_b))/j_b**e_b, 0)"
      ]
     },
     "metadata": {},
     "output_type": "display_data"
    },
    {
     "data": {
      "text/latex": [
       "$\\displaystyle \\lambda^{b}_{2} + \\frac{\\mu^{b}_{1}}{w_{b}} = 0$"
      ],
      "text/plain": [
       "Eq(lambda^b_2 + mu^b_1/w_b, 0)"
      ]
     },
     "metadata": {},
     "output_type": "display_data"
    },
    {
     "data": {
      "text/latex": [
       "$\\displaystyle \\lambda^{b}_{3} - \\lambda^{b}_{4} + \\mu^{b}_{1} + \\frac{\\Delta_{s}}{\\Delta_{b}^{2}} = 0$"
      ],
      "text/plain": [
       "Eq(lambda^b_3 - lambda^b_4 + mu^b_1 + Delta_s/Delta_b**2, 0)"
      ]
     },
     "metadata": {},
     "output_type": "display_data"
    },
    {
     "name": "stdout",
     "output_type": "stream",
     "text": [
      "primal feasibility for equality-constraints:\n"
     ]
    },
    {
     "data": {
      "text/latex": [
       "$\\displaystyle \\Delta_{b} + b_{b} - \\frac{s_{b}}{w_{b}} + v_{b} = 0$"
      ],
      "text/plain": [
       "Eq(Delta_b + b_b - s_b/w_b + v_b, 0)"
      ]
     },
     "metadata": {},
     "output_type": "display_data"
    },
    {
     "data": {
      "text/latex": [
       "$\\displaystyle a_{b} j_{b}^{- e_{b}} \\left(j_{b} + 1\\right)^{e_{b}} - e_{b} = 0$"
      ],
      "text/plain": [
       "Eq(a_b*(j_b + 1)**e_b/j_b**e_b - e_b, 0)"
      ]
     },
     "metadata": {},
     "output_type": "display_data"
    },
    {
     "name": "stdout",
     "output_type": "stream",
     "text": [
      "complementary slackness conditions:\n"
     ]
    },
    {
     "data": {
      "text/latex": [
       "$\\displaystyle \\lambda^{b}_{1} \\left(e_{b} - \\log{\\left(a_{b}^{- \\frac{1}{\\log{\\left(\\frac{j_{b} + 1}{j_{b}} \\right)}}} \\left(w_{b} \\left(b_{b} + v_{b}\\right)\\right)^{\\frac{1}{\\log{\\left(\\frac{j_{b} + 1}{j_{b}} \\right)}}} \\right)}\\right) = 0$"
      ],
      "text/plain": [
       "Eq(lambda^b_1*(e_b - log((w_b*(b_b + v_b))**(1/log((j_b + 1)/j_b))/a_b**(1/log((j_b + 1)/j_b)))), 0)"
      ]
     },
     "metadata": {},
     "output_type": "display_data"
    },
    {
     "data": {
      "text/latex": [
       "$\\displaystyle \\lambda^{b}_{2} \\left(- I_{max} + s_{b}\\right) = 0$"
      ],
      "text/plain": [
       "Eq(lambda^b_2*(-I_max + s_b), 0)"
      ]
     },
     "metadata": {},
     "output_type": "display_data"
    },
    {
     "data": {
      "text/latex": [
       "$\\displaystyle \\lambda^{b}_{3} \\left(- \\Delta_{b} + min_{b}\\right) = 0$"
      ],
      "text/plain": [
       "Eq(lambda^b_3*(-Delta_b + min_b), 0)"
      ]
     },
     "metadata": {},
     "output_type": "display_data"
    },
    {
     "data": {
      "text/latex": [
       "$\\displaystyle \\lambda^{b}_{4} \\left(\\Delta_{b} - b_{b}\\right) = 0$"
      ],
      "text/plain": [
       "Eq(lambda^b_4*(Delta_b - b_b), 0)"
      ]
     },
     "metadata": {},
     "output_type": "display_data"
    }
   ],
   "source": [
    "diffs_b, primal_b, slack_b, hs_b, gs_b, xs_b, mus_b, lambdas_b = equations('b', *all_symbols['b'])\n",
    "equations_b = diffs_b + primal_b + slack_b\n",
    "vars_b = xs_b + mus_b + lambdas_b"
   ]
  },
  {
   "cell_type": "code",
   "execution_count": 27,
   "metadata": {},
   "outputs": [
    {
     "name": "stdout",
     "output_type": "stream",
     "text": [
      "derivative equations:\n"
     ]
    },
    {
     "data": {
      "text/latex": [
       "$\\displaystyle \\lambda^{s}_{1} + \\mu^{s}_{2} + j_{s}^{- e_{s}} \\mu^{s}_{2} \\log{\\left(j_{s}^{a_{s} \\left(j_{s} + 1\\right)^{e_{s}}} \\left(j_{s} + 1\\right)^{- a_{s} \\left(j_{s} + 1\\right)^{e_{s}}} \\right)} = 0$"
      ],
      "text/plain": [
       "Eq(lambda^s_1 + mu^s_2 + mu^s_2*log(j_s**(a_s*(j_s + 1)**e_s)/(j_s + 1)**(a_s*(j_s + 1)**e_s))/j_s**e_s, 0)"
      ]
     },
     "metadata": {},
     "output_type": "display_data"
    },
    {
     "data": {
      "text/latex": [
       "$\\displaystyle \\lambda^{s}_{2} + \\frac{\\mu^{s}_{1}}{w_{s}} = 0$"
      ],
      "text/plain": [
       "Eq(lambda^s_2 + mu^s_1/w_s, 0)"
      ]
     },
     "metadata": {},
     "output_type": "display_data"
    },
    {
     "data": {
      "text/latex": [
       "$\\displaystyle \\lambda^{s}_{3} - \\lambda^{s}_{4} + \\mu^{s}_{1} - \\frac{1}{\\Delta_{b}} = 0$"
      ],
      "text/plain": [
       "Eq(lambda^s_3 - lambda^s_4 + mu^s_1 - 1/Delta_b, 0)"
      ]
     },
     "metadata": {},
     "output_type": "display_data"
    },
    {
     "name": "stdout",
     "output_type": "stream",
     "text": [
      "primal feasibility for equality-constraints:\n"
     ]
    },
    {
     "data": {
      "text/latex": [
       "$\\displaystyle \\Delta_{s} + b_{s} - \\frac{s_{s}}{w_{s}} + v_{s} = 0$"
      ],
      "text/plain": [
       "Eq(Delta_s + b_s - s_s/w_s + v_s, 0)"
      ]
     },
     "metadata": {},
     "output_type": "display_data"
    },
    {
     "data": {
      "text/latex": [
       "$\\displaystyle a_{s} j_{s}^{- e_{s}} \\left(j_{s} + 1\\right)^{e_{s}} - e_{s} = 0$"
      ],
      "text/plain": [
       "Eq(a_s*(j_s + 1)**e_s/j_s**e_s - e_s, 0)"
      ]
     },
     "metadata": {},
     "output_type": "display_data"
    },
    {
     "name": "stdout",
     "output_type": "stream",
     "text": [
      "complementary slackness conditions:\n"
     ]
    },
    {
     "data": {
      "text/latex": [
       "$\\displaystyle \\lambda^{s}_{1} \\left(e_{s} - \\log{\\left(a_{s}^{- \\frac{1}{\\log{\\left(\\frac{j_{s} + 1}{j_{s}} \\right)}}} \\left(w_{s} \\left(b_{s} + v_{s}\\right)\\right)^{\\frac{1}{\\log{\\left(\\frac{j_{s} + 1}{j_{s}} \\right)}}} \\right)}\\right) = 0$"
      ],
      "text/plain": [
       "Eq(lambda^s_1*(e_s - log((w_s*(b_s + v_s))**(1/log((j_s + 1)/j_s))/a_s**(1/log((j_s + 1)/j_s)))), 0)"
      ]
     },
     "metadata": {},
     "output_type": "display_data"
    },
    {
     "data": {
      "text/latex": [
       "$\\displaystyle \\lambda^{s}_{2} \\left(- I_{max} + s_{s}\\right) = 0$"
      ],
      "text/plain": [
       "Eq(lambda^s_2*(-I_max + s_s), 0)"
      ]
     },
     "metadata": {},
     "output_type": "display_data"
    },
    {
     "data": {
      "text/latex": [
       "$\\displaystyle \\lambda^{s}_{3} \\left(- \\Delta_{s} + min_{s}\\right) = 0$"
      ],
      "text/plain": [
       "Eq(lambda^s_3*(-Delta_s + min_s), 0)"
      ]
     },
     "metadata": {},
     "output_type": "display_data"
    },
    {
     "data": {
      "text/latex": [
       "$\\displaystyle \\lambda^{s}_{4} \\left(\\Delta_{s} - max_{s}\\right) = 0$"
      ],
      "text/plain": [
       "Eq(lambda^s_4*(Delta_s - max_s), 0)"
      ]
     },
     "metadata": {},
     "output_type": "display_data"
    }
   ],
   "source": [
    "diffs_s, primal_s, slack_s, hs_s, gs_s, xs_s, mus_s, lambdas_s = equations('s', *all_symbols['s'])\n",
    "equations_s = diffs_s + primal_s + slack_s\n",
    "vars_s = xs_s + mus_s + lambdas_s"
   ]
  },
  {
   "cell_type": "code",
   "execution_count": 28,
   "metadata": {},
   "outputs": [],
   "source": [
    "def verify_inequality_constraints(solution, vars, gs):\n",
    "    subs_dict = dict(zip(vars, solution))\n",
    "    for g in gs:\n",
    "        if Gt(g.subs(subs_dict), 0) == True:\n",
    "            return False\n",
    "    return True"
   ]
  },
  {
   "cell_type": "code",
   "execution_count": 29,
   "metadata": {},
   "outputs": [
    {
     "data": {
      "text/plain": [
       "8"
      ]
     },
     "execution_count": 29,
     "metadata": {},
     "output_type": "execute_result"
    }
   ],
   "source": [
    "solutions_b = nonlinsolve(equations_b, vars_b);\n",
    "len(solutions_b);"
   ]
  },
  {
   "cell_type": "code",
   "execution_count": 30,
   "metadata": {},
   "outputs": [
    {
     "data": {
      "text/plain": [
       "8"
      ]
     },
     "execution_count": 30,
     "metadata": {},
     "output_type": "execute_result"
    }
   ],
   "source": [
    "solutions_b = [solution for solution in solutions_b if verify_inequality_constraints(solution, vars_b, gs_b)]\n",
    "len(solutions_b)"
   ]
  },
  {
   "cell_type": "code",
   "execution_count": 31,
   "metadata": {},
   "outputs": [
    {
     "data": {
      "text/plain": [
       "[e_b,\n",
       " s_b,\n",
       " Delta_b,\n",
       " mu^b_1,\n",
       " mu^b_2,\n",
       " lambda^b_1,\n",
       " lambda^b_2,\n",
       " lambda^b_3,\n",
       " lambda^b_4]"
      ]
     },
     "execution_count": 31,
     "metadata": {},
     "output_type": "execute_result"
    }
   ],
   "source": [
    "vars_b;"
   ]
  },
  {
   "cell_type": "code",
   "execution_count": 32,
   "metadata": {},
   "outputs": [
    {
     "data": {
      "text/latex": [
       "$\\displaystyle \\left( e_{b}, \\  w_{b} \\left(2 b_{b} + v_{b}\\right), \\  b_{b}, \\  0, \\  0, \\  0, \\  0, \\  0, \\  \\frac{\\Delta_{s}}{b_{b}^{2}}\\right)$"
      ],
      "text/plain": [
       "(e_b, w_b*(2*b_b + v_b), b_b, 0, 0, 0, 0, 0, Delta_s/b_b**2)"
      ]
     },
     "metadata": {},
     "output_type": "display_data"
    },
    {
     "data": {
      "text/latex": [
       "$\\displaystyle \\left( e_{b}, \\  w_{b} \\left(b_{b} + min_{b} + v_{b}\\right), \\  min_{b}, \\  0, \\  0, \\  0, \\  0, \\  - \\frac{\\Delta_{s}}{min_{b}^{2}}, \\  0\\right)$"
      ],
      "text/plain": [
       "(e_b, w_b*(b_b + min_b + v_b), min_b, 0, 0, 0, 0, -Delta_s/min_b**2, 0)"
      ]
     },
     "metadata": {},
     "output_type": "display_data"
    },
    {
     "data": {
      "text/latex": [
       "$\\displaystyle \\left( e_{b}, \\  I_{max}, \\  \\frac{I_{max}}{w_{b}} - b_{b} - v_{b}, \\  - \\frac{\\Delta_{s} w_{b}^{2}}{I_{max}^{2} - 2 I_{max} b_{b} w_{b} - 2 I_{max} v_{b} w_{b} + b_{b}^{2} w_{b}^{2} + 2 b_{b} v_{b} w_{b}^{2} + v_{b}^{2} w_{b}^{2}}, \\  0, \\  0, \\  \\frac{\\Delta_{s} w_{b}}{I_{max}^{2} - 2 I_{max} b_{b} w_{b} - 2 I_{max} v_{b} w_{b} + b_{b}^{2} w_{b}^{2} + 2 b_{b} v_{b} w_{b}^{2} + v_{b}^{2} w_{b}^{2}}, \\  0, \\  0\\right)$"
      ],
      "text/plain": [
       "(e_b, I_max, I_max/w_b - b_b - v_b, -Delta_s*w_b**2/(I_max**2 - 2*I_max*b_b*w_b - 2*I_max*v_b*w_b + b_b**2*w_b**2 + 2*b_b*v_b*w_b**2 + v_b**2*w_b**2), 0, 0, Delta_s*w_b/(I_max**2 - 2*I_max*b_b*w_b - 2*I_max*v_b*w_b + b_b**2*w_b**2 + 2*b_b*v_b*w_b**2 + v_b**2*w_b**2), 0, 0)"
      ]
     },
     "metadata": {},
     "output_type": "display_data"
    },
    {
     "data": {
      "text/latex": [
       "$\\displaystyle \\left( e_{b}, \\  - I_{max} + 3 b_{b} w_{b} + min_{b} w_{b} + 2 v_{b} w_{b}, \\  - \\frac{I_{max}}{w_{b}} + 2 b_{b} + min_{b} + v_{b}, \\  \\frac{\\Delta_{s} w_{b}^{2}}{I_{max}^{2} - 2 I_{max} b_{b} w_{b} - 2 I_{max} v_{b} w_{b} + b_{b}^{2} w_{b}^{2} + 2 b_{b} v_{b} w_{b}^{2} + v_{b}^{2} w_{b}^{2}}, \\  0, \\  0, \\  - \\frac{\\Delta_{s} w_{b}}{I_{max}^{2} - 2 I_{max} b_{b} w_{b} - 2 I_{max} v_{b} w_{b} + b_{b}^{2} w_{b}^{2} + 2 b_{b} v_{b} w_{b}^{2} + v_{b}^{2} w_{b}^{2}}, \\  - \\frac{\\Delta_{s}}{min_{b}^{2}}, \\  \\frac{\\Delta_{s}}{b_{b}^{2}}\\right)$"
      ],
      "text/plain": [
       "(e_b, -I_max + 3*b_b*w_b + min_b*w_b + 2*v_b*w_b, -I_max/w_b + 2*b_b + min_b + v_b, Delta_s*w_b**2/(I_max**2 - 2*I_max*b_b*w_b - 2*I_max*v_b*w_b + b_b**2*w_b**2 + 2*b_b*v_b*w_b**2 + v_b**2*w_b**2), 0, 0, -Delta_s*w_b/(I_max**2 - 2*I_max*b_b*w_b - 2*I_max*v_b*w_b + b_b**2*w_b**2 + 2*b_b*v_b*w_b**2 + v_b**2*w_b**2), -Delta_s/min_b**2, Delta_s/b_b**2)"
      ]
     },
     "metadata": {},
     "output_type": "display_data"
    },
    {
     "data": {
      "text/latex": [
       "$\\displaystyle \\left( \\log{\\left(\\left(\\frac{a_{b}}{w_{b} \\left(b_{b} + v_{b}\\right)}\\right)^{\\frac{1}{\\log{\\left(j_{b} \\right)} - \\log{\\left(j_{b} + 1 \\right)}}} \\right)}, \\  w_{b} \\left(2 b_{b} + v_{b}\\right), \\  b_{b}, \\  0, \\  \\mu^{b}_{2}, \\  \\mu^{b}_{2} + j_{b}^{- \\log{\\left(a_{b}^{\\frac{1}{\\log{\\left(j_{b} \\right)} - \\log{\\left(j_{b} + 1 \\right)}}} \\left(b_{b} w_{b} + v_{b} w_{b}\\right)^{- \\frac{1}{\\log{\\left(j_{b} \\right)} - \\log{\\left(j_{b} + 1 \\right)}}} \\right)}} \\mu^{b}_{2} \\log{\\left(j_{b}^{a_{b} \\left(j_{b} + 1\\right)^{\\log{\\left(a_{b}^{\\frac{1}{\\log{\\left(j_{b} \\right)} - \\log{\\left(j_{b} + 1 \\right)}}} \\left(b_{b} w_{b} + v_{b} w_{b}\\right)^{- \\frac{1}{\\log{\\left(j_{b} \\right)} - \\log{\\left(j_{b} + 1 \\right)}}} \\right)}}} \\left(j_{b} + 1\\right)^{- a_{b} \\left(j_{b} + 1\\right)^{\\log{\\left(a_{b}^{\\frac{1}{\\log{\\left(j_{b} \\right)} - \\log{\\left(j_{b} + 1 \\right)}}} \\left(b_{b} w_{b} + v_{b} w_{b}\\right)^{- \\frac{1}{\\log{\\left(j_{b} \\right)} - \\log{\\left(j_{b} + 1 \\right)}}} \\right)}}} \\right)}, \\  0, \\  0, \\  \\frac{\\Delta_{s}}{b_{b}^{2}}\\right)$"
      ],
      "text/plain": [
       "(log((a_b/(w_b*(b_b + v_b)))**(1/(log(j_b) - log(j_b + 1)))), w_b*(2*b_b + v_b), b_b, 0, mu^b_2, mu^b_2 + mu^b_2*log(j_b**(a_b*(j_b + 1)**log(a_b**(1/(log(j_b) - log(j_b + 1)))/(b_b*w_b + v_b*w_b)**(1/(log(j_b) - log(j_b + 1)))))/(j_b + 1)**(a_b*(j_b + 1)**log(a_b**(1/(log(j_b) - log(j_b + 1)))/(b_b*w_b + v_b*w_b)**(1/(log(j_b) - log(j_b + 1))))))/j_b**log(a_b**(1/(log(j_b) - log(j_b + 1)))/(b_b*w_b + v_b*w_b)**(1/(log(j_b) - log(j_b + 1)))), 0, 0, Delta_s/b_b**2)"
      ]
     },
     "metadata": {},
     "output_type": "display_data"
    },
    {
     "data": {
      "text/latex": [
       "$\\displaystyle \\left( \\log{\\left(\\left(\\frac{a_{b}}{w_{b} \\left(b_{b} + v_{b}\\right)}\\right)^{\\frac{1}{\\log{\\left(j_{b} \\right)} - \\log{\\left(j_{b} + 1 \\right)}}} \\right)}, \\  w_{b} \\left(b_{b} + min_{b} + v_{b}\\right), \\  min_{b}, \\  0, \\  \\mu^{b}_{2}, \\  \\mu^{b}_{2} + j_{b}^{- \\log{\\left(a_{b}^{\\frac{1}{\\log{\\left(j_{b} \\right)} - \\log{\\left(j_{b} + 1 \\right)}}} \\left(b_{b} w_{b} + v_{b} w_{b}\\right)^{- \\frac{1}{\\log{\\left(j_{b} \\right)} - \\log{\\left(j_{b} + 1 \\right)}}} \\right)}} \\mu^{b}_{2} \\log{\\left(j_{b}^{a_{b} \\left(j_{b} + 1\\right)^{\\log{\\left(a_{b}^{\\frac{1}{\\log{\\left(j_{b} \\right)} - \\log{\\left(j_{b} + 1 \\right)}}} \\left(b_{b} w_{b} + v_{b} w_{b}\\right)^{- \\frac{1}{\\log{\\left(j_{b} \\right)} - \\log{\\left(j_{b} + 1 \\right)}}} \\right)}}} \\left(j_{b} + 1\\right)^{- a_{b} \\left(j_{b} + 1\\right)^{\\log{\\left(a_{b}^{\\frac{1}{\\log{\\left(j_{b} \\right)} - \\log{\\left(j_{b} + 1 \\right)}}} \\left(b_{b} w_{b} + v_{b} w_{b}\\right)^{- \\frac{1}{\\log{\\left(j_{b} \\right)} - \\log{\\left(j_{b} + 1 \\right)}}} \\right)}}} \\right)}, \\  0, \\  - \\frac{\\Delta_{s}}{min_{b}^{2}}, \\  0\\right)$"
      ],
      "text/plain": [
       "(log((a_b/(w_b*(b_b + v_b)))**(1/(log(j_b) - log(j_b + 1)))), w_b*(b_b + min_b + v_b), min_b, 0, mu^b_2, mu^b_2 + mu^b_2*log(j_b**(a_b*(j_b + 1)**log(a_b**(1/(log(j_b) - log(j_b + 1)))/(b_b*w_b + v_b*w_b)**(1/(log(j_b) - log(j_b + 1)))))/(j_b + 1)**(a_b*(j_b + 1)**log(a_b**(1/(log(j_b) - log(j_b + 1)))/(b_b*w_b + v_b*w_b)**(1/(log(j_b) - log(j_b + 1))))))/j_b**log(a_b**(1/(log(j_b) - log(j_b + 1)))/(b_b*w_b + v_b*w_b)**(1/(log(j_b) - log(j_b + 1)))), 0, -Delta_s/min_b**2, 0)"
      ]
     },
     "metadata": {},
     "output_type": "display_data"
    },
    {
     "data": {
      "text/latex": [
       "$\\displaystyle \\left( \\log{\\left(\\left(\\frac{a_{b}}{w_{b} \\left(b_{b} + v_{b}\\right)}\\right)^{\\frac{1}{\\log{\\left(j_{b} \\right)} - \\log{\\left(j_{b} + 1 \\right)}}} \\right)}, \\  I_{max}, \\  \\frac{I_{max}}{w_{b}} - b_{b} - v_{b}, \\  - \\frac{\\Delta_{s} w_{b}^{2}}{I_{max}^{2} - 2 I_{max} b_{b} w_{b} - 2 I_{max} v_{b} w_{b} + b_{b}^{2} w_{b}^{2} + 2 b_{b} v_{b} w_{b}^{2} + v_{b}^{2} w_{b}^{2}}, \\  \\mu^{b}_{2}, \\  \\mu^{b}_{2} + j_{b}^{- \\log{\\left(a_{b}^{\\frac{1}{\\log{\\left(j_{b} \\right)} - \\log{\\left(j_{b} + 1 \\right)}}} \\left(b_{b} w_{b} + v_{b} w_{b}\\right)^{- \\frac{1}{\\log{\\left(j_{b} \\right)} - \\log{\\left(j_{b} + 1 \\right)}}} \\right)}} \\mu^{b}_{2} \\log{\\left(j_{b}^{a_{b} \\left(j_{b} + 1\\right)^{\\log{\\left(a_{b}^{\\frac{1}{\\log{\\left(j_{b} \\right)} - \\log{\\left(j_{b} + 1 \\right)}}} \\left(b_{b} w_{b} + v_{b} w_{b}\\right)^{- \\frac{1}{\\log{\\left(j_{b} \\right)} - \\log{\\left(j_{b} + 1 \\right)}}} \\right)}}} \\left(j_{b} + 1\\right)^{- a_{b} \\left(j_{b} + 1\\right)^{\\log{\\left(a_{b}^{\\frac{1}{\\log{\\left(j_{b} \\right)} - \\log{\\left(j_{b} + 1 \\right)}}} \\left(b_{b} w_{b} + v_{b} w_{b}\\right)^{- \\frac{1}{\\log{\\left(j_{b} \\right)} - \\log{\\left(j_{b} + 1 \\right)}}} \\right)}}} \\right)}, \\  \\frac{\\Delta_{s} w_{b}}{I_{max}^{2} - 2 I_{max} b_{b} w_{b} - 2 I_{max} v_{b} w_{b} + b_{b}^{2} w_{b}^{2} + 2 b_{b} v_{b} w_{b}^{2} + v_{b}^{2} w_{b}^{2}}, \\  0, \\  0\\right)$"
      ],
      "text/plain": [
       "(log((a_b/(w_b*(b_b + v_b)))**(1/(log(j_b) - log(j_b + 1)))), I_max, I_max/w_b - b_b - v_b, -Delta_s*w_b**2/(I_max**2 - 2*I_max*b_b*w_b - 2*I_max*v_b*w_b + b_b**2*w_b**2 + 2*b_b*v_b*w_b**2 + v_b**2*w_b**2), mu^b_2, mu^b_2 + mu^b_2*log(j_b**(a_b*(j_b + 1)**log(a_b**(1/(log(j_b) - log(j_b + 1)))/(b_b*w_b + v_b*w_b)**(1/(log(j_b) - log(j_b + 1)))))/(j_b + 1)**(a_b*(j_b + 1)**log(a_b**(1/(log(j_b) - log(j_b + 1)))/(b_b*w_b + v_b*w_b)**(1/(log(j_b) - log(j_b + 1))))))/j_b**log(a_b**(1/(log(j_b) - log(j_b + 1)))/(b_b*w_b + v_b*w_b)**(1/(log(j_b) - log(j_b + 1)))), Delta_s*w_b/(I_max**2 - 2*I_max*b_b*w_b - 2*I_max*v_b*w_b + b_b**2*w_b**2 + 2*b_b*v_b*w_b**2 + v_b**2*w_b**2), 0, 0)"
      ]
     },
     "metadata": {},
     "output_type": "display_data"
    },
    {
     "data": {
      "text/latex": [
       "$\\displaystyle \\left( \\log{\\left(\\left(\\frac{a_{b}}{w_{b} \\left(b_{b} + v_{b}\\right)}\\right)^{\\frac{1}{\\log{\\left(j_{b} \\right)} - \\log{\\left(j_{b} + 1 \\right)}}} \\right)}, \\  - I_{max} + 3 b_{b} w_{b} + min_{b} w_{b} + 2 v_{b} w_{b}, \\  - \\frac{I_{max}}{w_{b}} + 2 b_{b} + min_{b} + v_{b}, \\  \\frac{\\Delta_{s} w_{b}^{2}}{I_{max}^{2} - 2 I_{max} b_{b} w_{b} - 2 I_{max} v_{b} w_{b} + b_{b}^{2} w_{b}^{2} + 2 b_{b} v_{b} w_{b}^{2} + v_{b}^{2} w_{b}^{2}}, \\  \\mu^{b}_{2}, \\  \\mu^{b}_{2} + j_{b}^{- \\log{\\left(a_{b}^{\\frac{1}{\\log{\\left(j_{b} \\right)} - \\log{\\left(j_{b} + 1 \\right)}}} \\left(b_{b} w_{b} + v_{b} w_{b}\\right)^{- \\frac{1}{\\log{\\left(j_{b} \\right)} - \\log{\\left(j_{b} + 1 \\right)}}} \\right)}} \\mu^{b}_{2} \\log{\\left(j_{b}^{a_{b} \\left(j_{b} + 1\\right)^{\\log{\\left(a_{b}^{\\frac{1}{\\log{\\left(j_{b} \\right)} - \\log{\\left(j_{b} + 1 \\right)}}} \\left(b_{b} w_{b} + v_{b} w_{b}\\right)^{- \\frac{1}{\\log{\\left(j_{b} \\right)} - \\log{\\left(j_{b} + 1 \\right)}}} \\right)}}} \\left(j_{b} + 1\\right)^{- a_{b} \\left(j_{b} + 1\\right)^{\\log{\\left(a_{b}^{\\frac{1}{\\log{\\left(j_{b} \\right)} - \\log{\\left(j_{b} + 1 \\right)}}} \\left(b_{b} w_{b} + v_{b} w_{b}\\right)^{- \\frac{1}{\\log{\\left(j_{b} \\right)} - \\log{\\left(j_{b} + 1 \\right)}}} \\right)}}} \\right)}, \\  - \\frac{\\Delta_{s} w_{b}}{I_{max}^{2} - 2 I_{max} b_{b} w_{b} - 2 I_{max} v_{b} w_{b} + b_{b}^{2} w_{b}^{2} + 2 b_{b} v_{b} w_{b}^{2} + v_{b}^{2} w_{b}^{2}}, \\  - \\frac{\\Delta_{s}}{min_{b}^{2}}, \\  \\frac{\\Delta_{s}}{b_{b}^{2}}\\right)$"
      ],
      "text/plain": [
       "(log((a_b/(w_b*(b_b + v_b)))**(1/(log(j_b) - log(j_b + 1)))), -I_max + 3*b_b*w_b + min_b*w_b + 2*v_b*w_b, -I_max/w_b + 2*b_b + min_b + v_b, Delta_s*w_b**2/(I_max**2 - 2*I_max*b_b*w_b - 2*I_max*v_b*w_b + b_b**2*w_b**2 + 2*b_b*v_b*w_b**2 + v_b**2*w_b**2), mu^b_2, mu^b_2 + mu^b_2*log(j_b**(a_b*(j_b + 1)**log(a_b**(1/(log(j_b) - log(j_b + 1)))/(b_b*w_b + v_b*w_b)**(1/(log(j_b) - log(j_b + 1)))))/(j_b + 1)**(a_b*(j_b + 1)**log(a_b**(1/(log(j_b) - log(j_b + 1)))/(b_b*w_b + v_b*w_b)**(1/(log(j_b) - log(j_b + 1))))))/j_b**log(a_b**(1/(log(j_b) - log(j_b + 1)))/(b_b*w_b + v_b*w_b)**(1/(log(j_b) - log(j_b + 1)))), -Delta_s*w_b/(I_max**2 - 2*I_max*b_b*w_b - 2*I_max*v_b*w_b + b_b**2*w_b**2 + 2*b_b*v_b*w_b**2 + v_b**2*w_b**2), -Delta_s/min_b**2, Delta_s/b_b**2)"
      ]
     },
     "metadata": {},
     "output_type": "display_data"
    }
   ],
   "source": [
    "for solution in solutions_b:\n",
    "    display(solution)"
   ]
  },
  {
   "cell_type": "code",
   "execution_count": 33,
   "metadata": {},
   "outputs": [
    {
     "data": {
      "text/plain": [
       "8"
      ]
     },
     "execution_count": 33,
     "metadata": {},
     "output_type": "execute_result"
    }
   ],
   "source": [
    "solutions_s = nonlinsolve(equations_s, vars_s);\n",
    "len(solutions_s);"
   ]
  },
  {
   "cell_type": "code",
   "execution_count": 34,
   "metadata": {},
   "outputs": [
    {
     "data": {
      "text/plain": [
       "8"
      ]
     },
     "execution_count": 34,
     "metadata": {},
     "output_type": "execute_result"
    }
   ],
   "source": [
    "solutions_s = [solution for solution in solutions_s if verify_inequality_constraints(solution, vars_s, gs_s)]\n",
    "len(solutions_s)"
   ]
  },
  {
   "cell_type": "code",
   "execution_count": 35,
   "metadata": {},
   "outputs": [
    {
     "data": {
      "text/plain": [
       "[e_s,\n",
       " s_s,\n",
       " Delta_s,\n",
       " mu^s_1,\n",
       " mu^s_2,\n",
       " lambda^s_1,\n",
       " lambda^s_2,\n",
       " lambda^s_3,\n",
       " lambda^s_4]"
      ]
     },
     "execution_count": 35,
     "metadata": {},
     "output_type": "execute_result"
    }
   ],
   "source": [
    "vars_s;"
   ]
  },
  {
   "cell_type": "code",
   "execution_count": 36,
   "metadata": {},
   "outputs": [
    {
     "data": {
      "text/latex": [
       "$\\displaystyle \\left( e_{s}, \\  w_{s} \\left(b_{s} + min_{s} + v_{s}\\right), \\  min_{s}, \\  0, \\  0, \\  0, \\  0, \\  \\frac{1}{\\Delta_{b}}, \\  0\\right)$"
      ],
      "text/plain": [
       "(e_s, w_s*(b_s + min_s + v_s), min_s, 0, 0, 0, 0, 1/Delta_b, 0)"
      ]
     },
     "metadata": {},
     "output_type": "display_data"
    },
    {
     "data": {
      "text/latex": [
       "$\\displaystyle \\left( e_{s}, \\  w_{s} \\left(b_{s} + max_{s} + v_{s}\\right), \\  max_{s}, \\  0, \\  0, \\  0, \\  0, \\  0, \\  - \\frac{1}{\\Delta_{b}}\\right)$"
      ],
      "text/plain": [
       "(e_s, w_s*(b_s + max_s + v_s), max_s, 0, 0, 0, 0, 0, -1/Delta_b)"
      ]
     },
     "metadata": {},
     "output_type": "display_data"
    },
    {
     "data": {
      "text/latex": [
       "$\\displaystyle \\left( e_{s}, \\  I_{max}, \\  \\frac{I_{max}}{w_{s}} - b_{s} - v_{s}, \\  \\frac{1}{\\Delta_{b}}, \\  0, \\  0, \\  - \\frac{1}{\\Delta_{b} w_{s}}, \\  0, \\  0\\right)$"
      ],
      "text/plain": [
       "(e_s, I_max, I_max/w_s - b_s - v_s, 1/Delta_b, 0, 0, -1/(Delta_b*w_s), 0, 0)"
      ]
     },
     "metadata": {},
     "output_type": "display_data"
    },
    {
     "data": {
      "text/latex": [
       "$\\displaystyle \\left( e_{s}, \\  s_{s}, \\  - b_{s} + \\frac{s_{s}}{w_{s}} - v_{s}, \\  \\mu^{s}_{1}, \\  0, \\  0, \\  - \\frac{\\mu^{s}_{1}}{w_{s}}, \\  \\frac{\\Delta_{b} I_{max} \\mu^{s}_{1} - \\Delta_{b} b_{s} \\mu^{s}_{1} w_{s} - \\Delta_{b} max_{s} \\mu^{s}_{1} w_{s} - \\Delta_{b} \\mu^{s}_{1} v_{s} w_{s} + b_{s} w_{s} + max_{s} w_{s} - s_{s} + v_{s} w_{s}}{\\Delta_{b} w_{s} \\left(max_{s} - min_{s}\\right)}, \\  \\frac{\\Delta_{b} I_{max} \\mu^{s}_{1} - \\Delta_{b} b_{s} \\mu^{s}_{1} w_{s} - \\Delta_{b} min_{s} \\mu^{s}_{1} w_{s} - \\Delta_{b} \\mu^{s}_{1} v_{s} w_{s} + b_{s} w_{s} + min_{s} w_{s} - s_{s} + v_{s} w_{s}}{\\Delta_{b} w_{s} \\left(max_{s} - min_{s}\\right)}\\right)$"
      ],
      "text/plain": [
       "(e_s, s_s, -b_s + s_s/w_s - v_s, mu^s_1, 0, 0, -mu^s_1/w_s, (Delta_b*I_max*mu^s_1 - Delta_b*b_s*mu^s_1*w_s - Delta_b*max_s*mu^s_1*w_s - Delta_b*mu^s_1*v_s*w_s + b_s*w_s + max_s*w_s - s_s + v_s*w_s)/(Delta_b*w_s*(max_s - min_s)), (Delta_b*I_max*mu^s_1 - Delta_b*b_s*mu^s_1*w_s - Delta_b*min_s*mu^s_1*w_s - Delta_b*mu^s_1*v_s*w_s + b_s*w_s + min_s*w_s - s_s + v_s*w_s)/(Delta_b*w_s*(max_s - min_s)))"
      ]
     },
     "metadata": {},
     "output_type": "display_data"
    },
    {
     "data": {
      "text/latex": [
       "$\\displaystyle \\left( \\log{\\left(\\left(\\frac{a_{s}}{w_{s} \\left(b_{s} + v_{s}\\right)}\\right)^{\\frac{1}{\\log{\\left(j_{s} \\right)} - \\log{\\left(j_{s} + 1 \\right)}}} \\right)}, \\  w_{s} \\left(b_{s} + min_{s} + v_{s}\\right), \\  min_{s}, \\  0, \\  \\mu^{s}_{2}, \\  - \\mu^{s}_{2} - j_{s}^{- \\log{\\left(a_{s}^{\\frac{1}{\\log{\\left(j_{s} \\right)} - \\log{\\left(j_{s} + 1 \\right)}}} \\left(b_{s} w_{s} + v_{s} w_{s}\\right)^{- \\frac{1}{\\log{\\left(j_{s} \\right)} - \\log{\\left(j_{s} + 1 \\right)}}} \\right)}} \\mu^{s}_{2} \\log{\\left(j_{s}^{a_{s} \\left(j_{s} + 1\\right)^{\\log{\\left(a_{s}^{\\frac{1}{\\log{\\left(j_{s} \\right)} - \\log{\\left(j_{s} + 1 \\right)}}} \\left(b_{s} w_{s} + v_{s} w_{s}\\right)^{- \\frac{1}{\\log{\\left(j_{s} \\right)} - \\log{\\left(j_{s} + 1 \\right)}}} \\right)}}} \\left(j_{s} + 1\\right)^{- a_{s} \\left(j_{s} + 1\\right)^{\\log{\\left(a_{s}^{\\frac{1}{\\log{\\left(j_{s} \\right)} - \\log{\\left(j_{s} + 1 \\right)}}} \\left(b_{s} w_{s} + v_{s} w_{s}\\right)^{- \\frac{1}{\\log{\\left(j_{s} \\right)} - \\log{\\left(j_{s} + 1 \\right)}}} \\right)}}} \\right)}, \\  0, \\  \\frac{1}{\\Delta_{b}}, \\  0\\right)$"
      ],
      "text/plain": [
       "(log((a_s/(w_s*(b_s + v_s)))**(1/(log(j_s) - log(j_s + 1)))), w_s*(b_s + min_s + v_s), min_s, 0, mu^s_2, -mu^s_2 - mu^s_2*log(j_s**(a_s*(j_s + 1)**log(a_s**(1/(log(j_s) - log(j_s + 1)))/(b_s*w_s + v_s*w_s)**(1/(log(j_s) - log(j_s + 1)))))/(j_s + 1)**(a_s*(j_s + 1)**log(a_s**(1/(log(j_s) - log(j_s + 1)))/(b_s*w_s + v_s*w_s)**(1/(log(j_s) - log(j_s + 1))))))/j_s**log(a_s**(1/(log(j_s) - log(j_s + 1)))/(b_s*w_s + v_s*w_s)**(1/(log(j_s) - log(j_s + 1)))), 0, 1/Delta_b, 0)"
      ]
     },
     "metadata": {},
     "output_type": "display_data"
    },
    {
     "data": {
      "text/latex": [
       "$\\displaystyle \\left( \\log{\\left(\\left(\\frac{a_{s}}{w_{s} \\left(b_{s} + v_{s}\\right)}\\right)^{\\frac{1}{\\log{\\left(j_{s} \\right)} - \\log{\\left(j_{s} + 1 \\right)}}} \\right)}, \\  w_{s} \\left(b_{s} + max_{s} + v_{s}\\right), \\  max_{s}, \\  0, \\  \\mu^{s}_{2}, \\  - \\mu^{s}_{2} - j_{s}^{- \\log{\\left(a_{s}^{\\frac{1}{\\log{\\left(j_{s} \\right)} - \\log{\\left(j_{s} + 1 \\right)}}} \\left(b_{s} w_{s} + v_{s} w_{s}\\right)^{- \\frac{1}{\\log{\\left(j_{s} \\right)} - \\log{\\left(j_{s} + 1 \\right)}}} \\right)}} \\mu^{s}_{2} \\log{\\left(j_{s}^{a_{s} \\left(j_{s} + 1\\right)^{\\log{\\left(a_{s}^{\\frac{1}{\\log{\\left(j_{s} \\right)} - \\log{\\left(j_{s} + 1 \\right)}}} \\left(b_{s} w_{s} + v_{s} w_{s}\\right)^{- \\frac{1}{\\log{\\left(j_{s} \\right)} - \\log{\\left(j_{s} + 1 \\right)}}} \\right)}}} \\left(j_{s} + 1\\right)^{- a_{s} \\left(j_{s} + 1\\right)^{\\log{\\left(a_{s}^{\\frac{1}{\\log{\\left(j_{s} \\right)} - \\log{\\left(j_{s} + 1 \\right)}}} \\left(b_{s} w_{s} + v_{s} w_{s}\\right)^{- \\frac{1}{\\log{\\left(j_{s} \\right)} - \\log{\\left(j_{s} + 1 \\right)}}} \\right)}}} \\right)}, \\  0, \\  0, \\  - \\frac{1}{\\Delta_{b}}\\right)$"
      ],
      "text/plain": [
       "(log((a_s/(w_s*(b_s + v_s)))**(1/(log(j_s) - log(j_s + 1)))), w_s*(b_s + max_s + v_s), max_s, 0, mu^s_2, -mu^s_2 - mu^s_2*log(j_s**(a_s*(j_s + 1)**log(a_s**(1/(log(j_s) - log(j_s + 1)))/(b_s*w_s + v_s*w_s)**(1/(log(j_s) - log(j_s + 1)))))/(j_s + 1)**(a_s*(j_s + 1)**log(a_s**(1/(log(j_s) - log(j_s + 1)))/(b_s*w_s + v_s*w_s)**(1/(log(j_s) - log(j_s + 1))))))/j_s**log(a_s**(1/(log(j_s) - log(j_s + 1)))/(b_s*w_s + v_s*w_s)**(1/(log(j_s) - log(j_s + 1)))), 0, 0, -1/Delta_b)"
      ]
     },
     "metadata": {},
     "output_type": "display_data"
    },
    {
     "data": {
      "text/latex": [
       "$\\displaystyle \\left( \\log{\\left(\\left(\\frac{a_{s}}{w_{s} \\left(b_{s} + v_{s}\\right)}\\right)^{\\frac{1}{\\log{\\left(j_{s} \\right)} - \\log{\\left(j_{s} + 1 \\right)}}} \\right)}, \\  I_{max}, \\  \\frac{I_{max}}{w_{s}} - b_{s} - v_{s}, \\  \\frac{1}{\\Delta_{b}}, \\  \\mu^{s}_{2}, \\  - \\mu^{s}_{2} - j_{s}^{- \\log{\\left(a_{s}^{\\frac{1}{\\log{\\left(j_{s} \\right)} - \\log{\\left(j_{s} + 1 \\right)}}} \\left(b_{s} w_{s} + v_{s} w_{s}\\right)^{- \\frac{1}{\\log{\\left(j_{s} \\right)} - \\log{\\left(j_{s} + 1 \\right)}}} \\right)}} \\mu^{s}_{2} \\log{\\left(j_{s}^{a_{s} \\left(j_{s} + 1\\right)^{\\log{\\left(a_{s}^{\\frac{1}{\\log{\\left(j_{s} \\right)} - \\log{\\left(j_{s} + 1 \\right)}}} \\left(b_{s} w_{s} + v_{s} w_{s}\\right)^{- \\frac{1}{\\log{\\left(j_{s} \\right)} - \\log{\\left(j_{s} + 1 \\right)}}} \\right)}}} \\left(j_{s} + 1\\right)^{- a_{s} \\left(j_{s} + 1\\right)^{\\log{\\left(a_{s}^{\\frac{1}{\\log{\\left(j_{s} \\right)} - \\log{\\left(j_{s} + 1 \\right)}}} \\left(b_{s} w_{s} + v_{s} w_{s}\\right)^{- \\frac{1}{\\log{\\left(j_{s} \\right)} - \\log{\\left(j_{s} + 1 \\right)}}} \\right)}}} \\right)}, \\  - \\frac{1}{\\Delta_{b} w_{s}}, \\  0, \\  0\\right)$"
      ],
      "text/plain": [
       "(log((a_s/(w_s*(b_s + v_s)))**(1/(log(j_s) - log(j_s + 1)))), I_max, I_max/w_s - b_s - v_s, 1/Delta_b, mu^s_2, -mu^s_2 - mu^s_2*log(j_s**(a_s*(j_s + 1)**log(a_s**(1/(log(j_s) - log(j_s + 1)))/(b_s*w_s + v_s*w_s)**(1/(log(j_s) - log(j_s + 1)))))/(j_s + 1)**(a_s*(j_s + 1)**log(a_s**(1/(log(j_s) - log(j_s + 1)))/(b_s*w_s + v_s*w_s)**(1/(log(j_s) - log(j_s + 1))))))/j_s**log(a_s**(1/(log(j_s) - log(j_s + 1)))/(b_s*w_s + v_s*w_s)**(1/(log(j_s) - log(j_s + 1)))), -1/(Delta_b*w_s), 0, 0)"
      ]
     },
     "metadata": {},
     "output_type": "display_data"
    },
    {
     "data": {
      "text/latex": [
       "$\\displaystyle \\left( \\log{\\left(\\left(\\frac{a_{s}}{w_{s} \\left(b_{s} + v_{s}\\right)}\\right)^{\\frac{1}{\\log{\\left(j_{s} \\right)} - \\log{\\left(j_{s} + 1 \\right)}}} \\right)}, \\  s_{s}, \\  - b_{s} + \\frac{s_{s}}{w_{s}} - v_{s}, \\  \\mu^{s}_{1}, \\  \\mu^{s}_{2}, \\  - \\mu^{s}_{2} - j_{s}^{- \\log{\\left(a_{s}^{\\frac{1}{\\log{\\left(j_{s} \\right)} - \\log{\\left(j_{s} + 1 \\right)}}} \\left(b_{s} w_{s} + v_{s} w_{s}\\right)^{- \\frac{1}{\\log{\\left(j_{s} \\right)} - \\log{\\left(j_{s} + 1 \\right)}}} \\right)}} \\mu^{s}_{2} \\log{\\left(j_{s}^{a_{s} \\left(j_{s} + 1\\right)^{\\log{\\left(a_{s}^{\\frac{1}{\\log{\\left(j_{s} \\right)} - \\log{\\left(j_{s} + 1 \\right)}}} \\left(b_{s} w_{s} + v_{s} w_{s}\\right)^{- \\frac{1}{\\log{\\left(j_{s} \\right)} - \\log{\\left(j_{s} + 1 \\right)}}} \\right)}}} \\left(j_{s} + 1\\right)^{- a_{s} \\left(j_{s} + 1\\right)^{\\log{\\left(a_{s}^{\\frac{1}{\\log{\\left(j_{s} \\right)} - \\log{\\left(j_{s} + 1 \\right)}}} \\left(b_{s} w_{s} + v_{s} w_{s}\\right)^{- \\frac{1}{\\log{\\left(j_{s} \\right)} - \\log{\\left(j_{s} + 1 \\right)}}} \\right)}}} \\right)}, \\  - \\frac{\\mu^{s}_{1}}{w_{s}}, \\  \\frac{\\Delta_{b} I_{max} \\mu^{s}_{1} - \\Delta_{b} b_{s} \\mu^{s}_{1} w_{s} - \\Delta_{b} max_{s} \\mu^{s}_{1} w_{s} - \\Delta_{b} \\mu^{s}_{1} v_{s} w_{s} + b_{s} w_{s} + max_{s} w_{s} - s_{s} + v_{s} w_{s}}{\\Delta_{b} w_{s} \\left(max_{s} - min_{s}\\right)}, \\  \\frac{\\Delta_{b} I_{max} \\mu^{s}_{1} - \\Delta_{b} b_{s} \\mu^{s}_{1} w_{s} - \\Delta_{b} min_{s} \\mu^{s}_{1} w_{s} - \\Delta_{b} \\mu^{s}_{1} v_{s} w_{s} + b_{s} w_{s} + min_{s} w_{s} - s_{s} + v_{s} w_{s}}{\\Delta_{b} w_{s} \\left(max_{s} - min_{s}\\right)}\\right)$"
      ],
      "text/plain": [
       "(log((a_s/(w_s*(b_s + v_s)))**(1/(log(j_s) - log(j_s + 1)))), s_s, -b_s + s_s/w_s - v_s, mu^s_1, mu^s_2, -mu^s_2 - mu^s_2*log(j_s**(a_s*(j_s + 1)**log(a_s**(1/(log(j_s) - log(j_s + 1)))/(b_s*w_s + v_s*w_s)**(1/(log(j_s) - log(j_s + 1)))))/(j_s + 1)**(a_s*(j_s + 1)**log(a_s**(1/(log(j_s) - log(j_s + 1)))/(b_s*w_s + v_s*w_s)**(1/(log(j_s) - log(j_s + 1))))))/j_s**log(a_s**(1/(log(j_s) - log(j_s + 1)))/(b_s*w_s + v_s*w_s)**(1/(log(j_s) - log(j_s + 1)))), -mu^s_1/w_s, (Delta_b*I_max*mu^s_1 - Delta_b*b_s*mu^s_1*w_s - Delta_b*max_s*mu^s_1*w_s - Delta_b*mu^s_1*v_s*w_s + b_s*w_s + max_s*w_s - s_s + v_s*w_s)/(Delta_b*w_s*(max_s - min_s)), (Delta_b*I_max*mu^s_1 - Delta_b*b_s*mu^s_1*w_s - Delta_b*min_s*mu^s_1*w_s - Delta_b*mu^s_1*v_s*w_s + b_s*w_s + min_s*w_s - s_s + v_s*w_s)/(Delta_b*w_s*(max_s - min_s)))"
      ]
     },
     "metadata": {},
     "output_type": "display_data"
    }
   ],
   "source": [
    "for solution in solutions_s:\n",
    "    display(solution)"
   ]
  },
  {
   "cell_type": "markdown",
   "metadata": {},
   "source": [
    "### with both assets:"
   ]
  },
  {
   "cell_type": "code",
   "execution_count": 37,
   "metadata": {},
   "outputs": [
    {
     "data": {
      "text/latex": [
       "$\\displaystyle \\Delta_{b} + b_{b} - \\frac{s_{b}}{w_{b}} + v_{b} = 0$"
      ],
      "text/plain": [
       "Eq(Delta_b + b_b - s_b/w_b + v_b, 0)"
      ]
     },
     "metadata": {},
     "output_type": "display_data"
    },
    {
     "data": {
      "text/latex": [
       "$\\displaystyle a_{b} j_{b}^{- e_{b}} \\left(j_{b} + 1\\right)^{e_{b}} - e_{b} = 0$"
      ],
      "text/plain": [
       "Eq(a_b*(j_b + 1)**e_b/j_b**e_b - e_b, 0)"
      ]
     },
     "metadata": {},
     "output_type": "display_data"
    },
    {
     "data": {
      "text/latex": [
       "$\\displaystyle \\Delta_{s} + b_{s} - \\frac{s_{s}}{w_{s}} + v_{s} = 0$"
      ],
      "text/plain": [
       "Eq(Delta_s + b_s - s_s/w_s + v_s, 0)"
      ]
     },
     "metadata": {},
     "output_type": "display_data"
    },
    {
     "data": {
      "text/latex": [
       "$\\displaystyle a_{s} j_{s}^{- e_{s}} \\left(j_{s} + 1\\right)^{e_{s}} - e_{s} = 0$"
      ],
      "text/plain": [
       "Eq(a_s*(j_s + 1)**e_s/j_s**e_s - e_s, 0)"
      ]
     },
     "metadata": {},
     "output_type": "display_data"
    }
   ],
   "source": [
    "primal_equations = primal_b + primal_s\n",
    "primal_vars = mus_b + mus_s\n",
    "for equation in primal_equations:\n",
    "  display(equation)"
   ]
  },
  {
   "cell_type": "code",
   "execution_count": 38,
   "metadata": {},
   "outputs": [
    {
     "data": {
      "text/plain": [
       "[mu^b_1, mu^b_2, mu^s_1, mu^s_2]"
      ]
     },
     "execution_count": 38,
     "metadata": {},
     "output_type": "execute_result"
    }
   ],
   "source": [
    "primal_vars;"
   ]
  },
  {
   "cell_type": "code",
   "execution_count": 39,
   "metadata": {},
   "outputs": [
    {
     "data": {
      "text/latex": [
       "$\\displaystyle \\lambda^{b}_{1} \\left(e_{b} - \\log{\\left(a_{b}^{- \\frac{1}{\\log{\\left(\\frac{j_{b} + 1}{j_{b}} \\right)}}} \\left(w_{b} \\left(b_{b} + v_{b}\\right)\\right)^{\\frac{1}{\\log{\\left(\\frac{j_{b} + 1}{j_{b}} \\right)}}} \\right)}\\right) = 0$"
      ],
      "text/plain": [
       "Eq(lambda^b_1*(e_b - log((w_b*(b_b + v_b))**(1/log((j_b + 1)/j_b))/a_b**(1/log((j_b + 1)/j_b)))), 0)"
      ]
     },
     "metadata": {},
     "output_type": "display_data"
    },
    {
     "data": {
      "text/latex": [
       "$\\displaystyle \\lambda^{b}_{2} \\left(- I_{max} + s_{b}\\right) = 0$"
      ],
      "text/plain": [
       "Eq(lambda^b_2*(-I_max + s_b), 0)"
      ]
     },
     "metadata": {},
     "output_type": "display_data"
    },
    {
     "data": {
      "text/latex": [
       "$\\displaystyle \\lambda^{b}_{3} \\left(- \\Delta_{b} + min_{b}\\right) = 0$"
      ],
      "text/plain": [
       "Eq(lambda^b_3*(-Delta_b + min_b), 0)"
      ]
     },
     "metadata": {},
     "output_type": "display_data"
    },
    {
     "data": {
      "text/latex": [
       "$\\displaystyle \\lambda^{b}_{4} \\left(\\Delta_{b} - b_{b}\\right) = 0$"
      ],
      "text/plain": [
       "Eq(lambda^b_4*(Delta_b - b_b), 0)"
      ]
     },
     "metadata": {},
     "output_type": "display_data"
    },
    {
     "data": {
      "text/latex": [
       "$\\displaystyle \\lambda^{s}_{1} \\left(e_{s} - \\log{\\left(a_{s}^{- \\frac{1}{\\log{\\left(\\frac{j_{s} + 1}{j_{s}} \\right)}}} \\left(w_{s} \\left(b_{s} + v_{s}\\right)\\right)^{\\frac{1}{\\log{\\left(\\frac{j_{s} + 1}{j_{s}} \\right)}}} \\right)}\\right) = 0$"
      ],
      "text/plain": [
       "Eq(lambda^s_1*(e_s - log((w_s*(b_s + v_s))**(1/log((j_s + 1)/j_s))/a_s**(1/log((j_s + 1)/j_s)))), 0)"
      ]
     },
     "metadata": {},
     "output_type": "display_data"
    },
    {
     "data": {
      "text/latex": [
       "$\\displaystyle \\lambda^{s}_{2} \\left(- I_{max} + s_{s}\\right) = 0$"
      ],
      "text/plain": [
       "Eq(lambda^s_2*(-I_max + s_s), 0)"
      ]
     },
     "metadata": {},
     "output_type": "display_data"
    },
    {
     "data": {
      "text/latex": [
       "$\\displaystyle \\lambda^{s}_{3} \\left(- \\Delta_{s} + min_{s}\\right) = 0$"
      ],
      "text/plain": [
       "Eq(lambda^s_3*(-Delta_s + min_s), 0)"
      ]
     },
     "metadata": {},
     "output_type": "display_data"
    },
    {
     "data": {
      "text/latex": [
       "$\\displaystyle \\lambda^{s}_{4} \\left(\\Delta_{s} - max_{s}\\right) = 0$"
      ],
      "text/plain": [
       "Eq(lambda^s_4*(Delta_s - max_s), 0)"
      ]
     },
     "metadata": {},
     "output_type": "display_data"
    }
   ],
   "source": [
    "slack_equations = slack_b + slack_s\n",
    "slack_vars = lambdas_b + lambdas_s\n",
    "for equation in slack_equations:\n",
    "  display(equation)"
   ]
  },
  {
   "cell_type": "code",
   "execution_count": 40,
   "metadata": {},
   "outputs": [
    {
     "data": {
      "text/latex": [
       "$\\displaystyle \\lambda_{1} \\left(\\Delta_{b} s_{s} - \\Delta_{s} s_{b}\\right) = 0$"
      ],
      "text/plain": [
       "Eq(lambda_1*(Delta_b*s_s - Delta_s*s_b), 0)"
      ]
     },
     "metadata": {},
     "output_type": "display_data"
    },
    {
     "data": {
      "text/latex": [
       "$\\displaystyle \\lambda_{2} \\left(- m_{max} + \\left\\lceil{\\frac{\\log{\\left(e_{b} \\right)}}{\\log{\\left(2 \\right)}}}\\right\\rceil + \\left\\lceil{\\frac{\\log{\\left(e_{s} \\right)}}{\\log{\\left(2 \\right)}}}\\right\\rceil\\right) = 0$"
      ],
      "text/plain": [
       "Eq(lambda_2*(-m_max + ceiling(log(e_b)/log(2)) + ceiling(log(e_s)/log(2))), 0)"
      ]
     },
     "metadata": {},
     "output_type": "display_data"
    }
   ],
   "source": [
    "gs = [ # inequality-constraints which involve both assets\n",
    "  a0Bound,\n",
    "  optimisticMultsBound,\n",
    "]\n",
    "lambdas = symbols('lambda_1:{}'.format(len(gs)+1), nonnegative=True)\n",
    "for lambda_, g in zip(lambdas, gs):\n",
    "    equation = Eq(lambda_ * g, 0)\n",
    "    if simp:\n",
    "        equation = simplify(equation)\n",
    "    display(equation)\n",
    "    slack_equations.append(equation)\n",
    "    slack_vars.append(lambda_)\n"
   ]
  },
  {
   "cell_type": "code",
   "execution_count": 41,
   "metadata": {},
   "outputs": [
    {
     "data": {
      "text/plain": [
       "[lambda^b_1,\n",
       " lambda^b_2,\n",
       " lambda^b_3,\n",
       " lambda^b_4,\n",
       " lambda^s_1,\n",
       " lambda^s_2,\n",
       " lambda^s_3,\n",
       " lambda^s_4,\n",
       " lambda_1,\n",
       " lambda_2]"
      ]
     },
     "execution_count": 41,
     "metadata": {},
     "output_type": "execute_result"
    }
   ],
   "source": [
    "slack_vars;"
   ]
  },
  {
   "cell_type": "code",
   "execution_count": 42,
   "metadata": {},
   "outputs": [
    {
     "data": {
      "text/latex": [
       "$\\displaystyle \\frac{j_{b}^{- e_{b}} \\left(j_{b}^{e_{b}} \\lambda_{2} \\left. \\frac{d}{d \\xi_{1}} \\left\\lceil{\\xi_{1}}\\right\\rceil \\right|_{\\substack{ \\xi_{1}=\\frac{\\log{\\left(e_{b} \\right)}}{\\log{\\left(2 \\right)}} }} - \\mu^{b}_{2} \\log{\\left(2^{e_{b} \\left(j_{b}^{e_{b}} + \\log{\\left(j_{b}^{a_{b} \\left(j_{b} + 1\\right)^{e_{b}}} \\left(j_{b} + 1\\right)^{- a_{b} \\left(j_{b} + 1\\right)^{e_{b}}} \\right)}\\right)} \\right)} + \\log{\\left(2^{e_{b} j_{b}^{e_{b}} \\lambda^{b}_{1}} \\right)}\\right)}{e_{b} \\log{\\left(2 \\right)}} = 0$"
      ],
      "text/plain": [
       "Eq((j_b**e_b*lambda_2*Subs(Derivative(ceiling(_xi_1), _xi_1), _xi_1, log(e_b)/log(2)) - mu^b_2*log(2**(e_b*(j_b**e_b + log(j_b**(a_b*(j_b + 1)**e_b)/(j_b + 1)**(a_b*(j_b + 1)**e_b))))) + log(2**(e_b*j_b**e_b*lambda^b_1)))/(e_b*j_b**e_b*log(2)), 0)"
      ]
     },
     "metadata": {},
     "output_type": "display_data"
    },
    {
     "data": {
      "text/latex": [
       "$\\displaystyle - \\Delta_{s} \\lambda_{1} + \\lambda^{b}_{2} + \\frac{\\mu^{b}_{1}}{w_{b}} = 0$"
      ],
      "text/plain": [
       "Eq(-Delta_s*lambda_1 + lambda^b_2 + mu^b_1/w_b, 0)"
      ]
     },
     "metadata": {},
     "output_type": "display_data"
    },
    {
     "data": {
      "text/latex": [
       "$\\displaystyle - \\lambda^{b}_{3} + \\lambda^{b}_{4} + \\lambda_{1} s_{s} - \\mu^{b}_{1} - \\frac{\\Delta_{s}}{\\Delta_{b}^{2}} = 0$"
      ],
      "text/plain": [
       "Eq(-lambda^b_3 + lambda^b_4 + lambda_1*s_s - mu^b_1 - Delta_s/Delta_b**2, 0)"
      ]
     },
     "metadata": {},
     "output_type": "display_data"
    },
    {
     "data": {
      "text/latex": [
       "$\\displaystyle \\frac{j_{s}^{- e_{s}} \\left(j_{s}^{e_{s}} \\lambda_{2} \\left. \\frac{d}{d \\xi_{1}} \\left\\lceil{\\xi_{1}}\\right\\rceil \\right|_{\\substack{ \\xi_{1}=\\frac{\\log{\\left(e_{s} \\right)}}{\\log{\\left(2 \\right)}} }} - \\mu^{s}_{2} \\log{\\left(2^{e_{s} \\left(j_{s}^{e_{s}} + \\log{\\left(j_{s}^{a_{s} \\left(j_{s} + 1\\right)^{e_{s}}} \\left(j_{s} + 1\\right)^{- a_{s} \\left(j_{s} + 1\\right)^{e_{s}}} \\right)}\\right)} \\right)} - \\log{\\left(2^{e_{s} j_{s}^{e_{s}} \\lambda^{s}_{1}} \\right)}\\right)}{e_{s} \\log{\\left(2 \\right)}} = 0$"
      ],
      "text/plain": [
       "Eq((j_s**e_s*lambda_2*Subs(Derivative(ceiling(_xi_1), _xi_1), _xi_1, log(e_s)/log(2)) - mu^s_2*log(2**(e_s*(j_s**e_s + log(j_s**(a_s*(j_s + 1)**e_s)/(j_s + 1)**(a_s*(j_s + 1)**e_s))))) - log(2**(e_s*j_s**e_s*lambda^s_1)))/(e_s*j_s**e_s*log(2)), 0)"
      ]
     },
     "metadata": {},
     "output_type": "display_data"
    },
    {
     "data": {
      "text/latex": [
       "$\\displaystyle \\Delta_{b} \\lambda_{1} + \\lambda^{s}_{2} + \\frac{\\mu^{s}_{1}}{w_{s}} = 0$"
      ],
      "text/plain": [
       "Eq(Delta_b*lambda_1 + lambda^s_2 + mu^s_1/w_s, 0)"
      ]
     },
     "metadata": {},
     "output_type": "display_data"
    },
    {
     "data": {
      "text/latex": [
       "$\\displaystyle - \\lambda^{s}_{3} + \\lambda^{s}_{4} - \\lambda_{1} s_{b} - \\mu^{s}_{1} + \\frac{1}{\\Delta_{b}} = 0$"
      ],
      "text/plain": [
       "Eq(-lambda^s_3 + lambda^s_4 - lambda_1*s_b - mu^s_1 + 1/Delta_b, 0)"
      ]
     },
     "metadata": {},
     "output_type": "display_data"
    }
   ],
   "source": [
    "# Objective function\n",
    "f = eff\n",
    "\n",
    "diff_equations = []\n",
    "diff_vars = xs_b + xs_s\n",
    "\n",
    "# Lagrangian\n",
    "L = f\\\n",
    "    + sum([mu * h for mu, h in zip(hs_b + hs_s, mus_b + mus_s)])\\\n",
    "    + sum([lambda_ * g for lambda_, g in zip(gs_b + gs_s + gs, lambdas_b + lambdas_s + list(lambdas))])\n",
    "\n",
    "for x in xs_b + xs_s:\n",
    "    dL_dx = custom_diff(L, x)\n",
    "    equation = Eq(dL_dx, 0)\n",
    "    # if simp: # results in error from the bestMultsAhead-constraint\n",
    "    #   equation = simplify(equation)\n",
    "    display(equation)\n",
    "    diff_equations.append(equation)"
   ]
  },
  {
   "cell_type": "code",
   "execution_count": 43,
   "metadata": {},
   "outputs": [
    {
     "data": {
      "text/plain": [
       "[e_b, s_b, Delta_b, e_s, s_s, Delta_s]"
      ]
     },
     "execution_count": 43,
     "metadata": {},
     "output_type": "execute_result"
    }
   ],
   "source": [
    "diff_vars;"
   ]
  },
  {
   "cell_type": "code",
   "execution_count": 44,
   "metadata": {},
   "outputs": [],
   "source": [
    "equations = diff_equations + primal_equations + slack_equations;\n",
    "vars = diff_vars + primal_vars + slack_vars;"
   ]
  },
  {
   "cell_type": "code",
   "execution_count": 45,
   "metadata": {},
   "outputs": [
    {
     "name": "stdout",
     "output_type": "stream",
     "text": [
      "0 of 8\n",
      "e_b = e_b, s_b = s_b, Delta_b = b_b, e_s = e_s, s_s = s_s, Delta_s = Delta_s, mu^b_2 = mu^b_2, mu^s_2 = mu^s_2, lambda_1 = 0, lambda_2 = 0\n",
      "1 of 8\n",
      "e_b = e_b, s_b = s_b, Delta_b = min_b, e_s = e_s, s_s = s_s, Delta_s = Delta_s, mu^b_2 = mu^b_2, mu^s_2 = mu^s_2, lambda_1 = 0, lambda_2 = 0\n",
      "2 of 8\n",
      "e_b = e_b, s_b = s_b, Delta_b = I_max/w_b - b_b - v_b, e_s = e_s, s_s = s_s, Delta_s = Delta_s, mu^b_2 = mu^b_2, mu^s_2 = mu^s_2, lambda_1 = 0, lambda_2 = 0\n",
      "3 of 8\n",
      "4 of 8\n",
      "5 of 8\n",
      "6 of 8\n",
      "7 of 8\n"
     ]
    }
   ],
   "source": [
    "final_solutions = []\n",
    "\n",
    "def print_solution(solution, vars):\n",
    "  strs = []\n",
    "  for var, expression in zip(vars, solution):\n",
    "    strs.append(f\"{var} = {expression}\")\n",
    "  print(\", \".join(strs))\n",
    "\n",
    "for i_b, solution_b in enumerate(solutions_b):\n",
    "  print(i_b, \"of\", len(solutions_b))\n",
    "  subs_dict_b = dict(zip(vars_b, list(solution_b)))\n",
    "  for i_s, solution_s in enumerate(solutions_s):\n",
    "    subs_dict_s = dict(zip(vars_s, list(solution_s)))\n",
    "    pair_equations = []\n",
    "    pair_vars = []\n",
    "    for equation, var in zip(equations, vars):\n",
    "      eq = equation.subs(subs_dict_b).subs(subs_dict_s)\n",
    "      # display(eq)\n",
    "      if simp:\n",
    "        eq = simplify(eq)\n",
    "      if eq != True:\n",
    "        novel = True\n",
    "        for eq_ in pair_equations:\n",
    "          if eq_ == eq:\n",
    "            novel = False\n",
    "            break\n",
    "        if novel:\n",
    "          pair_vars.append(var)\n",
    "          pair_equations.append(eq)\n",
    "    pair_solutions = nonlinsolve(pair_equations, pair_vars)\n",
    "    for found_solution in pair_solutions:\n",
    "      novel = True\n",
    "      for _, known_solution in final_solutions:\n",
    "        if known_solution == found_solution:\n",
    "          novel = False\n",
    "          break\n",
    "      if novel:\n",
    "        print_solution(found_solution, pair_vars)\n",
    "        final_solutions.append((pair_vars, found_solution))"
   ]
  },
  {
   "cell_type": "code",
   "execution_count": 46,
   "metadata": {},
   "outputs": [
    {
     "data": {
      "text/plain": [
       "3"
      ]
     },
     "execution_count": 46,
     "metadata": {},
     "output_type": "execute_result"
    }
   ],
   "source": [
    "final_solutions = [(vars, solution) for vars, solution in final_solutions if verify_inequality_constraints(solution, vars, gs_b + gs_s + gs)]\n",
    "len(final_solutions)"
   ]
  },
  {
   "cell_type": "code",
   "execution_count": 47,
   "metadata": {},
   "outputs": [
    {
     "data": {
      "text/latex": [
       "$\\displaystyle \\Delta_{b} = b_{b}$"
      ],
      "text/plain": [
       "Eq(Delta_b, b_b)"
      ]
     },
     "metadata": {},
     "output_type": "display_data"
    },
    {
     "data": {
      "text/latex": [
       "$\\displaystyle \\Delta_{b} = min_{b}$"
      ],
      "text/plain": [
       "Eq(Delta_b, min_b)"
      ]
     },
     "metadata": {},
     "output_type": "display_data"
    },
    {
     "data": {
      "text/latex": [
       "$\\displaystyle \\Delta_{b} = \\frac{I_{max}}{w_{b}} - b_{b} - v_{b}$"
      ],
      "text/plain": [
       "Eq(Delta_b, I_max/w_b - b_b - v_b)"
      ]
     },
     "metadata": {},
     "output_type": "display_data"
    }
   ],
   "source": [
    "def display_solution(solution, vars):\n",
    "  for var, expression in zip(vars, solution):\n",
    "    if var != expression and expression != 0:\n",
    "      display(Eq(var, expression))\n",
    "\n",
    "valid_assignments = []\n",
    "for solution in final_solutions:\n",
    "  valid = True\n",
    "  assignments = []\n",
    "  for var, expression in zip(solution[0], solution[1]):\n",
    "    if expression == 0:\n",
    "      if var in [s_b, s_s, Delta_b, Delta_s]:\n",
    "        valid = False\n",
    "        break\n",
    "      elif not var in [e_b, e_s]:\n",
    "        continue\n",
    "    if var != expression:\n",
    "      assignments.append(Eq(var, expression))\n",
    "  if not valid:\n",
    "    continue\n",
    "  if len(assignments) == 0:\n",
    "    continue\n",
    "  assert(len(assignments) == 1) # just an observation we are relying upon for this display\n",
    "  assignment = assignments[0]\n",
    "  if simp:\n",
    "    assignment = simplify(assignment)\n",
    "  if assignment in valid_assignments:\n",
    "    continue\n",
    "  valid_assignments.append(assignment)\n",
    "  # print(assignment)\n",
    "  display(assignment)"
   ]
  },
  {
   "cell_type": "code",
   "execution_count": null,
   "metadata": {},
   "outputs": [],
   "source": []
  }
 ],
 "metadata": {
  "kernelspec": {
   "display_name": "Python 3",
   "language": "python",
   "name": "python3"
  },
  "language_info": {
   "codemirror_mode": {
    "name": "ipython",
    "version": 3
   },
   "file_extension": ".py",
   "mimetype": "text/x-python",
   "name": "python",
   "nbconvert_exporter": "python",
   "pygments_lexer": "ipython3",
   "version": "3.9.16"
  }
 },
 "nbformat": 4,
 "nbformat_minor": 2
}
