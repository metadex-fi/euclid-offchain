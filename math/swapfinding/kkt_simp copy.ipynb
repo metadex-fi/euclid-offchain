{
 "cells": [
  {
   "cell_type": "code",
   "execution_count": 1,
   "metadata": {},
   "outputs": [],
   "source": [
    "from sympy import symbols, simplify, hessian, solveset, S, solve, log, And, Le, Ge, Eq, Lt, Gt, nonlinsolve, latex, log, Wild, expand_log, logcombine, evaluate,oo, limit\n",
    "from IPython.display import display, HTML, Math"
   ]
  },
  {
   "cell_type": "code",
   "execution_count": 2,
   "metadata": {},
   "outputs": [
    {
     "data": {
      "text/plain": [
       "{'b': dict_values([s_b, v_b, b_b, w_b, j_b, e_b, Delta_b, a_b, min_b]),\n",
       " 's': dict_values([s_s, v_s, b_s, w_s, j_s, e_s, Delta_s, a_s, min_s])}"
      ]
     },
     "execution_count": 2,
     "metadata": {},
     "output_type": "execute_result"
    }
   ],
   "source": [
    "assets = ['b', 's']  # buying and selling assets\n",
    "base_symbols = ['s', 'v', 'b', 'w', 'j', 'e', 'Delta', 'a', 'min'] \n",
    "# spot price, virtual liquidity, balance, weight, jump size, exponent, delta, anchor price, amm-price, jump-multiplier\n",
    "\n",
    "all_symbols = {}\n",
    "\n",
    "for asset in assets:\n",
    "    temp_dict = {}\n",
    "    for base in base_symbols:\n",
    "        var_name = f\"{base}_{asset}\"\n",
    "        if base == 'e':\n",
    "            symbol_obj = symbols(var_name, integer=True)\n",
    "        elif base == 'b':\n",
    "            symbol_obj = symbols(var_name, nonnegative=True, integer=True)\n",
    "        elif var_name == 'Delta_b':\n",
    "            symbol_obj = symbols(var_name, negative=True, integer=True)\n",
    "        else:\n",
    "            symbol_obj = symbols(var_name, positive=True, integer=True)\n",
    "        temp_dict[var_name] = symbol_obj\n",
    "        # Define the variable in the global namespace\n",
    "        globals()[var_name] = symbol_obj\n",
    "    all_symbols[asset] = temp_dict.values()\n",
    "all_symbols"
   ]
  },
  {
   "cell_type": "code",
   "execution_count": 3,
   "metadata": {},
   "outputs": [],
   "source": [
    "simp = True"
   ]
  },
  {
   "cell_type": "markdown",
   "metadata": {},
   "source": [
    "## Target function\n",
    "\n",
    "we want to minimize the effective price, given a set of exponents for the buying and selling asset each."
   ]
  },
  {
   "cell_type": "code",
   "execution_count": 4,
   "metadata": {},
   "outputs": [
    {
     "data": {
      "text/latex": [
       "$\\displaystyle - b_{b} + \\frac{s_{b}}{w_{b}} - v_{b}$"
      ],
      "text/plain": [
       "-b_b + s_b/w_b - v_b"
      ]
     },
     "execution_count": 4,
     "metadata": {},
     "output_type": "execute_result"
    }
   ],
   "source": [
    "# linear\n",
    "def deltaBySpot_(asset, s,v, b, w, j, e, Delta, a, min):\n",
    "  f = (s - (v + b) * w) / w\n",
    "  # if asset == 'b':\n",
    "  #   f = -f\n",
    "  if simp:\n",
    "    f = simplify(f)\n",
    "  return f\n",
    "\n",
    "deltaBySpot = {asset: deltaBySpot_(asset, *all_symbols[asset]) for asset in assets}\n",
    "deltaBySpot['b']"
   ]
  },
  {
   "cell_type": "code",
   "execution_count": 5,
   "metadata": {},
   "outputs": [
    {
     "data": {
      "text/latex": [
       "$\\displaystyle - b_{s} + \\frac{s_{s}}{w_{s}} - v_{s}$"
      ],
      "text/plain": [
       "-b_s + s_s/w_s - v_s"
      ]
     },
     "execution_count": 5,
     "metadata": {},
     "output_type": "execute_result"
    }
   ],
   "source": [
    "deltaBySpot['s']"
   ]
  },
  {
   "cell_type": "code",
   "execution_count": 6,
   "metadata": {},
   "outputs": [
    {
     "data": {
      "text/latex": [
       "$\\displaystyle a_{b} \\left(\\frac{j_{b} + 1}{j_{b}}\\right)^{e_{b}}$"
      ],
      "text/plain": [
       "a_b*((j_b + 1)/j_b)**e_b"
      ]
     },
     "execution_count": 6,
     "metadata": {},
     "output_type": "execute_result"
    }
   ],
   "source": [
    "# convex\n",
    "def spotByExp_(s, v, b, w, j, e, Delta, a, min):\n",
    "  f = a * ((1 + 1/j) ** e)\n",
    "  if simp:\n",
    "    f = simplify(f)\n",
    "  return f\n",
    "spotByExp = {asset: spotByExp_(*all_symbols[asset]) for asset in assets}\n",
    "spotByExp['b']"
   ]
  },
  {
   "cell_type": "code",
   "execution_count": 7,
   "metadata": {},
   "outputs": [
    {
     "data": {
      "text/latex": [
       "$\\displaystyle \\frac{a_{b} j_{b}^{- e_{b}} \\left(j_{b} + 1\\right)^{e_{b}}}{w_{b}} - b_{b} - v_{b}$"
      ],
      "text/plain": [
       "a_b*(j_b + 1)**e_b/(j_b**e_b*w_b) - b_b - v_b"
      ]
     },
     "execution_count": 7,
     "metadata": {},
     "output_type": "execute_result"
    }
   ],
   "source": [
    "# linear(convex) = convex\n",
    "def deltaByExp_(asset, s, v, b, w, j, e, Delta, a, min):\n",
    "    f = deltaBySpot[asset].subs(s, spotByExp[asset])\n",
    "    if simp:\n",
    "        f = simplify(f)\n",
    "    return f\n",
    "\n",
    "deltaByExp = {asset: deltaByExp_(asset, *all_symbols[asset]) for asset in assets}\n",
    "deltaByExp['b']"
   ]
  },
  {
   "cell_type": "code",
   "execution_count": 8,
   "metadata": {},
   "outputs": [
    {
     "data": {
      "text/latex": [
       "$\\displaystyle - \\frac{\\Delta_{s}}{\\Delta_{b}}$"
      ],
      "text/plain": [
       "-Delta_s/Delta_b"
      ]
     },
     "execution_count": 8,
     "metadata": {},
     "output_type": "execute_result"
    }
   ],
   "source": [
    "# convex\n",
    "eff = Delta_s / -Delta_b\n",
    "eff"
   ]
  },
  {
   "cell_type": "code",
   "execution_count": 9,
   "metadata": {},
   "outputs": [
    {
     "data": {
      "text/latex": [
       "$\\displaystyle - \\frac{j_{b}^{e_{b}} j_{s}^{- e_{s}} w_{b} \\left(a_{s} \\left(j_{s} + 1\\right)^{e_{s}} - j_{s}^{e_{s}} w_{s} \\left(b_{s} + v_{s}\\right)\\right)}{w_{s} \\left(a_{b} \\left(j_{b} + 1\\right)^{e_{b}} - j_{b}^{e_{b}} w_{b} \\left(b_{b} + v_{b}\\right)\\right)}$"
      ],
      "text/plain": [
       "-j_b**e_b*w_b*(a_s*(j_s + 1)**e_s - j_s**e_s*w_s*(b_s + v_s))/(j_s**e_s*w_s*(a_b*(j_b + 1)**e_b - j_b**e_b*w_b*(b_b + v_b)))"
      ]
     },
     "execution_count": 9,
     "metadata": {},
     "output_type": "execute_result"
    }
   ],
   "source": [
    "# convex (see below)\n",
    "effByExps = eff.subs({Delta_b: deltaByExp['b'], Delta_s: deltaByExp['s']})\n",
    "if simp:\n",
    "    effByExps = simplify(effByExps)\n",
    "effByExps"
   ]
  },
  {
   "cell_type": "markdown",
   "metadata": {},
   "source": [
    "### convexity of the target function\n",
    "\n",
    "- deltaBySpot is linear\n",
    "- spotByExp is convex\n",
    "- deltaByExp is a composition of the two\n",
    "\n",
    "=> deltaByExp is convex\n",
    "\n",
    "- negation flips convexity/concavity\n",
    "- inversion of a positive function flips convexity/concavity => 1 / deltaByExp_buying is convex\n",
    "- multiplying two nonnegative functions with different variables, that are each convex and independent of the other's variable, results in a convex function\n",
    "\n",
    "==> effectivePrice = deltaByExp_selling / deltaByExp_buying is convex. qed\n"
   ]
  },
  {
   "cell_type": "markdown",
   "metadata": {},
   "source": [
    "## inequality-constraints\n",
    "\n",
    "- value in A0 of buying must not exceed that of selling\n",
    "- the exponents must adhere to their upper (buying) resp. lower (selling) bounds given by our equation\n",
    "- need to buy and sell minimum amounts\n",
    "- cannot buy more than the available balance\n",
    "- cannot sell more than maxSelling\n",
    "- the spot prices must not exceed maxInteger\n",
    "- bonus: the total number of multiplications for both exponentiations must not exceed expLimit (TODO)"
   ]
  },
  {
   "cell_type": "code",
   "execution_count": 10,
   "metadata": {},
   "outputs": [
    {
     "data": {
      "text/latex": [
       "$\\displaystyle a_{s} \\left(\\frac{j_{s} + 1}{j_{s}}\\right)^{e_{s}} \\left(\\frac{a_{b} j_{b}^{- e_{b}} \\left(j_{b} + 1\\right)^{e_{b}}}{w_{b}} - b_{b} - v_{b}\\right)$"
      ],
      "text/plain": [
       "a_s*((j_s + 1)/j_s)**e_s*(a_b*(j_b + 1)**e_b/(j_b**e_b*w_b) - b_b - v_b)"
      ]
     },
     "execution_count": 10,
     "metadata": {},
     "output_type": "execute_result"
    }
   ],
   "source": [
    "# convex * convex = convex\n",
    "a0Buying = spotByExp['s'] * deltaByExp['b']\n",
    "a0Buying"
   ]
  },
  {
   "cell_type": "code",
   "execution_count": 11,
   "metadata": {},
   "outputs": [
    {
     "data": {
      "text/latex": [
       "$\\displaystyle a_{b} \\left(\\frac{j_{b} + 1}{j_{b}}\\right)^{e_{b}} \\left(\\frac{a_{s} j_{s}^{- e_{s}} \\left(j_{s} + 1\\right)^{e_{s}}}{w_{s}} - b_{s} - v_{s}\\right)$"
      ],
      "text/plain": [
       "a_b*((j_b + 1)/j_b)**e_b*(a_s*(j_s + 1)**e_s/(j_s**e_s*w_s) - b_s - v_s)"
      ]
     },
     "execution_count": 11,
     "metadata": {},
     "output_type": "execute_result"
    }
   ],
   "source": [
    "# convex * convex = convex\n",
    "a0Selling = spotByExp['b'] * deltaByExp['s']\n",
    "a0Selling"
   ]
  },
  {
   "cell_type": "code",
   "execution_count": 12,
   "metadata": {},
   "outputs": [
    {
     "data": {
      "text/latex": [
       "$\\displaystyle a_{b} \\left(\\frac{j_{b} + 1}{j_{b}}\\right)^{e_{b}} \\left(\\frac{a_{s} j_{s}^{- e_{s}} \\left(j_{s} + 1\\right)^{e_{s}}}{w_{s}} - b_{s} - v_{s}\\right) + a_{s} \\left(\\frac{j_{s} + 1}{j_{s}}\\right)^{e_{s}} \\left(\\frac{a_{b} j_{b}^{- e_{b}} \\left(j_{b} + 1\\right)^{e_{b}}}{w_{b}} - b_{b} - v_{b}\\right)$"
      ],
      "text/plain": [
       "a_b*((j_b + 1)/j_b)**e_b*(a_s*(j_s + 1)**e_s/(j_s**e_s*w_s) - b_s - v_s) + a_s*((j_s + 1)/j_s)**e_s*(a_b*(j_b + 1)**e_b/(j_b**e_b*w_b) - b_b - v_b)"
      ]
     },
     "execution_count": 12,
     "metadata": {},
     "output_type": "execute_result"
    }
   ],
   "source": [
    "# convex + convex = convex?\n",
    "a0Bound = a0Buying + a0Selling # <=! 0\n",
    "a0Bound"
   ]
  },
  {
   "cell_type": "code",
   "execution_count": 13,
   "metadata": {},
   "outputs": [
    {
     "name": "stdout",
     "output_type": "stream",
     "text": [
      "a_b*((j_b + 1)/j_b)**e_b*(a_s*(j_s + 1)**e_s/(j_s**e_s*w_s) - b_s - v_s) + a_s*((j_s + 1)/j_s)**e_s*(a_b*(j_b + 1)**e_b/(j_b**e_b*w_b) - b_b - v_b)\n"
     ]
    }
   ],
   "source": [
    "print(a0Bound)"
   ]
  },
  {
   "cell_type": "code",
   "execution_count": 14,
   "metadata": {},
   "outputs": [
    {
     "data": {
      "text/latex": [
       "$\\displaystyle \\left[\\begin{matrix}a_{b} \\left(\\frac{j_{b} + 1}{j_{b}}\\right)^{e_{b}} \\left(\\frac{a_{s} j_{s}^{- e_{s}} \\left(j_{s} + 1\\right)^{e_{s}}}{w_{s}} - b_{s} - v_{s}\\right) \\log{\\left(\\frac{j_{b} + 1}{j_{b}} \\right)}^{2} + a_{s} \\left(\\frac{j_{s} + 1}{j_{s}}\\right)^{e_{s}} \\left(\\frac{a_{b} j_{b}^{- e_{b}} \\left(j_{b} + 1\\right)^{e_{b}} \\log{\\left(j_{b} \\right)}^{2}}{w_{b}} - \\frac{2 a_{b} j_{b}^{- e_{b}} \\left(j_{b} + 1\\right)^{e_{b}} \\log{\\left(j_{b} \\right)} \\log{\\left(j_{b} + 1 \\right)}}{w_{b}} + \\frac{a_{b} j_{b}^{- e_{b}} \\left(j_{b} + 1\\right)^{e_{b}} \\log{\\left(j_{b} + 1 \\right)}^{2}}{w_{b}}\\right) & a_{b} \\left(\\frac{j_{b} + 1}{j_{b}}\\right)^{e_{b}} \\left(- \\frac{a_{s} j_{s}^{- e_{s}} \\left(j_{s} + 1\\right)^{e_{s}} \\log{\\left(j_{s} \\right)}}{w_{s}} + \\frac{a_{s} j_{s}^{- e_{s}} \\left(j_{s} + 1\\right)^{e_{s}} \\log{\\left(j_{s} + 1 \\right)}}{w_{s}}\\right) \\log{\\left(\\frac{j_{b} + 1}{j_{b}} \\right)} + a_{s} \\left(\\frac{j_{s} + 1}{j_{s}}\\right)^{e_{s}} \\left(- \\frac{a_{b} j_{b}^{- e_{b}} \\left(j_{b} + 1\\right)^{e_{b}} \\log{\\left(j_{b} \\right)}}{w_{b}} + \\frac{a_{b} j_{b}^{- e_{b}} \\left(j_{b} + 1\\right)^{e_{b}} \\log{\\left(j_{b} + 1 \\right)}}{w_{b}}\\right) \\log{\\left(\\frac{j_{s} + 1}{j_{s}} \\right)}\\\\a_{b} \\left(\\frac{j_{b} + 1}{j_{b}}\\right)^{e_{b}} \\left(- \\frac{a_{s} j_{s}^{- e_{s}} \\left(j_{s} + 1\\right)^{e_{s}} \\log{\\left(j_{s} \\right)}}{w_{s}} + \\frac{a_{s} j_{s}^{- e_{s}} \\left(j_{s} + 1\\right)^{e_{s}} \\log{\\left(j_{s} + 1 \\right)}}{w_{s}}\\right) \\log{\\left(\\frac{j_{b} + 1}{j_{b}} \\right)} + a_{s} \\left(\\frac{j_{s} + 1}{j_{s}}\\right)^{e_{s}} \\left(- \\frac{a_{b} j_{b}^{- e_{b}} \\left(j_{b} + 1\\right)^{e_{b}} \\log{\\left(j_{b} \\right)}}{w_{b}} + \\frac{a_{b} j_{b}^{- e_{b}} \\left(j_{b} + 1\\right)^{e_{b}} \\log{\\left(j_{b} + 1 \\right)}}{w_{b}}\\right) \\log{\\left(\\frac{j_{s} + 1}{j_{s}} \\right)} & a_{b} \\left(\\frac{j_{b} + 1}{j_{b}}\\right)^{e_{b}} \\left(\\frac{a_{s} j_{s}^{- e_{s}} \\left(j_{s} + 1\\right)^{e_{s}} \\log{\\left(j_{s} \\right)}^{2}}{w_{s}} - \\frac{2 a_{s} j_{s}^{- e_{s}} \\left(j_{s} + 1\\right)^{e_{s}} \\log{\\left(j_{s} \\right)} \\log{\\left(j_{s} + 1 \\right)}}{w_{s}} + \\frac{a_{s} j_{s}^{- e_{s}} \\left(j_{s} + 1\\right)^{e_{s}} \\log{\\left(j_{s} + 1 \\right)}^{2}}{w_{s}}\\right) + a_{s} \\left(\\frac{j_{s} + 1}{j_{s}}\\right)^{e_{s}} \\left(\\frac{a_{b} j_{b}^{- e_{b}} \\left(j_{b} + 1\\right)^{e_{b}}}{w_{b}} - b_{b} - v_{b}\\right) \\log{\\left(\\frac{j_{s} + 1}{j_{s}} \\right)}^{2}\\end{matrix}\\right]$"
      ],
      "text/plain": [
       "Matrix([\n",
       "[a_b*((j_b + 1)/j_b)**e_b*(a_s*(j_s + 1)**e_s/(j_s**e_s*w_s) - b_s - v_s)*log((j_b + 1)/j_b)**2 + a_s*((j_s + 1)/j_s)**e_s*(a_b*(j_b + 1)**e_b*log(j_b)**2/(j_b**e_b*w_b) - 2*a_b*(j_b + 1)**e_b*log(j_b)*log(j_b + 1)/(j_b**e_b*w_b) + a_b*(j_b + 1)**e_b*log(j_b + 1)**2/(j_b**e_b*w_b)),   a_b*((j_b + 1)/j_b)**e_b*(-a_s*(j_s + 1)**e_s*log(j_s)/(j_s**e_s*w_s) + a_s*(j_s + 1)**e_s*log(j_s + 1)/(j_s**e_s*w_s))*log((j_b + 1)/j_b) + a_s*((j_s + 1)/j_s)**e_s*(-a_b*(j_b + 1)**e_b*log(j_b)/(j_b**e_b*w_b) + a_b*(j_b + 1)**e_b*log(j_b + 1)/(j_b**e_b*w_b))*log((j_s + 1)/j_s)],\n",
       "[  a_b*((j_b + 1)/j_b)**e_b*(-a_s*(j_s + 1)**e_s*log(j_s)/(j_s**e_s*w_s) + a_s*(j_s + 1)**e_s*log(j_s + 1)/(j_s**e_s*w_s))*log((j_b + 1)/j_b) + a_s*((j_s + 1)/j_s)**e_s*(-a_b*(j_b + 1)**e_b*log(j_b)/(j_b**e_b*w_b) + a_b*(j_b + 1)**e_b*log(j_b + 1)/(j_b**e_b*w_b))*log((j_s + 1)/j_s), a_b*((j_b + 1)/j_b)**e_b*(a_s*(j_s + 1)**e_s*log(j_s)**2/(j_s**e_s*w_s) - 2*a_s*(j_s + 1)**e_s*log(j_s)*log(j_s + 1)/(j_s**e_s*w_s) + a_s*(j_s + 1)**e_s*log(j_s + 1)**2/(j_s**e_s*w_s)) + a_s*((j_s + 1)/j_s)**e_s*(a_b*(j_b + 1)**e_b/(j_b**e_b*w_b) - b_b - v_b)*log((j_s + 1)/j_s)**2]])"
      ]
     },
     "execution_count": 14,
     "metadata": {},
     "output_type": "execute_result"
    }
   ],
   "source": [
    "H = hessian(a0Bound, [e_b, e_s])\n",
    "H"
   ]
  },
  {
   "cell_type": "code",
   "execution_count": 15,
   "metadata": {},
   "outputs": [
    {
     "data": {
      "text/latex": [
       "$\\displaystyle a_{b} \\left(\\frac{j_{b} + 1}{j_{b}}\\right)^{e_{b}} \\left(\\frac{a_{s} j_{s}^{- e_{s}} \\left(j_{s} + 1\\right)^{e_{s}}}{w_{s}} - b_{s} - v_{s}\\right) \\log{\\left(\\frac{j_{b} + 1}{j_{b}} \\right)}^{2} + a_{s} \\left(\\frac{j_{s} + 1}{j_{s}}\\right)^{e_{s}} \\left(\\frac{a_{b} j_{b}^{- e_{b}} \\left(j_{b} + 1\\right)^{e_{b}} \\log{\\left(j_{b} \\right)}^{2}}{w_{b}} - \\frac{2 a_{b} j_{b}^{- e_{b}} \\left(j_{b} + 1\\right)^{e_{b}} \\log{\\left(j_{b} \\right)} \\log{\\left(j_{b} + 1 \\right)}}{w_{b}} + \\frac{a_{b} j_{b}^{- e_{b}} \\left(j_{b} + 1\\right)^{e_{b}} \\log{\\left(j_{b} + 1 \\right)}^{2}}{w_{b}}\\right)$"
      ],
      "text/plain": [
       "a_b*((j_b + 1)/j_b)**e_b*(a_s*(j_s + 1)**e_s/(j_s**e_s*w_s) - b_s - v_s)*log((j_b + 1)/j_b)**2 + a_s*((j_s + 1)/j_s)**e_s*(a_b*(j_b + 1)**e_b*log(j_b)**2/(j_b**e_b*w_b) - 2*a_b*(j_b + 1)**e_b*log(j_b)*log(j_b + 1)/(j_b**e_b*w_b) + a_b*(j_b + 1)**e_b*log(j_b + 1)**2/(j_b**e_b*w_b))"
      ]
     },
     "execution_count": 15,
     "metadata": {},
     "output_type": "execute_result"
    }
   ],
   "source": [
    "topLeft = H[0, 0]\n",
    "topLeft"
   ]
  },
  {
   "cell_type": "code",
   "execution_count": 16,
   "metadata": {},
   "outputs": [
    {
     "data": {
      "text/latex": [
       "$\\displaystyle - \\frac{a_{b} a_{s} \\left(\\frac{j_{b} + 1}{j_{b}}\\right)^{e_{b}} \\left(\\frac{j_{s} + 1}{j_{s}}\\right)^{e_{s}} \\left(\\log{\\left(j_{b} \\right)} - \\log{\\left(j_{b} + 1 \\right)}\\right)^{2}}{w_{b}} - \\frac{a_{b} \\left(\\frac{j_{b} + 1}{j_{b}}\\right)^{e_{b}} \\left(a_{s} \\left(\\frac{j_{s} + 1}{j_{s}}\\right)^{e_{s}} - w_{s} \\left(b_{s} + v_{s}\\right)\\right) \\log{\\left(\\frac{j_{b} + 1}{j_{b}} \\right)}^{2}}{w_{s}}$"
      ],
      "text/plain": [
       "-a_b*a_s*((j_b + 1)/j_b)**e_b*((j_s + 1)/j_s)**e_s*(log(j_b) - log(j_b + 1))**2/w_b - a_b*((j_b + 1)/j_b)**e_b*(a_s*((j_s + 1)/j_s)**e_s - w_s*(b_s + v_s))*log((j_b + 1)/j_b)**2/w_s"
      ]
     },
     "execution_count": 16,
     "metadata": {},
     "output_type": "execute_result"
    }
   ],
   "source": [
    "topLeft2 = -(a_b/w_s)*((j_b + 1)/j_b)**e_b \\\n",
    "  *(a_s*((j_s + 1)/j_s)**e_s - w_s *(b_s + v_s)) \\\n",
    "  *log((j_b + 1)/j_b)**2 \\\n",
    "  + a_s*((j_s + 1)/j_s)**e_s \\\n",
    "  * (a_b / w_b) \\\n",
    "  * -((j_b + 1)/j_b)**e_b \\\n",
    "  * (log(j_b) - log(j_b + 1))**2 \n",
    "topLeft2"
   ]
  },
  {
   "cell_type": "code",
   "execution_count": 17,
   "metadata": {},
   "outputs": [
    {
     "data": {
      "text/latex": [
       "$\\displaystyle \\frac{a_{b} j_{s}^{- 2 e_{s}} \\left(\\frac{j_{b} + 1}{j_{b}}\\right)^{e_{b}} \\left(- a_{s} w_{s} \\left(j_{s} \\left(j_{s} + 1\\right)\\right)^{e_{s}} \\log{\\left(\\frac{j_{b}}{j_{b} + 1} \\right)}^{2} - j_{s}^{e_{s}} w_{b} \\left(a_{s} \\left(j_{s} + 1\\right)^{e_{s}} - j_{s}^{e_{s}} w_{s} \\left(b_{s} + v_{s}\\right)\\right) \\log{\\left(\\frac{j_{b} + 1}{j_{b}} \\right)}^{2}\\right)}{w_{b} w_{s}} = \\frac{a_{b} j_{b}^{- 2 e_{b}} j_{s}^{- 2 e_{s}} \\left(j_{b} \\left(j_{b} + 1\\right)\\right)^{e_{b}} \\left(a_{s} w_{s} \\left(j_{s} \\left(j_{s} + 1\\right)\\right)^{e_{s}} \\left(\\log{\\left(j_{b} \\right)}^{2} + \\log{\\left(j_{b} + 1 \\right)}^{2} - \\log{\\left(\\left(j_{b} + 1\\right)^{\\log{\\left(j_{b}^{2} \\right)}} \\right)}\\right) - j_{s}^{e_{s}} w_{b} \\left(- a_{s} \\left(j_{s} + 1\\right)^{e_{s}} + j_{s}^{e_{s}} w_{s} \\left(b_{s} + v_{s}\\right)\\right) \\log{\\left(\\frac{j_{b} + 1}{j_{b}} \\right)}^{2}\\right)}{w_{b} w_{s}}$"
      ],
      "text/plain": [
       "Eq(a_b*((j_b + 1)/j_b)**e_b*(-a_s*w_s*(j_s*(j_s + 1))**e_s*log(j_b/(j_b + 1))**2 - j_s**e_s*w_b*(a_s*(j_s + 1)**e_s - j_s**e_s*w_s*(b_s + v_s))*log((j_b + 1)/j_b)**2)/(j_s**(2*e_s)*w_b*w_s), a_b*(j_b*(j_b + 1))**e_b*(a_s*w_s*(j_s*(j_s + 1))**e_s*(log(j_b)**2 + log(j_b + 1)**2 - log((j_b + 1)**log(j_b**2))) - j_s**e_s*w_b*(-a_s*(j_s + 1)**e_s + j_s**e_s*w_s*(b_s + v_s))*log((j_b + 1)/j_b)**2)/(j_b**(2*e_b)*j_s**(2*e_s)*w_b*w_s))"
      ]
     },
     "execution_count": 17,
     "metadata": {},
     "output_type": "execute_result"
    }
   ],
   "source": [
    "Eq(topLeft, topLeft2).simplify()"
   ]
  },
  {
   "cell_type": "markdown",
   "metadata": {},
   "source": [
    "-> monotonously decreasing wrt both e_b and e_s\n",
    "\n",
    "-> we get the minimum by plugging in the maxima and vice versa"
   ]
  },
  {
   "cell_type": "code",
   "execution_count": 18,
   "metadata": {},
   "outputs": [
    {
     "data": {
      "text/latex": [
       "$\\displaystyle \\frac{\\log{\\left(\\frac{w_{b} \\left(b_{b} + v_{b}\\right)}{a_{b}} \\right)}}{\\log{\\left(1 + \\frac{1}{j_{b}} \\right)}}$"
      ],
      "text/plain": [
       "log(w_b*(b_b + v_b)/a_b)/log(1 + 1/j_b)"
      ]
     },
     "execution_count": 18,
     "metadata": {},
     "output_type": "execute_result"
    }
   ],
   "source": [
    "e_upper_bound_b = log(w_b * (v_b + b_b) /a_b, 1 + 1/j_b)\n",
    "e_upper_bound_b"
   ]
  },
  {
   "cell_type": "code",
   "execution_count": 19,
   "metadata": {},
   "outputs": [
    {
     "data": {
      "text/latex": [
       "$\\displaystyle \\frac{\\log{\\left(\\frac{w_{s} \\left(b_{s} + v_{s}\\right)}{a_{s}} \\right)}}{\\log{\\left(1 + \\frac{1}{j_{s}} \\right)}}$"
      ],
      "text/plain": [
       "log(w_s*(b_s + v_s)/a_s)/log(1 + 1/j_s)"
      ]
     },
     "execution_count": 19,
     "metadata": {},
     "output_type": "execute_result"
    }
   ],
   "source": [
    "e_lower_bound_s = log(w_s * (v_s + b_s) /a_s, 1 + 1/j_s)\n",
    "e_lower_bound_s"
   ]
  },
  {
   "cell_type": "code",
   "execution_count": 20,
   "metadata": {},
   "outputs": [
    {
     "data": {
      "text/latex": [
       "$\\displaystyle -\\infty$"
      ],
      "text/plain": [
       "-oo"
      ]
     },
     "execution_count": 20,
     "metadata": {},
     "output_type": "execute_result"
    }
   ],
   "source": [
    "minimum = simplify(topLeft2.subs({e_b: e_upper_bound_b, e_s: oo}))\n",
    "minimum"
   ]
  },
  {
   "cell_type": "code",
   "execution_count": 21,
   "metadata": {},
   "outputs": [
    {
     "data": {
      "text/latex": [
       "$\\displaystyle 0$"
      ],
      "text/plain": [
       "0"
      ]
     },
     "execution_count": 21,
     "metadata": {},
     "output_type": "execute_result"
    }
   ],
   "source": [
    "maximum = simplify(topLeft2.subs({e_b: -oo, e_s: e_lower_bound_s}))\n",
    "maximum"
   ]
  },
  {
   "cell_type": "markdown",
   "metadata": {},
   "source": [
    "topLeft is nonpositive -> a0Bound is not convex"
   ]
  },
  {
   "cell_type": "code",
   "execution_count": 22,
   "metadata": {},
   "outputs": [],
   "source": [
    "# a0Bound = (1 / (a0Buying - a0Selling - 1)) + 1 # <=! 0\n",
    "# # a0Bound = simplify(a0Bound)\n",
    "# a0Bound"
   ]
  },
  {
   "cell_type": "code",
   "execution_count": 23,
   "metadata": {},
   "outputs": [
    {
     "data": {
      "text/latex": [
       "$\\displaystyle \\frac{j_{b}^{- 2 e_{b}} j_{s}^{- 2 e_{s}} \\left(- a_{b} j_{s}^{e_{s}} w_{b} \\left(j_{b} \\left(j_{b} + 1\\right)\\right)^{e_{b}} \\left(- a_{s} \\left(j_{s} + 1\\right)^{e_{s}} + j_{s}^{e_{s}} w_{s} \\left(b_{s} + v_{s}\\right)\\right) - a_{s} j_{b}^{e_{b}} w_{s} \\left(j_{s} \\left(j_{s} + 1\\right)\\right)^{e_{s}} \\left(- a_{b} \\left(j_{b} + 1\\right)^{e_{b}} + j_{b}^{e_{b}} w_{b} \\left(b_{b} + v_{b}\\right)\\right)\\right)}{w_{b} w_{s}}$"
      ],
      "text/plain": [
       "(-a_b*j_s**e_s*w_b*(j_b*(j_b + 1))**e_b*(-a_s*(j_s + 1)**e_s + j_s**e_s*w_s*(b_s + v_s)) - a_s*j_b**e_b*w_s*(j_s*(j_s + 1))**e_s*(-a_b*(j_b + 1)**e_b + j_b**e_b*w_b*(b_b + v_b)))/(j_b**(2*e_b)*j_s**(2*e_s)*w_b*w_s)"
      ]
     },
     "execution_count": 23,
     "metadata": {},
     "output_type": "execute_result"
    }
   ],
   "source": [
    "if simp:\n",
    "  a0Bound = simplify(a0Bound)\n",
    "a0Bound"
   ]
  },
  {
   "cell_type": "code",
   "execution_count": 24,
   "metadata": {},
   "outputs": [
    {
     "data": {
      "text/latex": [
       "$\\displaystyle e_{b} - \\log{\\left(a_{b}^{- \\frac{1}{\\log{\\left(\\frac{j_{b} + 1}{j_{b}} \\right)}}} \\left(w_{b} \\left(b_{b} + v_{b}\\right)\\right)^{\\frac{1}{\\log{\\left(\\frac{j_{b} + 1}{j_{b}} \\right)}}} \\right)}$"
      ],
      "text/plain": [
       "e_b - log((w_b*(b_b + v_b))**(1/log((j_b + 1)/j_b))/a_b**(1/log((j_b + 1)/j_b)))"
      ]
     },
     "execution_count": 24,
     "metadata": {},
     "output_type": "execute_result"
    }
   ],
   "source": [
    "def expBound_(asset, s, v, b, w, j, e, Delta, a, min):\n",
    "    e_bound = log(w * (v + b) /a, 1 + 1/j) # constant wrt e\n",
    "    if simp:\n",
    "        e_bound = simplify(e_bound)\n",
    "    if asset == 'b':\n",
    "        f = e - e_bound # <=! 0 (upper bound)\n",
    "    else:\n",
    "        f = e_bound - e # <=! 0 (lower bound)\n",
    "    if simp:\n",
    "        f = simplify(f)\n",
    "    return f\n",
    "\n",
    "expBound = {asset: expBound_(asset, *all_symbols[asset]) for asset in assets}\n",
    "expBound['b']"
   ]
  },
  {
   "cell_type": "code",
   "execution_count": 25,
   "metadata": {},
   "outputs": [
    {
     "data": {
      "text/latex": [
       "$\\displaystyle - e_{s} + \\log{\\left(a_{s}^{- \\frac{1}{\\log{\\left(\\frac{j_{s} + 1}{j_{s}} \\right)}}} \\left(w_{s} \\left(b_{s} + v_{s}\\right)\\right)^{\\frac{1}{\\log{\\left(\\frac{j_{s} + 1}{j_{s}} \\right)}}} \\right)}$"
      ],
      "text/plain": [
       "-e_s + log((w_s*(b_s + v_s))**(1/log((j_s + 1)/j_s))/a_s**(1/log((j_s + 1)/j_s)))"
      ]
     },
     "execution_count": 25,
     "metadata": {},
     "output_type": "execute_result"
    }
   ],
   "source": [
    "expBound['s']"
   ]
  },
  {
   "cell_type": "code",
   "execution_count": 26,
   "metadata": {},
   "outputs": [
    {
     "data": {
      "text/latex": [
       "$\\displaystyle - I_{max} + a_{b} \\left(\\frac{j_{b} + 1}{j_{b}}\\right)^{e_{b}}$"
      ],
      "text/plain": [
       "-I_max + a_b*((j_b + 1)/j_b)**e_b"
      ]
     },
     "execution_count": 26,
     "metadata": {},
     "output_type": "execute_result"
    }
   ],
   "source": [
    "max_s, I_max = symbols('max_s I_max', positive=True, integer=True)\n",
    "\n",
    "def maxSpotBound_(asset, s, v, b, w, j, e, Delta, a, min):\n",
    "  return spotByExp[asset] - I_max # <=! 0\n",
    "\n",
    "maxSpotBound = {asset: maxSpotBound_(asset, *all_symbols[asset]) for asset in assets}\n",
    "maxSpotBound['b']"
   ]
  },
  {
   "cell_type": "code",
   "execution_count": 27,
   "metadata": {},
   "outputs": [
    {
     "data": {
      "text/latex": [
       "$\\displaystyle \\frac{a_{b} j_{b}^{- e_{b}} \\left(j_{b} + 1\\right)^{e_{b}}}{w_{b}} - b_{b} + min_{b} - v_{b}$"
      ],
      "text/plain": [
       "a_b*(j_b + 1)**e_b/(j_b**e_b*w_b) - b_b + min_b - v_b"
      ]
     },
     "execution_count": 27,
     "metadata": {},
     "output_type": "execute_result"
    }
   ],
   "source": [
    "def minAmntBound_(asset, s, v, b, w, j, e, Delta, a, min):\n",
    "    if asset == 'b':\n",
    "        d = -Delta\n",
    "    else:\n",
    "        d = Delta\n",
    "    f = min - d # <=! 0\n",
    "    f = f.subs(Delta, deltaByExp[asset])\n",
    "    if simp:\n",
    "        f = simplify(f)\n",
    "    return f\n",
    "\n",
    "minAmntBound = {asset: minAmntBound_(asset, *all_symbols[asset]) for asset in assets}\n",
    "minAmntBound['b']"
   ]
  },
  {
   "cell_type": "code",
   "execution_count": 28,
   "metadata": {},
   "outputs": [
    {
     "data": {
      "text/latex": [
       "$\\displaystyle - \\frac{a_{s} j_{s}^{- e_{s}} \\left(j_{s} + 1\\right)^{e_{s}}}{w_{s}} + b_{s} + min_{s} + v_{s}$"
      ],
      "text/plain": [
       "-a_s*(j_s + 1)**e_s/(j_s**e_s*w_s) + b_s + min_s + v_s"
      ]
     },
     "execution_count": 28,
     "metadata": {},
     "output_type": "execute_result"
    }
   ],
   "source": [
    "minAmntBound['s']"
   ]
  },
  {
   "cell_type": "code",
   "execution_count": 29,
   "metadata": {},
   "outputs": [
    {
     "data": {
      "text/latex": [
       "$\\displaystyle - \\frac{a_{b} j_{b}^{- e_{b}} \\left(j_{b} + 1\\right)^{e_{b}}}{w_{b}} + v_{b}$"
      ],
      "text/plain": [
       "-a_b*(j_b + 1)**e_b/(j_b**e_b*w_b) + v_b"
      ]
     },
     "execution_count": 29,
     "metadata": {},
     "output_type": "execute_result"
    }
   ],
   "source": [
    "def maxAmntBound_(asset, s, v, b, w, j, e, Delta, a, min):\n",
    "    if asset == 'b':\n",
    "        f = -Delta - b_b # <=! 0\n",
    "    else:\n",
    "        f = Delta - max_s # <=! 0\n",
    "    f = f.subs(Delta, deltaByExp[asset])\n",
    "    if simp:\n",
    "        f = simplify(f)\n",
    "    return f\n",
    "\n",
    "maxAmntBound = {asset: maxAmntBound_(asset, *all_symbols[asset]) for asset in assets}\n",
    "maxAmntBound['b']"
   ]
  },
  {
   "cell_type": "code",
   "execution_count": 30,
   "metadata": {},
   "outputs": [
    {
     "data": {
      "text/latex": [
       "$\\displaystyle \\frac{a_{s} j_{s}^{- e_{s}} \\left(j_{s} + 1\\right)^{e_{s}}}{w_{s}} - b_{s} - max_{s} - v_{s}$"
      ],
      "text/plain": [
       "a_s*(j_s + 1)**e_s/(j_s**e_s*w_s) - b_s - max_s - v_s"
      ]
     },
     "execution_count": 30,
     "metadata": {},
     "output_type": "execute_result"
    }
   ],
   "source": [
    "maxAmntBound['s']"
   ]
  },
  {
   "cell_type": "markdown",
   "metadata": {},
   "source": [
    "## Lagrangian"
   ]
  },
  {
   "cell_type": "code",
   "execution_count": 31,
   "metadata": {},
   "outputs": [],
   "source": [
    "# Decision variables\n",
    "x1, x2 = e_b, e_s\n",
    "\n",
    "# Constraints\n",
    "g = [\n",
    "    expBound['b'],\n",
    "    expBound['s'],\n",
    "    maxSpotBound['b'],\n",
    "    maxSpotBound['s'],\n",
    "    minAmntBound['b'],\n",
    "    minAmntBound['s'],\n",
    "    maxAmntBound['b'],\n",
    "    maxAmntBound['s'],\n",
    "    a0Bound,\n",
    "] \n",
    "\n",
    "# Lagrange multipliers for m constraints\n",
    "lambdas = symbols('lambda_1:{}'.format(len(g)+1), nonnegative=True)\n",
    "\n",
    "# Objective function\n",
    "f = effByExps\n",
    "\n",
    "# Lagrangian\n",
    "L = f + sum([lambdas[i] * g[i] for i in range(len(g))])\n",
    "if simp:\n",
    "    L = simplify(L)\n",
    "\n",
    "# Differentiate Lagrangian with respect to decision variables\n",
    "dL_dx1 = L.diff(x1)\n",
    "dL_dx2 = L.diff(x2)\n",
    "if simp:\n",
    "    dL_dx1 = simplify(dL_dx1)\n",
    "    dL_dx2 = simplify(dL_dx2)\n",
    "\n",
    "# Equations from stationarity\n",
    "equations = [Eq(dL_dx1, 0), Eq(dL_dx2, 0)]\n",
    "\n",
    "# Complementary slackness conditions\n",
    "for i in range(len(g)):\n",
    "    equations.append(Eq(lambdas[i] * g[i], 0))\n",
    "\n",
    "# Solve\n",
    "solutions = nonlinsolve(equations, [x1, x2] + list(lambdas))\n",
    "# solutions = solve(equations, [x1, x2] + list(lambdas))\n",
    "solutions"
   ]
  },
  {
   "cell_type": "code",
   "execution_count": null,
   "metadata": {},
   "outputs": [],
   "source": [
    "len(solutions)"
   ]
  },
  {
   "cell_type": "code",
   "execution_count": null,
   "metadata": {},
   "outputs": [],
   "source": [
    "def display_large(expr):\n",
    "  latex_code = f\"\\\\large {{ {latex(expr)} }}\"\n",
    "  display(Math(latex_code))\n",
    "    \n",
    "variables = [x1, x2] + list(lambdas)\n",
    "\n",
    "for i, solution in enumerate(solutions):\n",
    "  print(f\"Solution {i+1}:\")\n",
    "  for var, expression in zip(variables, solution):\n",
    "    if expression != 0:\n",
    "      display_large(Eq(var, expression))"
   ]
  },
  {
   "cell_type": "code",
   "execution_count": null,
   "metadata": {},
   "outputs": [],
   "source": []
  },
  {
   "cell_type": "code",
   "execution_count": null,
   "metadata": {},
   "outputs": [],
   "source": []
  },
  {
   "cell_type": "code",
   "execution_count": null,
   "metadata": {},
   "outputs": [],
   "source": []
  },
  {
   "cell_type": "code",
   "execution_count": null,
   "metadata": {},
   "outputs": [],
   "source": []
  },
  {
   "cell_type": "code",
   "execution_count": null,
   "metadata": {},
   "outputs": [],
   "source": []
  },
  {
   "cell_type": "code",
   "execution_count": null,
   "metadata": {},
   "outputs": [],
   "source": []
  },
  {
   "cell_type": "code",
   "execution_count": null,
   "metadata": {},
   "outputs": [],
   "source": []
  },
  {
   "cell_type": "code",
   "execution_count": null,
   "metadata": {},
   "outputs": [],
   "source": []
  },
  {
   "cell_type": "code",
   "execution_count": null,
   "metadata": {},
   "outputs": [],
   "source": []
  },
  {
   "cell_type": "code",
   "execution_count": null,
   "metadata": {},
   "outputs": [],
   "source": []
  },
  {
   "cell_type": "code",
   "execution_count": null,
   "metadata": {},
   "outputs": [],
   "source": []
  },
  {
   "cell_type": "code",
   "execution_count": null,
   "metadata": {},
   "outputs": [],
   "source": [
    "sol1, sol2, sol3, sol4, sol5, sol6 = list(solutions)"
   ]
  },
  {
   "cell_type": "markdown",
   "metadata": {},
   "source": [
    "## first solution"
   ]
  },
  {
   "cell_type": "code",
   "execution_count": null,
   "metadata": {},
   "outputs": [],
   "source": [
    "for sol in sol1:\n",
    "  print(sol.free_symbols)"
   ]
  },
  {
   "cell_type": "code",
   "execution_count": null,
   "metadata": {},
   "outputs": [],
   "source": [
    "def display_large(expr):\n",
    "    latex_code = f\"\\\\Large {{ {latex(expr)} }}\"\n",
    "    display(Math(latex_code))\n",
    "\n",
    "# Define wildcard symbols\n",
    "i1 = Wild('i1', integer=True)\n",
    "i2 = Wild('i2', integer=True)\n",
    "i3 = Wild('i3', integer=True)\n",
    "n  = Wild('n',  positive=True, integer=True)\n",
    "r0 = Wild('r0', positive=True, real=True)\n",
    "r1 = Wild('r1', positive=True, real=True)\n",
    "r2 = Wild('r2', real=True)\n",
    "r3 = Wild('r3', real=True)\n",
    "r4 = Wild('r4', nonzero=True, real=True)\n",
    "r5 = Wild('r5', nonzero=True, real=True)\n",
    "\n",
    "\n",
    "# Replacement rules TODO check that the wildcard-conditions are met\n",
    "replacement_rules = {\n",
    "    i1**-i3 * i2**i3: (i2/i1)**i3,\n",
    "    log(r1 ** r2): r2 * log(r1),\n",
    "}\n",
    "\n",
    "for j in [j_b, j_s]:\n",
    "    replacement_rules.update({\n",
    "        log(j) - log(j+1): log(j / (j+1)),\n",
    "        (j*(j+1))**r2: j**r2 * (j+1)**r2,\n",
    "        j**-r2 * r3 * (j+1)**r2: r3 * ((j+1)/j)**r2,\n",
    "        -2*log(I_max/a_b)/log(j/(j + 1)): 2*log(a_b/I_max)/log(j/(j + 1)),\n",
    "        # -2*log(a_s/(w_s*(b_s+v_s)))/log(j/(j + 1)): 2*log((w_s*(b_s+v_s))/a_s)/log(j/(j + 1)),\n",
    "    })\n",
    "\n",
    "\n",
    "# Verify equivalences TODO check the assumptions of the wildcards are met\n",
    "for key, value in replacement_rules.items():\n",
    "    difference = simplify(key - value)\n",
    "    assert difference.equals(0), f\"Rule {key} -> {value} is not equivalent: {difference}\"\n",
    "sol1_simp = {}\n",
    "variables = [x1, x2] + list(lambdas)\n",
    "\n",
    "for var, expression in zip(variables, sol1):\n",
    "    for key, value in replacement_rules.items():\n",
    "        expression = expression.replace(key, value)\n",
    "    # expression = simplify(expression)\n",
    "    sol1_simp.update({var: expression})\n",
    " \n",
    "for var, expression in sol1_simp.items():\n",
    "    if not var in [x1, x2]:\n",
    "        for key, value in sol1_simp.items():\n",
    "            if key in [x1, x2]:\n",
    "                expression = expression.replace(value, key)\n",
    "                expression = expression.replace(2 * value, 2 * key)\n",
    "                expression = expression.replace(-2 * value, -2 * key)\n",
    "                sol1_simp.update({var: expression})\n",
    "    expression = Eq(var, expression)\n",
    "    # print(expression)\n",
    "    display_large(expression)"
   ]
  },
  {
   "cell_type": "code",
   "execution_count": null,
   "metadata": {},
   "outputs": [],
   "source": []
  },
  {
   "cell_type": "markdown",
   "metadata": {},
   "source": [
    "## second solution"
   ]
  },
  {
   "cell_type": "code",
   "execution_count": null,
   "metadata": {},
   "outputs": [],
   "source": [
    "for sol in sol2:\n",
    "  print(sol.free_symbols)"
   ]
  },
  {
   "cell_type": "code",
   "execution_count": null,
   "metadata": {},
   "outputs": [],
   "source": [
    "sol2_simp = {}\n",
    "\n",
    "for var, expression in zip(variables, sol2):\n",
    "    for key, value in replacement_rules.items():\n",
    "        expression = expression.replace(key, value)\n",
    "    # expression = simplify(expression)\n",
    "    sol2_simp.update({var: expression})\n",
    " \n",
    "for var, expression in sol2_simp.items():\n",
    "    if not var in [x1, x2]:\n",
    "        for key, value in sol2_simp.items():\n",
    "            if key in [x1, x2]:\n",
    "                expression = expression.replace(value, key)\n",
    "                expression = expression.replace(2 * value, 2 * key)\n",
    "                expression = expression.replace(-2 * value, -2 * key)\n",
    "                sol2_simp.update({var: expression})\n",
    "    expression = Eq(var, expression)\n",
    "    # print(expression)\n",
    "    display_large(expression)"
   ]
  },
  {
   "cell_type": "code",
   "execution_count": null,
   "metadata": {},
   "outputs": [],
   "source": [
    "Eq(sol1_simp[x2], sol2_simp[x2]).simplify()"
   ]
  },
  {
   "cell_type": "code",
   "execution_count": null,
   "metadata": {},
   "outputs": [],
   "source": [
    "Eq(sol1_simp[lambdas[1]], sol2_simp[lambdas[1]]).simplify()"
   ]
  },
  {
   "cell_type": "markdown",
   "metadata": {},
   "source": [
    "## third solution"
   ]
  },
  {
   "cell_type": "code",
   "execution_count": null,
   "metadata": {},
   "outputs": [],
   "source": [
    "for sol in sol3:\n",
    "  print(sol.free_symbols)"
   ]
  },
  {
   "cell_type": "code",
   "execution_count": null,
   "metadata": {},
   "outputs": [],
   "source": [
    "sol3_simp = {}\n",
    "\n",
    "for var, expression in zip(variables, sol3):\n",
    "    for key, value in replacement_rules.items():\n",
    "        expression = expression.replace(key, value)\n",
    "    # expression = simplify(expression)\n",
    "    sol3_simp.update({var: expression})\n",
    " \n",
    "for var, expression in sol3_simp.items():\n",
    "    if not var in [x1, x2]:\n",
    "        for key, value in sol3_simp.items():\n",
    "            if key in [x1, x2]:\n",
    "                expression = expression.replace(value, key)\n",
    "                expression = expression.replace(2 * value, 2 * key)\n",
    "                expression = expression.replace(-2 * value, -2 * key)\n",
    "                sol3_simp.update({var: expression})\n",
    "    expression = Eq(var, expression)\n",
    "    # print(expression)\n",
    "    display_large(expression)"
   ]
  },
  {
   "cell_type": "code",
   "execution_count": null,
   "metadata": {},
   "outputs": [],
   "source": [
    "Eq(sol1_simp[x2], sol3_simp[x2]).simplify() and Eq(sol2_simp[x2], sol3_simp[x2]).simplify()"
   ]
  },
  {
   "cell_type": "code",
   "execution_count": null,
   "metadata": {},
   "outputs": [],
   "source": [
    "Eq(sol1_simp[lambdas[1]], sol3_simp[lambdas[1]]).simplify() and Eq(sol2_simp[lambdas[1]], sol3_simp[lambdas[1]]).simplify()"
   ]
  },
  {
   "cell_type": "code",
   "execution_count": null,
   "metadata": {},
   "outputs": [],
   "source": []
  },
  {
   "cell_type": "markdown",
   "metadata": {},
   "source": [
    "# Analysis\n",
    "\n",
    "- the exp_bound_selling constraint is binding in all three solutions, which aligns well with the fact that all three have the same optimum for e_s\n",
    "- e_b is resp. maximized, minimized, or analog to e_s. The corresponding other binding constraints are "
   ]
  },
  {
   "cell_type": "code",
   "execution_count": null,
   "metadata": {},
   "outputs": [],
   "source": []
  },
  {
   "cell_type": "code",
   "execution_count": null,
   "metadata": {},
   "outputs": [],
   "source": []
  },
  {
   "cell_type": "code",
   "execution_count": null,
   "metadata": {},
   "outputs": [],
   "source": [
    "optimum1 = f.subs(sol1_simp)\n",
    "display_large(f)\n",
    "display_large(optimum1)"
   ]
  }
 ],
 "metadata": {
  "kernelspec": {
   "display_name": "Python 3",
   "language": "python",
   "name": "python3"
  },
  "language_info": {
   "codemirror_mode": {
    "name": "ipython",
    "version": 3
   },
   "file_extension": ".py",
   "mimetype": "text/x-python",
   "name": "python",
   "nbconvert_exporter": "python",
   "pygments_lexer": "ipython3",
   "version": "3.9.16"
  }
 },
 "nbformat": 4,
 "nbformat_minor": 2
}
