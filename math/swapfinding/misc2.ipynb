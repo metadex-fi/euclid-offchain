{
 "cells": [
  {
   "cell_type": "code",
   "execution_count": 1,
   "metadata": {},
   "outputs": [],
   "source": [
    "from sympy import symbols, simplify, hessian, solveset, S, solve, log, And, Le, Ge, Eq, Lt, Gt, nonlinsolve, latex, log, Wild, expand_log, logcombine, evaluate,oo, limit,ask, Q, floor, ceiling, lambdify, Sum, sign, expand\n",
    "from IPython.display import display, HTML, Math"
   ]
  },
  {
   "cell_type": "code",
   "execution_count": 2,
   "metadata": {},
   "outputs": [],
   "source": [
    "def large(expr):\n",
    "  latex_code = f\"\\\\Large {{ {latex(expr)} }}\"\n",
    "  display(Math(latex_code))"
   ]
  },
  {
   "cell_type": "code",
   "execution_count": 3,
   "metadata": {},
   "outputs": [],
   "source": [
    "delta_b_negative = False;\n",
    "discrete = False;\n",
    "simp = True;"
   ]
  },
  {
   "cell_type": "code",
   "execution_count": 4,
   "metadata": {},
   "outputs": [
    {
     "data": {
      "text/plain": [
       "{'b': dict_values([s_b, l_b, v_b, b_b, w_b, j_b, e_b, Delta_b, a_b, min_b]),\n",
       " 's': dict_values([s_s, l_s, v_s, b_s, w_s, j_s, e_s, Delta_s, a_s, min_s])}"
      ]
     },
     "execution_count": 4,
     "metadata": {},
     "output_type": "execute_result"
    }
   ],
   "source": [
    "assets = ['b', 's']  # buying and selling assets\n",
    "base_symbols = ['s', 'l', 'v', 'b', 'w', 'j', 'e', 'Delta', 'a', 'min'] \n",
    "# spot price, virtual liquidity, balance, weight, jump size, exponent, delta, anchor price, amm-price, jump-multiplier\n",
    "\n",
    "all_symbols = {}\n",
    "\n",
    "for asset in assets:\n",
    "    temp_dict = {}\n",
    "    for base in base_symbols:\n",
    "        var_name = f\"{base}_{asset}\"\n",
    "        if base == 'e':\n",
    "            symbol_obj = symbols(var_name, integer=True)\n",
    "        elif base == 'b':\n",
    "            symbol_obj = symbols(var_name, nonnegative=True, integer=True)\n",
    "        elif delta_b_negative and var_name == 'Delta_b':\n",
    "            symbol_obj = symbols(var_name, negative=True, integer=True)\n",
    "        else:\n",
    "            symbol_obj = symbols(var_name, positive=True, integer=True)\n",
    "        temp_dict[var_name] = symbol_obj\n",
    "        # Define the variable in the global namespace\n",
    "        globals()[var_name] = symbol_obj\n",
    "    all_symbols[asset] = temp_dict.values()\n",
    "all_symbols"
   ]
  },
  {
   "cell_type": "code",
   "execution_count": null,
   "metadata": {},
   "outputs": [],
   "source": []
  },
  {
   "cell_type": "markdown",
   "metadata": {},
   "source": [
    "in the contract, where Delta_b is negative:\n",
    "\n",
    "-Delta_b * s_s <= Delta_s * s_b\n",
    "\n",
    "implying for positive Delta_b:\n",
    "\n",
    "Delta_b * s_s <= Delta_s * s_b\n",
    "\n",
    "which maximizes value for the trader if:"
   ]
  },
  {
   "cell_type": "code",
   "execution_count": 5,
   "metadata": {},
   "outputs": [
    {
     "data": {
      "text/latex": [
       "$\\displaystyle \\Delta_{b} s_{s} = \\Delta_{s} s_{b}$"
      ],
      "text/plain": [
       "Eq(Delta_b*s_s, Delta_s*s_b)"
      ]
     },
     "execution_count": 5,
     "metadata": {},
     "output_type": "execute_result"
    }
   ],
   "source": [
    "if delta_b_negative:\n",
    "  a0_eq_Delta = Eq(-Delta_b * s_s, Delta_s * s_b)\n",
    "else:\n",
    "  a0_eq_Delta = Eq(Delta_b * s_s, Delta_s * s_b)\n",
    "a0_eq_Delta"
   ]
  },
  {
   "cell_type": "code",
   "execution_count": 6,
   "metadata": {},
   "outputs": [
    {
     "data": {
      "text/latex": [
       "$\\displaystyle l_{b} s_{s} + l_{s} s_{b} = s_{b} \\left(\\Delta_{s} + l_{s}\\right) + s_{s} \\left(- \\Delta_{b} + l_{b}\\right)$"
      ],
      "text/plain": [
       "Eq(l_b*s_s + l_s*s_b, s_b*(Delta_s + l_s) + s_s*(-Delta_b + l_b))"
      ]
     },
     "execution_count": 6,
     "metadata": {},
     "output_type": "execute_result"
    }
   ],
   "source": [
    "if delta_b_negative:\n",
    "  a0_eq_Value = Eq(l_b * s_s + l_s * s_b, (l_b + Delta_b) * s_s + (l_s + Delta_s) * s_b)\n",
    "else:\n",
    "  a0_eq_Value = Eq(l_b * s_s + l_s * s_b, (l_b - Delta_b) * s_s + (l_s + Delta_s) * s_b)\n",
    "a0_eq_Value"
   ]
  },
  {
   "cell_type": "code",
   "execution_count": 7,
   "metadata": {},
   "outputs": [],
   "source": [
    "assert(\n",
    "  solveset(a0_eq_Value, Delta_b).simplify() == solveset(a0_eq_Delta, Delta_b),\n",
    ");\n",
    "assert(\n",
    "  solveset(a0_eq_Value, Delta_s).simplify() == solveset(a0_eq_Delta, Delta_s),\n",
    ");\n",
    "a0_eq = a0_eq_Delta;"
   ]
  },
  {
   "cell_type": "code",
   "execution_count": 8,
   "metadata": {},
   "outputs": [
    {
     "data": {
      "text/latex": [
       "$\\displaystyle \\Delta_{b} = l_{b} - \\frac{s_{b}}{w_{b}}$"
      ],
      "text/plain": [
       "Eq(Delta_b, l_b - s_b/w_b)"
      ]
     },
     "metadata": {},
     "output_type": "display_data"
    },
    {
     "data": {
      "text/latex": [
       "$\\displaystyle \\Delta_{s} = - l_{s} + \\frac{s_{s}}{w_{s}}$"
      ],
      "text/plain": [
       "Eq(Delta_s, -l_s + s_s/w_s)"
      ]
     },
     "metadata": {},
     "output_type": "display_data"
    }
   ],
   "source": [
    "# this seems to be derived from spotByDelta\n",
    "def deltaBySpot_(asset, s, l, v, b, w, j, e, Delta, a, min):\n",
    "  f = (s - l * w) / w # at this point, this value is negative for buying and positive for selling\n",
    "  # rounding towards zero in all cases, as we are interested in the maximum delta-capacity of a given spot price\n",
    "  if asset == 'b':\n",
    "    if delta_b_negative:\n",
    "      if discrete:\n",
    "        f = ceiling(f)\n",
    "    else:\n",
    "      if discrete:\n",
    "        f = floor(-f)\n",
    "      else:\n",
    "        f = -f\n",
    "\n",
    "  else:\n",
    "    if discrete:\n",
    "      f = floor(f)\n",
    "\n",
    "  if simp:\n",
    "    f = simplify(f)\n",
    "  return f\n",
    "\n",
    "deltaBySpot = {asset: deltaBySpot_(asset, *all_symbols[asset]) for asset in assets}\n",
    "display(Eq(Delta_b, deltaBySpot['b']))\n",
    "display(Eq(Delta_s, deltaBySpot['s']))"
   ]
  },
  {
   "cell_type": "code",
   "execution_count": 9,
   "metadata": {},
   "outputs": [
    {
     "data": {
      "text/latex": [
       "$\\displaystyle \\left\\{- w_{b} \\left(\\Delta_{b} - l_{b}\\right)\\right\\}$"
      ],
      "text/plain": [
       "{-w_b*(Delta_b - l_b)}"
      ]
     },
     "execution_count": 9,
     "metadata": {},
     "output_type": "execute_result"
    }
   ],
   "source": [
    "solveset(Eq(Delta_b, deltaBySpot[\"b\"]), s_b);"
   ]
  },
  {
   "cell_type": "code",
   "execution_count": 10,
   "metadata": {},
   "outputs": [
    {
     "data": {
      "text/latex": [
       "$\\displaystyle \\left\\{w_{s} \\left(\\Delta_{s} + l_{s}\\right)\\right\\}$"
      ],
      "text/plain": [
       "{w_s*(Delta_s + l_s)}"
      ]
     },
     "execution_count": 10,
     "metadata": {},
     "output_type": "execute_result"
    }
   ],
   "source": [
    "solveset(Eq(Delta_s, deltaBySpot[\"s\"]), s_s);"
   ]
  },
  {
   "cell_type": "markdown",
   "metadata": {},
   "source": [
    "### logic behind spotByDelta\n",
    "\n",
    "- we need to pick a spot price that is worse than the amm price = w * l\n",
    "- for uninverted prices, worse means larger for buying and lower for selling\n",
    "- since prices are inverted, worse means smaller for buying and larger for\n",
    "  selling\n",
    "- this must hold true after the trade as well, so it must also be larger than\n",
    "  w * (l + Delta) for selling and smaller than w * (l - Delta) for buying\n",
    "- (assuming Delta_b is represented positively, otherwise it's larger (selling)\n",
    "  resp. smaller (buying) than w * (l + Delta) for both)"
   ]
  },
  {
   "cell_type": "code",
   "execution_count": 11,
   "metadata": {},
   "outputs": [
    {
     "data": {
      "text/latex": [
       "$\\displaystyle s_{b} = w_{b} \\left(- \\Delta_{b} + l_{b}\\right)$"
      ],
      "text/plain": [
       "Eq(s_b, w_b*(-Delta_b + l_b))"
      ]
     },
     "metadata": {},
     "output_type": "display_data"
    },
    {
     "data": {
      "text/latex": [
       "$\\displaystyle s_{s} = w_{s} \\left(\\Delta_{s} + l_{s}\\right)$"
      ],
      "text/plain": [
       "Eq(s_s, w_s*(Delta_s + l_s))"
      ]
     },
     "metadata": {},
     "output_type": "display_data"
    }
   ],
   "source": [
    "def spotByDelta_(asset, s, l, v, b, w, j, e, Delta, a, min):\n",
    "  if (not delta_b_negative) and asset == 'b':\n",
    "    f = w * (l - Delta)\n",
    "  else:\n",
    "    f = w * (l + Delta)\n",
    "  if simp:\n",
    "    f = simplify(f)\n",
    "  return f\n",
    "\n",
    "spotByDelta = {asset: spotByDelta_(asset, *all_symbols[asset]) for asset in assets}\n",
    "display(Eq(s_b, spotByDelta['b']))\n",
    "display(Eq(s_s, spotByDelta['s']))"
   ]
  },
  {
   "cell_type": "code",
   "execution_count": 12,
   "metadata": {},
   "outputs": [],
   "source": [
    "assert(Eq(spotByDelta['b'].subs({Delta_b: deltaBySpot['b']}), s_b))\n",
    "assert(Eq(spotByDelta['s'].subs({Delta_s: deltaBySpot['s']}), s_s))\n",
    "if discrete:\n",
    "  display(deltaBySpot['b'].subs({s_b: spotByDelta['b']}))\n",
    "  display(deltaBySpot['s'].subs({s_s: spotByDelta['s']}))\n",
    "else:\n",
    "  assert(Eq(deltaBySpot['b'].subs({s_b: spotByDelta['b']}), Delta_b))\n",
    "  assert(Eq(deltaBySpot['s'].subs({s_s: spotByDelta['s']}), Delta_s))"
   ]
  },
  {
   "cell_type": "code",
   "execution_count": 13,
   "metadata": {},
   "outputs": [
    {
     "data": {
      "text/latex": [
       "$\\displaystyle \\Delta_{b} w_{s} \\left(\\Delta_{s} + l_{s}\\right) = \\Delta_{s} w_{b} \\left(- \\Delta_{b} + l_{b}\\right)$"
      ],
      "text/plain": [
       "Eq(Delta_b*w_s*(Delta_s + l_s), Delta_s*w_b*(-Delta_b + l_b))"
      ]
     },
     "execution_count": 13,
     "metadata": {},
     "output_type": "execute_result"
    }
   ],
   "source": [
    "a0_eq.subs({ s_b: spotByDelta[\"b\"], s_s: spotByDelta[\"s\"] }).simplify();"
   ]
  },
  {
   "cell_type": "code",
   "execution_count": 14,
   "metadata": {},
   "outputs": [
    {
     "data": {
      "text/latex": [
       "$\\displaystyle \\Delta_{b} = \\frac{\\Delta_{s} l_{b} w_{b}}{\\Delta_{s} w_{b} + \\Delta_{s} w_{s} + l_{s} w_{s}}$"
      ],
      "text/plain": [
       "Eq(Delta_b, Delta_s*l_b*w_b/(Delta_s*w_b + Delta_s*w_s + l_s*w_s))"
      ]
     },
     "metadata": {},
     "output_type": "display_data"
    },
    {
     "data": {
      "text/latex": [
       "$\\displaystyle \\Delta_{s} = - \\frac{\\Delta_{b} l_{s} w_{s}}{\\Delta_{b} w_{b} + \\Delta_{b} w_{s} - l_{b} w_{b}}$"
      ],
      "text/plain": [
       "Eq(Delta_s, -Delta_b*l_s*w_s/(Delta_b*w_b + Delta_b*w_s - l_b*w_b))"
      ]
     },
     "metadata": {},
     "output_type": "display_data"
    }
   ],
   "source": [
    "def deltaByDelta_(asset, s, l, v, b, w, j, e, Delta, a, min):\n",
    "  # if discrete:\n",
    "  #   if asset == 'b' and delta_b_negative:\n",
    "  #     domain = S.Integers\n",
    "  #   else:\n",
    "  #     domain = S.Naturals\n",
    "  # else:\n",
    "  #   domain = S.Reals\n",
    "  # above takes more than 11 minutes, skipping for now\n",
    "  f = solveset(a0_eq.subs({s_b: spotByDelta['b'], s_s: spotByDelta['s']}), Delta)#, domain=domain)\n",
    "  f = list(f)\n",
    "  assert len(f) == 1\n",
    "  f = f[0]\n",
    "  if discrete:\n",
    "    if asset == 'b':\n",
    "      f = floor(f)\n",
    "    else:\n",
    "      f = ceiling(f)\n",
    "  if simp:\n",
    "    f = simplify(f)\n",
    "  return f\n",
    "\n",
    "deltaByDelta = {asset: deltaByDelta_(asset, *all_symbols[asset]) for asset in assets}\n",
    "display(Eq(Delta_b, deltaByDelta['b']))\n",
    "display(Eq(Delta_s, deltaByDelta['s']))"
   ]
  },
  {
   "cell_type": "code",
   "execution_count": 15,
   "metadata": {},
   "outputs": [
    {
     "name": "stdout",
     "output_type": "stream",
     "text": [
      "Eq(Delta_b, Delta_s*l_b*w_b/(Delta_s*w_b + Delta_s*w_s + l_s*w_s))\n",
      "Eq(Delta_s, -Delta_b*l_s*w_s/(Delta_b*w_b + Delta_b*w_s - l_b*w_b))\n"
     ]
    }
   ],
   "source": [
    "print(Eq(Delta_b, deltaByDelta[\"b\"]));\n",
    "print(Eq(Delta_s, deltaByDelta[\"s\"]));"
   ]
  },
  {
   "cell_type": "markdown",
   "metadata": {},
   "source": [
    "### note:\n",
    "\n",
    "- the above is undefined/negative (which reduces to undefined considering the\n",
    "  meaning) for some values.\n",
    "- when we represent Delta_b negatively, this issue appears to vanish, but\n",
    "  actually doesn't when pondering the sign of Delta_b"
   ]
  },
  {
   "cell_type": "code",
   "execution_count": 16,
   "metadata": {},
   "outputs": [
    {
     "data": {
      "text/latex": [
       "$\\displaystyle \\Delta_{s} w_{b} + \\Delta_{s} w_{s} + l_{s} w_{s}$"
      ],
      "text/plain": [
       "Delta_s*w_b + Delta_s*w_s + l_s*w_s"
      ]
     },
     "metadata": {},
     "output_type": "display_data"
    },
    {
     "data": {
      "text/latex": [
       "$\\displaystyle - \\frac{l_{s} w_{s}}{w_{b} + w_{s}}$"
      ],
      "text/plain": [
       "-l_s*w_s/(w_b + w_s)"
      ]
     },
     "execution_count": 16,
     "metadata": {},
     "output_type": "execute_result"
    }
   ],
   "source": [
    "denominator_Delta_b = deltaByDelta[\"b\"].args[-1].args[0];\n",
    "display(denominator_Delta_b);\n",
    "ndef_Delta_s = solveset(denominator_Delta_b, Delta_s);\n",
    "assert(len(ndef_Delta_s) == 1);\n",
    "ndef_Delta_s = list(ndef_Delta_s)[0];\n",
    "ndef_Delta_s;"
   ]
  },
  {
   "cell_type": "code",
   "execution_count": 17,
   "metadata": {},
   "outputs": [
    {
     "data": {
      "text/latex": [
       "$\\displaystyle \\Delta_{b} w_{b} + \\Delta_{b} w_{s} - l_{b} w_{b}$"
      ],
      "text/plain": [
       "Delta_b*w_b + Delta_b*w_s - l_b*w_b"
      ]
     },
     "metadata": {},
     "output_type": "display_data"
    },
    {
     "data": {
      "text/latex": [
       "$\\displaystyle \\frac{l_{b} w_{b}}{w_{b} + w_{s}}$"
      ],
      "text/plain": [
       "l_b*w_b/(w_b + w_s)"
      ]
     },
     "execution_count": 17,
     "metadata": {},
     "output_type": "execute_result"
    }
   ],
   "source": [
    "denominator_Delta_s = deltaByDelta[\"s\"].args[-1].args[0];\n",
    "display(denominator_Delta_s);\n",
    "ndef_Delta_b = solveset(denominator_Delta_s, Delta_b);\n",
    "assert(len(ndef_Delta_b) == 1);\n",
    "ndef_Delta_b = list(ndef_Delta_b)[0];\n",
    "ndef_Delta_b;"
   ]
  },
  {
   "cell_type": "code",
   "execution_count": 18,
   "metadata": {},
   "outputs": [
    {
     "data": {
      "text/latex": [
       "$\\displaystyle \\left\\{\\frac{\\Delta_{b} s_{s}}{s_{b}}\\right\\}$"
      ],
      "text/plain": [
       "{Delta_b*s_s/s_b}"
      ]
     },
     "metadata": {},
     "output_type": "display_data"
    },
    {
     "data": {
      "text/latex": [
       "$\\displaystyle \\left\\{\\frac{\\Delta_{s} s_{b}}{s_{s}}\\right\\}$"
      ],
      "text/plain": [
       "{Delta_s*s_b/s_s}"
      ]
     },
     "metadata": {},
     "output_type": "display_data"
    }
   ],
   "source": [
    "display(solveset(a0_eq, Delta_s));\n",
    "display(solveset(a0_eq, Delta_b));"
   ]
  },
  {
   "cell_type": "markdown",
   "metadata": {},
   "source": [
    "given that we can lower s_b arbitrarily (up to a lower bound of 1) and increase\n",
    "s_s arbitrarily, we should always be able to get a positive Delta_s\n",
    "\n",
    "given that we can get some negative Delta_s, does this imply an exploit?\n",
    "\n",
    "- in the onchain-code, the swap prices can never be negative, as they are\n",
    "  computed there from exponents\n",
    "- likewise, if Delta_b is negative (as it should be there), -Delta_b * s_s is\n",
    "  positive\n",
    "- -> negative Delta_s would violate -Delta_b * s_s <= Delta_s * s_b (for\n",
    "  negative Delta_b)\n",
    "\n",
    "-> no exploit onchain (except potentially negating both deltas, which we examine\n",
    "further below)\n",
    "\n",
    "### how do we adjust the equations for the spot prices accordingly, such that the user still get's the best effective price?\n",
    "\n",
    "And after we found an equation, how does it reconcile with the one we got\n",
    "before?"
   ]
  },
  {
   "cell_type": "code",
   "execution_count": 19,
   "metadata": {},
   "outputs": [
    {
     "data": {
      "text/latex": [
       "$\\displaystyle \\frac{w_{s} \\left(\\Delta_{s} + l_{s}\\right)}{w_{b} \\left(- \\Delta_{b} + l_{b}\\right)}$"
      ],
      "text/plain": [
       "w_s*(Delta_s + l_s)/(w_b*(-Delta_b + l_b))"
      ]
     },
     "execution_count": 19,
     "metadata": {},
     "output_type": "execute_result"
    }
   ],
   "source": [
    "lowest_spot = (s_s / s_b).subs({s_s: spotByDelta['s'], s_b: spotByDelta['b']})#.simplify()\n",
    "lowest_spot"
   ]
  },
  {
   "cell_type": "markdown",
   "metadata": {},
   "source": [
    "lowest_spot:\n",
    "\n",
    "- best (lowest) uninverted spot price the user can get (with highest inverted\n",
    "  buying price and lowest inverted selling price)\n",
    "- evidently always positive"
   ]
  },
  {
   "cell_type": "code",
   "execution_count": 20,
   "metadata": {},
   "outputs": [
    {
     "data": {
      "text/latex": [
       "$\\displaystyle \\Delta_{s} \\geq \\frac{\\Delta_{b} w_{s} \\left(\\Delta_{s} + l_{s}\\right)}{w_{b} \\left(- \\Delta_{b} + l_{b}\\right)}$"
      ],
      "text/plain": [
       "Delta_s >= Delta_b*w_s*(Delta_s + l_s)/(w_b*(-Delta_b + l_b))"
      ]
     },
     "execution_count": 20,
     "metadata": {},
     "output_type": "execute_result"
    }
   ],
   "source": [
    "Ge(Delta_s, (Delta_b * lowest_spot))#.simplify()"
   ]
  },
  {
   "cell_type": "markdown",
   "metadata": {},
   "source": [
    "above:\n",
    "\n",
    "- as Delta_b is positive (in the respective representation) and spot is\n",
    "  positive, Delta_s should always be positive\n",
    "- this however is just a rearrangement of what we already have, resulting in the\n",
    "  same paradox"
   ]
  },
  {
   "cell_type": "markdown",
   "metadata": {},
   "source": [
    "### adding extra price multiplier\n",
    "\n",
    "given that for Delta_b -> l_b * w_b / (w_b + w_s) Delta_s goes towards infinity\n",
    "in the equation derived from choosing best possible prices, we add an additional\n",
    "multiplier >= 1 to reflect worsening of the pair spot price for situations where\n",
    "Delta_b >= l_b * w_b / (w_b + w_s). This can then be translated in an arbitrary\n",
    "combination of worsening of s_b and s_s."
   ]
  },
  {
   "cell_type": "code",
   "execution_count": 21,
   "metadata": {},
   "outputs": [
    {
     "data": {
      "text/latex": [
       "$\\displaystyle \\frac{l_{b} w_{b}}{w_{b} + w_{s}}$"
      ],
      "text/plain": [
       "l_b*w_b/(w_b + w_s)"
      ]
     },
     "execution_count": 21,
     "metadata": {},
     "output_type": "execute_result"
    }
   ],
   "source": [
    "ndef_Delta_b;"
   ]
  },
  {
   "cell_type": "code",
   "execution_count": 22,
   "metadata": {},
   "outputs": [
    {
     "data": {
      "text/latex": [
       "$\\displaystyle \\frac{\\Delta_{b} w_{s} \\left(\\Delta_{s} + l_{s}\\right) \\left(m + 1\\right)}{w_{b} \\left(- \\Delta_{b} + l_{b}\\right)}$"
      ],
      "text/plain": [
       "Delta_b*w_s*(Delta_s + l_s)*(m + 1)/(w_b*(-Delta_b + l_b))"
      ]
     },
     "execution_count": 22,
     "metadata": {},
     "output_type": "execute_result"
    }
   ],
   "source": [
    "m = symbols(\"m\", nonnegative = True, real = True);\n",
    "m_Delta_s = Delta_b * lowest_spot * (1 + m);\n",
    "m_Delta_s;"
   ]
  },
  {
   "cell_type": "code",
   "execution_count": 23,
   "metadata": {},
   "outputs": [
    {
     "data": {
      "text/latex": [
       "$\\displaystyle \\left\\{\\frac{\\Delta_{s} l_{b} w_{b}}{\\Delta_{s} m w_{s} + \\Delta_{s} w_{b} + \\Delta_{s} w_{s} + l_{s} m w_{s} + l_{s} w_{s}}\\right\\} \\setminus \\left\\{l_{b}\\right\\}$"
      ],
      "text/plain": [
       "Complement({Delta_s*l_b*w_b/(Delta_s*m*w_s + Delta_s*w_b + Delta_s*w_s + l_s*m*w_s + l_s*w_s)}, {l_b})"
      ]
     },
     "metadata": {},
     "output_type": "display_data"
    },
    {
     "data": {
      "text/latex": [
       "$\\displaystyle \\frac{\\Delta_{s} l_{b} w_{b}}{\\Delta_{s} m w_{s} + \\Delta_{s} w_{b} + \\Delta_{s} w_{s} + l_{s} m w_{s} + l_{s} w_{s}}$"
      ],
      "text/plain": [
       "Delta_s*l_b*w_b/(Delta_s*m*w_s + Delta_s*w_b + Delta_s*w_s + l_s*m*w_s + l_s*w_s)"
      ]
     },
     "execution_count": 23,
     "metadata": {},
     "output_type": "execute_result"
    }
   ],
   "source": [
    "m_DeltaByDelta_b = solveset(Eq(m_Delta_s, Delta_s), Delta_b);\n",
    "display(m_DeltaByDelta_b);\n",
    "m_DeltaByDelta_b = m_DeltaByDelta_b.args[0].args[0];\n",
    "m_DeltaByDelta_b;"
   ]
  },
  {
   "cell_type": "code",
   "execution_count": 24,
   "metadata": {},
   "outputs": [
    {
     "data": {
      "text/latex": [
       "$\\displaystyle \\left\\{- \\frac{\\Delta_{b} l_{s} w_{s} \\left(m + 1\\right)}{\\Delta_{b} m w_{s} + \\Delta_{b} w_{b} + \\Delta_{b} w_{s} - l_{b} w_{b}}\\right\\}$"
      ],
      "text/plain": [
       "{-Delta_b*l_s*w_s*(m + 1)/(Delta_b*m*w_s + Delta_b*w_b + Delta_b*w_s - l_b*w_b)}"
      ]
     },
     "metadata": {},
     "output_type": "display_data"
    },
    {
     "data": {
      "text/latex": [
       "$\\displaystyle - \\frac{\\Delta_{b} l_{s} w_{s} \\left(m + 1\\right)}{\\Delta_{b} m w_{s} + \\Delta_{b} w_{b} + \\Delta_{b} w_{s} - l_{b} w_{b}}$"
      ],
      "text/plain": [
       "-Delta_b*l_s*w_s*(m + 1)/(Delta_b*m*w_s + Delta_b*w_b + Delta_b*w_s - l_b*w_b)"
      ]
     },
     "execution_count": 24,
     "metadata": {},
     "output_type": "execute_result"
    }
   ],
   "source": [
    "m_DeltaByDelta_s = solveset(Eq(m_Delta_s, Delta_s), Delta_s);\n",
    "display(m_DeltaByDelta_s);\n",
    "m_DeltaByDelta_s = m_DeltaByDelta_s.args[0];\n",
    "m_DeltaByDelta_s;"
   ]
  },
  {
   "cell_type": "code",
   "execution_count": 25,
   "metadata": {},
   "outputs": [
    {
     "data": {
      "text/latex": [
       "$\\displaystyle - \\frac{l_{b} l_{s} w_{b} w_{s} \\left(m + 1\\right)}{\\left(w_{b} + w_{s}\\right) \\left(\\frac{l_{b} m w_{b} w_{s}}{w_{b} + w_{s}} + \\frac{l_{b} w_{b}^{2}}{w_{b} + w_{s}} + \\frac{l_{b} w_{b} w_{s}}{w_{b} + w_{s}} - l_{b} w_{b}\\right)}$"
      ],
      "text/plain": [
       "-l_b*l_s*w_b*w_s*(m + 1)/((w_b + w_s)*(l_b*m*w_b*w_s/(w_b + w_s) + l_b*w_b**2/(w_b + w_s) + l_b*w_b*w_s/(w_b + w_s) - l_b*w_b))"
      ]
     },
     "execution_count": 25,
     "metadata": {},
     "output_type": "execute_result"
    }
   ],
   "source": [
    "m_DeltaByDelta_s.subs({ Delta_b: ndef_Delta_b });"
   ]
  },
  {
   "cell_type": "code",
   "execution_count": 26,
   "metadata": {},
   "outputs": [
    {
     "data": {
      "text/latex": [
       "$\\displaystyle - l_{s} - \\frac{l_{s}}{m}$"
      ],
      "text/plain": [
       "-l_s - l_s/m"
      ]
     },
     "execution_count": 26,
     "metadata": {},
     "output_type": "execute_result"
    }
   ],
   "source": [
    "m_DeltaByDelta_s.subs({ Delta_b: ndef_Delta_b }).simplify();"
   ]
  },
  {
   "cell_type": "markdown",
   "metadata": {},
   "source": [
    "this is always negative - why didn't it work?\n",
    "\n",
    "-> we are at least making the mistake of effectively increasing Delta_s on the\n",
    "lhs, without adjusting s_s accordingly\n",
    "\n",
    "(additive also didn't work)"
   ]
  },
  {
   "cell_type": "code",
   "execution_count": 27,
   "metadata": {},
   "outputs": [
    {
     "data": {
      "text/latex": [
       "$\\displaystyle \\Delta_{s} \\geq \\frac{l_{b} w_{s} \\left(\\Delta_{s} + l_{s}\\right)}{\\left(w_{b} + w_{s}\\right) \\left(- \\frac{l_{b} w_{b}}{w_{b} + w_{s}} + l_{b}\\right)}$"
      ],
      "text/plain": [
       "Delta_s >= l_b*w_s*(Delta_s + l_s)/((w_b + w_s)*(-l_b*w_b/(w_b + w_s) + l_b))"
      ]
     },
     "execution_count": 27,
     "metadata": {},
     "output_type": "execute_result"
    }
   ],
   "source": [
    "Ge(Delta_s, (Delta_b * lowest_spot)).subs({Delta_b: ndef_Delta_b})#.simplify()"
   ]
  },
  {
   "cell_type": "code",
   "execution_count": 28,
   "metadata": {},
   "outputs": [
    {
     "data": {
      "text/latex": [
       "$\\displaystyle \\Delta_{s} + l_{s}$"
      ],
      "text/plain": [
       "Delta_s + l_s"
      ]
     },
     "execution_count": 28,
     "metadata": {},
     "output_type": "execute_result"
    }
   ],
   "source": [
    "(Delta_b * lowest_spot).subs({ Delta_b: ndef_Delta_b }).simplify();"
   ]
  },
  {
   "cell_type": "code",
   "execution_count": 29,
   "metadata": {},
   "outputs": [
    {
     "data": {
      "text/latex": [
       "$\\displaystyle \\left(\\Delta_{s} + l_{s}\\right) \\left(m + 1\\right)$"
      ],
      "text/plain": [
       "(Delta_s + l_s)*(m + 1)"
      ]
     },
     "execution_count": 29,
     "metadata": {},
     "output_type": "execute_result"
    }
   ],
   "source": [
    "(Delta_b * lowest_spot * (m + 1)).subs({ Delta_b: ndef_Delta_b }).simplify();"
   ]
  },
  {
   "cell_type": "markdown",
   "metadata": {},
   "source": [
    "we can see that the undefined Delta_b results in a situation where Delta_s >=\n",
    "smth gt Delta_s\n",
    "\n",
    "let's try correcting s_s first:"
   ]
  },
  {
   "cell_type": "code",
   "execution_count": 30,
   "metadata": {},
   "outputs": [
    {
     "data": {
      "text/latex": [
       "$\\displaystyle \\frac{\\Delta_{b} w_{s} \\left(\\Delta_{s} + l_{s}\\right) \\left(m + 1\\right)}{w_{b} \\left(- \\Delta_{b} + l_{b}\\right)}$"
      ],
      "text/plain": [
       "Delta_b*w_s*(Delta_s + l_s)*(m + 1)/(w_b*(-Delta_b + l_b))"
      ]
     },
     "metadata": {},
     "output_type": "display_data"
    },
    {
     "data": {
      "text/latex": [
       "$\\displaystyle - \\frac{\\Delta_{b} w_{s} \\left(\\Delta_{s} + l_{s} \\left(m + 1\\right)\\right)}{w_{b} \\left(\\Delta_{b} - l_{b}\\right)}$"
      ],
      "text/plain": [
       "-Delta_b*w_s*(Delta_s + l_s*(m + 1))/(w_b*(Delta_b - l_b))"
      ]
     },
     "execution_count": 30,
     "metadata": {},
     "output_type": "execute_result"
    }
   ],
   "source": [
    "display(m_Delta_s);\n",
    "m_Delta_s_2 = m_Delta_s.subs({ Delta_s: Delta_s / (1 + m) }).simplify();\n",
    "m_Delta_s_2;"
   ]
  },
  {
   "cell_type": "code",
   "execution_count": 31,
   "metadata": {},
   "outputs": [
    {
     "data": {
      "text/latex": [
       "$\\displaystyle \\left\\{- \\frac{\\Delta_{b} l_{s} w_{s} \\left(m + 1\\right)}{\\Delta_{b} w_{b} + \\Delta_{b} w_{s} - l_{b} w_{b}}\\right\\}$"
      ],
      "text/plain": [
       "{-Delta_b*l_s*w_s*(m + 1)/(Delta_b*w_b + Delta_b*w_s - l_b*w_b)}"
      ]
     },
     "metadata": {},
     "output_type": "display_data"
    },
    {
     "data": {
      "text/latex": [
       "$\\displaystyle - \\frac{\\Delta_{b} l_{s} w_{s} \\left(m + 1\\right)}{\\Delta_{b} w_{b} + \\Delta_{b} w_{s} - l_{b} w_{b}}$"
      ],
      "text/plain": [
       "-Delta_b*l_s*w_s*(m + 1)/(Delta_b*w_b + Delta_b*w_s - l_b*w_b)"
      ]
     },
     "execution_count": 31,
     "metadata": {},
     "output_type": "execute_result"
    }
   ],
   "source": [
    "m_DeltaByDelta_s_2 = solveset(Eq(m_Delta_s_2, Delta_s), Delta_s);\n",
    "display(m_DeltaByDelta_s_2);\n",
    "m_DeltaByDelta_s_2 = m_DeltaByDelta_s_2.args[0];\n",
    "m_DeltaByDelta_s_2;"
   ]
  },
  {
   "cell_type": "code",
   "execution_count": 32,
   "metadata": {},
   "outputs": [
    {
     "data": {
      "text/latex": [
       "$\\displaystyle \\tilde{\\infty}$"
      ],
      "text/plain": [
       "zoo"
      ]
     },
     "execution_count": 32,
     "metadata": {},
     "output_type": "execute_result"
    }
   ],
   "source": [
    "m_DeltaByDelta_s_2.subs({ Delta_b: ndef_Delta_b }).simplify();"
   ]
  },
  {
   "cell_type": "markdown",
   "metadata": {},
   "source": [
    "### we conclude\n",
    "\n",
    "that the unsolveablity of the issue boils down to the simple fact that:\n",
    "\n",
    "- as Delta_b approaches l_b * w_b / (w_b + w_s), Delta_s approaches infinity\n",
    "- this means the effective price Delta_s / Delta_b approaches infinity\n",
    "- if we were able to remedy that, we would be able to reduce the effective price\n",
    "  at least at some points, which should not be allowed\n",
    "\n",
    "-> let's just note the additional constraint\n",
    "\n",
    "TODO: Add this check to the offchain/frontend such that the pool creator knows\n",
    "when some liquidity can never be bought. This might however require some\n",
    "additional analysis for the multi-asset-case. Also note that each swap reduces\n",
    "l_b, so maybe this is a non-issue after all"
   ]
  },
  {
   "cell_type": "markdown",
   "metadata": {},
   "source": [
    "(below is just some check that fits nowhere really)"
   ]
  },
  {
   "cell_type": "code",
   "execution_count": 33,
   "metadata": {},
   "outputs": [
    {
     "data": {
      "text/latex": [
       "$\\displaystyle \\left\\{\\frac{\\Delta_{s} l_{b} w_{b}}{\\Delta_{s} w_{b} + \\Delta_{s} w_{s} + l_{s} w_{s}}\\right\\} \\setminus \\left\\{\\frac{l_{b} w_{b}}{w_{b} + w_{s}}\\right\\}$"
      ],
      "text/plain": [
       "Complement({Delta_s*l_b*w_b/(Delta_s*w_b + Delta_s*w_s + l_s*w_s)}, {l_b*w_b/(w_b + w_s)})"
      ]
     },
     "execution_count": 33,
     "metadata": {},
     "output_type": "execute_result"
    }
   ],
   "source": [
    "solveset(Eq(Delta_s, deltaByDelta[\"s\"]), Delta_b);"
   ]
  },
  {
   "cell_type": "code",
   "execution_count": 34,
   "metadata": {},
   "outputs": [
    {
     "data": {
      "text/latex": [
       "$\\displaystyle \\left\\{- \\frac{\\Delta_{b} l_{s} w_{s}}{\\Delta_{b} w_{b} + \\Delta_{b} w_{s} - l_{b} w_{b}}\\right\\} \\setminus \\left\\{- \\frac{l_{s} w_{s}}{w_{b} + w_{s}}\\right\\}$"
      ],
      "text/plain": [
       "Complement({-Delta_b*l_s*w_s/(Delta_b*w_b + Delta_b*w_s - l_b*w_b)}, {-l_s*w_s/(w_b + w_s)})"
      ]
     },
     "execution_count": 34,
     "metadata": {},
     "output_type": "execute_result"
    }
   ],
   "source": [
    "solveset(Eq(Delta_b, deltaByDelta[\"b\"]), Delta_s);"
   ]
  },
  {
   "cell_type": "markdown",
   "metadata": {},
   "source": [
    "### what happens if an attacker simply removes the \"selling\" asset and adds the \"buying\" one instead of the other way around?\n",
    "\n",
    "- onchain equation: -Delta_b * s_s <= Delta_s * s_b\n",
    "- representing Delta_b positively: Delta_b * s_s <= Delta_s * s_b\n",
    "- => effectivePrice = Delta_s / Delta_b >= s_s / s_b = spotPrice\n",
    "- spotPrice conditions:\n",
    "  - prior: s_b <= w_b * l_b, s_s >= w_s * l_s\n",
    "    - => spotPrice >= w_s * l_s / (w_b * l_b)\n",
    "  - posterior: s_b <= w_b * (l_b - Delta_b), s_s >= w_s * (l_s + Delta_s)\n",
    "    - => spotPrice >= w_s * (l_s + Delta_s) / (w_b * (l_b - Delta_b))\n",
    "\n",
    "if Delta_b is positive and Delta_s is negative:\n",
    "\n",
    "- the equation is not violated per se\n",
    "- the effective price stays the same as the negations cancel out\n",
    "- however, the condition for the posterior spotPrice changes:\n",
    "  - s_b <= w_b * (l_b + Delta_b), s_s >= w_s * (l_s - Delta_s)\n",
    "    - => spotPrice >= w_s * (l_s - Delta_s) / (w_b * (l_b + Delta_b))\n",
    "      - --> this constitutes an exploit!\n",
    "\n",
    "### fix\n",
    "\n",
    "- require correct signs for balance-changes\n",
    "- we can also drop the pre-swap price requirement, as it's subsumed by the\n",
    "  post-swap one"
   ]
  },
  {
   "cell_type": "code",
   "execution_count": null,
   "metadata": {},
   "outputs": [],
   "source": []
  },
  {
   "cell_type": "markdown",
   "metadata": {},
   "source": [
    "# worst case rounding analysis\n",
    "\n",
    "- rounding the Deltas cannot do worse than increasing Delta_s by 1 and\n",
    "  decreasing Delta_b by 1\n",
    "- spotByDelta has no divisions and is therefore unaffected by rounding\n",
    "- we are not accounting yet for the rounding effect of having to express spots\n",
    "  via exponents, not here or above (TODO, TODO)"
   ]
  },
  {
   "cell_type": "code",
   "execution_count": 35,
   "metadata": {},
   "outputs": [
    {
     "data": {
      "text/latex": [
       "$\\displaystyle \\frac{\\Delta_{s}}{\\Delta_{b}}$"
      ],
      "text/plain": [
       "Delta_s/Delta_b"
      ]
     },
     "metadata": {},
     "output_type": "display_data"
    },
    {
     "data": {
      "text/latex": [
       "$\\displaystyle \\frac{\\Delta_{s} + 1}{\\Delta_{b} - 1}$"
      ],
      "text/plain": [
       "(Delta_s + 1)/(Delta_b - 1)"
      ]
     },
     "execution_count": 35,
     "metadata": {},
     "output_type": "execute_result"
    }
   ],
   "source": [
    "eff_best = Delta_s / Delta_b # effective price we want to minimize\n",
    "display(eff_best)\n",
    "eff_worst = (Delta_s + 1) / (Delta_b - 1) # noninclusive worst case resulting from rounding Deltas\n",
    "eff_worst"
   ]
  },
  {
   "cell_type": "code",
   "execution_count": 36,
   "metadata": {},
   "outputs": [
    {
     "data": {
      "text/latex": [
       "$\\displaystyle \\Large { \\frac{\\Delta_{s} w_{b} + \\Delta_{s} w_{s} + l_{s} w_{s}}{l_{b} w_{b}} }$"
      ],
      "text/plain": [
       "<IPython.core.display.Math object>"
      ]
     },
     "metadata": {},
     "output_type": "display_data"
    },
    {
     "data": {
      "text/latex": [
       "$\\displaystyle \\Large { - \\frac{l_{s} w_{s}}{\\Delta_{b} w_{b} + \\Delta_{b} w_{s} - l_{b} w_{b}} }$"
      ],
      "text/plain": [
       "<IPython.core.display.Math object>"
      ]
     },
     "metadata": {},
     "output_type": "display_data"
    }
   ],
   "source": [
    "large(eff_best.subs({ Delta_b: deltaByDelta[\"b\"] }).simplify());\n",
    "large(eff_best.subs({ Delta_s: deltaByDelta[\"s\"] }).simplify());"
   ]
  },
  {
   "cell_type": "markdown",
   "metadata": {},
   "source": [
    "-> simply minimized by minimizing Deltas"
   ]
  },
  {
   "cell_type": "code",
   "execution_count": 37,
   "metadata": {},
   "outputs": [
    {
     "data": {
      "text/latex": [
       "$\\displaystyle \\Large { \\frac{\\Delta_{s} + 1}{\\frac{\\Delta_{s} l_{b} w_{b}}{\\Delta_{s} w_{b} + \\Delta_{s} w_{s} + l_{s} w_{s}} - 1} }$"
      ],
      "text/plain": [
       "<IPython.core.display.Math object>"
      ]
     },
     "metadata": {},
     "output_type": "display_data"
    },
    {
     "data": {
      "text/latex": [
       "$\\displaystyle \\Large { \\frac{\\left(\\Delta_{s} + 1\\right) \\left(\\Delta_{s} w_{b} + \\Delta_{s} w_{s} + l_{s} w_{s}\\right)}{\\Delta_{s} l_{b} w_{b} - \\Delta_{s} w_{b} - \\Delta_{s} w_{s} - l_{s} w_{s}} }$"
      ],
      "text/plain": [
       "<IPython.core.display.Math object>"
      ]
     },
     "metadata": {},
     "output_type": "display_data"
    }
   ],
   "source": [
    "eff_worst_Delta_s = eff_worst.subs({ Delta_b: deltaByDelta[\"b\"] });\n",
    "large(eff_worst_Delta_s);\n",
    "eff_worst_Delta_s = eff_worst_Delta_s.simplify();\n",
    "large(eff_worst_Delta_s);"
   ]
  },
  {
   "cell_type": "code",
   "execution_count": 38,
   "metadata": {},
   "outputs": [
    {
     "data": {
      "text/latex": [
       "$\\displaystyle \\Large { \\frac{\\Delta_{s}^{2} w_{b} + \\Delta_{s}^{2} w_{s} + \\Delta_{s} l_{s} w_{s} + \\Delta_{s} w_{b} + \\Delta_{s} w_{s} + l_{s} w_{s}}{\\Delta_{s} l_{b} w_{b} - \\Delta_{s} w_{b} - \\Delta_{s} w_{s} - l_{s} w_{s}} }$"
      ],
      "text/plain": [
       "<IPython.core.display.Math object>"
      ]
     },
     "metadata": {},
     "output_type": "display_data"
    }
   ],
   "source": [
    "large(expand(eff_worst_Delta_s).simplify());"
   ]
  },
  {
   "cell_type": "code",
   "execution_count": 39,
   "metadata": {},
   "outputs": [
    {
     "data": {
      "text/latex": [
       "$\\displaystyle \\Large { \\frac{\\Delta_{s}^{2} \\left(w_{b} + w_{s}\\right) + \\Delta_{s} \\left(l_{s} w_{s} + w_{b} + w_{s}\\right) + l_{s} w_{s}}{\\Delta_{s} \\left(l_{b} w_{b} - w_{b} - w_{s}\\right) - l_{s} w_{s}} }$"
      ],
      "text/plain": [
       "<IPython.core.display.Math object>"
      ]
     },
     "metadata": {},
     "output_type": "display_data"
    },
    {
     "data": {
      "text/latex": [
       "$\\displaystyle \\text{True}$"
      ],
      "text/plain": [
       "True"
      ]
     },
     "execution_count": 39,
     "metadata": {},
     "output_type": "execute_result"
    }
   ],
   "source": [
    "numerator = Delta_s ** 2 * (w_b + w_s) + Delta_s * (l_s * w_s + w_b + w_s) +\n",
    "  l_s * w_s;\n",
    "denominator = Delta_s * (l_b * w_b - w_b - w_s) - l_s * w_s;\n",
    "f = numerator / denominator;\n",
    "large(f);\n",
    "Eq(f, eff_worst_Delta_s).simplify();"
   ]
  },
  {
   "cell_type": "code",
   "execution_count": 40,
   "metadata": {},
   "outputs": [
    {
     "data": {
      "text/latex": [
       "$\\displaystyle \\frac{\\Delta_{s}^{2} a + \\Delta_{s} b + c}{\\Delta_{s} d_{pos} - c}$"
      ],
      "text/plain": [
       "(Delta_s**2*a + Delta_s*b + c)/(Delta_s*d_pos - c)"
      ]
     },
     "metadata": {},
     "output_type": "display_data"
    }
   ],
   "source": [
    "a, b, c, d_pos = symbols(\"a b c d_pos\", positive = True, integer = True);\n",
    "\n",
    "a_subs = w_b + w_s;\n",
    "b_subs = l_s * w_s + w_b + w_s;\n",
    "c_subs = l_s * w_s;\n",
    "d_subs = l_b * w_b - w_b - w_s;\n",
    "\n",
    "f1 = f.subs({ a_subs: a, b_subs: b, c_subs: c, d_subs: d_pos });\n",
    "display(f1);"
   ]
  },
  {
   "cell_type": "code",
   "execution_count": 41,
   "metadata": {},
   "outputs": [
    {
     "data": {
      "text/latex": [
       "$\\displaystyle \\frac{- d_{pos} \\left(\\Delta_{s}^{2} a + \\Delta_{s} b + c\\right) + \\left(2 \\Delta_{s} a + b\\right) \\left(\\Delta_{s} d_{pos} - c\\right)}{\\left(\\Delta_{s} d_{pos} - c\\right)^{2}}$"
      ],
      "text/plain": [
       "(-d_pos*(Delta_s**2*a + Delta_s*b + c) + (2*Delta_s*a + b)*(Delta_s*d_pos - c))/(Delta_s*d_pos - c)**2"
      ]
     },
     "metadata": {},
     "output_type": "display_data"
    }
   ],
   "source": [
    "d_f1 = f1.diff(Delta_s).simplify();\n",
    "display(d_f1);"
   ]
  },
  {
   "cell_type": "code",
   "execution_count": 42,
   "metadata": {},
   "outputs": [
    {
     "data": {
      "text/latex": [
       "$\\displaystyle \\left\\{\\frac{c}{d_{pos}} - \\frac{\\sqrt{c} \\sqrt{a c + b d_{pos} + d_{pos}^{2}}}{\\sqrt{a} d_{pos}}, \\frac{c}{d_{pos}} + \\frac{\\sqrt{c} \\sqrt{a c + b d_{pos} + d_{pos}^{2}}}{\\sqrt{a} d_{pos}}\\right\\}$"
      ],
      "text/plain": [
       "{c/d_pos - sqrt(c)*sqrt(a*c + b*d_pos + d_pos**2)/(sqrt(a)*d_pos), c/d_pos + sqrt(c)*sqrt(a*c + b*d_pos + d_pos**2)/(sqrt(a)*d_pos)}"
      ]
     },
     "metadata": {},
     "output_type": "display_data"
    }
   ],
   "source": [
    "sols_f1 = solveset(d_f1, Delta_s);\n",
    "display(sols_f1);"
   ]
  },
  {
   "cell_type": "code",
   "execution_count": 43,
   "metadata": {},
   "outputs": [
    {
     "data": {
      "text/latex": [
       "$\\displaystyle \\Delta_{s} = \\frac{c}{d_{pos}} + \\frac{\\sqrt{c} \\sqrt{a c + b d_{pos} + d_{pos}^{2}}}{\\sqrt{a} d_{pos}}$"
      ],
      "text/plain": [
       "Eq(Delta_s, c/d_pos + sqrt(c)*sqrt(a*c + b*d_pos + d_pos**2)/(sqrt(a)*d_pos))"
      ]
     },
     "metadata": {},
     "output_type": "display_data"
    },
    {
     "name": "stdout",
     "output_type": "stream",
     "text": [
      "\t-> everything positive -> solution positive -> VALID\n"
     ]
    },
    {
     "data": {
      "text/latex": [
       "$\\displaystyle \\Delta_{s} = \\frac{c}{d_{pos}} - \\frac{\\sqrt{c} \\sqrt{a c + b d_{pos} + d_{pos}^{2}}}{\\sqrt{a} d_{pos}}$"
      ],
      "text/plain": [
       "Eq(Delta_s, c/d_pos - sqrt(c)*sqrt(a*c + b*d_pos + d_pos**2)/(sqrt(a)*d_pos))"
      ]
     },
     "metadata": {},
     "output_type": "display_data"
    },
    {
     "name": "stdout",
     "output_type": "stream",
     "text": [
      "\t-> needs to be investigated further (spoiler: it'll turn out to be a maximum anyways, so we can skip it)\n"
     ]
    }
   ],
   "source": [
    "sol1 = Eq(Delta_s, sols_f1.args[0]);\n",
    "display(sol1);\n",
    "print(\"\\t-> everything positive -> solution positive -> VALID\");\n",
    "sol2 = Eq(Delta_s, sols_f1.args[1]);\n",
    "display(sol2);\n",
    "print(\n",
    "  \"\\t-> needs to be investigated further (spoiler: it'll turn out to be a maximum anyways, so we can skip it)\",\n",
    ");"
   ]
  },
  {
   "cell_type": "markdown",
   "metadata": {},
   "source": [
    "What happens if d is zero or negative?\n",
    "\n",
    "- zero d:"
   ]
  },
  {
   "cell_type": "code",
   "execution_count": 44,
   "metadata": {},
   "outputs": [
    {
     "data": {
      "text/latex": [
       "$\\displaystyle l_{b} w_{b} - w_{b} - w_{s} = 0$"
      ],
      "text/plain": [
       "Eq(l_b*w_b - w_b - w_s, 0)"
      ]
     },
     "metadata": {},
     "output_type": "display_data"
    },
    {
     "data": {
      "text/latex": [
       "$\\displaystyle \\frac{\\Delta_{s}^{2} \\left(w_{b} + w_{s}\\right) + \\Delta_{s} \\left(l_{s} w_{s} + w_{b} + w_{s}\\right) + l_{s} w_{s}}{\\Delta_{s} \\left(l_{b} w_{b} - w_{b} - w_{s}\\right) - l_{s} w_{s}}$"
      ],
      "text/plain": [
       "(Delta_s**2*(w_b + w_s) + Delta_s*(l_s*w_s + w_b + w_s) + l_s*w_s)/(Delta_s*(l_b*w_b - w_b - w_s) - l_s*w_s)"
      ]
     },
     "metadata": {},
     "output_type": "display_data"
    },
    {
     "data": {
      "text/latex": [
       "$\\displaystyle \\frac{\\Delta_{s}^{2} \\left(- w_{b} - w_{s}\\right) - \\Delta_{s} \\left(l_{s} w_{s} + w_{b} + w_{s}\\right) - l_{s} w_{s}}{l_{s} w_{s}}$"
      ],
      "text/plain": [
       "(Delta_s**2*(-w_b - w_s) - Delta_s*(l_s*w_s + w_b + w_s) - l_s*w_s)/(l_s*w_s)"
      ]
     },
     "metadata": {},
     "output_type": "display_data"
    },
    {
     "data": {
      "text/latex": [
       "$\\displaystyle - \\frac{\\Delta_{s}^{2} w_{b}}{l_{s} w_{s}} - \\frac{\\Delta_{s}^{2}}{l_{s}} - \\Delta_{s} - \\frac{\\Delta_{s} w_{b}}{l_{s} w_{s}} - \\frac{\\Delta_{s}}{l_{s}} - 1$"
      ],
      "text/plain": [
       "-Delta_s**2*w_b/(l_s*w_s) - Delta_s**2/l_s - Delta_s - Delta_s*w_b/(l_s*w_s) - Delta_s/l_s - 1"
      ]
     },
     "metadata": {},
     "output_type": "display_data"
    }
   ],
   "source": [
    "display(Eq(d_subs, 0))\n",
    "display(f) # recall: this is our reformulation of the effective price by Delta_s, worst case scenario\n",
    "display(f.subs({d_subs: 0}).simplify())\n",
    "display(f.subs({d_subs: 0}).simplify().expand())"
   ]
  },
  {
   "cell_type": "markdown",
   "metadata": {},
   "source": [
    "-> given that all summands for the effective price are negative, this solution\n",
    "is indeed invalid\n",
    "\n",
    "- negative d:"
   ]
  },
  {
   "cell_type": "code",
   "execution_count": 45,
   "metadata": {},
   "outputs": [
    {
     "data": {
      "text/latex": [
       "$\\displaystyle l_{b} w_{b} - w_{b} - w_{s} < 0$"
      ],
      "text/plain": [
       "l_b*w_b - w_b - w_s < 0"
      ]
     },
     "metadata": {},
     "output_type": "display_data"
    }
   ],
   "source": [
    "display(Lt(d_subs, 0));"
   ]
  },
  {
   "cell_type": "markdown",
   "metadata": {},
   "source": [
    "-> denominator is negative, numerator is positive -> effective price is negative\n",
    "-> invalid\n",
    "\n",
    "=> there are no solutions besides the ones for d_pos"
   ]
  },
  {
   "cell_type": "code",
   "execution_count": 46,
   "metadata": {},
   "outputs": [
    {
     "data": {
      "text/latex": [
       "$\\displaystyle l_{b} w_{b} - w_{b} - w_{s} > 0$"
      ],
      "text/plain": [
       "l_b*w_b - w_b - w_s > 0"
      ]
     },
     "metadata": {},
     "output_type": "display_data"
    },
    {
     "data": {
      "text/latex": [
       "$\\displaystyle l_{b} - 1 > \\frac{w_{s}}{w_{b}}$"
      ],
      "text/plain": [
       "l_b - 1 > w_s/w_b"
      ]
     },
     "metadata": {},
     "output_type": "display_data"
    }
   ],
   "source": [
    "display(Gt(d_subs, 0));\n",
    "display(Gt(l_b - 1, w_s / w_b));"
   ]
  },
  {
   "cell_type": "markdown",
   "metadata": {},
   "source": [
    "### analysing second derivative to determine minimum-status of solutions:"
   ]
  },
  {
   "cell_type": "code",
   "execution_count": 47,
   "metadata": {},
   "outputs": [
    {
     "data": {
      "text/latex": [
       "$\\displaystyle \\Large { \\frac{2 \\left(a \\left(\\Delta_{s} d_{pos} - c\\right)^{2} + d_{pos} \\left(d_{pos} \\left(\\Delta_{s}^{2} a + \\Delta_{s} b + c\\right) - \\left(2 \\Delta_{s} a + b\\right) \\left(\\Delta_{s} d_{pos} - c\\right)\\right)\\right)}{\\left(\\Delta_{s} d_{pos} - c\\right)^{3}} }$"
      ],
      "text/plain": [
       "<IPython.core.display.Math object>"
      ]
     },
     "metadata": {},
     "output_type": "display_data"
    }
   ],
   "source": [
    "dd_f1 = d_f1.diff(Delta_s).simplify();\n",
    "large(dd_f1);"
   ]
  },
  {
   "cell_type": "code",
   "execution_count": 48,
   "metadata": {},
   "outputs": [
    {
     "data": {
      "text/latex": [
       "$\\displaystyle \\Large { \\frac{2 a^{\\frac{3}{2}}}{\\sqrt{c} \\sqrt{a c + b d_{pos} + d_{pos}^{2}}} }$"
      ],
      "text/plain": [
       "<IPython.core.display.Math object>"
      ]
     },
     "metadata": {},
     "output_type": "display_data"
    },
    {
     "name": "stdout",
     "output_type": "stream",
     "text": [
      "-> nonzero -> extremum\n",
      "-> positive -> minimum\n"
     ]
    },
    {
     "data": {
      "text/latex": [
       "$\\displaystyle \\Large { - \\frac{2 a^{\\frac{3}{2}}}{\\sqrt{c} \\sqrt{a c + b d_{pos} + d_{pos}^{2}}} }$"
      ],
      "text/plain": [
       "<IPython.core.display.Math object>"
      ]
     },
     "metadata": {},
     "output_type": "display_data"
    },
    {
     "name": "stdout",
     "output_type": "stream",
     "text": [
      "-> nonzero -> extremum\n",
      "-> negative -> maximum\n"
     ]
    }
   ],
   "source": [
    "dd_sol1 = dd_f1.subs({Delta_s: sol1.rhs}).simplify()\n",
    "large(dd_sol1)\n",
    "if Eq(dd_sol1, 0) == False: print(\"-> nonzero -> extremum\")\n",
    "if (dd_sol1.is_positive == True): print(\"-> positive -> minimum\")\n",
    "dd_sol2 = dd_f1.subs({Delta_s: sol2.rhs}).simplify()\n",
    "large(dd_sol2)\n",
    "if Eq(dd_sol2, 0) == False: print(\"-> nonzero -> extremum\")\n",
    "if (dd_sol2.is_negative == True): print(\"-> negative -> maximum\")"
   ]
  },
  {
   "cell_type": "markdown",
   "metadata": {},
   "source": [
    "### investigating limits:"
   ]
  },
  {
   "cell_type": "code",
   "execution_count": 49,
   "metadata": {},
   "outputs": [
    {
     "data": {
      "text/latex": [
       "$\\displaystyle -1$"
      ],
      "text/plain": [
       "-1"
      ]
     },
     "metadata": {},
     "output_type": "display_data"
    },
    {
     "data": {
      "text/latex": [
       "$\\displaystyle \\infty$"
      ],
      "text/plain": [
       "oo"
      ]
     },
     "metadata": {},
     "output_type": "display_data"
    },
    {
     "data": {
      "text/latex": [
       "$\\displaystyle -\\infty$"
      ],
      "text/plain": [
       "-oo"
      ]
     },
     "metadata": {},
     "output_type": "display_data"
    }
   ],
   "source": [
    "display(f1.subs(Delta_s, 0));\n",
    "display(limit(f1, Delta_s, oo));\n",
    "display(limit(f1, Delta_s, -oo));"
   ]
  },
  {
   "cell_type": "code",
   "execution_count": 50,
   "metadata": {},
   "outputs": [
    {
     "data": {
      "text/latex": [
       "$\\displaystyle \\left\\{- \\frac{b}{2 a} - \\frac{\\sqrt{- 4 a c + b^{2}}}{2 a}, - \\frac{b}{2 a} + \\frac{\\sqrt{- 4 a c + b^{2}}}{2 a}\\right\\} \\setminus \\left\\{\\frac{c}{d_{pos}}\\right\\}$"
      ],
      "text/plain": [
       "Complement({-b/(2*a) - sqrt(-4*a*c + b**2)/(2*a), -b/(2*a) + sqrt(-4*a*c + b**2)/(2*a)}, {c/d_pos})"
      ]
     },
     "metadata": {},
     "output_type": "display_data"
    },
    {
     "name": "stdout",
     "output_type": "stream",
     "text": [
      "crosses x-axis at:\n"
     ]
    },
    {
     "data": {
      "text/latex": [
       "$\\displaystyle \\frac{- b - \\sqrt{- 4 a c + b^{2}}}{2 a}$"
      ],
      "text/plain": [
       "(-b - sqrt(-4*a*c + b**2))/(2*a)"
      ]
     },
     "metadata": {},
     "output_type": "display_data"
    },
    {
     "data": {
      "text/latex": [
       "$\\displaystyle \\frac{- l_{s} w_{s} - w_{b} - w_{s} - \\sqrt{- 4 l_{s} w_{s} \\left(w_{b} + w_{s}\\right) + \\left(l_{s} w_{s} + w_{b} + w_{s}\\right)^{2}}}{2 \\left(w_{b} + w_{s}\\right)}$"
      ],
      "text/plain": [
       "(-l_s*w_s - w_b - w_s - sqrt(-4*l_s*w_s*(w_b + w_s) + (l_s*w_s + w_b + w_s)**2))/(2*(w_b + w_s))"
      ]
     },
     "metadata": {},
     "output_type": "display_data"
    },
    {
     "name": "stdout",
     "output_type": "stream",
     "text": [
      "and:\n"
     ]
    },
    {
     "data": {
      "text/latex": [
       "$\\displaystyle \\frac{- b + \\sqrt{- 4 a c + b^{2}}}{2 a}$"
      ],
      "text/plain": [
       "(-b + sqrt(-4*a*c + b**2))/(2*a)"
      ]
     },
     "metadata": {},
     "output_type": "display_data"
    },
    {
     "data": {
      "text/latex": [
       "$\\displaystyle \\frac{- l_{s} w_{s} - w_{b} - w_{s} + \\sqrt{- 4 l_{s} w_{s} \\left(w_{b} + w_{s}\\right) + \\left(l_{s} w_{s} + w_{b} + w_{s}\\right)^{2}}}{2 \\left(w_{b} + w_{s}\\right)}$"
      ],
      "text/plain": [
       "(-l_s*w_s - w_b - w_s + sqrt(-4*l_s*w_s*(w_b + w_s) + (l_s*w_s + w_b + w_s)**2))/(2*(w_b + w_s))"
      ]
     },
     "metadata": {},
     "output_type": "display_data"
    }
   ],
   "source": [
    "f1_zero = solveset(f1, Delta_s);\n",
    "display(f1_zero);\n",
    "print(\"crosses x-axis at:\");\n",
    "display(f1_zero.args[0].args[0].simplify());\n",
    "display(\n",
    "  f1_zero.args[0].args[0].subs({\n",
    "    a: a_subs,\n",
    "    b: b_subs,\n",
    "    c: c_subs,\n",
    "    d_pos: d_subs,\n",
    "  }).simplify(),\n",
    ");\n",
    "print(\"and:\");\n",
    "display(f1_zero.args[0].args[1].simplify());\n",
    "display(\n",
    "  f1_zero.args[0].args[1].subs({\n",
    "    a: a_subs,\n",
    "    b: b_subs,\n",
    "    c: c_subs,\n",
    "    d_pos: d_subs,\n",
    "  }).simplify(),\n",
    ");"
   ]
  },
  {
   "cell_type": "code",
   "execution_count": 51,
   "metadata": {},
   "outputs": [
    {
     "name": "stdout",
     "output_type": "stream",
     "text": [
      "singularity at:\n"
     ]
    },
    {
     "data": {
      "text/latex": [
       "$\\displaystyle \\frac{c}{d_{pos}}$"
      ],
      "text/plain": [
       "c/d_pos"
      ]
     },
     "metadata": {},
     "output_type": "display_data"
    },
    {
     "data": {
      "text/latex": [
       "$\\displaystyle \\frac{l_{s} w_{s}}{l_{b} w_{b} - w_{b} - w_{s}}$"
      ],
      "text/plain": [
       "l_s*w_s/(l_b*w_b - w_b - w_s)"
      ]
     },
     "metadata": {},
     "output_type": "display_data"
    },
    {
     "name": "stdout",
     "output_type": "stream",
     "text": [
      "singularity-limit from below:\n"
     ]
    },
    {
     "data": {
      "text/latex": [
       "$\\displaystyle -\\infty$"
      ],
      "text/plain": [
       "-oo"
      ]
     },
     "metadata": {},
     "output_type": "display_data"
    },
    {
     "name": "stdout",
     "output_type": "stream",
     "text": [
      "singularity-limit from above:\n"
     ]
    },
    {
     "data": {
      "text/latex": [
       "$\\displaystyle \\infty$"
      ],
      "text/plain": [
       "oo"
      ]
     },
     "metadata": {},
     "output_type": "display_data"
    }
   ],
   "source": [
    "print(\"singularity at:\");\n",
    "f1_ndef = f1_zero.args[1].args[0];\n",
    "display(f1_ndef);\n",
    "display(f1_ndef.subs({ a: a_subs, b: b_subs, c: c_subs, d_pos: d_subs }));\n",
    "print(\"singularity-limit from below:\");\n",
    "display(limit(f1, Delta_s, f1_ndef, dir = \"-\"));\n",
    "print(\"singularity-limit from above:\");\n",
    "display(limit(f1, Delta_s, f1_ndef, dir = \"+\"));"
   ]
  },
  {
   "cell_type": "code",
   "execution_count": 52,
   "metadata": {},
   "outputs": [
    {
     "name": "stdout",
     "output_type": "stream",
     "text": [
      "maximum at:\n"
     ]
    },
    {
     "data": {
      "text/latex": [
       "$\\displaystyle \\Delta_{s} = \\frac{c}{d_{pos}} - \\frac{\\sqrt{c} \\sqrt{a c + b d_{pos} + d_{pos}^{2}}}{\\sqrt{a} d_{pos}}$"
      ],
      "text/plain": [
       "Eq(Delta_s, c/d_pos - sqrt(c)*sqrt(a*c + b*d_pos + d_pos**2)/(sqrt(a)*d_pos))"
      ]
     },
     "metadata": {},
     "output_type": "display_data"
    },
    {
     "data": {
      "text/latex": [
       "$\\displaystyle \\Delta_{s} = \\frac{- \\sqrt{l_{b}} \\sqrt{l_{s}} \\sqrt{w_{b}} \\sqrt{w_{s}} \\sqrt{l_{b} w_{b} + l_{s} w_{s} - w_{b} - w_{s}} + l_{s} w_{s} \\sqrt{w_{b} + w_{s}}}{\\sqrt{w_{b} + w_{s}} \\left(l_{b} w_{b} - w_{b} - w_{s}\\right)}$"
      ],
      "text/plain": [
       "Eq(Delta_s, (-sqrt(l_b)*sqrt(l_s)*sqrt(w_b)*sqrt(w_s)*sqrt(l_b*w_b + l_s*w_s - w_b - w_s) + l_s*w_s*sqrt(w_b + w_s))/(sqrt(w_b + w_s)*(l_b*w_b - w_b - w_s)))"
      ]
     },
     "metadata": {},
     "output_type": "display_data"
    }
   ],
   "source": [
    "print(\"maximum at:\");\n",
    "display(sol2);\n",
    "display(\n",
    "  sol2.subs({ a: a_subs, b: b_subs, c: c_subs, d_pos: d_subs }).simplify(),\n",
    ");"
   ]
  },
  {
   "cell_type": "markdown",
   "metadata": {},
   "source": [
    "-> we have a function that\n",
    "\n",
    "- comes from -oo\n",
    "- increases\n",
    "- crosses the x-axis from below at some negative x (see equation above, which\n",
    "  has only negative summands)\n",
    "- reaches a maximum (which needs to happen between the two crossings of the\n",
    "  x-axis)\n",
    "- decreases\n",
    "- crosses the x-axis from above at some negative x (we know this because we know\n",
    "  that it crosses the y-axis at -1)\n",
    "- crosses the y-axis at -1 (where the x - Delta_s - actually starts being\n",
    "  defined)\n",
    "- goes to -oo at some positive value\n",
    "- comes back from oo (where the y - effective price - actually starts being\n",
    "  defined)\n",
    "- decreases\n",
    "- reaches a minimum\n",
    "- increases\n",
    "- goes to oo"
   ]
  },
  {
   "cell_type": "markdown",
   "metadata": {},
   "source": [
    "## substituting solution for d_pos back:"
   ]
  },
  {
   "cell_type": "code",
   "execution_count": 53,
   "metadata": {},
   "outputs": [
    {
     "data": {
      "text/latex": [
       "$\\displaystyle \\Large { \\Delta_{s} = \\frac{\\sqrt{l_{b}} \\sqrt{l_{s}} \\sqrt{w_{b}} \\sqrt{w_{s}} \\sqrt{l_{b} w_{b} + l_{s} w_{s} - w_{b} - w_{s}} + l_{s} w_{s} \\sqrt{w_{b} + w_{s}}}{\\sqrt{w_{b} + w_{s}} \\left(l_{b} w_{b} - w_{b} - w_{s}\\right)} }$"
      ],
      "text/plain": [
       "<IPython.core.display.Math object>"
      ]
     },
     "metadata": {},
     "output_type": "display_data"
    },
    {
     "data": {
      "text/latex": [
       "$\\displaystyle \\Large { \\Delta_{b} = \\frac{l_{b}^{\\frac{3}{2}} \\sqrt{l_{s}} w_{b}^{\\frac{3}{2}} \\sqrt{w_{s}} \\sqrt{l_{b} w_{b} + l_{s} w_{s} - w_{b} - w_{s}} + l_{b} l_{s} w_{b} w_{s} \\sqrt{w_{b} + w_{s}}}{\\sqrt{l_{b}} \\sqrt{l_{s}} w_{b}^{\\frac{3}{2}} \\sqrt{w_{s}} \\sqrt{l_{b} w_{b} + l_{s} w_{s} - w_{b} - w_{s}} + \\sqrt{l_{b}} \\sqrt{l_{s}} \\sqrt{w_{b}} w_{s}^{\\frac{3}{2}} \\sqrt{l_{b} w_{b} + l_{s} w_{s} - w_{b} - w_{s}} + l_{b} l_{s} w_{b} w_{s} \\sqrt{w_{b} + w_{s}}} }$"
      ],
      "text/plain": [
       "<IPython.core.display.Math object>"
      ]
     },
     "metadata": {},
     "output_type": "display_data"
    }
   ],
   "source": [
    "sol1_subs = sol1.subs({ a: a_subs, b: b_subs, c: c_subs, d_pos: d_subs })\n",
    "  .simplify();\n",
    "large(sol1_subs);\n",
    "large(\n",
    "  Eq(Delta_b, deltaByDelta[\"b\"].subs({ Delta_s: sol1_subs.rhs }).simplify()),\n",
    ");"
   ]
  },
  {
   "cell_type": "markdown",
   "metadata": {},
   "source": [
    "# more fine-grained rounding analysis\n",
    "\n",
    "- required, as the worst case one above is undefined for some constants (d <= 0)"
   ]
  },
  {
   "cell_type": "code",
   "execution_count": 54,
   "metadata": {},
   "outputs": [
    {
     "data": {
      "text/latex": [
       "$\\displaystyle \\frac{\\Delta_{s} + \\epsilon_{s}}{\\Delta_{b} - \\epsilon_{b}}$"
      ],
      "text/plain": [
       "(Delta_s + epsilon_s)/(Delta_b - epsilon_b)"
      ]
     },
     "execution_count": 54,
     "metadata": {},
     "output_type": "execute_result"
    }
   ],
   "source": [
    "eps_b, eps_s = symbols('epsilon_b epsilon_s', positive=True, real=True)\n",
    "eff_worse = (Delta_s + eps_s) / (Delta_b - eps_b) # worse case resulting from rounding Deltas\n",
    "eff_worse"
   ]
  },
  {
   "cell_type": "code",
   "execution_count": 55,
   "metadata": {},
   "outputs": [
    {
     "data": {
      "text/latex": [
       "$\\displaystyle \\Large { \\frac{\\Delta_{s} + \\epsilon_{s}}{\\frac{\\Delta_{s} l_{b} w_{b}}{\\Delta_{s} w_{b} + \\Delta_{s} w_{s} + l_{s} w_{s}} - \\epsilon_{b}} }$"
      ],
      "text/plain": [
       "<IPython.core.display.Math object>"
      ]
     },
     "metadata": {},
     "output_type": "display_data"
    },
    {
     "data": {
      "text/latex": [
       "$\\displaystyle \\Large { \\frac{\\left(\\Delta_{s} + \\epsilon_{s}\\right) \\left(\\Delta_{s} w_{b} + \\Delta_{s} w_{s} + l_{s} w_{s}\\right)}{\\Delta_{s} l_{b} w_{b} - \\epsilon_{b} \\left(\\Delta_{s} w_{b} + \\Delta_{s} w_{s} + l_{s} w_{s}\\right)} }$"
      ],
      "text/plain": [
       "<IPython.core.display.Math object>"
      ]
     },
     "metadata": {},
     "output_type": "display_data"
    }
   ],
   "source": [
    "eff_worse_Delta_s = eff_worse.subs({ Delta_b: deltaByDelta[\"b\"] });\n",
    "large(eff_worse_Delta_s);\n",
    "eff_worse_Delta_s = eff_worse_Delta_s.simplify();\n",
    "large(eff_worse_Delta_s);"
   ]
  },
  {
   "cell_type": "code",
   "execution_count": 56,
   "metadata": {},
   "outputs": [
    {
     "data": {
      "text/latex": [
       "$\\displaystyle \\Large { \\frac{- \\Delta_{s}^{2} w_{b} - \\Delta_{s}^{2} w_{s} - \\Delta_{s} \\epsilon_{s} w_{b} - \\Delta_{s} \\epsilon_{s} w_{s} - \\Delta_{s} l_{s} w_{s} - \\epsilon_{s} l_{s} w_{s}}{\\Delta_{s} \\epsilon_{b} w_{b} + \\Delta_{s} \\epsilon_{b} w_{s} - \\Delta_{s} l_{b} w_{b} + \\epsilon_{b} l_{s} w_{s}} }$"
      ],
      "text/plain": [
       "<IPython.core.display.Math object>"
      ]
     },
     "metadata": {},
     "output_type": "display_data"
    }
   ],
   "source": [
    "large(expand(eff_worse_Delta_s).simplify());"
   ]
  },
  {
   "cell_type": "code",
   "execution_count": 57,
   "metadata": {},
   "outputs": [
    {
     "data": {
      "text/latex": [
       "$\\displaystyle \\Large { \\frac{\\Delta_{s}^{2} \\left(w_{b} + w_{s}\\right) + \\Delta_{s} \\left(\\epsilon_{s} w_{b} + \\epsilon_{s} w_{s} + l_{s} w_{s}\\right) + \\epsilon_{s} l_{s} w_{s}}{\\Delta_{s} \\left(- \\epsilon_{b} w_{b} - \\epsilon_{b} w_{s} + l_{b} w_{b}\\right) - \\epsilon_{b} l_{s} w_{s}} }$"
      ],
      "text/plain": [
       "<IPython.core.display.Math object>"
      ]
     },
     "metadata": {},
     "output_type": "display_data"
    },
    {
     "data": {
      "text/latex": [
       "$\\displaystyle \\text{True}$"
      ],
      "text/plain": [
       "True"
      ]
     },
     "execution_count": 57,
     "metadata": {},
     "output_type": "execute_result"
    }
   ],
   "source": [
    "numerator = Delta_s ** 2 * (w_b + w_s) +\n",
    "  Delta_s * (l_s * w_s + eps_s * w_b + eps_s * w_s) + eps_s * l_s * w_s;\n",
    "denominator = Delta_s * (l_b * w_b - eps_b * w_b - eps_b * w_s) -\n",
    "  eps_b * l_s * w_s;\n",
    "f = numerator / denominator;\n",
    "large(f);\n",
    "Eq(f, eff_worse_Delta_s).simplify();"
   ]
  },
  {
   "cell_type": "code",
   "execution_count": 58,
   "metadata": {},
   "outputs": [
    {
     "data": {
      "text/latex": [
       "$\\displaystyle \\frac{\\Delta_{s}^{2} a + \\Delta_{s} b + c \\epsilon_{s}}{\\Delta_{s} d_{pos} - c \\epsilon_{b}}$"
      ],
      "text/plain": [
       "(Delta_s**2*a + Delta_s*b + c*epsilon_s)/(Delta_s*d_pos - c*epsilon_b)"
      ]
     },
     "metadata": {},
     "output_type": "display_data"
    }
   ],
   "source": [
    "a_subs = w_b + w_s;\n",
    "b_subs = l_s * w_s + eps_s * w_b + eps_s * w_s;\n",
    "c_subs = l_s * w_s;\n",
    "d_subs = l_b * w_b - eps_b * w_b - eps_b * w_s;\n",
    "\n",
    "f1 = f.subs({ a_subs: a, b_subs: b, c_subs: c, d_subs: d_pos });\n",
    "display(f1);"
   ]
  },
  {
   "cell_type": "code",
   "execution_count": 59,
   "metadata": {},
   "outputs": [
    {
     "data": {
      "text/latex": [
       "$\\displaystyle \\frac{- d_{pos} \\left(\\Delta_{s}^{2} a + \\Delta_{s} b + c \\epsilon_{s}\\right) + \\left(2 \\Delta_{s} a + b\\right) \\left(\\Delta_{s} d_{pos} - c \\epsilon_{b}\\right)}{\\left(\\Delta_{s} d_{pos} - c \\epsilon_{b}\\right)^{2}}$"
      ],
      "text/plain": [
       "(-d_pos*(Delta_s**2*a + Delta_s*b + c*epsilon_s) + (2*Delta_s*a + b)*(Delta_s*d_pos - c*epsilon_b))/(Delta_s*d_pos - c*epsilon_b)**2"
      ]
     },
     "metadata": {},
     "output_type": "display_data"
    }
   ],
   "source": [
    "d_f1 = f1.diff(Delta_s).simplify();\n",
    "display(d_f1);"
   ]
  },
  {
   "cell_type": "code",
   "execution_count": 60,
   "metadata": {},
   "outputs": [
    {
     "data": {
      "text/latex": [
       "$\\displaystyle \\left\\{\\frac{c \\epsilon_{b}}{d_{pos}} - \\frac{\\sqrt{c} \\sqrt{a c \\epsilon_{b}^{2} + b d_{pos} \\epsilon_{b} + d_{pos}^{2} \\epsilon_{s}}}{\\sqrt{a} d_{pos}}, \\frac{c \\epsilon_{b}}{d_{pos}} + \\frac{\\sqrt{c} \\sqrt{a c \\epsilon_{b}^{2} + b d_{pos} \\epsilon_{b} + d_{pos}^{2} \\epsilon_{s}}}{\\sqrt{a} d_{pos}}\\right\\}$"
      ],
      "text/plain": [
       "{c*epsilon_b/d_pos - sqrt(c)*sqrt(a*c*epsilon_b**2 + b*d_pos*epsilon_b + d_pos**2*epsilon_s)/(sqrt(a)*d_pos), c*epsilon_b/d_pos + sqrt(c)*sqrt(a*c*epsilon_b**2 + b*d_pos*epsilon_b + d_pos**2*epsilon_s)/(sqrt(a)*d_pos)}"
      ]
     },
     "metadata": {},
     "output_type": "display_data"
    }
   ],
   "source": [
    "sols_f1 = solveset(d_f1, Delta_s);\n",
    "display(sols_f1);"
   ]
  },
  {
   "cell_type": "code",
   "execution_count": 61,
   "metadata": {},
   "outputs": [
    {
     "data": {
      "text/latex": [
       "$\\displaystyle \\Delta_{s} = \\frac{c \\epsilon_{b}}{d_{pos}} + \\frac{\\sqrt{c} \\sqrt{a c \\epsilon_{b}^{2} + b d_{pos} \\epsilon_{b} + d_{pos}^{2} \\epsilon_{s}}}{\\sqrt{a} d_{pos}}$"
      ],
      "text/plain": [
       "Eq(Delta_s, c*epsilon_b/d_pos + sqrt(c)*sqrt(a*c*epsilon_b**2 + b*d_pos*epsilon_b + d_pos**2*epsilon_s)/(sqrt(a)*d_pos))"
      ]
     },
     "metadata": {},
     "output_type": "display_data"
    },
    {
     "name": "stdout",
     "output_type": "stream",
     "text": [
      "\t-> everything positive -> solution positive -> VALID\n"
     ]
    },
    {
     "data": {
      "text/latex": [
       "$\\displaystyle \\Delta_{s} = \\frac{c \\epsilon_{b}}{d_{pos}} - \\frac{\\sqrt{c} \\sqrt{a c \\epsilon_{b}^{2} + b d_{pos} \\epsilon_{b} + d_{pos}^{2} \\epsilon_{s}}}{\\sqrt{a} d_{pos}}$"
      ],
      "text/plain": [
       "Eq(Delta_s, c*epsilon_b/d_pos - sqrt(c)*sqrt(a*c*epsilon_b**2 + b*d_pos*epsilon_b + d_pos**2*epsilon_s)/(sqrt(a)*d_pos))"
      ]
     },
     "metadata": {},
     "output_type": "display_data"
    },
    {
     "name": "stdout",
     "output_type": "stream",
     "text": [
      "\t-> needs to be investigated further (spoiler: it'll turn out to be a maximum anyways, so we can skip it)\n"
     ]
    }
   ],
   "source": [
    "sol1 = Eq(Delta_s, sols_f1.args[0]);\n",
    "display(sol1);\n",
    "print(\"\\t-> everything positive -> solution positive -> VALID\");\n",
    "sol2 = Eq(Delta_s, sols_f1.args[1]);\n",
    "display(sol2);\n",
    "print(\n",
    "  \"\\t-> needs to be investigated further (spoiler: it'll turn out to be a maximum anyways, so we can skip it)\",\n",
    ");"
   ]
  },
  {
   "cell_type": "markdown",
   "metadata": {},
   "source": [
    "What happens if d is zero or negative?\n",
    "\n",
    "- zero d:"
   ]
  },
  {
   "cell_type": "code",
   "execution_count": 62,
   "metadata": {},
   "outputs": [
    {
     "data": {
      "text/latex": [
       "$\\displaystyle - \\epsilon_{b} w_{b} - \\epsilon_{b} w_{s} + l_{b} w_{b} = 0$"
      ],
      "text/plain": [
       "Eq(-epsilon_b*w_b - epsilon_b*w_s + l_b*w_b, 0)"
      ]
     },
     "metadata": {},
     "output_type": "display_data"
    },
    {
     "data": {
      "text/latex": [
       "$\\displaystyle \\frac{\\Delta_{s}^{2} \\left(w_{b} + w_{s}\\right) + \\Delta_{s} \\left(\\epsilon_{s} w_{b} + \\epsilon_{s} w_{s} + l_{s} w_{s}\\right) + \\epsilon_{s} l_{s} w_{s}}{\\Delta_{s} \\left(- \\epsilon_{b} w_{b} - \\epsilon_{b} w_{s} + l_{b} w_{b}\\right) - \\epsilon_{b} l_{s} w_{s}}$"
      ],
      "text/plain": [
       "(Delta_s**2*(w_b + w_s) + Delta_s*(epsilon_s*w_b + epsilon_s*w_s + l_s*w_s) + epsilon_s*l_s*w_s)/(Delta_s*(-epsilon_b*w_b - epsilon_b*w_s + l_b*w_b) - epsilon_b*l_s*w_s)"
      ]
     },
     "metadata": {},
     "output_type": "display_data"
    },
    {
     "data": {
      "text/latex": [
       "$\\displaystyle \\frac{\\Delta_{s}^{2} \\left(- w_{b} - w_{s}\\right) - \\Delta_{s} \\left(\\epsilon_{s} w_{b} + \\epsilon_{s} w_{s} + l_{s} w_{s}\\right) - \\epsilon_{s} l_{s} w_{s}}{\\epsilon_{b} l_{s} w_{s}}$"
      ],
      "text/plain": [
       "(Delta_s**2*(-w_b - w_s) - Delta_s*(epsilon_s*w_b + epsilon_s*w_s + l_s*w_s) - epsilon_s*l_s*w_s)/(epsilon_b*l_s*w_s)"
      ]
     },
     "metadata": {},
     "output_type": "display_data"
    },
    {
     "data": {
      "text/latex": [
       "$\\displaystyle - \\frac{\\Delta_{s}^{2} w_{b}}{\\epsilon_{b} l_{s} w_{s}} - \\frac{\\Delta_{s}^{2}}{\\epsilon_{b} l_{s}} - \\frac{\\Delta_{s} \\epsilon_{s} w_{b}}{\\epsilon_{b} l_{s} w_{s}} - \\frac{\\Delta_{s} \\epsilon_{s}}{\\epsilon_{b} l_{s}} - \\frac{\\Delta_{s}}{\\epsilon_{b}} - \\frac{\\epsilon_{s}}{\\epsilon_{b}}$"
      ],
      "text/plain": [
       "-Delta_s**2*w_b/(epsilon_b*l_s*w_s) - Delta_s**2/(epsilon_b*l_s) - Delta_s*epsilon_s*w_b/(epsilon_b*l_s*w_s) - Delta_s*epsilon_s/(epsilon_b*l_s) - Delta_s/epsilon_b - epsilon_s/epsilon_b"
      ]
     },
     "metadata": {},
     "output_type": "display_data"
    }
   ],
   "source": [
    "display(Eq(d_subs, 0))\n",
    "display(f) # recall: this is our reformulation of the effective price by Delta_s, worse case scenario\n",
    "display(f.subs({d_subs: 0}).simplify())\n",
    "display(f.subs({d_subs: 0}).simplify().expand())"
   ]
  },
  {
   "cell_type": "markdown",
   "metadata": {},
   "source": [
    "-> given that all summands for the effective price are negative, this solution\n",
    "is indeed invalid\n",
    "\n",
    "- negative d:"
   ]
  },
  {
   "cell_type": "code",
   "execution_count": 63,
   "metadata": {},
   "outputs": [
    {
     "data": {
      "text/latex": [
       "$\\displaystyle - \\epsilon_{b} w_{b} - \\epsilon_{b} w_{s} + l_{b} w_{b} < 0$"
      ],
      "text/plain": [
       "-epsilon_b*w_b - epsilon_b*w_s + l_b*w_b < 0"
      ]
     },
     "metadata": {},
     "output_type": "display_data"
    }
   ],
   "source": [
    "display(Lt(d_subs, 0));"
   ]
  },
  {
   "cell_type": "markdown",
   "metadata": {},
   "source": [
    "-> denominator is negative, numerator is positive -> effective price is negative\n",
    "-> invalid\n",
    "\n",
    "=> there are no solutions besides the ones for d_pos\n",
    "\n",
    "(up to this point we are analogous to the worst case where epsilons = 1)"
   ]
  },
  {
   "cell_type": "code",
   "execution_count": 64,
   "metadata": {},
   "outputs": [
    {
     "data": {
      "text/latex": [
       "$\\displaystyle \\Large { - \\epsilon_{b} w_{b} - \\epsilon_{b} w_{s} + l_{b} w_{b} > 0 }$"
      ],
      "text/plain": [
       "<IPython.core.display.Math object>"
      ]
     },
     "metadata": {},
     "output_type": "display_data"
    },
    {
     "data": {
      "text/latex": [
       "$\\displaystyle \\Large { l_{b} - 1 > \\frac{\\epsilon_{b} w_{s}}{w_{b}} }$"
      ],
      "text/plain": [
       "<IPython.core.display.Math object>"
      ]
     },
     "metadata": {},
     "output_type": "display_data"
    },
    {
     "data": {
      "text/latex": [
       "$\\displaystyle \\Large { \\epsilon_{b} < \\frac{w_{b} \\left(l_{b} - 1\\right)}{w_{s}} }$"
      ],
      "text/plain": [
       "<IPython.core.display.Math object>"
      ]
     },
     "metadata": {},
     "output_type": "display_data"
    }
   ],
   "source": [
    "large(Gt(d_subs, 0));\n",
    "large(Gt(l_b - 1, eps_b * w_s / w_b));\n",
    "large(Lt(eps_b, (l_b - 1) * w_b / w_s));"
   ]
  },
  {
   "cell_type": "markdown",
   "metadata": {},
   "source": [
    "### -> the difference is: We now have an upper limit on the rounding error on the buying-amount\n",
    "\n",
    "- curiously enough not on eps_s"
   ]
  },
  {
   "cell_type": "markdown",
   "metadata": {},
   "source": [
    "### analysing second derivative to determine minimum-status of solutions:"
   ]
  },
  {
   "cell_type": "code",
   "execution_count": 65,
   "metadata": {},
   "outputs": [
    {
     "data": {
      "text/latex": [
       "$\\displaystyle \\Large { \\frac{2 \\left(a \\left(\\Delta_{s} d_{pos} - c \\epsilon_{b}\\right)^{2} + d_{pos} \\left(d_{pos} \\left(\\Delta_{s}^{2} a + \\Delta_{s} b + c \\epsilon_{s}\\right) - \\left(2 \\Delta_{s} a + b\\right) \\left(\\Delta_{s} d_{pos} - c \\epsilon_{b}\\right)\\right)\\right)}{\\left(\\Delta_{s} d_{pos} - c \\epsilon_{b}\\right)^{3}} }$"
      ],
      "text/plain": [
       "<IPython.core.display.Math object>"
      ]
     },
     "metadata": {},
     "output_type": "display_data"
    }
   ],
   "source": [
    "dd_f1 = d_f1.diff(Delta_s).simplify();\n",
    "large(dd_f1);"
   ]
  },
  {
   "cell_type": "code",
   "execution_count": 66,
   "metadata": {},
   "outputs": [
    {
     "data": {
      "text/latex": [
       "$\\displaystyle \\Large { \\frac{2 a^{\\frac{3}{2}}}{\\sqrt{c} \\sqrt{a c \\epsilon_{b}^{2} + b d_{pos} \\epsilon_{b} + d_{pos}^{2} \\epsilon_{s}}} }$"
      ],
      "text/plain": [
       "<IPython.core.display.Math object>"
      ]
     },
     "metadata": {},
     "output_type": "display_data"
    },
    {
     "name": "stdout",
     "output_type": "stream",
     "text": [
      "-> nonzero -> extremum\n",
      "-> positive -> minimum\n"
     ]
    },
    {
     "data": {
      "text/latex": [
       "$\\displaystyle \\Large { - \\frac{2 a^{\\frac{3}{2}}}{\\sqrt{c} \\sqrt{a c \\epsilon_{b}^{2} + b d_{pos} \\epsilon_{b} + d_{pos}^{2} \\epsilon_{s}}} }$"
      ],
      "text/plain": [
       "<IPython.core.display.Math object>"
      ]
     },
     "metadata": {},
     "output_type": "display_data"
    },
    {
     "name": "stdout",
     "output_type": "stream",
     "text": [
      "-> nonzero -> extremum\n",
      "-> negative -> maximum\n"
     ]
    }
   ],
   "source": [
    "dd_sol1 = dd_f1.subs({Delta_s: sol1.rhs}).simplify()\n",
    "large(dd_sol1)\n",
    "if Eq(dd_sol1, 0) == False: print(\"-> nonzero -> extremum\")\n",
    "if (dd_sol1.is_positive == True): print(\"-> positive -> minimum\")\n",
    "dd_sol2 = dd_f1.subs({Delta_s: sol2.rhs}).simplify()\n",
    "large(dd_sol2)\n",
    "if Eq(dd_sol2, 0) == False: print(\"-> nonzero -> extremum\")\n",
    "if (dd_sol2.is_negative == True): print(\"-> negative -> maximum\")"
   ]
  },
  {
   "cell_type": "markdown",
   "metadata": {},
   "source": [
    "### investigating limits:"
   ]
  },
  {
   "cell_type": "code",
   "execution_count": 67,
   "metadata": {},
   "outputs": [
    {
     "data": {
      "text/latex": [
       "$\\displaystyle - \\frac{\\epsilon_{s}}{\\epsilon_{b}}$"
      ],
      "text/plain": [
       "-epsilon_s/epsilon_b"
      ]
     },
     "metadata": {},
     "output_type": "display_data"
    },
    {
     "data": {
      "text/latex": [
       "$\\displaystyle \\infty$"
      ],
      "text/plain": [
       "oo"
      ]
     },
     "metadata": {},
     "output_type": "display_data"
    },
    {
     "data": {
      "text/latex": [
       "$\\displaystyle -\\infty$"
      ],
      "text/plain": [
       "-oo"
      ]
     },
     "metadata": {},
     "output_type": "display_data"
    }
   ],
   "source": [
    "display(f1.subs(Delta_s, 0));\n",
    "display(limit(f1, Delta_s, oo));\n",
    "display(limit(f1, Delta_s, -oo));"
   ]
  },
  {
   "cell_type": "code",
   "execution_count": 68,
   "metadata": {},
   "outputs": [
    {
     "data": {
      "text/latex": [
       "$\\displaystyle \\left\\{- \\frac{b}{2 a} - \\frac{\\sqrt{- 4 a c \\epsilon_{s} + b^{2}}}{2 a}, - \\frac{b}{2 a} + \\frac{\\sqrt{- 4 a c \\epsilon_{s} + b^{2}}}{2 a}\\right\\} \\setminus \\left\\{\\frac{c \\epsilon_{b}}{d_{pos}}\\right\\}$"
      ],
      "text/plain": [
       "Complement({-b/(2*a) - sqrt(-4*a*c*epsilon_s + b**2)/(2*a), -b/(2*a) + sqrt(-4*a*c*epsilon_s + b**2)/(2*a)}, {c*epsilon_b/d_pos})"
      ]
     },
     "metadata": {},
     "output_type": "display_data"
    },
    {
     "name": "stdout",
     "output_type": "stream",
     "text": [
      "crosses x-axis at:\n"
     ]
    },
    {
     "data": {
      "text/latex": [
       "$\\displaystyle \\frac{- b - \\sqrt{- 4 a c \\epsilon_{s} + b^{2}}}{2 a}$"
      ],
      "text/plain": [
       "(-b - sqrt(-4*a*c*epsilon_s + b**2))/(2*a)"
      ]
     },
     "metadata": {},
     "output_type": "display_data"
    },
    {
     "data": {
      "text/latex": [
       "$\\displaystyle \\frac{- \\epsilon_{s} w_{b} - \\epsilon_{s} w_{s} - l_{s} w_{s} - \\sqrt{- 4 \\epsilon_{s} l_{s} w_{s} \\left(w_{b} + w_{s}\\right) + \\left(\\epsilon_{s} w_{b} + \\epsilon_{s} w_{s} + l_{s} w_{s}\\right)^{2}}}{2 \\left(w_{b} + w_{s}\\right)}$"
      ],
      "text/plain": [
       "(-epsilon_s*w_b - epsilon_s*w_s - l_s*w_s - sqrt(-4*epsilon_s*l_s*w_s*(w_b + w_s) + (epsilon_s*w_b + epsilon_s*w_s + l_s*w_s)**2))/(2*(w_b + w_s))"
      ]
     },
     "metadata": {},
     "output_type": "display_data"
    },
    {
     "name": "stdout",
     "output_type": "stream",
     "text": [
      "and:\n"
     ]
    },
    {
     "data": {
      "text/latex": [
       "$\\displaystyle \\frac{- b + \\sqrt{- 4 a c \\epsilon_{s} + b^{2}}}{2 a}$"
      ],
      "text/plain": [
       "(-b + sqrt(-4*a*c*epsilon_s + b**2))/(2*a)"
      ]
     },
     "metadata": {},
     "output_type": "display_data"
    },
    {
     "data": {
      "text/latex": [
       "$\\displaystyle \\frac{- \\epsilon_{s} w_{b} - \\epsilon_{s} w_{s} - l_{s} w_{s} + \\sqrt{- 4 \\epsilon_{s} l_{s} w_{s} \\left(w_{b} + w_{s}\\right) + \\left(\\epsilon_{s} w_{b} + \\epsilon_{s} w_{s} + l_{s} w_{s}\\right)^{2}}}{2 \\left(w_{b} + w_{s}\\right)}$"
      ],
      "text/plain": [
       "(-epsilon_s*w_b - epsilon_s*w_s - l_s*w_s + sqrt(-4*epsilon_s*l_s*w_s*(w_b + w_s) + (epsilon_s*w_b + epsilon_s*w_s + l_s*w_s)**2))/(2*(w_b + w_s))"
      ]
     },
     "metadata": {},
     "output_type": "display_data"
    }
   ],
   "source": [
    "f1_zero = solveset(f1, Delta_s);\n",
    "display(f1_zero);\n",
    "print(\"crosses x-axis at:\");\n",
    "display(f1_zero.args[0].args[0].simplify());\n",
    "display(\n",
    "  f1_zero.args[0].args[0].subs({\n",
    "    a: a_subs,\n",
    "    b: b_subs,\n",
    "    c: c_subs,\n",
    "    d_pos: d_subs,\n",
    "  }).simplify(),\n",
    ");\n",
    "print(\"and:\");\n",
    "display(f1_zero.args[0].args[1].simplify());\n",
    "display(\n",
    "  f1_zero.args[0].args[1].subs({\n",
    "    a: a_subs,\n",
    "    b: b_subs,\n",
    "    c: c_subs,\n",
    "    d_pos: d_subs,\n",
    "  }).simplify(),\n",
    ");"
   ]
  },
  {
   "cell_type": "code",
   "execution_count": 69,
   "metadata": {},
   "outputs": [
    {
     "name": "stdout",
     "output_type": "stream",
     "text": [
      "singularity at:\n"
     ]
    },
    {
     "data": {
      "text/latex": [
       "$\\displaystyle \\frac{c \\epsilon_{b}}{d_{pos}}$"
      ],
      "text/plain": [
       "c*epsilon_b/d_pos"
      ]
     },
     "metadata": {},
     "output_type": "display_data"
    },
    {
     "data": {
      "text/latex": [
       "$\\displaystyle \\frac{\\epsilon_{b} l_{s} w_{s}}{- \\epsilon_{b} w_{b} - \\epsilon_{b} w_{s} + l_{b} w_{b}}$"
      ],
      "text/plain": [
       "epsilon_b*l_s*w_s/(-epsilon_b*w_b - epsilon_b*w_s + l_b*w_b)"
      ]
     },
     "metadata": {},
     "output_type": "display_data"
    },
    {
     "name": "stdout",
     "output_type": "stream",
     "text": [
      "singularity-limit from below:\n"
     ]
    },
    {
     "data": {
      "text/latex": [
       "$\\displaystyle -\\infty$"
      ],
      "text/plain": [
       "-oo"
      ]
     },
     "metadata": {},
     "output_type": "display_data"
    },
    {
     "name": "stdout",
     "output_type": "stream",
     "text": [
      "singularity-limit from above:\n"
     ]
    },
    {
     "data": {
      "text/latex": [
       "$\\displaystyle \\infty$"
      ],
      "text/plain": [
       "oo"
      ]
     },
     "metadata": {},
     "output_type": "display_data"
    }
   ],
   "source": [
    "print(\"singularity at:\");\n",
    "f1_ndef = f1_zero.args[1].args[0];\n",
    "display(f1_ndef);\n",
    "display(f1_ndef.subs({ a: a_subs, b: b_subs, c: c_subs, d_pos: d_subs }));\n",
    "print(\"singularity-limit from below:\");\n",
    "display(limit(f1, Delta_s, f1_ndef, dir = \"-\"));\n",
    "print(\"singularity-limit from above:\");\n",
    "display(limit(f1, Delta_s, f1_ndef, dir = \"+\"));"
   ]
  },
  {
   "cell_type": "code",
   "execution_count": 70,
   "metadata": {},
   "outputs": [
    {
     "name": "stdout",
     "output_type": "stream",
     "text": [
      "maximum at:\n"
     ]
    },
    {
     "data": {
      "text/latex": [
       "$\\displaystyle \\Delta_{s} = \\frac{c \\epsilon_{b}}{d_{pos}} - \\frac{\\sqrt{c} \\sqrt{a c \\epsilon_{b}^{2} + b d_{pos} \\epsilon_{b} + d_{pos}^{2} \\epsilon_{s}}}{\\sqrt{a} d_{pos}}$"
      ],
      "text/plain": [
       "Eq(Delta_s, c*epsilon_b/d_pos - sqrt(c)*sqrt(a*c*epsilon_b**2 + b*d_pos*epsilon_b + d_pos**2*epsilon_s)/(sqrt(a)*d_pos))"
      ]
     },
     "metadata": {},
     "output_type": "display_data"
    },
    {
     "data": {
      "text/latex": [
       "$\\displaystyle \\Delta_{s} = \\frac{- \\epsilon_{b} l_{s} w_{s} \\sqrt{w_{b} + w_{s}} + \\sqrt{l_{b}} \\sqrt{l_{s}} \\sqrt{w_{b}} \\sqrt{w_{s}} \\sqrt{- \\epsilon_{b} \\epsilon_{s} w_{b} - \\epsilon_{b} \\epsilon_{s} w_{s} + \\epsilon_{b} l_{s} w_{s} + \\epsilon_{s} l_{b} w_{b}}}{\\sqrt{w_{b} + w_{s}} \\left(\\epsilon_{b} w_{b} + \\epsilon_{b} w_{s} - l_{b} w_{b}\\right)}$"
      ],
      "text/plain": [
       "Eq(Delta_s, (-epsilon_b*l_s*w_s*sqrt(w_b + w_s) + sqrt(l_b)*sqrt(l_s)*sqrt(w_b)*sqrt(w_s)*sqrt(-epsilon_b*epsilon_s*w_b - epsilon_b*epsilon_s*w_s + epsilon_b*l_s*w_s + epsilon_s*l_b*w_b))/(sqrt(w_b + w_s)*(epsilon_b*w_b + epsilon_b*w_s - l_b*w_b)))"
      ]
     },
     "metadata": {},
     "output_type": "display_data"
    }
   ],
   "source": [
    "print(\"maximum at:\");\n",
    "display(sol2);\n",
    "display(\n",
    "  sol2.subs({ a: a_subs, b: b_subs, c: c_subs, d_pos: d_subs }).simplify(),\n",
    ");"
   ]
  },
  {
   "cell_type": "markdown",
   "metadata": {},
   "source": [
    "-> we have a function that\n",
    "\n",
    "- comes from -oo\n",
    "- increases\n",
    "- crosses the x-axis from below at some negative x (see equation above, which\n",
    "  has only negative summands)\n",
    "- reaches a maximum (which needs to happen between the two crossings of the\n",
    "  x-axis)\n",
    "- decreases\n",
    "- crosses the x-axis from above at some negative x (we know this because we know\n",
    "  that it crosses the y-axis at -eps_s/eps_b)\n",
    "- crosses the y-axis at -eps_s/eps_b (where the x - Delta_s - actually starts\n",
    "  being defined)\n",
    "- goes to -oo at some positive value\n",
    "- comes back from oo (where the y - effective price - actually starts being\n",
    "  defined)\n",
    "- decreases\n",
    "- reaches a minimum\n",
    "- increases\n",
    "- goes to oo\n",
    "\n",
    "-> except for the more fine-grained information on the y-axis-crossing\n",
    "(-eps_s/eps_b instead of -1), this is the same behaviour\n",
    "\n",
    "- both epsilons affect the solution\n",
    "- only eps_b has any constraints:\n",
    "  - eps_b < (l_b - 1) * w_b / w_s"
   ]
  },
  {
   "cell_type": "markdown",
   "metadata": {},
   "source": [
    "## substituting solution for d_pos back:"
   ]
  },
  {
   "cell_type": "code",
   "execution_count": 71,
   "metadata": {},
   "outputs": [
    {
     "data": {
      "text/latex": [
       "$\\displaystyle \\Large { \\Delta_{s} = \\frac{- \\epsilon_{b} l_{s} w_{s} \\sqrt{w_{b} + w_{s}} - \\sqrt{l_{b}} \\sqrt{l_{s}} \\sqrt{w_{b}} \\sqrt{w_{s}} \\sqrt{- \\epsilon_{b} \\epsilon_{s} w_{b} - \\epsilon_{b} \\epsilon_{s} w_{s} + \\epsilon_{b} l_{s} w_{s} + \\epsilon_{s} l_{b} w_{b}}}{\\sqrt{w_{b} + w_{s}} \\left(\\epsilon_{b} w_{b} + \\epsilon_{b} w_{s} - l_{b} w_{b}\\right)} }$"
      ],
      "text/plain": [
       "<IPython.core.display.Math object>"
      ]
     },
     "metadata": {},
     "output_type": "display_data"
    },
    {
     "data": {
      "text/latex": [
       "$\\displaystyle \\Large { \\Delta_{b} = \\frac{\\epsilon_{b} l_{b} l_{s} w_{b} w_{s} \\sqrt{w_{b} + w_{s}} + l_{b}^{\\frac{3}{2}} \\sqrt{l_{s}} w_{b}^{\\frac{3}{2}} \\sqrt{w_{s}} \\sqrt{- \\epsilon_{b} \\epsilon_{s} w_{b} - \\epsilon_{b} \\epsilon_{s} w_{s} + \\epsilon_{b} l_{s} w_{s} + \\epsilon_{s} l_{b} w_{b}}}{\\sqrt{l_{b}} \\sqrt{l_{s}} w_{b}^{\\frac{3}{2}} \\sqrt{w_{s}} \\sqrt{- \\epsilon_{b} \\epsilon_{s} w_{b} - \\epsilon_{b} \\epsilon_{s} w_{s} + \\epsilon_{b} l_{s} w_{s} + \\epsilon_{s} l_{b} w_{b}} + \\sqrt{l_{b}} \\sqrt{l_{s}} \\sqrt{w_{b}} w_{s}^{\\frac{3}{2}} \\sqrt{- \\epsilon_{b} \\epsilon_{s} w_{b} - \\epsilon_{b} \\epsilon_{s} w_{s} + \\epsilon_{b} l_{s} w_{s} + \\epsilon_{s} l_{b} w_{b}} + l_{b} l_{s} w_{b} w_{s} \\sqrt{w_{b} + w_{s}}} }$"
      ],
      "text/plain": [
       "<IPython.core.display.Math object>"
      ]
     },
     "metadata": {},
     "output_type": "display_data"
    }
   ],
   "source": [
    "sol1_subs = sol1.subs({ a: a_subs, b: b_subs, c: c_subs, d_pos: d_subs })\n",
    "  .simplify();\n",
    "large(sol1_subs);\n",
    "large(\n",
    "  Eq(Delta_b, deltaByDelta[\"b\"].subs({ Delta_s: sol1_subs.rhs }).simplify()),\n",
    ");"
   ]
  },
  {
   "cell_type": "code",
   "execution_count": 72,
   "metadata": {},
   "outputs": [],
   "source": [
    "#sol1_subs = sol1.subs({\n",
    "  a: a_subs,\n",
    "  b: b_subs,\n",
    "  c: c_subs,\n",
    "  d_pos: d_subs,\n",
    "  eps_s: 1,\n",
    "}).simplify();\n",
    "#large(sol1_subs);\n",
    "#large(\n",
    "  Eq(Delta_b, deltaByDelta[\"b\"].subs({ Delta_s: sol1_subs.rhs }).simplify()),\n",
    ");"
   ]
  },
  {
   "cell_type": "markdown",
   "metadata": {},
   "source": [
    "## what this means for the algorithm\n",
    "\n",
    "- set eps_s = 1 (already integrated in the equation above)\n",
    "- set eps_b = (l_b - 1) * w_b / w_s\n",
    "- if eps_b >= 1, use simplified equation from worst case analysis\n",
    "- otherwise use the equation above\n",
    "- calculate Deltas for this worst case\n",
    "- ???\n",
    "\n",
    "## alternative\n",
    "\n",
    "- we now have a closed-form solution given the rounding errors\n",
    "- problem of course is that we don't know them in advance\n",
    "- we can't simply use the best or the worst rounding errors because both might\n",
    "  be incorrect\n",
    "- we want a solution where the actual rounding-errors are close to our epsilons:\n",
    "  - Delta_b - floor(Delta_b) ~ eps_b\n",
    "  - ceil(Delta_s) - Delta_s ~ eps_s\n",
    "- this feels like a good-ish problem formulation for numerical methods\n",
    "- we are still not taking the spot-exp-rounding into account\n",
    "\n",
    "## could we have gotten the same result by simply wiggling the deltas we already got in the typescript?\n",
    "\n",
    "- we can guess from our previous algorithm (which found the best solution almost\n",
    "  all the time):\n",
    "  - often we had to increment minSelling many times before an optimal solution\n",
    "    was found\n",
    "    - ### -> wiggling the deltas once won't do the trick\n",
    "    - ### -> we might even need epsilons > 1, but we are not taking the spot-exp-rounding-effects into account here\n",
    "  - once one was found, increasing them further, even 1000x, didn't improve\n",
    "    things\n",
    "  - given that for each minSelling, the deltas were already maximized for the\n",
    "    given exps/spots, we conclude that those improvements each had to have\n",
    "    worsened prices\n",
    "\n",
    "## next steps\n",
    "\n",
    "- can we make any statements about the shape of the ultimate optimization\n",
    "  problem, given that we likely observed some concave-ish shape?\n",
    "- can we find a good formulation that does include the\n",
    "  spot-exp-rounding-effects?\n",
    "  - maybe expressing things again in terms of exps?\n",
    "    - what then?\n",
    "- can we find some good ways to express the rounding differentiably?\n",
    "  - i.e. some error-term?\n",
    "  - i.e. some gradual rounding/relaxation variable?\n",
    "- can we quantify the change in spot/delta/effectivePrice implied by a single\n",
    "  whole exponent-step?\n",
    "  - it will always worsen the price\n",
    "  - it will always increase the delta of the asset\n",
    "  - it will increase the delta of the other asset, if it was the limiting factor\n",
    "  - otherwise it will necessitate an increase in the other asset's delta/spot\n",
    "- if we could express what constitutes an optimum for a discrete solution in\n",
    "  equality-form, we could use KKT/sympy again\n",
    "  - in inequality-form we can say that all surrounding points must be worse, or\n",
    "    a variant thereof\n",
    "  - in the continuous case we set the derivative to zero\n",
    "  -\n",
    "\n",
    "## why are we doing this again?\n",
    "\n",
    "- two places where we might need this: swapping and simulation in\n",
    "  liquidity-provision\n",
    "- in swapping we are already looking at the biggest possible swap and all\n",
    "  subswaps\n",
    "  - no we are not, we are looking at the best swap for a user-defined minimum\n",
    "    amount and all subswaps\n",
    "    - this also means we are probably not displaying single swaps worse than\n",
    "      that; requiring the user to increase minAmount. Not sure about all of this\n",
    "      - -> because for unlimited subsequents we would never want to do that\n",
    "      - still need a way to \"squish\" number of subsequents down, increasing the\n",
    "        per-swap-amount past the optimum\n",
    "  - but we could; this would definitely find us the best swap\n",
    "  - might be too expensive though\n",
    "  - we might make use of the swapfinding3 for that\n",
    "  - another argument for exhaustive search is that we can display the\n",
    "    zigzag-line to the user, helping them to find the optimal swap-amounts\n",
    "    - alternatively suggest optimum amounts for the pair as well as closest\n",
    "      optima to user-defined amount (or smth like that)\n",
    "  - what are the implications for the choice of multiple subsequent swaps vs.\n",
    "    differently sized ones?\n",
    "    - if we have time, we can list all possible combinations\n",
    "    - generally speaking though, assuming we don't mind multiple transactions,\n",
    "      it would be best to find the optimal single swap for each\n",
    "    - we could add number of subsequent transactions as another parameter in our\n",
    "      optimization-problem\n",
    "  - counterpoint/argument for finding optimal single swaps:\n",
    "    - if we are not limited in the amount of subsequent swaps\n",
    "    - if we are not interested in the zigzag-line\n",
    "    - if we are in the simulation in liquidity-provision"
   ]
  },
  {
   "cell_type": "code",
   "execution_count": null,
   "metadata": {},
   "outputs": [],
   "source": []
  },
  {
   "cell_type": "code",
   "execution_count": null,
   "metadata": {},
   "outputs": [],
   "source": []
  },
  {
   "cell_type": "code",
   "execution_count": null,
   "metadata": {},
   "outputs": [],
   "source": []
  },
  {
   "cell_type": "code",
   "execution_count": null,
   "metadata": {},
   "outputs": [],
   "source": []
  },
  {
   "cell_type": "code",
   "execution_count": null,
   "metadata": {},
   "outputs": [],
   "source": []
  },
  {
   "cell_type": "code",
   "execution_count": null,
   "metadata": {},
   "outputs": [],
   "source": []
  },
  {
   "cell_type": "code",
   "execution_count": null,
   "metadata": {},
   "outputs": [],
   "source": []
  },
  {
   "cell_type": "code",
   "execution_count": null,
   "metadata": {},
   "outputs": [],
   "source": []
  },
  {
   "cell_type": "code",
   "execution_count": null,
   "metadata": {},
   "outputs": [],
   "source": []
  },
  {
   "cell_type": "code",
   "execution_count": null,
   "metadata": {},
   "outputs": [],
   "source": []
  },
  {
   "cell_type": "code",
   "execution_count": null,
   "metadata": {},
   "outputs": [],
   "source": []
  },
  {
   "cell_type": "code",
   "execution_count": 73,
   "metadata": {},
   "outputs": [
    {
     "ename": "Exception",
     "evalue": "stop here",
     "output_type": "error",
     "traceback": [
      "\u001b[0;31m---------------------------------------------------------------------------\u001b[0m",
      "\u001b[0;31mException\u001b[0m                                 Traceback (most recent call last)",
      "\u001b[0;32m<ipython-input-73-3799461a9b8d>\u001b[0m in \u001b[0;36m<module>\u001b[0;34m\u001b[0m\n\u001b[0;32m----> 1\u001b[0;31m \u001b[0;32mraise\u001b[0m \u001b[0mException\u001b[0m\u001b[0;34m(\u001b[0m\u001b[0;34m\"stop here\"\u001b[0m\u001b[0;34m)\u001b[0m\u001b[0;34m\u001b[0m\u001b[0;34m\u001b[0m\u001b[0m\n\u001b[0m",
      "\u001b[0;31mException\u001b[0m: stop here"
     ]
    }
   ],
   "source": [
    "raise Exception(\"stop here\")"
   ]
  },
  {
   "cell_type": "markdown",
   "metadata": {},
   "source": [
    "(below: some variant to deltaByDelta: spotBySpot)"
   ]
  },
  {
   "cell_type": "code",
   "execution_count": null,
   "metadata": {},
   "outputs": [
    {
     "data": {
      "text/latex": [
       "$\\displaystyle \\frac{l_{b} s_{s} w_{b} w_{s}}{- l_{s} w_{b} w_{s} + s_{s} w_{b} + s_{s} w_{s}}$"
      ],
      "text/plain": [
       "l_b*s_s*w_b*w_s/(-l_s*w_b*w_s + s_s*w_b + s_s*w_s)"
      ]
     },
     "execution_count": 51,
     "metadata": {},
     "output_type": "execute_result"
    }
   ],
   "source": [
    "def spotBySpot_(asset, s, l, v, b, w, j, e, Delta, a, min):\n",
    "  f = solveset(a0_eq.subs({Delta_b: deltaBySpot['b'], Delta_s: deltaBySpot['s']}), s)\n",
    "  f = list(f)\n",
    "  assert len(f) == 1\n",
    "  f = f[0]\n",
    "  if simp:\n",
    "    f = simplify(f)\n",
    "  return f\n",
    "\n",
    "spotBySpot = {asset: spotBySpot_(asset, *all_symbols[asset]) for asset in assets}\n",
    "spotBySpot['b']"
   ]
  },
  {
   "cell_type": "code",
   "execution_count": null,
   "metadata": {},
   "outputs": [
    {
     "data": {
      "text/latex": [
       "$\\displaystyle \\frac{l_{s} s_{b} w_{b} w_{s}}{- l_{b} w_{b} w_{s} + s_{b} w_{b} + s_{b} w_{s}}$"
      ],
      "text/plain": [
       "l_s*s_b*w_b*w_s/(-l_b*w_b*w_s + s_b*w_b + s_b*w_s)"
      ]
     },
     "execution_count": 52,
     "metadata": {},
     "output_type": "execute_result"
    }
   ],
   "source": [
    "spotBySpot[\"s\"];"
   ]
  },
  {
   "cell_type": "markdown",
   "metadata": {},
   "source": [
    "all four solutions are the same irrespective of delta_b_negative (continuous\n",
    "case, and not accounting for flipped indices, of course)"
   ]
  },
  {
   "cell_type": "code",
   "execution_count": null,
   "metadata": {},
   "outputs": [
    {
     "data": {
      "text/latex": [
       "$\\displaystyle - l_{b} w_{b} w_{s} + s_{b} w_{b} + s_{b} w_{s}$"
      ],
      "text/plain": [
       "-l_b*w_b*w_s + s_b*w_b + s_b*w_s"
      ]
     },
     "metadata": {},
     "output_type": "display_data"
    },
    {
     "data": {
      "text/latex": [
       "$\\displaystyle \\frac{l_{b} w_{b} w_{s}}{w_{b} + w_{s}}$"
      ],
      "text/plain": [
       "l_b*w_b*w_s/(w_b + w_s)"
      ]
     },
     "execution_count": 53,
     "metadata": {},
     "output_type": "execute_result"
    }
   ],
   "source": [
    "denominator_s_s = spotBySpot[\"s\"].args[-1].args[0];\n",
    "display(denominator_s_s);\n",
    "ndef_s_b = solveset(denominator_s_s, s_b);\n",
    "assert(len(ndef_s_b) == 1);\n",
    "ndef_s_b = ndef_s_b.args[0];\n",
    "ndef_s_b;"
   ]
  },
  {
   "cell_type": "code",
   "execution_count": null,
   "metadata": {},
   "outputs": [
    {
     "data": {
      "text/latex": [
       "$\\displaystyle - l_{s} w_{b} w_{s} + s_{s} w_{b} + s_{s} w_{s}$"
      ],
      "text/plain": [
       "-l_s*w_b*w_s + s_s*w_b + s_s*w_s"
      ]
     },
     "metadata": {},
     "output_type": "display_data"
    },
    {
     "data": {
      "text/latex": [
       "$\\displaystyle \\frac{l_{s} w_{b} w_{s}}{w_{b} + w_{s}}$"
      ],
      "text/plain": [
       "l_s*w_b*w_s/(w_b + w_s)"
      ]
     },
     "execution_count": 54,
     "metadata": {},
     "output_type": "execute_result"
    }
   ],
   "source": [
    "denominator_s_b = spotBySpot[\"b\"].args[-1].args[0];\n",
    "display(denominator_s_b);\n",
    "ndef_s_s = solveset(denominator_s_b, s_s);\n",
    "assert(len(ndef_s_s) == 1);\n",
    "ndef_s_s = ndef_s_s.args[0];\n",
    "ndef_s_s;"
   ]
  },
  {
   "cell_type": "code",
   "execution_count": null,
   "metadata": {},
   "outputs": [
    {
     "data": {
      "text/latex": [
       "$\\displaystyle \\frac{l_{b} w_{b}}{w_{b} + w_{s}}$"
      ],
      "text/plain": [
       "l_b*w_b/(w_b + w_s)"
      ]
     },
     "metadata": {},
     "output_type": "display_data"
    },
    {
     "data": {
      "text/latex": [
       "$\\displaystyle - \\frac{l_{s} w_{s}}{w_{b} + w_{s}}$"
      ],
      "text/plain": [
       "-l_s*w_s/(w_b + w_s)"
      ]
     },
     "metadata": {},
     "output_type": "display_data"
    }
   ],
   "source": [
    "display(ndef_Delta_b);\n",
    "display(ndef_Delta_s);"
   ]
  },
  {
   "cell_type": "code",
   "execution_count": null,
   "metadata": {},
   "outputs": [
    {
     "data": {
      "text/latex": [
       "$\\displaystyle - \\frac{l_{b} w_{b} w_{s}}{w_{b} + w_{s}}$"
      ],
      "text/plain": [
       "-l_b*w_b*w_s/(w_b + w_s)"
      ]
     },
     "metadata": {},
     "output_type": "display_data"
    },
    {
     "data": {
      "text/latex": [
       "$\\displaystyle \\frac{l_{s} w_{b} w_{s}}{w_{b} + w_{s}}$"
      ],
      "text/plain": [
       "l_s*w_b*w_s/(w_b + w_s)"
      ]
     },
     "metadata": {},
     "output_type": "display_data"
    }
   ],
   "source": [
    "display(ndef_Delta_b * -w_s);\n",
    "display(ndef_Delta_s * -w_b);"
   ]
  },
  {
   "cell_type": "markdown",
   "metadata": {},
   "source": [
    "- the implied limits on spot prices look similar to those on Delta_b\n",
    "- this similarity is encapsulated by negation and multiplication by the other\n",
    "  asset's weight, which is odd, but reminds us a bit of the amm price\n",
    "  calculation\n",
    "\n",
    "what happens if we use those invalid spot prices in our other equations? Do they\n",
    "break or not?"
   ]
  },
  {
   "cell_type": "code",
   "execution_count": null,
   "metadata": {},
   "outputs": [
    {
     "data": {
      "text/latex": [
       "$\\displaystyle \\frac{l_{s} w_{b} w_{s}}{w_{b} + w_{s}}$"
      ],
      "text/plain": [
       "l_s*w_b*w_s/(w_b + w_s)"
      ]
     },
     "execution_count": 57,
     "metadata": {},
     "output_type": "execute_result"
    }
   ],
   "source": [
    "ndef_s_s = solveset(spotBySpot[\"b\"].args[-1].args[0], s_s);\n",
    "assert(len(ndef_s_s) == 1);\n",
    "ndef_s_s = ndef_s_s.args[0];\n",
    "ndef_s_s;"
   ]
  },
  {
   "cell_type": "code",
   "execution_count": null,
   "metadata": {},
   "outputs": [
    {
     "data": {
      "text/latex": [
       "$\\displaystyle \\frac{\\Delta_{b} l_{s} w_{b} w_{s}}{w_{b} + w_{s}} = \\frac{\\Delta_{s} l_{b} w_{b} w_{s}}{w_{b} + w_{s}}$"
      ],
      "text/plain": [
       "Eq(Delta_b*l_s*w_b*w_s/(w_b + w_s), Delta_s*l_b*w_b*w_s/(w_b + w_s))"
      ]
     },
     "execution_count": 58,
     "metadata": {},
     "output_type": "execute_result"
    }
   ],
   "source": [
    "a0_ndef_spots = a0_eq.subs({ s_b: ndef_s_b, s_s: ndef_s_s });\n",
    "a0_ndef_spots;"
   ]
  },
  {
   "cell_type": "code",
   "execution_count": null,
   "metadata": {},
   "outputs": [
    {
     "data": {
      "text/latex": [
       "$\\displaystyle \\left\\{\\frac{\\Delta_{s} l_{b}}{l_{s}}\\right\\}$"
      ],
      "text/plain": [
       "{Delta_s*l_b/l_s}"
      ]
     },
     "execution_count": 59,
     "metadata": {},
     "output_type": "execute_result"
    }
   ],
   "source": [
    "solveset(a0_ndef_spots, Delta_b);"
   ]
  },
  {
   "cell_type": "code",
   "execution_count": null,
   "metadata": {},
   "outputs": [
    {
     "data": {
      "text/latex": [
       "$\\displaystyle \\left\\{\\frac{\\Delta_{b} s_{s}}{s_{b}}\\right\\}$"
      ],
      "text/plain": [
       "{Delta_b*s_s/s_b}"
      ]
     },
     "execution_count": 60,
     "metadata": {},
     "output_type": "execute_result"
    }
   ],
   "source": [
    "solveset(a0_eq, Delta_s);"
   ]
  },
  {
   "cell_type": "code",
   "execution_count": null,
   "metadata": {},
   "outputs": [
    {
     "data": {
      "text/latex": [
       "$\\displaystyle \\left\\{\\frac{\\Delta_{b} l_{s}}{l_{b}}\\right\\}$"
      ],
      "text/plain": [
       "{Delta_b*l_s/l_b}"
      ]
     },
     "execution_count": 61,
     "metadata": {},
     "output_type": "execute_result"
    }
   ],
   "source": [
    "solveset(a0_ndef_spots, Delta_s);"
   ]
  },
  {
   "cell_type": "code",
   "execution_count": null,
   "metadata": {},
   "outputs": [],
   "source": []
  }
 ],
 "metadata": {
  "kernelspec": {
   "display_name": "Python 3",
   "language": "python",
   "name": "python3"
  },
  "language_info": {
   "codemirror_mode": {
    "name": "ipython",
    "version": 3
   },
   "file_extension": ".py",
   "mimetype": "text/x-python",
   "name": "python",
   "nbconvert_exporter": "python",
   "pygments_lexer": "ipython3",
   "version": "3.9.16"
  }
 },
 "nbformat": 4,
 "nbformat_minor": 2
}
