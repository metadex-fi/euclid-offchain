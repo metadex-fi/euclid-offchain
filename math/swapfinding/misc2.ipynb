{
 "cells": [
  {
   "cell_type": "code",
   "execution_count": 141,
   "metadata": {},
   "outputs": [],
   "source": [
    "from sympy import symbols, simplify, hessian, solveset, S, solve, log, And, Le, Ge, Eq, Lt, Gt, nonlinsolve, latex, log, Wild, expand_log, logcombine, evaluate,oo, limit,ask, Q, floor, ceiling, lambdify, Sum, sign\n",
    "from IPython.display import display, HTML, Math"
   ]
  },
  {
   "cell_type": "code",
   "execution_count": 142,
   "metadata": {},
   "outputs": [],
   "source": [
    "delta_b_negative = False\n",
    "discrete = True\n",
    "simp = True"
   ]
  },
  {
   "cell_type": "code",
   "execution_count": 143,
   "metadata": {},
   "outputs": [
    {
     "data": {
      "text/plain": [
       "{'b': dict_values([s_b, l_b, v_b, b_b, w_b, j_b, e_b, Delta_b, a_b, min_b]),\n",
       " 's': dict_values([s_s, l_s, v_s, b_s, w_s, j_s, e_s, Delta_s, a_s, min_s])}"
      ]
     },
     "execution_count": 143,
     "metadata": {},
     "output_type": "execute_result"
    }
   ],
   "source": [
    "assets = ['b', 's']  # buying and selling assets\n",
    "base_symbols = ['s', 'l', 'v', 'b', 'w', 'j', 'e', 'Delta', 'a', 'min'] \n",
    "# spot price, virtual liquidity, balance, weight, jump size, exponent, delta, anchor price, amm-price, jump-multiplier\n",
    "\n",
    "all_symbols = {}\n",
    "\n",
    "for asset in assets:\n",
    "    temp_dict = {}\n",
    "    for base in base_symbols:\n",
    "        var_name = f\"{base}_{asset}\"\n",
    "        if base == 'e':\n",
    "            symbol_obj = symbols(var_name, integer=True)\n",
    "        elif base == 'b':\n",
    "            symbol_obj = symbols(var_name, nonnegative=True, integer=True)\n",
    "        elif delta_b_negative and var_name == 'Delta_b':\n",
    "            symbol_obj = symbols(var_name, negative=True, integer=True)\n",
    "        else:\n",
    "            symbol_obj = symbols(var_name, positive=True, integer=True)\n",
    "        temp_dict[var_name] = symbol_obj\n",
    "        # Define the variable in the global namespace\n",
    "        globals()[var_name] = symbol_obj\n",
    "    all_symbols[asset] = temp_dict.values()\n",
    "all_symbols"
   ]
  },
  {
   "cell_type": "code",
   "execution_count": 144,
   "metadata": {},
   "outputs": [
    {
     "data": {
      "text/latex": [
       "$\\displaystyle \\Delta_{b} s_{s} = \\Delta_{s} s_{b}$"
      ],
      "text/plain": [
       "Eq(Delta_b*s_s, Delta_s*s_b)"
      ]
     },
     "execution_count": 144,
     "metadata": {},
     "output_type": "execute_result"
    }
   ],
   "source": [
    "if delta_b_negative:\n",
    "  a0_eq = Eq(-Delta_b * s_s, Delta_s * s_b)\n",
    "else:\n",
    "  a0_eq = Eq(Delta_b * s_s, Delta_s * s_b)\n",
    "a0_eq"
   ]
  },
  {
   "cell_type": "code",
   "execution_count": 145,
   "metadata": {},
   "outputs": [],
   "source": [
    "# if delta_b_negative:\n",
    "#   a0_eq = Eq(-Delta_b / s_b, Delta_s / s_s)\n",
    "# else:\n",
    "#   a0_eq = Eq(Delta_b / s_b, Delta_s / s_s)\n",
    "# a0_eq\n",
    "\n",
    "# same result"
   ]
  },
  {
   "cell_type": "code",
   "execution_count": 146,
   "metadata": {},
   "outputs": [
    {
     "data": {
      "text/latex": [
       "$\\displaystyle l_{b} - \\frac{s_{b}}{w_{b}}$"
      ],
      "text/plain": [
       "l_b - s_b/w_b"
      ]
     },
     "execution_count": 146,
     "metadata": {},
     "output_type": "execute_result"
    }
   ],
   "source": [
    "def deltaBySpot_(asset, s, l, v, b, w, j, e, Delta, a, min):\n",
    "  f = (s - l * w) / w # at this point, this value is negative for buying and positive for selling\n",
    "  # rounding towards zero in all cases, as we are interested in the maximum delta-capacity of a given spot price\n",
    "  if asset == 'b':\n",
    "    if delta_b_negative:\n",
    "      if discrete:\n",
    "        f = ceiling(f)\n",
    "    else:\n",
    "      if discrete:\n",
    "        f = floor(-f)\n",
    "      else:\n",
    "        f = -f\n",
    "\n",
    "  else:\n",
    "    if discrete:\n",
    "      f = floor(f)\n",
    "\n",
    "  if simp:\n",
    "    f = simplify(f)\n",
    "  return f\n",
    "\n",
    "deltaBySpot = {asset: deltaBySpot_(asset, *all_symbols[asset]) for asset in assets}\n",
    "deltaBySpot['b']"
   ]
  },
  {
   "cell_type": "code",
   "execution_count": 147,
   "metadata": {},
   "outputs": [
    {
     "data": {
      "text/latex": [
       "$\\displaystyle - l_{s} + \\frac{s_{s}}{w_{s}}$"
      ],
      "text/plain": [
       "-l_s + s_s/w_s"
      ]
     },
     "execution_count": 147,
     "metadata": {},
     "output_type": "execute_result"
    }
   ],
   "source": [
    "deltaBySpot['s']"
   ]
  },
  {
   "cell_type": "code",
   "execution_count": 148,
   "metadata": {},
   "outputs": [
    {
     "data": {
      "text/latex": [
       "$\\displaystyle \\left\\{- w_{b} \\left(\\Delta_{b} - l_{b}\\right)\\right\\}$"
      ],
      "text/plain": [
       "{-w_b*(Delta_b - l_b)}"
      ]
     },
     "execution_count": 148,
     "metadata": {},
     "output_type": "execute_result"
    }
   ],
   "source": [
    "solveset(Eq(Delta_b, deltaBySpot['b']), s_b)"
   ]
  },
  {
   "cell_type": "code",
   "execution_count": 149,
   "metadata": {},
   "outputs": [
    {
     "data": {
      "text/latex": [
       "$\\displaystyle \\left\\{w_{s} \\left(\\Delta_{s} + l_{s}\\right)\\right\\}$"
      ],
      "text/plain": [
       "{w_s*(Delta_s + l_s)}"
      ]
     },
     "execution_count": 149,
     "metadata": {},
     "output_type": "execute_result"
    }
   ],
   "source": [
    "solveset(Eq(Delta_s, deltaBySpot['s']), s_s)"
   ]
  },
  {
   "cell_type": "code",
   "execution_count": 150,
   "metadata": {},
   "outputs": [
    {
     "data": {
      "text/latex": [
       "$\\displaystyle w_{b} \\left(- \\Delta_{b} + l_{b}\\right)$"
      ],
      "text/plain": [
       "w_b*(-Delta_b + l_b)"
      ]
     },
     "execution_count": 150,
     "metadata": {},
     "output_type": "execute_result"
    }
   ],
   "source": [
    "def spotByDelta_(asset, s, l, v, b, w, j, e, Delta, a, min):\n",
    "  if (not delta_b_negative) and asset == 'b':\n",
    "    f = w * (l - Delta)\n",
    "  else:\n",
    "    f = w * (l + Delta)\n",
    "  if simp:\n",
    "    f = simplify(f)\n",
    "  return f\n",
    "\n",
    "spotByDelta = {asset: spotByDelta_(asset, *all_symbols[asset]) for asset in assets}\n",
    "spotByDelta['b']"
   ]
  },
  {
   "cell_type": "code",
   "execution_count": 151,
   "metadata": {},
   "outputs": [
    {
     "data": {
      "text/latex": [
       "$\\displaystyle w_{s} \\left(\\Delta_{s} + l_{s}\\right)$"
      ],
      "text/plain": [
       "w_s*(Delta_s + l_s)"
      ]
     },
     "execution_count": 151,
     "metadata": {},
     "output_type": "execute_result"
    }
   ],
   "source": [
    "spotByDelta['s']"
   ]
  },
  {
   "cell_type": "code",
   "execution_count": 152,
   "metadata": {},
   "outputs": [
    {
     "data": {
      "text/latex": [
       "$\\displaystyle s_{b}$"
      ],
      "text/plain": [
       "s_b"
      ]
     },
     "execution_count": 152,
     "metadata": {},
     "output_type": "execute_result"
    }
   ],
   "source": [
    "spotByDelta['b'].subs({Delta_b: deltaBySpot['b']})"
   ]
  },
  {
   "cell_type": "code",
   "execution_count": 153,
   "metadata": {},
   "outputs": [
    {
     "data": {
      "text/latex": [
       "$\\displaystyle s_{s}$"
      ],
      "text/plain": [
       "s_s"
      ]
     },
     "execution_count": 153,
     "metadata": {},
     "output_type": "execute_result"
    }
   ],
   "source": [
    "spotByDelta['s'].subs({Delta_s: deltaBySpot['s']})"
   ]
  },
  {
   "cell_type": "code",
   "execution_count": 154,
   "metadata": {},
   "outputs": [
    {
     "data": {
      "text/latex": [
       "$\\displaystyle \\Delta_{b}$"
      ],
      "text/plain": [
       "Delta_b"
      ]
     },
     "execution_count": 154,
     "metadata": {},
     "output_type": "execute_result"
    }
   ],
   "source": [
    "deltaBySpot['b'].subs({s_b: spotByDelta['b']})"
   ]
  },
  {
   "cell_type": "code",
   "execution_count": 155,
   "metadata": {},
   "outputs": [
    {
     "data": {
      "text/latex": [
       "$\\displaystyle \\Delta_{s}$"
      ],
      "text/plain": [
       "Delta_s"
      ]
     },
     "execution_count": 155,
     "metadata": {},
     "output_type": "execute_result"
    }
   ],
   "source": [
    "deltaBySpot['s'].subs({s_s: spotByDelta['s']})"
   ]
  },
  {
   "cell_type": "code",
   "execution_count": 156,
   "metadata": {},
   "outputs": [
    {
     "data": {
      "text/latex": [
       "$\\displaystyle \\Delta_{b} w_{s} \\left(\\Delta_{s} + l_{s}\\right) = \\Delta_{s} w_{b} \\left(- \\Delta_{b} + l_{b}\\right)$"
      ],
      "text/plain": [
       "Eq(Delta_b*w_s*(Delta_s + l_s), Delta_s*w_b*(-Delta_b + l_b))"
      ]
     },
     "execution_count": 156,
     "metadata": {},
     "output_type": "execute_result"
    }
   ],
   "source": [
    "a0_eq.subs({s_b: spotByDelta['b'], s_s: spotByDelta['s']}).simplify()"
   ]
  },
  {
   "cell_type": "code",
   "execution_count": 157,
   "metadata": {},
   "outputs": [
    {
     "data": {
      "text/latex": [
       "$\\displaystyle \\frac{\\Delta_{s} l_{b} w_{b}}{\\Delta_{s} w_{b} + \\Delta_{s} w_{s} + l_{s} w_{s}}$"
      ],
      "text/plain": [
       "Delta_s*l_b*w_b/(Delta_s*w_b + Delta_s*w_s + l_s*w_s)"
      ]
     },
     "execution_count": 157,
     "metadata": {},
     "output_type": "execute_result"
    }
   ],
   "source": [
    "def deltaByDelta_(asset, s, l, v, b, w, j, e, Delta, a, min):\n",
    "  f = solveset(a0_eq.subs({s_b: spotByDelta['b'], s_s: spotByDelta['s']}), Delta)\n",
    "  f = list(f)\n",
    "  assert len(f) == 1\n",
    "  f = f[0]\n",
    "  if discrete:\n",
    "    if asset == 'b':\n",
    "      f = floor(f)\n",
    "    else:\n",
    "      f = ceiling(f)\n",
    "  if simp:\n",
    "    f = simplify(f)\n",
    "  return f\n",
    "\n",
    "deltaByDelta = {asset: deltaByDelta_(asset, *all_symbols[asset]) for asset in assets}\n",
    "deltaByDelta['b']"
   ]
  },
  {
   "cell_type": "code",
   "execution_count": 158,
   "metadata": {},
   "outputs": [
    {
     "data": {
      "text/latex": [
       "$\\displaystyle - \\frac{\\Delta_{b} l_{s} w_{s}}{\\Delta_{b} w_{b} + \\Delta_{b} w_{s} - l_{b} w_{b}}$"
      ],
      "text/plain": [
       "-Delta_b*l_s*w_s/(Delta_b*w_b + Delta_b*w_s - l_b*w_b)"
      ]
     },
     "execution_count": 158,
     "metadata": {},
     "output_type": "execute_result"
    }
   ],
   "source": [
    "deltaByDelta['s']"
   ]
  },
  {
   "cell_type": "code",
   "execution_count": 164,
   "metadata": {},
   "outputs": [
    {
     "name": "stdout",
     "output_type": "stream",
     "text": [
      "-Delta_b*l_s*w_s/(Delta_b*w_b + Delta_b*w_s - l_b*w_b)\n"
     ]
    }
   ],
   "source": [
    "print(deltaByDelta['s'])"
   ]
  },
  {
   "cell_type": "code",
   "execution_count": 159,
   "metadata": {},
   "outputs": [
    {
     "data": {
      "text/latex": [
       "$\\displaystyle - l_{s}$"
      ],
      "text/plain": [
       "-l_s"
      ]
     },
     "execution_count": 159,
     "metadata": {},
     "output_type": "execute_result"
    }
   ],
   "source": [
    "deltaByDelta['s'].subs(Delta_b, l_b) # this would result in a spot price of 0 for b"
   ]
  },
  {
   "cell_type": "code",
   "execution_count": 160,
   "metadata": {},
   "outputs": [
    {
     "data": {
      "text/latex": [
       "$\\displaystyle \\frac{l_{s} w_{s} \\left(1 - l_{b}\\right)}{l_{b} w_{s} - w_{b} - w_{s}}$"
      ],
      "text/plain": [
       "l_s*w_s*(1 - l_b)/(l_b*w_s - w_b - w_s)"
      ]
     },
     "execution_count": 160,
     "metadata": {},
     "output_type": "execute_result"
    }
   ],
   "source": [
    "deltaByDelta['s'].subs(Delta_b, l_b - 1).simplify()"
   ]
  },
  {
   "cell_type": "code",
   "execution_count": 161,
   "metadata": {},
   "outputs": [
    {
     "data": {
      "text/latex": [
       "$\\displaystyle - \\frac{222775799575005472578540727551623365410}{63315596002644082653793}$"
      ],
      "text/plain": [
       "-222775799575005472578540727551623365410/63315596002644082653793"
      ]
     },
     "execution_count": 161,
     "metadata": {},
     "output_type": "execute_result"
    }
   ],
   "source": [
    "deltaByDelta['s'].subs({\n",
    "  Delta_b: 9007199254740990,\n",
    "  l_b: 9007199254740991,\n",
    "  l_s: 3518498026389932,\n",
    "  w_b: 98,\n",
    "  w_s: 28117773\n",
    "  })"
   ]
  },
  {
   "cell_type": "code",
   "execution_count": 162,
   "metadata": {},
   "outputs": [
    {
     "data": {
      "text/latex": [
       "$\\displaystyle \\left\\{\\frac{l_{b} s_{s} w_{b} w_{s}}{- l_{s} w_{b} w_{s} + s_{s} w_{b} + s_{s} w_{s}}\\right\\}$"
      ],
      "text/plain": [
       "{l_b*s_s*w_b*w_s/(-l_s*w_b*w_s + s_s*w_b + s_s*w_s)}"
      ]
     },
     "execution_count": 162,
     "metadata": {},
     "output_type": "execute_result"
    }
   ],
   "source": [
    "def spotBySpot_(asset, s, l, v, b, w, j, e, Delta, a, min):\n",
    "  f = solveset(a0_eq.subs({Delta_b: deltaBySpot['b'], Delta_s: deltaBySpot['s']}), s)\n",
    "  # f = list(f)\n",
    "  # assert len(f) == 1\n",
    "  # f = f[0]\n",
    "  if simp:\n",
    "    f = simplify(f)\n",
    "  return f\n",
    "\n",
    "spotBySpot = {asset: spotBySpot_(asset, *all_symbols[asset]) for asset in assets}\n",
    "spotBySpot['b']"
   ]
  },
  {
   "cell_type": "code",
   "execution_count": 163,
   "metadata": {},
   "outputs": [
    {
     "data": {
      "text/latex": [
       "$\\displaystyle \\left\\{\\frac{l_{s} s_{b} w_{b} w_{s}}{- l_{b} w_{b} w_{s} + s_{b} w_{b} + s_{b} w_{s}}\\right\\}$"
      ],
      "text/plain": [
       "{l_s*s_b*w_b*w_s/(-l_b*w_b*w_s + s_b*w_b + s_b*w_s)}"
      ]
     },
     "execution_count": 163,
     "metadata": {},
     "output_type": "execute_result"
    }
   ],
   "source": [
    "spotBySpot['s']"
   ]
  },
  {
   "cell_type": "code",
   "execution_count": null,
   "metadata": {},
   "outputs": [],
   "source": []
  }
 ],
 "metadata": {
  "kernelspec": {
   "display_name": "Python 3",
   "language": "python",
   "name": "python3"
  },
  "language_info": {
   "codemirror_mode": {
    "name": "ipython",
    "version": 3
   },
   "file_extension": ".py",
   "mimetype": "text/x-python",
   "name": "python",
   "nbconvert_exporter": "python",
   "pygments_lexer": "ipython3",
   "version": "3.9.16"
  }
 },
 "nbformat": 4,
 "nbformat_minor": 2
}
