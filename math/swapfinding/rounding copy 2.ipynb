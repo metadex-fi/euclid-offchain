{
 "cells": [
  {
   "cell_type": "code",
   "execution_count": 1,
   "metadata": {},
   "outputs": [],
   "source": [
    "import plotly.express as px\n",
    "import pandas as pd\n",
    "import math"
   ]
  },
  {
   "cell_type": "code",
   "execution_count": 2,
   "metadata": {},
   "outputs": [],
   "source": [
    "m_b = 5 ** 3 # = 125\n",
    "m_s = 77 ** 2 # = 5929\n",
    "min_delta_b = 10000\n",
    "min_delta_s = 500\n",
    "max_delta_b = 100000\n",
    "max_delta_s = 625"
   ]
  },
  {
   "cell_type": "code",
   "execution_count": 3,
   "metadata": {},
   "outputs": [],
   "source": [
    "perfect = []\n",
    "best_imperfect = []\n",
    "other_imperfect = []\n",
    "delta_b_too_low = []\n",
    "suboptimal_delta_b = []\n",
    "prev_delta_b = None\n",
    "best_imperfect_price = None\n",
    "best_imperfect_interval = []\n",
    "for delta_s in range(min_delta_s, max_delta_s + 1):\n",
    "    delta_b = math.floor(delta_s * m_s / m_b)\n",
    "    price = delta_s / delta_b\n",
    "    if (delta_b > max_delta_b):\n",
    "        delta_b = max_delta_b\n",
    "    if (delta_b < min_delta_b):\n",
    "        delta_b_too_low.append((delta_b, delta_s, price))\n",
    "        continue\n",
    "    if (delta_b == prev_delta_b):\n",
    "        suboptimal_delta_b.append((delta_b, delta_s, price))\n",
    "        continue\n",
    "    prev_delta_b = delta_b\n",
    "    if delta_b * m_b == delta_s * m_s:\n",
    "      perfect.append((delta_b, delta_s, price))\n",
    "      best_imperfect += best_imperfect_interval\n",
    "      best_imperfect_price = None\n",
    "      best_imperfect_interval = []\n",
    "    elif (best_imperfect_price is None):\n",
    "      best_imperfect_price = price\n",
    "      best_imperfect_interval.append((delta_b, delta_s, price))\n",
    "    elif (price == best_imperfect_price):\n",
    "      best_imperfect_interval.append((delta_b, delta_s, price))\n",
    "    elif (price < best_imperfect_price):\n",
    "      best_imperfect_price = price\n",
    "      other_imperfect += best_imperfect_interval\n",
    "      best_imperfect_interval = [(delta_b, delta_s, price)]\n",
    "    else:\n",
    "      other_imperfect.append((delta_b, delta_s, price))\n",
    "    if (delta_b == max_delta_b):\n",
    "        break\n",
    "    \n",
    "best_imperfect += best_imperfect_interval"
   ]
  },
  {
   "cell_type": "code",
   "execution_count": 7,
   "metadata": {},
   "outputs": [
    {
     "data": {
      "application/vnd.plotly.v1+json": {
       "config": {
        "plotlyServerURL": "https://plot.ly"
       },
       "data": [
        {
         "customdata": [
          [
           23716
          ],
          [
           29645
          ]
         ],
         "hovertemplate": "Series=Without rounding errors<br>delta_s=%{x}<br>price=%{y}<br>delta_b=%{customdata[0]}<extra></extra>",
         "legendgroup": "Without rounding errors",
         "marker": {
          "color": "#636efa",
          "symbol": "circle"
         },
         "mode": "markers",
         "name": "Without rounding errors",
         "orientation": "v",
         "showlegend": true,
         "type": "scatter",
         "x": [
          500,
          625
         ],
         "xaxis": "x",
         "y": [
          0.021082813290605497,
          0.021082813290605497
         ],
         "yaxis": "y"
        },
        {
         "customdata": [
          [
           25803
          ]
         ],
         "hovertemplate": "Series=With rounding errors (best)<br>delta_s=%{x}<br>price=%{y}<br>delta_b=%{customdata[0]}<extra></extra>",
         "legendgroup": "With rounding errors (best)",
         "marker": {
          "color": "#EF553B",
          "symbol": "circle"
         },
         "mode": "markers",
         "name": "With rounding errors (best)",
         "orientation": "v",
         "showlegend": true,
         "type": "scatter",
         "x": [
          544
         ],
         "xaxis": "x",
         "y": [
          0.02108281982715188
         ],
         "yaxis": "y"
        },
        {
         "customdata": [
          [
           23810
          ],
          [
           23763
          ],
          [
           23905
          ],
          [
           23858
          ],
          [
           24000
          ],
          [
           23953
          ],
          [
           24095
          ],
          [
           24142
          ],
          [
           24190
          ],
          [
           24237
          ],
          [
           24285
          ],
          [
           24332
          ],
          [
           24380
          ],
          [
           24427
          ],
          [
           24474
          ],
          [
           24522
          ],
          [
           24569
          ],
          [
           24617
          ],
          [
           24664
          ],
          [
           24712
          ],
          [
           24759
          ],
          [
           24806
          ],
          [
           24854
          ],
          [
           24901
          ],
          [
           24949
          ],
          [
           24996
          ],
          [
           25044
          ],
          [
           25091
          ],
          [
           25138
          ],
          [
           25186
          ],
          [
           25233
          ],
          [
           25281
          ],
          [
           25328
          ],
          [
           25376
          ],
          [
           25423
          ],
          [
           25470
          ],
          [
           25518
          ],
          [
           25565
          ],
          [
           25613
          ],
          [
           25660
          ],
          [
           25708
          ],
          [
           25755
          ],
          [
           24048
          ],
          [
           25850
          ],
          [
           25897
          ],
          [
           25945
          ],
          [
           25992
          ],
          [
           26040
          ],
          [
           26087
          ],
          [
           26135
          ],
          [
           26182
          ],
          [
           26229
          ],
          [
           26277
          ],
          [
           26324
          ],
          [
           26372
          ],
          [
           26419
          ],
          [
           26467
          ],
          [
           26514
          ],
          [
           26561
          ],
          [
           26609
          ],
          [
           26656
          ],
          [
           26704
          ],
          [
           26751
          ],
          [
           26799
          ],
          [
           26846
          ],
          [
           26893
          ],
          [
           26941
          ],
          [
           26988
          ],
          [
           27036
          ],
          [
           27083
          ],
          [
           27131
          ],
          [
           27178
          ],
          [
           27225
          ],
          [
           27273
          ],
          [
           27320
          ],
          [
           27368
          ],
          [
           27415
          ],
          [
           27463
          ],
          [
           27510
          ],
          [
           27557
          ],
          [
           27605
          ],
          [
           27652
          ],
          [
           27700
          ],
          [
           27747
          ],
          [
           27795
          ],
          [
           27842
          ],
          [
           27890
          ],
          [
           27937
          ],
          [
           27984
          ],
          [
           28032
          ],
          [
           28079
          ],
          [
           28127
          ],
          [
           28174
          ],
          [
           28222
          ],
          [
           28269
          ],
          [
           28316
          ],
          [
           28364
          ],
          [
           28411
          ],
          [
           28459
          ],
          [
           28506
          ],
          [
           28554
          ],
          [
           28601
          ],
          [
           28648
          ],
          [
           28696
          ],
          [
           28743
          ],
          [
           28791
          ],
          [
           28838
          ],
          [
           28886
          ],
          [
           28933
          ],
          [
           28980
          ],
          [
           29028
          ],
          [
           29075
          ],
          [
           29123
          ],
          [
           29170
          ],
          [
           29218
          ],
          [
           29265
          ],
          [
           29312
          ],
          [
           29360
          ],
          [
           29407
          ],
          [
           29455
          ],
          [
           29502
          ],
          [
           29550
          ],
          [
           29597
          ]
         ],
         "hovertemplate": "Series=With rounding errors (other)<br>delta_s=%{x}<br>price=%{y}<br>delta_b=%{customdata[0]}<extra></extra>",
         "legendgroup": "With rounding errors (other)",
         "marker": {
          "color": "#00cc96",
          "symbol": "circle"
         },
         "mode": "markers",
         "name": "With rounding errors (other)",
         "orientation": "v",
         "showlegend": true,
         "type": "scatter",
         "x": [
          502,
          501,
          504,
          503,
          506,
          505,
          508,
          509,
          510,
          511,
          512,
          513,
          514,
          515,
          516,
          517,
          518,
          519,
          520,
          521,
          522,
          523,
          524,
          525,
          526,
          527,
          528,
          529,
          530,
          531,
          532,
          533,
          534,
          535,
          536,
          537,
          538,
          539,
          540,
          541,
          542,
          543,
          507,
          545,
          546,
          547,
          548,
          549,
          550,
          551,
          552,
          553,
          554,
          555,
          556,
          557,
          558,
          559,
          560,
          561,
          562,
          563,
          564,
          565,
          566,
          567,
          568,
          569,
          570,
          571,
          572,
          573,
          574,
          575,
          576,
          577,
          578,
          579,
          580,
          581,
          582,
          583,
          584,
          585,
          586,
          587,
          588,
          589,
          590,
          591,
          592,
          593,
          594,
          595,
          596,
          597,
          598,
          599,
          600,
          601,
          602,
          603,
          604,
          605,
          606,
          607,
          608,
          609,
          610,
          611,
          612,
          613,
          614,
          615,
          616,
          617,
          618,
          619,
          620,
          621,
          622,
          623,
          624
         ],
         "xaxis": "x",
         "y": [
          0.021083578328433432,
          0.02108319656609014,
          0.021083455344070277,
          0.021083074859585882,
          0.021083333333333332,
          0.021082954118482027,
          0.02108321228470637,
          0.021083588766465083,
          0.02108309218685407,
          0.02108346742583653,
          0.021082973028618487,
          0.021083347032714122,
          0.021082854799015588,
          0.021083227576042904,
          0.02108359892130424,
          0.02108310904493924,
          0.02108347918108185,
          0.021082991428687494,
          0.021083360363282518,
          0.021082874716736807,
          0.021083242457288258,
          0.021083608804321537,
          0.021083125452643438,
          0.02108349062286655,
          0.021083009339051665,
          0.021083373339734358,
          0.021082894106372783,
          0.021083256944721216,
          0.021083618426286897,
          0.021083141427777338,
          0.02108350176356359,
          0.021083026779003994,
          0.021083385975994948,
          0.021082912988650695,
          0.021083271053770208,
          0.021083627797408716,
          0.021083156987224703,
          0.02108351261490319,
          0.021083043766837152,
          0.021083398285268902,
          0.021082931383227012,
          0.021083284799068142,
          0.021082834331337324,
          0.021083172147001936,
          0.021083523188014056,
          0.021083060319907497,
          0.02108341028008618,
          0.02108294930875576,
          0.021083298194503008,
          0.021082839104648938,
          0.02108318692231304,
          0.021083533493461436,
          0.02108307645469422,
          0.02108342197234463,
          0.021082966782951615,
          0.021083311253264694,
          0.02108285789851513,
          0.021083201327600512,
          0.02108354354128233,
          0.02108309218685407,
          0.02108343337334934,
          0.021082983822648293,
          0.021083323987888303,
          0.02108287622672488,
          0.021083215376592416,
          0.021083553341018108,
          0.02108310753127204,
          0.021083444493849118,
          0.02108300044385264,
          0.02108333641029428,
          0.021082894106372783,
          0.021083229082346014,
          0.02108356290174472,
          0.021083122502108313,
          0.021083455344070277,
          0.021083016661794796,
          0.021083348531825644,
          0.02108291155372683,
          0.021083242457288258,
          0.021083572232100736,
          0.021083137112841877,
          0.021083465933748012,
          0.021083032490974728,
          0.021083360363282518,
          0.02108292858427775,
          0.02108325551325336,
          0.021082825385442813,
          0.021083151376310984,
          0.021083476272155517,
          0.02108304794520548,
          0.021083371914954237,
          0.02108294521278487,
          0.021083268261517712,
          0.02108284317199348,
          0.021083165304750788,
          0.021083486368131094,
          0.021083063037653362,
          0.021083383196649184,
          0.02108296145331881,
          0.021083280712832386,
          0.02108286054493241,
          0.02108317890982833,
          0.021083496230103322,
          0.021083077780875384,
          0.021083394217722574,
          0.02108297731930117,
          0.02108329287745336,
          0.021082877518521084,
          0.021083192202675145,
          0.02108350586611456,
          0.02108309218685407,
          0.02108340498710232,
          0.021082992823541532,
          0.021083304765169696,
          0.021082894106372783,
          0.02108320519391765,
          0.021083515283842794,
          0.021083106267029972,
          0.021083415513313157,
          0.02108300797827194,
          0.021083316385329808,
          0.021082910321489002,
          0.021083217893705444
         ],
         "yaxis": "y"
        }
       ],
       "layout": {
        "height": 1600,
        "legend": {
         "title": {
          "text": "Series"
         },
         "tracegroupgap": 0
        },
        "margin": {
         "t": 60
        },
        "template": {
         "data": {
          "bar": [
           {
            "error_x": {
             "color": "#2a3f5f"
            },
            "error_y": {
             "color": "#2a3f5f"
            },
            "marker": {
             "line": {
              "color": "#E5ECF6",
              "width": 0.5
             },
             "pattern": {
              "fillmode": "overlay",
              "size": 10,
              "solidity": 0.2
             }
            },
            "type": "bar"
           }
          ],
          "barpolar": [
           {
            "marker": {
             "line": {
              "color": "#E5ECF6",
              "width": 0.5
             },
             "pattern": {
              "fillmode": "overlay",
              "size": 10,
              "solidity": 0.2
             }
            },
            "type": "barpolar"
           }
          ],
          "carpet": [
           {
            "aaxis": {
             "endlinecolor": "#2a3f5f",
             "gridcolor": "white",
             "linecolor": "white",
             "minorgridcolor": "white",
             "startlinecolor": "#2a3f5f"
            },
            "baxis": {
             "endlinecolor": "#2a3f5f",
             "gridcolor": "white",
             "linecolor": "white",
             "minorgridcolor": "white",
             "startlinecolor": "#2a3f5f"
            },
            "type": "carpet"
           }
          ],
          "choropleth": [
           {
            "colorbar": {
             "outlinewidth": 0,
             "ticks": ""
            },
            "type": "choropleth"
           }
          ],
          "contour": [
           {
            "colorbar": {
             "outlinewidth": 0,
             "ticks": ""
            },
            "colorscale": [
             [
              0,
              "#0d0887"
             ],
             [
              0.1111111111111111,
              "#46039f"
             ],
             [
              0.2222222222222222,
              "#7201a8"
             ],
             [
              0.3333333333333333,
              "#9c179e"
             ],
             [
              0.4444444444444444,
              "#bd3786"
             ],
             [
              0.5555555555555556,
              "#d8576b"
             ],
             [
              0.6666666666666666,
              "#ed7953"
             ],
             [
              0.7777777777777778,
              "#fb9f3a"
             ],
             [
              0.8888888888888888,
              "#fdca26"
             ],
             [
              1,
              "#f0f921"
             ]
            ],
            "type": "contour"
           }
          ],
          "contourcarpet": [
           {
            "colorbar": {
             "outlinewidth": 0,
             "ticks": ""
            },
            "type": "contourcarpet"
           }
          ],
          "heatmap": [
           {
            "colorbar": {
             "outlinewidth": 0,
             "ticks": ""
            },
            "colorscale": [
             [
              0,
              "#0d0887"
             ],
             [
              0.1111111111111111,
              "#46039f"
             ],
             [
              0.2222222222222222,
              "#7201a8"
             ],
             [
              0.3333333333333333,
              "#9c179e"
             ],
             [
              0.4444444444444444,
              "#bd3786"
             ],
             [
              0.5555555555555556,
              "#d8576b"
             ],
             [
              0.6666666666666666,
              "#ed7953"
             ],
             [
              0.7777777777777778,
              "#fb9f3a"
             ],
             [
              0.8888888888888888,
              "#fdca26"
             ],
             [
              1,
              "#f0f921"
             ]
            ],
            "type": "heatmap"
           }
          ],
          "heatmapgl": [
           {
            "colorbar": {
             "outlinewidth": 0,
             "ticks": ""
            },
            "colorscale": [
             [
              0,
              "#0d0887"
             ],
             [
              0.1111111111111111,
              "#46039f"
             ],
             [
              0.2222222222222222,
              "#7201a8"
             ],
             [
              0.3333333333333333,
              "#9c179e"
             ],
             [
              0.4444444444444444,
              "#bd3786"
             ],
             [
              0.5555555555555556,
              "#d8576b"
             ],
             [
              0.6666666666666666,
              "#ed7953"
             ],
             [
              0.7777777777777778,
              "#fb9f3a"
             ],
             [
              0.8888888888888888,
              "#fdca26"
             ],
             [
              1,
              "#f0f921"
             ]
            ],
            "type": "heatmapgl"
           }
          ],
          "histogram": [
           {
            "marker": {
             "pattern": {
              "fillmode": "overlay",
              "size": 10,
              "solidity": 0.2
             }
            },
            "type": "histogram"
           }
          ],
          "histogram2d": [
           {
            "colorbar": {
             "outlinewidth": 0,
             "ticks": ""
            },
            "colorscale": [
             [
              0,
              "#0d0887"
             ],
             [
              0.1111111111111111,
              "#46039f"
             ],
             [
              0.2222222222222222,
              "#7201a8"
             ],
             [
              0.3333333333333333,
              "#9c179e"
             ],
             [
              0.4444444444444444,
              "#bd3786"
             ],
             [
              0.5555555555555556,
              "#d8576b"
             ],
             [
              0.6666666666666666,
              "#ed7953"
             ],
             [
              0.7777777777777778,
              "#fb9f3a"
             ],
             [
              0.8888888888888888,
              "#fdca26"
             ],
             [
              1,
              "#f0f921"
             ]
            ],
            "type": "histogram2d"
           }
          ],
          "histogram2dcontour": [
           {
            "colorbar": {
             "outlinewidth": 0,
             "ticks": ""
            },
            "colorscale": [
             [
              0,
              "#0d0887"
             ],
             [
              0.1111111111111111,
              "#46039f"
             ],
             [
              0.2222222222222222,
              "#7201a8"
             ],
             [
              0.3333333333333333,
              "#9c179e"
             ],
             [
              0.4444444444444444,
              "#bd3786"
             ],
             [
              0.5555555555555556,
              "#d8576b"
             ],
             [
              0.6666666666666666,
              "#ed7953"
             ],
             [
              0.7777777777777778,
              "#fb9f3a"
             ],
             [
              0.8888888888888888,
              "#fdca26"
             ],
             [
              1,
              "#f0f921"
             ]
            ],
            "type": "histogram2dcontour"
           }
          ],
          "mesh3d": [
           {
            "colorbar": {
             "outlinewidth": 0,
             "ticks": ""
            },
            "type": "mesh3d"
           }
          ],
          "parcoords": [
           {
            "line": {
             "colorbar": {
              "outlinewidth": 0,
              "ticks": ""
             }
            },
            "type": "parcoords"
           }
          ],
          "pie": [
           {
            "automargin": true,
            "type": "pie"
           }
          ],
          "scatter": [
           {
            "fillpattern": {
             "fillmode": "overlay",
             "size": 10,
             "solidity": 0.2
            },
            "type": "scatter"
           }
          ],
          "scatter3d": [
           {
            "line": {
             "colorbar": {
              "outlinewidth": 0,
              "ticks": ""
             }
            },
            "marker": {
             "colorbar": {
              "outlinewidth": 0,
              "ticks": ""
             }
            },
            "type": "scatter3d"
           }
          ],
          "scattercarpet": [
           {
            "marker": {
             "colorbar": {
              "outlinewidth": 0,
              "ticks": ""
             }
            },
            "type": "scattercarpet"
           }
          ],
          "scattergeo": [
           {
            "marker": {
             "colorbar": {
              "outlinewidth": 0,
              "ticks": ""
             }
            },
            "type": "scattergeo"
           }
          ],
          "scattergl": [
           {
            "marker": {
             "colorbar": {
              "outlinewidth": 0,
              "ticks": ""
             }
            },
            "type": "scattergl"
           }
          ],
          "scattermapbox": [
           {
            "marker": {
             "colorbar": {
              "outlinewidth": 0,
              "ticks": ""
             }
            },
            "type": "scattermapbox"
           }
          ],
          "scatterpolar": [
           {
            "marker": {
             "colorbar": {
              "outlinewidth": 0,
              "ticks": ""
             }
            },
            "type": "scatterpolar"
           }
          ],
          "scatterpolargl": [
           {
            "marker": {
             "colorbar": {
              "outlinewidth": 0,
              "ticks": ""
             }
            },
            "type": "scatterpolargl"
           }
          ],
          "scatterternary": [
           {
            "marker": {
             "colorbar": {
              "outlinewidth": 0,
              "ticks": ""
             }
            },
            "type": "scatterternary"
           }
          ],
          "surface": [
           {
            "colorbar": {
             "outlinewidth": 0,
             "ticks": ""
            },
            "colorscale": [
             [
              0,
              "#0d0887"
             ],
             [
              0.1111111111111111,
              "#46039f"
             ],
             [
              0.2222222222222222,
              "#7201a8"
             ],
             [
              0.3333333333333333,
              "#9c179e"
             ],
             [
              0.4444444444444444,
              "#bd3786"
             ],
             [
              0.5555555555555556,
              "#d8576b"
             ],
             [
              0.6666666666666666,
              "#ed7953"
             ],
             [
              0.7777777777777778,
              "#fb9f3a"
             ],
             [
              0.8888888888888888,
              "#fdca26"
             ],
             [
              1,
              "#f0f921"
             ]
            ],
            "type": "surface"
           }
          ],
          "table": [
           {
            "cells": {
             "fill": {
              "color": "#EBF0F8"
             },
             "line": {
              "color": "white"
             }
            },
            "header": {
             "fill": {
              "color": "#C8D4E3"
             },
             "line": {
              "color": "white"
             }
            },
            "type": "table"
           }
          ]
         },
         "layout": {
          "annotationdefaults": {
           "arrowcolor": "#2a3f5f",
           "arrowhead": 0,
           "arrowwidth": 1
          },
          "autotypenumbers": "strict",
          "coloraxis": {
           "colorbar": {
            "outlinewidth": 0,
            "ticks": ""
           }
          },
          "colorscale": {
           "diverging": [
            [
             0,
             "#8e0152"
            ],
            [
             0.1,
             "#c51b7d"
            ],
            [
             0.2,
             "#de77ae"
            ],
            [
             0.3,
             "#f1b6da"
            ],
            [
             0.4,
             "#fde0ef"
            ],
            [
             0.5,
             "#f7f7f7"
            ],
            [
             0.6,
             "#e6f5d0"
            ],
            [
             0.7,
             "#b8e186"
            ],
            [
             0.8,
             "#7fbc41"
            ],
            [
             0.9,
             "#4d9221"
            ],
            [
             1,
             "#276419"
            ]
           ],
           "sequential": [
            [
             0,
             "#0d0887"
            ],
            [
             0.1111111111111111,
             "#46039f"
            ],
            [
             0.2222222222222222,
             "#7201a8"
            ],
            [
             0.3333333333333333,
             "#9c179e"
            ],
            [
             0.4444444444444444,
             "#bd3786"
            ],
            [
             0.5555555555555556,
             "#d8576b"
            ],
            [
             0.6666666666666666,
             "#ed7953"
            ],
            [
             0.7777777777777778,
             "#fb9f3a"
            ],
            [
             0.8888888888888888,
             "#fdca26"
            ],
            [
             1,
             "#f0f921"
            ]
           ],
           "sequentialminus": [
            [
             0,
             "#0d0887"
            ],
            [
             0.1111111111111111,
             "#46039f"
            ],
            [
             0.2222222222222222,
             "#7201a8"
            ],
            [
             0.3333333333333333,
             "#9c179e"
            ],
            [
             0.4444444444444444,
             "#bd3786"
            ],
            [
             0.5555555555555556,
             "#d8576b"
            ],
            [
             0.6666666666666666,
             "#ed7953"
            ],
            [
             0.7777777777777778,
             "#fb9f3a"
            ],
            [
             0.8888888888888888,
             "#fdca26"
            ],
            [
             1,
             "#f0f921"
            ]
           ]
          },
          "colorway": [
           "#636efa",
           "#EF553B",
           "#00cc96",
           "#ab63fa",
           "#FFA15A",
           "#19d3f3",
           "#FF6692",
           "#B6E880",
           "#FF97FF",
           "#FECB52"
          ],
          "font": {
           "color": "#2a3f5f"
          },
          "geo": {
           "bgcolor": "white",
           "lakecolor": "white",
           "landcolor": "#E5ECF6",
           "showlakes": true,
           "showland": true,
           "subunitcolor": "white"
          },
          "hoverlabel": {
           "align": "left"
          },
          "hovermode": "closest",
          "mapbox": {
           "style": "light"
          },
          "paper_bgcolor": "white",
          "plot_bgcolor": "#E5ECF6",
          "polar": {
           "angularaxis": {
            "gridcolor": "white",
            "linecolor": "white",
            "ticks": ""
           },
           "bgcolor": "#E5ECF6",
           "radialaxis": {
            "gridcolor": "white",
            "linecolor": "white",
            "ticks": ""
           }
          },
          "scene": {
           "xaxis": {
            "backgroundcolor": "#E5ECF6",
            "gridcolor": "white",
            "gridwidth": 2,
            "linecolor": "white",
            "showbackground": true,
            "ticks": "",
            "zerolinecolor": "white"
           },
           "yaxis": {
            "backgroundcolor": "#E5ECF6",
            "gridcolor": "white",
            "gridwidth": 2,
            "linecolor": "white",
            "showbackground": true,
            "ticks": "",
            "zerolinecolor": "white"
           },
           "zaxis": {
            "backgroundcolor": "#E5ECF6",
            "gridcolor": "white",
            "gridwidth": 2,
            "linecolor": "white",
            "showbackground": true,
            "ticks": "",
            "zerolinecolor": "white"
           }
          },
          "shapedefaults": {
           "line": {
            "color": "#2a3f5f"
           }
          },
          "ternary": {
           "aaxis": {
            "gridcolor": "white",
            "linecolor": "white",
            "ticks": ""
           },
           "baxis": {
            "gridcolor": "white",
            "linecolor": "white",
            "ticks": ""
           },
           "bgcolor": "#E5ECF6",
           "caxis": {
            "gridcolor": "white",
            "linecolor": "white",
            "ticks": ""
           }
          },
          "title": {
           "x": 0.05
          },
          "xaxis": {
           "automargin": true,
           "gridcolor": "white",
           "linecolor": "white",
           "ticks": "",
           "title": {
            "standoff": 15
           },
           "zerolinecolor": "white",
           "zerolinewidth": 2
          },
          "yaxis": {
           "automargin": true,
           "gridcolor": "white",
           "linecolor": "white",
           "ticks": "",
           "title": {
            "standoff": 15
           },
           "zerolinecolor": "white",
           "zerolinewidth": 2
          }
         }
        },
        "title": {
         "text": "effective price by delta selling"
        },
        "xaxis": {
         "anchor": "y",
         "domain": [
          0,
          1
         ],
         "title": {
          "text": "Delta_s"
         }
        },
        "yaxis": {
         "anchor": "x",
         "domain": [
          0,
          1
         ],
         "title": {
          "text": "Price"
         }
        }
       }
      }
     },
     "metadata": {},
     "output_type": "display_data"
    }
   ],
   "source": [
    "# Convert your data lists to Pandas DataFrames for easier handling\n",
    "df1 = pd.DataFrame(perfect, columns=['delta_b', 'delta_s', 'price'])\n",
    "df2 = pd.DataFrame(best_imperfect, columns=['delta_b', 'delta_s', 'price'])\n",
    "df3 = pd.DataFrame(other_imperfect, columns=['delta_b', 'delta_s', 'price'])\n",
    "df4 = pd.DataFrame(delta_b_too_low, columns=['delta_b', 'delta_s', 'price'])\n",
    "df5 = pd.DataFrame(suboptimal_delta_b, columns=['delta_b', 'delta_s', 'price'])\n",
    "\n",
    "# Combine the dataframes with an identifier column\n",
    "df1['Series'] = 'Without rounding errors'\n",
    "df2['Series'] = 'With rounding errors (best)'\n",
    "df3['Series'] = 'With rounding errors (other)'\n",
    "df4['Series'] = 'Delta_b too low'\n",
    "df5['Series'] = 'Delta_b suboptimal'\n",
    "combined_df = pd.concat([df1, df2, df3, df4, df5])\n",
    "\n",
    "# Create an interactive scatter plot\n",
    "fig = px.scatter(combined_df, x='delta_s', y='price', color='Series',\n",
    "                 hover_data=['delta_b', 'delta_s', 'price'])\n",
    "\n",
    "# Add plot titles and labels\n",
    "fig.update_layout(title='effective price by delta selling',\n",
    "                  xaxis_title='Delta_s',\n",
    "                  yaxis_title='Price',\n",
    "                  height=1600)\n",
    "\n",
    "# fig.update_yaxes(range=[combined_df['price'].min(), combined_df['price'].max()])  # Adjust the range as needed\n",
    "\n",
    "# Sort the DataFrame by 'ratio' in descending order\n",
    "# sorted_df = combined_df.sort_values(by='price', ascending=False)\n",
    "\n",
    "# Adding a line that connects the dots in decreasing order of their y-value\n",
    "# fig.add_trace(px.line(sorted_df, x='delta_b', y='price').data[0])\n",
    "\n",
    "# Show the plot\n",
    "fig.show()\n"
   ]
  },
  {
   "cell_type": "markdown",
   "metadata": {},
   "source": [
    "## We note\n",
    "\n",
    "### certain periodicities:\n",
    "\n",
    "those staggered \"downward-slopes\":\n",
    "- repeat with multiples of 7 delta_selling, which is the smallest prime factor of m_s\n",
    "- they repeat 6 times\n",
    "- the last \"lowest point\" and the first on of each of those \"series\" differ by 2\n",
    "\n",
    "those staggered \"upwards-slopes\":\n",
    "- are 3 per perfect-optimum-interval\n",
    "- the optima are at the beginning of one\n",
    "- their points repeat with 7 = m_s delta_selling\n",
    "\n",
    "### and:\n",
    "- it appears the bounds only make the interval smaller, but don't remove anything from within\n",
    "  - → this means: if we don't find a perfect solution, we can assume we are within one of those perfect-solution-intervals\n",
    "- perfect-solution-intervals are all the same size (125 = m_b delta_selling)\n",
    "- the best imperfect solution per perfect-solution-interval is always offset by 44 delta_selling from the beginning of that interval\n",
    "  - 44 = 5 * 7 - 1, where 7 is the smallest prime-factor of m_s and 5 the smallest prime-factor of m_b\n",
    "- the second best is offset by 88 = 44 * 2\n",
    "- 7 = 44 * 3 - 125 (44 * 3 = 132)\n",
    "- -> it appears we can get increasing effective prices within such an interval by\n",
    "  - iterating over those upwards-slopes, which are staggered by 44 delta_selling\n",
    "  - see if their first value is within our delta-intervals -> if it is, we got the best solution\n",
    "  - if it is not, increase the point by 7 (for next time it is visited), and continue with the next slope\n",
    "- we can further optimize it by (note: didn't work so well):\n",
    "  - let \"start\" and \"end\" be the delta_sellings for the perfect solutions defining the interval in question\n",
    "  - let \"current\" = \"start\"\n",
    "  - repeat the following until the first valid delta_selling is found and return it as best solution:\n",
    "    - if current is too small (regarding delta_selling or delta_buying or both): \n",
    "      - current += 44\n",
    "    - if current is too big (regarding delta_selling or delta_buying or both): \n",
    "      - current -= 125"
   ]
  },
  {
   "cell_type": "code",
   "execution_count": 5,
   "metadata": {},
   "outputs": [
    {
     "data": {
      "text/plain": [
       "132"
      ]
     },
     "execution_count": 5,
     "metadata": {},
     "output_type": "execute_result"
    }
   ],
   "source": [
    "44 * 3"
   ]
  },
  {
   "cell_type": "code",
   "execution_count": null,
   "metadata": {},
   "outputs": [],
   "source": []
  }
 ],
 "metadata": {
  "kernelspec": {
   "display_name": "Python 3",
   "language": "python",
   "name": "python3"
  },
  "language_info": {
   "codemirror_mode": {
    "name": "ipython",
    "version": 3
   },
   "file_extension": ".py",
   "mimetype": "text/x-python",
   "name": "python",
   "nbconvert_exporter": "python",
   "pygments_lexer": "ipython3",
   "version": "3.9.16"
  }
 },
 "nbformat": 4,
 "nbformat_minor": 2
}
